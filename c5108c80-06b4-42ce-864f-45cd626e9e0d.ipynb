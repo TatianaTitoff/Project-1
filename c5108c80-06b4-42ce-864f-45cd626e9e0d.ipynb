{
 "cells": [
  {
   "cell_type": "markdown",
   "metadata": {},
   "source": [
    "<div style=\"border:solid Chocolate 2px; padding: 40px\">\n",
    "\n",
    "<b> Татьяна, привет!👋</b>\n",
    "\n",
    "Меня зовут Алексей Гриб, и я буду ревьюером твоего проекта. \n",
    "\n",
    "Сразу хочу предложить в дальнейшем общаться на \"ты\" - надеюсь, так будет комфортнее:) Но если это неудобно, обязательно дай знать, и мы придумаем что-нибудь ещё!\n",
    "    \n",
    "Цель ревью - не искать ошибки в твоём проекте, а помочь тебе сделать твою работу ещё лучше, устранив недочёты и приблизив её к реальным задачам специалиста по работе с данными. Поэтому не расстраивайся, если что-то не получилось с первого раза - это нормально, и это поможет тебе вырасти!\n",
    "    \n",
    "Ты можешь найти мои комментарии, обозначенные <font color='green'>зеленым</font>, <font color='gold'>желтым</font> и <font color='red'>красным</font> цветами, например:\n",
    "\n",
    "<br/>\n",
    "\n",
    "<div class=\"alert alert-success\">\n",
    "<h2> Комментарий ревьюера <a class=\"tocSkip\"> </h2>\n",
    "\n",
    "<b>Все отлично!👍:</b> похвала, рекомендации «со звёздочкой», полезные лайфхаки, которые сделают и без того красивое решение ещё более элегантным.\n",
    "</div>\n",
    "\n",
    "<br/>\n",
    "\n",
    "<div class=\"alert alert-warning\">\n",
    "    <h2> Комментарий ревьюера <a class=\"tocSkip\"> </h2>\n",
    "    \n",
    "<b>Некоторые замечания и рекомендации⚠️:</b> некритичные ошибки или развивающие рекомендации на будущее. \n",
    "</div>\n",
    "\n",
    "\n",
    "<br/>\n",
    "<div class=\"alert alert-block alert-danger\">\n",
    "<h2> Комментарий ревьюера <a class=\"tocSkip\"></h2>\n",
    "\n",
    "    \n",
    "<b>На доработку❌:</b>\n",
    "Критичные ошибки, которые обязательно нужно исправить.\n",
    "</div>\n",
    "\n",
    "Я не смогу принять проект, если в нём будет хотя бы одна критичная ошибка или несколько некритичных ошибок - тогда проект нужно будет немного доработать. Но это нестрашно - я обязательно дам тебе подсказку или укажу верное направление.\n",
    "    \n",
    "Пожалуйста, не удаляй мои комментарии, они будут особенно полезны для нашей работы в случае повторной проверки проекта. \n",
    "    \n",
    "Ты также можешь задавать свои вопросы, реагировать на мои комментарии, делать пометки и пояснения - полная творческая свобода! Но маленькая просьба - пускай они будут отличаться от моих комментариев, это поможет избежать путаницы в нашем общении:)\n",
    "Например, вот так:\n",
    "    \n",
    "<div class=\"alert alert-info\">\n",
    "<h2> Комментарий студента <a class=\"tocSkip\"> </h2>\n",
    "\n",
    "*твой текст*\n",
    "</div>\n",
    "    \n",
    "Давай посмотрим на твой проект!"
   ]
  },
  {
   "cell_type": "markdown",
   "metadata": {
    "toc": true
   },
   "source": [
    "<h1>Содержание<span class=\"tocSkip\"></span></h1>\n",
    "<div class=\"toc\"><ul class=\"toc-item\"><li><span><a href=\"#Подготовка-данных\" data-toc-modified-id=\"Подготовка-данных-1\"><span class=\"toc-item-num\">1&nbsp;&nbsp;</span>Подготовка данных</a></span></li><li><span><a href=\"#Анализ-данных\" data-toc-modified-id=\"Анализ-данных-2\"><span class=\"toc-item-num\">2&nbsp;&nbsp;</span>Анализ данных</a></span><ul class=\"toc-item\"><li><span><a href=\"#Распределение-металлов-в-сырье\" data-toc-modified-id=\"Распределение-металлов-в-сырье-2.1\"><span class=\"toc-item-num\">2.1&nbsp;&nbsp;</span>Распределение металлов в сырье</a></span></li><li><span><a href=\"#Распределение-металлов-на-этапе-флотации\" data-toc-modified-id=\"Распределение-металлов-на-этапе-флотации-2.2\"><span class=\"toc-item-num\">2.2&nbsp;&nbsp;</span>Распределение металлов на этапе флотации</a></span></li><li><span><a href=\"#Распределение-металлов-после-первичной-очистки.\" data-toc-modified-id=\"Распределение-металлов-после-первичной-очистки.-2.3\"><span class=\"toc-item-num\">2.3&nbsp;&nbsp;</span>Распределение металлов после первичной очистки.</a></span></li><li><span><a href=\"#Распределение-металлов-после-финальной-очистки.\" data-toc-modified-id=\"Распределение-металлов-после-финальной-очистки.-2.4\"><span class=\"toc-item-num\">2.4&nbsp;&nbsp;</span>Распределение металлов после финальной очистки.</a></span></li><li><span><a href=\"#Распределения-размеров-гранул-сырья-на-обучающей-и-тестовой-выборках.\" data-toc-modified-id=\"Распределения-размеров-гранул-сырья-на-обучающей-и-тестовой-выборках.-2.5\"><span class=\"toc-item-num\">2.5&nbsp;&nbsp;</span>Распределения размеров гранул сырья на обучающей и тестовой выборках.</a></span></li><li><span><a href=\"#Исследование-суммарной-концентрации-всех-веществ-на-разных-стадиях:-в-сырье,-в-черновом-и-финальном-концентратах.\" data-toc-modified-id=\"Исследование-суммарной-концентрации-всех-веществ-на-разных-стадиях:-в-сырье,-в-черновом-и-финальном-концентратах.-2.6\"><span class=\"toc-item-num\">2.6&nbsp;&nbsp;</span>Исследование суммарной концентрации всех веществ на разных стадиях: в сырье, в черновом и финальном концентратах.</a></span></li></ul></li><li><span><a href=\"#Модель\" data-toc-modified-id=\"Модель-3\"><span class=\"toc-item-num\">3&nbsp;&nbsp;</span>Модель</a></span></li><li><span><a href=\"#Проверка-лучшей-модели-на-тестовой-выборке.\" data-toc-modified-id=\"Проверка-лучшей-модели-на-тестовой-выборке.-4\"><span class=\"toc-item-num\">4&nbsp;&nbsp;</span>Проверка лучшей модели на тестовой выборке.</a></span></li><li><span><a href=\"#Сравнение-с-константной-моделью.\" data-toc-modified-id=\"Сравнение-с-константной-моделью.-5\"><span class=\"toc-item-num\">5&nbsp;&nbsp;</span>Сравнение с константной моделью.</a></span></li><li><span><a href=\"#Выводы.\" data-toc-modified-id=\"Выводы.-6\"><span class=\"toc-item-num\">6&nbsp;&nbsp;</span>Выводы.</a></span></li></ul></div>"
   ]
  },
  {
   "cell_type": "markdown",
   "metadata": {},
   "source": [
    "# Восстановление золота из руды"
   ]
  },
  {
   "cell_type": "markdown",
   "metadata": {},
   "source": [
    "Подготовьте прототип модели машинного обучения для «Цифры». Компания разрабатывает решения для эффективной работы промышленных предприятий.\n",
    "\n",
    "Модель должна предсказать коэффициент восстановления золота из золотосодержащей руды. Используйте данные с параметрами добычи и очистки. \n",
    "\n",
    "Модель поможет оптимизировать производство, чтобы не запускать предприятие с убыточными характеристиками.\n",
    "\n",
    "Вам нужно:\n",
    "\n",
    "1. Подготовить данные;\n",
    "2. Провести исследовательский анализ данных;\n",
    "3. Построить и обучить модель.\n",
    "\n",
    "Чтобы выполнить проект, обращайтесь к библиотекам *pandas*, *matplotlib* и *sklearn.* Вам поможет их документация."
   ]
  },
  {
   "cell_type": "markdown",
   "metadata": {},
   "source": [
    "<h1>План работы над проектом:<span class=\"tocSkip\"></span></h1>\n",
    "\n",
    "1. Подготовьте данные\n",
    "\n",
    "1.1. Откройте файлы и изучите их.\n",
    "\n",
    "Путь к файлам:\n",
    "\n",
    "/datasets/gold_industry_train.csv. Скачать датасет\n",
    "\n",
    "/datasets/gold_industry_test.csv. Скачать датасет\n",
    "\n",
    "/datasets/gold_industry_full.csv. Скачать датасет\n",
    "\n",
    "1.2. Проверьте, что эффективность обогащения рассчитана правильно. \n",
    "Вычислите её на обучающей выборке для признака rougher.output.recovery. Найдите MAE между вашими расчётами и значением признака. Опишите выводы.\n",
    "\n",
    "1.3. Проанализируйте признаки, недоступные в тестовой выборке. Что это за параметры? К какому типу относятся?\n",
    "\n",
    "1.4. Проведите предобработку данных.\n",
    "\n",
    "2. Проанализируйте данные\n",
    "\n",
    "2.1. Посмотрите, как меняется концентрация металлов (Au, Ag, Pb) на различных этапах: в сырье, в черновом концентрате, в концентрате после первой очистки и в финальном концентрате. Какие особенности имеют распределения? Опишите выводы.\n",
    "\n",
    "2.2.  Сравните распределения размеров гранул исходного сырья на обучающей и тестовой выборках. Если распределения сильно отличаются друг от друга, оценка модели будет неправильной.\n",
    "\n",
    "2.3. Исследуйте суммарную концентрацию металлов на разных стадиях: в сырье, в черновом концентрате, в концентрате после первой очистки и в финальном концентрате.\n",
    "\n",
    "3. Постройте модель\n",
    "\n",
    "3.1. Напишите функцию для вычисления итоговой sMAPE.\n",
    "\n",
    "3.2. Обучите разные модели и оцените их качество кросс-валидацией. Выберите лучшую модель и проверьте её на тестовой выборке. Опишите выводы."
   ]
  },
  {
   "cell_type": "markdown",
   "metadata": {},
   "source": [
    "<div class=\"alert alert-success\">\n",
    "<h2> Комментарий ревьюера <a class=\"tocSkip\"> </h2>\n",
    "\n",
    "<b>Все отлично!👍:</b> Хорошее вступление!\n",
    "    \n",
    "В нём есть всё, что необходимо, чтобы понять суть проекта с первых строк отчёта!"
   ]
  },
  {
   "cell_type": "markdown",
   "metadata": {},
   "source": [
    "## Подготовка данных"
   ]
  },
  {
   "cell_type": "code",
   "execution_count": 1,
   "metadata": {},
   "outputs": [],
   "source": [
    "#импортируем библиотеки\n",
    "import pandas as pd\n",
    "from sklearn.metrics import mean_absolute_error\n",
    "from sklearn.metrics import mean_squared_error\n",
    "import numpy as np \n",
    "import matplotlib.pyplot as plt\n",
    "import seaborn as sns\n",
    "from sklearn.ensemble import RandomForestRegressor\n",
    "from sklearn.preprocessing import StandardScaler, MinMaxScaler\n",
    "from sklearn.linear_model import LinearRegression\n",
    "from sklearn.tree import DecisionTreeRegressor\n",
    "from sklearn.dummy import DummyRegressor\n",
    "from sklearn.model_selection import cross_val_score\n",
    "from sklearn.model_selection import GridSearchCV\n",
    "from sklearn.pipeline import Pipeline\n",
    "from sklearn.metrics import make_scorer\n",
    "from sklearn.pipeline import  make_pipeline\n",
    "from numpy import arange\n",
    "from sklearn.linear_model import Lasso, LassoCV\n",
    "from sklearn.pipeline import Pipeline\n",
    "from sklearn. model_selection import RepeatedKFold\n",
    "import warnings\n",
    "warnings.filterwarnings(\"ignore\")"
   ]
  },
  {
   "cell_type": "markdown",
   "metadata": {},
   "source": [
    "<div class=\"alert alert-success\">\n",
    "<h2> Комментарий ревьюера <a class=\"tocSkip\"> </h2>\n",
    "\n",
    "<b>Все отлично!👍:</b> Библиотеки импортировали - отлично!"
   ]
  },
  {
   "cell_type": "markdown",
   "metadata": {},
   "source": [
    "Загружаем выборки из файлов. Изучим информацию о данных."
   ]
  },
  {
   "cell_type": "code",
   "execution_count": 2,
   "metadata": {},
   "outputs": [],
   "source": [
    "try:\n",
    "    train=pd.read_csv('/datasets/gold_industry_train.csv', parse_dates = ['date'])\n",
    "    test=pd.read_csv('/datasets/gold_industry_test.csv', parse_dates = ['date'])\n",
    "    full=pd.read_csv('/datasets/gold_industry_full.csv', parse_dates = ['date']) \n",
    "except:\n",
    "    print('Unknown Error')"
   ]
  },
  {
   "cell_type": "markdown",
   "metadata": {},
   "source": [
    "<div class=\"alert alert-success\">\n",
    "<h2> Комментарий ревьюера <a class=\"tocSkip\"> </h2>\n",
    "\n",
    "<b>Все отлично!👍</b> \n",
    "    \n",
    "Данные загрузили. Круто, что сразу делаешь дату индексом:)\n",
    "    \n",
    "При считывании данных из файла здорово перестраховывать себя от ошибок, связанных, например, с неверным указанием пути к файлу. А иногда бывает, что работаешь с файлом локально, выгружаешь его на сервер, ожидая, что он будет принимать данные, которые лежат на том же сервере, а код падает с ошибкой, потому что путь к файлу не поменялся с локального на серверный.\n",
    "    \n",
    "Для этого, например, можно использовать конструкцию `try-except`: сначала пробуешь локальный путь, при возникновении ошибки используется серверный путь (подробнее можешь почитать тут: https://pythonworld.ru/tipy-dannyx-v-python/isklyucheniya-v-python-konstrukciya-try-except-dlya-obrabotki-isklyuchenij.html).\n",
    "    \n",
    "Но еще лучше использовать библиотеку `os` - её использование позволит тебе проверять существование указанных директорий (что может быть актуально при одновременной работа на локальном и сетевом окружении) и загружать данные из существующей директории, избегая ошибок. Как пример:\n",
    "    \n",
    "    import os\n",
    "\n",
    "    pth1 = '/folder_1/data.csv'\n",
    "    pth2 = '/folder_2/data.csv'\n",
    "    \n",
    "    if os.path.exists(pth1):\n",
    "        query_1 = pd.read_csv(pth1)\n",
    "    elif os.path.exists(pth2):\n",
    "        query_1 = pd.read_csv(pth2)\n",
    "    else:\n",
    "        print('Something is wrong')"
   ]
  },
  {
   "cell_type": "code",
   "execution_count": 3,
   "metadata": {},
   "outputs": [
    {
     "name": "stdout",
     "output_type": "stream",
     "text": [
      "<class 'pandas.core.frame.DataFrame'>\n",
      "RangeIndex: 14579 entries, 0 to 14578\n",
      "Data columns (total 87 columns):\n",
      " #   Column                                              Non-Null Count  Dtype         \n",
      "---  ------                                              --------------  -----         \n",
      " 0   date                                                14579 non-null  datetime64[ns]\n",
      " 1   rougher.input.feed_au                               14579 non-null  float64       \n",
      " 2   rougher.input.feed_ag                               14579 non-null  float64       \n",
      " 3   rougher.input.feed_pb                               14507 non-null  float64       \n",
      " 4   rougher.input.feed_sol                              14502 non-null  float64       \n",
      " 5   rougher.input.feed_rate                             14572 non-null  float64       \n",
      " 6   rougher.input.feed_size                             14478 non-null  float64       \n",
      " 7   rougher.input.floatbank10_sulfate                   14548 non-null  float64       \n",
      " 8   rougher.input.floatbank10_xanthate                  14572 non-null  float64       \n",
      " 9   rougher.state.floatbank10_a_air                     14579 non-null  float64       \n",
      " 10  rougher.state.floatbank10_a_level                   14579 non-null  float64       \n",
      " 11  rougher.state.floatbank10_b_air                     14579 non-null  float64       \n",
      " 12  rougher.state.floatbank10_b_level                   14579 non-null  float64       \n",
      " 13  rougher.state.floatbank10_c_air                     14579 non-null  float64       \n",
      " 14  rougher.state.floatbank10_c_level                   14579 non-null  float64       \n",
      " 15  rougher.state.floatbank10_d_air                     14579 non-null  float64       \n",
      " 16  rougher.state.floatbank10_d_level                   14579 non-null  float64       \n",
      " 17  rougher.state.floatbank10_e_air                     14150 non-null  float64       \n",
      " 18  rougher.state.floatbank10_e_level                   14579 non-null  float64       \n",
      " 19  rougher.state.floatbank10_f_air                     14579 non-null  float64       \n",
      " 20  rougher.state.floatbank10_f_level                   14579 non-null  float64       \n",
      " 21  rougher.input.floatbank11_sulfate                   14543 non-null  float64       \n",
      " 22  rougher.input.floatbank11_xanthate                  14172 non-null  float64       \n",
      " 23  rougher.calculation.sulfate_to_au_concentrate       14578 non-null  float64       \n",
      " 24  rougher.calculation.floatbank10_sulfate_to_au_feed  14578 non-null  float64       \n",
      " 25  rougher.calculation.floatbank11_sulfate_to_au_feed  14578 non-null  float64       \n",
      " 26  rougher.calculation.au_pb_ratio                     14579 non-null  float64       \n",
      " 27  rougher.output.concentrate_au                       14579 non-null  float64       \n",
      " 28  rougher.output.concentrate_ag                       14579 non-null  float64       \n",
      " 29  rougher.output.concentrate_pb                       14579 non-null  float64       \n",
      " 30  rougher.output.concentrate_sol                      14561 non-null  float64       \n",
      " 31  rougher.output.recovery                             14579 non-null  float64       \n",
      " 32  rougher.output.tail_au                              14579 non-null  float64       \n",
      " 33  rougher.output.tail_ag                              14578 non-null  float64       \n",
      " 34  rougher.output.tail_pb                              14579 non-null  float64       \n",
      " 35  rougher.output.tail_sol                             14579 non-null  float64       \n",
      " 36  primary_cleaner.input.sulfate                       14556 non-null  float64       \n",
      " 37  primary_cleaner.input.depressant                    14551 non-null  float64       \n",
      " 38  primary_cleaner.input.feed_size                     14579 non-null  float64       \n",
      " 39  primary_cleaner.input.xanthate                      14518 non-null  float64       \n",
      " 40  primary_cleaner.state.floatbank8_a_air              14576 non-null  float64       \n",
      " 41  primary_cleaner.state.floatbank8_a_level            14579 non-null  float64       \n",
      " 42  primary_cleaner.state.floatbank8_b_air              14576 non-null  float64       \n",
      " 43  primary_cleaner.state.floatbank8_b_level            14579 non-null  float64       \n",
      " 44  primary_cleaner.state.floatbank8_c_air              14579 non-null  float64       \n",
      " 45  primary_cleaner.state.floatbank8_c_level            14579 non-null  float64       \n",
      " 46  primary_cleaner.state.floatbank8_d_air              14578 non-null  float64       \n",
      " 47  primary_cleaner.state.floatbank8_d_level            14579 non-null  float64       \n",
      " 48  primary_cleaner.output.concentrate_au               14579 non-null  float64       \n",
      " 49  primary_cleaner.output.concentrate_ag               14579 non-null  float64       \n",
      " 50  primary_cleaner.output.concentrate_pb               14491 non-null  float64       \n",
      " 51  primary_cleaner.output.concentrate_sol              14314 non-null  float64       \n",
      " 52  primary_cleaner.output.tail_au                      14579 non-null  float64       \n",
      " 53  primary_cleaner.output.tail_ag                      14575 non-null  float64       \n",
      " 54  primary_cleaner.output.tail_pb                      14573 non-null  float64       \n",
      " 55  primary_cleaner.output.tail_sol                     14534 non-null  float64       \n",
      " 56  secondary_cleaner.state.floatbank2_a_air            14485 non-null  float64       \n",
      " 57  secondary_cleaner.state.floatbank2_a_level          14579 non-null  float64       \n",
      " 58  secondary_cleaner.state.floatbank2_b_air            14557 non-null  float64       \n",
      " 59  secondary_cleaner.state.floatbank2_b_level          14579 non-null  float64       \n",
      " 60  secondary_cleaner.state.floatbank3_a_air            14567 non-null  float64       \n",
      " 61  secondary_cleaner.state.floatbank3_a_level          14579 non-null  float64       \n",
      " 62  secondary_cleaner.state.floatbank3_b_air            14579 non-null  float64       \n",
      " 63  secondary_cleaner.state.floatbank3_b_level          14579 non-null  float64       \n",
      " 64  secondary_cleaner.state.floatbank4_a_air            14574 non-null  float64       \n",
      " 65  secondary_cleaner.state.floatbank4_a_level          14579 non-null  float64       \n",
      " 66  secondary_cleaner.state.floatbank4_b_air            14579 non-null  float64       \n",
      " 67  secondary_cleaner.state.floatbank4_b_level          14579 non-null  float64       \n",
      " 68  secondary_cleaner.state.floatbank5_a_air            14579 non-null  float64       \n",
      " 69  secondary_cleaner.state.floatbank5_a_level          14579 non-null  float64       \n",
      " 70  secondary_cleaner.state.floatbank5_b_air            14579 non-null  float64       \n",
      " 71  secondary_cleaner.state.floatbank5_b_level          14579 non-null  float64       \n",
      " 72  secondary_cleaner.state.floatbank6_a_air            14578 non-null  float64       \n",
      " 73  secondary_cleaner.state.floatbank6_a_level          14579 non-null  float64       \n",
      " 74  secondary_cleaner.output.tail_au                    14579 non-null  float64       \n",
      " 75  secondary_cleaner.output.tail_ag                    14578 non-null  float64       \n",
      " 76  secondary_cleaner.output.tail_pb                    14575 non-null  float64       \n",
      " 77  secondary_cleaner.output.tail_sol                   13659 non-null  float64       \n",
      " 78  final.output.concentrate_au                         14579 non-null  float64       \n",
      " 79  final.output.concentrate_ag                         14578 non-null  float64       \n",
      " 80  final.output.concentrate_pb                         14578 non-null  float64       \n",
      " 81  final.output.concentrate_sol                        14387 non-null  float64       \n",
      " 82  final.output.recovery                               14579 non-null  float64       \n",
      " 83  final.output.tail_au                                14579 non-null  float64       \n",
      " 84  final.output.tail_ag                                14578 non-null  float64       \n",
      " 85  final.output.tail_pb                                14504 non-null  float64       \n",
      " 86  final.output.tail_sol                               14574 non-null  float64       \n",
      "dtypes: datetime64[ns](1), float64(86)\n",
      "memory usage: 9.7 MB\n"
     ]
    }
   ],
   "source": [
    "train.info()"
   ]
  },
  {
   "cell_type": "code",
   "execution_count": 4,
   "metadata": {},
   "outputs": [
    {
     "name": "stdout",
     "output_type": "stream",
     "text": [
      "<class 'pandas.core.frame.DataFrame'>\n",
      "RangeIndex: 4860 entries, 0 to 4859\n",
      "Data columns (total 53 columns):\n",
      " #   Column                                      Non-Null Count  Dtype         \n",
      "---  ------                                      --------------  -----         \n",
      " 0   date                                        4860 non-null   datetime64[ns]\n",
      " 1   rougher.input.feed_au                       4860 non-null   float64       \n",
      " 2   rougher.input.feed_ag                       4860 non-null   float64       \n",
      " 3   rougher.input.feed_pb                       4832 non-null   float64       \n",
      " 4   rougher.input.feed_sol                      4838 non-null   float64       \n",
      " 5   rougher.input.feed_rate                     4856 non-null   float64       \n",
      " 6   rougher.input.feed_size                     4816 non-null   float64       \n",
      " 7   rougher.input.floatbank10_sulfate           4857 non-null   float64       \n",
      " 8   rougher.input.floatbank10_xanthate          4859 non-null   float64       \n",
      " 9   rougher.state.floatbank10_a_air             4859 non-null   float64       \n",
      " 10  rougher.state.floatbank10_a_level           4859 non-null   float64       \n",
      " 11  rougher.state.floatbank10_b_air             4859 non-null   float64       \n",
      " 12  rougher.state.floatbank10_b_level           4859 non-null   float64       \n",
      " 13  rougher.state.floatbank10_c_air             4859 non-null   float64       \n",
      " 14  rougher.state.floatbank10_c_level           4859 non-null   float64       \n",
      " 15  rougher.state.floatbank10_d_air             4860 non-null   float64       \n",
      " 16  rougher.state.floatbank10_d_level           4860 non-null   float64       \n",
      " 17  rougher.state.floatbank10_e_air             4853 non-null   float64       \n",
      " 18  rougher.state.floatbank10_e_level           4860 non-null   float64       \n",
      " 19  rougher.state.floatbank10_f_air             4860 non-null   float64       \n",
      " 20  rougher.state.floatbank10_f_level           4860 non-null   float64       \n",
      " 21  rougher.input.floatbank11_sulfate           4852 non-null   float64       \n",
      " 22  rougher.input.floatbank11_xanthate          4814 non-null   float64       \n",
      " 23  primary_cleaner.input.sulfate               4859 non-null   float64       \n",
      " 24  primary_cleaner.input.depressant            4851 non-null   float64       \n",
      " 25  primary_cleaner.input.feed_size             4860 non-null   float64       \n",
      " 26  primary_cleaner.input.xanthate              4817 non-null   float64       \n",
      " 27  primary_cleaner.state.floatbank8_a_air      4859 non-null   float64       \n",
      " 28  primary_cleaner.state.floatbank8_a_level    4859 non-null   float64       \n",
      " 29  primary_cleaner.state.floatbank8_b_air      4859 non-null   float64       \n",
      " 30  primary_cleaner.state.floatbank8_b_level    4859 non-null   float64       \n",
      " 31  primary_cleaner.state.floatbank8_c_air      4858 non-null   float64       \n",
      " 32  primary_cleaner.state.floatbank8_c_level    4859 non-null   float64       \n",
      " 33  primary_cleaner.state.floatbank8_d_air      4858 non-null   float64       \n",
      " 34  primary_cleaner.state.floatbank8_d_level    4859 non-null   float64       \n",
      " 35  secondary_cleaner.state.floatbank2_a_air    4734 non-null   float64       \n",
      " 36  secondary_cleaner.state.floatbank2_a_level  4859 non-null   float64       \n",
      " 37  secondary_cleaner.state.floatbank2_b_air    4859 non-null   float64       \n",
      " 38  secondary_cleaner.state.floatbank2_b_level  4859 non-null   float64       \n",
      " 39  secondary_cleaner.state.floatbank3_a_air    4859 non-null   float64       \n",
      " 40  secondary_cleaner.state.floatbank3_a_level  4859 non-null   float64       \n",
      " 41  secondary_cleaner.state.floatbank3_b_air    4859 non-null   float64       \n",
      " 42  secondary_cleaner.state.floatbank3_b_level  4859 non-null   float64       \n",
      " 43  secondary_cleaner.state.floatbank4_a_air    4859 non-null   float64       \n",
      " 44  secondary_cleaner.state.floatbank4_a_level  4859 non-null   float64       \n",
      " 45  secondary_cleaner.state.floatbank4_b_air    4859 non-null   float64       \n",
      " 46  secondary_cleaner.state.floatbank4_b_level  4859 non-null   float64       \n",
      " 47  secondary_cleaner.state.floatbank5_a_air    4859 non-null   float64       \n",
      " 48  secondary_cleaner.state.floatbank5_a_level  4859 non-null   float64       \n",
      " 49  secondary_cleaner.state.floatbank5_b_air    4859 non-null   float64       \n",
      " 50  secondary_cleaner.state.floatbank5_b_level  4859 non-null   float64       \n",
      " 51  secondary_cleaner.state.floatbank6_a_air    4859 non-null   float64       \n",
      " 52  secondary_cleaner.state.floatbank6_a_level  4859 non-null   float64       \n",
      "dtypes: datetime64[ns](1), float64(52)\n",
      "memory usage: 2.0 MB\n"
     ]
    }
   ],
   "source": [
    "test.info()"
   ]
  },
  {
   "cell_type": "code",
   "execution_count": 5,
   "metadata": {},
   "outputs": [
    {
     "name": "stdout",
     "output_type": "stream",
     "text": [
      "<class 'pandas.core.frame.DataFrame'>\n",
      "RangeIndex: 19439 entries, 0 to 19438\n",
      "Data columns (total 87 columns):\n",
      " #   Column                                              Non-Null Count  Dtype         \n",
      "---  ------                                              --------------  -----         \n",
      " 0   date                                                19439 non-null  datetime64[ns]\n",
      " 1   rougher.input.feed_au                               19439 non-null  float64       \n",
      " 2   rougher.input.feed_ag                               19439 non-null  float64       \n",
      " 3   rougher.input.feed_pb                               19339 non-null  float64       \n",
      " 4   rougher.input.feed_sol                              19340 non-null  float64       \n",
      " 5   rougher.input.feed_rate                             19428 non-null  float64       \n",
      " 6   rougher.input.feed_size                             19294 non-null  float64       \n",
      " 7   rougher.input.floatbank10_sulfate                   19405 non-null  float64       \n",
      " 8   rougher.input.floatbank10_xanthate                  19431 non-null  float64       \n",
      " 9   rougher.state.floatbank10_a_air                     19438 non-null  float64       \n",
      " 10  rougher.state.floatbank10_a_level                   19438 non-null  float64       \n",
      " 11  rougher.state.floatbank10_b_air                     19438 non-null  float64       \n",
      " 12  rougher.state.floatbank10_b_level                   19438 non-null  float64       \n",
      " 13  rougher.state.floatbank10_c_air                     19438 non-null  float64       \n",
      " 14  rougher.state.floatbank10_c_level                   19438 non-null  float64       \n",
      " 15  rougher.state.floatbank10_d_air                     19439 non-null  float64       \n",
      " 16  rougher.state.floatbank10_d_level                   19439 non-null  float64       \n",
      " 17  rougher.state.floatbank10_e_air                     19003 non-null  float64       \n",
      " 18  rougher.state.floatbank10_e_level                   19439 non-null  float64       \n",
      " 19  rougher.state.floatbank10_f_air                     19439 non-null  float64       \n",
      " 20  rougher.state.floatbank10_f_level                   19439 non-null  float64       \n",
      " 21  rougher.input.floatbank11_sulfate                   19395 non-null  float64       \n",
      " 22  rougher.input.floatbank11_xanthate                  18986 non-null  float64       \n",
      " 23  rougher.calculation.sulfate_to_au_concentrate       19437 non-null  float64       \n",
      " 24  rougher.calculation.floatbank10_sulfate_to_au_feed  19437 non-null  float64       \n",
      " 25  rougher.calculation.floatbank11_sulfate_to_au_feed  19437 non-null  float64       \n",
      " 26  rougher.calculation.au_pb_ratio                     19439 non-null  float64       \n",
      " 27  rougher.output.concentrate_au                       19439 non-null  float64       \n",
      " 28  rougher.output.concentrate_ag                       19439 non-null  float64       \n",
      " 29  rougher.output.concentrate_pb                       19439 non-null  float64       \n",
      " 30  rougher.output.concentrate_sol                      19416 non-null  float64       \n",
      " 31  rougher.output.recovery                             19439 non-null  float64       \n",
      " 32  rougher.output.tail_au                              19439 non-null  float64       \n",
      " 33  rougher.output.tail_ag                              19438 non-null  float64       \n",
      " 34  rougher.output.tail_pb                              19439 non-null  float64       \n",
      " 35  rougher.output.tail_sol                             19439 non-null  float64       \n",
      " 36  primary_cleaner.input.sulfate                       19415 non-null  float64       \n",
      " 37  primary_cleaner.input.depressant                    19402 non-null  float64       \n",
      " 38  primary_cleaner.input.feed_size                     19439 non-null  float64       \n",
      " 39  primary_cleaner.input.xanthate                      19335 non-null  float64       \n",
      " 40  primary_cleaner.state.floatbank8_a_air              19435 non-null  float64       \n",
      " 41  primary_cleaner.state.floatbank8_a_level            19438 non-null  float64       \n",
      " 42  primary_cleaner.state.floatbank8_b_air              19435 non-null  float64       \n",
      " 43  primary_cleaner.state.floatbank8_b_level            19438 non-null  float64       \n",
      " 44  primary_cleaner.state.floatbank8_c_air              19437 non-null  float64       \n",
      " 45  primary_cleaner.state.floatbank8_c_level            19438 non-null  float64       \n",
      " 46  primary_cleaner.state.floatbank8_d_air              19436 non-null  float64       \n",
      " 47  primary_cleaner.state.floatbank8_d_level            19438 non-null  float64       \n",
      " 48  primary_cleaner.output.concentrate_au               19439 non-null  float64       \n",
      " 49  primary_cleaner.output.concentrate_ag               19439 non-null  float64       \n",
      " 50  primary_cleaner.output.concentrate_pb               19323 non-null  float64       \n",
      " 51  primary_cleaner.output.concentrate_sol              19069 non-null  float64       \n",
      " 52  primary_cleaner.output.tail_au                      19439 non-null  float64       \n",
      " 53  primary_cleaner.output.tail_ag                      19435 non-null  float64       \n",
      " 54  primary_cleaner.output.tail_pb                      19418 non-null  float64       \n",
      " 55  primary_cleaner.output.tail_sol                     19377 non-null  float64       \n",
      " 56  secondary_cleaner.state.floatbank2_a_air            19219 non-null  float64       \n",
      " 57  secondary_cleaner.state.floatbank2_a_level          19438 non-null  float64       \n",
      " 58  secondary_cleaner.state.floatbank2_b_air            19416 non-null  float64       \n",
      " 59  secondary_cleaner.state.floatbank2_b_level          19438 non-null  float64       \n",
      " 60  secondary_cleaner.state.floatbank3_a_air            19426 non-null  float64       \n",
      " 61  secondary_cleaner.state.floatbank3_a_level          19438 non-null  float64       \n",
      " 62  secondary_cleaner.state.floatbank3_b_air            19438 non-null  float64       \n",
      " 63  secondary_cleaner.state.floatbank3_b_level          19438 non-null  float64       \n",
      " 64  secondary_cleaner.state.floatbank4_a_air            19433 non-null  float64       \n",
      " 65  secondary_cleaner.state.floatbank4_a_level          19438 non-null  float64       \n",
      " 66  secondary_cleaner.state.floatbank4_b_air            19438 non-null  float64       \n",
      " 67  secondary_cleaner.state.floatbank4_b_level          19438 non-null  float64       \n",
      " 68  secondary_cleaner.state.floatbank5_a_air            19438 non-null  float64       \n",
      " 69  secondary_cleaner.state.floatbank5_a_level          19438 non-null  float64       \n",
      " 70  secondary_cleaner.state.floatbank5_b_air            19438 non-null  float64       \n",
      " 71  secondary_cleaner.state.floatbank5_b_level          19438 non-null  float64       \n",
      " 72  secondary_cleaner.state.floatbank6_a_air            19437 non-null  float64       \n",
      " 73  secondary_cleaner.state.floatbank6_a_level          19438 non-null  float64       \n",
      " 74  secondary_cleaner.output.tail_au                    19439 non-null  float64       \n",
      " 75  secondary_cleaner.output.tail_ag                    19437 non-null  float64       \n",
      " 76  secondary_cleaner.output.tail_pb                    19427 non-null  float64       \n",
      " 77  secondary_cleaner.output.tail_sol                   17691 non-null  float64       \n",
      " 78  final.output.concentrate_au                         19439 non-null  float64       \n",
      " 79  final.output.concentrate_ag                         19438 non-null  float64       \n",
      " 80  final.output.concentrate_pb                         19438 non-null  float64       \n",
      " 81  final.output.concentrate_sol                        19228 non-null  float64       \n",
      " 82  final.output.recovery                               19439 non-null  float64       \n",
      " 83  final.output.tail_au                                19439 non-null  float64       \n",
      " 84  final.output.tail_ag                                19438 non-null  float64       \n",
      " 85  final.output.tail_pb                                19338 non-null  float64       \n",
      " 86  final.output.tail_sol                               19433 non-null  float64       \n",
      "dtypes: datetime64[ns](1), float64(86)\n",
      "memory usage: 12.9 MB\n"
     ]
    }
   ],
   "source": [
    "full.info()"
   ]
  },
  {
   "cell_type": "markdown",
   "metadata": {},
   "source": [
    "В полной и обучающей выборках по 87 столбцов, в тестовой 53. В данных есть пропуски. Некоторые параметры недоступны, потому что замеряются и/или рассчитываются значительно позже. Из-за этого в тестовой выборке отсутствуют некоторые признаки, которые могут быть в обучающей. "
   ]
  },
  {
   "cell_type": "code",
   "execution_count": 6,
   "metadata": {},
   "outputs": [
    {
     "data": {
      "text/plain": [
       "date                                        0.000000\n",
       "rougher.output.tail_pb                      0.000000\n",
       "rougher.output.tail_sol                     0.000000\n",
       "primary_cleaner.input.feed_size             0.000000\n",
       "primary_cleaner.state.floatbank8_a_level    0.000000\n",
       "                                              ...   \n",
       "final.output.concentrate_sol                0.013170\n",
       "primary_cleaner.output.concentrate_sol      0.018177\n",
       "rougher.input.floatbank11_xanthate          0.027917\n",
       "rougher.state.floatbank10_e_air             0.029426\n",
       "secondary_cleaner.output.tail_sol           0.063104\n",
       "Length: 87, dtype: float64"
      ]
     },
     "execution_count": 6,
     "metadata": {},
     "output_type": "execute_result"
    }
   ],
   "source": [
    "train.isna().sum().sort_values()/len(train)"
   ]
  },
  {
   "cell_type": "markdown",
   "metadata": {},
   "source": [
    "В обучающей выборкеой пропущено не более 6,3% информации в каждом из столбцов. Сочтем возможным удалить такие строки для определения эффективности обогащения. "
   ]
  },
  {
   "cell_type": "code",
   "execution_count": 7,
   "metadata": {},
   "outputs": [],
   "source": [
    "#recovery = train.dropna().reset_index() \n",
    "#len(recovery)/len(train)\n",
    "#recovery = train"
   ]
  },
  {
   "cell_type": "code",
   "execution_count": 8,
   "metadata": {},
   "outputs": [],
   "source": [
    "#recovery.shape"
   ]
  },
  {
   "cell_type": "markdown",
   "metadata": {},
   "source": [
    "Всего удалилось 15,4% данных из обучающей выборки."
   ]
  },
  {
   "cell_type": "markdown",
   "metadata": {},
   "source": [
    "<div class=\"alert alert-warning\">\n",
    "    <h2> Комментарий ревьюера <a class=\"tocSkip\"> </h2>\n",
    "    \n",
    "<b>Некоторые замечания и рекомендации⚠️:</b> \n",
    "Удаление пропусков, тем не менее, лишает нас части данных для обучения модели - в нашем случае мы потеряли довольно большой кусок данных.\n",
    "        \n",
    "Лучше использовать методы заполнения предыдущим или следующим значением (из условий проекта мы знаем, что соседние значения похожи) или использовать инструменты машинного обучения для заполнения пропусков из семейства `sklearn.impute`."
   ]
  },
  {
   "cell_type": "markdown",
   "metadata": {},
   "source": [
    "Проверим, что эффективность обогащения рассчитана правильно. Вычислим её на обучающей выборке для признака rougher.output.recovery. Найдем MAE между вашими расчётами и значением признака. Опишем выводы."
   ]
  },
  {
   "cell_type": "code",
   "execution_count": 9,
   "metadata": {},
   "outputs": [],
   "source": [
    "rougher_output_recovery=train['rougher.output.recovery']\n",
    "rougher_output_tail_au=train['rougher.output.tail_au']\n",
    "rougher_input_feed_au=train['rougher.input.feed_au']\n",
    "rougher_output_concentrate_au=train['rougher.output.concentrate_au']"
   ]
  },
  {
   "cell_type": "markdown",
   "metadata": {},
   "source": [
    "Напишем функцию для определения эффективности обогащения."
   ]
  },
  {
   "cell_type": "code",
   "execution_count": 10,
   "metadata": {},
   "outputs": [],
   "source": [
    "def calc_rougher_output_recovery(rougher_output_concentrate,rougher_input_feed,rougher_output_tail):\n",
    "    calc_rougher_output_recovery=abs((rougher_output_concentrate_au*(rougher_input_feed_au-rougher_output_tail_au))/(rougher_input_feed_au*(rougher_output_concentrate_au-rougher_output_tail_au)))*100\n",
    "    return calc_rougher_output_recovery"
   ]
  },
  {
   "cell_type": "code",
   "execution_count": 11,
   "metadata": {},
   "outputs": [],
   "source": [
    "calc_rougher_output_recovery = calc_rougher_output_recovery(rougher_output_concentrate_au, rougher_input_feed_au,rougher_output_tail_au)\n"
   ]
  },
  {
   "cell_type": "code",
   "execution_count": 12,
   "metadata": {},
   "outputs": [
    {
     "data": {
      "text/plain": [
       "count    14579.000000\n",
       "mean        82.521200\n",
       "std         15.797521\n",
       "min          0.000000\n",
       "25%         80.558542\n",
       "50%         85.946497\n",
       "75%         89.960375\n",
       "max        100.000000\n",
       "Name: rougher.output.recovery, dtype: float64"
      ]
     },
     "execution_count": 12,
     "metadata": {},
     "output_type": "execute_result"
    }
   ],
   "source": [
    "train['rougher.output.recovery'].describe()"
   ]
  },
  {
   "cell_type": "markdown",
   "metadata": {},
   "source": [
    " Найдем MAE между нашими расчётами и значением признака."
   ]
  },
  {
   "cell_type": "code",
   "execution_count": 13,
   "metadata": {},
   "outputs": [
    {
     "data": {
      "text/plain": [
       "9.83758577644259e-15"
      ]
     },
     "execution_count": 13,
     "metadata": {},
     "output_type": "execute_result"
    }
   ],
   "source": [
    "mean_absolute_error (calc_rougher_output_recovery, rougher_output_recovery)"
   ]
  },
  {
   "cell_type": "code",
   "execution_count": 14,
   "metadata": {},
   "outputs": [
    {
     "data": {
      "text/plain": [
       "0.0"
      ]
     },
     "execution_count": 14,
     "metadata": {},
     "output_type": "execute_result"
    }
   ],
   "source": [
    "round(mean_absolute_error(calc_rougher_output_recovery, rougher_output_recovery), 5)"
   ]
  },
  {
   "cell_type": "markdown",
   "metadata": {},
   "source": [
    "Абсолютное среднее получило значение близкое к 0, это значит, что расчеты можно считать корректными."
   ]
  },
  {
   "cell_type": "markdown",
   "metadata": {},
   "source": [
    "<div class=\"alert alert-block alert-danger\">\n",
    "<h2> Комментарий ревьюера <a class=\"tocSkip\"></h2>\n",
    "\n",
    "    \n",
    "<b>На доработку❌:</b>\n",
    "\n",
    "Обрати внимание, что `MAE` составила не `9.9`, а `9.9e-15`, то есть это значение настолько близкое к нулю, что после запятой цифры, отличные от нуля, начинаются только с пятнадцатого знака - эта ошибка, как правило, обсусловлена ошибкой округления при ручных расчётах. Вывод стоит подправить."
   ]
  },
  {
   "cell_type": "markdown",
   "metadata": {},
   "source": [
    "<div class=\"alert alert-success\">\n",
    "<h2> Комментарий ревьюера v.2 <a class=\"tocSkip\"> </h2>\n",
    "\n",
    "<b>Все отлично!👍:</b> Учтено."
   ]
  },
  {
   "cell_type": "markdown",
   "metadata": {},
   "source": [
    "Проанализируем признаки, недоступные в тестовой выборке. Что это за параметры? К какому типу относятся?"
   ]
  },
  {
   "cell_type": "code",
   "execution_count": 15,
   "metadata": {},
   "outputs": [
    {
     "data": {
      "text/plain": [
       "26                          final.output.concentrate_ag\n",
       "11                          final.output.concentrate_au\n",
       "16                          final.output.concentrate_pb\n",
       "18                         final.output.concentrate_sol\n",
       "20                                final.output.recovery\n",
       "32                                 final.output.tail_ag\n",
       "12                                 final.output.tail_au\n",
       "17                                 final.output.tail_pb\n",
       "7                                 final.output.tail_sol\n",
       "2                 primary_cleaner.output.concentrate_ag\n",
       "10                primary_cleaner.output.concentrate_au\n",
       "24                primary_cleaner.output.concentrate_pb\n",
       "14               primary_cleaner.output.concentrate_sol\n",
       "21                       primary_cleaner.output.tail_ag\n",
       "19                       primary_cleaner.output.tail_au\n",
       "3                        primary_cleaner.output.tail_pb\n",
       "8                       primary_cleaner.output.tail_sol\n",
       "33                      rougher.calculation.au_pb_ratio\n",
       "22    rougher.calculation.floatbank10_sulfate_to_au_...\n",
       "31    rougher.calculation.floatbank11_sulfate_to_au_...\n",
       "15        rougher.calculation.sulfate_to_au_concentrate\n",
       "23                        rougher.output.concentrate_ag\n",
       "6                         rougher.output.concentrate_au\n",
       "27                        rougher.output.concentrate_pb\n",
       "28                       rougher.output.concentrate_sol\n",
       "9                               rougher.output.recovery\n",
       "4                                rougher.output.tail_ag\n",
       "13                               rougher.output.tail_au\n",
       "25                               rougher.output.tail_pb\n",
       "0                               rougher.output.tail_sol\n",
       "1                      secondary_cleaner.output.tail_ag\n",
       "29                     secondary_cleaner.output.tail_au\n",
       "30                     secondary_cleaner.output.tail_pb\n",
       "5                     secondary_cleaner.output.tail_sol\n",
       "dtype: object"
      ]
     },
     "execution_count": 15,
     "metadata": {},
     "output_type": "execute_result"
    }
   ],
   "source": [
    "missing_cols=list(set(full.columns)-set(test.columns))\n",
    "missing_cols=pd.Series(missing_cols)\n",
    "missing_cols.sort_values()"
   ]
  },
  {
   "cell_type": "markdown",
   "metadata": {},
   "source": [
    "Отсутствующие столбцы в тестовой выборке - это выходные признаки после каждого технологического этапа.Среди них и наши целевые признаки final.output.recovery и rougher.output.recovery. Они понадобятся для подсчета метрики sMAPE."
   ]
  },
  {
   "cell_type": "markdown",
   "metadata": {},
   "source": [
    "<div class=\"alert alert-success\">\n",
    "<h2> Комментарий ревьюера <a class=\"tocSkip\"> </h2>\n",
    "\n",
    "<b>Все отлично!👍:</b> Проанализировали разницу в признаках между выборками. "
   ]
  },
  {
   "cell_type": "markdown",
   "metadata": {},
   "source": [
    "<div class=\"alert alert-block alert-danger\">\n",
    "<h2> Комментарий ревьюера <a class=\"tocSkip\"></h2>\n",
    "\n",
    "    \n",
    "<b>На доработку❌:</b> Здесь стоит вспомнить разницу между онлайн и оффлайн метриками: исходя из понимания, что тестовая выборка имитирует работу модели в реальных условиях протекания технологического процесса, давай подумаем, почему в `train` есть признаки, которые недоступны в `test`?\n",
    "    \n",
    "Нужно сделать вывод о причине расхожедния количества признаков между `train` и `test`."
   ]
  },
  {
   "cell_type": "markdown",
   "metadata": {},
   "source": [
    "<div class=\"alert alert-success\">\n",
    "<h2> Комментарий ревьюера v.2 <a class=\"tocSkip\"> </h2>\n",
    "\n",
    "<b>Все отлично!👍:</b> Учтено."
   ]
  },
  {
   "cell_type": "markdown",
   "metadata": {},
   "source": [
    "Тестовая выборка, вероятно, создана на основе данных, пока не участвовавших в реальных технологических процессах, а потому в ней отсутствуют признаки, выявляемые после определенного технологического этапа, а также признаки, требующие калькуляции над такими признаками."
   ]
  },
  {
   "cell_type": "markdown",
   "metadata": {},
   "source": [
    "Предобработка данных."
   ]
  },
  {
   "cell_type": "code",
   "execution_count": 16,
   "metadata": {},
   "outputs": [
    {
     "data": {
      "text/plain": [
       "'Процент пропусков в обучающей выборке'"
      ]
     },
     "metadata": {},
     "output_type": "display_data"
    },
    {
     "data": {
      "text/plain": [
       "secondary_cleaner.state.floatbank3_a_air    0.082310\n",
       "rougher.output.concentrate_sol              0.123465\n",
       "secondary_cleaner.state.floatbank2_b_air    0.150902\n",
       "primary_cleaner.input.sulfate               0.157761\n",
       "primary_cleaner.input.depressant            0.192057\n",
       "rougher.input.floatbank10_sulfate           0.212635\n",
       "rougher.input.floatbank11_sulfate           0.246931\n",
       "primary_cleaner.output.tail_sol             0.308663\n",
       "primary_cleaner.input.xanthate              0.418410\n",
       "rougher.input.feed_pb                       0.493861\n",
       "final.output.tail_pb                        0.514439\n",
       "rougher.input.feed_sol                      0.528157\n",
       "primary_cleaner.output.concentrate_pb       0.603608\n",
       "secondary_cleaner.state.floatbank2_a_air    0.644763\n",
       "rougher.input.feed_size                     0.692777\n",
       "final.output.concentrate_sol                1.316963\n",
       "primary_cleaner.output.concentrate_sol      1.817683\n",
       "rougher.input.floatbank11_xanthate          2.791687\n",
       "rougher.state.floatbank10_e_air             2.942589\n",
       "secondary_cleaner.output.tail_sol           6.310447\n",
       "dtype: float64"
      ]
     },
     "execution_count": 16,
     "metadata": {},
     "output_type": "execute_result"
    }
   ],
   "source": [
    "display(\"Процент пропусков в обучающей выборке\")\n",
    "(train.isna().sum().sort_values()*100/len(train)).tail(20)"
   ]
  },
  {
   "cell_type": "code",
   "execution_count": 17,
   "metadata": {},
   "outputs": [
    {
     "data": {
      "text/plain": [
       "'Процент пропусков в полной выборке'"
      ]
     },
     "metadata": {},
     "output_type": "display_data"
    },
    {
     "data": {
      "text/plain": [
       "primary_cleaner.output.tail_pb              0.108030\n",
       "rougher.output.concentrate_sol              0.118319\n",
       "secondary_cleaner.state.floatbank2_b_air    0.118319\n",
       "primary_cleaner.input.sulfate               0.123463\n",
       "rougher.input.floatbank10_sulfate           0.174906\n",
       "primary_cleaner.input.depressant            0.190339\n",
       "rougher.input.floatbank11_sulfate           0.226349\n",
       "primary_cleaner.output.tail_sol             0.318946\n",
       "rougher.input.feed_sol                      0.509285\n",
       "rougher.input.feed_pb                       0.514430\n",
       "final.output.tail_pb                        0.519574\n",
       "primary_cleaner.input.xanthate              0.535007\n",
       "primary_cleaner.output.concentrate_pb       0.596739\n",
       "rougher.input.feed_size                     0.745923\n",
       "final.output.concentrate_sol                1.085447\n",
       "secondary_cleaner.state.floatbank2_a_air    1.131745\n",
       "primary_cleaner.output.concentrate_sol      1.903390\n",
       "rougher.state.floatbank10_e_air             2.242914\n",
       "rougher.input.floatbank11_xanthate          2.330367\n",
       "secondary_cleaner.output.tail_sol           8.992232\n",
       "dtype: float64"
      ]
     },
     "execution_count": 17,
     "metadata": {},
     "output_type": "execute_result"
    }
   ],
   "source": [
    "display(\"Процент пропусков в полной выборке\")\n",
    "(full.isna().sum().sort_values()*100/len(full)).tail(20)"
   ]
  },
  {
   "cell_type": "markdown",
   "metadata": {},
   "source": [
    "Наибольшее количество пропусков наблюдается в столбцах, обозначающих выходные признаки после каждого технологического этапа. По условиям задачи соседние по времени параметры часто похожи. Заполним пропуски значениями, стоящими на строку выше пропущенных."
   ]
  },
  {
   "cell_type": "code",
   "execution_count": 18,
   "metadata": {},
   "outputs": [],
   "source": [
    "full=full.fillna(method='ffill')\n",
    "train=train.fillna(method='ffill') "
   ]
  },
  {
   "cell_type": "code",
   "execution_count": 19,
   "metadata": {},
   "outputs": [
    {
     "data": {
      "text/plain": [
       "date                                                  0\n",
       "secondary_cleaner.state.floatbank3_b_air              0\n",
       "secondary_cleaner.state.floatbank3_a_level            0\n",
       "secondary_cleaner.state.floatbank3_a_air              0\n",
       "secondary_cleaner.state.floatbank2_b_level            0\n",
       "                                                     ..\n",
       "rougher.calculation.floatbank11_sulfate_to_au_feed    0\n",
       "rougher.calculation.floatbank10_sulfate_to_au_feed    0\n",
       "rougher.calculation.sulfate_to_au_concentrate         0\n",
       "rougher.output.recovery                               0\n",
       "final.output.tail_sol                                 0\n",
       "Length: 87, dtype: int64"
      ]
     },
     "execution_count": 19,
     "metadata": {},
     "output_type": "execute_result"
    }
   ],
   "source": [
    "full.isna().sum().sort_values()"
   ]
  },
  {
   "cell_type": "code",
   "execution_count": 20,
   "metadata": {},
   "outputs": [
    {
     "data": {
      "text/plain": [
       "date                                                  0\n",
       "secondary_cleaner.state.floatbank3_b_air              0\n",
       "secondary_cleaner.state.floatbank3_a_level            0\n",
       "secondary_cleaner.state.floatbank3_a_air              0\n",
       "secondary_cleaner.state.floatbank2_b_level            0\n",
       "                                                     ..\n",
       "rougher.calculation.floatbank11_sulfate_to_au_feed    0\n",
       "rougher.calculation.floatbank10_sulfate_to_au_feed    0\n",
       "rougher.calculation.sulfate_to_au_concentrate         0\n",
       "rougher.output.recovery                               0\n",
       "final.output.tail_sol                                 0\n",
       "Length: 87, dtype: int64"
      ]
     },
     "execution_count": 20,
     "metadata": {},
     "output_type": "execute_result"
    }
   ],
   "source": [
    "train.isna().sum().sort_values()"
   ]
  },
  {
   "cell_type": "markdown",
   "metadata": {},
   "source": [
    "Пропуски в обучающих и тестовых выборках заполнены."
   ]
  },
  {
   "cell_type": "markdown",
   "metadata": {},
   "source": [
    "<div class=\"alert alert-success\">\n",
    "<h2> Комментарий ревьюера <a class=\"tocSkip\"> </h2>\n",
    "\n",
    "<b>Все отлично!👍:</b> Обработали пропуски с помощью стратегии заполнения `forward fill`, а также пояснили причину выбора такой стратегии - отлично!\n",
    "</div>"
   ]
  },
  {
   "cell_type": "markdown",
   "metadata": {},
   "source": [
    "<div class=\"alert alert-warning\">\n",
    "    <h2> Комментарий ревьюера <a class=\"tocSkip\"> </h2>\n",
    "\n",
    "<b>Некоторые замечания и рекомендации⚠️:</b> \n",
    "\n",
    "Здесь заканчивается стрктурный блок работы - стоит сделать промежуточные выводы о проделанной работе в блоке."
   ]
  },
  {
   "cell_type": "markdown",
   "metadata": {},
   "source": [
    "## Анализ данных"
   ]
  },
  {
   "cell_type": "markdown",
   "metadata": {},
   "source": [
    "Посмотрим, как меняется концентрация металлов (Au, Ag, Pb) на различных этапах очистки. Для этого создадим датасеты с концентрациями металлов на этапах флотации, первичной и финальной очистках."
   ]
  },
  {
   "cell_type": "code",
   "execution_count": 21,
   "metadata": {},
   "outputs": [],
   "source": [
    "train_size0=len(train)\n",
    "concetrates_primary=[]\n",
    "concetrates_primary=pd.DataFrame(concetrates_primary)\n",
    "concetrates_primary['rougher.input.feed_ag'] = full['rougher.input.feed_ag']\n",
    "concetrates_primary['rougher.input.feed_pb'] = full['rougher.input.feed_pb']\n",
    "concetrates_primary['rougher.input.feed_sol'] = full['rougher.input.feed_sol']\n",
    "concetrates_primary['rougher.input.feed_au'] = full['rougher.input.feed_au']"
   ]
  },
  {
   "cell_type": "code",
   "execution_count": 22,
   "metadata": {},
   "outputs": [
    {
     "data": {
      "image/png": "[encoded data removed]",
      "text/plain": [
       "<Figure size 1296x864 with 1 Axes>"
      ]
     },
     "metadata": {
      "needs_background": "light"
     },
     "output_type": "display_data"
    }
   ],
   "source": [
    "plt.figure(figsize=(18,12))\n",
    "a=sns.set(style=\"whitegrid\")\n",
    "a=sns.boxplot(data=concetrates_primary)\n",
    "plt.title('Концентрация металлов в сырье', fontsize=15)\n",
    "plt.xlabel('Металл', fontsize=12)\n",
    "plt.ylabel('Концентрация',fontsize=12);"
   ]
  },
  {
   "cell_type": "code",
   "execution_count": 23,
   "metadata": {},
   "outputs": [
    {
     "data": {
      "text/plain": [
       "95.14369984223883"
      ]
     },
     "execution_count": 23,
     "metadata": {},
     "output_type": "execute_result"
    }
   ],
   "source": [
    "train=train.loc[train['rougher.input.feed_ag']>=3]\n",
    "train=train.loc[(train['rougher.input.feed_pb']>=1) & (train['rougher.input.feed_pb']<=7)]\n",
    "train=train.loc[(train['rougher.input.feed_sol']>=26) & (train['rougher.input.feed_sol']<=48)]\n",
    "train=train.loc[train['rougher.input.feed_au']>=2]\n",
    "\n",
    "train_size1=len(train)\n",
    "train_size1*100/train_size0"
   ]
  },
  {
   "cell_type": "code",
   "execution_count": 24,
   "metadata": {},
   "outputs": [
    {
     "data": {
      "text/plain": [
       "13871"
      ]
     },
     "execution_count": 24,
     "metadata": {},
     "output_type": "execute_result"
    }
   ],
   "source": [
    "train_size1=len(train)\n",
    "concetrates_rougher=[]\n",
    "concetrates_rougher=pd.DataFrame(concetrates_rougher)\n",
    "concetrates_rougher['rougher.output.concentrate_ag'] = full['rougher.output.concentrate_ag']\n",
    "concetrates_rougher['rougher.output.concentrate_pb'] = full['rougher.output.concentrate_pb']\n",
    "concetrates_rougher['rougher.output.concentrate_sol'] = full['rougher.output.concentrate_sol']\n",
    "concetrates_rougher['rougher.output.concentrate_au'] = full['rougher.output.concentrate_au']\n",
    "train_size1"
   ]
  },
  {
   "cell_type": "markdown",
   "metadata": {},
   "source": [
    "<div class=\"alert alert-block alert-danger\">\n",
    "<h2> Комментарий ревьюера <a class=\"tocSkip\"></h2>\n",
    "\n",
    "    \n",
    "<b>На доработку❌:</b> Судя по названию переменных, тут должен быть этап `rougher`, а не `primary_cleaner`."
   ]
  },
  {
   "cell_type": "markdown",
   "metadata": {},
   "source": [
    "<div class=\"alert alert-success\">\n",
    "<h2> Комментарий ревьюера v.2 <a class=\"tocSkip\"> </h2>\n",
    "\n",
    "<b>Все отлично!👍:</b> Учтено."
   ]
  },
  {
   "cell_type": "code",
   "execution_count": 25,
   "metadata": {},
   "outputs": [
    {
     "data": {
      "image/png": "[encoded data removed]",
      "text/plain": [
       "<Figure size 1296x864 with 1 Axes>"
      ]
     },
     "metadata": {},
     "output_type": "display_data"
    }
   ],
   "source": [
    "plt.figure(figsize=(18,12))\n",
    "a=sns.set(style=\"whitegrid\")\n",
    "a=sns.boxplot(data=concetrates_rougher)\n",
    "plt.title('Концентрация металлов после флотации', fontsize=15)\n",
    "plt.xlabel('Металл', fontsize=12)\n",
    "plt.ylabel('Концентрация',fontsize=12);"
   ]
  },
  {
   "cell_type": "code",
   "execution_count": 26,
   "metadata": {},
   "outputs": [
    {
     "data": {
      "text/plain": [
       "92.79792372575878"
      ]
     },
     "execution_count": 26,
     "metadata": {},
     "output_type": "execute_result"
    }
   ],
   "source": [
    "train=train.loc[(train['rougher.output.concentrate_ag']>=6) & (train['rougher.output.concentrate_ag']<=18)]\n",
    "train=train.loc[(train['rougher.output.concentrate_pb']>=4) & (train['rougher.output.concentrate_pb']<=12)]\n",
    "train=train.loc[(train['rougher.output.concentrate_sol']>=20) & (train['rougher.output.concentrate_sol']<=38)]\n",
    "train=train.loc[(train['rougher.output.concentrate_au']>=15) & (train['rougher.output.concentrate_au']<=26)]\n",
    "\n",
    "train_size2=len(train)\n",
    "train_size2*100/train_size1"
   ]
  },
  {
   "cell_type": "markdown",
   "metadata": {},
   "source": [
    "<div class=\"alert alert-block alert-danger\">\n",
    "<h2> Комментарий ревьюера <a class=\"tocSkip\"></h2>\n",
    "\n",
    "    \n",
    "<b>На доработку❌:</b> Тут и далее нужно подписать оси Х и Y, а также названия."
   ]
  },
  {
   "cell_type": "markdown",
   "metadata": {},
   "source": [
    "<div class=\"alert alert-success\">\n",
    "<h2> Комментарий ревьюера v.2 <a class=\"tocSkip\"> </h2>\n",
    "\n",
    "<b>Все отлично!👍:</b> Учтено."
   ]
  },
  {
   "cell_type": "code",
   "execution_count": 27,
   "metadata": {},
   "outputs": [],
   "source": [
    "concetrates_primary=[]\n",
    "concetrates_primary=pd.DataFrame(concetrates_primary)\n",
    "concetrates_primary['primary_cleaner.output.concentrate_ag'] = full['primary_cleaner.output.concentrate_ag']\n",
    "concetrates_primary['primary_cleaner.output.concentrate_pb'] = full['primary_cleaner.output.concentrate_pb']\n",
    "concetrates_primary['primary_cleaner.output.concentrate_sol'] = full['primary_cleaner.output.concentrate_sol']\n",
    "concetrates_primary['primary_cleaner.output.concentrate_au'] = full['primary_cleaner.output.concentrate_au']"
   ]
  },
  {
   "cell_type": "code",
   "execution_count": 28,
   "metadata": {},
   "outputs": [
    {
     "data": {
      "image/png": "[encoded data removed]",
      "text/plain": [
       "<Figure size 1296x864 with 1 Axes>"
      ]
     },
     "metadata": {},
     "output_type": "display_data"
    }
   ],
   "source": [
    "plt.figure(figsize=(18,12))\n",
    "a=sns.set(style=\"whitegrid\")\n",
    "a=sns.boxplot(data=concetrates_primary)\n",
    "plt.title('Концентрация металлов после первичной очитски', fontsize=15)\n",
    "plt.xlabel('Металл', fontsize=12)\n",
    "plt.ylabel('Концентрация',fontsize=12);"
   ]
  },
  {
   "cell_type": "code",
   "execution_count": 29,
   "metadata": {},
   "outputs": [
    {
     "data": {
      "text/plain": [
       "87.20351813135318"
      ]
     },
     "execution_count": 29,
     "metadata": {},
     "output_type": "execute_result"
    }
   ],
   "source": [
    "train=train.loc[(train['primary_cleaner.output.concentrate_ag']>=4) & (train['primary_cleaner.output.concentrate_ag']<=15)]\n",
    "train=train.loc[(train['primary_cleaner.output.concentrate_pb']>=5) & (train['primary_cleaner.output.concentrate_pb']<=17)]\n",
    "train=train.loc[train['primary_cleaner.output.concentrate_sol']<=23]\n",
    "train=train.loc[(train['primary_cleaner.output.concentrate_au']>=24) & (train['primary_cleaner.output.concentrate_au']<=42)]\n",
    "\n",
    "train_size3=len(train)\n",
    "train_size3*100/train_size1"
   ]
  },
  {
   "cell_type": "code",
   "execution_count": 30,
   "metadata": {},
   "outputs": [],
   "source": [
    "concetrates_final=[]\n",
    "concetrates_final=pd.DataFrame(concetrates_final)\n",
    "concetrates_final['final.output.concentrate_ag']=train['final.output.concentrate_ag']\n",
    "concetrates_final['final.output.concentrate_pb']=train['final.output.concentrate_pb']\n",
    "concetrates_final['final.output.concentrate_sol']=train['final.output.concentrate_sol']\n",
    "concetrates_final['final.output.concentrate_au']=train['final.output.concentrate_au']"
   ]
  },
  {
   "cell_type": "code",
   "execution_count": 31,
   "metadata": {},
   "outputs": [
    {
     "data": {
      "image/png": "[encoded data removed]",
      "text/plain": [
       "<Figure size 1296x864 with 1 Axes>"
      ]
     },
     "metadata": {},
     "output_type": "display_data"
    }
   ],
   "source": [
    "plt.figure(figsize=(18,12))\n",
    "b=sns.set(style=\"whitegrid\")\n",
    "b=sns.boxplot(data=concetrates_final)\n",
    "plt.title('Концентрация металлов после финальной очистки', fontsize=15)\n",
    "plt.xlabel('Металл', fontsize=12)\n",
    "plt.ylabel('Концентрация',fontsize=12);"
   ]
  },
  {
   "cell_type": "code",
   "execution_count": 32,
   "metadata": {},
   "outputs": [
    {
     "data": {
      "text/plain": [
       "81.40004325571336"
      ]
     },
     "execution_count": 32,
     "metadata": {},
     "output_type": "execute_result"
    }
   ],
   "source": [
    "train=train.loc[(train['final.output.concentrate_ag']>=2) & (train['final.output.concentrate_ag']<=9)]\n",
    "train=train.loc[(train['final.output.concentrate_pb']>=7) & (train['final.output.concentrate_pb']<=14)]\n",
    "train=train.loc[(train['final.output.concentrate_sol']>=3) & (train['final.output.concentrate_sol']<=16)]\n",
    "train=train.loc[(train['final.output.concentrate_au']>=21) & (train['final.output.concentrate_au']<=51)]\n",
    "\n",
    "train_size4=len(train)\n",
    "train_size4*100/train_size1"
   ]
  },
  {
   "cell_type": "markdown",
   "metadata": {},
   "source": [
    "В результате фильтрации данных мы очистили обучающую выборку от выбросов среди признаков, означающих % концентрации металлов на различных этапах разработки. Для обучения модели оставили чуть менее 80% данных."
   ]
  },
  {
   "cell_type": "markdown",
   "metadata": {},
   "source": [
    "\"Ящики с усами\" показали, что больше всего выбросов в концентрации золота (AU) на стадиях первичной и финальной очистки. А так же очевидно, что среднее значение концентрации золота на финальной очистке вырастает по сравнению с предыдущими этапами."
   ]
  },
  {
   "cell_type": "markdown",
   "metadata": {},
   "source": [
    "<div class=\"alert alert-success\">\n",
    "<h2> Комментарий ревьюера <a class=\"tocSkip\"> </h2>\n",
    "\n",
    "<b>Все отлично!👍:</b> Исследована концентрация металлов на разных стадиях обработки, проанализирована динамика концентрации в зависимости от этапа техпроцесса - отлично, тут всё верно."
   ]
  },
  {
   "cell_type": "markdown",
   "metadata": {},
   "source": [
    "<div class=\"alert alert-block alert-danger\">\n",
    "<h2> Комментарий ревьюера <a class=\"tocSkip\"></h2>\n",
    "\n",
    "    \n",
    "<b>На доработку❌:</b>\n",
    "\n",
    "Сверься с брифом проекта и добавь в исследование потерянный этап техпроцесса."
   ]
  },
  {
   "cell_type": "markdown",
   "metadata": {},
   "source": [
    "<div class=\"alert alert-block alert-danger\">\n",
    "<h2> Комментарий ревьюера v.2 <a class=\"tocSkip\"></h2>\n",
    "\n",
    "    \n",
    "<b>На доработку❌:</b>\n",
    "\n",
    "Не учтено: анализируется три этапа техпроцесса, должно быть четыре."
   ]
  },
  {
   "cell_type": "markdown",
   "metadata": {},
   "source": [
    "<div class=\"alert alert-success\">\n",
    "<h2> Комментарий ревьюера v.3 <a class=\"tocSkip\"> </h2>\n",
    "\n",
    "<b>Все отлично!👍:</b> Учтено."
   ]
  },
  {
   "cell_type": "markdown",
   "metadata": {},
   "source": [
    "### Распределение металлов в сырье"
   ]
  },
  {
   "cell_type": "code",
   "execution_count": 33,
   "metadata": {},
   "outputs": [
    {
     "data": {
      "image/png": "[encoded data removed]",
      "text/plain": [
       "<Figure size 864x432 with 1 Axes>"
      ]
     },
     "metadata": {},
     "output_type": "display_data"
    },
    {
     "name": "stdout",
     "output_type": "stream",
     "text": [
      "concentrate_ag =  8.79\n",
      "concentrate_pb =  3.58\n",
      "concentrate_sol =  36.68\n",
      "concentrate_au =  8.27\n"
     ]
    }
   ],
   "source": [
    "plt.title('Концентрация металлов в сырье', fontsize = 14)\n",
    "\n",
    "train['rougher.input.feed_ag'].plot(kind='hist',figsize=(12,6),grid=True, legend=True, histtype='step', linewidth=3, label='concentrate_ag')\n",
    "train['rougher.input.feed_pb'].plot(kind='hist',figsize=(12,6),grid=True, legend=True, histtype='step', linewidth=3, label='concentrate_pb')\n",
    "train['rougher.input.feed_sol'].plot(kind='hist',figsize=(12,6),grid=True, legend=True, histtype='step', linewidth=3, label='concentrate_sol')\n",
    "train['rougher.input.feed_au'].plot(kind='hist',figsize=(12,6),grid=True, legend=True, histtype='step', linewidth=3, label='concentrate_au')\n",
    "\n",
    "plt.xlabel('% Концентрация')\n",
    "plt.ylabel('Частота')\n",
    "plt.show()\n",
    "\n",
    "\n",
    "print('concentrate_ag = ', round(full['rougher.input.feed_ag'].mean(),2))\n",
    "print('concentrate_pb = ', round(full['rougher.input.feed_pb'].mean(),2))\n",
    "print('concentrate_sol = ', round(full['rougher.input.feed_sol'].mean(),2))\n",
    "print('concentrate_au = ', round(full['rougher.input.feed_au'].mean(),2))"
   ]
  },
  {
   "cell_type": "markdown",
   "metadata": {},
   "source": [
    "### Распределение металлов на этапе флотации"
   ]
  },
  {
   "cell_type": "code",
   "execution_count": 34,
   "metadata": {},
   "outputs": [
    {
     "data": {
      "image/png": "[encoded data removed]",
      "text/plain": [
       "<Figure size 864x432 with 1 Axes>"
      ]
     },
     "metadata": {},
     "output_type": "display_data"
    },
    {
     "name": "stdout",
     "output_type": "stream",
     "text": [
      "concentrate_ag =  11.99\n",
      "concentrate_pb =  7.61\n",
      "concentrate_sol =  28.8\n",
      "concentrate_au =  19.77\n"
     ]
    }
   ],
   "source": [
    "plt.title('Концентрация металлов после флотации', fontsize = 14)\n",
    "\n",
    "train['rougher.output.concentrate_ag'].plot(kind='hist',figsize=(12,6),grid=True, legend=True, histtype='step', linewidth=3, label='concentrate_ag')\n",
    "train['rougher.output.concentrate_pb'].plot(kind='hist',figsize=(12,6),grid=True, legend=True, histtype='step', linewidth=3, label='concentrate_pb')\n",
    "train['rougher.output.concentrate_sol'].plot(kind='hist',figsize=(12,6),grid=True, legend=True, histtype='step', linewidth=3, label='concentrate_sol')\n",
    "train['rougher.output.concentrate_au'].plot(kind='hist',figsize=(12,6),grid=True, legend=True, histtype='step', linewidth=3, label='concentrate_au')\n",
    "\n",
    "plt.xlabel('% Концентрация')\n",
    "plt.ylabel('Частота')\n",
    "plt.show()\n",
    "\n",
    "\n",
    "print('concentrate_ag = ', round(full['rougher.output.concentrate_ag'].mean(),2))\n",
    "print('concentrate_pb = ', round(full['rougher.output.concentrate_pb'].mean(),2))\n",
    "print('concentrate_sol = ', round(full['rougher.output.concentrate_sol'].mean(),2))\n",
    "print('concentrate_au = ', round(full['rougher.output.concentrate_au'].mean(),2))\n"
   ]
  },
  {
   "cell_type": "markdown",
   "metadata": {},
   "source": [
    "### Распределение металлов после первичной очистки."
   ]
  },
  {
   "cell_type": "code",
   "execution_count": 35,
   "metadata": {},
   "outputs": [
    {
     "data": {
      "image/png": "[encoded data removed]",
      "text/plain": [
       "<Figure size 864x432 with 1 Axes>"
      ]
     },
     "metadata": {},
     "output_type": "display_data"
    },
    {
     "name": "stdout",
     "output_type": "stream",
     "text": [
      "concentrate_ag =  8.44\n",
      "concentrate_pb =  9.81\n",
      "concentrate_sol =  10.39\n",
      "concentrate_au =  32.12\n"
     ]
    }
   ],
   "source": [
    "plt.title('Концентрация металлов после первичной очистки', fontsize = 14)\n",
    "\n",
    "train['primary_cleaner.output.concentrate_ag'].plot(kind='hist',figsize=(12,6),grid=True, legend=True, histtype='step', linewidth=3, label='concentrate_ag')\n",
    "train['primary_cleaner.output.concentrate_pb'].plot(kind='hist',figsize=(12,6),grid=True, legend=True, histtype='step', linewidth=3, label='concentrate_pb')\n",
    "train['primary_cleaner.output.concentrate_sol'].plot(kind='hist',figsize=(12,6),grid=True, legend=True, histtype='step', linewidth=3, label='concentrate_sol')\n",
    "train['primary_cleaner.output.concentrate_au'].plot(kind='hist',figsize=(12,6),grid=True, legend=True, histtype='step', linewidth=3, label='concentrate_au')\n",
    "\n",
    "plt.xlabel('% Концентрация металла')\n",
    "plt.ylabel('Частота')\n",
    "plt.show()\n",
    "\n",
    "\n",
    "print('concentrate_ag = ', round(full['primary_cleaner.output.concentrate_ag'].mean(),2))\n",
    "print('concentrate_pb = ', round(full['primary_cleaner.output.concentrate_pb'].mean(),2))\n",
    "print('concentrate_sol = ', round(full['primary_cleaner.output.concentrate_sol'].mean(),2))\n",
    "print('concentrate_au = ', round(full['primary_cleaner.output.concentrate_au'].mean(),2))"
   ]
  },
  {
   "cell_type": "markdown",
   "metadata": {},
   "source": [
    "### Распределение металлов после финальной очистки."
   ]
  },
  {
   "cell_type": "code",
   "execution_count": 36,
   "metadata": {},
   "outputs": [
    {
     "data": {
      "image/png": "[encoded data removed]",
      "text/plain": [
       "<Figure size 864x432 with 1 Axes>"
      ]
     },
     "metadata": {},
     "output_type": "display_data"
    },
    {
     "name": "stdout",
     "output_type": "stream",
     "text": [
      "concentrate_ag =  5.17\n",
      "concentrate_pb =  9.98\n",
      "concentrate_sol =  9.43\n",
      "concentrate_au =  44.08\n"
     ]
    }
   ],
   "source": [
    "plt.title('Концентрация металлов после финальной очистки', fontsize = 14)\n",
    "\n",
    "train['final.output.concentrate_ag'].plot(kind='hist',figsize=(12,6),grid=True, legend=True, histtype='step', linewidth=3, label='concentrate_ag')\n",
    "train['final.output.concentrate_pb'].plot(kind='hist',figsize=(12,6),grid=True, legend=True, histtype='step', linewidth=3, label='concentrate_pb')\n",
    "train['final.output.concentrate_sol'].plot(kind='hist',figsize=(12,6),grid=True, legend=True, histtype='step', linewidth=3, label='concentrate_sol')\n",
    "train['final.output.concentrate_au'].plot(kind='hist',figsize=(12,6),grid=True, legend=True, histtype='step', linewidth=3, label='concentrate_au')\n",
    "\n",
    "plt.xlabel('% Концентрация металла')\n",
    "plt.ylabel('Частота')\n",
    "plt.show()\n",
    "\n",
    "print('concentrate_ag = ', round(full['final.output.concentrate_ag'].mean(),2))\n",
    "print('concentrate_pb = ', round(full['final.output.concentrate_pb'].mean(),2))\n",
    "print('concentrate_sol = ', round(full['final.output.concentrate_sol'].mean(),2))\n",
    "print('concentrate_au = ', round(full['final.output.concentrate_au'].mean(),2))"
   ]
  },
  {
   "cell_type": "markdown",
   "metadata": {},
   "source": [
    "В результате первичной очистки в 3 раза сократилось содержание sol, в том время как содержание золота росло почти в 1,5 раза с каждым этапом обработки."
   ]
  },
  {
   "cell_type": "markdown",
   "metadata": {},
   "source": [
    "<div class=\"alert alert-block alert-danger\">\n",
    "<h2> Комментарий ревьюера <a class=\"tocSkip\"></h2>\n",
    "\n",
    "    \n",
    "<b>На доработку❌:</b>\n",
    "На данном этапе следует также избавиться от аномалий - предполагается, что на этапе анализа суммарной концентрации аномалии уже были обнаружены и удалены. Давай обратим внимание на левую сторону графика по оси Х - все ли значения, которые мы там видим, кажутся адекватными?\n",
    "    \n",
    "Обрати внимание, что ты анализируешь суммарную концентрацию на `full` выборке, а удалить аномалии важно из `train`, так как на этой выборке мы будем обучать модели, и нам важно обеспечить её чистоту.\n",
    "    \n",
    "Тут можно пойти двумя путями:\n",
    "- если из `train` уже были удалены лишние столбцы, то суммарную концентрацию напрямую не выйдет отфильтровать - в таком случае нужно удалить аномалии из `full`, а потом использовать столбец `date` для очистки `train`: в `train` нужно будет оставить только те строки, `date` которых есть в столбце `date` у `full` выборки - так как из `full` уже будут удалены аномалии, то и дата аномальных замеров будет удалена;\n",
    "- если из `train` ещё не были удалены лишние признаки, то можно очистить `train` напрямую.\n",
    "    \n",
    "Также потерян один этап техпроцесса."
   ]
  },
  {
   "cell_type": "markdown",
   "metadata": {},
   "source": [
    "<div class=\"alert alert-success\">\n",
    "<h2> Комментарий ревьюера v.2 <a class=\"tocSkip\"> </h2>\n",
    "\n",
    "<b>Все отлично!👍:</b> Учтено."
   ]
  },
  {
   "cell_type": "markdown",
   "metadata": {},
   "source": [
    "### Распределения размеров гранул сырья на обучающей и тестовой выборках."
   ]
  },
  {
   "cell_type": "code",
   "execution_count": 37,
   "metadata": {},
   "outputs": [
    {
     "data": {
      "image/png": "[encoded data removed]",
      "text/plain": [
       "<Figure size 432x288 with 1 Axes>"
      ]
     },
     "metadata": {},
     "output_type": "display_data"
    }
   ],
   "source": [
    "plt.title('Feed size input', fontsize = 14)\n",
    "\n",
    "sns.histplot(data=train['primary_cleaner.input.feed_size'], stat='density', alpha = 0.8)\n",
    "sns.histplot(data=test['primary_cleaner.input.feed_size'], stat='density', alpha = 0.3, color = 'red')\n",
    "\n",
    "\n",
    "plt.xlabel('Feed size')\n",
    "plt.ylabel('Friqency')\n",
    "plt.show()\n"
   ]
  },
  {
   "cell_type": "code",
   "execution_count": 38,
   "metadata": {},
   "outputs": [
    {
     "data": {
      "text/plain": [
       "count    4860.000000\n",
       "mean        7.305514\n",
       "std         0.588602\n",
       "min         4.970000\n",
       "25%         6.940000\n",
       "50%         7.290000\n",
       "75%         7.630000\n",
       "max         9.630000\n",
       "Name: primary_cleaner.input.feed_size, dtype: float64"
      ]
     },
     "execution_count": 38,
     "metadata": {},
     "output_type": "execute_result"
    }
   ],
   "source": [
    "test['primary_cleaner.input.feed_size'].describe()"
   ]
  },
  {
   "cell_type": "code",
   "execution_count": 39,
   "metadata": {},
   "outputs": [
    {
     "data": {
      "text/plain": [
       "count    11291.000000\n",
       "mean         7.310315\n",
       "std          0.595871\n",
       "min          1.080000\n",
       "25%          6.940000\n",
       "50%          7.280000\n",
       "75%          7.670000\n",
       "max         11.470008\n",
       "Name: primary_cleaner.input.feed_size, dtype: float64"
      ]
     },
     "execution_count": 39,
     "metadata": {},
     "output_type": "execute_result"
    }
   ],
   "source": [
    "train['primary_cleaner.input.feed_size'].describe()"
   ]
  },
  {
   "cell_type": "markdown",
   "metadata": {},
   "source": [
    "Отметим, что размеры гранул сырья в обучающей и тестовой выборках распределелись идентичным образом."
   ]
  },
  {
   "cell_type": "markdown",
   "metadata": {},
   "source": [
    "<div class=\"alert alert-block alert-danger\">\n",
    "<h2> Комментарий ревьюера <a class=\"tocSkip\"></h2>\n",
    "\n",
    "    \n",
    "<b>На доработку❌:</b>\n",
    "1. Линейный график не подходит для сравнения распределений - нужно использовать гистограммы.\n",
    "2. Здесь мы имеем дело с непрерывной величиной - для анализа её распределения стоит использовать нормированную гистограмму (например, `shs.histplot()` с параметром `stat='density'` или `sns.kdeplot()`): гистограммы такого типа позволяют нивелировать разницу в размерах выборок при анализе распределений. Обрати также внимание, что при использовании нормированных гистограмм по оси Y будет уже не частота значений, а плотность распределения.\n",
    "3. Сверья с брифом проекта и убедись, что ты исследуешь нужный этап техпроцесса."
   ]
  },
  {
   "cell_type": "markdown",
   "metadata": {},
   "source": [
    "<div class=\"alert alert-success\">\n",
    "<h2> Комментарий ревьюера v.2 <a class=\"tocSkip\"> </h2>\n",
    "\n",
    "<b>Все отлично!👍:</b> Учтено."
   ]
  },
  {
   "cell_type": "markdown",
   "metadata": {},
   "source": [
    "### Исследование суммарной концентрации всех веществ на разных стадиях: в сырье, в черновом и финальном концентратах."
   ]
  },
  {
   "cell_type": "markdown",
   "metadata": {},
   "source": [
    "Суммарная концентрация металлов в сырье."
   ]
  },
  {
   "cell_type": "code",
   "execution_count": 40,
   "metadata": {},
   "outputs": [],
   "source": [
    "train['sum_concentrate_primary']=train['rougher.input.feed_ag']+train['rougher.input.feed_pb']+train['rougher.input.feed_sol']+train['rougher.input.feed_au']\n"
   ]
  },
  {
   "cell_type": "markdown",
   "metadata": {},
   "source": [
    "Суммарная концентрация веществ после флотации."
   ]
  },
  {
   "cell_type": "code",
   "execution_count": 41,
   "metadata": {},
   "outputs": [],
   "source": [
    "train['sum_concentrate_rougher']=train['rougher.output.concentrate_ag']+train['rougher.output.concentrate_pb']+train['rougher.output.concentrate_sol']+train['rougher.output.concentrate_au']\n"
   ]
  },
  {
   "cell_type": "markdown",
   "metadata": {},
   "source": [
    "Суммарная концентрация веществ после первичной очистки."
   ]
  },
  {
   "cell_type": "code",
   "execution_count": 42,
   "metadata": {},
   "outputs": [],
   "source": [
    "train['sum_primary_cleaner_output_concentrate']=train['primary_cleaner.output.concentrate_ag']+train['primary_cleaner.output.concentrate_pb']+train['primary_cleaner.output.concentrate_sol']+train['primary_cleaner.output.concentrate_au']\n"
   ]
  },
  {
   "cell_type": "markdown",
   "metadata": {},
   "source": [
    "Суммарная концентрация веществ после финальной очистки."
   ]
  },
  {
   "cell_type": "code",
   "execution_count": 43,
   "metadata": {},
   "outputs": [],
   "source": [
    "train['sum_final_output_concentrate']=train['final.output.concentrate_ag']+train['final.output.concentrate_pb']+train['final.output.concentrate_sol']+train['final.output.concentrate_au']\n"
   ]
  },
  {
   "cell_type": "markdown",
   "metadata": {},
   "source": [
    "<div class=\"alert alert-block alert-danger\">\n",
    "<h2> Комментарий ревьюера <a class=\"tocSkip\"></h2>\n",
    "\n",
    "    \n",
    "<b>На доработку❌:</b>\n",
    "\n",
    "Сверься с брифом проекта и добавь в исследование потерянный этап техпроцесса."
   ]
  },
  {
   "cell_type": "markdown",
   "metadata": {},
   "source": [
    "<div class=\"alert alert-block alert-danger\">\n",
    "<h2> Комментарий ревьюера v.2 <a class=\"tocSkip\"></h2>\n",
    "\n",
    "    \n",
    "<b>На доработку❌:</b>\n",
    "\n",
    "Не учтено: анализируется три этапа техпроцесса, должно быть четыре."
   ]
  },
  {
   "cell_type": "markdown",
   "metadata": {},
   "source": [
    "<div class=\"alert alert-success\">\n",
    "<h2> Комментарий ревьюера v.3 <a class=\"tocSkip\"> </h2>\n",
    "\n",
    "<b>Все отлично!👍:</b> Учтено."
   ]
  },
  {
   "cell_type": "code",
   "execution_count": 44,
   "metadata": {},
   "outputs": [
    {
     "data": {
      "image/png": "[encoded data removed]",
      "text/plain": [
       "<Figure size 864x576 with 1 Axes>"
      ]
     },
     "metadata": {},
     "output_type": "display_data"
    },
    {
     "name": "stdout",
     "output_type": "stream",
     "text": [
      "sum_input_primary_concentrate =  58.54\n",
      "sum_concentrate_rougher =  70.74\n",
      "sum_primary_cleaner_output_concentrate =  62.73\n",
      "sum_final_output_concentrate =  69.88\n"
     ]
    }
   ],
   "source": [
    "plt.title('Концентрация металлов по этам процесса', fontsize = 14)\n",
    "\n",
    "train['sum_concentrate_rougher'].plot(kind='hist',figsize=(12,8),grid=True, legend=True, histtype='step', linewidth=3, label='sum_concentrate_rougher')\n",
    "train['sum_primary_cleaner_output_concentrate'].plot(kind='hist',figsize=(12,8),grid=True, legend=True, histtype='step', linewidth=3, label='sum_primary_cleaner_output_concentrate')\n",
    "train['sum_final_output_concentrate'].plot(kind='hist',figsize=(12,8),grid=True, legend=True, histtype='step', linewidth=3, label='sum_final_output_concentrate')\n",
    "train['sum_concentrate_primary'].plot(kind='hist',figsize=(12,8),grid=True, legend=True, histtype='step', linewidth=3, label='sum_input_primary_concentrate')\n",
    "\n",
    "plt.xlabel('% Сумма концентраций металлов')\n",
    "plt.ylabel('Частота')\n",
    "plt.show()\n",
    "\n",
    "print('sum_input_primary_concentrate = ', round(train['sum_concentrate_primary'].mean(),2))\n",
    "print('sum_concentrate_rougher = ', round(train['sum_concentrate_rougher'].mean(),2))\n",
    "print('sum_primary_cleaner_output_concentrate = ', round(train['sum_primary_cleaner_output_concentrate'].mean(),2))\n",
    "print('sum_final_output_concentrate = ', round(train['sum_final_output_concentrate'].mean(),2))\n"
   ]
  },
  {
   "cell_type": "markdown",
   "metadata": {},
   "source": [
    "По гистраграмме и средним значениям концентрации металлов можем отметить, что после флотации содержание металлов возросло на 20% по сравнению с сырьем, после первичной очистки концетрация металлов снижается в среднем на 7-8 %, зато после финальной очистки вырастает на 7-8%, и как нам известно из анализа выше, в основном за счет увеличения концентрации золота."
   ]
  },
  {
   "cell_type": "markdown",
   "metadata": {},
   "source": [
    "<div class=\"alert alert-success\">\n",
    "<h2> Комментарий ревьюера <a class=\"tocSkip\"> </h2>\n",
    "\n",
    "<b>Все отлично!👍:</b> Исследована суммарная концентрация металлов на разных стадиях техпроцесса - отлично!"
   ]
  },
  {
   "cell_type": "markdown",
   "metadata": {},
   "source": [
    "<div class=\"alert alert-block alert-danger\">\n",
    "<h2> Комментарий ревьюера <a class=\"tocSkip\"></h2>\n",
    "\n",
    "    \n",
    "<b>На доработку❌:</b>\n",
    "Нужно сделать вывод о динамике суммарной концентрации металлов."
   ]
  },
  {
   "cell_type": "markdown",
   "metadata": {},
   "source": [
    "<div class=\"alert alert-success\">\n",
    "<h2> Комментарий ревьюера v.2 <a class=\"tocSkip\"> </h2>\n",
    "\n",
    "<b>Все отлично!👍:</b> Учтено."
   ]
  },
  {
   "cell_type": "markdown",
   "metadata": {},
   "source": [
    "<div class=\"alert alert-block alert-danger\">\n",
    "<h2> Комментарий ревьюера <a class=\"tocSkip\"></h2>\n",
    "\n",
    "    \n",
    "<b>На доработку❌:</b>\n",
    "Комментарии о нулевых значениях и их удаление должны быть на этапе анализа индивидуальной концентрации каждого металла - предполагается, что эти аномалии должны были быть замечены ранее, прокомментированы и удалены, и уже на этапе суммарной концентрации мы имеем дело с очищенными данными."
   ]
  },
  {
   "cell_type": "markdown",
   "metadata": {},
   "source": [
    "<div class=\"alert alert-success\">\n",
    "<h2> Комментарий ревьюера v.2 <a class=\"tocSkip\"> </h2>\n",
    "\n",
    "<b>Все отлично!👍:</b> Учтено."
   ]
  },
  {
   "cell_type": "markdown",
   "metadata": {},
   "source": [
    "<div class=\"alert alert-warning\">\n",
    "    <h2> Комментарий ревьюера <a class=\"tocSkip\"> </h2>\n",
    "\n",
    "<b>Некоторые замечания и рекомендации⚠️:</b> \n",
    "\n",
    "Здесь заканчивается стрктурный блок работы - стоит сделать промежуточные выводы о проделанной работе в блоке."
   ]
  },
  {
   "cell_type": "markdown",
   "metadata": {},
   "source": [
    "## Модель"
   ]
  },
  {
   "cell_type": "markdown",
   "metadata": {},
   "source": [
    "Определим функцию для расчета метрики качества sMAPE и промежуточную функцию sMAPE_i."
   ]
  },
  {
   "cell_type": "code",
   "execution_count": 45,
   "metadata": {},
   "outputs": [],
   "source": [
    "def sMAPE_i (target, predict):    \n",
    "    sMAPE_i=np.mean(abs(target-predict)/((abs(target)+abs(predict))/2))*100\n",
    "    \n",
    "    return sMAPE_i"
   ]
  },
  {
   "cell_type": "code",
   "execution_count": 46,
   "metadata": {},
   "outputs": [],
   "source": [
    "def sMAPE(sMAPE_rougher, sMAPE_final):\n",
    "    \n",
    "    sMAP=0.25*sMAPE_rougher+0.75*sMAPE_final\n",
    "    return sMAP"
   ]
  },
  {
   "cell_type": "markdown",
   "metadata": {},
   "source": [
    "<div class=\"alert alert-success\">\n",
    "<h2> Комментарий ревьюера <a class=\"tocSkip\"> </h2>\n",
    "\n",
    "<b>Все отлично!👍:</b> Есть функция для оценки `sMAPE` - супер!\n",
    "</div>"
   ]
  },
  {
   "cell_type": "markdown",
   "metadata": {},
   "source": [
    "<div class=\"alert alert-block alert-danger\">\n",
    "<h2> Комментарий ревьюера <a class=\"tocSkip\"></h2>\n",
    "\n",
    "    \n",
    "<b>На доработку❌:</b>\n",
    "Расчёт двух частей метрики дублируется - его стоит вынести в отдельную функцию и вызывать внутри твоей основной функции, чтобы решение было гибким и масштабируемым, а также чтобы не допускать дублирование кода.\n",
    "    "
   ]
  },
  {
   "cell_type": "markdown",
   "metadata": {},
   "source": [
    "<div class=\"alert alert-success\">\n",
    "<h2> Комментарий ревьюера v.2 <a class=\"tocSkip\"> </h2>\n",
    "\n",
    "<b>Все отлично!👍:</b> Учтено."
   ]
  },
  {
   "cell_type": "markdown",
   "metadata": {},
   "source": [
    "Тренировать модель будем только на тех столбцах обучающей выборке, которые содержатся в датафрейме с тестовыми.\n",
    "Целевые признаки rougher.output.recovery и final.output.recovery."
   ]
  },
  {
   "cell_type": "code",
   "execution_count": 47,
   "metadata": {},
   "outputs": [],
   "source": [
    "feature=train[test.columns]"
   ]
  },
  {
   "cell_type": "markdown",
   "metadata": {},
   "source": [
    "<div class=\"alert alert-success\">\n",
    "<h2> Комментарий ревьюера <a class=\"tocSkip\"> </h2>\n",
    "\n",
    "<b>Все отлично!👍:</b> Синхронизировали тренировочную и тестовую выборки по набору признаков - хорошо!\n",
    "</div>"
   ]
  },
  {
   "cell_type": "code",
   "execution_count": 48,
   "metadata": {},
   "outputs": [
    {
     "data": {
      "text/plain": [
       "Index(['rougher.input.feed_au', 'rougher.input.feed_ag',\n",
       "       'rougher.input.feed_pb', 'rougher.input.feed_sol',\n",
       "       'rougher.input.feed_rate', 'rougher.input.feed_size',\n",
       "       'rougher.input.floatbank10_sulfate',\n",
       "       'rougher.input.floatbank10_xanthate', 'rougher.state.floatbank10_a_air',\n",
       "       'rougher.state.floatbank10_a_level', 'rougher.state.floatbank10_b_air',\n",
       "       'rougher.state.floatbank10_b_level', 'rougher.state.floatbank10_c_air',\n",
       "       'rougher.state.floatbank10_c_level', 'rougher.state.floatbank10_d_air',\n",
       "       'rougher.state.floatbank10_d_level', 'rougher.state.floatbank10_e_air',\n",
       "       'rougher.state.floatbank10_e_level', 'rougher.state.floatbank10_f_air',\n",
       "       'rougher.state.floatbank10_f_level',\n",
       "       'rougher.input.floatbank11_sulfate',\n",
       "       'rougher.input.floatbank11_xanthate', 'primary_cleaner.input.sulfate',\n",
       "       'primary_cleaner.input.depressant', 'primary_cleaner.input.feed_size',\n",
       "       'primary_cleaner.input.xanthate',\n",
       "       'primary_cleaner.state.floatbank8_a_air',\n",
       "       'primary_cleaner.state.floatbank8_a_level',\n",
       "       'primary_cleaner.state.floatbank8_b_air',\n",
       "       'primary_cleaner.state.floatbank8_b_level',\n",
       "       'primary_cleaner.state.floatbank8_c_air',\n",
       "       'primary_cleaner.state.floatbank8_c_level',\n",
       "       'primary_cleaner.state.floatbank8_d_air',\n",
       "       'primary_cleaner.state.floatbank8_d_level',\n",
       "       'secondary_cleaner.state.floatbank2_a_air',\n",
       "       'secondary_cleaner.state.floatbank2_a_level',\n",
       "       'secondary_cleaner.state.floatbank2_b_air',\n",
       "       'secondary_cleaner.state.floatbank2_b_level',\n",
       "       'secondary_cleaner.state.floatbank3_a_air',\n",
       "       'secondary_cleaner.state.floatbank3_a_level',\n",
       "       'secondary_cleaner.state.floatbank3_b_air',\n",
       "       'secondary_cleaner.state.floatbank3_b_level',\n",
       "       'secondary_cleaner.state.floatbank4_a_air',\n",
       "       'secondary_cleaner.state.floatbank4_a_level',\n",
       "       'secondary_cleaner.state.floatbank4_b_air',\n",
       "       'secondary_cleaner.state.floatbank4_b_level',\n",
       "       'secondary_cleaner.state.floatbank5_a_air',\n",
       "       'secondary_cleaner.state.floatbank5_a_level',\n",
       "       'secondary_cleaner.state.floatbank5_b_air',\n",
       "       'secondary_cleaner.state.floatbank5_b_level',\n",
       "       'secondary_cleaner.state.floatbank6_a_air',\n",
       "       'secondary_cleaner.state.floatbank6_a_level'],\n",
       "      dtype='object')"
      ]
     },
     "execution_count": 48,
     "metadata": {},
     "output_type": "execute_result"
    }
   ],
   "source": [
    "feature=feature.drop('date',axis=1)\n",
    "feature.columns"
   ]
  },
  {
   "cell_type": "code",
   "execution_count": 49,
   "metadata": {},
   "outputs": [],
   "source": [
    "target=train[['rougher.output.recovery','final.output.recovery']]\n",
    "target_rougher=train['rougher.output.recovery']\n",
    "target_final=train['final.output.recovery']"
   ]
  },
  {
   "cell_type": "markdown",
   "metadata": {},
   "source": [
    "<div class=\"alert alert-success\">\n",
    "<h2> Комментарий ревьюера <a class=\"tocSkip\"> </h2>\n",
    "\n",
    "<b>Все отлично!👍:</b> Выделили признаки для обучения и целевые признаки - отлично!\n",
    "</div>"
   ]
  },
  {
   "cell_type": "markdown",
   "metadata": {},
   "source": [
    "<div class=\"alert alert-warning\">\n",
    "    <h2> Комментарий ревьюера <a class=\"tocSkip\"> </h2>\n",
    "    \n",
    "<b>Некоторые замечания и рекомендации⚠️:</b> \n",
    "Дополнительно стоит выполнить масштабирование непрерывных переменных - это важно для линейной регрессии, которую ты используешь."
   ]
  },
  {
   "cell_type": "markdown",
   "metadata": {},
   "source": [
    "Произведем кросс-валидацию для модели Линейной регрессии."
   ]
  },
  {
   "cell_type": "code",
   "execution_count": 50,
   "metadata": {},
   "outputs": [
    {
     "data": {
      "text/plain": [
       "'Среднее sMAPE модели Линейной регрессии'"
      ]
     },
     "metadata": {},
     "output_type": "display_data"
    },
    {
     "data": {
      "text/plain": [
       "'Флотация'"
      ]
     },
     "metadata": {},
     "output_type": "display_data"
    },
    {
     "data": {
      "text/plain": [
       "6.51281058548476"
      ]
     },
     "metadata": {},
     "output_type": "display_data"
    },
    {
     "data": {
      "text/plain": [
       "'Финальная очистка'"
      ]
     },
     "metadata": {},
     "output_type": "display_data"
    },
    {
     "data": {
      "text/plain": [
       "8.767230133023473"
      ]
     },
     "metadata": {},
     "output_type": "display_data"
    }
   ],
   "source": [
    "model_rougher_LR=LinearRegression()\n",
    "model_final_LR=LinearRegression()\n",
    "scores_rougher = cross_val_score(model_rougher_LR, feature, target_rougher, cv=5, scoring=make_scorer(sMAPE_i, greater_is_better=False))\n",
    "scores_final = cross_val_score(model_final_LR, feature, target_final, cv=5, scoring=make_scorer(sMAPE_i, greater_is_better=False))\n",
    "scores_rougher_mean = abs(pd.Series(scores_rougher).mean())\n",
    "scores_final_mean = abs(pd.Series(scores_final).mean())\n",
    "display(\"Среднее sMAPE модели Линейной регрессии\")\n",
    "display(\"Флотация\", scores_rougher_mean)\n",
    "display(\"Финальная очистка\", scores_final_mean)\n"
   ]
  },
  {
   "cell_type": "markdown",
   "metadata": {},
   "source": [
    "<div class=\"alert alert-success\">\n",
    "<h2> Комментарий ревьюера <a class=\"tocSkip\"> </h2>\n",
    "\n",
    "<b>Все отлично!👍:</b>\n",
    "    \n",
    "Оценили линейную регрессию на кросс-валидации - отлично!"
   ]
  },
  {
   "cell_type": "markdown",
   "metadata": {},
   "source": [
    "<div class=\"alert alert-warning\">\n",
    "    <h2> Комментарий ревьюера <a class=\"tocSkip\"> </h2>\n",
    "    \n",
    "<b>Некоторые замечания и рекомендации⚠️:</b>\n",
    "На сборном проекте от студентов ожидается умение пользоваться автоматизированным средствами проведения кросс-валидации - для этого можно использовать:\n",
    "- `cross_val_score` (https://scikit-learn.org/stable/modules/generated/sklearn.model_selection.cross_val_score.html), `cross_validate` (https://scikit-learn.org/stable/modules/generated/sklearn.model_selection.cross_validate.html#sklearn.model_selection.cross_validate) или `cross_val_predict` (https://scikit-learn.org/stable/modules/generated/sklearn.model_selection.cross_val_predict.html#sklearn.model_selection.cross_val_predict) для проведения кросс-валидации без встроенной оптимизации гиперпараметров (при этом их можно использовать в цикле для оптимизации гиперпараметров);\n",
    "- `GridSearchCV` (https://scikit-learn.org/stable/modules/generated/sklearn.model_selection.GridSearchCV.html), `RandomizedSearchCV` (https://scikit-learn.org/stable/modules/generated/sklearn.model_selection.RandomizedSearchCV.html#sklearn.model_selection.RandomizedSearchCV) или аналоги для проведения кросс-валидации и одновременной оптимизации гиперпараметров (предпочительнее).\n",
    "        \n",
    "Довольно важным моментом является настройка параметра `scoring` - именно он отвечает за метрику, которая будет оценивать качество моделей в ходе кросс-валидации (в том числе при оптимизации гиперпараметров). Если не настроить его, оценка моделей на кросс-валидации будет выполнена по дефолтной метрике регрессионных моделей - `R2`.\n",
    "    \n",
    "Метрика нашего проекта - `sMAPE`, и в базовом наборе метрик `sklearn` она отсутствует - нам придётся сделать свой скорринг. Для этого можно использовать инструмент `make_scorer` (https://scikit-learn.org/stable/modules/generated/sklearn.metrics.make_scorer.html).\n",
    "    \n",
    "Так как метрика `sMAPE` применяется для задач регрессии, то она тем лучше, чем ниже - это нужно учитывать при создании скорринга для кросс-валидации, так как по умолчанию инструменты кросс-валидации вроде `cross_val_score` и `GridSearchCV/RandomizedSearchCV` умеют только максимизировать метрику качества. Поэтому при создании скорринга с помощью `make_scorer` важно настроить параметр `greater_is_better=False`, чтобы оптимизируемая метрика минимизировалась, а не максимизировалась - таким образом задача максимизации будет решаться через задачу минимизации обратной функции.\n",
    "    \n",
    "Также при настройке этого параметра получаемая метрика будет отрицательной: это особеность работы `make_scorer` с настроенным параметром `greater_is_better=False`. Поэтому при выводе метрики на экран её стоит сделать положительной: взять по модулю, домножить на `-1` или просто указать `-` при выводе на экран, вроде `print(-a)`.\n",
    "</div>"
   ]
  },
  {
   "cell_type": "markdown",
   "metadata": {},
   "source": [
    "<div class=\"alert alert-block alert-danger\">\n",
    "<h2> Комментарий ревьюера v.2 <a class=\"tocSkip\"></h2>\n",
    "\n",
    "    \n",
    "<b>На доработку❌:</b>\n",
    "1. Из `scores_` нужно брать среднее, а не минимальное значение - нас интересует агегированная оценка по всем фолдам, а не только по лучшему.\n",
    "2. Знак метрики некорректный."
   ]
  },
  {
   "cell_type": "markdown",
   "metadata": {},
   "source": [
    "<div class=\"alert alert-success\">\n",
    "<h2> Комментарий ревьюера v.3 <a class=\"tocSkip\"> </h2>\n",
    "\n",
    "<b>Все отлично!👍:</b> Учтено."
   ]
  },
  {
   "cell_type": "markdown",
   "metadata": {},
   "source": [
    "<div class=\"alert alert-block alert-danger\">\n",
    "<h2> Комментарий ревьюера <a class=\"tocSkip\"></h2>\n",
    "\n",
    "    \n",
    "<b>На доработку❌:</b>\n",
    "Из двух оценок `sMAPE` на кросс-валидации нужно посчитать итоговую оценку для `sMAPE`."
   ]
  },
  {
   "cell_type": "markdown",
   "metadata": {},
   "source": [
    "<div class=\"alert alert-block alert-danger\">\n",
    "<h2> Комментарий ревьюера v.2 <a class=\"tocSkip\"></h2>\n",
    "\n",
    "    \n",
    "<b>На доработку❌:</b>\n",
    "На этой итерации модельный блок списан из https://github.com/sxemixa/Gold-recovery/blob/main/Gold%20recovery.ipynb. Нужно переделать с нуля и выполнить следующие допзадания:\n",
    "- дополнительно исследовать `Lasso`, `ElasticNet`: для линейных моделей оптимизировать один гиперпараметр, для случайного леса и дерева решений - не менее двух;\n",
    "- работу с пайплайном организовать через `Pipeline` (https://scikit-learn.org/stable/modules/generated/sklearn.pipeline.Pipeline.html) вместо текущего `make_pipeline`, в составе пайплайна вместо `StandardScaler` выполнить шкалирование переменных через `MinMaxScaler`;\n",
    "- помимо `sMAPE`, дополнительно посчитать метрики `MAE` и `RMSE` на кросс-валидации (для этого настроить параметры `scoring` и `refit` у `GridSearchCV`), результаты вместо `best_score_` получить из `cv_resulst_` по лучшему индексу (всю требуемую информацию можно получить из документации `GridSearchCV`). "
   ]
  },
  {
   "cell_type": "markdown",
   "metadata": {},
   "source": [
    "<div class=\"alert alert-success\">\n",
    "<h2> Комментарий ревьюера v.3 <a class=\"tocSkip\"> </h2>\n",
    "\n",
    "<b>Все отлично!👍:</b> Учтено."
   ]
  },
  {
   "cell_type": "markdown",
   "metadata": {},
   "source": [
    "Исследуем 4 типа моделей, оптимизируем для линейных 1 гиперпараметр, для случайного леса и дерева решений по 2. Настройку гиперпараметров будем подгонять под лучшие значения функций: mae, mape, rmse.В параметре refit укажем функцию mape для финальной подгонки моделей."
   ]
  },
  {
   "cell_type": "code",
   "execution_count": 51,
   "metadata": {},
   "outputs": [],
   "source": [
    "from sklearn.linear_model import ElasticNet"
   ]
  },
  {
   "cell_type": "markdown",
   "metadata": {},
   "source": [
    "<div class=\"alert alert-warning\">\n",
    "    <h2> Комментарий ревьюера v.3 <a class=\"tocSkip\"> </h2>\n",
    "    \n",
    "<b>Некоторые замечания и рекомендации⚠️:</b>\n",
    "Все библиотеки стоит импортировать в начале проекта - таким образом получатель твоего отчёта сможет узнать о проблемах с его окружением сразу перед работой с проектом, а не посреди или в конце проекта."
   ]
  },
  {
   "cell_type": "code",
   "execution_count": 52,
   "metadata": {},
   "outputs": [],
   "source": [
    "alphas=list(np.arange(0.1,2,0.05))\n",
    "depth = list(range(2,10))\n",
    "hyper_param = {'fit__alpha':alphas}\n",
    "params_RF = {'fit__n_estimators':[5,10],\n",
    "             'fit__max_depth':[1, 5, 10, 15]}\n",
    "params_DT= {'fit__max_depth':depth, \n",
    "            'fit__min_samples_split': [0.1, 1]}"
   ]
  },
  {
   "cell_type": "markdown",
   "metadata": {},
   "source": [
    "<div class=\"alert alert-block alert-danger\">\n",
    "<h2> Комментарий ревьюера <a class=\"tocSkip\"></h2>\n",
    "\n",
    "    \n",
    "<b>На доработку❌:</b>\n",
    "Оптимизация гиперпараметров выполнена формально: используя список в сетке параметров, мы исследуем только те значения, которые непосредственно находятся в этом списке - так шанс найти оптимальные гиперпараметры крайне низок. Вместо списка из нескольких значений стоит использовать последовательность `range()` - так шанс найти оптимальное значение выше."
   ]
  },
  {
   "cell_type": "markdown",
   "metadata": {},
   "source": [
    "<div class=\"alert alert-success\">\n",
    "<h2> Комментарий ревьюера v.3 <a class=\"tocSkip\"> </h2>\n",
    "\n",
    "<b>Все отлично!👍:</b> Учтено."
   ]
  },
  {
   "cell_type": "code",
   "execution_count": 53,
   "metadata": {},
   "outputs": [],
   "source": [
    "model_Lasso_rougher = Pipeline([('scaler', MinMaxScaler()), ('fit', Lasso(random_state=12345))])\n",
    "model_Lasso_final = Pipeline([('scaler', MinMaxScaler()), ('fit', Lasso(random_state=12345))])"
   ]
  },
  {
   "cell_type": "code",
   "execution_count": 54,
   "metadata": {},
   "outputs": [],
   "source": [
    "model_DTR_rougher = Pipeline([('scaler', MinMaxScaler()), ('fit', DecisionTreeRegressor(random_state=12345))])\n",
    "model_DTR_final = Pipeline([('scaler', MinMaxScaler()), ('fit', DecisionTreeRegressor(random_state=12345))])"
   ]
  },
  {
   "cell_type": "code",
   "execution_count": 55,
   "metadata": {},
   "outputs": [],
   "source": [
    "model_EN_rougher =  Pipeline([('scaler', MinMaxScaler()), ('fit', ElasticNet(random_state=12345))])\n",
    "model_EN_final =  Pipeline([('scaler', MinMaxScaler()), ('fit', ElasticNet(random_state=12345))])"
   ]
  },
  {
   "cell_type": "code",
   "execution_count": 56,
   "metadata": {},
   "outputs": [],
   "source": [
    "model_RFR_rougher = Pipeline([('scaler', MinMaxScaler()), ('fit', RandomForestRegressor(random_state=12345))])\n",
    "model_RFR_final = Pipeline([('scaler', MinMaxScaler()), ('fit', RandomForestRegressor(random_state=12345))])"
   ]
  },
  {
   "cell_type": "markdown",
   "metadata": {},
   "source": [
    "<div class=\"alert alert-block alert-danger\">\n",
    "<h2> Комментарий ревьюера v.2 <a class=\"tocSkip\"></h2>\n",
    "\n",
    "    \n",
    "<b>На доработку❌:</b>\n",
    "У моделей не настроен `random_state`."
   ]
  },
  {
   "cell_type": "markdown",
   "metadata": {},
   "source": [
    "<div class=\"alert alert-success\">\n",
    "<h2> Комментарий ревьюера v.3 <a class=\"tocSkip\"> </h2>\n",
    "\n",
    "<b>Все отлично!👍:</b> Учтено."
   ]
  },
  {
   "cell_type": "markdown",
   "metadata": {},
   "source": [
    "Напишем функцию для подсчета метрики RMSE, которую будем использовать для скоринга по время поиске по сетке лучших параметров моделей."
   ]
  },
  {
   "cell_type": "code",
   "execution_count": 57,
   "metadata": {},
   "outputs": [],
   "source": [
    "def rmse(target, predict):\n",
    "    \n",
    "    target = np.array(target)\n",
    "    predict = np.array(predict)\n",
    "    diff = predict-target\n",
    "    square_diff = diff ** 2\n",
    "    mean_square_diff = square_diff.mean()\n",
    "    rmse = np.sqrt(mean_square_diff)\n",
    "    return rmse"
   ]
  },
  {
   "cell_type": "code",
   "execution_count": 58,
   "metadata": {},
   "outputs": [],
   "source": [
    "scoring = {'rmse': make_scorer(rmse, greater_is_better=False),\n",
    "            'mae': 'neg_mean_absolute_error',\n",
    "           'sMape': make_scorer(sMAPE_i, greater_is_better=False)\n",
    "          }"
   ]
  },
  {
   "cell_type": "code",
   "execution_count": 59,
   "metadata": {},
   "outputs": [],
   "source": [
    "model_rougher_Lasso = GridSearchCV(model_Lasso_rougher, param_grid=hyper_param, \n",
    "                                   scoring=scoring, refit='sMape',return_train_score=True).fit(feature, target_rougher)\n",
    "model_final_Lasso = GridSearchCV(model_Lasso_final, param_grid=hyper_param, \n",
    "                                scoring=scoring, refit='sMape',return_train_score=True).fit(feature, target_final)\n"
   ]
  },
  {
   "cell_type": "code",
   "execution_count": 60,
   "metadata": {},
   "outputs": [],
   "source": [
    "model_rougher_DTR = GridSearchCV(model_DTR_rougher, param_grid=params_DT, \n",
    "                                 refit='sMape', scoring=scoring,return_train_score=True).fit(feature, target_rougher)\n",
    "model_final_DTR = GridSearchCV(model_DTR_final, param_grid=params_DT, \n",
    "                                 refit='sMape', scoring=scoring,return_train_score=True).fit(feature, target_final)"
   ]
  },
  {
   "cell_type": "code",
   "execution_count": 61,
   "metadata": {},
   "outputs": [],
   "source": [
    "model_rougher_ElasticNet= GridSearchCV(model_EN_rougher, param_grid=hyper_param, \n",
    "                                 refit='sMape', scoring=scoring,return_train_score=True).fit(feature, target_rougher)\n",
    "model_final_ElasticNet= GridSearchCV(model_EN_final, param_grid=hyper_param, \n",
    "                                 refit='sMape', scoring=scoring,return_train_score=True).fit(feature, target_final)"
   ]
  },
  {
   "cell_type": "code",
   "execution_count": 62,
   "metadata": {},
   "outputs": [],
   "source": [
    "model_rougher_RFR = GridSearchCV(model_RFR_rougher, param_grid=params_RF, \n",
    "                                 refit='sMape', scoring=scoring,return_train_score=True).fit(feature, target_rougher)"
   ]
  },
  {
   "cell_type": "code",
   "execution_count": 63,
   "metadata": {},
   "outputs": [],
   "source": [
    "model_final_RFR = GridSearchCV(model_RFR_final, param_grid=params_RF, \n",
    "                                 refit='sMape', scoring=scoring,return_train_score=True).fit(feature, target_final)"
   ]
  },
  {
   "cell_type": "markdown",
   "metadata": {},
   "source": [
    "Выведем на экран лучшие гиперпараметры моделей и значения оценщика."
   ]
  },
  {
   "cell_type": "code",
   "execution_count": 80,
   "metadata": {},
   "outputs": [
    {
     "name": "stdout",
     "output_type": "stream",
     "text": [
      "Лучшие параметры и скоринги моделей\n",
      "\n",
      "Флотация\n",
      "Регрессия Лассо: {'fit__alpha': 0.1}\n",
      "rmse = 6.306466490478729\n",
      "mae = 5.044726346434312\n",
      "Решающее дерево {'fit__max_depth': 2, 'fit__min_samples_split': 0.1}\n",
      "rmse = 6.531147323461553\n",
      "mae = 5.071817336893366\n",
      "Эластичная сеть {'fit__alpha': 0.1}\n",
      "rmse = 5.977734151802887\n",
      "mae = 4.768836849432196\n",
      "Случайный лес {'fit__max_depth': 10, 'fit__n_estimators': 5}\n",
      "rmse = 7.06013932914083\n",
      "mae = 5.340638936353011\n",
      "\n",
      "Финальная очистка\n",
      "Регрессия Лассо {'fit__alpha': 0.1}\n",
      "rmse = 6.306466490478729\n",
      "mae = 5.044726346434312\n",
      "Решающее дерево {'fit__max_depth': 2, 'fit__min_samples_split': 0.1}\n",
      "rmse = 7.451696202874638\n",
      "mae = 5.311990502588059\n",
      "Эластичная сеть {'fit__alpha': 0.1}\n",
      "rmse = 7.36219577267042\n",
      "mae = 5.340456048026877\n",
      "Случайный лес {'fit__max_depth': 1, 'fit__n_estimators': 10}\n",
      "rmse = 7.533731280484744\n",
      "mae = 5.4320097117965425\n"
     ]
    }
   ],
   "source": [
    "print(\"Лучшие параметры и скоринги моделей\\n\")\n",
    "print(\"Флотация\")\n",
    "print(\"Регрессия Лассо:\", model_rougher_Lasso.cv_results_['params'][model_rougher_Lasso.best_index_])\n",
    "print('rmse =', abs(model_rougher_Lasso.cv_results_['mean_test_rmse'][model_rougher_Lasso.best_index_]))\n",
    "print('mae =', abs(model_rougher_Lasso.cv_results_['mean_test_mae'][model_rougher_Lasso.best_index_]))\n",
    "print(\"Решающее дерево\", model_rougher_DTR.cv_results_['params'][model_rougher_DTR.best_index_])\n",
    "print('rmse =', abs(model_rougher_DTR.cv_results_['mean_test_rmse'][model_rougher_DTR.best_index_]))\n",
    "print('mae =', abs(model_rougher_DTR.cv_results_['mean_test_mae'][model_rougher_DTR.best_index_]))\n",
    "print(\"Эластичная сеть\", model_rougher_ElasticNet.cv_results_['params'][model_rougher_ElasticNet.best_index_])\n",
    "print('rmse =', abs(model_rougher_ElasticNet.cv_results_['mean_test_rmse'][model_rougher_ElasticNet.best_index_]))\n",
    "print('mae =', abs(model_rougher_ElasticNet.cv_results_['mean_test_mae'][model_rougher_ElasticNet.best_index_]))\n",
    "print(\"Случайный лес\", model_rougher_RFR.cv_results_['params'][model_rougher_RFR.best_index_])\n",
    "print('rmse =', abs(model_rougher_RFR.cv_results_['mean_test_rmse'][model_rougher_RFR.best_index_]))\n",
    "print('mae =', abs(model_rougher_RFR.cv_results_['mean_test_mae'][model_rougher_RFR.best_index_]))\n",
    "\n",
    "print(\"\\nФинальная очистка\")\n",
    "print(\"Регрессия Лассо\", model_final_Lasso.cv_results_['params'][model_final_Lasso.best_index_])\n",
    "print('rmse =', abs(model_rougher_Lasso.cv_results_['mean_test_rmse'][model_final_Lasso.best_index_]))\n",
    "print('mae =', abs(model_rougher_Lasso.cv_results_['mean_test_mae'][model_final_Lasso.best_index_]))\n",
    "print(\"Решающее дерево\", model_final_DTR.cv_results_['params'][model_final_DTR.best_index_])\n",
    "print('rmse =', abs(model_final_DTR.cv_results_['mean_test_rmse'][model_final_DTR.best_index_]))\n",
    "print('mae =', abs(model_final_DTR.cv_results_['mean_test_mae'][model_final_DTR.best_index_]))\n",
    "print(\"Эластичная сеть\", model_final_ElasticNet.cv_results_['params'][model_final_ElasticNet.best_index_])\n",
    "print('rmse =', abs(model_final_ElasticNet.cv_results_['mean_test_rmse'][model_final_ElasticNet.best_index_]))\n",
    "print('mae =', abs(model_final_ElasticNet.cv_results_['mean_test_mae'][model_final_ElasticNet.best_index_]))\n",
    "print(\"Случайный лес\", model_final_RFR.cv_results_['params'][model_final_RFR.best_index_])\n",
    "print('rmse =', abs(model_final_RFR.cv_results_['mean_test_rmse'][model_final_RFR.best_index_]))\n",
    "print('mae =', abs(model_final_RFR.cv_results_['mean_test_mae'][model_final_RFR.best_index_]))\n"
   ]
  },
  {
   "cell_type": "code",
   "execution_count": 65,
   "metadata": {},
   "outputs": [
    {
     "name": "stdout",
     "output_type": "stream",
     "text": [
      "sMAPE на обучающей выборке:\n",
      "Регрессия Лассо 7.4994194130815375\n",
      "Решающее дерево 7.515907079121226\n",
      "Эластичная сеть 7.453525728971593\n",
      "Случайный лес 7.748812227968067\n"
     ]
    }
   ],
   "source": [
    "print('sMAPE на обучающей выборке:')\n",
    "print(\"Регрессия Лассо\",0.25*abs(model_rougher_Lasso.best_score_)+0.75*abs(model_final_Lasso.best_score_))\n",
    "print(\"Решающее дерево\",0.25*abs(model_rougher_DTR.best_score_)+0.75*abs(model_final_DTR.best_score_))\n",
    "print(\"Эластичная сеть\",0.25*abs(model_rougher_ElasticNet.best_score_)+0.75*abs(model_final_ElasticNet.best_score_))\n",
    "print(\"Случайный лес\",0.25*abs(model_rougher_RFR.best_score_)+0.75*abs(model_final_RFR.best_score_))"
   ]
  },
  {
   "cell_type": "markdown",
   "metadata": {},
   "source": [
    "<div class=\"alert alert-block alert-danger\">\n",
    "<h2> Комментарий ревьюера v.2 <a class=\"tocSkip\"></h2>\n",
    "\n",
    "    \n",
    "<b>На доработку❌:</b> Не посчитаны итоговые оценки для каждой модели."
   ]
  },
  {
   "cell_type": "markdown",
   "metadata": {},
   "source": [
    "<div class=\"alert alert-block alert-danger\">\n",
    "<h2> Комментарий ревьюера v.3 <a class=\"tocSkip\"></h2>\n",
    "\n",
    "    \n",
    "<b>На доработку❌:</b>\n",
    "    \n",
    "1. При взвешивании использованы неправильные веса - см.условие проекта.\n",
    "2. Не выведены метрики `MAE` и `RMSE` - см.условие допзадания о том, как нужно их получить из `cv_results_`."
   ]
  },
  {
   "cell_type": "markdown",
   "metadata": {},
   "source": [
    "<div class=\"alert alert-success\">\n",
    "<h2> Комментарий ревьюера v.4 <a class=\"tocSkip\"> </h2>\n",
    "\n",
    "<b>Все отлично!👍:</b> Учтено."
   ]
  },
  {
   "cell_type": "markdown",
   "metadata": {},
   "source": [
    "Лучший результат для оценки эффективности обогащения чернового концентрата показала модель ElasticNet, в то время как для оценки эффективности обогащения финального концентрата наиболее точной оказалась модель Lasso. Итоговая метрика sMAPE достигла минимального значения у модели ElasticNet."
   ]
  },
  {
   "cell_type": "markdown",
   "metadata": {},
   "source": [
    "## Проверка лучшей модели на тестовой выборке."
   ]
  },
  {
   "cell_type": "code",
   "execution_count": 66,
   "metadata": {},
   "outputs": [],
   "source": [
    "target=full[['date','rougher.output.recovery','final.output.recovery']]\n",
    "test=test.merge(target,on=['date'], how='left')"
   ]
  },
  {
   "cell_type": "markdown",
   "metadata": {},
   "source": [
    "<div class=\"alert alert-success\">\n",
    "<h2> Комментарий ревьюера <a class=\"tocSkip\"> </h2>\n",
    "\n",
    "<b>Все отлично!👍:</b> В `test` добавили целевые признаки из `full`, используя дату как ключ при соединении - отлично!"
   ]
  },
  {
   "cell_type": "code",
   "execution_count": 67,
   "metadata": {},
   "outputs": [],
   "source": [
    "test=test.dropna()\n",
    "target_test_rougher=test['rougher.output.recovery']\n",
    "target_test_final=test['final.output.recovery']\n",
    "feature_test=test.drop(['date','rougher.output.recovery','final.output.recovery'], axis=1)"
   ]
  },
  {
   "cell_type": "code",
   "execution_count": 68,
   "metadata": {},
   "outputs": [],
   "source": [
    "prediction_rougher=model_rougher_ElasticNet.predict(feature_test)\n",
    "prediction_final=model_final_ElasticNet.predict(feature_test)\n"
   ]
  },
  {
   "cell_type": "code",
   "execution_count": 69,
   "metadata": {},
   "outputs": [
    {
     "name": "stdout",
     "output_type": "stream",
     "text": [
      "sMAPE на тестовой выборке:\n"
     ]
    },
    {
     "data": {
      "text/plain": [
       "7.270630936189627"
      ]
     },
     "execution_count": 69,
     "metadata": {},
     "output_type": "execute_result"
    }
   ],
   "source": [
    "print('sMAPE на тестовой выборке:')\n",
    "sMAPE(sMAPE_i(target_test_rougher, prediction_rougher), sMAPE_i(target_test_final, prediction_final))\n"
   ]
  },
  {
   "cell_type": "markdown",
   "metadata": {},
   "source": [
    "На тестовой выборке метрика sMAPE получила значение ниже, чем на обучающей. Модель выбрана корректно."
   ]
  },
  {
   "cell_type": "markdown",
   "metadata": {},
   "source": [
    "<div class=\"alert alert-block alert-danger\">\n",
    "<h2> Комментарий ревьюера <a class=\"tocSkip\"></h2>\n",
    "\n",
    "    \n",
    "<b>На доработку❌:</b>\n",
    "На `test` оцениваем только одну модель, лучшую по итогам кросс-валидации. Эта концепция находит своё отражение в условиях эксплуатации модели в реальной среде: в промышленной эксплуатации не работает несколько моделей одновременно - в промышленную эксплуатацию запускают только одну модель, которая была выбрана из нескольких в ходе промежуточной оценки. Так же и здесь - тестовая выборка имитирует поток реальных данных, и с этим потоком должна работать только одна модель."
   ]
  },
  {
   "cell_type": "markdown",
   "metadata": {},
   "source": [
    "<div class=\"alert alert-success\">\n",
    "<h2> Комментарий ревьюера v.2 <a class=\"tocSkip\"> </h2>\n",
    "\n",
    "<b>Все отлично!👍:</b> Учтено."
   ]
  },
  {
   "cell_type": "markdown",
   "metadata": {},
   "source": [
    "<div class=\"alert alert-block alert-danger\">\n",
    "<h2> Комментарий ревьюера <a class=\"tocSkip\"></h2>\n",
    "\n",
    "    \n",
    "<b>На доработку❌:</b>\n",
    "Очень важно также проверить лучшую модель на адекватность, сравнив качество её предсказаний с качеством модели, которая предсказывала бы константу - вдруг окажется, что не было бы большого смысла заниматься созданием новых признаков, тюнингом и кросс-валидацией моделей, если можно было бы просто предсказывать среднее значение тренировочной выборки? \n",
    "    \n",
    "В качестве константной модели можно использовать `DummyRegressor` (https://scikit-learn.org/stable/modules/generated/sklearn.dummy.DummyRegressor.html) -  эта модель как раз создана для генерирования константных предсказаний.\n",
    "    \n",
    "Важно, чтобы результат тестирования нашей модели на тествой выборке был лучше, чем результат константной модели - в противном случае наша модель является бесполезной, так как все наши усилия над проектом не принесли результата, а можель, просто предсказывющая среднее на `train`, делает нашу работу лучше.\n",
    "    "
   ]
  },
  {
   "cell_type": "markdown",
   "metadata": {},
   "source": [
    "<div class=\"alert alert-success\">\n",
    "<h2> Комментарий ревьюера v.2 <a class=\"tocSkip\"> </h2>\n",
    "\n",
    "<b>Все отлично!👍:</b> Учтено.\n",
    "    "
   ]
  },
  {
   "cell_type": "markdown",
   "metadata": {},
   "source": [
    "## Сравнение с константной моделью."
   ]
  },
  {
   "cell_type": "markdown",
   "metadata": {},
   "source": [
    "Проверим наши модели на адекватность."
   ]
  },
  {
   "cell_type": "code",
   "execution_count": 70,
   "metadata": {},
   "outputs": [
    {
     "data": {
      "text/plain": [
       "5.91955024734675"
      ]
     },
     "execution_count": 70,
     "metadata": {},
     "output_type": "execute_result"
    }
   ],
   "source": [
    "dummy_regressor_rougher = DummyRegressor(strategy=\"mean\")\n",
    "dummy_regressor_rougher.fit(feature, target_rougher)\n",
    "dummy_rougher_pred = dummy_regressor_rougher.predict(prediction_rougher)\n",
    "smape_dummy_rougher = sMAPE_i(target_test_rougher, dummy_rougher_pred)\n",
    "smape_dummy_rougher"
   ]
  },
  {
   "cell_type": "code",
   "execution_count": 71,
   "metadata": {},
   "outputs": [
    {
     "data": {
      "text/plain": [
       "8.982444203794723"
      ]
     },
     "execution_count": 71,
     "metadata": {},
     "output_type": "execute_result"
    }
   ],
   "source": [
    "dummy_regressor_final = DummyRegressor(strategy=\"mean\")\n",
    "dummy_regressor_final.fit(feature, target_final)\n",
    "dummy_final_pred = dummy_regressor_final.predict(prediction_final)\n",
    "smape_dummy_final = sMAPE_i(target_test_final, dummy_final_pred)\n",
    "smape_dummy_final"
   ]
  },
  {
   "cell_type": "code",
   "execution_count": 72,
   "metadata": {},
   "outputs": [
    {
     "data": {
      "text/plain": [
       "7.450997225570736"
      ]
     },
     "execution_count": 72,
     "metadata": {},
     "output_type": "execute_result"
    }
   ],
   "source": [
    "smape_dummy = (smape_dummy_final + smape_dummy_rougher)/2\n",
    "smape_dummy"
   ]
  },
  {
   "cell_type": "markdown",
   "metadata": {},
   "source": [
    "Наша модель предсказывает лучше, чем константная со средним значением признака."
   ]
  },
  {
   "cell_type": "markdown",
   "metadata": {},
   "source": [
    "## Выводы."
   ]
  },
  {
   "cell_type": "markdown",
   "metadata": {},
   "source": [
    "- Изучив исходные данные мы определили, что в полной и обучающей выборках по 87 столбцов, в тестовой 53. В данных есть пропуски. Некоторые параметры недоступны, потому что замеряются и/или рассчитываются значительно позже. Из-за этого в тестовой выборке отсутствуют некоторые признаки, которые могут быть в обучающей.\n",
    "- Проверив, правильно ли рассчитана эффективность обогащения рассчитана. Вычислили её на обучающей выборке для признака rougher.output.recovery и нашли MAE между нашими расчётами и значением признака близкое к нулю, что позволило сделать вывод о корректности расчетов эффективности обогащения.\n",
    "- Отсутствующими столбцами в тестовой выборке оказались выходные признаки после каждого технологического этапа.Среди них и наши целевые признаки final.output.recovery и rougher.output.recovery.\n",
    "- В процессе предобработки данных были обнаружены пропуски в выходных значениях технологических этапов. По условиям задачи соседние по времени параметры часто похожи. Мы заполнили пропуски значениями, стоящими на строку выше пропущенных.\n",
    "- При помощи \"ящиков с усами\" мы определили, что больше всего выбросов в концентрации золота (AU) на стадиях первичной и финальной очистки. А так же обнаружили, что среднее значение концентрации золота на финальной очистке выросло более чем в 2 раза по сравнению с первым этапом флотации. Отфильтровали выбросы в обучающей выборке.\n",
    "- Исследовав концентрацию металлов на каждом этапе обработки, можно заметить, что после флотации содержание металлов возросло на 20% по сравнению с сырьем, после первичной очистки концетрация металлов снижается в среднем на 7-8 %, зато после финальной очистки вырастает на 7-8%, и как нам известно из анализа выше, в основном за счет увеличения концентрации золота.\n",
    "- Сранив входные данные мы заметили, что размеры гранул сырья в обучающей и тестовой выборках распределяются идентичным образом.\n",
    "- Использовав кросс-валидацию при обучении моделей Линейной регрессии, Лассо, Решающего дерева, Эластичной сети и Случайного леса, нами был выбраны для дальнейшего использования Эластичная сеть (исследование после этапа флотации) и Лассо (для финальной очитски), т.к. именно они показали наилучшие параметра качества sMAPE на обучающей выборке. На тестовой выборке выбранные модели показали хорошие результаты оценки качества. Проверка на адекватность константной моделью проведена успешно.\n"
   ]
  },
  {
   "cell_type": "markdown",
   "metadata": {},
   "source": [
    "<div class=\"alert alert-success\">\n",
    "<h2> Комментарий ревьюера <a class=\"tocSkip\"> </h2>\n",
    "\n",
    "<b>Все отлично!👍:</b> Есть итоговый вывод - отлично!"
   ]
  },
  {
   "cell_type": "markdown",
   "metadata": {},
   "source": [
    "<div style=\"border:solid Chocolate 2px; padding: 40px\">\n",
    "\n",
    "# Комментарий ревьюера: общий вывод по проекту.\n",
    "\n",
    "Татьяна, проект получился на довольно хорошем уровне - отличная работа над проектом, молодец!\n",
    "\n",
    "Мне нравится твой аналитический подход к выполнению проекта, ты соблюдаешь структуру работы, выполняешь её последовательно - это очень хорошо! Шаги проекта выполнены по порядку согласно плану проекта, нет смысловых и структурных ям. Важно, что не забываешь про выводы.\n",
    "\n",
    "Работа с моделями также выполнена отлично: исследовано несколько алгоритмов, проведён подбор гиперпараметров, выполнена промежуточная оценка моделей на кросс-валидации - молодец!\n",
    "    \n",
    "Над проектом ещё стоит поработать - есть рекомендации по дополнению некоторых твоих шагов проекта. Такие рекомендации я отметил жёлтыми комментариями. Будет здорово, если ты учтёшь их - так проект станет структурно и содержательно более совершенным.\n",
    "    \n",
    "Также в работе есть критические замечания. К этим замечаниям я оставил пояснительные комментарии красного цвета, в которых перечислил возможные варианты дальнейших действий. Уверен, ты быстро с этим управишься:)\n",
    "    \n",
    "Если о том, что нужно сделать в рамках комментариев, будут возникать вопросы - оставь их, пожалуйста, в комментариях, и я отвечу на них во время следующего ревью.\n",
    "    \n",
    "Также буду рад ответить на любые твои вопросы по проекту или на какие-либо другие, если они у тебя имеются - оставь их в комментариях, и я постараюсь ответить:)\n",
    "    \n",
    "Жду твой проект на повторном ревью. До встречи:)"
   ]
  },
  {
   "cell_type": "markdown",
   "metadata": {},
   "source": [
    "<div style=\"border:solid Chocolate 2px; padding: 40px\">\n",
    "\n",
    "# Комментарий ревьюера: общий вывод по проекту v.2.\n",
    "\n",
    "Татьяна, продолжаем работу над проектом - актуальные замечания отмечены комментариями с меткой `v.2`.\n",
    "    \n",
    "Жду тебя снова:)"
   ]
  },
  {
   "cell_type": "markdown",
   "metadata": {},
   "source": [
    "<div style=\"border:solid Chocolate 2px; padding: 40px\">\n",
    "\n",
    "# Комментарий ревьюера: общий вывод по проекту v.3.\n",
    "\n",
    "Татьяна, продолжаем работу над проектом - актуальные замечания отмечены комментариями с меткой `v.3`.\n",
    "    \n",
    "Жду тебя снова:)"
   ]
  },
  {
   "cell_type": "markdown",
   "metadata": {},
   "source": [
    "<div style=\"border:solid Chocolate 2px; padding: 40px\">\n",
    "\n",
    "# Комментарий ревьюера: общий вывод по проекту v.4.\n",
    "\n",
    "Татьяна, все замечания учтены - проект принят!\n",
    "    \n",
    "Спасибо за хорошую работу над проектом, желаю успехов в дальнейшем обучении:)"
   ]
  }
 ],
 "metadata": {
  "ExecuteTimeLog": [
   {
    "duration": 1566,
    "start_time": "2023-09-02T08:58:07.117Z"
   },
   {
    "duration": 152,
    "start_time": "2023-09-02T08:59:33.238Z"
   },
   {
    "duration": 131,
    "start_time": "2023-09-02T09:00:52.679Z"
   },
   {
    "duration": 2134,
    "start_time": "2023-09-02T09:01:59.206Z"
   },
   {
    "duration": 81,
    "start_time": "2023-09-02T09:02:37.806Z"
   },
   {
    "duration": 120,
    "start_time": "2023-09-02T09:02:47.398Z"
   },
   {
    "duration": 78,
    "start_time": "2023-09-02T09:02:52.981Z"
   },
   {
    "duration": 727,
    "start_time": "2023-09-02T09:03:57.674Z"
   },
   {
    "duration": 710,
    "start_time": "2023-09-02T09:04:59.218Z"
   },
   {
    "duration": 16,
    "start_time": "2023-09-02T09:05:06.325Z"
   },
   {
    "duration": 12,
    "start_time": "2023-09-02T09:05:52.338Z"
   },
   {
    "duration": 15,
    "start_time": "2023-09-02T09:06:14.338Z"
   },
   {
    "duration": 75,
    "start_time": "2023-09-02T09:12:59.679Z"
   },
   {
    "duration": 14,
    "start_time": "2023-09-02T09:13:54.830Z"
   },
   {
    "duration": 4,
    "start_time": "2023-09-02T09:16:59.717Z"
   },
   {
    "duration": 9,
    "start_time": "2023-09-02T09:22:43.401Z"
   },
   {
    "duration": 82,
    "start_time": "2023-09-02T09:23:43.510Z"
   },
   {
    "duration": 1447,
    "start_time": "2023-09-02T09:23:59.654Z"
   },
   {
    "duration": 786,
    "start_time": "2023-09-02T09:24:01.103Z"
   },
   {
    "duration": 16,
    "start_time": "2023-09-02T09:24:01.891Z"
   },
   {
    "duration": 88,
    "start_time": "2023-09-02T09:24:01.908Z"
   },
   {
    "duration": 57,
    "start_time": "2023-09-02T09:24:01.999Z"
   },
   {
    "duration": 163,
    "start_time": "2023-09-02T09:24:02.058Z"
   },
   {
    "duration": 17,
    "start_time": "2023-09-02T09:24:02.223Z"
   },
   {
    "duration": 10,
    "start_time": "2023-09-02T09:24:02.242Z"
   },
   {
    "duration": 39,
    "start_time": "2023-09-02T09:24:02.254Z"
   },
   {
    "duration": 9,
    "start_time": "2023-09-02T09:27:48.090Z"
   },
   {
    "duration": 113,
    "start_time": "2023-09-02T09:28:05.937Z"
   },
   {
    "duration": 10,
    "start_time": "2023-09-02T09:28:16.209Z"
   },
   {
    "duration": 17,
    "start_time": "2023-09-02T09:30:49.058Z"
   },
   {
    "duration": 14,
    "start_time": "2023-09-02T09:31:40.656Z"
   },
   {
    "duration": 1377,
    "start_time": "2023-09-02T09:31:48.525Z"
   },
   {
    "duration": 753,
    "start_time": "2023-09-02T09:31:49.904Z"
   },
   {
    "duration": 15,
    "start_time": "2023-09-02T09:31:50.659Z"
   },
   {
    "duration": 11,
    "start_time": "2023-09-02T09:31:50.676Z"
   },
   {
    "duration": 36,
    "start_time": "2023-09-02T09:31:50.689Z"
   },
   {
    "duration": 12,
    "start_time": "2023-09-02T09:31:50.726Z"
   },
   {
    "duration": 27,
    "start_time": "2023-09-02T09:31:50.740Z"
   },
   {
    "duration": 8,
    "start_time": "2023-09-02T09:31:50.769Z"
   },
   {
    "duration": 20,
    "start_time": "2023-09-02T09:31:50.779Z"
   },
   {
    "duration": 21,
    "start_time": "2023-09-02T09:31:50.801Z"
   },
   {
    "duration": 102,
    "start_time": "2023-09-02T09:36:53.788Z"
   },
   {
    "duration": 9,
    "start_time": "2023-09-02T09:37:44.804Z"
   },
   {
    "duration": 5,
    "start_time": "2023-09-02T09:38:12.792Z"
   },
   {
    "duration": 8,
    "start_time": "2023-09-02T09:38:13.792Z"
   },
   {
    "duration": 9,
    "start_time": "2023-09-02T09:38:45.596Z"
   },
   {
    "duration": 4,
    "start_time": "2023-09-02T09:38:53.535Z"
   },
   {
    "duration": 7,
    "start_time": "2023-09-02T09:40:35.040Z"
   },
   {
    "duration": 5,
    "start_time": "2023-09-02T09:41:17.068Z"
   },
   {
    "duration": 10,
    "start_time": "2023-09-02T09:44:01.056Z"
   },
   {
    "duration": 9,
    "start_time": "2023-09-02T09:45:30.929Z"
   },
   {
    "duration": 9,
    "start_time": "2023-09-02T09:53:49.695Z"
   },
   {
    "duration": 4,
    "start_time": "2023-09-02T09:55:22.583Z"
   },
   {
    "duration": 3,
    "start_time": "2023-09-02T09:55:31.973Z"
   },
   {
    "duration": 4,
    "start_time": "2023-09-02T09:55:37.507Z"
   },
   {
    "duration": 5,
    "start_time": "2023-09-02T09:55:38.380Z"
   },
   {
    "duration": 11,
    "start_time": "2023-09-02T09:55:39.410Z"
   },
   {
    "duration": 3,
    "start_time": "2023-09-02T09:55:50.802Z"
   },
   {
    "duration": 5,
    "start_time": "2023-09-02T09:55:51.282Z"
   },
   {
    "duration": 10,
    "start_time": "2023-09-02T09:55:51.799Z"
   },
   {
    "duration": 1464,
    "start_time": "2023-09-02T09:56:30.316Z"
   },
   {
    "duration": 774,
    "start_time": "2023-09-02T09:56:31.782Z"
   },
   {
    "duration": 15,
    "start_time": "2023-09-02T09:56:32.557Z"
   },
   {
    "duration": 16,
    "start_time": "2023-09-02T09:56:32.573Z"
   },
   {
    "duration": 14,
    "start_time": "2023-09-02T09:56:32.590Z"
   },
   {
    "duration": 31,
    "start_time": "2023-09-02T09:56:32.606Z"
   },
   {
    "duration": 17,
    "start_time": "2023-09-02T09:56:32.641Z"
   },
   {
    "duration": 4,
    "start_time": "2023-09-02T09:56:32.659Z"
   },
   {
    "duration": 17,
    "start_time": "2023-09-02T09:56:32.664Z"
   },
   {
    "duration": 5,
    "start_time": "2023-09-02T09:56:32.682Z"
   },
   {
    "duration": 6,
    "start_time": "2023-09-02T09:56:32.688Z"
   },
   {
    "duration": 10,
    "start_time": "2023-09-02T09:56:32.695Z"
   },
   {
    "duration": 21,
    "start_time": "2023-09-02T09:56:32.706Z"
   },
   {
    "duration": 1390,
    "start_time": "2023-09-02T09:57:18.680Z"
   },
   {
    "duration": 868,
    "start_time": "2023-09-02T09:57:20.071Z"
   },
   {
    "duration": 24,
    "start_time": "2023-09-02T09:57:20.944Z"
   },
   {
    "duration": 12,
    "start_time": "2023-09-02T09:57:20.971Z"
   },
   {
    "duration": 28,
    "start_time": "2023-09-02T09:57:20.985Z"
   },
   {
    "duration": 34,
    "start_time": "2023-09-02T09:57:21.015Z"
   },
   {
    "duration": 18,
    "start_time": "2023-09-02T09:57:21.050Z"
   },
   {
    "duration": 4,
    "start_time": "2023-09-02T09:57:21.070Z"
   },
   {
    "duration": 5,
    "start_time": "2023-09-02T09:57:21.075Z"
   },
   {
    "duration": 17,
    "start_time": "2023-09-02T09:57:21.081Z"
   },
   {
    "duration": 39,
    "start_time": "2023-09-02T09:57:21.100Z"
   },
   {
    "duration": 9,
    "start_time": "2023-09-02T09:57:21.142Z"
   },
   {
    "duration": 9,
    "start_time": "2023-09-02T09:57:21.152Z"
   },
   {
    "duration": 2,
    "start_time": "2023-09-02T10:02:06.868Z"
   },
   {
    "duration": 8,
    "start_time": "2023-09-02T10:02:36.694Z"
   },
   {
    "duration": 105,
    "start_time": "2023-09-02T10:09:16.394Z"
   },
   {
    "duration": 11,
    "start_time": "2023-09-02T10:09:52.096Z"
   },
   {
    "duration": 12,
    "start_time": "2023-09-02T10:10:34.435Z"
   },
   {
    "duration": 106,
    "start_time": "2023-09-02T10:11:18.437Z"
   },
   {
    "duration": 13,
    "start_time": "2023-09-02T10:11:29.300Z"
   },
   {
    "duration": 11,
    "start_time": "2023-09-02T10:12:09.580Z"
   },
   {
    "duration": 11,
    "start_time": "2023-09-02T10:15:18.867Z"
   },
   {
    "duration": 21,
    "start_time": "2023-09-02T10:15:29.092Z"
   },
   {
    "duration": 8,
    "start_time": "2023-09-02T10:15:58.767Z"
   },
   {
    "duration": 9,
    "start_time": "2023-09-02T10:16:21.294Z"
   },
   {
    "duration": 8,
    "start_time": "2023-09-02T10:16:35.396Z"
   },
   {
    "duration": 8,
    "start_time": "2023-09-02T10:16:36.234Z"
   },
   {
    "duration": 7,
    "start_time": "2023-09-02T10:19:53.314Z"
   },
   {
    "duration": 199,
    "start_time": "2023-09-02T10:20:21.294Z"
   },
   {
    "duration": 190,
    "start_time": "2023-09-02T10:24:18.270Z"
   },
   {
    "duration": 186,
    "start_time": "2023-09-02T10:24:26.381Z"
   },
   {
    "duration": 265,
    "start_time": "2023-09-02T10:24:31.933Z"
   },
   {
    "duration": 8,
    "start_time": "2023-09-02T10:24:59.075Z"
   },
   {
    "duration": 218,
    "start_time": "2023-09-02T10:25:25.885Z"
   },
   {
    "duration": 218,
    "start_time": "2023-09-02T10:33:03.285Z"
   },
   {
    "duration": 219,
    "start_time": "2023-09-02T10:33:14.221Z"
   },
   {
    "duration": 249,
    "start_time": "2023-09-02T10:36:28.549Z"
   },
   {
    "duration": 247,
    "start_time": "2023-09-02T10:38:07.800Z"
   },
   {
    "duration": 283,
    "start_time": "2023-09-02T10:40:32.189Z"
   },
   {
    "duration": 131,
    "start_time": "2023-09-02T10:41:12.840Z"
   },
   {
    "duration": 230,
    "start_time": "2023-09-02T10:41:59.349Z"
   },
   {
    "duration": 242,
    "start_time": "2023-09-02T10:42:08.184Z"
   },
   {
    "duration": 232,
    "start_time": "2023-09-02T10:42:18.640Z"
   },
   {
    "duration": 249,
    "start_time": "2023-09-02T10:42:19.500Z"
   },
   {
    "duration": 417,
    "start_time": "2023-09-02T10:47:15.942Z"
   },
   {
    "duration": 356,
    "start_time": "2023-09-02T10:49:55.989Z"
   },
   {
    "duration": 278,
    "start_time": "2023-09-02T10:50:14.349Z"
   },
   {
    "duration": 301,
    "start_time": "2023-09-02T10:50:22.989Z"
   },
   {
    "duration": 278,
    "start_time": "2023-09-02T10:51:02.248Z"
   },
   {
    "duration": 275,
    "start_time": "2023-09-02T10:51:10.391Z"
   },
   {
    "duration": 289,
    "start_time": "2023-09-02T10:51:16.485Z"
   },
   {
    "duration": 319,
    "start_time": "2023-09-02T10:54:00.185Z"
   },
   {
    "duration": 358,
    "start_time": "2023-09-02T10:54:10.288Z"
   },
   {
    "duration": 366,
    "start_time": "2023-09-02T11:01:17.636Z"
   },
   {
    "duration": 259,
    "start_time": "2023-09-02T11:02:54.828Z"
   },
   {
    "duration": 458,
    "start_time": "2023-09-02T11:03:16.720Z"
   },
   {
    "duration": 366,
    "start_time": "2023-09-02T11:03:41.280Z"
   },
   {
    "duration": 1439,
    "start_time": "2023-09-02T11:05:47.639Z"
   },
   {
    "duration": 725,
    "start_time": "2023-09-02T11:05:49.080Z"
   },
   {
    "duration": 26,
    "start_time": "2023-09-02T11:05:49.807Z"
   },
   {
    "duration": 42,
    "start_time": "2023-09-02T11:05:49.835Z"
   },
   {
    "duration": 60,
    "start_time": "2023-09-02T11:05:49.879Z"
   },
   {
    "duration": 12,
    "start_time": "2023-09-02T11:05:49.940Z"
   },
   {
    "duration": 17,
    "start_time": "2023-09-02T11:05:49.953Z"
   },
   {
    "duration": 4,
    "start_time": "2023-09-02T11:05:49.971Z"
   },
   {
    "duration": 8,
    "start_time": "2023-09-02T11:05:49.976Z"
   },
   {
    "duration": 7,
    "start_time": "2023-09-02T11:05:49.985Z"
   },
   {
    "duration": 7,
    "start_time": "2023-09-02T11:05:49.993Z"
   },
   {
    "duration": 28,
    "start_time": "2023-09-02T11:05:50.001Z"
   },
   {
    "duration": 5,
    "start_time": "2023-09-02T11:05:50.031Z"
   },
   {
    "duration": 6,
    "start_time": "2023-09-02T11:05:50.040Z"
   },
   {
    "duration": 34,
    "start_time": "2023-09-02T11:05:50.047Z"
   },
   {
    "duration": 28,
    "start_time": "2023-09-02T11:05:50.082Z"
   },
   {
    "duration": 25,
    "start_time": "2023-09-02T11:05:50.112Z"
   },
   {
    "duration": 8,
    "start_time": "2023-09-02T11:05:50.139Z"
   },
   {
    "duration": 7,
    "start_time": "2023-09-02T11:05:50.149Z"
   },
   {
    "duration": 7,
    "start_time": "2023-09-02T11:05:50.158Z"
   },
   {
    "duration": 267,
    "start_time": "2023-09-02T11:05:50.166Z"
   },
   {
    "duration": 8,
    "start_time": "2023-09-02T11:05:50.436Z"
   },
   {
    "duration": 220,
    "start_time": "2023-09-02T11:05:50.446Z"
   },
   {
    "duration": 245,
    "start_time": "2023-09-02T11:05:50.668Z"
   },
   {
    "duration": 337,
    "start_time": "2023-09-02T11:05:50.915Z"
   },
   {
    "duration": 284,
    "start_time": "2023-09-02T11:05:51.254Z"
   },
   {
    "duration": 374,
    "start_time": "2023-09-02T11:05:51.539Z"
   },
   {
    "duration": 196,
    "start_time": "2023-09-02T11:07:04.649Z"
   },
   {
    "duration": 9,
    "start_time": "2023-09-02T11:09:22.657Z"
   },
   {
    "duration": 11,
    "start_time": "2023-09-02T11:09:22.668Z"
   },
   {
    "duration": 697,
    "start_time": "2023-09-02T11:16:23.643Z"
   },
   {
    "duration": 225,
    "start_time": "2023-09-02T11:19:14.533Z"
   },
   {
    "duration": 252,
    "start_time": "2023-09-02T11:19:36.093Z"
   },
   {
    "duration": 408,
    "start_time": "2023-09-02T11:19:52.812Z"
   },
   {
    "duration": 398,
    "start_time": "2023-09-02T11:20:04.479Z"
   },
   {
    "duration": 456,
    "start_time": "2023-09-02T11:20:15.846Z"
   },
   {
    "duration": 1421,
    "start_time": "2023-09-02T11:23:23.047Z"
   },
   {
    "duration": 717,
    "start_time": "2023-09-02T11:23:24.470Z"
   },
   {
    "duration": 15,
    "start_time": "2023-09-02T11:23:25.189Z"
   },
   {
    "duration": 26,
    "start_time": "2023-09-02T11:23:25.206Z"
   },
   {
    "duration": 95,
    "start_time": "2023-09-02T11:23:25.235Z"
   },
   {
    "duration": 32,
    "start_time": "2023-09-02T11:23:25.332Z"
   },
   {
    "duration": 22,
    "start_time": "2023-09-02T11:23:25.365Z"
   },
   {
    "duration": 4,
    "start_time": "2023-09-02T11:23:25.388Z"
   },
   {
    "duration": 37,
    "start_time": "2023-09-02T11:23:25.393Z"
   },
   {
    "duration": 20,
    "start_time": "2023-09-02T11:23:25.432Z"
   },
   {
    "duration": 14,
    "start_time": "2023-09-02T11:23:25.453Z"
   },
   {
    "duration": 12,
    "start_time": "2023-09-02T11:23:25.469Z"
   },
   {
    "duration": 5,
    "start_time": "2023-09-02T11:23:25.483Z"
   },
   {
    "duration": 15,
    "start_time": "2023-09-02T11:23:25.491Z"
   },
   {
    "duration": 14,
    "start_time": "2023-09-02T11:23:25.507Z"
   },
   {
    "duration": 19,
    "start_time": "2023-09-02T11:23:25.523Z"
   },
   {
    "duration": 45,
    "start_time": "2023-09-02T11:23:25.544Z"
   },
   {
    "duration": 22,
    "start_time": "2023-09-02T11:23:25.590Z"
   },
   {
    "duration": 36,
    "start_time": "2023-09-02T11:23:25.614Z"
   },
   {
    "duration": 30,
    "start_time": "2023-09-02T11:23:25.652Z"
   },
   {
    "duration": 293,
    "start_time": "2023-09-02T11:23:25.683Z"
   },
   {
    "duration": 10,
    "start_time": "2023-09-02T11:23:25.978Z"
   },
   {
    "duration": 261,
    "start_time": "2023-09-02T11:23:25.990Z"
   },
   {
    "duration": 246,
    "start_time": "2023-09-02T11:23:26.253Z"
   },
   {
    "duration": 339,
    "start_time": "2023-09-02T11:23:26.501Z"
   },
   {
    "duration": 282,
    "start_time": "2023-09-02T11:23:26.842Z"
   },
   {
    "duration": 241,
    "start_time": "2023-09-02T11:23:27.126Z"
   },
   {
    "duration": 8,
    "start_time": "2023-09-02T11:23:27.369Z"
   },
   {
    "duration": 27,
    "start_time": "2023-09-02T11:23:27.379Z"
   },
   {
    "duration": 2,
    "start_time": "2023-09-02T11:24:54.852Z"
   },
   {
    "duration": 4,
    "start_time": "2023-09-02T13:34:27.293Z"
   },
   {
    "duration": 114,
    "start_time": "2023-09-02T13:35:14.573Z"
   },
   {
    "duration": 5,
    "start_time": "2023-09-02T13:35:35.759Z"
   },
   {
    "duration": 4,
    "start_time": "2023-09-02T13:35:36.684Z"
   },
   {
    "duration": 5,
    "start_time": "2023-09-02T13:35:37.633Z"
   },
   {
    "duration": 220,
    "start_time": "2023-09-02T13:39:13.053Z"
   },
   {
    "duration": 54,
    "start_time": "2023-09-02T13:41:11.613Z"
   },
   {
    "duration": 33,
    "start_time": "2023-09-02T13:49:51.414Z"
   },
   {
    "duration": 42,
    "start_time": "2023-09-02T13:49:54.168Z"
   },
   {
    "duration": 214,
    "start_time": "2023-09-02T13:50:39.597Z"
   },
   {
    "duration": 219,
    "start_time": "2023-09-02T13:51:32.637Z"
   },
   {
    "duration": 235,
    "start_time": "2023-09-02T13:52:01.337Z"
   },
   {
    "duration": 4,
    "start_time": "2023-09-02T13:54:51.788Z"
   },
   {
    "duration": 249,
    "start_time": "2023-09-02T13:56:18.328Z"
   },
   {
    "duration": 8,
    "start_time": "2023-09-02T13:57:08.788Z"
   },
   {
    "duration": 2,
    "start_time": "2023-09-02T13:57:48.400Z"
   },
   {
    "duration": 1139,
    "start_time": "2023-09-02T13:58:53.087Z"
   },
   {
    "duration": 21953,
    "start_time": "2023-09-02T14:00:30.367Z"
   },
   {
    "duration": 11219,
    "start_time": "2023-09-02T14:02:47.796Z"
   },
   {
    "duration": 8,
    "start_time": "2023-09-02T14:10:46.962Z"
   },
   {
    "duration": 205,
    "start_time": "2023-09-02T14:10:47.824Z"
   },
   {
    "duration": 10,
    "start_time": "2023-09-02T14:10:55.836Z"
   },
   {
    "duration": 190,
    "start_time": "2023-09-02T14:10:56.593Z"
   },
   {
    "duration": 8,
    "start_time": "2023-09-02T14:10:57.587Z"
   },
   {
    "duration": 200,
    "start_time": "2023-09-02T14:10:58.259Z"
   },
   {
    "duration": 1640,
    "start_time": "2023-09-02T15:53:20.822Z"
   },
   {
    "duration": 808,
    "start_time": "2023-09-02T15:53:22.463Z"
   },
   {
    "duration": 17,
    "start_time": "2023-09-02T15:53:23.273Z"
   },
   {
    "duration": 12,
    "start_time": "2023-09-02T15:53:23.292Z"
   },
   {
    "duration": 37,
    "start_time": "2023-09-02T15:53:23.306Z"
   },
   {
    "duration": 13,
    "start_time": "2023-09-02T15:53:23.346Z"
   },
   {
    "duration": 18,
    "start_time": "2023-09-02T15:53:23.360Z"
   },
   {
    "duration": 4,
    "start_time": "2023-09-02T15:53:23.379Z"
   },
   {
    "duration": 5,
    "start_time": "2023-09-02T15:53:23.384Z"
   },
   {
    "duration": 35,
    "start_time": "2023-09-02T15:53:23.390Z"
   },
   {
    "duration": 16,
    "start_time": "2023-09-02T15:53:23.428Z"
   },
   {
    "duration": 14,
    "start_time": "2023-09-02T15:53:23.447Z"
   },
   {
    "duration": 6,
    "start_time": "2023-09-02T15:53:23.462Z"
   },
   {
    "duration": 7,
    "start_time": "2023-09-02T15:53:23.471Z"
   },
   {
    "duration": 18,
    "start_time": "2023-09-02T15:53:23.480Z"
   },
   {
    "duration": 30,
    "start_time": "2023-09-02T15:53:23.500Z"
   },
   {
    "duration": 24,
    "start_time": "2023-09-02T15:53:23.532Z"
   },
   {
    "duration": 8,
    "start_time": "2023-09-02T15:53:23.558Z"
   },
   {
    "duration": 9,
    "start_time": "2023-09-02T15:53:23.568Z"
   },
   {
    "duration": 7,
    "start_time": "2023-09-02T15:53:23.578Z"
   },
   {
    "duration": 269,
    "start_time": "2023-09-02T15:53:23.587Z"
   },
   {
    "duration": 7,
    "start_time": "2023-09-02T15:53:23.858Z"
   },
   {
    "duration": 233,
    "start_time": "2023-09-02T15:53:23.866Z"
   },
   {
    "duration": 7,
    "start_time": "2023-09-02T15:53:24.101Z"
   },
   {
    "duration": 250,
    "start_time": "2023-09-02T15:53:24.110Z"
   },
   {
    "duration": 393,
    "start_time": "2023-09-02T15:53:24.361Z"
   },
   {
    "duration": 301,
    "start_time": "2023-09-02T15:53:24.756Z"
   },
   {
    "duration": 293,
    "start_time": "2023-09-02T15:53:25.058Z"
   },
   {
    "duration": 263,
    "start_time": "2023-09-02T15:53:25.355Z"
   },
   {
    "duration": 12,
    "start_time": "2023-09-02T15:53:25.620Z"
   },
   {
    "duration": 31,
    "start_time": "2023-09-02T15:53:25.634Z"
   },
   {
    "duration": 38,
    "start_time": "2023-09-02T15:53:25.668Z"
   },
   {
    "duration": 18,
    "start_time": "2023-09-02T15:53:25.708Z"
   },
   {
    "duration": 18,
    "start_time": "2023-09-02T15:53:25.727Z"
   },
   {
    "duration": 319,
    "start_time": "2023-09-02T15:53:25.747Z"
   },
   {
    "duration": 83,
    "start_time": "2023-09-02T15:53:26.068Z"
   },
   {
    "duration": 258,
    "start_time": "2023-09-02T15:53:26.153Z"
   },
   {
    "duration": 58,
    "start_time": "2023-09-02T15:53:26.413Z"
   },
   {
    "duration": 263,
    "start_time": "2023-09-02T15:53:26.473Z"
   },
   {
    "duration": 7,
    "start_time": "2023-09-02T15:53:26.739Z"
   },
   {
    "duration": 9,
    "start_time": "2023-09-02T15:53:26.751Z"
   },
   {
    "duration": 10,
    "start_time": "2023-09-02T15:53:26.762Z"
   },
   {
    "duration": 2052,
    "start_time": "2023-09-02T15:53:26.773Z"
   },
   {
    "duration": 12224,
    "start_time": "2023-09-02T15:53:28.831Z"
   },
   {
    "duration": 3633,
    "start_time": "2023-09-02T15:53:41.057Z"
   },
   {
    "duration": 12206,
    "start_time": "2023-09-02T15:54:20.402Z"
   },
   {
    "duration": 12917,
    "start_time": "2023-09-02T15:55:27.495Z"
   },
   {
    "duration": 3438,
    "start_time": "2023-09-02T15:56:26.807Z"
   },
   {
    "duration": 111262,
    "start_time": "2023-09-02T15:57:38.495Z"
   },
   {
    "duration": 43857,
    "start_time": "2023-09-02T16:00:38.775Z"
   },
   {
    "duration": 1435,
    "start_time": "2023-09-02T16:02:19.166Z"
   },
   {
    "duration": 816,
    "start_time": "2023-09-02T16:02:20.603Z"
   },
   {
    "duration": 23,
    "start_time": "2023-09-02T16:02:21.421Z"
   },
   {
    "duration": 16,
    "start_time": "2023-09-02T16:02:21.446Z"
   },
   {
    "duration": 34,
    "start_time": "2023-09-02T16:02:21.465Z"
   },
   {
    "duration": 12,
    "start_time": "2023-09-02T16:02:21.501Z"
   },
   {
    "duration": 24,
    "start_time": "2023-09-02T16:02:21.515Z"
   },
   {
    "duration": 3,
    "start_time": "2023-09-02T16:02:21.541Z"
   },
   {
    "duration": 24,
    "start_time": "2023-09-02T16:02:21.546Z"
   },
   {
    "duration": 32,
    "start_time": "2023-09-02T16:02:21.572Z"
   },
   {
    "duration": 27,
    "start_time": "2023-09-02T16:02:21.605Z"
   },
   {
    "duration": 63,
    "start_time": "2023-09-02T16:02:21.634Z"
   },
   {
    "duration": 39,
    "start_time": "2023-09-02T16:02:21.699Z"
   },
   {
    "duration": 39,
    "start_time": "2023-09-02T16:02:21.741Z"
   },
   {
    "duration": 39,
    "start_time": "2023-09-02T16:02:21.782Z"
   },
   {
    "duration": 25,
    "start_time": "2023-09-02T16:02:21.823Z"
   },
   {
    "duration": 40,
    "start_time": "2023-09-02T16:02:21.849Z"
   },
   {
    "duration": 20,
    "start_time": "2023-09-02T16:02:21.891Z"
   },
   {
    "duration": 29,
    "start_time": "2023-09-02T16:02:21.913Z"
   },
   {
    "duration": 9,
    "start_time": "2023-09-02T16:02:21.944Z"
   },
   {
    "duration": 228,
    "start_time": "2023-09-02T16:02:21.954Z"
   },
   {
    "duration": 8,
    "start_time": "2023-09-02T16:02:22.183Z"
   },
   {
    "duration": 247,
    "start_time": "2023-09-02T16:02:22.192Z"
   },
   {
    "duration": 8,
    "start_time": "2023-09-02T16:02:22.440Z"
   },
   {
    "duration": 217,
    "start_time": "2023-09-02T16:02:22.449Z"
   },
   {
    "duration": 385,
    "start_time": "2023-09-02T16:02:22.668Z"
   },
   {
    "duration": 260,
    "start_time": "2023-09-02T16:02:23.055Z"
   },
   {
    "duration": 314,
    "start_time": "2023-09-02T16:02:23.323Z"
   },
   {
    "duration": 254,
    "start_time": "2023-09-02T16:02:23.639Z"
   },
   {
    "duration": 7,
    "start_time": "2023-09-02T16:02:23.895Z"
   },
   {
    "duration": 89,
    "start_time": "2023-09-02T16:02:23.904Z"
   },
   {
    "duration": 5,
    "start_time": "2023-09-02T16:02:23.995Z"
   },
   {
    "duration": 6,
    "start_time": "2023-09-02T16:02:24.002Z"
   },
   {
    "duration": 8,
    "start_time": "2023-09-02T16:02:24.010Z"
   },
   {
    "duration": 243,
    "start_time": "2023-09-02T16:02:24.019Z"
   },
   {
    "duration": 48,
    "start_time": "2023-09-02T16:02:24.264Z"
   },
   {
    "duration": 230,
    "start_time": "2023-09-02T16:02:24.333Z"
   },
   {
    "duration": 40,
    "start_time": "2023-09-02T16:02:24.565Z"
   },
   {
    "duration": 263,
    "start_time": "2023-09-02T16:02:24.606Z"
   },
   {
    "duration": 4,
    "start_time": "2023-09-02T16:02:24.870Z"
   },
   {
    "duration": 15,
    "start_time": "2023-09-02T16:02:24.877Z"
   },
   {
    "duration": 5,
    "start_time": "2023-09-02T16:02:24.894Z"
   },
   {
    "duration": 1731,
    "start_time": "2023-09-02T16:02:24.901Z"
   },
   {
    "duration": 113964,
    "start_time": "2023-09-02T16:02:26.635Z"
   },
   {
    "duration": 44128,
    "start_time": "2023-09-02T16:04:20.600Z"
   },
   {
    "duration": 112309,
    "start_time": "2023-09-02T16:05:38.595Z"
   },
   {
    "duration": 1618,
    "start_time": "2023-09-02T16:07:30.906Z"
   },
   {
    "duration": 1357,
    "start_time": "2023-09-02T16:08:29.574Z"
   },
   {
    "duration": 112425,
    "start_time": "2023-09-02T16:08:33.016Z"
   },
   {
    "duration": 43896,
    "start_time": "2023-09-02T16:10:25.443Z"
   },
   {
    "duration": 4654,
    "start_time": "2023-09-02T16:12:16.187Z"
   },
   {
    "duration": 1432,
    "start_time": "2023-09-02T16:19:26.812Z"
   },
   {
    "duration": 782,
    "start_time": "2023-09-02T16:19:28.246Z"
   },
   {
    "duration": 23,
    "start_time": "2023-09-02T16:19:29.030Z"
   },
   {
    "duration": 15,
    "start_time": "2023-09-02T16:19:29.055Z"
   },
   {
    "duration": 17,
    "start_time": "2023-09-02T16:19:29.073Z"
   },
   {
    "duration": 11,
    "start_time": "2023-09-02T16:19:29.091Z"
   },
   {
    "duration": 26,
    "start_time": "2023-09-02T16:19:29.124Z"
   },
   {
    "duration": 3,
    "start_time": "2023-09-02T16:19:29.152Z"
   },
   {
    "duration": 7,
    "start_time": "2023-09-02T16:19:29.156Z"
   },
   {
    "duration": 7,
    "start_time": "2023-09-02T16:19:29.165Z"
   },
   {
    "duration": 7,
    "start_time": "2023-09-02T16:19:29.173Z"
   },
   {
    "duration": 7,
    "start_time": "2023-09-02T16:19:29.182Z"
   },
   {
    "duration": 5,
    "start_time": "2023-09-02T16:19:29.191Z"
   },
   {
    "duration": 17,
    "start_time": "2023-09-02T16:19:29.223Z"
   },
   {
    "duration": 13,
    "start_time": "2023-09-02T16:19:29.241Z"
   },
   {
    "duration": 11,
    "start_time": "2023-09-02T16:19:29.256Z"
   },
   {
    "duration": 22,
    "start_time": "2023-09-02T16:19:29.269Z"
   },
   {
    "duration": 9,
    "start_time": "2023-09-02T16:19:29.292Z"
   },
   {
    "duration": 36,
    "start_time": "2023-09-02T16:19:29.302Z"
   },
   {
    "duration": 8,
    "start_time": "2023-09-02T16:19:29.340Z"
   },
   {
    "duration": 233,
    "start_time": "2023-09-02T16:19:29.349Z"
   },
   {
    "duration": 7,
    "start_time": "2023-09-02T16:19:29.584Z"
   },
   {
    "duration": 222,
    "start_time": "2023-09-02T16:19:29.592Z"
   },
   {
    "duration": 21,
    "start_time": "2023-09-02T16:19:29.816Z"
   },
   {
    "duration": 215,
    "start_time": "2023-09-02T16:19:29.839Z"
   },
   {
    "duration": 409,
    "start_time": "2023-09-02T16:19:30.055Z"
   },
   {
    "duration": 281,
    "start_time": "2023-09-02T16:19:30.465Z"
   },
   {
    "duration": 307,
    "start_time": "2023-09-02T16:19:30.748Z"
   },
   {
    "duration": 262,
    "start_time": "2023-09-02T16:19:31.057Z"
   },
   {
    "duration": 18,
    "start_time": "2023-09-02T16:19:31.323Z"
   },
   {
    "duration": 13,
    "start_time": "2023-09-02T16:19:31.343Z"
   },
   {
    "duration": 46,
    "start_time": "2023-09-02T16:19:31.358Z"
   },
   {
    "duration": 59,
    "start_time": "2023-09-02T16:19:31.405Z"
   },
   {
    "duration": 54,
    "start_time": "2023-09-02T16:19:31.465Z"
   },
   {
    "duration": 292,
    "start_time": "2023-09-02T16:19:31.521Z"
   },
   {
    "duration": 69,
    "start_time": "2023-09-02T16:19:31.816Z"
   },
   {
    "duration": 258,
    "start_time": "2023-09-02T16:19:31.886Z"
   },
   {
    "duration": 44,
    "start_time": "2023-09-02T16:19:32.146Z"
   },
   {
    "duration": 299,
    "start_time": "2023-09-02T16:19:32.192Z"
   },
   {
    "duration": 6,
    "start_time": "2023-09-02T16:19:32.493Z"
   },
   {
    "duration": 55,
    "start_time": "2023-09-02T16:19:32.503Z"
   },
   {
    "duration": 33,
    "start_time": "2023-09-02T16:19:32.560Z"
   },
   {
    "duration": 2135,
    "start_time": "2023-09-02T16:19:32.595Z"
   },
   {
    "duration": 1385,
    "start_time": "2023-09-02T16:24:10.377Z"
   },
   {
    "duration": 758,
    "start_time": "2023-09-02T16:24:11.764Z"
   },
   {
    "duration": 19,
    "start_time": "2023-09-02T16:24:12.523Z"
   },
   {
    "duration": 28,
    "start_time": "2023-09-02T16:24:12.544Z"
   },
   {
    "duration": 19,
    "start_time": "2023-09-02T16:24:12.574Z"
   },
   {
    "duration": 12,
    "start_time": "2023-09-02T16:24:12.595Z"
   },
   {
    "duration": 29,
    "start_time": "2023-09-02T16:24:12.608Z"
   },
   {
    "duration": 26,
    "start_time": "2023-09-02T16:24:12.639Z"
   },
   {
    "duration": 14,
    "start_time": "2023-09-02T16:24:12.667Z"
   },
   {
    "duration": 16,
    "start_time": "2023-09-02T16:24:12.684Z"
   },
   {
    "duration": 20,
    "start_time": "2023-09-02T16:24:12.702Z"
   },
   {
    "duration": 28,
    "start_time": "2023-09-02T16:24:12.723Z"
   },
   {
    "duration": 19,
    "start_time": "2023-09-02T16:24:12.752Z"
   },
   {
    "duration": 21,
    "start_time": "2023-09-02T16:24:12.773Z"
   },
   {
    "duration": 27,
    "start_time": "2023-09-02T16:24:12.795Z"
   },
   {
    "duration": 25,
    "start_time": "2023-09-02T16:24:12.823Z"
   },
   {
    "duration": 31,
    "start_time": "2023-09-02T16:24:12.849Z"
   },
   {
    "duration": 10,
    "start_time": "2023-09-02T16:24:12.882Z"
   },
   {
    "duration": 51,
    "start_time": "2023-09-02T16:24:12.893Z"
   },
   {
    "duration": 60,
    "start_time": "2023-09-02T16:24:12.946Z"
   },
   {
    "duration": 241,
    "start_time": "2023-09-02T16:24:13.009Z"
   },
   {
    "duration": 7,
    "start_time": "2023-09-02T16:24:13.252Z"
   },
   {
    "duration": 296,
    "start_time": "2023-09-02T16:24:13.261Z"
   },
   {
    "duration": 8,
    "start_time": "2023-09-02T16:24:13.558Z"
   },
   {
    "duration": 229,
    "start_time": "2023-09-02T16:24:13.567Z"
   },
   {
    "duration": 365,
    "start_time": "2023-09-02T16:24:13.798Z"
   },
   {
    "duration": 239,
    "start_time": "2023-09-02T16:24:14.165Z"
   },
   {
    "duration": 258,
    "start_time": "2023-09-02T16:24:14.407Z"
   },
   {
    "duration": 248,
    "start_time": "2023-09-02T16:24:14.667Z"
   },
   {
    "duration": 10,
    "start_time": "2023-09-02T16:24:14.924Z"
   },
   {
    "duration": 31,
    "start_time": "2023-09-02T16:24:14.937Z"
   },
   {
    "duration": 21,
    "start_time": "2023-09-02T16:24:14.970Z"
   },
   {
    "duration": 50,
    "start_time": "2023-09-02T16:24:14.993Z"
   },
   {
    "duration": 63,
    "start_time": "2023-09-02T16:24:15.045Z"
   },
   {
    "duration": 240,
    "start_time": "2023-09-02T16:24:15.110Z"
   },
   {
    "duration": 52,
    "start_time": "2023-09-02T16:24:15.352Z"
   },
   {
    "duration": 241,
    "start_time": "2023-09-02T16:24:15.425Z"
   },
   {
    "duration": 43,
    "start_time": "2023-09-02T16:24:15.667Z"
   },
   {
    "duration": 341,
    "start_time": "2023-09-02T16:24:15.725Z"
   },
   {
    "duration": 7,
    "start_time": "2023-09-02T16:24:16.068Z"
   },
   {
    "duration": 33,
    "start_time": "2023-09-02T16:24:16.076Z"
   },
   {
    "duration": 31,
    "start_time": "2023-09-02T16:24:16.111Z"
   },
   {
    "duration": 1184,
    "start_time": "2023-09-02T16:24:16.143Z"
   },
   {
    "duration": 1409,
    "start_time": "2023-09-02T16:27:56.342Z"
   },
   {
    "duration": 781,
    "start_time": "2023-09-02T16:27:57.754Z"
   },
   {
    "duration": 19,
    "start_time": "2023-09-02T16:27:58.537Z"
   },
   {
    "duration": 16,
    "start_time": "2023-09-02T16:27:58.558Z"
   },
   {
    "duration": 64,
    "start_time": "2023-09-02T16:27:58.577Z"
   },
   {
    "duration": 11,
    "start_time": "2023-09-02T16:27:58.643Z"
   },
   {
    "duration": 17,
    "start_time": "2023-09-02T16:27:58.655Z"
   },
   {
    "duration": 3,
    "start_time": "2023-09-02T16:27:58.674Z"
   },
   {
    "duration": 5,
    "start_time": "2023-09-02T16:27:58.678Z"
   },
   {
    "duration": 4,
    "start_time": "2023-09-02T16:27:58.684Z"
   },
   {
    "duration": 14,
    "start_time": "2023-09-02T16:27:58.690Z"
   },
   {
    "duration": 13,
    "start_time": "2023-09-02T16:27:58.723Z"
   },
   {
    "duration": 7,
    "start_time": "2023-09-02T16:27:58.738Z"
   },
   {
    "duration": 8,
    "start_time": "2023-09-02T16:27:58.747Z"
   },
   {
    "duration": 25,
    "start_time": "2023-09-02T16:27:58.756Z"
   },
   {
    "duration": 53,
    "start_time": "2023-09-02T16:27:58.782Z"
   },
   {
    "duration": 19,
    "start_time": "2023-09-02T16:27:58.837Z"
   },
   {
    "duration": 10,
    "start_time": "2023-09-02T16:27:58.858Z"
   },
   {
    "duration": 11,
    "start_time": "2023-09-02T16:27:58.869Z"
   },
   {
    "duration": 8,
    "start_time": "2023-09-02T16:27:58.882Z"
   },
   {
    "duration": 245,
    "start_time": "2023-09-02T16:27:58.891Z"
   },
   {
    "duration": 11,
    "start_time": "2023-09-02T16:27:59.138Z"
   },
   {
    "duration": 226,
    "start_time": "2023-09-02T16:27:59.150Z"
   },
   {
    "duration": 8,
    "start_time": "2023-09-02T16:27:59.377Z"
   },
   {
    "duration": 217,
    "start_time": "2023-09-02T16:27:59.386Z"
   },
   {
    "duration": 351,
    "start_time": "2023-09-02T16:27:59.604Z"
   },
   {
    "duration": 247,
    "start_time": "2023-09-02T16:27:59.957Z"
   },
   {
    "duration": 302,
    "start_time": "2023-09-02T16:28:00.205Z"
   },
   {
    "duration": 258,
    "start_time": "2023-09-02T16:28:00.509Z"
   },
   {
    "duration": 8,
    "start_time": "2023-09-02T16:28:00.768Z"
   },
   {
    "duration": 52,
    "start_time": "2023-09-02T16:28:00.778Z"
   },
   {
    "duration": 103,
    "start_time": "2023-09-02T16:28:00.833Z"
   },
   {
    "duration": 48,
    "start_time": "2023-09-02T16:28:00.942Z"
   },
   {
    "duration": 54,
    "start_time": "2023-09-02T16:28:00.991Z"
   },
   {
    "duration": 298,
    "start_time": "2023-09-02T16:28:01.047Z"
   },
   {
    "duration": 51,
    "start_time": "2023-09-02T16:28:01.346Z"
   },
   {
    "duration": 287,
    "start_time": "2023-09-02T16:28:01.399Z"
   },
   {
    "duration": 55,
    "start_time": "2023-09-02T16:28:01.688Z"
   },
   {
    "duration": 258,
    "start_time": "2023-09-02T16:28:01.749Z"
   },
   {
    "duration": 3,
    "start_time": "2023-09-02T16:28:02.009Z"
   },
   {
    "duration": 13,
    "start_time": "2023-09-02T16:28:02.024Z"
   },
   {
    "duration": 9,
    "start_time": "2023-09-02T16:28:02.039Z"
   },
   {
    "duration": 1883,
    "start_time": "2023-09-02T16:28:02.050Z"
   },
   {
    "duration": 11585,
    "start_time": "2023-09-02T16:28:03.935Z"
   },
   {
    "duration": 4527,
    "start_time": "2023-09-02T16:28:15.524Z"
   },
   {
    "duration": 81,
    "start_time": "2023-09-02T16:28:20.052Z"
   },
   {
    "duration": 4,
    "start_time": "2023-09-02T16:29:42.483Z"
   },
   {
    "duration": 11,
    "start_time": "2023-09-02T16:29:47.490Z"
   },
   {
    "duration": 3,
    "start_time": "2023-09-02T16:29:48.591Z"
   },
   {
    "duration": 1954,
    "start_time": "2023-09-02T16:29:49.588Z"
   },
   {
    "duration": 12234,
    "start_time": "2023-09-02T16:29:52.303Z"
   },
   {
    "duration": 4651,
    "start_time": "2023-09-02T16:30:23.191Z"
   },
   {
    "duration": 1466,
    "start_time": "2023-09-02T16:30:56.805Z"
   },
   {
    "duration": 789,
    "start_time": "2023-09-02T16:30:58.273Z"
   },
   {
    "duration": 16,
    "start_time": "2023-09-02T16:30:59.063Z"
   },
   {
    "duration": 14,
    "start_time": "2023-09-02T16:30:59.080Z"
   },
   {
    "duration": 38,
    "start_time": "2023-09-02T16:30:59.096Z"
   },
   {
    "duration": 11,
    "start_time": "2023-09-02T16:30:59.136Z"
   },
   {
    "duration": 18,
    "start_time": "2023-09-02T16:30:59.149Z"
   },
   {
    "duration": 3,
    "start_time": "2023-09-02T16:30:59.169Z"
   },
   {
    "duration": 9,
    "start_time": "2023-09-02T16:30:59.173Z"
   },
   {
    "duration": 15,
    "start_time": "2023-09-02T16:30:59.183Z"
   },
   {
    "duration": 17,
    "start_time": "2023-09-02T16:30:59.199Z"
   },
   {
    "duration": 9,
    "start_time": "2023-09-02T16:30:59.217Z"
   },
   {
    "duration": 10,
    "start_time": "2023-09-02T16:30:59.227Z"
   },
   {
    "duration": 6,
    "start_time": "2023-09-02T16:30:59.240Z"
   },
   {
    "duration": 12,
    "start_time": "2023-09-02T16:30:59.247Z"
   },
   {
    "duration": 10,
    "start_time": "2023-09-02T16:30:59.261Z"
   },
   {
    "duration": 20,
    "start_time": "2023-09-02T16:30:59.273Z"
   },
   {
    "duration": 37,
    "start_time": "2023-09-02T16:30:59.295Z"
   },
   {
    "duration": 11,
    "start_time": "2023-09-02T16:30:59.333Z"
   },
   {
    "duration": 7,
    "start_time": "2023-09-02T16:30:59.345Z"
   },
   {
    "duration": 232,
    "start_time": "2023-09-02T16:30:59.353Z"
   },
   {
    "duration": 8,
    "start_time": "2023-09-02T16:30:59.587Z"
   },
   {
    "duration": 220,
    "start_time": "2023-09-02T16:30:59.596Z"
   },
   {
    "duration": 12,
    "start_time": "2023-09-02T16:30:59.829Z"
   },
   {
    "duration": 209,
    "start_time": "2023-09-02T16:30:59.843Z"
   },
   {
    "duration": 415,
    "start_time": "2023-09-02T16:31:00.054Z"
   },
   {
    "duration": 272,
    "start_time": "2023-09-02T16:31:00.471Z"
   },
   {
    "duration": 298,
    "start_time": "2023-09-02T16:31:00.745Z"
   },
   {
    "duration": 259,
    "start_time": "2023-09-02T16:31:01.045Z"
   },
   {
    "duration": 24,
    "start_time": "2023-09-02T16:31:01.306Z"
   },
   {
    "duration": 31,
    "start_time": "2023-09-02T16:31:01.336Z"
   },
   {
    "duration": 68,
    "start_time": "2023-09-02T16:31:01.368Z"
   },
   {
    "duration": 13,
    "start_time": "2023-09-02T16:31:01.438Z"
   },
   {
    "duration": 40,
    "start_time": "2023-09-02T16:31:01.452Z"
   },
   {
    "duration": 271,
    "start_time": "2023-09-02T16:31:01.494Z"
   },
   {
    "duration": 71,
    "start_time": "2023-09-02T16:31:01.767Z"
   },
   {
    "duration": 230,
    "start_time": "2023-09-02T16:31:01.840Z"
   },
   {
    "duration": 39,
    "start_time": "2023-09-02T16:31:02.071Z"
   },
   {
    "duration": 250,
    "start_time": "2023-09-02T16:31:02.112Z"
   },
   {
    "duration": 5,
    "start_time": "2023-09-02T16:31:02.363Z"
   },
   {
    "duration": 51,
    "start_time": "2023-09-02T16:31:02.371Z"
   },
   {
    "duration": 25,
    "start_time": "2023-09-02T16:31:02.424Z"
   },
   {
    "duration": 1876,
    "start_time": "2023-09-02T16:31:02.451Z"
   },
   {
    "duration": 11640,
    "start_time": "2023-09-02T16:31:04.333Z"
   },
   {
    "duration": 4645,
    "start_time": "2023-09-02T16:31:15.975Z"
   },
   {
    "duration": 24,
    "start_time": "2023-09-02T16:31:20.630Z"
   },
   {
    "duration": 141,
    "start_time": "2023-09-02T16:33:10.721Z"
   },
   {
    "duration": 10,
    "start_time": "2023-09-02T16:33:11.585Z"
   },
   {
    "duration": 28,
    "start_time": "2023-09-02T16:35:35.084Z"
   },
   {
    "duration": 36,
    "start_time": "2023-09-02T16:36:37.520Z"
   },
   {
    "duration": 15,
    "start_time": "2023-09-02T16:37:08.298Z"
   },
   {
    "duration": 31,
    "start_time": "2023-09-02T16:37:56.413Z"
   },
   {
    "duration": 27,
    "start_time": "2023-09-02T16:38:04.584Z"
   },
   {
    "duration": 1505,
    "start_time": "2023-09-02T16:38:31.809Z"
   },
   {
    "duration": 808,
    "start_time": "2023-09-02T16:38:33.316Z"
   },
   {
    "duration": 22,
    "start_time": "2023-09-02T16:38:34.126Z"
   },
   {
    "duration": 14,
    "start_time": "2023-09-02T16:38:34.150Z"
   },
   {
    "duration": 44,
    "start_time": "2023-09-02T16:38:34.166Z"
   },
   {
    "duration": 25,
    "start_time": "2023-09-02T16:38:34.213Z"
   },
   {
    "duration": 29,
    "start_time": "2023-09-02T16:38:34.240Z"
   },
   {
    "duration": 21,
    "start_time": "2023-09-02T16:38:34.271Z"
   },
   {
    "duration": 38,
    "start_time": "2023-09-02T16:38:34.293Z"
   },
   {
    "duration": 31,
    "start_time": "2023-09-02T16:38:34.337Z"
   },
   {
    "duration": 25,
    "start_time": "2023-09-02T16:38:34.369Z"
   },
   {
    "duration": 12,
    "start_time": "2023-09-02T16:38:34.396Z"
   },
   {
    "duration": 6,
    "start_time": "2023-09-02T16:38:34.410Z"
   },
   {
    "duration": 20,
    "start_time": "2023-09-02T16:38:34.418Z"
   },
   {
    "duration": 11,
    "start_time": "2023-09-02T16:38:34.440Z"
   },
   {
    "duration": 33,
    "start_time": "2023-09-02T16:38:34.453Z"
   },
   {
    "duration": 45,
    "start_time": "2023-09-02T16:38:34.488Z"
   },
   {
    "duration": 32,
    "start_time": "2023-09-02T16:38:34.537Z"
   },
   {
    "duration": 9,
    "start_time": "2023-09-02T16:38:34.571Z"
   },
   {
    "duration": 26,
    "start_time": "2023-09-02T16:38:34.581Z"
   },
   {
    "duration": 230,
    "start_time": "2023-09-02T16:38:34.609Z"
   },
   {
    "duration": 9,
    "start_time": "2023-09-02T16:38:34.841Z"
   },
   {
    "duration": 238,
    "start_time": "2023-09-02T16:38:34.852Z"
   },
   {
    "duration": 8,
    "start_time": "2023-09-02T16:38:35.091Z"
   },
   {
    "duration": 240,
    "start_time": "2023-09-02T16:38:35.101Z"
   },
   {
    "duration": 412,
    "start_time": "2023-09-02T16:38:35.343Z"
   },
   {
    "duration": 310,
    "start_time": "2023-09-02T16:38:35.758Z"
   },
   {
    "duration": 277,
    "start_time": "2023-09-02T16:38:36.070Z"
   },
   {
    "duration": 247,
    "start_time": "2023-09-02T16:38:36.349Z"
   },
   {
    "duration": 9,
    "start_time": "2023-09-02T16:38:36.598Z"
   },
   {
    "duration": 22,
    "start_time": "2023-09-02T16:38:36.609Z"
   },
   {
    "duration": 7,
    "start_time": "2023-09-02T16:38:36.633Z"
   },
   {
    "duration": 47,
    "start_time": "2023-09-02T16:38:36.642Z"
   },
   {
    "duration": 50,
    "start_time": "2023-09-02T16:38:36.690Z"
   },
   {
    "duration": 273,
    "start_time": "2023-09-02T16:38:36.742Z"
   },
   {
    "duration": 54,
    "start_time": "2023-09-02T16:38:37.025Z"
   },
   {
    "duration": 261,
    "start_time": "2023-09-02T16:38:37.081Z"
   },
   {
    "duration": 42,
    "start_time": "2023-09-02T16:38:37.344Z"
   },
   {
    "duration": 265,
    "start_time": "2023-09-02T16:38:37.388Z"
   },
   {
    "duration": 4,
    "start_time": "2023-09-02T16:38:37.654Z"
   },
   {
    "duration": 16,
    "start_time": "2023-09-02T16:38:37.662Z"
   },
   {
    "duration": 10,
    "start_time": "2023-09-02T16:38:37.680Z"
   },
   {
    "duration": 2239,
    "start_time": "2023-09-02T16:38:37.691Z"
   },
   {
    "duration": 11787,
    "start_time": "2023-09-02T16:38:39.938Z"
   },
   {
    "duration": 4532,
    "start_time": "2023-09-02T16:38:51.728Z"
   },
   {
    "duration": 74,
    "start_time": "2023-09-02T16:38:56.262Z"
   },
   {
    "duration": 209,
    "start_time": "2023-09-02T16:38:56.340Z"
   },
   {
    "duration": 28,
    "start_time": "2023-09-02T16:39:35.001Z"
   },
   {
    "duration": 28,
    "start_time": "2023-09-02T16:40:39.241Z"
   },
   {
    "duration": 1437,
    "start_time": "2023-09-02T16:41:52.448Z"
   },
   {
    "duration": 818,
    "start_time": "2023-09-02T16:41:53.887Z"
   },
   {
    "duration": 26,
    "start_time": "2023-09-02T16:41:54.706Z"
   },
   {
    "duration": 12,
    "start_time": "2023-09-02T16:41:54.739Z"
   },
   {
    "duration": 15,
    "start_time": "2023-09-02T16:41:54.753Z"
   },
   {
    "duration": 12,
    "start_time": "2023-09-02T16:41:54.769Z"
   },
   {
    "duration": 17,
    "start_time": "2023-09-02T16:41:54.782Z"
   },
   {
    "duration": 31,
    "start_time": "2023-09-02T16:41:54.801Z"
   },
   {
    "duration": 4,
    "start_time": "2023-09-02T16:41:54.833Z"
   },
   {
    "duration": 5,
    "start_time": "2023-09-02T16:41:54.838Z"
   },
   {
    "duration": 7,
    "start_time": "2023-09-02T16:41:54.844Z"
   },
   {
    "duration": 8,
    "start_time": "2023-09-02T16:41:54.852Z"
   },
   {
    "duration": 4,
    "start_time": "2023-09-02T16:41:54.861Z"
   },
   {
    "duration": 5,
    "start_time": "2023-09-02T16:41:54.867Z"
   },
   {
    "duration": 15,
    "start_time": "2023-09-02T16:41:54.874Z"
   },
   {
    "duration": 48,
    "start_time": "2023-09-02T16:41:54.890Z"
   },
   {
    "duration": 21,
    "start_time": "2023-09-02T16:41:54.940Z"
   },
   {
    "duration": 9,
    "start_time": "2023-09-02T16:41:54.962Z"
   },
   {
    "duration": 8,
    "start_time": "2023-09-02T16:41:54.972Z"
   },
   {
    "duration": 8,
    "start_time": "2023-09-02T16:41:54.981Z"
   },
   {
    "duration": 251,
    "start_time": "2023-09-02T16:41:54.991Z"
   },
   {
    "duration": 11,
    "start_time": "2023-09-02T16:41:55.244Z"
   },
   {
    "duration": 249,
    "start_time": "2023-09-02T16:41:55.257Z"
   },
   {
    "duration": 16,
    "start_time": "2023-09-02T16:41:55.508Z"
   },
   {
    "duration": 234,
    "start_time": "2023-09-02T16:41:55.533Z"
   },
   {
    "duration": 416,
    "start_time": "2023-09-02T16:41:55.769Z"
   },
   {
    "duration": 257,
    "start_time": "2023-09-02T16:41:56.187Z"
   },
   {
    "duration": 257,
    "start_time": "2023-09-02T16:41:56.446Z"
   },
   {
    "duration": 270,
    "start_time": "2023-09-02T16:41:56.704Z"
   },
   {
    "duration": 10,
    "start_time": "2023-09-02T16:41:56.976Z"
   },
   {
    "duration": 130,
    "start_time": "2023-09-02T16:41:56.987Z"
   },
   {
    "duration": 49,
    "start_time": "2023-09-02T16:41:57.118Z"
   },
   {
    "duration": 95,
    "start_time": "2023-09-02T16:41:57.168Z"
   },
   {
    "duration": 12,
    "start_time": "2023-09-02T16:41:57.265Z"
   },
   {
    "duration": 252,
    "start_time": "2023-09-02T16:41:57.279Z"
   },
   {
    "duration": 53,
    "start_time": "2023-09-02T16:41:57.533Z"
   },
   {
    "duration": 253,
    "start_time": "2023-09-02T16:41:57.588Z"
   },
   {
    "duration": 45,
    "start_time": "2023-09-02T16:41:57.842Z"
   },
   {
    "duration": 283,
    "start_time": "2023-09-02T16:41:57.889Z"
   },
   {
    "duration": 4,
    "start_time": "2023-09-02T16:41:58.174Z"
   },
   {
    "duration": 23,
    "start_time": "2023-09-02T16:41:58.183Z"
   },
   {
    "duration": 27,
    "start_time": "2023-09-02T16:41:58.208Z"
   },
   {
    "duration": 1995,
    "start_time": "2023-09-02T16:41:58.237Z"
   },
   {
    "duration": 11811,
    "start_time": "2023-09-02T16:42:00.233Z"
   },
   {
    "duration": 4461,
    "start_time": "2023-09-02T16:42:12.046Z"
   },
   {
    "duration": 36,
    "start_time": "2023-09-02T16:42:16.508Z"
   },
   {
    "duration": 386,
    "start_time": "2023-09-02T16:42:16.546Z"
   },
   {
    "duration": 17,
    "start_time": "2023-09-02T16:42:36.946Z"
   },
   {
    "duration": 8,
    "start_time": "2023-09-02T16:42:52.988Z"
   },
   {
    "duration": 1429,
    "start_time": "2023-09-02T16:57:00.899Z"
   },
   {
    "duration": 845,
    "start_time": "2023-09-02T16:57:02.331Z"
   },
   {
    "duration": 21,
    "start_time": "2023-09-02T16:57:03.178Z"
   },
   {
    "duration": 69,
    "start_time": "2023-09-02T16:57:03.201Z"
   },
   {
    "duration": 25,
    "start_time": "2023-09-02T16:57:03.273Z"
   },
   {
    "duration": 13,
    "start_time": "2023-09-02T16:57:03.300Z"
   },
   {
    "duration": 19,
    "start_time": "2023-09-02T16:57:03.315Z"
   },
   {
    "duration": 7,
    "start_time": "2023-09-02T16:57:03.335Z"
   },
   {
    "duration": 20,
    "start_time": "2023-09-02T16:57:03.344Z"
   },
   {
    "duration": 14,
    "start_time": "2023-09-02T16:57:03.366Z"
   },
   {
    "duration": 11,
    "start_time": "2023-09-02T16:57:03.381Z"
   },
   {
    "duration": 15,
    "start_time": "2023-09-02T16:57:03.393Z"
   },
   {
    "duration": 13,
    "start_time": "2023-09-02T16:57:03.409Z"
   },
   {
    "duration": 17,
    "start_time": "2023-09-02T16:57:03.425Z"
   },
   {
    "duration": 43,
    "start_time": "2023-09-02T16:57:03.444Z"
   },
   {
    "duration": 20,
    "start_time": "2023-09-02T16:57:03.489Z"
   },
   {
    "duration": 27,
    "start_time": "2023-09-02T16:57:03.511Z"
   },
   {
    "duration": 12,
    "start_time": "2023-09-02T16:57:03.540Z"
   },
   {
    "duration": 18,
    "start_time": "2023-09-02T16:57:03.554Z"
   },
   {
    "duration": 24,
    "start_time": "2023-09-02T16:57:03.574Z"
   },
   {
    "duration": 266,
    "start_time": "2023-09-02T16:57:03.601Z"
   },
   {
    "duration": 8,
    "start_time": "2023-09-02T16:57:03.869Z"
   },
   {
    "duration": 255,
    "start_time": "2023-09-02T16:57:03.879Z"
   },
   {
    "duration": 11,
    "start_time": "2023-09-02T16:57:04.136Z"
   },
   {
    "duration": 238,
    "start_time": "2023-09-02T16:57:04.149Z"
   },
   {
    "duration": 370,
    "start_time": "2023-09-02T16:57:04.389Z"
   },
   {
    "duration": 276,
    "start_time": "2023-09-02T16:57:04.762Z"
   },
   {
    "duration": 304,
    "start_time": "2023-09-02T16:57:05.039Z"
   },
   {
    "duration": 250,
    "start_time": "2023-09-02T16:57:05.345Z"
   },
   {
    "duration": 8,
    "start_time": "2023-09-02T16:57:05.597Z"
   },
   {
    "duration": 32,
    "start_time": "2023-09-02T16:57:05.606Z"
   },
   {
    "duration": 61,
    "start_time": "2023-09-02T16:57:05.640Z"
   },
   {
    "duration": 51,
    "start_time": "2023-09-02T16:57:05.703Z"
   },
   {
    "duration": 10,
    "start_time": "2023-09-02T16:57:05.756Z"
   },
   {
    "duration": 299,
    "start_time": "2023-09-02T16:57:05.768Z"
   },
   {
    "duration": 63,
    "start_time": "2023-09-02T16:57:06.069Z"
   },
   {
    "duration": 228,
    "start_time": "2023-09-02T16:57:06.133Z"
   },
   {
    "duration": 41,
    "start_time": "2023-09-02T16:57:06.363Z"
   },
   {
    "duration": 251,
    "start_time": "2023-09-02T16:57:06.405Z"
   },
   {
    "duration": 5,
    "start_time": "2023-09-02T16:57:06.657Z"
   },
   {
    "duration": 7,
    "start_time": "2023-09-02T16:57:06.666Z"
   },
   {
    "duration": 5,
    "start_time": "2023-09-02T16:57:06.675Z"
   },
   {
    "duration": 1148,
    "start_time": "2023-09-02T16:57:06.681Z"
   },
   {
    "duration": 11327,
    "start_time": "2023-09-02T16:57:07.831Z"
   },
   {
    "duration": 4484,
    "start_time": "2023-09-02T16:57:19.160Z"
   },
   {
    "duration": 20,
    "start_time": "2023-09-02T16:57:23.646Z"
   },
   {
    "duration": 63,
    "start_time": "2023-09-02T16:57:23.668Z"
   },
   {
    "duration": 9,
    "start_time": "2023-09-02T16:59:22.172Z"
   },
   {
    "duration": 53,
    "start_time": "2023-09-03T15:28:29.204Z"
   },
   {
    "duration": 53,
    "start_time": "2023-09-03T15:53:03.358Z"
   },
   {
    "duration": 1864,
    "start_time": "2023-09-03T16:38:34.162Z"
   },
   {
    "duration": 2422,
    "start_time": "2023-09-03T16:38:36.028Z"
   },
   {
    "duration": 18,
    "start_time": "2023-09-03T16:38:38.451Z"
   },
   {
    "duration": 12,
    "start_time": "2023-09-03T16:38:38.471Z"
   },
   {
    "duration": 17,
    "start_time": "2023-09-03T16:38:38.485Z"
   },
   {
    "duration": 12,
    "start_time": "2023-09-03T16:38:38.503Z"
   },
   {
    "duration": 46,
    "start_time": "2023-09-03T16:38:38.517Z"
   },
   {
    "duration": 4,
    "start_time": "2023-09-03T16:38:38.564Z"
   },
   {
    "duration": 4,
    "start_time": "2023-09-03T16:38:38.570Z"
   },
   {
    "duration": 9,
    "start_time": "2023-09-03T16:38:38.575Z"
   },
   {
    "duration": 12,
    "start_time": "2023-09-03T16:38:38.585Z"
   },
   {
    "duration": 15,
    "start_time": "2023-09-03T16:38:38.599Z"
   },
   {
    "duration": 7,
    "start_time": "2023-09-03T16:38:38.616Z"
   },
   {
    "duration": 25,
    "start_time": "2023-09-03T16:38:38.626Z"
   },
   {
    "duration": 14,
    "start_time": "2023-09-03T16:38:38.653Z"
   },
   {
    "duration": 12,
    "start_time": "2023-09-03T16:38:38.669Z"
   },
   {
    "duration": 27,
    "start_time": "2023-09-03T16:38:38.682Z"
   },
   {
    "duration": 9,
    "start_time": "2023-09-03T16:38:38.711Z"
   },
   {
    "duration": 9,
    "start_time": "2023-09-03T16:38:38.747Z"
   },
   {
    "duration": 8,
    "start_time": "2023-09-03T16:38:38.757Z"
   },
   {
    "duration": 280,
    "start_time": "2023-09-03T16:38:38.767Z"
   },
   {
    "duration": 8,
    "start_time": "2023-09-03T16:38:39.048Z"
   },
   {
    "duration": 235,
    "start_time": "2023-09-03T16:38:39.058Z"
   },
   {
    "duration": 8,
    "start_time": "2023-09-03T16:38:39.295Z"
   },
   {
    "duration": 242,
    "start_time": "2023-09-03T16:38:39.305Z"
   },
   {
    "duration": 388,
    "start_time": "2023-09-03T16:38:39.548Z"
   },
   {
    "duration": 271,
    "start_time": "2023-09-03T16:38:39.938Z"
   },
   {
    "duration": 300,
    "start_time": "2023-09-03T16:38:40.211Z"
   },
   {
    "duration": 278,
    "start_time": "2023-09-03T16:38:40.513Z"
   },
   {
    "duration": 9,
    "start_time": "2023-09-03T16:38:40.793Z"
   },
   {
    "duration": 10,
    "start_time": "2023-09-03T16:38:40.803Z"
   },
   {
    "duration": 5,
    "start_time": "2023-09-03T16:38:40.814Z"
   },
   {
    "duration": 31,
    "start_time": "2023-09-03T16:38:40.820Z"
   },
   {
    "duration": 7,
    "start_time": "2023-09-03T16:38:40.853Z"
   },
   {
    "duration": 261,
    "start_time": "2023-09-03T16:38:40.861Z"
   },
   {
    "duration": 63,
    "start_time": "2023-09-03T16:38:41.124Z"
   },
   {
    "duration": 266,
    "start_time": "2023-09-03T16:38:41.188Z"
   },
   {
    "duration": 44,
    "start_time": "2023-09-03T16:38:41.456Z"
   },
   {
    "duration": 285,
    "start_time": "2023-09-03T16:38:41.502Z"
   },
   {
    "duration": 5,
    "start_time": "2023-09-03T16:38:41.789Z"
   },
   {
    "duration": 20,
    "start_time": "2023-09-03T16:38:41.797Z"
   },
   {
    "duration": 15,
    "start_time": "2023-09-03T16:38:41.818Z"
   },
   {
    "duration": 20,
    "start_time": "2023-09-03T16:38:41.835Z"
   },
   {
    "duration": 1191,
    "start_time": "2023-09-03T16:38:41.857Z"
   },
   {
    "duration": 12992,
    "start_time": "2023-09-03T16:38:43.051Z"
   },
   {
    "duration": 5023,
    "start_time": "2023-09-03T16:38:56.047Z"
   },
   {
    "duration": 10,
    "start_time": "2023-09-03T16:39:01.072Z"
   },
   {
    "duration": 68,
    "start_time": "2023-09-03T16:39:01.084Z"
   },
   {
    "duration": 98,
    "start_time": "2023-09-03T16:39:01.155Z"
   },
   {
    "duration": 5,
    "start_time": "2023-09-03T16:40:35.294Z"
   },
   {
    "duration": 880,
    "start_time": "2023-09-03T16:41:35.747Z"
   },
   {
    "duration": 5,
    "start_time": "2023-09-03T16:42:16.286Z"
   },
   {
    "duration": 5,
    "start_time": "2023-09-03T16:42:26.066Z"
   },
   {
    "duration": 1500,
    "start_time": "2023-09-03T16:43:40.455Z"
   },
   {
    "duration": 886,
    "start_time": "2023-09-03T16:43:41.957Z"
   },
   {
    "duration": 18,
    "start_time": "2023-09-03T16:43:42.847Z"
   },
   {
    "duration": 13,
    "start_time": "2023-09-03T16:43:42.867Z"
   },
   {
    "duration": 17,
    "start_time": "2023-09-03T16:43:42.882Z"
   },
   {
    "duration": 12,
    "start_time": "2023-09-03T16:43:42.901Z"
   },
   {
    "duration": 46,
    "start_time": "2023-09-03T16:43:42.914Z"
   },
   {
    "duration": 4,
    "start_time": "2023-09-03T16:43:42.962Z"
   },
   {
    "duration": 4,
    "start_time": "2023-09-03T16:43:42.967Z"
   },
   {
    "duration": 5,
    "start_time": "2023-09-03T16:43:42.973Z"
   },
   {
    "duration": 5,
    "start_time": "2023-09-03T16:43:42.980Z"
   },
   {
    "duration": 8,
    "start_time": "2023-09-03T16:43:42.987Z"
   },
   {
    "duration": 6,
    "start_time": "2023-09-03T16:43:42.997Z"
   },
   {
    "duration": 9,
    "start_time": "2023-09-03T16:43:43.049Z"
   },
   {
    "duration": 16,
    "start_time": "2023-09-03T16:43:43.061Z"
   },
   {
    "duration": 13,
    "start_time": "2023-09-03T16:43:43.079Z"
   },
   {
    "duration": 56,
    "start_time": "2023-09-03T16:43:43.094Z"
   },
   {
    "duration": 11,
    "start_time": "2023-09-03T16:43:43.152Z"
   },
   {
    "duration": 10,
    "start_time": "2023-09-03T16:43:43.165Z"
   },
   {
    "duration": 10,
    "start_time": "2023-09-03T16:43:43.177Z"
   },
   {
    "duration": 292,
    "start_time": "2023-09-03T16:43:43.188Z"
   },
   {
    "duration": 9,
    "start_time": "2023-09-03T16:43:43.483Z"
   },
   {
    "duration": 246,
    "start_time": "2023-09-03T16:43:43.494Z"
   },
   {
    "duration": 11,
    "start_time": "2023-09-03T16:43:43.742Z"
   },
   {
    "duration": 240,
    "start_time": "2023-09-03T16:43:43.755Z"
   },
   {
    "duration": 390,
    "start_time": "2023-09-03T16:43:43.997Z"
   },
   {
    "duration": 280,
    "start_time": "2023-09-03T16:43:44.389Z"
   },
   {
    "duration": 291,
    "start_time": "2023-09-03T16:43:44.671Z"
   },
   {
    "duration": 290,
    "start_time": "2023-09-03T16:43:44.964Z"
   },
   {
    "duration": 11,
    "start_time": "2023-09-03T16:43:45.256Z"
   },
   {
    "duration": 16,
    "start_time": "2023-09-03T16:43:45.269Z"
   },
   {
    "duration": 6,
    "start_time": "2023-09-03T16:43:45.287Z"
   },
   {
    "duration": 14,
    "start_time": "2023-09-03T16:43:45.295Z"
   },
   {
    "duration": 9,
    "start_time": "2023-09-03T16:43:45.311Z"
   },
   {
    "duration": 307,
    "start_time": "2023-09-03T16:43:45.322Z"
   },
   {
    "duration": 60,
    "start_time": "2023-09-03T16:43:45.631Z"
   },
   {
    "duration": 270,
    "start_time": "2023-09-03T16:43:45.693Z"
   },
   {
    "duration": 48,
    "start_time": "2023-09-03T16:43:45.965Z"
   },
   {
    "duration": 303,
    "start_time": "2023-09-03T16:43:46.015Z"
   },
   {
    "duration": 7,
    "start_time": "2023-09-03T16:43:46.321Z"
   },
   {
    "duration": 5,
    "start_time": "2023-09-03T16:43:46.346Z"
   },
   {
    "duration": 23,
    "start_time": "2023-09-03T16:43:46.353Z"
   },
   {
    "duration": 5,
    "start_time": "2023-09-03T16:43:46.378Z"
   },
   {
    "duration": 1864,
    "start_time": "2023-09-03T16:43:46.385Z"
   },
   {
    "duration": 13074,
    "start_time": "2023-09-03T16:43:48.254Z"
   },
   {
    "duration": 5017,
    "start_time": "2023-09-03T16:44:01.330Z"
   },
   {
    "duration": 10,
    "start_time": "2023-09-03T16:44:06.349Z"
   },
   {
    "duration": 87,
    "start_time": "2023-09-03T16:44:06.360Z"
   },
   {
    "duration": 97,
    "start_time": "2023-09-03T16:44:06.450Z"
   },
   {
    "duration": 1670,
    "start_time": "2023-09-03T16:45:35.156Z"
   },
   {
    "duration": 892,
    "start_time": "2023-09-03T16:45:36.829Z"
   },
   {
    "duration": 25,
    "start_time": "2023-09-03T16:45:37.723Z"
   },
   {
    "duration": 15,
    "start_time": "2023-09-03T16:45:37.750Z"
   },
   {
    "duration": 18,
    "start_time": "2023-09-03T16:45:37.767Z"
   },
   {
    "duration": 13,
    "start_time": "2023-09-03T16:45:37.787Z"
   },
   {
    "duration": 55,
    "start_time": "2023-09-03T16:45:37.802Z"
   },
   {
    "duration": 4,
    "start_time": "2023-09-03T16:45:37.859Z"
   },
   {
    "duration": 6,
    "start_time": "2023-09-03T16:45:37.865Z"
   },
   {
    "duration": 12,
    "start_time": "2023-09-03T16:45:37.873Z"
   },
   {
    "duration": 25,
    "start_time": "2023-09-03T16:45:37.887Z"
   },
   {
    "duration": 14,
    "start_time": "2023-09-03T16:45:37.915Z"
   },
   {
    "duration": 16,
    "start_time": "2023-09-03T16:45:37.931Z"
   },
   {
    "duration": 7,
    "start_time": "2023-09-03T16:45:37.952Z"
   },
   {
    "duration": 11,
    "start_time": "2023-09-03T16:45:37.961Z"
   },
   {
    "duration": 14,
    "start_time": "2023-09-03T16:45:37.974Z"
   },
   {
    "duration": 13,
    "start_time": "2023-09-03T16:45:37.989Z"
   },
   {
    "duration": 53,
    "start_time": "2023-09-03T16:45:38.004Z"
   },
   {
    "duration": 10,
    "start_time": "2023-09-03T16:45:38.059Z"
   },
   {
    "duration": 9,
    "start_time": "2023-09-03T16:45:38.071Z"
   },
   {
    "duration": 11,
    "start_time": "2023-09-03T16:45:38.082Z"
   },
   {
    "duration": 298,
    "start_time": "2023-09-03T16:45:38.095Z"
   },
   {
    "duration": 10,
    "start_time": "2023-09-03T16:45:38.396Z"
   },
   {
    "duration": 254,
    "start_time": "2023-09-03T16:45:38.408Z"
   },
   {
    "duration": 10,
    "start_time": "2023-09-03T16:45:38.664Z"
   },
   {
    "duration": 260,
    "start_time": "2023-09-03T16:45:38.677Z"
   },
   {
    "duration": 437,
    "start_time": "2023-09-03T16:45:38.939Z"
   },
   {
    "duration": 300,
    "start_time": "2023-09-03T16:45:39.377Z"
   },
   {
    "duration": 319,
    "start_time": "2023-09-03T16:45:39.679Z"
   },
   {
    "duration": 310,
    "start_time": "2023-09-03T16:45:40.000Z"
   },
   {
    "duration": 11,
    "start_time": "2023-09-03T16:45:40.311Z"
   },
   {
    "duration": 107,
    "start_time": "2023-09-03T16:45:40.324Z"
   },
   {
    "duration": 10,
    "start_time": "2023-09-03T16:45:40.433Z"
   },
   {
    "duration": 14,
    "start_time": "2023-09-03T16:45:40.445Z"
   },
   {
    "duration": 7,
    "start_time": "2023-09-03T16:45:40.461Z"
   },
   {
    "duration": 257,
    "start_time": "2023-09-03T16:45:40.470Z"
   },
   {
    "duration": 69,
    "start_time": "2023-09-03T16:45:40.729Z"
   },
   {
    "duration": 307,
    "start_time": "2023-09-03T16:45:40.800Z"
   },
   {
    "duration": 63,
    "start_time": "2023-09-03T16:45:41.109Z"
   },
   {
    "duration": 273,
    "start_time": "2023-09-03T16:45:41.174Z"
   },
   {
    "duration": 4,
    "start_time": "2023-09-03T16:45:41.452Z"
   },
   {
    "duration": 7,
    "start_time": "2023-09-03T16:45:41.458Z"
   },
   {
    "duration": 8,
    "start_time": "2023-09-03T16:45:41.467Z"
   },
   {
    "duration": 5,
    "start_time": "2023-09-03T16:45:41.477Z"
   },
   {
    "duration": 1635,
    "start_time": "2023-09-03T16:56:58.566Z"
   },
   {
    "duration": 946,
    "start_time": "2023-09-03T16:57:00.202Z"
   },
   {
    "duration": 20,
    "start_time": "2023-09-03T16:57:01.150Z"
   },
   {
    "duration": 306,
    "start_time": "2023-09-03T16:57:01.172Z"
   },
   {
    "duration": 103,
    "start_time": "2023-09-03T16:57:01.481Z"
   },
   {
    "duration": 53,
    "start_time": "2023-09-03T16:57:01.586Z"
   },
   {
    "duration": 57,
    "start_time": "2023-09-03T16:57:01.641Z"
   },
   {
    "duration": 59,
    "start_time": "2023-09-03T16:57:01.700Z"
   },
   {
    "duration": 67,
    "start_time": "2023-09-03T16:57:01.761Z"
   },
   {
    "duration": 67,
    "start_time": "2023-09-03T16:57:01.830Z"
   },
   {
    "duration": 65,
    "start_time": "2023-09-03T16:57:01.900Z"
   },
   {
    "duration": 48,
    "start_time": "2023-09-03T16:57:01.967Z"
   },
   {
    "duration": 82,
    "start_time": "2023-09-03T16:57:02.017Z"
   },
   {
    "duration": 51,
    "start_time": "2023-09-03T16:57:02.103Z"
   },
   {
    "duration": 141,
    "start_time": "2023-09-03T16:57:02.156Z"
   },
   {
    "duration": 47,
    "start_time": "2023-09-03T16:57:02.299Z"
   },
   {
    "duration": 38,
    "start_time": "2023-09-03T16:57:02.348Z"
   },
   {
    "duration": 49,
    "start_time": "2023-09-03T16:57:02.388Z"
   },
   {
    "duration": 14,
    "start_time": "2023-09-03T16:57:02.439Z"
   },
   {
    "duration": 55,
    "start_time": "2023-09-03T16:57:02.455Z"
   },
   {
    "duration": 28,
    "start_time": "2023-09-03T16:57:02.512Z"
   },
   {
    "duration": 362,
    "start_time": "2023-09-03T16:57:02.543Z"
   },
   {
    "duration": 9,
    "start_time": "2023-09-03T16:57:02.906Z"
   },
   {
    "duration": 480,
    "start_time": "2023-09-03T16:57:02.917Z"
   },
   {
    "duration": 10,
    "start_time": "2023-09-03T16:57:03.399Z"
   },
   {
    "duration": 241,
    "start_time": "2023-09-03T16:57:03.411Z"
   },
   {
    "duration": 448,
    "start_time": "2023-09-03T16:57:03.654Z"
   },
   {
    "duration": 297,
    "start_time": "2023-09-03T16:57:04.104Z"
   },
   {
    "duration": 322,
    "start_time": "2023-09-03T16:57:04.402Z"
   },
   {
    "duration": 292,
    "start_time": "2023-09-03T16:57:04.726Z"
   },
   {
    "duration": 8,
    "start_time": "2023-09-03T16:57:05.020Z"
   },
   {
    "duration": 22,
    "start_time": "2023-09-03T16:57:05.030Z"
   },
   {
    "duration": 5,
    "start_time": "2023-09-03T16:57:05.054Z"
   },
   {
    "duration": 8,
    "start_time": "2023-09-03T16:57:05.060Z"
   },
   {
    "duration": 14,
    "start_time": "2023-09-03T16:57:05.069Z"
   },
   {
    "duration": 341,
    "start_time": "2023-09-03T16:57:05.085Z"
   },
   {
    "duration": 77,
    "start_time": "2023-09-03T16:57:05.429Z"
   },
   {
    "duration": 286,
    "start_time": "2023-09-03T16:57:05.507Z"
   },
   {
    "duration": 59,
    "start_time": "2023-09-03T16:57:05.794Z"
   },
   {
    "duration": 305,
    "start_time": "2023-09-03T16:57:05.854Z"
   },
   {
    "duration": 6,
    "start_time": "2023-09-03T16:57:06.165Z"
   },
   {
    "duration": 32,
    "start_time": "2023-09-03T16:57:06.174Z"
   },
   {
    "duration": 22,
    "start_time": "2023-09-03T16:57:06.208Z"
   },
   {
    "duration": 9,
    "start_time": "2023-09-03T16:57:06.232Z"
   },
   {
    "duration": 1308,
    "start_time": "2023-09-03T16:57:06.243Z"
   },
   {
    "duration": 13408,
    "start_time": "2023-09-03T16:57:07.553Z"
   },
   {
    "duration": 5196,
    "start_time": "2023-09-03T16:57:20.963Z"
   },
   {
    "duration": 10,
    "start_time": "2023-09-03T16:57:26.161Z"
   },
   {
    "duration": 16,
    "start_time": "2023-09-03T16:57:26.173Z"
   },
   {
    "duration": 98,
    "start_time": "2023-09-03T16:57:26.248Z"
   },
   {
    "duration": 304,
    "start_time": "2023-09-03T16:59:52.684Z"
   },
   {
    "duration": 296,
    "start_time": "2023-09-03T17:00:35.937Z"
   },
   {
    "duration": 273,
    "start_time": "2023-09-03T17:00:57.456Z"
   },
   {
    "duration": 390,
    "start_time": "2023-09-03T17:03:49.205Z"
   },
   {
    "duration": 315,
    "start_time": "2023-09-03T17:05:23.665Z"
   },
   {
    "duration": 496,
    "start_time": "2023-09-03T17:06:36.617Z"
   },
   {
    "duration": 530,
    "start_time": "2023-09-03T17:06:59.117Z"
   },
   {
    "duration": 500,
    "start_time": "2023-09-03T17:07:51.005Z"
   },
   {
    "duration": 666,
    "start_time": "2023-09-03T17:07:59.557Z"
   },
   {
    "duration": 312,
    "start_time": "2023-09-03T17:10:52.466Z"
   },
   {
    "duration": 1598,
    "start_time": "2023-09-03T17:19:57.447Z"
   },
   {
    "duration": 915,
    "start_time": "2023-09-03T17:19:59.047Z"
   },
   {
    "duration": 18,
    "start_time": "2023-09-03T17:19:59.963Z"
   },
   {
    "duration": 21,
    "start_time": "2023-09-03T17:19:59.983Z"
   },
   {
    "duration": 50,
    "start_time": "2023-09-03T17:20:00.007Z"
   },
   {
    "duration": 323,
    "start_time": "2023-09-03T17:20:00.059Z"
   },
   {
    "duration": 208,
    "start_time": "2023-09-03T17:20:00.385Z"
   },
   {
    "duration": 58,
    "start_time": "2023-09-03T17:20:00.595Z"
   },
   {
    "duration": 123,
    "start_time": "2023-09-03T17:20:00.655Z"
   },
   {
    "duration": 69,
    "start_time": "2023-09-03T17:20:00.779Z"
   },
   {
    "duration": 43,
    "start_time": "2023-09-03T17:20:00.850Z"
   },
   {
    "duration": 37,
    "start_time": "2023-09-03T17:20:00.896Z"
   },
   {
    "duration": 31,
    "start_time": "2023-09-03T17:20:00.934Z"
   },
   {
    "duration": 25,
    "start_time": "2023-09-03T17:20:00.969Z"
   },
   {
    "duration": 37,
    "start_time": "2023-09-03T17:20:00.996Z"
   },
   {
    "duration": 72,
    "start_time": "2023-09-03T17:20:01.034Z"
   },
   {
    "duration": 76,
    "start_time": "2023-09-03T17:20:01.108Z"
   },
   {
    "duration": 101,
    "start_time": "2023-09-03T17:20:01.185Z"
   },
   {
    "duration": 40,
    "start_time": "2023-09-03T17:20:01.288Z"
   },
   {
    "duration": 66,
    "start_time": "2023-09-03T17:20:01.330Z"
   },
   {
    "duration": 362,
    "start_time": "2023-09-03T17:20:01.398Z"
   },
   {
    "duration": 725,
    "start_time": "2023-09-03T17:20:01.762Z"
   },
   {
    "duration": 144,
    "start_time": "2023-09-03T17:20:02.489Z"
   },
   {
    "duration": 0,
    "start_time": "2023-09-03T17:20:02.635Z"
   },
   {
    "duration": 0,
    "start_time": "2023-09-03T17:20:02.637Z"
   },
   {
    "duration": 0,
    "start_time": "2023-09-03T17:20:02.638Z"
   },
   {
    "duration": 0,
    "start_time": "2023-09-03T17:20:02.639Z"
   },
   {
    "duration": 0,
    "start_time": "2023-09-03T17:20:02.646Z"
   },
   {
    "duration": 0,
    "start_time": "2023-09-03T17:20:02.647Z"
   },
   {
    "duration": 0,
    "start_time": "2023-09-03T17:20:02.648Z"
   },
   {
    "duration": 0,
    "start_time": "2023-09-03T17:20:02.650Z"
   },
   {
    "duration": 0,
    "start_time": "2023-09-03T17:20:02.651Z"
   },
   {
    "duration": 0,
    "start_time": "2023-09-03T17:20:02.652Z"
   },
   {
    "duration": 0,
    "start_time": "2023-09-03T17:20:02.654Z"
   },
   {
    "duration": 0,
    "start_time": "2023-09-03T17:20:02.655Z"
   },
   {
    "duration": 0,
    "start_time": "2023-09-03T17:20:02.656Z"
   },
   {
    "duration": 0,
    "start_time": "2023-09-03T17:20:02.657Z"
   },
   {
    "duration": 0,
    "start_time": "2023-09-03T17:20:02.658Z"
   },
   {
    "duration": 0,
    "start_time": "2023-09-03T17:20:02.659Z"
   },
   {
    "duration": 0,
    "start_time": "2023-09-03T17:20:02.660Z"
   },
   {
    "duration": 0,
    "start_time": "2023-09-03T17:20:02.661Z"
   },
   {
    "duration": 0,
    "start_time": "2023-09-03T17:20:02.662Z"
   },
   {
    "duration": 0,
    "start_time": "2023-09-03T17:20:02.663Z"
   },
   {
    "duration": 0,
    "start_time": "2023-09-03T17:20:02.664Z"
   },
   {
    "duration": 0,
    "start_time": "2023-09-03T17:20:02.665Z"
   },
   {
    "duration": 0,
    "start_time": "2023-09-03T17:20:02.666Z"
   },
   {
    "duration": 0,
    "start_time": "2023-09-03T17:20:02.667Z"
   },
   {
    "duration": 0,
    "start_time": "2023-09-03T17:20:02.668Z"
   },
   {
    "duration": 0,
    "start_time": "2023-09-03T17:20:02.669Z"
   },
   {
    "duration": 0,
    "start_time": "2023-09-03T17:20:02.670Z"
   },
   {
    "duration": 0,
    "start_time": "2023-09-03T17:20:02.671Z"
   },
   {
    "duration": 0,
    "start_time": "2023-09-03T17:20:02.673Z"
   },
   {
    "duration": 104,
    "start_time": "2023-09-03T17:21:04.938Z"
   },
   {
    "duration": 80,
    "start_time": "2023-09-03T17:23:38.090Z"
   },
   {
    "duration": 166,
    "start_time": "2023-09-03T17:23:50.229Z"
   },
   {
    "duration": 143,
    "start_time": "2023-09-03T17:24:57.289Z"
   },
   {
    "duration": 91,
    "start_time": "2023-09-03T17:26:24.716Z"
   },
   {
    "duration": 12,
    "start_time": "2023-09-03T17:27:21.956Z"
   },
   {
    "duration": 11,
    "start_time": "2023-09-03T17:27:43.213Z"
   },
   {
    "duration": 10,
    "start_time": "2023-09-03T17:29:50.092Z"
   },
   {
    "duration": 1610,
    "start_time": "2023-09-03T17:30:04.472Z"
   },
   {
    "duration": 882,
    "start_time": "2023-09-03T17:30:06.084Z"
   },
   {
    "duration": 17,
    "start_time": "2023-09-03T17:30:06.968Z"
   },
   {
    "duration": 14,
    "start_time": "2023-09-03T17:30:06.987Z"
   },
   {
    "duration": 27,
    "start_time": "2023-09-03T17:30:07.003Z"
   },
   {
    "duration": 13,
    "start_time": "2023-09-03T17:30:07.047Z"
   },
   {
    "duration": 3,
    "start_time": "2023-09-03T17:30:07.061Z"
   },
   {
    "duration": 25,
    "start_time": "2023-09-03T17:30:07.065Z"
   },
   {
    "duration": 17,
    "start_time": "2023-09-03T17:30:07.091Z"
   },
   {
    "duration": 14,
    "start_time": "2023-09-03T17:30:07.111Z"
   },
   {
    "duration": 21,
    "start_time": "2023-09-03T17:30:07.127Z"
   },
   {
    "duration": 38,
    "start_time": "2023-09-03T17:30:07.150Z"
   },
   {
    "duration": 39,
    "start_time": "2023-09-03T17:30:07.189Z"
   },
   {
    "duration": 45,
    "start_time": "2023-09-03T17:30:07.230Z"
   },
   {
    "duration": 23,
    "start_time": "2023-09-03T17:30:07.277Z"
   },
   {
    "duration": 41,
    "start_time": "2023-09-03T17:30:07.302Z"
   },
   {
    "duration": 27,
    "start_time": "2023-09-03T17:30:07.345Z"
   },
   {
    "duration": 33,
    "start_time": "2023-09-03T17:30:07.374Z"
   },
   {
    "duration": 10,
    "start_time": "2023-09-03T17:30:07.409Z"
   },
   {
    "duration": 19,
    "start_time": "2023-09-03T17:30:07.421Z"
   },
   {
    "duration": 33,
    "start_time": "2023-09-03T17:30:07.443Z"
   },
   {
    "duration": 323,
    "start_time": "2023-09-03T17:30:07.478Z"
   },
   {
    "duration": 12,
    "start_time": "2023-09-03T17:30:07.802Z"
   },
   {
    "duration": 16,
    "start_time": "2023-09-03T17:30:07.816Z"
   },
   {
    "duration": 310,
    "start_time": "2023-09-03T17:30:07.834Z"
   },
   {
    "duration": 8,
    "start_time": "2023-09-03T17:30:08.147Z"
   },
   {
    "duration": 265,
    "start_time": "2023-09-03T17:30:08.156Z"
   },
   {
    "duration": 423,
    "start_time": "2023-09-03T17:30:08.424Z"
   },
   {
    "duration": 400,
    "start_time": "2023-09-03T17:30:08.849Z"
   },
   {
    "duration": 298,
    "start_time": "2023-09-03T17:30:09.251Z"
   },
   {
    "duration": 290,
    "start_time": "2023-09-03T17:30:09.551Z"
   },
   {
    "duration": 627,
    "start_time": "2023-09-03T17:30:09.842Z"
   },
   {
    "duration": 9,
    "start_time": "2023-09-03T17:30:10.470Z"
   },
   {
    "duration": 9,
    "start_time": "2023-09-03T17:30:10.480Z"
   },
   {
    "duration": 8,
    "start_time": "2023-09-03T17:30:10.491Z"
   },
   {
    "duration": 7,
    "start_time": "2023-09-03T17:30:10.500Z"
   },
   {
    "duration": 10,
    "start_time": "2023-09-03T17:30:10.508Z"
   },
   {
    "duration": 298,
    "start_time": "2023-09-03T17:30:10.520Z"
   },
   {
    "duration": 31,
    "start_time": "2023-09-03T17:30:10.821Z"
   },
   {
    "duration": 302,
    "start_time": "2023-09-03T17:30:10.854Z"
   },
   {
    "duration": 50,
    "start_time": "2023-09-03T17:30:11.158Z"
   },
   {
    "duration": 281,
    "start_time": "2023-09-03T17:30:11.210Z"
   },
   {
    "duration": 5,
    "start_time": "2023-09-03T17:30:11.492Z"
   },
   {
    "duration": 7,
    "start_time": "2023-09-03T17:30:11.498Z"
   },
   {
    "duration": 10,
    "start_time": "2023-09-03T17:30:11.507Z"
   },
   {
    "duration": 8,
    "start_time": "2023-09-03T17:30:11.518Z"
   },
   {
    "duration": 1623,
    "start_time": "2023-09-03T17:30:11.527Z"
   },
   {
    "duration": 13130,
    "start_time": "2023-09-03T17:30:13.152Z"
   },
   {
    "duration": 4994,
    "start_time": "2023-09-03T17:30:26.283Z"
   },
   {
    "duration": 9,
    "start_time": "2023-09-03T17:30:31.278Z"
   },
   {
    "duration": 234,
    "start_time": "2023-09-03T17:30:31.288Z"
   },
   {
    "duration": 0,
    "start_time": "2023-09-03T17:30:31.523Z"
   },
   {
    "duration": 9,
    "start_time": "2023-09-03T17:32:09.746Z"
   },
   {
    "duration": 11,
    "start_time": "2023-09-03T17:33:07.461Z"
   },
   {
    "duration": 8,
    "start_time": "2023-09-03T17:33:22.780Z"
   },
   {
    "duration": 1746,
    "start_time": "2023-09-03T17:33:29.602Z"
   },
   {
    "duration": 961,
    "start_time": "2023-09-03T17:33:31.350Z"
   },
   {
    "duration": 20,
    "start_time": "2023-09-03T17:33:32.313Z"
   },
   {
    "duration": 26,
    "start_time": "2023-09-03T17:33:32.335Z"
   },
   {
    "duration": 27,
    "start_time": "2023-09-03T17:33:32.364Z"
   },
   {
    "duration": 25,
    "start_time": "2023-09-03T17:33:32.393Z"
   },
   {
    "duration": 42,
    "start_time": "2023-09-03T17:33:32.421Z"
   },
   {
    "duration": 27,
    "start_time": "2023-09-03T17:33:32.466Z"
   },
   {
    "duration": 10,
    "start_time": "2023-09-03T17:33:32.496Z"
   },
   {
    "duration": 26,
    "start_time": "2023-09-03T17:33:32.507Z"
   },
   {
    "duration": 22,
    "start_time": "2023-09-03T17:33:32.535Z"
   },
   {
    "duration": 18,
    "start_time": "2023-09-03T17:33:32.559Z"
   },
   {
    "duration": 6,
    "start_time": "2023-09-03T17:33:32.579Z"
   },
   {
    "duration": 8,
    "start_time": "2023-09-03T17:33:32.590Z"
   },
   {
    "duration": 18,
    "start_time": "2023-09-03T17:33:32.600Z"
   },
   {
    "duration": 20,
    "start_time": "2023-09-03T17:33:32.620Z"
   },
   {
    "duration": 21,
    "start_time": "2023-09-03T17:33:32.646Z"
   },
   {
    "duration": 25,
    "start_time": "2023-09-03T17:33:32.669Z"
   },
   {
    "duration": 10,
    "start_time": "2023-09-03T17:33:32.696Z"
   },
   {
    "duration": 19,
    "start_time": "2023-09-03T17:33:32.707Z"
   },
   {
    "duration": 14,
    "start_time": "2023-09-03T17:33:32.746Z"
   },
   {
    "duration": 324,
    "start_time": "2023-09-03T17:33:32.762Z"
   },
   {
    "duration": 14,
    "start_time": "2023-09-03T17:33:33.087Z"
   },
   {
    "duration": 27,
    "start_time": "2023-09-03T17:33:33.102Z"
   },
   {
    "duration": 276,
    "start_time": "2023-09-03T17:33:33.131Z"
   },
   {
    "duration": 10,
    "start_time": "2023-09-03T17:33:33.409Z"
   },
   {
    "duration": 277,
    "start_time": "2023-09-03T17:33:33.421Z"
   },
   {
    "duration": 418,
    "start_time": "2023-09-03T17:33:33.699Z"
   },
   {
    "duration": 335,
    "start_time": "2023-09-03T17:33:34.119Z"
   },
   {
    "duration": 295,
    "start_time": "2023-09-03T17:33:34.456Z"
   },
   {
    "duration": 305,
    "start_time": "2023-09-03T17:33:34.753Z"
   },
   {
    "duration": 439,
    "start_time": "2023-09-03T17:33:35.061Z"
   },
   {
    "duration": 9,
    "start_time": "2023-09-03T17:33:35.502Z"
   },
   {
    "duration": 26,
    "start_time": "2023-09-03T17:33:35.513Z"
   },
   {
    "duration": 14,
    "start_time": "2023-09-03T17:33:35.541Z"
   },
   {
    "duration": 28,
    "start_time": "2023-09-03T17:33:35.557Z"
   },
   {
    "duration": 20,
    "start_time": "2023-09-03T17:33:35.587Z"
   },
   {
    "duration": 314,
    "start_time": "2023-09-03T17:33:35.609Z"
   },
   {
    "duration": 73,
    "start_time": "2023-09-03T17:33:35.925Z"
   },
   {
    "duration": 303,
    "start_time": "2023-09-03T17:33:35.999Z"
   },
   {
    "duration": 20,
    "start_time": "2023-09-03T17:33:36.306Z"
   },
   {
    "duration": 273,
    "start_time": "2023-09-03T17:33:36.346Z"
   },
   {
    "duration": 5,
    "start_time": "2023-09-03T17:33:36.620Z"
   },
   {
    "duration": 19,
    "start_time": "2023-09-03T17:33:36.628Z"
   },
   {
    "duration": 7,
    "start_time": "2023-09-03T17:33:36.649Z"
   },
   {
    "duration": 9,
    "start_time": "2023-09-03T17:33:36.658Z"
   },
   {
    "duration": 142,
    "start_time": "2023-09-03T17:33:36.669Z"
   },
   {
    "duration": 0,
    "start_time": "2023-09-03T17:33:36.813Z"
   },
   {
    "duration": 0,
    "start_time": "2023-09-03T17:33:36.815Z"
   },
   {
    "duration": 0,
    "start_time": "2023-09-03T17:33:36.816Z"
   },
   {
    "duration": 0,
    "start_time": "2023-09-03T17:33:36.817Z"
   },
   {
    "duration": 0,
    "start_time": "2023-09-03T17:33:36.819Z"
   },
   {
    "duration": 48,
    "start_time": "2023-09-03T19:33:22.924Z"
   },
   {
    "duration": 1542,
    "start_time": "2023-09-03T19:33:34.466Z"
   },
   {
    "duration": 3381,
    "start_time": "2023-09-03T19:33:36.010Z"
   },
   {
    "duration": 18,
    "start_time": "2023-09-03T19:33:39.393Z"
   },
   {
    "duration": 13,
    "start_time": "2023-09-03T19:33:39.412Z"
   },
   {
    "duration": 20,
    "start_time": "2023-09-03T19:33:39.427Z"
   },
   {
    "duration": 13,
    "start_time": "2023-09-03T19:33:39.449Z"
   },
   {
    "duration": 3,
    "start_time": "2023-09-03T19:33:39.463Z"
   },
   {
    "duration": 6,
    "start_time": "2023-09-03T19:33:39.468Z"
   },
   {
    "duration": 4,
    "start_time": "2023-09-03T19:33:39.476Z"
   },
   {
    "duration": 4,
    "start_time": "2023-09-03T19:33:39.482Z"
   },
   {
    "duration": 7,
    "start_time": "2023-09-03T19:33:39.488Z"
   },
   {
    "duration": 11,
    "start_time": "2023-09-03T19:33:39.496Z"
   },
   {
    "duration": 40,
    "start_time": "2023-09-03T19:33:39.508Z"
   },
   {
    "duration": 8,
    "start_time": "2023-09-03T19:33:39.551Z"
   },
   {
    "duration": 23,
    "start_time": "2023-09-03T19:33:39.561Z"
   },
   {
    "duration": 11,
    "start_time": "2023-09-03T19:33:39.586Z"
   },
   {
    "duration": 10,
    "start_time": "2023-09-03T19:33:39.599Z"
   },
   {
    "duration": 33,
    "start_time": "2023-09-03T19:33:39.611Z"
   },
   {
    "duration": 9,
    "start_time": "2023-09-03T19:33:39.646Z"
   },
   {
    "duration": 8,
    "start_time": "2023-09-03T19:33:39.656Z"
   },
   {
    "duration": 8,
    "start_time": "2023-09-03T19:33:39.665Z"
   },
   {
    "duration": 289,
    "start_time": "2023-09-03T19:33:39.674Z"
   },
   {
    "duration": 19,
    "start_time": "2023-09-03T19:33:39.965Z"
   },
   {
    "duration": 7,
    "start_time": "2023-09-03T19:33:39.986Z"
   },
   {
    "duration": 232,
    "start_time": "2023-09-03T19:33:39.995Z"
   },
   {
    "duration": 17,
    "start_time": "2023-09-03T19:33:40.229Z"
   },
   {
    "duration": 217,
    "start_time": "2023-09-03T19:33:40.247Z"
   },
   {
    "duration": 321,
    "start_time": "2023-09-03T19:33:40.466Z"
   },
   {
    "duration": 270,
    "start_time": "2023-09-03T19:33:40.788Z"
   },
   {
    "duration": 241,
    "start_time": "2023-09-03T19:33:41.060Z"
   },
   {
    "duration": 257,
    "start_time": "2023-09-03T19:33:41.302Z"
   },
   {
    "duration": 509,
    "start_time": "2023-09-03T19:33:41.560Z"
   },
   {
    "duration": 7,
    "start_time": "2023-09-03T19:33:42.071Z"
   },
   {
    "duration": 9,
    "start_time": "2023-09-03T19:33:42.080Z"
   },
   {
    "duration": 5,
    "start_time": "2023-09-03T19:33:42.091Z"
   },
   {
    "duration": 12,
    "start_time": "2023-09-03T19:33:42.098Z"
   },
   {
    "duration": 13,
    "start_time": "2023-09-03T19:33:42.112Z"
   },
   {
    "duration": 263,
    "start_time": "2023-09-03T19:33:42.127Z"
   },
   {
    "duration": 63,
    "start_time": "2023-09-03T19:33:42.392Z"
   },
   {
    "duration": 232,
    "start_time": "2023-09-03T19:33:42.457Z"
   },
   {
    "duration": 51,
    "start_time": "2023-09-03T19:33:42.693Z"
   },
   {
    "duration": 234,
    "start_time": "2023-09-03T19:33:42.746Z"
   },
   {
    "duration": 5,
    "start_time": "2023-09-03T19:33:42.981Z"
   },
   {
    "duration": 6,
    "start_time": "2023-09-03T19:33:42.988Z"
   },
   {
    "duration": 9,
    "start_time": "2023-09-03T19:33:42.996Z"
   },
   {
    "duration": 5,
    "start_time": "2023-09-03T19:33:43.006Z"
   },
   {
    "duration": 1636,
    "start_time": "2023-09-03T19:33:43.013Z"
   },
   {
    "duration": 13130,
    "start_time": "2023-09-03T19:33:44.652Z"
   },
   {
    "duration": 5019,
    "start_time": "2023-09-03T19:33:57.784Z"
   },
   {
    "duration": 10,
    "start_time": "2023-09-03T19:34:02.805Z"
   },
   {
    "duration": 39,
    "start_time": "2023-09-03T19:34:02.816Z"
   },
   {
    "duration": 99,
    "start_time": "2023-09-03T19:34:02.945Z"
   },
   {
    "duration": 20,
    "start_time": "2023-09-03T19:34:29.568Z"
   },
   {
    "duration": 17,
    "start_time": "2023-09-03T19:38:13.234Z"
   },
   {
    "duration": 14,
    "start_time": "2023-09-03T19:42:42.220Z"
   },
   {
    "duration": 1359,
    "start_time": "2023-09-03T19:43:02.135Z"
   },
   {
    "duration": 837,
    "start_time": "2023-09-03T19:43:03.496Z"
   },
   {
    "duration": 18,
    "start_time": "2023-09-03T19:43:04.335Z"
   },
   {
    "duration": 10,
    "start_time": "2023-09-03T19:43:04.354Z"
   },
   {
    "duration": 13,
    "start_time": "2023-09-03T19:43:04.366Z"
   },
   {
    "duration": 24,
    "start_time": "2023-09-03T19:43:04.380Z"
   },
   {
    "duration": 1,
    "start_time": "2023-09-03T19:43:04.406Z"
   },
   {
    "duration": 10,
    "start_time": "2023-09-03T19:43:04.409Z"
   },
   {
    "duration": 5,
    "start_time": "2023-09-03T19:43:04.420Z"
   },
   {
    "duration": 17,
    "start_time": "2023-09-03T19:43:04.427Z"
   },
   {
    "duration": 5,
    "start_time": "2023-09-03T19:43:04.446Z"
   },
   {
    "duration": 9,
    "start_time": "2023-09-03T19:43:04.452Z"
   },
   {
    "duration": 4,
    "start_time": "2023-09-03T19:43:04.462Z"
   },
   {
    "duration": 7,
    "start_time": "2023-09-03T19:43:04.467Z"
   },
   {
    "duration": 7,
    "start_time": "2023-09-03T19:43:04.475Z"
   },
   {
    "duration": 17,
    "start_time": "2023-09-03T19:43:04.483Z"
   },
   {
    "duration": 10,
    "start_time": "2023-09-03T19:43:04.501Z"
   },
   {
    "duration": 48,
    "start_time": "2023-09-03T19:43:04.512Z"
   },
   {
    "duration": 9,
    "start_time": "2023-09-03T19:43:04.561Z"
   },
   {
    "duration": 7,
    "start_time": "2023-09-03T19:43:04.571Z"
   },
   {
    "duration": 8,
    "start_time": "2023-09-03T19:43:04.579Z"
   },
   {
    "duration": 263,
    "start_time": "2023-09-03T19:43:04.588Z"
   },
   {
    "duration": 19,
    "start_time": "2023-09-03T19:43:04.853Z"
   },
   {
    "duration": 7,
    "start_time": "2023-09-03T19:43:04.873Z"
   },
   {
    "duration": 228,
    "start_time": "2023-09-03T19:43:04.882Z"
   },
   {
    "duration": 18,
    "start_time": "2023-09-03T19:43:05.111Z"
   },
   {
    "duration": 18,
    "start_time": "2023-09-03T19:43:05.130Z"
   },
   {
    "duration": 220,
    "start_time": "2023-09-03T19:43:05.151Z"
   },
   {
    "duration": 14,
    "start_time": "2023-09-03T19:43:05.374Z"
   },
   {
    "duration": 325,
    "start_time": "2023-09-03T19:43:05.390Z"
   },
   {
    "duration": 268,
    "start_time": "2023-09-03T19:43:05.716Z"
   },
   {
    "duration": 240,
    "start_time": "2023-09-03T19:43:05.986Z"
   },
   {
    "duration": 255,
    "start_time": "2023-09-03T19:43:06.228Z"
   },
   {
    "duration": 282,
    "start_time": "2023-09-03T19:43:06.485Z"
   },
   {
    "duration": 7,
    "start_time": "2023-09-03T19:43:06.769Z"
   },
   {
    "duration": 9,
    "start_time": "2023-09-03T19:43:06.778Z"
   },
   {
    "duration": 4,
    "start_time": "2023-09-03T19:43:06.789Z"
   },
   {
    "duration": 4,
    "start_time": "2023-09-03T19:43:06.795Z"
   },
   {
    "duration": 7,
    "start_time": "2023-09-03T19:43:06.801Z"
   },
   {
    "duration": 222,
    "start_time": "2023-09-03T19:43:06.809Z"
   },
   {
    "duration": 56,
    "start_time": "2023-09-03T19:43:07.033Z"
   },
   {
    "duration": 223,
    "start_time": "2023-09-03T19:43:07.091Z"
   },
   {
    "duration": 37,
    "start_time": "2023-09-03T19:43:07.316Z"
   },
   {
    "duration": 215,
    "start_time": "2023-09-03T19:43:07.355Z"
   },
   {
    "duration": 5,
    "start_time": "2023-09-03T19:43:07.571Z"
   },
   {
    "duration": 58,
    "start_time": "2023-09-03T19:43:07.577Z"
   },
   {
    "duration": 51,
    "start_time": "2023-09-03T19:43:07.637Z"
   },
   {
    "duration": 40,
    "start_time": "2023-09-03T19:43:07.690Z"
   },
   {
    "duration": 815,
    "start_time": "2023-09-03T19:43:07.731Z"
   },
   {
    "duration": 1278,
    "start_time": "2023-09-03T19:43:08.549Z"
   },
   {
    "duration": 456,
    "start_time": "2023-09-03T19:43:09.828Z"
   },
   {
    "duration": 8,
    "start_time": "2023-09-03T19:43:10.285Z"
   },
   {
    "duration": 51,
    "start_time": "2023-09-03T19:43:10.294Z"
   },
   {
    "duration": 97,
    "start_time": "2023-09-03T19:43:10.347Z"
   },
   {
    "duration": 16,
    "start_time": "2023-09-03T19:48:25.758Z"
   },
   {
    "duration": 1560,
    "start_time": "2023-09-03T19:48:33.533Z"
   },
   {
    "duration": 837,
    "start_time": "2023-09-03T19:48:35.095Z"
   },
   {
    "duration": 23,
    "start_time": "2023-09-03T19:48:35.934Z"
   },
   {
    "duration": 16,
    "start_time": "2023-09-03T19:48:35.958Z"
   },
   {
    "duration": 18,
    "start_time": "2023-09-03T19:48:35.976Z"
   },
   {
    "duration": 12,
    "start_time": "2023-09-03T19:48:35.995Z"
   },
   {
    "duration": 38,
    "start_time": "2023-09-03T19:48:36.008Z"
   },
   {
    "duration": 27,
    "start_time": "2023-09-03T19:48:36.048Z"
   },
   {
    "duration": 7,
    "start_time": "2023-09-03T19:48:36.078Z"
   },
   {
    "duration": 5,
    "start_time": "2023-09-03T19:48:36.087Z"
   },
   {
    "duration": 14,
    "start_time": "2023-09-03T19:48:36.094Z"
   },
   {
    "duration": 8,
    "start_time": "2023-09-03T19:48:36.110Z"
   },
   {
    "duration": 11,
    "start_time": "2023-09-03T19:48:36.119Z"
   },
   {
    "duration": 13,
    "start_time": "2023-09-03T19:48:36.133Z"
   },
   {
    "duration": 18,
    "start_time": "2023-09-03T19:48:36.148Z"
   },
   {
    "duration": 13,
    "start_time": "2023-09-03T19:48:36.168Z"
   },
   {
    "duration": 13,
    "start_time": "2023-09-03T19:48:36.183Z"
   },
   {
    "duration": 56,
    "start_time": "2023-09-03T19:48:36.198Z"
   },
   {
    "duration": 12,
    "start_time": "2023-09-03T19:48:36.256Z"
   },
   {
    "duration": 12,
    "start_time": "2023-09-03T19:48:36.272Z"
   },
   {
    "duration": 12,
    "start_time": "2023-09-03T19:48:36.286Z"
   },
   {
    "duration": 326,
    "start_time": "2023-09-03T19:48:36.300Z"
   },
   {
    "duration": 35,
    "start_time": "2023-09-03T19:48:36.627Z"
   },
   {
    "duration": 26,
    "start_time": "2023-09-03T19:48:36.664Z"
   },
   {
    "duration": 245,
    "start_time": "2023-09-03T19:48:36.692Z"
   },
   {
    "duration": 26,
    "start_time": "2023-09-03T19:48:36.938Z"
   },
   {
    "duration": 37,
    "start_time": "2023-09-03T19:48:36.966Z"
   },
   {
    "duration": 287,
    "start_time": "2023-09-03T19:48:37.005Z"
   },
   {
    "duration": 17,
    "start_time": "2023-09-03T19:48:37.293Z"
   },
   {
    "duration": 350,
    "start_time": "2023-09-03T19:48:37.312Z"
   },
   {
    "duration": 283,
    "start_time": "2023-09-03T19:48:37.663Z"
   },
   {
    "duration": 259,
    "start_time": "2023-09-03T19:48:37.949Z"
   },
   {
    "duration": 260,
    "start_time": "2023-09-03T19:48:38.209Z"
   },
   {
    "duration": 460,
    "start_time": "2023-09-03T19:48:38.471Z"
   },
   {
    "duration": 18,
    "start_time": "2023-09-03T19:48:38.933Z"
   },
   {
    "duration": 14,
    "start_time": "2023-09-03T19:48:38.953Z"
   },
   {
    "duration": 5,
    "start_time": "2023-09-03T19:48:38.971Z"
   },
   {
    "duration": 7,
    "start_time": "2023-09-03T19:48:38.978Z"
   },
   {
    "duration": 14,
    "start_time": "2023-09-03T19:48:38.987Z"
   },
   {
    "duration": 274,
    "start_time": "2023-09-03T19:48:39.002Z"
   },
   {
    "duration": 67,
    "start_time": "2023-09-03T19:48:39.280Z"
   },
   {
    "duration": 262,
    "start_time": "2023-09-03T19:48:39.349Z"
   },
   {
    "duration": 63,
    "start_time": "2023-09-03T19:48:39.613Z"
   },
   {
    "duration": 273,
    "start_time": "2023-09-03T19:48:39.678Z"
   },
   {
    "duration": 7,
    "start_time": "2023-09-03T19:48:39.954Z"
   },
   {
    "duration": 8,
    "start_time": "2023-09-03T19:48:39.964Z"
   },
   {
    "duration": 11,
    "start_time": "2023-09-03T19:48:39.975Z"
   },
   {
    "duration": 25,
    "start_time": "2023-09-03T19:48:39.988Z"
   },
   {
    "duration": 1552,
    "start_time": "2023-09-03T19:48:40.015Z"
   },
   {
    "duration": 11811,
    "start_time": "2023-09-03T19:48:41.644Z"
   },
   {
    "duration": 4529,
    "start_time": "2023-09-03T19:48:53.457Z"
   },
   {
    "duration": 12,
    "start_time": "2023-09-03T19:48:57.988Z"
   },
   {
    "duration": 46,
    "start_time": "2023-09-03T19:48:58.002Z"
   },
   {
    "duration": 94,
    "start_time": "2023-09-03T19:48:58.053Z"
   },
   {
    "duration": 1336,
    "start_time": "2023-09-03T19:56:29.699Z"
   },
   {
    "duration": 827,
    "start_time": "2023-09-03T19:56:31.037Z"
   },
   {
    "duration": 16,
    "start_time": "2023-09-03T19:56:31.866Z"
   },
   {
    "duration": 19,
    "start_time": "2023-09-03T19:56:31.884Z"
   },
   {
    "duration": 29,
    "start_time": "2023-09-03T19:56:31.905Z"
   },
   {
    "duration": 17,
    "start_time": "2023-09-03T19:56:31.935Z"
   },
   {
    "duration": 3,
    "start_time": "2023-09-03T19:56:31.953Z"
   },
   {
    "duration": 20,
    "start_time": "2023-09-03T19:56:31.958Z"
   },
   {
    "duration": 19,
    "start_time": "2023-09-03T19:56:31.979Z"
   },
   {
    "duration": 10,
    "start_time": "2023-09-03T19:56:31.999Z"
   },
   {
    "duration": 18,
    "start_time": "2023-09-03T19:56:32.010Z"
   },
   {
    "duration": 22,
    "start_time": "2023-09-03T19:56:32.030Z"
   },
   {
    "duration": 7,
    "start_time": "2023-09-03T19:56:32.053Z"
   },
   {
    "duration": 31,
    "start_time": "2023-09-03T19:56:32.064Z"
   },
   {
    "duration": 22,
    "start_time": "2023-09-03T19:56:32.096Z"
   },
   {
    "duration": 11,
    "start_time": "2023-09-03T19:56:32.119Z"
   },
   {
    "duration": 13,
    "start_time": "2023-09-03T19:56:32.131Z"
   },
   {
    "duration": 30,
    "start_time": "2023-09-03T19:56:32.145Z"
   },
   {
    "duration": 8,
    "start_time": "2023-09-03T19:56:32.177Z"
   },
   {
    "duration": 19,
    "start_time": "2023-09-03T19:56:32.186Z"
   },
   {
    "duration": 19,
    "start_time": "2023-09-03T19:56:32.207Z"
   },
   {
    "duration": 283,
    "start_time": "2023-09-03T19:56:32.228Z"
   },
   {
    "duration": 19,
    "start_time": "2023-09-03T19:56:32.513Z"
   },
   {
    "duration": 36,
    "start_time": "2023-09-03T19:56:32.533Z"
   },
   {
    "duration": 222,
    "start_time": "2023-09-03T19:56:32.571Z"
   },
   {
    "duration": 17,
    "start_time": "2023-09-03T19:56:32.795Z"
   },
   {
    "duration": 30,
    "start_time": "2023-09-03T19:56:32.814Z"
   },
   {
    "duration": 224,
    "start_time": "2023-09-03T19:56:32.846Z"
   },
   {
    "duration": 18,
    "start_time": "2023-09-03T19:56:33.071Z"
   },
   {
    "duration": 329,
    "start_time": "2023-09-03T19:56:33.091Z"
   },
   {
    "duration": 259,
    "start_time": "2023-09-03T19:56:33.422Z"
   },
   {
    "duration": 241,
    "start_time": "2023-09-03T19:56:33.683Z"
   },
   {
    "duration": 282,
    "start_time": "2023-09-03T19:56:33.926Z"
   },
   {
    "duration": 420,
    "start_time": "2023-09-03T19:56:34.210Z"
   },
   {
    "duration": 14,
    "start_time": "2023-09-03T19:56:34.631Z"
   },
   {
    "duration": 8,
    "start_time": "2023-09-03T19:56:34.647Z"
   },
   {
    "duration": 5,
    "start_time": "2023-09-03T19:56:34.658Z"
   },
   {
    "duration": 4,
    "start_time": "2023-09-03T19:56:34.665Z"
   },
   {
    "duration": 15,
    "start_time": "2023-09-03T19:56:34.671Z"
   },
   {
    "duration": 241,
    "start_time": "2023-09-03T19:56:34.687Z"
   },
   {
    "duration": 59,
    "start_time": "2023-09-03T19:56:34.931Z"
   },
   {
    "duration": 222,
    "start_time": "2023-09-03T19:56:34.991Z"
   },
   {
    "duration": 48,
    "start_time": "2023-09-03T19:56:35.215Z"
   },
   {
    "duration": 221,
    "start_time": "2023-09-03T19:56:35.265Z"
   },
   {
    "duration": 4,
    "start_time": "2023-09-03T19:56:35.487Z"
   },
   {
    "duration": 21,
    "start_time": "2023-09-03T19:56:35.493Z"
   },
   {
    "duration": 27,
    "start_time": "2023-09-03T19:56:35.515Z"
   },
   {
    "duration": 8,
    "start_time": "2023-09-03T19:56:35.543Z"
   },
   {
    "duration": 1707,
    "start_time": "2023-09-03T19:56:35.552Z"
   },
   {
    "duration": 11712,
    "start_time": "2023-09-03T19:56:37.263Z"
   },
   {
    "duration": 4366,
    "start_time": "2023-09-03T19:56:48.983Z"
   },
   {
    "duration": 9,
    "start_time": "2023-09-03T19:56:53.351Z"
   },
   {
    "duration": 94,
    "start_time": "2023-09-03T19:56:53.362Z"
   },
   {
    "duration": 11,
    "start_time": "2023-09-03T19:56:53.546Z"
   },
   {
    "duration": 1358,
    "start_time": "2023-09-03T19:58:34.707Z"
   },
   {
    "duration": 848,
    "start_time": "2023-09-03T19:58:36.068Z"
   },
   {
    "duration": 15,
    "start_time": "2023-09-03T19:58:36.917Z"
   },
   {
    "duration": 12,
    "start_time": "2023-09-03T19:58:36.944Z"
   },
   {
    "duration": 17,
    "start_time": "2023-09-03T19:58:36.959Z"
   },
   {
    "duration": 10,
    "start_time": "2023-09-03T19:58:36.978Z"
   },
   {
    "duration": 2,
    "start_time": "2023-09-03T19:58:36.990Z"
   },
   {
    "duration": 8,
    "start_time": "2023-09-03T19:58:36.994Z"
   },
   {
    "duration": 8,
    "start_time": "2023-09-03T19:58:37.004Z"
   },
   {
    "duration": 31,
    "start_time": "2023-09-03T19:58:37.013Z"
   },
   {
    "duration": 5,
    "start_time": "2023-09-03T19:58:37.046Z"
   },
   {
    "duration": 13,
    "start_time": "2023-09-03T19:58:37.052Z"
   },
   {
    "duration": 5,
    "start_time": "2023-09-03T19:58:37.067Z"
   },
   {
    "duration": 4,
    "start_time": "2023-09-03T19:58:37.075Z"
   },
   {
    "duration": 9,
    "start_time": "2023-09-03T19:58:37.080Z"
   },
   {
    "duration": 11,
    "start_time": "2023-09-03T19:58:37.090Z"
   },
   {
    "duration": 12,
    "start_time": "2023-09-03T19:58:37.145Z"
   },
   {
    "duration": 21,
    "start_time": "2023-09-03T19:58:37.159Z"
   },
   {
    "duration": 8,
    "start_time": "2023-09-03T19:58:37.181Z"
   },
   {
    "duration": 7,
    "start_time": "2023-09-03T19:58:37.190Z"
   },
   {
    "duration": 47,
    "start_time": "2023-09-03T19:58:37.199Z"
   },
   {
    "duration": 283,
    "start_time": "2023-09-03T19:58:37.248Z"
   },
   {
    "duration": 33,
    "start_time": "2023-09-03T19:58:37.533Z"
   },
   {
    "duration": 27,
    "start_time": "2023-09-03T19:58:37.568Z"
   },
   {
    "duration": 231,
    "start_time": "2023-09-03T19:58:37.596Z"
   },
   {
    "duration": 27,
    "start_time": "2023-09-03T19:58:37.828Z"
   },
   {
    "duration": 11,
    "start_time": "2023-09-03T19:58:37.857Z"
   },
   {
    "duration": 249,
    "start_time": "2023-09-03T19:58:37.869Z"
   },
   {
    "duration": 28,
    "start_time": "2023-09-03T19:58:38.119Z"
   },
   {
    "duration": 332,
    "start_time": "2023-09-03T19:58:38.149Z"
   },
   {
    "duration": 269,
    "start_time": "2023-09-03T19:58:38.483Z"
   },
   {
    "duration": 241,
    "start_time": "2023-09-03T19:58:38.754Z"
   },
   {
    "duration": 258,
    "start_time": "2023-09-03T19:58:38.997Z"
   },
   {
    "duration": 461,
    "start_time": "2023-09-03T19:58:39.256Z"
   },
   {
    "duration": 27,
    "start_time": "2023-09-03T19:58:39.718Z"
   },
   {
    "duration": 16,
    "start_time": "2023-09-03T19:58:39.747Z"
   },
   {
    "duration": 8,
    "start_time": "2023-09-03T19:58:39.765Z"
   },
   {
    "duration": 6,
    "start_time": "2023-09-03T19:58:39.775Z"
   },
   {
    "duration": 12,
    "start_time": "2023-09-03T19:58:39.782Z"
   },
   {
    "duration": 253,
    "start_time": "2023-09-03T19:58:39.796Z"
   },
   {
    "duration": 53,
    "start_time": "2023-09-03T19:58:40.055Z"
   },
   {
    "duration": 275,
    "start_time": "2023-09-03T19:58:40.110Z"
   },
   {
    "duration": 37,
    "start_time": "2023-09-03T19:58:40.386Z"
   },
   {
    "duration": 240,
    "start_time": "2023-09-03T19:58:40.425Z"
   },
   {
    "duration": 5,
    "start_time": "2023-09-03T19:58:40.667Z"
   },
   {
    "duration": 10,
    "start_time": "2023-09-03T19:58:40.673Z"
   },
   {
    "duration": 18,
    "start_time": "2023-09-03T19:58:40.684Z"
   },
   {
    "duration": 11,
    "start_time": "2023-09-03T19:58:40.703Z"
   },
   {
    "duration": 1954,
    "start_time": "2023-09-03T19:58:40.715Z"
   },
   {
    "duration": 11426,
    "start_time": "2023-09-03T19:58:42.747Z"
   },
   {
    "duration": 4375,
    "start_time": "2023-09-03T19:58:54.176Z"
   },
   {
    "duration": 9,
    "start_time": "2023-09-03T19:58:58.553Z"
   },
   {
    "duration": 15,
    "start_time": "2023-09-03T19:58:58.564Z"
   },
   {
    "duration": 97,
    "start_time": "2023-09-03T19:58:58.649Z"
   },
   {
    "duration": 317,
    "start_time": "2023-09-03T20:03:42.301Z"
   },
   {
    "duration": 226,
    "start_time": "2023-09-03T20:04:07.099Z"
   },
   {
    "duration": 228,
    "start_time": "2023-09-03T20:04:39.260Z"
   },
   {
    "duration": 222,
    "start_time": "2023-09-03T20:05:05.742Z"
   },
   {
    "duration": 207,
    "start_time": "2023-09-03T20:07:16.527Z"
   },
   {
    "duration": 198,
    "start_time": "2023-09-03T20:09:13.339Z"
   },
   {
    "duration": 204,
    "start_time": "2023-09-03T20:09:45.210Z"
   },
   {
    "duration": 210,
    "start_time": "2023-09-03T20:10:03.580Z"
   },
   {
    "duration": 221,
    "start_time": "2023-09-03T20:10:37.530Z"
   },
   {
    "duration": 206,
    "start_time": "2023-09-03T20:11:37.500Z"
   },
   {
    "duration": 221,
    "start_time": "2023-09-03T20:12:36.880Z"
   },
   {
    "duration": 91,
    "start_time": "2023-09-03T20:34:19.715Z"
   },
   {
    "duration": 4,
    "start_time": "2023-09-03T20:34:20.423Z"
   },
   {
    "duration": 4,
    "start_time": "2023-09-03T20:34:32.445Z"
   },
   {
    "duration": 4,
    "start_time": "2023-09-03T20:34:34.956Z"
   },
   {
    "duration": 3,
    "start_time": "2023-09-03T20:34:51.012Z"
   },
   {
    "duration": 3,
    "start_time": "2023-09-03T20:38:09.303Z"
   },
   {
    "duration": 101,
    "start_time": "2023-09-03T20:45:09.765Z"
   },
   {
    "duration": 17,
    "start_time": "2023-09-03T20:45:25.645Z"
   },
   {
    "duration": 1458,
    "start_time": "2023-09-03T20:48:11.637Z"
   },
   {
    "duration": 812,
    "start_time": "2023-09-03T20:48:13.097Z"
   },
   {
    "duration": 17,
    "start_time": "2023-09-03T20:48:13.910Z"
   },
   {
    "duration": 27,
    "start_time": "2023-09-03T20:48:13.929Z"
   },
   {
    "duration": 17,
    "start_time": "2023-09-03T20:48:13.958Z"
   },
   {
    "duration": 12,
    "start_time": "2023-09-03T20:48:13.977Z"
   },
   {
    "duration": 4,
    "start_time": "2023-09-03T20:48:13.991Z"
   },
   {
    "duration": 15,
    "start_time": "2023-09-03T20:48:13.996Z"
   },
   {
    "duration": 32,
    "start_time": "2023-09-03T20:48:14.013Z"
   },
   {
    "duration": 4,
    "start_time": "2023-09-03T20:48:14.047Z"
   },
   {
    "duration": 7,
    "start_time": "2023-09-03T20:48:14.053Z"
   },
   {
    "duration": 11,
    "start_time": "2023-09-03T20:48:14.062Z"
   },
   {
    "duration": 7,
    "start_time": "2023-09-03T20:48:14.075Z"
   },
   {
    "duration": 6,
    "start_time": "2023-09-03T20:48:14.086Z"
   },
   {
    "duration": 12,
    "start_time": "2023-09-03T20:48:14.094Z"
   },
   {
    "duration": 12,
    "start_time": "2023-09-03T20:48:14.145Z"
   },
   {
    "duration": 15,
    "start_time": "2023-09-03T20:48:14.159Z"
   },
   {
    "duration": 23,
    "start_time": "2023-09-03T20:48:14.177Z"
   },
   {
    "duration": 43,
    "start_time": "2023-09-03T20:48:14.202Z"
   },
   {
    "duration": 10,
    "start_time": "2023-09-03T20:48:14.247Z"
   },
   {
    "duration": 12,
    "start_time": "2023-09-03T20:48:14.259Z"
   },
   {
    "duration": 294,
    "start_time": "2023-09-03T20:48:14.273Z"
   },
   {
    "duration": 20,
    "start_time": "2023-09-03T20:48:14.569Z"
   },
   {
    "duration": 8,
    "start_time": "2023-09-03T20:48:14.591Z"
   },
   {
    "duration": 247,
    "start_time": "2023-09-03T20:48:14.601Z"
   },
   {
    "duration": 20,
    "start_time": "2023-09-03T20:48:14.850Z"
   },
   {
    "duration": 38,
    "start_time": "2023-09-03T20:48:14.872Z"
   },
   {
    "duration": 288,
    "start_time": "2023-09-03T20:48:14.911Z"
   },
   {
    "duration": 19,
    "start_time": "2023-09-03T20:48:15.201Z"
   },
   {
    "duration": 351,
    "start_time": "2023-09-03T20:48:15.221Z"
   },
   {
    "duration": 276,
    "start_time": "2023-09-03T20:48:15.574Z"
   },
   {
    "duration": 273,
    "start_time": "2023-09-03T20:48:15.852Z"
   },
   {
    "duration": 285,
    "start_time": "2023-09-03T20:48:16.126Z"
   },
   {
    "duration": 436,
    "start_time": "2023-09-03T20:48:16.412Z"
   },
   {
    "duration": 9,
    "start_time": "2023-09-03T20:48:16.849Z"
   },
   {
    "duration": 17,
    "start_time": "2023-09-03T20:48:16.859Z"
   },
   {
    "duration": 7,
    "start_time": "2023-09-03T20:48:16.877Z"
   },
   {
    "duration": 4,
    "start_time": "2023-09-03T20:48:16.886Z"
   },
   {
    "duration": 5,
    "start_time": "2023-09-03T20:48:16.892Z"
   },
   {
    "duration": 1377,
    "start_time": "2023-09-03T20:48:16.898Z"
   },
   {
    "duration": 0,
    "start_time": "2023-09-03T20:48:18.277Z"
   },
   {
    "duration": 0,
    "start_time": "2023-09-03T20:48:18.278Z"
   },
   {
    "duration": 0,
    "start_time": "2023-09-03T20:48:18.279Z"
   },
   {
    "duration": 0,
    "start_time": "2023-09-03T20:48:18.280Z"
   },
   {
    "duration": 0,
    "start_time": "2023-09-03T20:48:18.281Z"
   },
   {
    "duration": 0,
    "start_time": "2023-09-03T20:48:18.282Z"
   },
   {
    "duration": 0,
    "start_time": "2023-09-03T20:48:18.283Z"
   },
   {
    "duration": 0,
    "start_time": "2023-09-03T20:48:18.284Z"
   },
   {
    "duration": 0,
    "start_time": "2023-09-03T20:48:18.285Z"
   },
   {
    "duration": 0,
    "start_time": "2023-09-03T20:48:18.286Z"
   },
   {
    "duration": 0,
    "start_time": "2023-09-03T20:48:18.287Z"
   },
   {
    "duration": 0,
    "start_time": "2023-09-03T20:48:18.288Z"
   },
   {
    "duration": 1202,
    "start_time": "2023-09-03T20:49:56.987Z"
   },
   {
    "duration": 5,
    "start_time": "2023-09-03T20:53:18.987Z"
   },
   {
    "duration": 5,
    "start_time": "2023-09-03T20:53:20.507Z"
   },
   {
    "duration": 5,
    "start_time": "2023-09-03T20:53:21.874Z"
   },
   {
    "duration": 246,
    "start_time": "2023-09-03T20:53:23.241Z"
   },
   {
    "duration": 4,
    "start_time": "2023-09-03T20:53:57.846Z"
   },
   {
    "duration": 4,
    "start_time": "2023-09-03T20:53:58.877Z"
   },
   {
    "duration": 12,
    "start_time": "2023-09-03T20:54:02.287Z"
   },
   {
    "duration": 8,
    "start_time": "2023-09-03T20:54:04.336Z"
   },
   {
    "duration": 3,
    "start_time": "2023-09-03T20:54:07.634Z"
   },
   {
    "duration": 29,
    "start_time": "2023-09-03T20:54:09.045Z"
   },
   {
    "duration": 54,
    "start_time": "2023-09-03T20:54:55.538Z"
   },
   {
    "duration": 24,
    "start_time": "2023-09-03T20:54:58.123Z"
   },
   {
    "duration": 52,
    "start_time": "2023-09-03T20:58:06.366Z"
   },
   {
    "duration": 41,
    "start_time": "2023-09-03T21:00:38.775Z"
   },
   {
    "duration": 8,
    "start_time": "2023-09-03T21:11:09.782Z"
   },
   {
    "duration": 5,
    "start_time": "2023-09-03T21:12:12.229Z"
   },
   {
    "duration": 3,
    "start_time": "2023-09-03T21:12:29.271Z"
   },
   {
    "duration": 9,
    "start_time": "2023-09-03T21:12:30.181Z"
   },
   {
    "duration": 3,
    "start_time": "2023-09-03T21:13:03.579Z"
   },
   {
    "duration": 3,
    "start_time": "2023-09-03T21:13:12.941Z"
   },
   {
    "duration": 2,
    "start_time": "2023-09-03T21:13:13.459Z"
   },
   {
    "duration": 2,
    "start_time": "2023-09-03T21:13:14.361Z"
   },
   {
    "duration": 11,
    "start_time": "2023-09-03T21:13:14.991Z"
   },
   {
    "duration": 801,
    "start_time": "2023-09-03T21:17:30.147Z"
   },
   {
    "duration": 2,
    "start_time": "2023-09-03T21:24:19.779Z"
   },
   {
    "duration": 10,
    "start_time": "2023-09-03T21:24:20.536Z"
   },
   {
    "duration": 3,
    "start_time": "2023-09-03T21:24:49.098Z"
   },
   {
    "duration": 3,
    "start_time": "2023-09-03T21:25:02.030Z"
   },
   {
    "duration": 3,
    "start_time": "2023-09-03T21:25:02.920Z"
   },
   {
    "duration": 9,
    "start_time": "2023-09-03T21:25:03.698Z"
   },
   {
    "duration": 3,
    "start_time": "2023-09-03T21:25:44.630Z"
   },
   {
    "duration": 3,
    "start_time": "2023-09-03T21:25:59.686Z"
   },
   {
    "duration": 3,
    "start_time": "2023-09-03T21:29:59.198Z"
   },
   {
    "duration": 154252,
    "start_time": "2023-09-03T21:29:59.828Z"
   },
   {
    "duration": 0,
    "start_time": "2023-09-03T21:32:34.082Z"
   },
   {
    "duration": 152627,
    "start_time": "2023-09-03T21:32:39.858Z"
   },
   {
    "duration": 6,
    "start_time": "2023-09-03T21:35:12.487Z"
   },
   {
    "duration": 9,
    "start_time": "2023-09-03T21:35:54.618Z"
   },
   {
    "duration": 5,
    "start_time": "2023-09-03T21:35:55.988Z"
   },
   {
    "duration": 4,
    "start_time": "2023-09-03T21:40:09.737Z"
   },
   {
    "duration": 5,
    "start_time": "2023-09-03T21:41:25.599Z"
   },
   {
    "duration": 1404,
    "start_time": "2023-09-03T21:50:33.230Z"
   },
   {
    "duration": 769,
    "start_time": "2023-09-03T21:50:34.636Z"
   },
   {
    "duration": 15,
    "start_time": "2023-09-03T21:50:35.407Z"
   },
   {
    "duration": 25,
    "start_time": "2023-09-03T21:50:35.424Z"
   },
   {
    "duration": 14,
    "start_time": "2023-09-03T21:50:35.451Z"
   },
   {
    "duration": 10,
    "start_time": "2023-09-03T21:50:35.467Z"
   },
   {
    "duration": 3,
    "start_time": "2023-09-03T21:50:35.478Z"
   },
   {
    "duration": 7,
    "start_time": "2023-09-03T21:50:35.482Z"
   },
   {
    "duration": 4,
    "start_time": "2023-09-03T21:50:35.490Z"
   },
   {
    "duration": 4,
    "start_time": "2023-09-03T21:50:35.496Z"
   },
   {
    "duration": 6,
    "start_time": "2023-09-03T21:50:35.501Z"
   },
   {
    "duration": 40,
    "start_time": "2023-09-03T21:50:35.509Z"
   },
   {
    "duration": 13,
    "start_time": "2023-09-03T21:50:35.550Z"
   },
   {
    "duration": 25,
    "start_time": "2023-09-03T21:50:35.564Z"
   },
   {
    "duration": 20,
    "start_time": "2023-09-03T21:50:35.590Z"
   },
   {
    "duration": 27,
    "start_time": "2023-09-03T21:50:35.611Z"
   },
   {
    "duration": 14,
    "start_time": "2023-09-03T21:50:35.639Z"
   },
   {
    "duration": 36,
    "start_time": "2023-09-03T21:50:35.654Z"
   },
   {
    "duration": 9,
    "start_time": "2023-09-03T21:50:35.692Z"
   },
   {
    "duration": 13,
    "start_time": "2023-09-03T21:50:35.703Z"
   },
   {
    "duration": 9,
    "start_time": "2023-09-03T21:50:35.718Z"
   },
   {
    "duration": 254,
    "start_time": "2023-09-03T21:50:35.729Z"
   },
   {
    "duration": 19,
    "start_time": "2023-09-03T21:50:35.985Z"
   },
   {
    "duration": 8,
    "start_time": "2023-09-03T21:50:36.006Z"
   },
   {
    "duration": 223,
    "start_time": "2023-09-03T21:50:36.015Z"
   },
   {
    "duration": 19,
    "start_time": "2023-09-03T21:50:36.240Z"
   },
   {
    "duration": 10,
    "start_time": "2023-09-03T21:50:36.261Z"
   },
   {
    "duration": 250,
    "start_time": "2023-09-03T21:50:36.276Z"
   },
   {
    "duration": 20,
    "start_time": "2023-09-03T21:50:36.527Z"
   },
   {
    "duration": 306,
    "start_time": "2023-09-03T21:50:36.548Z"
   },
   {
    "duration": 242,
    "start_time": "2023-09-03T21:50:36.855Z"
   },
   {
    "duration": 237,
    "start_time": "2023-09-03T21:50:37.098Z"
   },
   {
    "duration": 237,
    "start_time": "2023-09-03T21:50:37.337Z"
   },
   {
    "duration": 387,
    "start_time": "2023-09-03T21:50:37.576Z"
   },
   {
    "duration": 8,
    "start_time": "2023-09-03T21:50:37.965Z"
   },
   {
    "duration": 7,
    "start_time": "2023-09-03T21:50:37.974Z"
   },
   {
    "duration": 4,
    "start_time": "2023-09-03T21:50:37.983Z"
   },
   {
    "duration": 7,
    "start_time": "2023-09-03T21:50:37.988Z"
   },
   {
    "duration": 5,
    "start_time": "2023-09-03T21:50:37.996Z"
   },
   {
    "duration": 1322,
    "start_time": "2023-09-03T21:50:38.002Z"
   },
   {
    "duration": 0,
    "start_time": "2023-09-03T21:50:39.326Z"
   },
   {
    "duration": 0,
    "start_time": "2023-09-03T21:50:39.327Z"
   },
   {
    "duration": 0,
    "start_time": "2023-09-03T21:50:39.328Z"
   },
   {
    "duration": 0,
    "start_time": "2023-09-03T21:50:39.329Z"
   },
   {
    "duration": 0,
    "start_time": "2023-09-03T21:50:39.330Z"
   },
   {
    "duration": 0,
    "start_time": "2023-09-03T21:50:39.331Z"
   },
   {
    "duration": 0,
    "start_time": "2023-09-03T21:50:39.331Z"
   },
   {
    "duration": 0,
    "start_time": "2023-09-03T21:50:39.332Z"
   },
   {
    "duration": 0,
    "start_time": "2023-09-03T21:50:39.333Z"
   },
   {
    "duration": 0,
    "start_time": "2023-09-03T21:50:39.333Z"
   },
   {
    "duration": 0,
    "start_time": "2023-09-03T21:50:39.334Z"
   },
   {
    "duration": 1,
    "start_time": "2023-09-03T21:50:39.335Z"
   },
   {
    "duration": 0,
    "start_time": "2023-09-03T21:50:39.337Z"
   },
   {
    "duration": 0,
    "start_time": "2023-09-03T21:50:39.338Z"
   },
   {
    "duration": 0,
    "start_time": "2023-09-03T21:50:39.339Z"
   },
   {
    "duration": 0,
    "start_time": "2023-09-03T21:50:39.340Z"
   },
   {
    "duration": 0,
    "start_time": "2023-09-03T21:50:39.341Z"
   },
   {
    "duration": 0,
    "start_time": "2023-09-03T21:50:39.342Z"
   },
   {
    "duration": 0,
    "start_time": "2023-09-03T21:50:39.343Z"
   },
   {
    "duration": 211,
    "start_time": "2023-09-03T21:51:57.939Z"
   },
   {
    "duration": 3,
    "start_time": "2023-09-03T21:52:03.136Z"
   },
   {
    "duration": 5,
    "start_time": "2023-09-03T21:52:03.141Z"
   },
   {
    "duration": 11,
    "start_time": "2023-09-03T21:52:03.154Z"
   },
   {
    "duration": 11,
    "start_time": "2023-09-03T21:52:03.167Z"
   },
   {
    "duration": 5,
    "start_time": "2023-09-03T21:52:03.179Z"
   },
   {
    "duration": 964,
    "start_time": "2023-09-03T21:52:03.185Z"
   },
   {
    "duration": 99,
    "start_time": "2023-09-03T21:52:04.152Z"
   },
   {
    "duration": 0,
    "start_time": "2023-09-03T21:52:04.252Z"
   },
   {
    "duration": 0,
    "start_time": "2023-09-03T21:52:04.253Z"
   },
   {
    "duration": 0,
    "start_time": "2023-09-03T21:52:04.254Z"
   },
   {
    "duration": 0,
    "start_time": "2023-09-03T21:52:04.255Z"
   },
   {
    "duration": 0,
    "start_time": "2023-09-03T21:52:04.256Z"
   },
   {
    "duration": 0,
    "start_time": "2023-09-03T21:52:04.257Z"
   },
   {
    "duration": 0,
    "start_time": "2023-09-03T21:52:04.259Z"
   },
   {
    "duration": 0,
    "start_time": "2023-09-03T21:52:04.259Z"
   },
   {
    "duration": 0,
    "start_time": "2023-09-03T21:52:04.260Z"
   },
   {
    "duration": 0,
    "start_time": "2023-09-03T21:52:04.261Z"
   },
   {
    "duration": 0,
    "start_time": "2023-09-03T21:52:04.262Z"
   },
   {
    "duration": 0,
    "start_time": "2023-09-03T21:52:04.264Z"
   },
   {
    "duration": 3,
    "start_time": "2023-09-03T21:52:37.428Z"
   },
   {
    "duration": 3,
    "start_time": "2023-09-03T21:52:38.778Z"
   },
   {
    "duration": 2,
    "start_time": "2023-09-03T21:52:40.076Z"
   },
   {
    "duration": 2,
    "start_time": "2023-09-03T21:52:40.928Z"
   },
   {
    "duration": 144845,
    "start_time": "2023-09-03T21:52:41.896Z"
   },
   {
    "duration": 7,
    "start_time": "2023-09-03T21:55:06.743Z"
   },
   {
    "duration": 8,
    "start_time": "2023-09-03T21:55:06.751Z"
   },
   {
    "duration": 980,
    "start_time": "2023-09-03T21:58:53.267Z"
   },
   {
    "duration": 858,
    "start_time": "2023-09-03T22:00:21.390Z"
   },
   {
    "duration": 2,
    "start_time": "2023-09-03T22:00:32.228Z"
   },
   {
    "duration": 2,
    "start_time": "2023-09-03T22:01:46.707Z"
   },
   {
    "duration": 3,
    "start_time": "2023-09-03T22:01:48.137Z"
   },
   {
    "duration": 3,
    "start_time": "2023-09-03T22:01:49.016Z"
   },
   {
    "duration": 3,
    "start_time": "2023-09-03T22:01:49.796Z"
   },
   {
    "duration": 34,
    "start_time": "2023-09-03T22:04:20.329Z"
   },
   {
    "duration": 0,
    "start_time": "2023-09-03T22:04:20.365Z"
   },
   {
    "duration": 0,
    "start_time": "2023-09-03T22:04:20.366Z"
   },
   {
    "duration": 0,
    "start_time": "2023-09-03T22:04:20.367Z"
   },
   {
    "duration": 146288,
    "start_time": "2023-09-03T22:07:01.348Z"
   },
   {
    "duration": 6,
    "start_time": "2023-09-03T22:09:27.638Z"
   },
   {
    "duration": 8,
    "start_time": "2023-09-03T22:09:27.646Z"
   },
   {
    "duration": 62,
    "start_time": "2023-09-03T22:19:28.240Z"
   },
   {
    "duration": 59,
    "start_time": "2023-09-03T22:19:34.481Z"
   },
   {
    "duration": 12,
    "start_time": "2023-09-03T22:19:43.810Z"
   },
   {
    "duration": 1333,
    "start_time": "2023-09-03T22:20:00.482Z"
   },
   {
    "duration": 769,
    "start_time": "2023-09-03T22:20:01.817Z"
   },
   {
    "duration": 14,
    "start_time": "2023-09-03T22:20:02.588Z"
   },
   {
    "duration": 18,
    "start_time": "2023-09-03T22:20:02.604Z"
   },
   {
    "duration": 27,
    "start_time": "2023-09-03T22:20:02.623Z"
   },
   {
    "duration": 17,
    "start_time": "2023-09-03T22:20:02.651Z"
   },
   {
    "duration": 8,
    "start_time": "2023-09-03T22:20:02.669Z"
   },
   {
    "duration": 14,
    "start_time": "2023-09-03T22:20:02.678Z"
   },
   {
    "duration": 8,
    "start_time": "2023-09-03T22:20:02.693Z"
   },
   {
    "duration": 10,
    "start_time": "2023-09-03T22:20:02.704Z"
   },
   {
    "duration": 16,
    "start_time": "2023-09-03T22:20:02.715Z"
   },
   {
    "duration": 25,
    "start_time": "2023-09-03T22:20:02.732Z"
   },
   {
    "duration": 20,
    "start_time": "2023-09-03T22:20:02.759Z"
   },
   {
    "duration": 8,
    "start_time": "2023-09-03T22:20:02.780Z"
   },
   {
    "duration": 14,
    "start_time": "2023-09-03T22:20:02.789Z"
   },
   {
    "duration": 21,
    "start_time": "2023-09-03T22:20:02.805Z"
   },
   {
    "duration": 16,
    "start_time": "2023-09-03T22:20:02.828Z"
   },
   {
    "duration": 29,
    "start_time": "2023-09-03T22:20:02.846Z"
   },
   {
    "duration": 9,
    "start_time": "2023-09-03T22:20:02.877Z"
   },
   {
    "duration": 11,
    "start_time": "2023-09-03T22:20:02.887Z"
   },
   {
    "duration": 11,
    "start_time": "2023-09-03T22:20:02.899Z"
   },
   {
    "duration": 281,
    "start_time": "2023-09-03T22:20:02.911Z"
   },
   {
    "duration": 21,
    "start_time": "2023-09-03T22:20:03.193Z"
   },
   {
    "duration": 28,
    "start_time": "2023-09-03T22:20:03.216Z"
   },
   {
    "duration": 222,
    "start_time": "2023-09-03T22:20:03.246Z"
   },
   {
    "duration": 19,
    "start_time": "2023-09-03T22:20:03.470Z"
   },
   {
    "duration": 8,
    "start_time": "2023-09-03T22:20:03.491Z"
   },
   {
    "duration": 225,
    "start_time": "2023-09-03T22:20:03.502Z"
   },
   {
    "duration": 23,
    "start_time": "2023-09-03T22:20:03.728Z"
   },
   {
    "duration": 294,
    "start_time": "2023-09-03T22:20:03.753Z"
   },
   {
    "duration": 264,
    "start_time": "2023-09-03T22:20:04.048Z"
   },
   {
    "duration": 216,
    "start_time": "2023-09-03T22:20:04.314Z"
   },
   {
    "duration": 216,
    "start_time": "2023-09-03T22:20:04.531Z"
   },
   {
    "duration": 376,
    "start_time": "2023-09-03T22:20:04.748Z"
   },
   {
    "duration": 8,
    "start_time": "2023-09-03T22:20:05.125Z"
   },
   {
    "duration": 16,
    "start_time": "2023-09-03T22:20:05.134Z"
   },
   {
    "duration": 7,
    "start_time": "2023-09-03T22:20:05.151Z"
   },
   {
    "duration": 18,
    "start_time": "2023-09-03T22:20:05.159Z"
   },
   {
    "duration": 17,
    "start_time": "2023-09-03T22:20:05.179Z"
   },
   {
    "duration": 215,
    "start_time": "2023-09-03T22:20:05.198Z"
   },
   {
    "duration": 3,
    "start_time": "2023-09-03T22:20:05.415Z"
   },
   {
    "duration": 14,
    "start_time": "2023-09-03T22:20:05.419Z"
   },
   {
    "duration": 17,
    "start_time": "2023-09-03T22:20:05.434Z"
   },
   {
    "duration": 6,
    "start_time": "2023-09-03T22:20:05.453Z"
   },
   {
    "duration": 885,
    "start_time": "2023-09-03T22:20:05.461Z"
   },
   {
    "duration": 3,
    "start_time": "2023-09-03T22:20:06.348Z"
   },
   {
    "duration": 92,
    "start_time": "2023-09-03T22:20:06.354Z"
   },
   {
    "duration": 9,
    "start_time": "2023-09-03T22:20:06.448Z"
   },
   {
    "duration": 14,
    "start_time": "2023-09-03T22:20:06.458Z"
   },
   {
    "duration": 145455,
    "start_time": "2023-09-03T22:20:06.473Z"
   },
   {
    "duration": 6,
    "start_time": "2023-09-03T22:22:31.929Z"
   },
   {
    "duration": 10,
    "start_time": "2023-09-03T22:22:31.936Z"
   },
   {
    "duration": 99,
    "start_time": "2023-09-03T22:22:31.947Z"
   },
   {
    "duration": 0,
    "start_time": "2023-09-03T22:22:32.047Z"
   },
   {
    "duration": 0,
    "start_time": "2023-09-03T22:22:32.048Z"
   },
   {
    "duration": 0,
    "start_time": "2023-09-03T22:22:32.049Z"
   },
   {
    "duration": 8,
    "start_time": "2023-09-03T22:23:36.162Z"
   },
   {
    "duration": 4,
    "start_time": "2023-09-03T22:24:00.573Z"
   },
   {
    "duration": 25,
    "start_time": "2023-09-03T22:24:01.782Z"
   },
   {
    "duration": 2,
    "start_time": "2023-09-03T22:24:53.992Z"
   },
   {
    "duration": 3,
    "start_time": "2023-09-03T22:24:54.524Z"
   },
   {
    "duration": 3,
    "start_time": "2023-09-03T22:24:55.343Z"
   },
   {
    "duration": 4,
    "start_time": "2023-09-03T22:24:56.364Z"
   },
   {
    "duration": 22,
    "start_time": "2023-09-03T22:24:57.065Z"
   },
   {
    "duration": 5,
    "start_time": "2023-09-03T22:31:50.582Z"
   },
   {
    "duration": 16,
    "start_time": "2023-09-03T22:31:51.665Z"
   },
   {
    "duration": 1298,
    "start_time": "2023-09-03T22:32:05.005Z"
   },
   {
    "duration": 785,
    "start_time": "2023-09-03T22:32:06.304Z"
   },
   {
    "duration": 16,
    "start_time": "2023-09-03T22:32:07.090Z"
   },
   {
    "duration": 11,
    "start_time": "2023-09-03T22:32:07.107Z"
   },
   {
    "duration": 31,
    "start_time": "2023-09-03T22:32:07.119Z"
   },
   {
    "duration": 10,
    "start_time": "2023-09-03T22:32:07.151Z"
   },
   {
    "duration": 3,
    "start_time": "2023-09-03T22:32:07.162Z"
   },
   {
    "duration": 5,
    "start_time": "2023-09-03T22:32:07.166Z"
   },
   {
    "duration": 4,
    "start_time": "2023-09-03T22:32:07.172Z"
   },
   {
    "duration": 8,
    "start_time": "2023-09-03T22:32:07.178Z"
   },
   {
    "duration": 6,
    "start_time": "2023-09-03T22:32:07.187Z"
   },
   {
    "duration": 6,
    "start_time": "2023-09-03T22:32:07.195Z"
   },
   {
    "duration": 3,
    "start_time": "2023-09-03T22:32:07.203Z"
   },
   {
    "duration": 11,
    "start_time": "2023-09-03T22:32:07.209Z"
   },
   {
    "duration": 6,
    "start_time": "2023-09-03T22:32:07.244Z"
   },
   {
    "duration": 25,
    "start_time": "2023-09-03T22:32:07.251Z"
   },
   {
    "duration": 11,
    "start_time": "2023-09-03T22:32:07.277Z"
   },
   {
    "duration": 19,
    "start_time": "2023-09-03T22:32:07.289Z"
   },
   {
    "duration": 9,
    "start_time": "2023-09-03T22:32:07.309Z"
   },
   {
    "duration": 25,
    "start_time": "2023-09-03T22:32:07.319Z"
   },
   {
    "duration": 8,
    "start_time": "2023-09-03T22:32:07.346Z"
   },
   {
    "duration": 239,
    "start_time": "2023-09-03T22:32:07.355Z"
   },
   {
    "duration": 19,
    "start_time": "2023-09-03T22:32:07.596Z"
   },
   {
    "duration": 7,
    "start_time": "2023-09-03T22:32:07.616Z"
   },
   {
    "duration": 216,
    "start_time": "2023-09-03T22:32:07.624Z"
   },
   {
    "duration": 16,
    "start_time": "2023-09-03T22:32:07.843Z"
   },
   {
    "duration": 7,
    "start_time": "2023-09-03T22:32:07.860Z"
   },
   {
    "duration": 224,
    "start_time": "2023-09-03T22:32:07.868Z"
   },
   {
    "duration": 17,
    "start_time": "2023-09-03T22:32:08.093Z"
   },
   {
    "duration": 294,
    "start_time": "2023-09-03T22:32:08.111Z"
   },
   {
    "duration": 226,
    "start_time": "2023-09-03T22:32:08.407Z"
   },
   {
    "duration": 219,
    "start_time": "2023-09-03T22:32:08.634Z"
   },
   {
    "duration": 222,
    "start_time": "2023-09-03T22:32:08.855Z"
   },
   {
    "duration": 367,
    "start_time": "2023-09-03T22:32:09.079Z"
   },
   {
    "duration": 6,
    "start_time": "2023-09-03T22:32:09.448Z"
   },
   {
    "duration": 6,
    "start_time": "2023-09-03T22:32:09.456Z"
   },
   {
    "duration": 4,
    "start_time": "2023-09-03T22:32:09.463Z"
   },
   {
    "duration": 9,
    "start_time": "2023-09-03T22:32:09.468Z"
   },
   {
    "duration": 4,
    "start_time": "2023-09-03T22:32:09.478Z"
   },
   {
    "duration": 224,
    "start_time": "2023-09-03T22:32:09.484Z"
   },
   {
    "duration": 3,
    "start_time": "2023-09-03T22:32:09.712Z"
   },
   {
    "duration": 7,
    "start_time": "2023-09-03T22:32:09.716Z"
   },
   {
    "duration": 20,
    "start_time": "2023-09-03T22:32:09.725Z"
   },
   {
    "duration": 110,
    "start_time": "2023-09-03T22:32:09.747Z"
   },
   {
    "duration": 0,
    "start_time": "2023-09-03T22:32:09.858Z"
   },
   {
    "duration": 0,
    "start_time": "2023-09-03T22:32:09.860Z"
   },
   {
    "duration": 1,
    "start_time": "2023-09-03T22:32:09.860Z"
   },
   {
    "duration": 0,
    "start_time": "2023-09-03T22:32:09.862Z"
   },
   {
    "duration": 0,
    "start_time": "2023-09-03T22:32:09.862Z"
   },
   {
    "duration": 0,
    "start_time": "2023-09-03T22:32:09.863Z"
   },
   {
    "duration": 0,
    "start_time": "2023-09-03T22:32:09.864Z"
   },
   {
    "duration": 0,
    "start_time": "2023-09-03T22:32:09.865Z"
   },
   {
    "duration": 0,
    "start_time": "2023-09-03T22:32:09.866Z"
   },
   {
    "duration": 0,
    "start_time": "2023-09-03T22:32:09.867Z"
   },
   {
    "duration": 0,
    "start_time": "2023-09-03T22:32:09.868Z"
   },
   {
    "duration": 0,
    "start_time": "2023-09-03T22:32:09.869Z"
   },
   {
    "duration": 16,
    "start_time": "2023-09-03T22:32:45.925Z"
   },
   {
    "duration": 12,
    "start_time": "2023-09-03T22:35:50.984Z"
   },
   {
    "duration": 1354,
    "start_time": "2023-09-03T22:36:06.421Z"
   },
   {
    "duration": 728,
    "start_time": "2023-09-03T22:36:07.777Z"
   },
   {
    "duration": 15,
    "start_time": "2023-09-03T22:36:08.507Z"
   },
   {
    "duration": 22,
    "start_time": "2023-09-03T22:36:08.523Z"
   },
   {
    "duration": 15,
    "start_time": "2023-09-03T22:36:08.547Z"
   },
   {
    "duration": 10,
    "start_time": "2023-09-03T22:36:08.563Z"
   },
   {
    "duration": 2,
    "start_time": "2023-09-03T22:36:08.575Z"
   },
   {
    "duration": 5,
    "start_time": "2023-09-03T22:36:08.578Z"
   },
   {
    "duration": 8,
    "start_time": "2023-09-03T22:36:08.584Z"
   },
   {
    "duration": 4,
    "start_time": "2023-09-03T22:36:08.593Z"
   },
   {
    "duration": 10,
    "start_time": "2023-09-03T22:36:08.599Z"
   },
   {
    "duration": 8,
    "start_time": "2023-09-03T22:36:08.610Z"
   },
   {
    "duration": 5,
    "start_time": "2023-09-03T22:36:08.643Z"
   },
   {
    "duration": 8,
    "start_time": "2023-09-03T22:36:08.650Z"
   },
   {
    "duration": 5,
    "start_time": "2023-09-03T22:36:08.659Z"
   },
   {
    "duration": 10,
    "start_time": "2023-09-03T22:36:08.665Z"
   },
   {
    "duration": 9,
    "start_time": "2023-09-03T22:36:08.677Z"
   },
   {
    "duration": 20,
    "start_time": "2023-09-03T22:36:08.687Z"
   },
   {
    "duration": 39,
    "start_time": "2023-09-03T22:36:08.709Z"
   },
   {
    "duration": 7,
    "start_time": "2023-09-03T22:36:08.750Z"
   },
   {
    "duration": 7,
    "start_time": "2023-09-03T22:36:08.759Z"
   },
   {
    "duration": 243,
    "start_time": "2023-09-03T22:36:08.768Z"
   },
   {
    "duration": 19,
    "start_time": "2023-09-03T22:36:09.012Z"
   },
   {
    "duration": 17,
    "start_time": "2023-09-03T22:36:09.032Z"
   },
   {
    "duration": 208,
    "start_time": "2023-09-03T22:36:09.050Z"
   },
   {
    "duration": 16,
    "start_time": "2023-09-03T22:36:09.260Z"
   },
   {
    "duration": 7,
    "start_time": "2023-09-03T22:36:09.277Z"
   },
   {
    "duration": 218,
    "start_time": "2023-09-03T22:36:09.285Z"
   },
   {
    "duration": 14,
    "start_time": "2023-09-03T22:36:09.505Z"
   },
   {
    "duration": 300,
    "start_time": "2023-09-03T22:36:09.521Z"
   },
   {
    "duration": 237,
    "start_time": "2023-09-03T22:36:09.822Z"
   },
   {
    "duration": 228,
    "start_time": "2023-09-03T22:36:10.061Z"
   },
   {
    "duration": 218,
    "start_time": "2023-09-03T22:36:10.290Z"
   },
   {
    "duration": 376,
    "start_time": "2023-09-03T22:36:10.510Z"
   },
   {
    "duration": 8,
    "start_time": "2023-09-03T22:36:10.888Z"
   },
   {
    "duration": 8,
    "start_time": "2023-09-03T22:36:10.898Z"
   },
   {
    "duration": 5,
    "start_time": "2023-09-03T22:36:10.907Z"
   },
   {
    "duration": 31,
    "start_time": "2023-09-03T22:36:10.913Z"
   },
   {
    "duration": 4,
    "start_time": "2023-09-03T22:36:10.946Z"
   },
   {
    "duration": 212,
    "start_time": "2023-09-03T22:36:10.952Z"
   },
   {
    "duration": 3,
    "start_time": "2023-09-03T22:36:11.167Z"
   },
   {
    "duration": 5,
    "start_time": "2023-09-03T22:36:11.171Z"
   },
   {
    "duration": 14,
    "start_time": "2023-09-03T22:36:11.177Z"
   },
   {
    "duration": 1088,
    "start_time": "2023-09-03T22:36:11.192Z"
   },
   {
    "duration": 0,
    "start_time": "2023-09-03T22:36:12.281Z"
   },
   {
    "duration": 1,
    "start_time": "2023-09-03T22:36:12.282Z"
   },
   {
    "duration": 0,
    "start_time": "2023-09-03T22:36:12.283Z"
   },
   {
    "duration": 0,
    "start_time": "2023-09-03T22:36:12.284Z"
   },
   {
    "duration": 0,
    "start_time": "2023-09-03T22:36:12.285Z"
   },
   {
    "duration": 0,
    "start_time": "2023-09-03T22:36:12.286Z"
   },
   {
    "duration": 0,
    "start_time": "2023-09-03T22:36:12.287Z"
   },
   {
    "duration": 0,
    "start_time": "2023-09-03T22:36:12.288Z"
   },
   {
    "duration": 0,
    "start_time": "2023-09-03T22:36:12.289Z"
   },
   {
    "duration": 0,
    "start_time": "2023-09-03T22:36:12.290Z"
   },
   {
    "duration": 0,
    "start_time": "2023-09-03T22:36:12.291Z"
   },
   {
    "duration": 0,
    "start_time": "2023-09-03T22:36:12.291Z"
   },
   {
    "duration": 1306,
    "start_time": "2023-09-03T22:40:10.694Z"
   },
   {
    "duration": 739,
    "start_time": "2023-09-03T22:40:12.002Z"
   },
   {
    "duration": 16,
    "start_time": "2023-09-03T22:40:12.744Z"
   },
   {
    "duration": 11,
    "start_time": "2023-09-03T22:40:12.762Z"
   },
   {
    "duration": 15,
    "start_time": "2023-09-03T22:40:12.774Z"
   },
   {
    "duration": 9,
    "start_time": "2023-09-03T22:40:12.790Z"
   },
   {
    "duration": 2,
    "start_time": "2023-09-03T22:40:12.801Z"
   },
   {
    "duration": 130,
    "start_time": "2023-09-03T22:40:12.804Z"
   },
   {
    "duration": 0,
    "start_time": "2023-09-03T22:40:12.936Z"
   },
   {
    "duration": 0,
    "start_time": "2023-09-03T22:40:12.938Z"
   },
   {
    "duration": 0,
    "start_time": "2023-09-03T22:40:12.944Z"
   },
   {
    "duration": 0,
    "start_time": "2023-09-03T22:40:12.945Z"
   },
   {
    "duration": 0,
    "start_time": "2023-09-03T22:40:12.947Z"
   },
   {
    "duration": 0,
    "start_time": "2023-09-03T22:40:12.948Z"
   },
   {
    "duration": 0,
    "start_time": "2023-09-03T22:40:12.949Z"
   },
   {
    "duration": 0,
    "start_time": "2023-09-03T22:40:12.951Z"
   },
   {
    "duration": 0,
    "start_time": "2023-09-03T22:40:12.952Z"
   },
   {
    "duration": 0,
    "start_time": "2023-09-03T22:40:12.953Z"
   },
   {
    "duration": 0,
    "start_time": "2023-09-03T22:40:12.955Z"
   },
   {
    "duration": 0,
    "start_time": "2023-09-03T22:40:12.956Z"
   },
   {
    "duration": 0,
    "start_time": "2023-09-03T22:40:12.957Z"
   },
   {
    "duration": 0,
    "start_time": "2023-09-03T22:40:12.958Z"
   },
   {
    "duration": 0,
    "start_time": "2023-09-03T22:40:12.959Z"
   },
   {
    "duration": 0,
    "start_time": "2023-09-03T22:40:12.959Z"
   },
   {
    "duration": 0,
    "start_time": "2023-09-03T22:40:12.961Z"
   },
   {
    "duration": 0,
    "start_time": "2023-09-03T22:40:12.961Z"
   },
   {
    "duration": 0,
    "start_time": "2023-09-03T22:40:12.962Z"
   },
   {
    "duration": 0,
    "start_time": "2023-09-03T22:40:12.963Z"
   },
   {
    "duration": 0,
    "start_time": "2023-09-03T22:40:12.964Z"
   },
   {
    "duration": 0,
    "start_time": "2023-09-03T22:40:12.965Z"
   },
   {
    "duration": 0,
    "start_time": "2023-09-03T22:40:12.966Z"
   },
   {
    "duration": 0,
    "start_time": "2023-09-03T22:40:12.967Z"
   },
   {
    "duration": 0,
    "start_time": "2023-09-03T22:40:12.968Z"
   },
   {
    "duration": 0,
    "start_time": "2023-09-03T22:40:12.969Z"
   },
   {
    "duration": 0,
    "start_time": "2023-09-03T22:40:12.970Z"
   },
   {
    "duration": 0,
    "start_time": "2023-09-03T22:40:12.970Z"
   },
   {
    "duration": 0,
    "start_time": "2023-09-03T22:40:12.971Z"
   },
   {
    "duration": 0,
    "start_time": "2023-09-03T22:40:12.972Z"
   },
   {
    "duration": 0,
    "start_time": "2023-09-03T22:40:12.973Z"
   },
   {
    "duration": 0,
    "start_time": "2023-09-03T22:40:12.974Z"
   },
   {
    "duration": 0,
    "start_time": "2023-09-03T22:40:12.975Z"
   },
   {
    "duration": 0,
    "start_time": "2023-09-03T22:40:12.976Z"
   },
   {
    "duration": 0,
    "start_time": "2023-09-03T22:40:12.977Z"
   },
   {
    "duration": 0,
    "start_time": "2023-09-03T22:40:12.978Z"
   },
   {
    "duration": 0,
    "start_time": "2023-09-03T22:40:12.978Z"
   },
   {
    "duration": 0,
    "start_time": "2023-09-03T22:40:12.979Z"
   },
   {
    "duration": 0,
    "start_time": "2023-09-03T22:40:12.980Z"
   },
   {
    "duration": 0,
    "start_time": "2023-09-03T22:40:12.982Z"
   },
   {
    "duration": 0,
    "start_time": "2023-09-03T22:40:12.982Z"
   },
   {
    "duration": 0,
    "start_time": "2023-09-03T22:40:12.983Z"
   },
   {
    "duration": 0,
    "start_time": "2023-09-03T22:40:12.984Z"
   },
   {
    "duration": 0,
    "start_time": "2023-09-03T22:40:13.044Z"
   },
   {
    "duration": 0,
    "start_time": "2023-09-03T22:40:13.045Z"
   },
   {
    "duration": 0,
    "start_time": "2023-09-03T22:40:13.046Z"
   },
   {
    "duration": 0,
    "start_time": "2023-09-03T22:40:13.047Z"
   },
   {
    "duration": 0,
    "start_time": "2023-09-03T22:40:13.048Z"
   },
   {
    "duration": 3,
    "start_time": "2023-09-03T22:40:45.092Z"
   },
   {
    "duration": 13,
    "start_time": "2023-09-03T22:40:45.101Z"
   },
   {
    "duration": 6,
    "start_time": "2023-09-03T22:40:45.116Z"
   },
   {
    "duration": 8,
    "start_time": "2023-09-03T22:40:45.123Z"
   },
   {
    "duration": 22,
    "start_time": "2023-09-03T22:40:45.133Z"
   },
   {
    "duration": 15,
    "start_time": "2023-09-03T22:40:45.157Z"
   },
   {
    "duration": 19,
    "start_time": "2023-09-03T22:40:45.173Z"
   },
   {
    "duration": 6,
    "start_time": "2023-09-03T22:40:45.193Z"
   },
   {
    "duration": 11,
    "start_time": "2023-09-03T22:40:45.201Z"
   },
   {
    "duration": 10,
    "start_time": "2023-09-03T22:40:45.213Z"
   },
   {
    "duration": 32,
    "start_time": "2023-09-03T22:40:45.224Z"
   },
   {
    "duration": 8,
    "start_time": "2023-09-03T22:40:45.257Z"
   },
   {
    "duration": 11,
    "start_time": "2023-09-03T22:40:45.267Z"
   },
   {
    "duration": 10,
    "start_time": "2023-09-03T22:40:45.279Z"
   },
   {
    "duration": 251,
    "start_time": "2023-09-03T22:40:45.291Z"
   },
   {
    "duration": 18,
    "start_time": "2023-09-03T22:40:45.545Z"
   },
   {
    "duration": 7,
    "start_time": "2023-09-03T22:40:45.565Z"
   },
   {
    "duration": 245,
    "start_time": "2023-09-03T22:40:45.573Z"
   },
   {
    "duration": 26,
    "start_time": "2023-09-03T22:40:45.819Z"
   },
   {
    "duration": 7,
    "start_time": "2023-09-03T22:40:45.847Z"
   },
   {
    "duration": 214,
    "start_time": "2023-09-03T22:40:45.855Z"
   },
   {
    "duration": 17,
    "start_time": "2023-09-03T22:40:46.070Z"
   },
   {
    "duration": 312,
    "start_time": "2023-09-03T22:40:46.089Z"
   },
   {
    "duration": 234,
    "start_time": "2023-09-03T22:40:46.403Z"
   },
   {
    "duration": 216,
    "start_time": "2023-09-03T22:40:46.644Z"
   },
   {
    "duration": 221,
    "start_time": "2023-09-03T22:40:46.862Z"
   },
   {
    "duration": 375,
    "start_time": "2023-09-03T22:40:47.085Z"
   },
   {
    "duration": 7,
    "start_time": "2023-09-03T22:40:47.461Z"
   },
   {
    "duration": 7,
    "start_time": "2023-09-03T22:40:47.469Z"
   },
   {
    "duration": 5,
    "start_time": "2023-09-03T22:40:47.477Z"
   },
   {
    "duration": 19,
    "start_time": "2023-09-03T22:40:47.483Z"
   },
   {
    "duration": 22,
    "start_time": "2023-09-03T22:40:47.503Z"
   },
   {
    "duration": 215,
    "start_time": "2023-09-03T22:40:47.526Z"
   },
   {
    "duration": 4,
    "start_time": "2023-09-03T22:40:47.742Z"
   },
   {
    "duration": 6,
    "start_time": "2023-09-03T22:40:47.747Z"
   },
   {
    "duration": 12,
    "start_time": "2023-09-03T22:40:47.755Z"
   },
   {
    "duration": 1087,
    "start_time": "2023-09-03T22:40:47.769Z"
   },
   {
    "duration": 0,
    "start_time": "2023-09-03T22:40:48.858Z"
   },
   {
    "duration": 0,
    "start_time": "2023-09-03T22:40:48.859Z"
   },
   {
    "duration": 0,
    "start_time": "2023-09-03T22:40:48.861Z"
   },
   {
    "duration": 0,
    "start_time": "2023-09-03T22:40:48.862Z"
   },
   {
    "duration": 0,
    "start_time": "2023-09-03T22:40:48.863Z"
   },
   {
    "duration": 0,
    "start_time": "2023-09-03T22:40:48.864Z"
   },
   {
    "duration": 0,
    "start_time": "2023-09-03T22:40:48.866Z"
   },
   {
    "duration": 1,
    "start_time": "2023-09-03T22:40:48.866Z"
   },
   {
    "duration": 0,
    "start_time": "2023-09-03T22:40:48.867Z"
   },
   {
    "duration": 0,
    "start_time": "2023-09-03T22:40:48.868Z"
   },
   {
    "duration": 0,
    "start_time": "2023-09-03T22:40:48.869Z"
   },
   {
    "duration": 0,
    "start_time": "2023-09-03T22:40:48.870Z"
   },
   {
    "duration": 1309,
    "start_time": "2023-09-03T22:43:01.003Z"
   },
   {
    "duration": 810,
    "start_time": "2023-09-03T22:43:02.314Z"
   },
   {
    "duration": 18,
    "start_time": "2023-09-03T22:43:03.126Z"
   },
   {
    "duration": 12,
    "start_time": "2023-09-03T22:43:03.146Z"
   },
   {
    "duration": 15,
    "start_time": "2023-09-03T22:43:03.160Z"
   },
   {
    "duration": 11,
    "start_time": "2023-09-03T22:43:03.177Z"
   },
   {
    "duration": 2,
    "start_time": "2023-09-03T22:43:03.189Z"
   },
   {
    "duration": 5,
    "start_time": "2023-09-03T22:43:03.192Z"
   },
   {
    "duration": 8,
    "start_time": "2023-09-03T22:43:03.198Z"
   },
   {
    "duration": 36,
    "start_time": "2023-09-03T22:43:03.209Z"
   },
   {
    "duration": 5,
    "start_time": "2023-09-03T22:43:03.246Z"
   },
   {
    "duration": 10,
    "start_time": "2023-09-03T22:43:03.252Z"
   },
   {
    "duration": 118,
    "start_time": "2023-09-03T22:43:03.263Z"
   },
   {
    "duration": 0,
    "start_time": "2023-09-03T22:43:03.383Z"
   },
   {
    "duration": 0,
    "start_time": "2023-09-03T22:43:03.384Z"
   },
   {
    "duration": 0,
    "start_time": "2023-09-03T22:43:03.385Z"
   },
   {
    "duration": 0,
    "start_time": "2023-09-03T22:43:03.386Z"
   },
   {
    "duration": 0,
    "start_time": "2023-09-03T22:43:03.387Z"
   },
   {
    "duration": 0,
    "start_time": "2023-09-03T22:43:03.388Z"
   },
   {
    "duration": 0,
    "start_time": "2023-09-03T22:43:03.389Z"
   },
   {
    "duration": 0,
    "start_time": "2023-09-03T22:43:03.390Z"
   },
   {
    "duration": 0,
    "start_time": "2023-09-03T22:43:03.391Z"
   },
   {
    "duration": 0,
    "start_time": "2023-09-03T22:43:03.392Z"
   },
   {
    "duration": 0,
    "start_time": "2023-09-03T22:43:03.393Z"
   },
   {
    "duration": 0,
    "start_time": "2023-09-03T22:43:03.394Z"
   },
   {
    "duration": 0,
    "start_time": "2023-09-03T22:43:03.395Z"
   },
   {
    "duration": 0,
    "start_time": "2023-09-03T22:43:03.396Z"
   },
   {
    "duration": 0,
    "start_time": "2023-09-03T22:43:03.398Z"
   },
   {
    "duration": 0,
    "start_time": "2023-09-03T22:43:03.398Z"
   },
   {
    "duration": 0,
    "start_time": "2023-09-03T22:43:03.399Z"
   },
   {
    "duration": 0,
    "start_time": "2023-09-03T22:43:03.400Z"
   },
   {
    "duration": 0,
    "start_time": "2023-09-03T22:43:03.401Z"
   },
   {
    "duration": 0,
    "start_time": "2023-09-03T22:43:03.402Z"
   },
   {
    "duration": 0,
    "start_time": "2023-09-03T22:43:03.403Z"
   },
   {
    "duration": 0,
    "start_time": "2023-09-03T22:43:03.404Z"
   },
   {
    "duration": 0,
    "start_time": "2023-09-03T22:43:03.444Z"
   },
   {
    "duration": 0,
    "start_time": "2023-09-03T22:43:03.445Z"
   },
   {
    "duration": 0,
    "start_time": "2023-09-03T22:43:03.446Z"
   },
   {
    "duration": 0,
    "start_time": "2023-09-03T22:43:03.447Z"
   },
   {
    "duration": 0,
    "start_time": "2023-09-03T22:43:03.448Z"
   },
   {
    "duration": 0,
    "start_time": "2023-09-03T22:43:03.449Z"
   },
   {
    "duration": 0,
    "start_time": "2023-09-03T22:43:03.450Z"
   },
   {
    "duration": 0,
    "start_time": "2023-09-03T22:43:03.451Z"
   },
   {
    "duration": 0,
    "start_time": "2023-09-03T22:43:03.452Z"
   },
   {
    "duration": 0,
    "start_time": "2023-09-03T22:43:03.452Z"
   },
   {
    "duration": 0,
    "start_time": "2023-09-03T22:43:03.453Z"
   },
   {
    "duration": 0,
    "start_time": "2023-09-03T22:43:03.454Z"
   },
   {
    "duration": 0,
    "start_time": "2023-09-03T22:43:03.455Z"
   },
   {
    "duration": 0,
    "start_time": "2023-09-03T22:43:03.455Z"
   },
   {
    "duration": 0,
    "start_time": "2023-09-03T22:43:03.456Z"
   },
   {
    "duration": 0,
    "start_time": "2023-09-03T22:43:03.457Z"
   },
   {
    "duration": 0,
    "start_time": "2023-09-03T22:43:03.458Z"
   },
   {
    "duration": 0,
    "start_time": "2023-09-03T22:43:03.459Z"
   },
   {
    "duration": 0,
    "start_time": "2023-09-03T22:43:03.460Z"
   },
   {
    "duration": 0,
    "start_time": "2023-09-03T22:43:03.461Z"
   },
   {
    "duration": 0,
    "start_time": "2023-09-03T22:43:03.462Z"
   },
   {
    "duration": 1312,
    "start_time": "2023-09-03T22:43:56.901Z"
   },
   {
    "duration": 732,
    "start_time": "2023-09-03T22:43:58.215Z"
   },
   {
    "duration": 16,
    "start_time": "2023-09-03T22:43:58.949Z"
   },
   {
    "duration": 11,
    "start_time": "2023-09-03T22:43:58.967Z"
   },
   {
    "duration": 14,
    "start_time": "2023-09-03T22:43:58.980Z"
   },
   {
    "duration": 10,
    "start_time": "2023-09-03T22:43:58.995Z"
   },
   {
    "duration": 2,
    "start_time": "2023-09-03T22:43:59.006Z"
   },
   {
    "duration": 3,
    "start_time": "2023-09-03T22:43:59.043Z"
   },
   {
    "duration": 5,
    "start_time": "2023-09-03T22:43:59.048Z"
   },
   {
    "duration": 4,
    "start_time": "2023-09-03T22:43:59.055Z"
   },
   {
    "duration": 5,
    "start_time": "2023-09-03T22:43:59.060Z"
   },
   {
    "duration": 9,
    "start_time": "2023-09-03T22:43:59.066Z"
   },
   {
    "duration": 4,
    "start_time": "2023-09-03T22:43:59.076Z"
   },
   {
    "duration": 8,
    "start_time": "2023-09-03T22:43:59.081Z"
   },
   {
    "duration": 5,
    "start_time": "2023-09-03T22:43:59.090Z"
   },
   {
    "duration": 8,
    "start_time": "2023-09-03T22:43:59.097Z"
   },
   {
    "duration": 38,
    "start_time": "2023-09-03T22:43:59.107Z"
   },
   {
    "duration": 18,
    "start_time": "2023-09-03T22:43:59.146Z"
   },
   {
    "duration": 8,
    "start_time": "2023-09-03T22:43:59.166Z"
   },
   {
    "duration": 7,
    "start_time": "2023-09-03T22:43:59.175Z"
   },
   {
    "duration": 7,
    "start_time": "2023-09-03T22:43:59.183Z"
   },
   {
    "duration": 254,
    "start_time": "2023-09-03T22:43:59.192Z"
   },
   {
    "duration": 19,
    "start_time": "2023-09-03T22:43:59.447Z"
   },
   {
    "duration": 7,
    "start_time": "2023-09-03T22:43:59.467Z"
   },
   {
    "duration": 217,
    "start_time": "2023-09-03T22:43:59.475Z"
   },
   {
    "duration": 17,
    "start_time": "2023-09-03T22:43:59.694Z"
   },
   {
    "duration": 7,
    "start_time": "2023-09-03T22:43:59.712Z"
   },
   {
    "duration": 242,
    "start_time": "2023-09-03T22:43:59.722Z"
   },
   {
    "duration": 17,
    "start_time": "2023-09-03T22:43:59.966Z"
   },
   {
    "duration": 301,
    "start_time": "2023-09-03T22:43:59.985Z"
   },
   {
    "duration": 221,
    "start_time": "2023-09-03T22:44:00.288Z"
   },
   {
    "duration": 224,
    "start_time": "2023-09-03T22:44:00.511Z"
   },
   {
    "duration": 229,
    "start_time": "2023-09-03T22:44:00.737Z"
   },
   {
    "duration": 377,
    "start_time": "2023-09-03T22:44:00.967Z"
   },
   {
    "duration": 7,
    "start_time": "2023-09-03T22:44:01.346Z"
   },
   {
    "duration": 39,
    "start_time": "2023-09-03T22:44:01.354Z"
   },
   {
    "duration": 25,
    "start_time": "2023-09-03T22:44:01.395Z"
   },
   {
    "duration": 45,
    "start_time": "2023-09-03T22:44:01.422Z"
   },
   {
    "duration": 35,
    "start_time": "2023-09-03T22:44:01.468Z"
   },
   {
    "duration": 224,
    "start_time": "2023-09-03T22:44:01.505Z"
   },
   {
    "duration": 15,
    "start_time": "2023-09-03T22:44:01.730Z"
   },
   {
    "duration": 17,
    "start_time": "2023-09-03T22:44:01.747Z"
   },
   {
    "duration": 19,
    "start_time": "2023-09-03T22:44:01.766Z"
   },
   {
    "duration": 1188,
    "start_time": "2023-09-03T22:44:01.787Z"
   },
   {
    "duration": 0,
    "start_time": "2023-09-03T22:44:02.977Z"
   },
   {
    "duration": 0,
    "start_time": "2023-09-03T22:44:02.979Z"
   },
   {
    "duration": 0,
    "start_time": "2023-09-03T22:44:02.980Z"
   },
   {
    "duration": 0,
    "start_time": "2023-09-03T22:44:02.981Z"
   },
   {
    "duration": 0,
    "start_time": "2023-09-03T22:44:02.982Z"
   },
   {
    "duration": 0,
    "start_time": "2023-09-03T22:44:02.983Z"
   },
   {
    "duration": 0,
    "start_time": "2023-09-03T22:44:02.984Z"
   },
   {
    "duration": 0,
    "start_time": "2023-09-03T22:44:02.986Z"
   },
   {
    "duration": 0,
    "start_time": "2023-09-03T22:44:02.987Z"
   },
   {
    "duration": 0,
    "start_time": "2023-09-03T22:44:02.988Z"
   },
   {
    "duration": 0,
    "start_time": "2023-09-03T22:44:02.989Z"
   },
   {
    "duration": 0,
    "start_time": "2023-09-03T22:44:02.991Z"
   },
   {
    "duration": 1370,
    "start_time": "2023-09-03T22:49:11.358Z"
   },
   {
    "duration": 810,
    "start_time": "2023-09-03T22:49:12.730Z"
   },
   {
    "duration": 20,
    "start_time": "2023-09-03T22:49:13.543Z"
   },
   {
    "duration": 13,
    "start_time": "2023-09-03T22:49:13.564Z"
   },
   {
    "duration": 14,
    "start_time": "2023-09-03T22:49:13.579Z"
   },
   {
    "duration": 11,
    "start_time": "2023-09-03T22:49:13.594Z"
   },
   {
    "duration": 2,
    "start_time": "2023-09-03T22:49:13.606Z"
   },
   {
    "duration": 7,
    "start_time": "2023-09-03T22:49:13.609Z"
   },
   {
    "duration": 34,
    "start_time": "2023-09-03T22:49:13.617Z"
   },
   {
    "duration": 9,
    "start_time": "2023-09-03T22:49:13.654Z"
   },
   {
    "duration": 6,
    "start_time": "2023-09-03T22:49:13.665Z"
   },
   {
    "duration": 10,
    "start_time": "2023-09-03T22:49:13.672Z"
   },
   {
    "duration": 4,
    "start_time": "2023-09-03T22:49:13.684Z"
   },
   {
    "duration": 9,
    "start_time": "2023-09-03T22:49:13.690Z"
   },
   {
    "duration": 7,
    "start_time": "2023-09-03T22:49:13.701Z"
   },
   {
    "duration": 12,
    "start_time": "2023-09-03T22:49:13.709Z"
   },
   {
    "duration": 29,
    "start_time": "2023-09-03T22:49:13.722Z"
   },
   {
    "duration": 22,
    "start_time": "2023-09-03T22:49:13.752Z"
   },
   {
    "duration": 8,
    "start_time": "2023-09-03T22:49:13.776Z"
   },
   {
    "duration": 7,
    "start_time": "2023-09-03T22:49:13.786Z"
   },
   {
    "duration": 8,
    "start_time": "2023-09-03T22:49:13.794Z"
   },
   {
    "duration": 282,
    "start_time": "2023-09-03T22:49:13.803Z"
   },
   {
    "duration": 25,
    "start_time": "2023-09-03T22:49:14.088Z"
   },
   {
    "duration": 9,
    "start_time": "2023-09-03T22:49:14.115Z"
   },
   {
    "duration": 247,
    "start_time": "2023-09-03T22:49:14.126Z"
   },
   {
    "duration": 16,
    "start_time": "2023-09-03T22:49:14.375Z"
   },
   {
    "duration": 7,
    "start_time": "2023-09-03T22:49:14.393Z"
   },
   {
    "duration": 229,
    "start_time": "2023-09-03T22:49:14.401Z"
   },
   {
    "duration": 31,
    "start_time": "2023-09-03T22:49:14.631Z"
   },
   {
    "duration": 296,
    "start_time": "2023-09-03T22:49:14.663Z"
   },
   {
    "duration": 238,
    "start_time": "2023-09-03T22:49:14.960Z"
   },
   {
    "duration": 226,
    "start_time": "2023-09-03T22:49:15.200Z"
   },
   {
    "duration": 236,
    "start_time": "2023-09-03T22:49:15.427Z"
   },
   {
    "duration": 394,
    "start_time": "2023-09-03T22:49:15.665Z"
   },
   {
    "duration": 7,
    "start_time": "2023-09-03T22:49:16.060Z"
   },
   {
    "duration": 7,
    "start_time": "2023-09-03T22:49:16.068Z"
   },
   {
    "duration": 4,
    "start_time": "2023-09-03T22:49:16.076Z"
   },
   {
    "duration": 4,
    "start_time": "2023-09-03T22:49:16.081Z"
   },
   {
    "duration": 8,
    "start_time": "2023-09-03T22:49:16.086Z"
   },
   {
    "duration": 228,
    "start_time": "2023-09-03T22:49:16.095Z"
   },
   {
    "duration": 3,
    "start_time": "2023-09-03T22:49:16.328Z"
   },
   {
    "duration": 26,
    "start_time": "2023-09-03T22:49:16.333Z"
   },
   {
    "duration": 31,
    "start_time": "2023-09-03T22:49:16.360Z"
   },
   {
    "duration": 6,
    "start_time": "2023-09-03T22:49:16.392Z"
   },
   {
    "duration": 107,
    "start_time": "2023-09-03T22:49:16.400Z"
   },
   {
    "duration": 0,
    "start_time": "2023-09-03T22:49:16.508Z"
   },
   {
    "duration": 0,
    "start_time": "2023-09-03T22:49:16.510Z"
   },
   {
    "duration": 0,
    "start_time": "2023-09-03T22:49:16.511Z"
   },
   {
    "duration": 0,
    "start_time": "2023-09-03T22:49:16.512Z"
   },
   {
    "duration": 0,
    "start_time": "2023-09-03T22:49:16.514Z"
   },
   {
    "duration": 0,
    "start_time": "2023-09-03T22:49:16.515Z"
   },
   {
    "duration": 0,
    "start_time": "2023-09-03T22:49:16.516Z"
   },
   {
    "duration": 0,
    "start_time": "2023-09-03T22:49:16.518Z"
   },
   {
    "duration": 0,
    "start_time": "2023-09-03T22:49:16.519Z"
   },
   {
    "duration": 0,
    "start_time": "2023-09-03T22:49:16.520Z"
   },
   {
    "duration": 0,
    "start_time": "2023-09-03T22:49:16.521Z"
   },
   {
    "duration": 15,
    "start_time": "2023-09-03T22:49:44.914Z"
   },
   {
    "duration": 12,
    "start_time": "2023-09-03T22:49:57.458Z"
   },
   {
    "duration": 11,
    "start_time": "2023-09-03T22:50:07.865Z"
   },
   {
    "duration": 1356,
    "start_time": "2023-09-03T22:50:15.855Z"
   },
   {
    "duration": 802,
    "start_time": "2023-09-03T22:50:17.212Z"
   },
   {
    "duration": 15,
    "start_time": "2023-09-03T22:50:18.016Z"
   },
   {
    "duration": 28,
    "start_time": "2023-09-03T22:50:18.033Z"
   },
   {
    "duration": 13,
    "start_time": "2023-09-03T22:50:18.063Z"
   },
   {
    "duration": 25,
    "start_time": "2023-09-03T22:50:18.077Z"
   },
   {
    "duration": 2,
    "start_time": "2023-09-03T22:50:18.104Z"
   },
   {
    "duration": 7,
    "start_time": "2023-09-03T22:50:18.108Z"
   },
   {
    "duration": 4,
    "start_time": "2023-09-03T22:50:18.116Z"
   },
   {
    "duration": 5,
    "start_time": "2023-09-03T22:50:18.122Z"
   },
   {
    "duration": 6,
    "start_time": "2023-09-03T22:50:18.128Z"
   },
   {
    "duration": 14,
    "start_time": "2023-09-03T22:50:18.135Z"
   },
   {
    "duration": 10,
    "start_time": "2023-09-03T22:50:18.150Z"
   },
   {
    "duration": 7,
    "start_time": "2023-09-03T22:50:18.162Z"
   },
   {
    "duration": 6,
    "start_time": "2023-09-03T22:50:18.170Z"
   },
   {
    "duration": 12,
    "start_time": "2023-09-03T22:50:18.177Z"
   },
   {
    "duration": 9,
    "start_time": "2023-09-03T22:50:18.191Z"
   },
   {
    "duration": 37,
    "start_time": "2023-09-03T22:50:18.201Z"
   },
   {
    "duration": 24,
    "start_time": "2023-09-03T22:50:18.239Z"
   },
   {
    "duration": 7,
    "start_time": "2023-09-03T22:50:18.264Z"
   },
   {
    "duration": 7,
    "start_time": "2023-09-03T22:50:18.273Z"
   },
   {
    "duration": 246,
    "start_time": "2023-09-03T22:50:18.281Z"
   },
   {
    "duration": 29,
    "start_time": "2023-09-03T22:50:18.529Z"
   },
   {
    "duration": 8,
    "start_time": "2023-09-03T22:50:18.559Z"
   },
   {
    "duration": 228,
    "start_time": "2023-09-03T22:50:18.568Z"
   },
   {
    "duration": 18,
    "start_time": "2023-09-03T22:50:18.798Z"
   },
   {
    "duration": 7,
    "start_time": "2023-09-03T22:50:18.818Z"
   },
   {
    "duration": 241,
    "start_time": "2023-09-03T22:50:18.827Z"
   },
   {
    "duration": 17,
    "start_time": "2023-09-03T22:50:19.069Z"
   },
   {
    "duration": 314,
    "start_time": "2023-09-03T22:50:19.087Z"
   },
   {
    "duration": 240,
    "start_time": "2023-09-03T22:50:19.403Z"
   },
   {
    "duration": 217,
    "start_time": "2023-09-03T22:50:19.651Z"
   },
   {
    "duration": 230,
    "start_time": "2023-09-03T22:50:19.870Z"
   },
   {
    "duration": 389,
    "start_time": "2023-09-03T22:50:20.102Z"
   },
   {
    "duration": 7,
    "start_time": "2023-09-03T22:50:20.493Z"
   },
   {
    "duration": 22,
    "start_time": "2023-09-03T22:50:20.501Z"
   },
   {
    "duration": 4,
    "start_time": "2023-09-03T22:50:20.525Z"
   },
   {
    "duration": 7,
    "start_time": "2023-09-03T22:50:20.530Z"
   },
   {
    "duration": 17,
    "start_time": "2023-09-03T22:50:20.538Z"
   },
   {
    "duration": 213,
    "start_time": "2023-09-03T22:50:20.558Z"
   },
   {
    "duration": 2,
    "start_time": "2023-09-03T22:50:20.774Z"
   },
   {
    "duration": 20,
    "start_time": "2023-09-03T22:50:20.778Z"
   },
   {
    "duration": 33,
    "start_time": "2023-09-03T22:50:20.799Z"
   },
   {
    "duration": 111,
    "start_time": "2023-09-03T22:50:20.833Z"
   },
   {
    "duration": 0,
    "start_time": "2023-09-03T22:50:20.953Z"
   },
   {
    "duration": 0,
    "start_time": "2023-09-03T22:50:20.953Z"
   },
   {
    "duration": 0,
    "start_time": "2023-09-03T22:50:20.954Z"
   },
   {
    "duration": 0,
    "start_time": "2023-09-03T22:50:20.955Z"
   },
   {
    "duration": 0,
    "start_time": "2023-09-03T22:50:20.955Z"
   },
   {
    "duration": 0,
    "start_time": "2023-09-03T22:50:20.956Z"
   },
   {
    "duration": 0,
    "start_time": "2023-09-03T22:50:20.956Z"
   },
   {
    "duration": 0,
    "start_time": "2023-09-03T22:50:20.958Z"
   },
   {
    "duration": 0,
    "start_time": "2023-09-03T22:50:20.959Z"
   },
   {
    "duration": 0,
    "start_time": "2023-09-03T22:50:20.960Z"
   },
   {
    "duration": 0,
    "start_time": "2023-09-03T22:50:20.961Z"
   },
   {
    "duration": 0,
    "start_time": "2023-09-03T22:50:20.962Z"
   },
   {
    "duration": 14,
    "start_time": "2023-09-03T22:51:30.204Z"
   },
   {
    "duration": 11,
    "start_time": "2023-09-03T23:03:09.881Z"
   },
   {
    "duration": 12,
    "start_time": "2023-09-03T23:03:53.492Z"
   },
   {
    "duration": 12,
    "start_time": "2023-09-03T23:04:07.463Z"
   },
   {
    "duration": 11,
    "start_time": "2023-09-03T23:04:48.792Z"
   },
   {
    "duration": 3,
    "start_time": "2023-09-03T23:05:08.822Z"
   },
   {
    "duration": 1324,
    "start_time": "2023-09-03T23:05:25.504Z"
   },
   {
    "duration": 772,
    "start_time": "2023-09-03T23:05:26.830Z"
   },
   {
    "duration": 16,
    "start_time": "2023-09-03T23:05:27.603Z"
   },
   {
    "duration": 24,
    "start_time": "2023-09-03T23:05:27.622Z"
   },
   {
    "duration": 15,
    "start_time": "2023-09-03T23:05:27.647Z"
   },
   {
    "duration": 11,
    "start_time": "2023-09-03T23:05:27.664Z"
   },
   {
    "duration": 2,
    "start_time": "2023-09-03T23:05:27.676Z"
   },
   {
    "duration": 5,
    "start_time": "2023-09-03T23:05:27.680Z"
   },
   {
    "duration": 7,
    "start_time": "2023-09-03T23:05:27.686Z"
   },
   {
    "duration": 8,
    "start_time": "2023-09-03T23:05:27.696Z"
   },
   {
    "duration": 17,
    "start_time": "2023-09-03T23:05:27.706Z"
   },
   {
    "duration": 19,
    "start_time": "2023-09-03T23:05:27.725Z"
   },
   {
    "duration": 5,
    "start_time": "2023-09-03T23:05:27.745Z"
   },
   {
    "duration": 7,
    "start_time": "2023-09-03T23:05:27.751Z"
   },
   {
    "duration": 22,
    "start_time": "2023-09-03T23:05:27.759Z"
   },
   {
    "duration": 13,
    "start_time": "2023-09-03T23:05:27.782Z"
   },
   {
    "duration": 10,
    "start_time": "2023-09-03T23:05:27.797Z"
   },
   {
    "duration": 22,
    "start_time": "2023-09-03T23:05:27.808Z"
   },
   {
    "duration": 9,
    "start_time": "2023-09-03T23:05:27.844Z"
   },
   {
    "duration": 12,
    "start_time": "2023-09-03T23:05:27.854Z"
   },
   {
    "duration": 9,
    "start_time": "2023-09-03T23:05:27.868Z"
   },
   {
    "duration": 267,
    "start_time": "2023-09-03T23:05:27.878Z"
   },
   {
    "duration": 19,
    "start_time": "2023-09-03T23:05:28.146Z"
   },
   {
    "duration": 7,
    "start_time": "2023-09-03T23:05:28.166Z"
   },
   {
    "duration": 223,
    "start_time": "2023-09-03T23:05:28.174Z"
   },
   {
    "duration": 17,
    "start_time": "2023-09-03T23:05:28.398Z"
   },
   {
    "duration": 7,
    "start_time": "2023-09-03T23:05:28.416Z"
   },
   {
    "duration": 227,
    "start_time": "2023-09-03T23:05:28.426Z"
   },
   {
    "duration": 18,
    "start_time": "2023-09-03T23:05:28.654Z"
   },
   {
    "duration": 310,
    "start_time": "2023-09-03T23:05:28.674Z"
   },
   {
    "duration": 237,
    "start_time": "2023-09-03T23:05:28.986Z"
   },
   {
    "duration": 219,
    "start_time": "2023-09-03T23:05:29.225Z"
   },
   {
    "duration": 219,
    "start_time": "2023-09-03T23:05:29.445Z"
   },
   {
    "duration": 376,
    "start_time": "2023-09-03T23:05:29.665Z"
   },
   {
    "duration": 7,
    "start_time": "2023-09-03T23:05:30.043Z"
   },
   {
    "duration": 33,
    "start_time": "2023-09-03T23:05:30.051Z"
   },
   {
    "duration": 72,
    "start_time": "2023-09-03T23:05:30.086Z"
   },
   {
    "duration": 45,
    "start_time": "2023-09-03T23:05:30.159Z"
   },
   {
    "duration": 28,
    "start_time": "2023-09-03T23:05:30.206Z"
   },
   {
    "duration": 245,
    "start_time": "2023-09-03T23:05:30.236Z"
   },
   {
    "duration": 3,
    "start_time": "2023-09-03T23:05:30.483Z"
   },
   {
    "duration": 36,
    "start_time": "2023-09-03T23:05:30.487Z"
   },
   {
    "duration": 42,
    "start_time": "2023-09-03T23:05:30.525Z"
   },
   {
    "duration": 18,
    "start_time": "2023-09-03T23:05:30.568Z"
   },
   {
    "duration": 120,
    "start_time": "2023-09-03T23:05:30.588Z"
   },
   {
    "duration": 0,
    "start_time": "2023-09-03T23:05:30.710Z"
   },
   {
    "duration": 0,
    "start_time": "2023-09-03T23:05:30.711Z"
   },
   {
    "duration": 0,
    "start_time": "2023-09-03T23:05:30.713Z"
   },
   {
    "duration": 0,
    "start_time": "2023-09-03T23:05:30.714Z"
   },
   {
    "duration": 0,
    "start_time": "2023-09-03T23:05:30.715Z"
   },
   {
    "duration": 0,
    "start_time": "2023-09-03T23:05:30.717Z"
   },
   {
    "duration": 0,
    "start_time": "2023-09-03T23:05:30.718Z"
   },
   {
    "duration": 0,
    "start_time": "2023-09-03T23:05:30.719Z"
   },
   {
    "duration": 0,
    "start_time": "2023-09-03T23:05:30.720Z"
   },
   {
    "duration": 0,
    "start_time": "2023-09-03T23:05:30.721Z"
   },
   {
    "duration": 0,
    "start_time": "2023-09-03T23:05:30.723Z"
   },
   {
    "duration": 0,
    "start_time": "2023-09-03T23:05:30.745Z"
   },
   {
    "duration": 8,
    "start_time": "2023-09-03T23:07:36.524Z"
   },
   {
    "duration": 11,
    "start_time": "2023-09-03T23:07:42.326Z"
   },
   {
    "duration": 12,
    "start_time": "2023-09-03T23:08:12.064Z"
   },
   {
    "duration": 12,
    "start_time": "2023-09-03T23:10:15.135Z"
   },
   {
    "duration": 1455,
    "start_time": "2023-09-03T23:12:03.258Z"
   },
   {
    "duration": 771,
    "start_time": "2023-09-03T23:12:04.715Z"
   },
   {
    "duration": 15,
    "start_time": "2023-09-03T23:12:05.488Z"
   },
   {
    "duration": 11,
    "start_time": "2023-09-03T23:12:05.504Z"
   },
   {
    "duration": 35,
    "start_time": "2023-09-03T23:12:05.517Z"
   },
   {
    "duration": 15,
    "start_time": "2023-09-03T23:12:05.554Z"
   },
   {
    "duration": 2,
    "start_time": "2023-09-03T23:12:05.571Z"
   },
   {
    "duration": 5,
    "start_time": "2023-09-03T23:12:05.575Z"
   },
   {
    "duration": 4,
    "start_time": "2023-09-03T23:12:05.582Z"
   },
   {
    "duration": 8,
    "start_time": "2023-09-03T23:12:05.587Z"
   },
   {
    "duration": 14,
    "start_time": "2023-09-03T23:12:05.596Z"
   },
   {
    "duration": 9,
    "start_time": "2023-09-03T23:12:05.612Z"
   },
   {
    "duration": 22,
    "start_time": "2023-09-03T23:12:05.623Z"
   },
   {
    "duration": 6,
    "start_time": "2023-09-03T23:12:05.649Z"
   },
   {
    "duration": 8,
    "start_time": "2023-09-03T23:12:05.656Z"
   },
   {
    "duration": 14,
    "start_time": "2023-09-03T23:12:05.666Z"
   },
   {
    "duration": 13,
    "start_time": "2023-09-03T23:12:05.682Z"
   },
   {
    "duration": 55,
    "start_time": "2023-09-03T23:12:05.696Z"
   },
   {
    "duration": 11,
    "start_time": "2023-09-03T23:12:05.753Z"
   },
   {
    "duration": 8,
    "start_time": "2023-09-03T23:12:05.766Z"
   },
   {
    "duration": 7,
    "start_time": "2023-09-03T23:12:05.776Z"
   },
   {
    "duration": 258,
    "start_time": "2023-09-03T23:12:05.785Z"
   },
   {
    "duration": 20,
    "start_time": "2023-09-03T23:12:06.044Z"
   },
   {
    "duration": 7,
    "start_time": "2023-09-03T23:12:06.066Z"
   },
   {
    "duration": 236,
    "start_time": "2023-09-03T23:12:06.074Z"
   },
   {
    "duration": 19,
    "start_time": "2023-09-03T23:12:06.312Z"
   },
   {
    "duration": 18,
    "start_time": "2023-09-03T23:12:06.344Z"
   },
   {
    "duration": 210,
    "start_time": "2023-09-03T23:12:06.364Z"
   },
   {
    "duration": 19,
    "start_time": "2023-09-03T23:12:06.575Z"
   },
   {
    "duration": 312,
    "start_time": "2023-09-03T23:12:06.595Z"
   },
   {
    "duration": 236,
    "start_time": "2023-09-03T23:12:06.909Z"
   },
   {
    "duration": 224,
    "start_time": "2023-09-03T23:12:07.147Z"
   },
   {
    "duration": 217,
    "start_time": "2023-09-03T23:12:07.373Z"
   },
   {
    "duration": 376,
    "start_time": "2023-09-03T23:12:07.591Z"
   },
   {
    "duration": 7,
    "start_time": "2023-09-03T23:12:07.969Z"
   },
   {
    "duration": 6,
    "start_time": "2023-09-03T23:12:07.978Z"
   },
   {
    "duration": 16,
    "start_time": "2023-09-03T23:12:07.986Z"
   },
   {
    "duration": 8,
    "start_time": "2023-09-03T23:12:08.003Z"
   },
   {
    "duration": 10,
    "start_time": "2023-09-03T23:12:08.012Z"
   },
   {
    "duration": 218,
    "start_time": "2023-09-03T23:12:08.023Z"
   },
   {
    "duration": 3,
    "start_time": "2023-09-03T23:12:08.246Z"
   },
   {
    "duration": 6,
    "start_time": "2023-09-03T23:12:08.250Z"
   },
   {
    "duration": 13,
    "start_time": "2023-09-03T23:12:08.257Z"
   },
   {
    "duration": 8,
    "start_time": "2023-09-03T23:12:08.271Z"
   },
   {
    "duration": 121,
    "start_time": "2023-09-03T23:12:08.281Z"
   },
   {
    "duration": 0,
    "start_time": "2023-09-03T23:12:08.404Z"
   },
   {
    "duration": 0,
    "start_time": "2023-09-03T23:12:08.405Z"
   },
   {
    "duration": 0,
    "start_time": "2023-09-03T23:12:08.406Z"
   },
   {
    "duration": 0,
    "start_time": "2023-09-03T23:12:08.407Z"
   },
   {
    "duration": 0,
    "start_time": "2023-09-03T23:12:08.407Z"
   },
   {
    "duration": 0,
    "start_time": "2023-09-03T23:12:08.408Z"
   },
   {
    "duration": 0,
    "start_time": "2023-09-03T23:12:08.409Z"
   },
   {
    "duration": 0,
    "start_time": "2023-09-03T23:12:08.410Z"
   },
   {
    "duration": 0,
    "start_time": "2023-09-03T23:12:08.411Z"
   },
   {
    "duration": 0,
    "start_time": "2023-09-03T23:12:08.412Z"
   },
   {
    "duration": 0,
    "start_time": "2023-09-03T23:12:08.412Z"
   },
   {
    "duration": 0,
    "start_time": "2023-09-03T23:12:08.413Z"
   },
   {
    "duration": 3,
    "start_time": "2023-09-03T23:12:34.665Z"
   },
   {
    "duration": 12,
    "start_time": "2023-09-03T23:12:40.209Z"
   },
   {
    "duration": 4,
    "start_time": "2023-09-03T23:12:54.785Z"
   },
   {
    "duration": 723,
    "start_time": "2023-09-03T23:12:57.426Z"
   },
   {
    "duration": 3,
    "start_time": "2023-09-03T23:13:03.933Z"
   },
   {
    "duration": 3,
    "start_time": "2023-09-03T23:13:04.575Z"
   },
   {
    "duration": 3,
    "start_time": "2023-09-03T23:13:05.375Z"
   },
   {
    "duration": 3,
    "start_time": "2023-09-03T23:13:06.146Z"
   },
   {
    "duration": 27,
    "start_time": "2023-09-03T23:13:07.025Z"
   },
   {
    "duration": 149699,
    "start_time": "2023-09-03T23:14:14.416Z"
   },
   {
    "duration": 7,
    "start_time": "2023-09-03T23:16:44.117Z"
   },
   {
    "duration": 3,
    "start_time": "2023-09-03T23:18:03.508Z"
   },
   {
    "duration": 9,
    "start_time": "2023-09-03T23:18:21.566Z"
   },
   {
    "duration": 3,
    "start_time": "2023-09-03T23:25:00.702Z"
   },
   {
    "duration": 148996,
    "start_time": "2023-09-03T23:25:01.462Z"
   },
   {
    "duration": 10,
    "start_time": "2023-09-03T23:27:30.461Z"
   },
   {
    "duration": 0,
    "start_time": "2023-09-03T23:27:30.472Z"
   },
   {
    "duration": 3,
    "start_time": "2023-09-03T23:31:38.985Z"
   },
   {
    "duration": 148699,
    "start_time": "2023-09-03T23:31:39.658Z"
   },
   {
    "duration": 7,
    "start_time": "2023-09-03T23:34:08.359Z"
   },
   {
    "duration": 1074,
    "start_time": "2023-09-03T23:42:35.887Z"
   },
   {
    "duration": 1146,
    "start_time": "2023-09-03T23:42:47.906Z"
   },
   {
    "duration": 1327,
    "start_time": "2023-09-03T23:43:07.707Z"
   },
   {
    "duration": 795,
    "start_time": "2023-09-03T23:43:09.036Z"
   },
   {
    "duration": 24,
    "start_time": "2023-09-03T23:43:09.833Z"
   },
   {
    "duration": 10,
    "start_time": "2023-09-03T23:43:09.859Z"
   },
   {
    "duration": 14,
    "start_time": "2023-09-03T23:43:09.870Z"
   },
   {
    "duration": 10,
    "start_time": "2023-09-03T23:43:09.885Z"
   },
   {
    "duration": 2,
    "start_time": "2023-09-03T23:43:09.896Z"
   },
   {
    "duration": 7,
    "start_time": "2023-09-03T23:43:09.899Z"
   },
   {
    "duration": 5,
    "start_time": "2023-09-03T23:43:09.907Z"
   },
   {
    "duration": 3,
    "start_time": "2023-09-03T23:43:09.914Z"
   },
   {
    "duration": 34,
    "start_time": "2023-09-03T23:43:09.918Z"
   },
   {
    "duration": 8,
    "start_time": "2023-09-03T23:43:09.956Z"
   },
   {
    "duration": 5,
    "start_time": "2023-09-03T23:43:09.965Z"
   },
   {
    "duration": 6,
    "start_time": "2023-09-03T23:43:09.972Z"
   },
   {
    "duration": 8,
    "start_time": "2023-09-03T23:43:09.980Z"
   },
   {
    "duration": 10,
    "start_time": "2023-09-03T23:43:09.989Z"
   },
   {
    "duration": 10,
    "start_time": "2023-09-03T23:43:10.000Z"
   },
   {
    "duration": 47,
    "start_time": "2023-09-03T23:43:10.011Z"
   },
   {
    "duration": 8,
    "start_time": "2023-09-03T23:43:10.060Z"
   },
   {
    "duration": 13,
    "start_time": "2023-09-03T23:43:10.069Z"
   },
   {
    "duration": 34,
    "start_time": "2023-09-03T23:43:10.083Z"
   },
   {
    "duration": 248,
    "start_time": "2023-09-03T23:43:10.118Z"
   },
   {
    "duration": 19,
    "start_time": "2023-09-03T23:43:10.368Z"
   },
   {
    "duration": 7,
    "start_time": "2023-09-03T23:43:10.388Z"
   },
   {
    "duration": 242,
    "start_time": "2023-09-03T23:43:10.396Z"
   },
   {
    "duration": 24,
    "start_time": "2023-09-03T23:43:10.640Z"
   },
   {
    "duration": 6,
    "start_time": "2023-09-03T23:43:10.666Z"
   },
   {
    "duration": 218,
    "start_time": "2023-09-03T23:43:10.675Z"
   },
   {
    "duration": 17,
    "start_time": "2023-09-03T23:43:10.894Z"
   },
   {
    "duration": 322,
    "start_time": "2023-09-03T23:43:10.913Z"
   },
   {
    "duration": 242,
    "start_time": "2023-09-03T23:43:11.236Z"
   },
   {
    "duration": 237,
    "start_time": "2023-09-03T23:43:11.480Z"
   },
   {
    "duration": 245,
    "start_time": "2023-09-03T23:43:11.719Z"
   },
   {
    "duration": 391,
    "start_time": "2023-09-03T23:43:11.966Z"
   },
   {
    "duration": 8,
    "start_time": "2023-09-03T23:43:12.358Z"
   },
   {
    "duration": 12,
    "start_time": "2023-09-03T23:43:12.368Z"
   },
   {
    "duration": 22,
    "start_time": "2023-09-03T23:43:12.381Z"
   },
   {
    "duration": 9,
    "start_time": "2023-09-03T23:43:12.405Z"
   },
   {
    "duration": 7,
    "start_time": "2023-09-03T23:43:12.416Z"
   },
   {
    "duration": 235,
    "start_time": "2023-09-03T23:43:12.424Z"
   },
   {
    "duration": 3,
    "start_time": "2023-09-03T23:43:12.661Z"
   },
   {
    "duration": 69,
    "start_time": "2023-09-03T23:43:12.665Z"
   },
   {
    "duration": 22,
    "start_time": "2023-09-03T23:43:12.735Z"
   },
   {
    "duration": 8,
    "start_time": "2023-09-03T23:43:12.758Z"
   },
   {
    "duration": 16,
    "start_time": "2023-09-03T23:43:12.768Z"
   },
   {
    "duration": 1567,
    "start_time": "2023-09-03T23:43:12.785Z"
   },
   {
    "duration": 3,
    "start_time": "2023-09-03T23:43:14.357Z"
   },
   {
    "duration": 11,
    "start_time": "2023-09-03T23:43:14.361Z"
   },
   {
    "duration": 9,
    "start_time": "2023-09-03T23:43:14.373Z"
   },
   {
    "duration": 9,
    "start_time": "2023-09-03T23:43:14.384Z"
   },
   {
    "duration": 149925,
    "start_time": "2023-09-03T23:43:14.395Z"
   },
   {
    "duration": 6,
    "start_time": "2023-09-03T23:45:44.322Z"
   },
   {
    "duration": 6,
    "start_time": "2023-09-03T23:45:44.330Z"
   },
   {
    "duration": 114,
    "start_time": "2023-09-03T23:45:44.345Z"
   },
   {
    "duration": 0,
    "start_time": "2023-09-03T23:45:44.462Z"
   },
   {
    "duration": 0,
    "start_time": "2023-09-03T23:45:44.463Z"
   },
   {
    "duration": 0,
    "start_time": "2023-09-03T23:45:44.464Z"
   },
   {
    "duration": 1266,
    "start_time": "2023-09-03T23:45:55.051Z"
   },
   {
    "duration": 986,
    "start_time": "2023-09-03T23:46:31.199Z"
   },
   {
    "duration": 3,
    "start_time": "2023-09-03T23:50:59.038Z"
   },
   {
    "duration": 2,
    "start_time": "2023-09-03T23:50:59.600Z"
   },
   {
    "duration": 3,
    "start_time": "2023-09-03T23:51:00.181Z"
   },
   {
    "duration": 3,
    "start_time": "2023-09-03T23:51:00.777Z"
   },
   {
    "duration": 23,
    "start_time": "2023-09-03T23:51:01.395Z"
   },
   {
    "duration": 9,
    "start_time": "2023-09-03T23:51:06.289Z"
   },
   {
    "duration": 3,
    "start_time": "2023-09-03T23:52:11.436Z"
   },
   {
    "duration": 3,
    "start_time": "2023-09-03T23:52:12.098Z"
   },
   {
    "duration": 22,
    "start_time": "2023-09-03T23:52:12.755Z"
   },
   {
    "duration": 2,
    "start_time": "2023-09-03T23:53:26.557Z"
   },
   {
    "duration": 3,
    "start_time": "2023-09-03T23:53:27.723Z"
   },
   {
    "duration": 23,
    "start_time": "2023-09-03T23:53:28.384Z"
   },
   {
    "duration": 3,
    "start_time": "2023-09-03T23:55:07.770Z"
   },
   {
    "duration": 24,
    "start_time": "2023-09-03T23:55:08.769Z"
   },
   {
    "duration": 3,
    "start_time": "2023-09-03T23:55:31.218Z"
   },
   {
    "duration": 3,
    "start_time": "2023-09-03T23:55:33.777Z"
   },
   {
    "duration": 22,
    "start_time": "2023-09-03T23:55:34.378Z"
   },
   {
    "duration": 3,
    "start_time": "2023-09-03T23:56:14.786Z"
   },
   {
    "duration": 3,
    "start_time": "2023-09-03T23:56:15.208Z"
   },
   {
    "duration": 21,
    "start_time": "2023-09-03T23:56:15.666Z"
   },
   {
    "duration": 3,
    "start_time": "2023-09-03T23:56:48.185Z"
   },
   {
    "duration": 3,
    "start_time": "2023-09-03T23:56:48.745Z"
   },
   {
    "duration": 21,
    "start_time": "2023-09-03T23:56:49.185Z"
   },
   {
    "duration": 3,
    "start_time": "2023-09-03T23:58:35.991Z"
   },
   {
    "duration": 3,
    "start_time": "2023-09-03T23:58:36.913Z"
   },
   {
    "duration": 21,
    "start_time": "2023-09-03T23:58:37.802Z"
   },
   {
    "duration": 3,
    "start_time": "2023-09-04T00:00:58.686Z"
   },
   {
    "duration": 3,
    "start_time": "2023-09-04T00:00:59.467Z"
   },
   {
    "duration": 147618,
    "start_time": "2023-09-04T00:01:00.158Z"
   },
   {
    "duration": 6,
    "start_time": "2023-09-04T00:03:27.778Z"
   },
   {
    "duration": 4,
    "start_time": "2023-09-04T00:06:13.771Z"
   },
   {
    "duration": 9,
    "start_time": "2023-09-04T00:11:56.656Z"
   },
   {
    "duration": 4,
    "start_time": "2023-09-04T00:12:29.717Z"
   },
   {
    "duration": 9,
    "start_time": "2023-09-04T00:12:31.487Z"
   },
   {
    "duration": 3,
    "start_time": "2023-09-04T00:13:27.622Z"
   },
   {
    "duration": 2,
    "start_time": "2023-09-04T00:37:44.432Z"
   },
   {
    "duration": 3,
    "start_time": "2023-09-04T00:37:45.067Z"
   },
   {
    "duration": 2,
    "start_time": "2023-09-04T00:37:45.641Z"
   },
   {
    "duration": 3,
    "start_time": "2023-09-04T00:37:46.240Z"
   },
   {
    "duration": 194,
    "start_time": "2023-09-04T00:37:46.921Z"
   },
   {
    "duration": 9,
    "start_time": "2023-09-04T00:41:57.600Z"
   },
   {
    "duration": 3,
    "start_time": "2023-09-04T00:43:07.781Z"
   },
   {
    "duration": 225,
    "start_time": "2023-09-04T00:43:23.940Z"
   },
   {
    "duration": 9,
    "start_time": "2023-09-04T00:45:20.069Z"
   },
   {
    "duration": 3,
    "start_time": "2023-09-04T00:46:55.420Z"
   },
   {
    "duration": 202,
    "start_time": "2023-09-04T00:47:05.660Z"
   },
   {
    "duration": 3,
    "start_time": "2023-09-04T00:48:06.579Z"
   },
   {
    "duration": 197,
    "start_time": "2023-09-04T00:48:20.600Z"
   },
   {
    "duration": 237,
    "start_time": "2023-09-04T00:51:47.819Z"
   },
   {
    "duration": 247,
    "start_time": "2023-09-04T00:52:12.321Z"
   },
   {
    "duration": 49,
    "start_time": "2023-09-04T07:52:48.684Z"
   },
   {
    "duration": 1714,
    "start_time": "2023-09-04T07:52:58.030Z"
   },
   {
    "duration": 3290,
    "start_time": "2023-09-04T07:52:59.747Z"
   },
   {
    "duration": 20,
    "start_time": "2023-09-04T07:53:03.038Z"
   },
   {
    "duration": 32,
    "start_time": "2023-09-04T07:53:03.060Z"
   },
   {
    "duration": 27,
    "start_time": "2023-09-04T07:53:03.094Z"
   },
   {
    "duration": 13,
    "start_time": "2023-09-04T07:53:03.123Z"
   },
   {
    "duration": 28,
    "start_time": "2023-09-04T07:53:03.138Z"
   },
   {
    "duration": 27,
    "start_time": "2023-09-04T07:53:03.168Z"
   },
   {
    "duration": 20,
    "start_time": "2023-09-04T07:53:03.197Z"
   },
   {
    "duration": 35,
    "start_time": "2023-09-04T07:53:03.219Z"
   },
   {
    "duration": 97,
    "start_time": "2023-09-04T07:53:03.256Z"
   },
   {
    "duration": 139,
    "start_time": "2023-09-04T07:53:03.354Z"
   },
   {
    "duration": 72,
    "start_time": "2023-09-04T07:53:03.495Z"
   },
   {
    "duration": 33,
    "start_time": "2023-09-04T07:53:03.570Z"
   },
   {
    "duration": 37,
    "start_time": "2023-09-04T07:53:03.605Z"
   },
   {
    "duration": 29,
    "start_time": "2023-09-04T07:53:03.643Z"
   },
   {
    "duration": 30,
    "start_time": "2023-09-04T07:53:03.674Z"
   },
   {
    "duration": 28,
    "start_time": "2023-09-04T07:53:03.706Z"
   },
   {
    "duration": 10,
    "start_time": "2023-09-04T07:53:03.735Z"
   },
   {
    "duration": 13,
    "start_time": "2023-09-04T07:53:03.747Z"
   },
   {
    "duration": 31,
    "start_time": "2023-09-04T07:53:03.761Z"
   },
   {
    "duration": 291,
    "start_time": "2023-09-04T07:53:03.793Z"
   },
   {
    "duration": 23,
    "start_time": "2023-09-04T07:53:04.085Z"
   },
   {
    "duration": 9,
    "start_time": "2023-09-04T07:53:04.110Z"
   },
   {
    "duration": 283,
    "start_time": "2023-09-04T07:53:04.120Z"
   },
   {
    "duration": 25,
    "start_time": "2023-09-04T07:53:04.405Z"
   },
   {
    "duration": 24,
    "start_time": "2023-09-04T07:53:04.432Z"
   },
   {
    "duration": 315,
    "start_time": "2023-09-04T07:53:04.458Z"
   },
   {
    "duration": 20,
    "start_time": "2023-09-04T07:53:04.775Z"
   },
   {
    "duration": 309,
    "start_time": "2023-09-04T07:53:04.796Z"
   },
   {
    "duration": 265,
    "start_time": "2023-09-04T07:53:05.107Z"
   },
   {
    "duration": 253,
    "start_time": "2023-09-04T07:53:05.373Z"
   },
   {
    "duration": 280,
    "start_time": "2023-09-04T07:53:05.628Z"
   },
   {
    "duration": 479,
    "start_time": "2023-09-04T07:53:05.909Z"
   },
   {
    "duration": 9,
    "start_time": "2023-09-04T07:53:06.390Z"
   },
   {
    "duration": 32,
    "start_time": "2023-09-04T07:53:06.401Z"
   },
   {
    "duration": 36,
    "start_time": "2023-09-04T07:53:06.435Z"
   },
   {
    "duration": 15,
    "start_time": "2023-09-04T07:53:06.474Z"
   },
   {
    "duration": 14,
    "start_time": "2023-09-04T07:53:06.491Z"
   },
   {
    "duration": 244,
    "start_time": "2023-09-04T07:53:06.507Z"
   },
   {
    "duration": 3,
    "start_time": "2023-09-04T07:53:06.756Z"
   },
   {
    "duration": 6,
    "start_time": "2023-09-04T07:53:06.761Z"
   },
   {
    "duration": 14,
    "start_time": "2023-09-04T07:53:06.768Z"
   },
   {
    "duration": 8,
    "start_time": "2023-09-04T07:53:06.784Z"
   },
   {
    "duration": 7,
    "start_time": "2023-09-04T07:53:06.794Z"
   },
   {
    "duration": 133,
    "start_time": "2023-09-04T07:53:06.802Z"
   },
   {
    "duration": 0,
    "start_time": "2023-09-04T07:53:06.937Z"
   },
   {
    "duration": 0,
    "start_time": "2023-09-04T07:53:06.939Z"
   },
   {
    "duration": 0,
    "start_time": "2023-09-04T07:53:06.940Z"
   },
   {
    "duration": 0,
    "start_time": "2023-09-04T07:53:06.941Z"
   },
   {
    "duration": 0,
    "start_time": "2023-09-04T07:53:06.942Z"
   },
   {
    "duration": 0,
    "start_time": "2023-09-04T07:53:06.943Z"
   },
   {
    "duration": 0,
    "start_time": "2023-09-04T07:53:06.945Z"
   },
   {
    "duration": 0,
    "start_time": "2023-09-04T07:53:06.946Z"
   },
   {
    "duration": 0,
    "start_time": "2023-09-04T07:53:06.947Z"
   },
   {
    "duration": 0,
    "start_time": "2023-09-04T07:53:06.956Z"
   },
   {
    "duration": 14,
    "start_time": "2023-09-04T07:54:11.537Z"
   },
   {
    "duration": 1468,
    "start_time": "2023-09-04T08:03:44.722Z"
   },
   {
    "duration": 697,
    "start_time": "2023-09-04T08:03:46.192Z"
   },
   {
    "duration": 17,
    "start_time": "2023-09-04T08:03:46.891Z"
   },
   {
    "duration": 18,
    "start_time": "2023-09-04T08:03:46.910Z"
   },
   {
    "duration": 32,
    "start_time": "2023-09-04T08:03:46.931Z"
   },
   {
    "duration": 12,
    "start_time": "2023-09-04T08:03:46.965Z"
   },
   {
    "duration": 5,
    "start_time": "2023-09-04T08:03:46.978Z"
   },
   {
    "duration": 5,
    "start_time": "2023-09-04T08:03:46.984Z"
   },
   {
    "duration": 5,
    "start_time": "2023-09-04T08:03:46.990Z"
   },
   {
    "duration": 10,
    "start_time": "2023-09-04T08:03:46.996Z"
   },
   {
    "duration": 16,
    "start_time": "2023-09-04T08:03:47.008Z"
   },
   {
    "duration": 27,
    "start_time": "2023-09-04T08:03:47.026Z"
   },
   {
    "duration": 9,
    "start_time": "2023-09-04T08:03:47.054Z"
   },
   {
    "duration": 17,
    "start_time": "2023-09-04T08:03:47.067Z"
   },
   {
    "duration": 6,
    "start_time": "2023-09-04T08:03:47.086Z"
   },
   {
    "duration": 11,
    "start_time": "2023-09-04T08:03:47.094Z"
   },
   {
    "duration": 14,
    "start_time": "2023-09-04T08:03:47.107Z"
   },
   {
    "duration": 35,
    "start_time": "2023-09-04T08:03:47.122Z"
   },
   {
    "duration": 10,
    "start_time": "2023-09-04T08:03:47.158Z"
   },
   {
    "duration": 9,
    "start_time": "2023-09-04T08:03:47.170Z"
   },
   {
    "duration": 8,
    "start_time": "2023-09-04T08:03:47.181Z"
   },
   {
    "duration": 269,
    "start_time": "2023-09-04T08:03:47.190Z"
   },
   {
    "duration": 20,
    "start_time": "2023-09-04T08:03:47.461Z"
   },
   {
    "duration": 8,
    "start_time": "2023-09-04T08:03:47.483Z"
   },
   {
    "duration": 237,
    "start_time": "2023-09-04T08:03:47.492Z"
   },
   {
    "duration": 28,
    "start_time": "2023-09-04T08:03:47.731Z"
   },
   {
    "duration": 9,
    "start_time": "2023-09-04T08:03:47.761Z"
   },
   {
    "duration": 250,
    "start_time": "2023-09-04T08:03:47.771Z"
   },
   {
    "duration": 33,
    "start_time": "2023-09-04T08:03:48.024Z"
   },
   {
    "duration": 342,
    "start_time": "2023-09-04T08:03:48.059Z"
   },
   {
    "duration": 255,
    "start_time": "2023-09-04T08:03:48.403Z"
   },
   {
    "duration": 286,
    "start_time": "2023-09-04T08:03:48.660Z"
   },
   {
    "duration": 277,
    "start_time": "2023-09-04T08:03:48.948Z"
   },
   {
    "duration": 424,
    "start_time": "2023-09-04T08:03:49.227Z"
   },
   {
    "duration": 8,
    "start_time": "2023-09-04T08:03:49.656Z"
   },
   {
    "duration": 8,
    "start_time": "2023-09-04T08:03:49.666Z"
   },
   {
    "duration": 5,
    "start_time": "2023-09-04T08:03:49.676Z"
   },
   {
    "duration": 7,
    "start_time": "2023-09-04T08:03:49.682Z"
   },
   {
    "duration": 4,
    "start_time": "2023-09-04T08:03:49.691Z"
   },
   {
    "duration": 262,
    "start_time": "2023-09-04T08:03:49.697Z"
   },
   {
    "duration": 3,
    "start_time": "2023-09-04T08:03:49.963Z"
   },
   {
    "duration": 10,
    "start_time": "2023-09-04T08:03:49.968Z"
   },
   {
    "duration": 13,
    "start_time": "2023-09-04T08:03:49.979Z"
   },
   {
    "duration": 8,
    "start_time": "2023-09-04T08:03:49.994Z"
   },
   {
    "duration": 8,
    "start_time": "2023-09-04T08:03:50.003Z"
   },
   {
    "duration": 120,
    "start_time": "2023-09-04T08:03:50.013Z"
   },
   {
    "duration": 0,
    "start_time": "2023-09-04T08:03:50.134Z"
   },
   {
    "duration": 0,
    "start_time": "2023-09-04T08:03:50.136Z"
   },
   {
    "duration": 0,
    "start_time": "2023-09-04T08:03:50.137Z"
   },
   {
    "duration": 0,
    "start_time": "2023-09-04T08:03:50.138Z"
   },
   {
    "duration": 0,
    "start_time": "2023-09-04T08:03:50.139Z"
   },
   {
    "duration": 0,
    "start_time": "2023-09-04T08:03:50.140Z"
   },
   {
    "duration": 0,
    "start_time": "2023-09-04T08:03:50.141Z"
   },
   {
    "duration": 0,
    "start_time": "2023-09-04T08:03:50.142Z"
   },
   {
    "duration": 0,
    "start_time": "2023-09-04T08:03:50.143Z"
   },
   {
    "duration": 0,
    "start_time": "2023-09-04T08:03:50.156Z"
   },
   {
    "duration": 265,
    "start_time": "2023-09-04T08:04:24.515Z"
   },
   {
    "duration": 2737,
    "start_time": "2023-09-04T08:09:04.026Z"
   },
   {
    "duration": 2078,
    "start_time": "2023-09-04T08:10:23.086Z"
   },
   {
    "duration": 4,
    "start_time": "2023-09-04T08:13:15.149Z"
   },
   {
    "duration": 3,
    "start_time": "2023-09-04T08:13:16.195Z"
   },
   {
    "duration": 3,
    "start_time": "2023-09-04T08:13:16.906Z"
   },
   {
    "duration": 219,
    "start_time": "2023-09-04T08:13:17.946Z"
   },
   {
    "duration": 12,
    "start_time": "2023-09-04T08:15:47.717Z"
   },
   {
    "duration": 4,
    "start_time": "2023-09-04T08:15:51.407Z"
   },
   {
    "duration": 311777,
    "start_time": "2023-09-04T08:15:52.208Z"
   },
   {
    "duration": 4,
    "start_time": "2023-09-04T08:21:03.987Z"
   },
   {
    "duration": 12,
    "start_time": "2023-09-04T08:24:34.951Z"
   },
   {
    "duration": 13,
    "start_time": "2023-09-04T08:26:13.102Z"
   },
   {
    "duration": 5,
    "start_time": "2023-09-04T08:26:52.472Z"
   },
   {
    "duration": 7,
    "start_time": "2023-09-04T08:29:11.452Z"
   },
   {
    "duration": 6,
    "start_time": "2023-09-04T08:29:40.500Z"
   },
   {
    "duration": 1540,
    "start_time": "2023-09-04T08:31:12.873Z"
   },
   {
    "duration": 775,
    "start_time": "2023-09-04T08:31:14.414Z"
   },
   {
    "duration": 18,
    "start_time": "2023-09-04T08:31:15.191Z"
   },
   {
    "duration": 42,
    "start_time": "2023-09-04T08:31:15.211Z"
   },
   {
    "duration": 244,
    "start_time": "2023-09-04T08:31:15.256Z"
   },
   {
    "duration": 20,
    "start_time": "2023-09-04T08:31:15.502Z"
   },
   {
    "duration": 14,
    "start_time": "2023-09-04T08:31:15.523Z"
   },
   {
    "duration": 29,
    "start_time": "2023-09-04T08:31:15.539Z"
   },
   {
    "duration": 8,
    "start_time": "2023-09-04T08:31:15.570Z"
   },
   {
    "duration": 10,
    "start_time": "2023-09-04T08:31:15.579Z"
   },
   {
    "duration": 25,
    "start_time": "2023-09-04T08:31:15.591Z"
   },
   {
    "duration": 49,
    "start_time": "2023-09-04T08:31:15.618Z"
   },
   {
    "duration": 12,
    "start_time": "2023-09-04T08:31:15.670Z"
   },
   {
    "duration": 13,
    "start_time": "2023-09-04T08:31:15.685Z"
   },
   {
    "duration": 14,
    "start_time": "2023-09-04T08:31:15.700Z"
   },
   {
    "duration": 17,
    "start_time": "2023-09-04T08:31:15.716Z"
   },
   {
    "duration": 40,
    "start_time": "2023-09-04T08:31:15.734Z"
   },
   {
    "duration": 48,
    "start_time": "2023-09-04T08:31:15.776Z"
   },
   {
    "duration": 10,
    "start_time": "2023-09-04T08:31:15.826Z"
   },
   {
    "duration": 18,
    "start_time": "2023-09-04T08:31:15.838Z"
   },
   {
    "duration": 12,
    "start_time": "2023-09-04T08:31:15.867Z"
   },
   {
    "duration": 293,
    "start_time": "2023-09-04T08:31:15.881Z"
   },
   {
    "duration": 22,
    "start_time": "2023-09-04T08:31:16.176Z"
   },
   {
    "duration": 8,
    "start_time": "2023-09-04T08:31:16.200Z"
   },
   {
    "duration": 287,
    "start_time": "2023-09-04T08:31:16.210Z"
   },
   {
    "duration": 21,
    "start_time": "2023-09-04T08:31:16.498Z"
   },
   {
    "duration": 8,
    "start_time": "2023-09-04T08:31:16.521Z"
   },
   {
    "duration": 284,
    "start_time": "2023-09-04T08:31:16.530Z"
   },
   {
    "duration": 22,
    "start_time": "2023-09-04T08:31:16.816Z"
   },
   {
    "duration": 412,
    "start_time": "2023-09-04T08:31:16.840Z"
   },
   {
    "duration": 278,
    "start_time": "2023-09-04T08:31:17.256Z"
   },
   {
    "duration": 261,
    "start_time": "2023-09-04T08:31:17.536Z"
   },
   {
    "duration": 271,
    "start_time": "2023-09-04T08:31:17.799Z"
   },
   {
    "duration": 469,
    "start_time": "2023-09-04T08:31:18.074Z"
   },
   {
    "duration": 16,
    "start_time": "2023-09-04T08:31:18.545Z"
   },
   {
    "duration": 13,
    "start_time": "2023-09-04T08:31:18.563Z"
   },
   {
    "duration": 4,
    "start_time": "2023-09-04T08:31:18.578Z"
   },
   {
    "duration": 8,
    "start_time": "2023-09-04T08:31:18.584Z"
   },
   {
    "duration": 19,
    "start_time": "2023-09-04T08:31:18.593Z"
   },
   {
    "duration": 255,
    "start_time": "2023-09-04T08:31:18.614Z"
   },
   {
    "duration": 4,
    "start_time": "2023-09-04T08:31:18.875Z"
   },
   {
    "duration": 17,
    "start_time": "2023-09-04T08:31:18.880Z"
   },
   {
    "duration": 21,
    "start_time": "2023-09-04T08:31:18.899Z"
   },
   {
    "duration": 10,
    "start_time": "2023-09-04T08:31:18.922Z"
   },
   {
    "duration": 5,
    "start_time": "2023-09-04T08:31:18.934Z"
   },
   {
    "duration": 3426,
    "start_time": "2023-09-04T08:31:18.941Z"
   },
   {
    "duration": 7,
    "start_time": "2023-09-04T08:31:22.369Z"
   },
   {
    "duration": 89,
    "start_time": "2023-09-04T08:31:22.378Z"
   },
   {
    "duration": 5,
    "start_time": "2023-09-04T08:31:22.470Z"
   },
   {
    "duration": 7,
    "start_time": "2023-09-04T08:31:22.476Z"
   },
   {
    "duration": 300585,
    "start_time": "2023-09-04T08:31:22.484Z"
   },
   {
    "duration": 5,
    "start_time": "2023-09-04T08:36:23.071Z"
   },
   {
    "duration": 18,
    "start_time": "2023-09-04T08:36:23.077Z"
   },
   {
    "duration": 15,
    "start_time": "2023-09-04T08:36:23.096Z"
   },
   {
    "duration": 15,
    "start_time": "2023-09-04T08:36:23.113Z"
   },
   {
    "duration": 120,
    "start_time": "2023-09-04T08:36:23.130Z"
   },
   {
    "duration": 4,
    "start_time": "2023-09-04T08:37:26.478Z"
   },
   {
    "duration": 60,
    "start_time": "2023-09-04T08:43:28.578Z"
   },
   {
    "duration": 125,
    "start_time": "2023-09-04T08:43:38.757Z"
   },
   {
    "duration": 65,
    "start_time": "2023-09-04T08:43:40.177Z"
   },
   {
    "duration": 10,
    "start_time": "2023-09-04T08:44:50.744Z"
   },
   {
    "duration": 154,
    "start_time": "2023-09-04T08:44:52.113Z"
   },
   {
    "duration": 1917,
    "start_time": "2023-09-04T08:45:02.293Z"
   },
   {
    "duration": 0,
    "start_time": "2023-09-04T08:45:04.213Z"
   },
   {
    "duration": 1610,
    "start_time": "2023-09-04T09:04:01.368Z"
   },
   {
    "duration": 742,
    "start_time": "2023-09-04T09:04:02.981Z"
   },
   {
    "duration": 20,
    "start_time": "2023-09-04T09:04:03.725Z"
   },
   {
    "duration": 27,
    "start_time": "2023-09-04T09:04:03.747Z"
   },
   {
    "duration": 29,
    "start_time": "2023-09-04T09:04:03.777Z"
   },
   {
    "duration": 13,
    "start_time": "2023-09-04T09:04:03.808Z"
   },
   {
    "duration": 3,
    "start_time": "2023-09-04T09:04:03.823Z"
   },
   {
    "duration": 33,
    "start_time": "2023-09-04T09:04:03.827Z"
   },
   {
    "duration": 7,
    "start_time": "2023-09-04T09:04:03.862Z"
   },
   {
    "duration": 36,
    "start_time": "2023-09-04T09:04:03.871Z"
   },
   {
    "duration": 35,
    "start_time": "2023-09-04T09:04:03.909Z"
   },
   {
    "duration": 24,
    "start_time": "2023-09-04T09:04:03.946Z"
   },
   {
    "duration": 5,
    "start_time": "2023-09-04T09:04:03.972Z"
   },
   {
    "duration": 18,
    "start_time": "2023-09-04T09:04:03.980Z"
   },
   {
    "duration": 22,
    "start_time": "2023-09-04T09:04:04.000Z"
   },
   {
    "duration": 32,
    "start_time": "2023-09-04T09:04:04.024Z"
   },
   {
    "duration": 19,
    "start_time": "2023-09-04T09:04:04.058Z"
   },
   {
    "duration": 28,
    "start_time": "2023-09-04T09:04:04.079Z"
   },
   {
    "duration": 11,
    "start_time": "2023-09-04T09:04:04.109Z"
   },
   {
    "duration": 39,
    "start_time": "2023-09-04T09:04:04.122Z"
   },
   {
    "duration": 11,
    "start_time": "2023-09-04T09:04:04.163Z"
   },
   {
    "duration": 318,
    "start_time": "2023-09-04T09:04:04.176Z"
   },
   {
    "duration": 25,
    "start_time": "2023-09-04T09:04:04.496Z"
   },
   {
    "duration": 26,
    "start_time": "2023-09-04T09:04:04.523Z"
   },
   {
    "duration": 247,
    "start_time": "2023-09-04T09:04:04.551Z"
   },
   {
    "duration": 25,
    "start_time": "2023-09-04T09:04:04.800Z"
   },
   {
    "duration": 29,
    "start_time": "2023-09-04T09:04:04.827Z"
   },
   {
    "duration": 254,
    "start_time": "2023-09-04T09:04:04.859Z"
   },
   {
    "duration": 21,
    "start_time": "2023-09-04T09:04:05.115Z"
   },
   {
    "duration": 376,
    "start_time": "2023-09-04T09:04:05.138Z"
   },
   {
    "duration": 274,
    "start_time": "2023-09-04T09:04:05.515Z"
   },
   {
    "duration": 267,
    "start_time": "2023-09-04T09:04:05.791Z"
   },
   {
    "duration": 263,
    "start_time": "2023-09-04T09:04:06.060Z"
   },
   {
    "duration": 459,
    "start_time": "2023-09-04T09:04:06.325Z"
   },
   {
    "duration": 9,
    "start_time": "2023-09-04T09:04:06.786Z"
   },
   {
    "duration": 9,
    "start_time": "2023-09-04T09:04:06.797Z"
   },
   {
    "duration": 6,
    "start_time": "2023-09-04T09:04:06.808Z"
   },
   {
    "duration": 7,
    "start_time": "2023-09-04T09:04:06.815Z"
   },
   {
    "duration": 33,
    "start_time": "2023-09-04T09:04:06.824Z"
   },
   {
    "duration": 268,
    "start_time": "2023-09-04T09:04:06.859Z"
   },
   {
    "duration": 3,
    "start_time": "2023-09-04T09:04:07.131Z"
   },
   {
    "duration": 21,
    "start_time": "2023-09-04T09:04:07.136Z"
   },
   {
    "duration": 16,
    "start_time": "2023-09-04T09:04:07.159Z"
   },
   {
    "duration": 10,
    "start_time": "2023-09-04T09:04:07.177Z"
   },
   {
    "duration": 8,
    "start_time": "2023-09-04T09:04:07.190Z"
   },
   {
    "duration": 2464,
    "start_time": "2023-09-04T09:04:07.200Z"
   },
   {
    "duration": 5,
    "start_time": "2023-09-04T09:04:09.666Z"
   },
   {
    "duration": 184,
    "start_time": "2023-09-04T09:04:09.673Z"
   },
   {
    "duration": 11,
    "start_time": "2023-09-04T09:04:09.859Z"
   },
   {
    "duration": 8,
    "start_time": "2023-09-04T09:04:09.871Z"
   },
   {
    "duration": 1409,
    "start_time": "2023-09-04T09:29:43.284Z"
   },
   {
    "duration": 758,
    "start_time": "2023-09-04T09:29:44.695Z"
   },
   {
    "duration": 17,
    "start_time": "2023-09-04T09:29:45.457Z"
   },
   {
    "duration": 12,
    "start_time": "2023-09-04T09:29:45.476Z"
   },
   {
    "duration": 16,
    "start_time": "2023-09-04T09:29:45.489Z"
   },
   {
    "duration": 11,
    "start_time": "2023-09-04T09:29:45.507Z"
   },
   {
    "duration": 2,
    "start_time": "2023-09-04T09:29:45.520Z"
   },
   {
    "duration": 38,
    "start_time": "2023-09-04T09:29:45.523Z"
   },
   {
    "duration": 4,
    "start_time": "2023-09-04T09:29:45.564Z"
   },
   {
    "duration": 9,
    "start_time": "2023-09-04T09:29:45.571Z"
   },
   {
    "duration": 14,
    "start_time": "2023-09-04T09:29:45.582Z"
   },
   {
    "duration": 17,
    "start_time": "2023-09-04T09:29:45.598Z"
   },
   {
    "duration": 11,
    "start_time": "2023-09-04T09:29:45.617Z"
   },
   {
    "duration": 30,
    "start_time": "2023-09-04T09:29:45.630Z"
   },
   {
    "duration": 31,
    "start_time": "2023-09-04T09:29:45.662Z"
   },
   {
    "duration": 21,
    "start_time": "2023-09-04T09:29:45.695Z"
   },
   {
    "duration": 30,
    "start_time": "2023-09-04T09:29:45.718Z"
   },
   {
    "duration": 22,
    "start_time": "2023-09-04T09:29:45.750Z"
   },
   {
    "duration": 9,
    "start_time": "2023-09-04T09:29:45.773Z"
   },
   {
    "duration": 9,
    "start_time": "2023-09-04T09:29:45.784Z"
   },
   {
    "duration": 17,
    "start_time": "2023-09-04T09:29:45.795Z"
   },
   {
    "duration": 275,
    "start_time": "2023-09-04T09:29:45.813Z"
   },
   {
    "duration": 23,
    "start_time": "2023-09-04T09:29:46.090Z"
   },
   {
    "duration": 9,
    "start_time": "2023-09-04T09:29:46.115Z"
   },
   {
    "duration": 265,
    "start_time": "2023-09-04T09:29:46.125Z"
   },
   {
    "duration": 21,
    "start_time": "2023-09-04T09:29:46.391Z"
   },
   {
    "duration": 8,
    "start_time": "2023-09-04T09:29:46.413Z"
   },
   {
    "duration": 253,
    "start_time": "2023-09-04T09:29:46.424Z"
   },
   {
    "duration": 20,
    "start_time": "2023-09-04T09:29:46.679Z"
   },
   {
    "duration": 411,
    "start_time": "2023-09-04T09:29:46.701Z"
   },
   {
    "duration": 262,
    "start_time": "2023-09-04T09:29:47.114Z"
   },
   {
    "duration": 259,
    "start_time": "2023-09-04T09:29:47.377Z"
   },
   {
    "duration": 260,
    "start_time": "2023-09-04T09:29:47.638Z"
   },
   {
    "duration": 456,
    "start_time": "2023-09-04T09:29:47.900Z"
   },
   {
    "duration": 8,
    "start_time": "2023-09-04T09:29:48.358Z"
   },
   {
    "duration": 20,
    "start_time": "2023-09-04T09:29:48.367Z"
   },
   {
    "duration": 13,
    "start_time": "2023-09-04T09:29:48.389Z"
   },
   {
    "duration": 27,
    "start_time": "2023-09-04T09:29:48.404Z"
   },
   {
    "duration": 7,
    "start_time": "2023-09-04T09:29:48.433Z"
   },
   {
    "duration": 236,
    "start_time": "2023-09-04T09:29:48.442Z"
   },
   {
    "duration": 3,
    "start_time": "2023-09-04T09:29:48.680Z"
   },
   {
    "duration": 37,
    "start_time": "2023-09-04T09:29:48.685Z"
   },
   {
    "duration": 48,
    "start_time": "2023-09-04T09:29:48.724Z"
   },
   {
    "duration": 17,
    "start_time": "2023-09-04T09:29:48.774Z"
   },
   {
    "duration": 19,
    "start_time": "2023-09-04T09:29:48.793Z"
   },
   {
    "duration": 2846,
    "start_time": "2023-09-04T09:29:48.814Z"
   },
   {
    "duration": 2,
    "start_time": "2023-09-04T09:29:51.662Z"
   },
   {
    "duration": 33,
    "start_time": "2023-09-04T09:29:51.666Z"
   },
   {
    "duration": 33,
    "start_time": "2023-09-04T09:29:51.701Z"
   },
   {
    "duration": 26,
    "start_time": "2023-09-04T09:29:51.736Z"
   },
   {
    "duration": 310950,
    "start_time": "2023-09-04T09:29:51.765Z"
   },
   {
    "duration": 6,
    "start_time": "2023-09-04T09:35:02.717Z"
   },
   {
    "duration": 39,
    "start_time": "2023-09-04T09:35:02.726Z"
   },
   {
    "duration": 37,
    "start_time": "2023-09-04T09:35:02.766Z"
   },
   {
    "duration": 27,
    "start_time": "2023-09-04T09:35:02.806Z"
   },
   {
    "duration": 92,
    "start_time": "2023-09-04T09:35:02.835Z"
   },
   {
    "duration": 9,
    "start_time": "2023-09-04T09:35:02.930Z"
   },
   {
    "duration": 146,
    "start_time": "2023-09-04T09:35:02.942Z"
   },
   {
    "duration": 0,
    "start_time": "2023-09-04T09:35:03.089Z"
   },
   {
    "duration": 60,
    "start_time": "2023-09-04T09:41:02.195Z"
   },
   {
    "duration": 7,
    "start_time": "2023-09-04T09:41:03.315Z"
   },
   {
    "duration": 8,
    "start_time": "2023-09-04T09:43:27.548Z"
   },
   {
    "duration": 5,
    "start_time": "2023-09-04T09:44:22.015Z"
   },
   {
    "duration": 8,
    "start_time": "2023-09-04T09:44:28.116Z"
   },
   {
    "duration": 9,
    "start_time": "2023-09-04T09:44:30.335Z"
   },
   {
    "duration": 7,
    "start_time": "2023-09-04T09:46:00.776Z"
   },
   {
    "duration": 7,
    "start_time": "2023-09-04T09:46:01.701Z"
   },
   {
    "duration": 5,
    "start_time": "2023-09-04T09:46:22.255Z"
   },
   {
    "duration": 1464,
    "start_time": "2023-09-04T09:50:26.477Z"
   },
   {
    "duration": 786,
    "start_time": "2023-09-04T09:50:27.944Z"
   },
   {
    "duration": 25,
    "start_time": "2023-09-04T09:50:28.732Z"
   },
   {
    "duration": 12,
    "start_time": "2023-09-04T09:50:28.759Z"
   },
   {
    "duration": 22,
    "start_time": "2023-09-04T09:50:28.773Z"
   },
   {
    "duration": 14,
    "start_time": "2023-09-04T09:50:28.797Z"
   },
   {
    "duration": 3,
    "start_time": "2023-09-04T09:50:28.813Z"
   },
   {
    "duration": 13,
    "start_time": "2023-09-04T09:50:28.818Z"
   },
   {
    "duration": 28,
    "start_time": "2023-09-04T09:50:28.833Z"
   },
   {
    "duration": 9,
    "start_time": "2023-09-04T09:50:28.863Z"
   },
   {
    "duration": 7,
    "start_time": "2023-09-04T09:50:28.875Z"
   },
   {
    "duration": 18,
    "start_time": "2023-09-04T09:50:28.885Z"
   },
   {
    "duration": 5,
    "start_time": "2023-09-04T09:50:28.906Z"
   },
   {
    "duration": 16,
    "start_time": "2023-09-04T09:50:28.915Z"
   },
   {
    "duration": 27,
    "start_time": "2023-09-04T09:50:28.933Z"
   },
   {
    "duration": 18,
    "start_time": "2023-09-04T09:50:28.962Z"
   },
   {
    "duration": 25,
    "start_time": "2023-09-04T09:50:28.982Z"
   },
   {
    "duration": 25,
    "start_time": "2023-09-04T09:50:29.009Z"
   },
   {
    "duration": 28,
    "start_time": "2023-09-04T09:50:29.036Z"
   },
   {
    "duration": 10,
    "start_time": "2023-09-04T09:50:29.066Z"
   },
   {
    "duration": 12,
    "start_time": "2023-09-04T09:50:29.078Z"
   },
   {
    "duration": 278,
    "start_time": "2023-09-04T09:50:29.092Z"
   },
   {
    "duration": 22,
    "start_time": "2023-09-04T09:50:29.371Z"
   },
   {
    "duration": 7,
    "start_time": "2023-09-04T09:50:29.394Z"
   },
   {
    "duration": 263,
    "start_time": "2023-09-04T09:50:29.403Z"
   },
   {
    "duration": 19,
    "start_time": "2023-09-04T09:50:29.667Z"
   },
   {
    "duration": 13,
    "start_time": "2023-09-04T09:50:29.688Z"
   },
   {
    "duration": 238,
    "start_time": "2023-09-04T09:50:29.702Z"
   },
   {
    "duration": 27,
    "start_time": "2023-09-04T09:50:29.942Z"
   },
   {
    "duration": 379,
    "start_time": "2023-09-04T09:50:29.971Z"
   },
   {
    "duration": 273,
    "start_time": "2023-09-04T09:50:30.355Z"
   },
   {
    "duration": 265,
    "start_time": "2023-09-04T09:50:30.630Z"
   },
   {
    "duration": 273,
    "start_time": "2023-09-04T09:50:30.897Z"
   },
   {
    "duration": 467,
    "start_time": "2023-09-04T09:50:31.172Z"
   },
   {
    "duration": 16,
    "start_time": "2023-09-04T09:50:31.641Z"
   },
   {
    "duration": 36,
    "start_time": "2023-09-04T09:50:31.659Z"
   },
   {
    "duration": 49,
    "start_time": "2023-09-04T09:50:31.697Z"
   },
   {
    "duration": 39,
    "start_time": "2023-09-04T09:50:31.748Z"
   },
   {
    "duration": 39,
    "start_time": "2023-09-04T09:50:31.789Z"
   },
   {
    "duration": 269,
    "start_time": "2023-09-04T09:50:31.829Z"
   },
   {
    "duration": 3,
    "start_time": "2023-09-04T09:50:32.101Z"
   },
   {
    "duration": 37,
    "start_time": "2023-09-04T09:50:32.106Z"
   },
   {
    "duration": 35,
    "start_time": "2023-09-04T09:50:32.145Z"
   },
   {
    "duration": 37,
    "start_time": "2023-09-04T09:50:32.182Z"
   },
   {
    "duration": 18,
    "start_time": "2023-09-04T09:50:32.221Z"
   },
   {
    "duration": 2524,
    "start_time": "2023-09-04T09:50:32.241Z"
   },
   {
    "duration": 2,
    "start_time": "2023-09-04T09:50:34.766Z"
   },
   {
    "duration": 16,
    "start_time": "2023-09-04T09:50:34.770Z"
   },
   {
    "duration": 74,
    "start_time": "2023-09-04T09:50:34.788Z"
   },
   {
    "duration": 16,
    "start_time": "2023-09-04T09:50:34.864Z"
   },
   {
    "duration": 298583,
    "start_time": "2023-09-04T09:50:34.882Z"
   },
   {
    "duration": 4,
    "start_time": "2023-09-04T09:55:33.467Z"
   },
   {
    "duration": 22,
    "start_time": "2023-09-04T09:55:33.473Z"
   },
   {
    "duration": 22,
    "start_time": "2023-09-04T09:55:33.497Z"
   },
   {
    "duration": 39,
    "start_time": "2023-09-04T09:55:33.521Z"
   },
   {
    "duration": 63,
    "start_time": "2023-09-04T09:55:33.562Z"
   },
   {
    "duration": 8,
    "start_time": "2023-09-04T09:55:33.627Z"
   },
   {
    "duration": 21,
    "start_time": "2023-09-04T09:55:33.636Z"
   },
   {
    "duration": 13,
    "start_time": "2023-09-04T09:55:33.659Z"
   },
   {
    "duration": 12,
    "start_time": "2023-09-04T09:55:33.674Z"
   },
   {
    "duration": 8,
    "start_time": "2023-09-05T07:57:10.978Z"
   },
   {
    "duration": 189,
    "start_time": "2023-09-05T07:57:19.993Z"
   },
   {
    "duration": 1570,
    "start_time": "2023-09-05T09:49:37.171Z"
   },
   {
    "duration": 2208,
    "start_time": "2023-09-05T09:49:38.743Z"
   },
   {
    "duration": 16,
    "start_time": "2023-09-05T09:49:40.952Z"
   },
   {
    "duration": 11,
    "start_time": "2023-09-05T09:49:40.969Z"
   },
   {
    "duration": 14,
    "start_time": "2023-09-05T09:49:40.981Z"
   },
   {
    "duration": 11,
    "start_time": "2023-09-05T09:49:40.996Z"
   },
   {
    "duration": 7,
    "start_time": "2023-09-05T09:49:41.009Z"
   },
   {
    "duration": 6,
    "start_time": "2023-09-05T09:49:41.018Z"
   },
   {
    "duration": 3,
    "start_time": "2023-09-05T09:49:41.033Z"
   },
   {
    "duration": 12,
    "start_time": "2023-09-05T09:49:41.038Z"
   },
   {
    "duration": 8,
    "start_time": "2023-09-05T09:49:41.052Z"
   },
   {
    "duration": 9,
    "start_time": "2023-09-05T09:49:41.062Z"
   },
   {
    "duration": 5,
    "start_time": "2023-09-05T09:49:41.072Z"
   },
   {
    "duration": 8,
    "start_time": "2023-09-05T09:49:41.079Z"
   },
   {
    "duration": 8,
    "start_time": "2023-09-05T09:49:41.089Z"
   },
   {
    "duration": 10,
    "start_time": "2023-09-05T09:49:41.099Z"
   },
   {
    "duration": 30,
    "start_time": "2023-09-05T09:49:41.111Z"
   },
   {
    "duration": 22,
    "start_time": "2023-09-05T09:49:41.143Z"
   },
   {
    "duration": 8,
    "start_time": "2023-09-05T09:49:41.167Z"
   },
   {
    "duration": 7,
    "start_time": "2023-09-05T09:49:41.177Z"
   },
   {
    "duration": 8,
    "start_time": "2023-09-05T09:49:41.186Z"
   },
   {
    "duration": 266,
    "start_time": "2023-09-05T09:49:41.195Z"
   },
   {
    "duration": 19,
    "start_time": "2023-09-05T09:49:41.463Z"
   },
   {
    "duration": 8,
    "start_time": "2023-09-05T09:49:41.484Z"
   },
   {
    "duration": 235,
    "start_time": "2023-09-05T09:49:41.493Z"
   },
   {
    "duration": 19,
    "start_time": "2023-09-05T09:49:41.730Z"
   },
   {
    "duration": 7,
    "start_time": "2023-09-05T09:49:41.751Z"
   },
   {
    "duration": 303,
    "start_time": "2023-09-05T09:49:41.762Z"
   },
   {
    "duration": 16,
    "start_time": "2023-09-05T09:49:42.067Z"
   },
   {
    "duration": 253,
    "start_time": "2023-09-05T09:49:42.085Z"
   },
   {
    "duration": 258,
    "start_time": "2023-09-05T09:49:42.339Z"
   },
   {
    "duration": 262,
    "start_time": "2023-09-05T09:49:42.599Z"
   },
   {
    "duration": 237,
    "start_time": "2023-09-05T09:49:42.862Z"
   },
   {
    "duration": 402,
    "start_time": "2023-09-05T09:49:43.101Z"
   },
   {
    "duration": 9,
    "start_time": "2023-09-05T09:49:43.505Z"
   },
   {
    "duration": 21,
    "start_time": "2023-09-05T09:49:43.515Z"
   },
   {
    "duration": 4,
    "start_time": "2023-09-05T09:49:43.538Z"
   },
   {
    "duration": 19,
    "start_time": "2023-09-05T09:49:43.543Z"
   },
   {
    "duration": 12,
    "start_time": "2023-09-05T09:49:43.564Z"
   },
   {
    "duration": 220,
    "start_time": "2023-09-05T09:49:43.578Z"
   },
   {
    "duration": 3,
    "start_time": "2023-09-05T09:49:43.799Z"
   },
   {
    "duration": 5,
    "start_time": "2023-09-05T09:49:43.804Z"
   },
   {
    "duration": 25,
    "start_time": "2023-09-05T09:49:43.811Z"
   },
   {
    "duration": 8,
    "start_time": "2023-09-05T09:49:43.837Z"
   },
   {
    "duration": 11,
    "start_time": "2023-09-05T09:49:43.846Z"
   },
   {
    "duration": 2679,
    "start_time": "2023-09-05T09:49:43.858Z"
   },
   {
    "duration": 3,
    "start_time": "2023-09-05T09:49:46.539Z"
   },
   {
    "duration": 90,
    "start_time": "2023-09-05T09:49:46.544Z"
   },
   {
    "duration": 6,
    "start_time": "2023-09-05T09:49:46.636Z"
   },
   {
    "duration": 294075,
    "start_time": "2023-09-05T09:49:46.644Z"
   },
   {
    "duration": 5,
    "start_time": "2023-09-05T09:54:40.720Z"
   },
   {
    "duration": 5,
    "start_time": "2023-09-05T09:54:40.734Z"
   },
   {
    "duration": 21,
    "start_time": "2023-09-05T09:54:40.740Z"
   },
   {
    "duration": 15,
    "start_time": "2023-09-05T09:54:40.763Z"
   },
   {
    "duration": 43,
    "start_time": "2023-09-05T09:54:40.779Z"
   },
   {
    "duration": 10,
    "start_time": "2023-09-05T09:54:40.824Z"
   },
   {
    "duration": 68,
    "start_time": "2023-09-05T09:54:40.836Z"
   },
   {
    "duration": 7,
    "start_time": "2023-09-05T09:54:40.906Z"
   },
   {
    "duration": 5,
    "start_time": "2023-09-05T09:54:40.914Z"
   },
   {
    "duration": 4,
    "start_time": "2023-09-05T09:54:40.922Z"
   },
   {
    "duration": 4,
    "start_time": "2023-09-05T10:07:43.890Z"
   },
   {
    "duration": 5,
    "start_time": "2023-09-05T10:19:55.283Z"
   },
   {
    "duration": 5,
    "start_time": "2023-09-05T10:29:12.860Z"
   },
   {
    "duration": 5,
    "start_time": "2023-09-05T10:58:56.824Z"
   },
   {
    "duration": 112,
    "start_time": "2023-09-05T10:59:14.701Z"
   },
   {
    "duration": 12,
    "start_time": "2023-09-05T10:59:29.519Z"
   },
   {
    "duration": 8,
    "start_time": "2023-09-05T11:11:44.639Z"
   },
   {
    "duration": 15,
    "start_time": "2023-09-05T11:11:55.968Z"
   },
   {
    "duration": 14,
    "start_time": "2023-09-05T11:12:29.352Z"
   },
   {
    "duration": 12,
    "start_time": "2023-09-05T11:12:44.401Z"
   },
   {
    "duration": 12,
    "start_time": "2023-09-05T11:13:00.520Z"
   },
   {
    "duration": 13,
    "start_time": "2023-09-05T11:13:10.280Z"
   },
   {
    "duration": 121,
    "start_time": "2023-09-05T11:16:54.383Z"
   },
   {
    "duration": 14,
    "start_time": "2023-09-05T11:17:41.519Z"
   },
   {
    "duration": 19,
    "start_time": "2023-09-05T11:19:38.719Z"
   },
   {
    "duration": 5,
    "start_time": "2023-09-05T11:24:56.693Z"
   },
   {
    "duration": 12,
    "start_time": "2023-09-05T11:25:29.209Z"
   },
   {
    "duration": 40168,
    "start_time": "2023-09-05T11:25:41.466Z"
   },
   {
    "duration": 127,
    "start_time": "2023-09-05T11:29:52.321Z"
   },
   {
    "duration": 194,
    "start_time": "2023-09-05T11:30:33.120Z"
   },
   {
    "duration": 15,
    "start_time": "2023-09-05T11:30:51.512Z"
   },
   {
    "duration": 15,
    "start_time": "2023-09-05T11:31:11.955Z"
   },
   {
    "duration": 13,
    "start_time": "2023-09-05T11:38:15.841Z"
   },
   {
    "duration": 127,
    "start_time": "2023-09-05T11:43:39.468Z"
   },
   {
    "duration": 12,
    "start_time": "2023-09-05T11:43:47.834Z"
   },
   {
    "duration": 81,
    "start_time": "2023-09-05T11:47:58.005Z"
   },
   {
    "duration": 3,
    "start_time": "2023-09-05T11:48:19.602Z"
   },
   {
    "duration": 1395,
    "start_time": "2023-09-05T11:48:26.629Z"
   },
   {
    "duration": 809,
    "start_time": "2023-09-05T11:48:28.026Z"
   },
   {
    "duration": 15,
    "start_time": "2023-09-05T11:48:28.837Z"
   },
   {
    "duration": 10,
    "start_time": "2023-09-05T11:48:28.854Z"
   },
   {
    "duration": 14,
    "start_time": "2023-09-05T11:48:28.866Z"
   },
   {
    "duration": 24,
    "start_time": "2023-09-05T11:48:28.882Z"
   },
   {
    "duration": 8,
    "start_time": "2023-09-05T11:48:28.908Z"
   },
   {
    "duration": 12,
    "start_time": "2023-09-05T11:48:28.917Z"
   },
   {
    "duration": 11,
    "start_time": "2023-09-05T11:48:28.930Z"
   },
   {
    "duration": 6,
    "start_time": "2023-09-05T11:48:28.943Z"
   },
   {
    "duration": 20,
    "start_time": "2023-09-05T11:48:28.950Z"
   },
   {
    "duration": 19,
    "start_time": "2023-09-05T11:48:28.972Z"
   },
   {
    "duration": 5,
    "start_time": "2023-09-05T11:48:28.992Z"
   },
   {
    "duration": 6,
    "start_time": "2023-09-05T11:48:28.998Z"
   },
   {
    "duration": 7,
    "start_time": "2023-09-05T11:48:29.006Z"
   },
   {
    "duration": 13,
    "start_time": "2023-09-05T11:48:29.014Z"
   },
   {
    "duration": 14,
    "start_time": "2023-09-05T11:48:29.028Z"
   },
   {
    "duration": 18,
    "start_time": "2023-09-05T11:48:29.044Z"
   },
   {
    "duration": 9,
    "start_time": "2023-09-05T11:48:29.064Z"
   },
   {
    "duration": 7,
    "start_time": "2023-09-05T11:48:29.074Z"
   },
   {
    "duration": 7,
    "start_time": "2023-09-05T11:48:29.083Z"
   },
   {
    "duration": 271,
    "start_time": "2023-09-05T11:48:29.091Z"
   },
   {
    "duration": 20,
    "start_time": "2023-09-05T11:48:29.364Z"
   },
   {
    "duration": 10,
    "start_time": "2023-09-05T11:48:29.385Z"
   },
   {
    "duration": 231,
    "start_time": "2023-09-05T11:48:29.396Z"
   },
   {
    "duration": 20,
    "start_time": "2023-09-05T11:48:29.628Z"
   },
   {
    "duration": 7,
    "start_time": "2023-09-05T11:48:29.650Z"
   },
   {
    "duration": 228,
    "start_time": "2023-09-05T11:48:29.660Z"
   },
   {
    "duration": 17,
    "start_time": "2023-09-05T11:48:29.890Z"
   },
   {
    "duration": 340,
    "start_time": "2023-09-05T11:48:29.909Z"
   },
   {
    "duration": 252,
    "start_time": "2023-09-05T11:48:30.251Z"
   },
   {
    "duration": 243,
    "start_time": "2023-09-05T11:48:30.505Z"
   },
   {
    "duration": 239,
    "start_time": "2023-09-05T11:48:30.749Z"
   },
   {
    "duration": 418,
    "start_time": "2023-09-05T11:48:30.989Z"
   },
   {
    "duration": 7,
    "start_time": "2023-09-05T11:48:31.409Z"
   },
   {
    "duration": 46,
    "start_time": "2023-09-05T11:48:31.418Z"
   },
   {
    "duration": 53,
    "start_time": "2023-09-05T11:48:31.466Z"
   },
   {
    "duration": 52,
    "start_time": "2023-09-05T11:48:31.521Z"
   },
   {
    "duration": 58,
    "start_time": "2023-09-05T11:48:31.574Z"
   },
   {
    "duration": 336,
    "start_time": "2023-09-05T11:48:31.634Z"
   },
   {
    "duration": 3,
    "start_time": "2023-09-05T11:48:31.972Z"
   },
   {
    "duration": 33,
    "start_time": "2023-09-05T11:48:31.976Z"
   },
   {
    "duration": 40,
    "start_time": "2023-09-05T11:48:32.011Z"
   },
   {
    "duration": 22,
    "start_time": "2023-09-05T11:48:32.052Z"
   },
   {
    "duration": 45,
    "start_time": "2023-09-05T11:48:32.076Z"
   },
   {
    "duration": 2719,
    "start_time": "2023-09-05T11:48:32.123Z"
   },
   {
    "duration": 95,
    "start_time": "2023-09-05T11:48:34.844Z"
   },
   {
    "duration": 0,
    "start_time": "2023-09-05T11:48:34.941Z"
   },
   {
    "duration": 0,
    "start_time": "2023-09-05T11:48:34.942Z"
   },
   {
    "duration": 0,
    "start_time": "2023-09-05T11:48:34.943Z"
   },
   {
    "duration": 0,
    "start_time": "2023-09-05T11:48:34.945Z"
   },
   {
    "duration": 0,
    "start_time": "2023-09-05T11:48:34.947Z"
   },
   {
    "duration": 0,
    "start_time": "2023-09-05T11:48:34.948Z"
   },
   {
    "duration": 0,
    "start_time": "2023-09-05T11:48:34.949Z"
   },
   {
    "duration": 0,
    "start_time": "2023-09-05T11:48:34.950Z"
   },
   {
    "duration": 0,
    "start_time": "2023-09-05T11:48:34.951Z"
   },
   {
    "duration": 0,
    "start_time": "2023-09-05T11:48:34.953Z"
   },
   {
    "duration": 0,
    "start_time": "2023-09-05T11:48:34.954Z"
   },
   {
    "duration": 0,
    "start_time": "2023-09-05T11:48:34.955Z"
   },
   {
    "duration": 0,
    "start_time": "2023-09-05T11:48:34.957Z"
   },
   {
    "duration": 96,
    "start_time": "2023-09-05T11:48:56.108Z"
   },
   {
    "duration": 2649,
    "start_time": "2023-09-05T11:49:26.071Z"
   },
   {
    "duration": 2585,
    "start_time": "2023-09-05T12:13:09.157Z"
   },
   {
    "duration": 2501,
    "start_time": "2023-09-05T12:13:38.535Z"
   },
   {
    "duration": 31,
    "start_time": "2023-09-05T12:14:38.400Z"
   },
   {
    "duration": 12,
    "start_time": "2023-09-05T12:19:41.323Z"
   },
   {
    "duration": 14,
    "start_time": "2023-09-05T12:20:19.525Z"
   },
   {
    "duration": 31,
    "start_time": "2023-09-05T12:21:17.418Z"
   },
   {
    "duration": 46,
    "start_time": "2023-09-05T12:22:08.672Z"
   },
   {
    "duration": 30,
    "start_time": "2023-09-05T12:24:37.717Z"
   },
   {
    "duration": 31,
    "start_time": "2023-09-05T12:24:55.138Z"
   },
   {
    "duration": 28,
    "start_time": "2023-09-05T12:25:40.888Z"
   },
   {
    "duration": 15,
    "start_time": "2023-09-05T12:27:20.398Z"
   },
   {
    "duration": 12,
    "start_time": "2023-09-05T12:32:52.084Z"
   },
   {
    "duration": 16,
    "start_time": "2023-09-05T12:33:34.063Z"
   },
   {
    "duration": 23,
    "start_time": "2023-09-05T12:33:45.495Z"
   },
   {
    "duration": 15,
    "start_time": "2023-09-05T12:34:38.493Z"
   },
   {
    "duration": 4,
    "start_time": "2023-09-05T12:47:24.658Z"
   },
   {
    "duration": 4,
    "start_time": "2023-09-05T12:47:31.861Z"
   },
   {
    "duration": 2,
    "start_time": "2023-09-05T12:47:33.105Z"
   },
   {
    "duration": 4,
    "start_time": "2023-09-05T12:49:00.713Z"
   },
   {
    "duration": 3,
    "start_time": "2023-09-05T12:49:01.649Z"
   },
   {
    "duration": 10,
    "start_time": "2023-09-05T12:49:02.388Z"
   },
   {
    "duration": 12,
    "start_time": "2023-09-05T12:58:56.810Z"
   },
   {
    "duration": 4,
    "start_time": "2023-09-05T12:59:32.921Z"
   },
   {
    "duration": 10,
    "start_time": "2023-09-05T12:59:46.664Z"
   },
   {
    "duration": 22,
    "start_time": "2023-09-05T12:59:57.719Z"
   },
   {
    "duration": 260,
    "start_time": "2023-09-05T13:01:58.061Z"
   },
   {
    "duration": 1598,
    "start_time": "2023-09-05T13:02:50.138Z"
   },
   {
    "duration": 837,
    "start_time": "2023-09-05T13:02:51.738Z"
   },
   {
    "duration": 17,
    "start_time": "2023-09-05T13:02:52.576Z"
   },
   {
    "duration": 34,
    "start_time": "2023-09-05T13:02:52.595Z"
   },
   {
    "duration": 24,
    "start_time": "2023-09-05T13:02:52.631Z"
   },
   {
    "duration": 11,
    "start_time": "2023-09-05T13:02:52.657Z"
   },
   {
    "duration": 25,
    "start_time": "2023-09-05T13:02:52.670Z"
   },
   {
    "duration": 42,
    "start_time": "2023-09-05T13:02:52.697Z"
   },
   {
    "duration": 22,
    "start_time": "2023-09-05T13:02:52.740Z"
   },
   {
    "duration": 15,
    "start_time": "2023-09-05T13:02:52.765Z"
   },
   {
    "duration": 14,
    "start_time": "2023-09-05T13:02:52.787Z"
   },
   {
    "duration": 32,
    "start_time": "2023-09-05T13:02:52.803Z"
   },
   {
    "duration": 21,
    "start_time": "2023-09-05T13:02:52.837Z"
   },
   {
    "duration": 9,
    "start_time": "2023-09-05T13:02:52.860Z"
   },
   {
    "duration": 12,
    "start_time": "2023-09-05T13:02:52.870Z"
   },
   {
    "duration": 32,
    "start_time": "2023-09-05T13:02:52.883Z"
   },
   {
    "duration": 12,
    "start_time": "2023-09-05T13:02:52.916Z"
   },
   {
    "duration": 29,
    "start_time": "2023-09-05T13:02:52.929Z"
   },
   {
    "duration": 10,
    "start_time": "2023-09-05T13:02:52.959Z"
   },
   {
    "duration": 13,
    "start_time": "2023-09-05T13:02:52.971Z"
   },
   {
    "duration": 19,
    "start_time": "2023-09-05T13:02:52.985Z"
   },
   {
    "duration": 259,
    "start_time": "2023-09-05T13:02:53.006Z"
   },
   {
    "duration": 20,
    "start_time": "2023-09-05T13:02:53.266Z"
   },
   {
    "duration": 13,
    "start_time": "2023-09-05T13:02:53.288Z"
   },
   {
    "duration": 217,
    "start_time": "2023-09-05T13:02:53.303Z"
   },
   {
    "duration": 23,
    "start_time": "2023-09-05T13:02:53.521Z"
   },
   {
    "duration": 8,
    "start_time": "2023-09-05T13:02:53.546Z"
   },
   {
    "duration": 233,
    "start_time": "2023-09-05T13:02:53.557Z"
   },
   {
    "duration": 18,
    "start_time": "2023-09-05T13:02:53.791Z"
   },
   {
    "duration": 342,
    "start_time": "2023-09-05T13:02:53.810Z"
   },
   {
    "duration": 240,
    "start_time": "2023-09-05T13:02:54.154Z"
   },
   {
    "duration": 270,
    "start_time": "2023-09-05T13:02:54.395Z"
   },
   {
    "duration": 273,
    "start_time": "2023-09-05T13:02:54.667Z"
   },
   {
    "duration": 428,
    "start_time": "2023-09-05T13:02:54.942Z"
   },
   {
    "duration": 8,
    "start_time": "2023-09-05T13:02:55.371Z"
   },
   {
    "duration": 44,
    "start_time": "2023-09-05T13:02:55.381Z"
   },
   {
    "duration": 15,
    "start_time": "2023-09-05T13:02:55.427Z"
   },
   {
    "duration": 143,
    "start_time": "2023-09-05T13:02:55.444Z"
   },
   {
    "duration": 16,
    "start_time": "2023-09-05T13:02:55.588Z"
   },
   {
    "duration": 239,
    "start_time": "2023-09-05T13:02:55.606Z"
   },
   {
    "duration": 3,
    "start_time": "2023-09-05T13:02:55.846Z"
   },
   {
    "duration": 35,
    "start_time": "2023-09-05T13:02:55.850Z"
   },
   {
    "duration": 57,
    "start_time": "2023-09-05T13:02:55.887Z"
   },
   {
    "duration": 101,
    "start_time": "2023-09-05T13:02:55.945Z"
   },
   {
    "duration": 58,
    "start_time": "2023-09-05T13:02:56.048Z"
   },
   {
    "duration": 2729,
    "start_time": "2023-09-05T13:02:56.108Z"
   },
   {
    "duration": 158,
    "start_time": "2023-09-05T13:02:58.839Z"
   },
   {
    "duration": 0,
    "start_time": "2023-09-05T13:02:58.999Z"
   },
   {
    "duration": 0,
    "start_time": "2023-09-05T13:02:59.001Z"
   },
   {
    "duration": 0,
    "start_time": "2023-09-05T13:02:59.002Z"
   },
   {
    "duration": 0,
    "start_time": "2023-09-05T13:02:59.003Z"
   },
   {
    "duration": 0,
    "start_time": "2023-09-05T13:02:59.004Z"
   },
   {
    "duration": 0,
    "start_time": "2023-09-05T13:02:59.006Z"
   },
   {
    "duration": 0,
    "start_time": "2023-09-05T13:02:59.007Z"
   },
   {
    "duration": 1,
    "start_time": "2023-09-05T13:02:59.008Z"
   },
   {
    "duration": 0,
    "start_time": "2023-09-05T13:02:59.011Z"
   },
   {
    "duration": 0,
    "start_time": "2023-09-05T13:02:59.012Z"
   },
   {
    "duration": 0,
    "start_time": "2023-09-05T13:02:59.037Z"
   },
   {
    "duration": 0,
    "start_time": "2023-09-05T13:02:59.039Z"
   },
   {
    "duration": 0,
    "start_time": "2023-09-05T13:02:59.040Z"
   },
   {
    "duration": 0,
    "start_time": "2023-09-05T13:02:59.041Z"
   },
   {
    "duration": 0,
    "start_time": "2023-09-05T13:02:59.043Z"
   },
   {
    "duration": 0,
    "start_time": "2023-09-05T13:02:59.050Z"
   },
   {
    "duration": 0,
    "start_time": "2023-09-05T13:02:59.051Z"
   },
   {
    "duration": 4,
    "start_time": "2023-09-05T13:03:25.268Z"
   },
   {
    "duration": 2,
    "start_time": "2023-09-05T13:03:26.029Z"
   },
   {
    "duration": 251,
    "start_time": "2023-09-05T13:03:26.984Z"
   },
   {
    "duration": 247,
    "start_time": "2023-09-05T13:05:55.195Z"
   },
   {
    "duration": 1823,
    "start_time": "2023-09-05T20:09:41.951Z"
   },
   {
    "duration": 3241,
    "start_time": "2023-09-05T20:09:43.776Z"
   },
   {
    "duration": 37,
    "start_time": "2023-09-05T20:09:47.018Z"
   },
   {
    "duration": 13,
    "start_time": "2023-09-05T20:09:47.057Z"
   },
   {
    "duration": 18,
    "start_time": "2023-09-05T20:09:47.073Z"
   },
   {
    "duration": 51,
    "start_time": "2023-09-05T20:09:47.094Z"
   },
   {
    "duration": 2,
    "start_time": "2023-09-05T20:09:47.150Z"
   },
   {
    "duration": 20,
    "start_time": "2023-09-05T20:09:47.154Z"
   },
   {
    "duration": 10,
    "start_time": "2023-09-05T20:09:47.176Z"
   },
   {
    "duration": 20,
    "start_time": "2023-09-05T20:09:47.187Z"
   },
   {
    "duration": 41,
    "start_time": "2023-09-05T20:09:47.209Z"
   },
   {
    "duration": 22,
    "start_time": "2023-09-05T20:09:47.252Z"
   },
   {
    "duration": 20,
    "start_time": "2023-09-05T20:09:47.276Z"
   },
   {
    "duration": 15,
    "start_time": "2023-09-05T20:09:47.299Z"
   },
   {
    "duration": 59,
    "start_time": "2023-09-05T20:09:47.315Z"
   },
   {
    "duration": 28,
    "start_time": "2023-09-05T20:09:47.375Z"
   },
   {
    "duration": 10,
    "start_time": "2023-09-05T20:09:47.405Z"
   },
   {
    "duration": 41,
    "start_time": "2023-09-05T20:09:47.417Z"
   },
   {
    "duration": 10,
    "start_time": "2023-09-05T20:09:47.459Z"
   },
   {
    "duration": 19,
    "start_time": "2023-09-05T20:09:47.470Z"
   },
   {
    "duration": 16,
    "start_time": "2023-09-05T20:09:47.491Z"
   },
   {
    "duration": 366,
    "start_time": "2023-09-05T20:09:47.508Z"
   },
   {
    "duration": 21,
    "start_time": "2023-09-05T20:09:47.875Z"
   },
   {
    "duration": 78,
    "start_time": "2023-09-05T20:09:47.898Z"
   },
   {
    "duration": 240,
    "start_time": "2023-09-05T20:09:47.978Z"
   },
   {
    "duration": 30,
    "start_time": "2023-09-05T20:09:48.219Z"
   },
   {
    "duration": 13,
    "start_time": "2023-09-05T20:09:48.250Z"
   },
   {
    "duration": 352,
    "start_time": "2023-09-05T20:09:48.264Z"
   },
   {
    "duration": 30,
    "start_time": "2023-09-05T20:09:48.618Z"
   },
   {
    "duration": 314,
    "start_time": "2023-09-05T20:09:48.650Z"
   },
   {
    "duration": 308,
    "start_time": "2023-09-05T20:09:48.966Z"
   },
   {
    "duration": 305,
    "start_time": "2023-09-05T20:09:49.276Z"
   },
   {
    "duration": 308,
    "start_time": "2023-09-05T20:09:49.583Z"
   },
   {
    "duration": 551,
    "start_time": "2023-09-05T20:09:49.893Z"
   },
   {
    "duration": 15,
    "start_time": "2023-09-05T20:09:50.453Z"
   },
   {
    "duration": 11,
    "start_time": "2023-09-05T20:09:50.469Z"
   },
   {
    "duration": 5,
    "start_time": "2023-09-05T20:09:50.482Z"
   },
   {
    "duration": 18,
    "start_time": "2023-09-05T20:09:50.489Z"
   },
   {
    "duration": 22,
    "start_time": "2023-09-05T20:09:50.509Z"
   },
   {
    "duration": 274,
    "start_time": "2023-09-05T20:09:50.533Z"
   },
   {
    "duration": 17,
    "start_time": "2023-09-05T20:09:50.825Z"
   },
   {
    "duration": 5,
    "start_time": "2023-09-05T20:09:50.854Z"
   },
   {
    "duration": 15,
    "start_time": "2023-09-05T20:09:50.862Z"
   },
   {
    "duration": 9,
    "start_time": "2023-09-05T20:09:50.879Z"
   },
   {
    "duration": 7,
    "start_time": "2023-09-05T20:09:50.890Z"
   },
   {
    "duration": 5948,
    "start_time": "2023-09-05T20:09:50.899Z"
   },
   {
    "duration": 224,
    "start_time": "2023-09-05T20:09:56.852Z"
   },
   {
    "duration": 0,
    "start_time": "2023-09-05T20:09:57.077Z"
   },
   {
    "duration": 0,
    "start_time": "2023-09-05T20:09:57.079Z"
   },
   {
    "duration": 0,
    "start_time": "2023-09-05T20:09:57.080Z"
   },
   {
    "duration": 0,
    "start_time": "2023-09-05T20:09:57.081Z"
   },
   {
    "duration": 0,
    "start_time": "2023-09-05T20:09:57.082Z"
   },
   {
    "duration": 0,
    "start_time": "2023-09-05T20:09:57.084Z"
   },
   {
    "duration": 0,
    "start_time": "2023-09-05T20:09:57.086Z"
   },
   {
    "duration": 0,
    "start_time": "2023-09-05T20:09:57.087Z"
   },
   {
    "duration": 0,
    "start_time": "2023-09-05T20:09:57.088Z"
   },
   {
    "duration": 0,
    "start_time": "2023-09-05T20:09:57.089Z"
   },
   {
    "duration": 0,
    "start_time": "2023-09-05T20:09:57.090Z"
   },
   {
    "duration": 0,
    "start_time": "2023-09-05T20:09:57.091Z"
   },
   {
    "duration": 0,
    "start_time": "2023-09-05T20:09:57.093Z"
   },
   {
    "duration": 0,
    "start_time": "2023-09-05T20:09:57.094Z"
   },
   {
    "duration": 0,
    "start_time": "2023-09-05T20:09:57.096Z"
   },
   {
    "duration": 0,
    "start_time": "2023-09-05T20:09:57.124Z"
   },
   {
    "duration": 0,
    "start_time": "2023-09-05T20:09:57.125Z"
   },
   {
    "duration": 0,
    "start_time": "2023-09-05T20:09:57.126Z"
   },
   {
    "duration": 3,
    "start_time": "2023-09-05T20:10:15.378Z"
   },
   {
    "duration": 3,
    "start_time": "2023-09-05T20:10:16.209Z"
   },
   {
    "duration": 4,
    "start_time": "2023-09-05T20:10:16.953Z"
   },
   {
    "duration": 3,
    "start_time": "2023-09-05T20:10:19.091Z"
   },
   {
    "duration": 125,
    "start_time": "2023-09-05T20:10:26.233Z"
   },
   {
    "duration": 13,
    "start_time": "2023-09-05T20:10:41.659Z"
   },
   {
    "duration": 31,
    "start_time": "2023-09-05T20:11:23.783Z"
   },
   {
    "duration": 3,
    "start_time": "2023-09-05T20:12:04.011Z"
   },
   {
    "duration": 7,
    "start_time": "2023-09-05T20:12:05.889Z"
   },
   {
    "duration": 28,
    "start_time": "2023-09-05T20:12:08.380Z"
   },
   {
    "duration": 4,
    "start_time": "2023-09-05T20:18:26.197Z"
   },
   {
    "duration": 4,
    "start_time": "2023-09-05T20:18:27.853Z"
   },
   {
    "duration": 13,
    "start_time": "2023-09-05T20:21:20.963Z"
   },
   {
    "duration": 15,
    "start_time": "2023-09-05T20:23:34.249Z"
   },
   {
    "duration": 95,
    "start_time": "2023-09-05T20:28:38.961Z"
   },
   {
    "duration": 18,
    "start_time": "2023-09-05T20:29:14.012Z"
   },
   {
    "duration": 5,
    "start_time": "2023-09-05T20:34:30.061Z"
   },
   {
    "duration": 5,
    "start_time": "2023-09-05T20:51:15.666Z"
   },
   {
    "duration": 35,
    "start_time": "2023-09-05T20:51:20.616Z"
   },
   {
    "duration": 3,
    "start_time": "2023-09-05T20:51:29.471Z"
   },
   {
    "duration": 12,
    "start_time": "2023-09-05T20:51:32.968Z"
   },
   {
    "duration": 47,
    "start_time": "2023-09-05T20:51:56.608Z"
   },
   {
    "duration": 25,
    "start_time": "2023-09-05T20:52:31.797Z"
   },
   {
    "duration": 106,
    "start_time": "2023-09-05T20:54:02.271Z"
   },
   {
    "duration": 28,
    "start_time": "2023-09-05T20:54:12.501Z"
   },
   {
    "duration": 7,
    "start_time": "2023-09-05T20:54:43.629Z"
   },
   {
    "duration": 3,
    "start_time": "2023-09-05T20:54:44.545Z"
   },
   {
    "duration": 47902,
    "start_time": "2023-09-05T20:54:45.624Z"
   },
   {
    "duration": 47687,
    "start_time": "2023-09-05T20:56:37.181Z"
   },
   {
    "duration": 10,
    "start_time": "2023-09-05T21:09:18.067Z"
   },
   {
    "duration": 12,
    "start_time": "2023-09-05T21:09:49.886Z"
   },
   {
    "duration": 4,
    "start_time": "2023-09-05T21:09:58.683Z"
   },
   {
    "duration": 4,
    "start_time": "2023-09-05T21:10:41.373Z"
   },
   {
    "duration": 4,
    "start_time": "2023-09-05T21:10:55.915Z"
   },
   {
    "duration": 12,
    "start_time": "2023-09-05T21:11:26.966Z"
   },
   {
    "duration": 3,
    "start_time": "2023-09-05T21:12:18.963Z"
   },
   {
    "duration": 15,
    "start_time": "2023-09-05T21:12:22.762Z"
   },
   {
    "duration": 14,
    "start_time": "2023-09-05T21:13:46.571Z"
   },
   {
    "duration": 5,
    "start_time": "2023-09-05T21:16:56.104Z"
   },
   {
    "duration": 3,
    "start_time": "2023-09-05T21:16:57.657Z"
   },
   {
    "duration": 47426,
    "start_time": "2023-09-05T21:16:58.425Z"
   },
   {
    "duration": 4,
    "start_time": "2023-09-05T21:19:23.511Z"
   },
   {
    "duration": 3,
    "start_time": "2023-09-05T21:19:36.318Z"
   },
   {
    "duration": 1806,
    "start_time": "2023-09-05T21:19:45.028Z"
   },
   {
    "duration": 1473,
    "start_time": "2023-09-06T12:32:13.110Z"
   },
   {
    "duration": 934,
    "start_time": "2023-09-06T12:32:14.591Z"
   },
   {
    "duration": 29,
    "start_time": "2023-09-06T12:32:15.526Z"
   },
   {
    "duration": 20,
    "start_time": "2023-09-06T12:32:15.558Z"
   },
   {
    "duration": 27,
    "start_time": "2023-09-06T12:32:15.580Z"
   },
   {
    "duration": 14,
    "start_time": "2023-09-06T12:32:15.609Z"
   },
   {
    "duration": 2,
    "start_time": "2023-09-06T12:32:15.625Z"
   },
   {
    "duration": 3,
    "start_time": "2023-09-06T12:32:15.655Z"
   },
   {
    "duration": 14,
    "start_time": "2023-09-06T12:32:15.661Z"
   },
   {
    "duration": 17,
    "start_time": "2023-09-06T12:32:15.679Z"
   },
   {
    "duration": 9,
    "start_time": "2023-09-06T12:32:15.698Z"
   },
   {
    "duration": 20,
    "start_time": "2023-09-06T12:32:15.709Z"
   },
   {
    "duration": 6,
    "start_time": "2023-09-06T12:32:15.730Z"
   },
   {
    "duration": 8,
    "start_time": "2023-09-06T12:32:15.737Z"
   },
   {
    "duration": 20,
    "start_time": "2023-09-06T12:32:15.747Z"
   },
   {
    "duration": 21,
    "start_time": "2023-09-06T12:32:15.768Z"
   },
   {
    "duration": 13,
    "start_time": "2023-09-06T12:32:15.794Z"
   },
   {
    "duration": 20,
    "start_time": "2023-09-06T12:32:15.810Z"
   },
   {
    "duration": 30,
    "start_time": "2023-09-06T12:32:15.832Z"
   },
   {
    "duration": 35,
    "start_time": "2023-09-06T12:32:15.864Z"
   },
   {
    "duration": 11,
    "start_time": "2023-09-06T12:32:15.902Z"
   },
   {
    "duration": 317,
    "start_time": "2023-09-06T12:32:15.915Z"
   },
   {
    "duration": 32,
    "start_time": "2023-09-06T12:32:16.233Z"
   },
   {
    "duration": 48,
    "start_time": "2023-09-06T12:32:16.268Z"
   },
   {
    "duration": 349,
    "start_time": "2023-09-06T12:32:16.319Z"
   },
   {
    "duration": 43,
    "start_time": "2023-09-06T12:32:16.670Z"
   },
   {
    "duration": 9,
    "start_time": "2023-09-06T12:32:16.714Z"
   },
   {
    "duration": 292,
    "start_time": "2023-09-06T12:32:16.728Z"
   },
   {
    "duration": 43,
    "start_time": "2023-09-06T12:32:17.022Z"
   },
   {
    "duration": 352,
    "start_time": "2023-09-06T12:32:17.075Z"
   },
   {
    "duration": 291,
    "start_time": "2023-09-06T12:32:17.429Z"
   },
   {
    "duration": 281,
    "start_time": "2023-09-06T12:32:17.721Z"
   },
   {
    "duration": 312,
    "start_time": "2023-09-06T12:32:18.004Z"
   },
   {
    "duration": 491,
    "start_time": "2023-09-06T12:32:18.318Z"
   },
   {
    "duration": 9,
    "start_time": "2023-09-06T12:32:18.810Z"
   },
   {
    "duration": 47,
    "start_time": "2023-09-06T12:32:18.820Z"
   },
   {
    "duration": 8,
    "start_time": "2023-09-06T12:32:18.876Z"
   },
   {
    "duration": 10,
    "start_time": "2023-09-06T12:32:18.886Z"
   },
   {
    "duration": 6,
    "start_time": "2023-09-06T12:32:18.897Z"
   },
   {
    "duration": 247,
    "start_time": "2023-09-06T12:32:18.904Z"
   },
   {
    "duration": 17,
    "start_time": "2023-09-06T12:32:19.158Z"
   },
   {
    "duration": 14,
    "start_time": "2023-09-06T12:32:19.180Z"
   },
   {
    "duration": 23,
    "start_time": "2023-09-06T12:32:19.197Z"
   },
   {
    "duration": 8,
    "start_time": "2023-09-06T12:32:19.222Z"
   },
   {
    "duration": 19,
    "start_time": "2023-09-06T12:32:19.231Z"
   },
   {
    "duration": 7444,
    "start_time": "2023-09-06T12:32:19.252Z"
   },
   {
    "duration": 231,
    "start_time": "2023-09-06T12:32:26.706Z"
   },
   {
    "duration": 0,
    "start_time": "2023-09-06T12:32:26.940Z"
   },
   {
    "duration": 0,
    "start_time": "2023-09-06T12:32:26.941Z"
   },
   {
    "duration": 1,
    "start_time": "2023-09-06T12:32:26.954Z"
   },
   {
    "duration": 0,
    "start_time": "2023-09-06T12:32:26.959Z"
   },
   {
    "duration": 0,
    "start_time": "2023-09-06T12:32:26.959Z"
   },
   {
    "duration": 0,
    "start_time": "2023-09-06T12:32:26.960Z"
   },
   {
    "duration": 0,
    "start_time": "2023-09-06T12:32:26.961Z"
   },
   {
    "duration": 0,
    "start_time": "2023-09-06T12:32:26.962Z"
   },
   {
    "duration": 0,
    "start_time": "2023-09-06T12:32:26.964Z"
   },
   {
    "duration": 0,
    "start_time": "2023-09-06T12:32:26.971Z"
   },
   {
    "duration": 0,
    "start_time": "2023-09-06T12:32:26.973Z"
   },
   {
    "duration": 0,
    "start_time": "2023-09-06T12:32:26.975Z"
   },
   {
    "duration": 0,
    "start_time": "2023-09-06T12:32:26.984Z"
   },
   {
    "duration": 0,
    "start_time": "2023-09-06T12:32:26.986Z"
   },
   {
    "duration": 0,
    "start_time": "2023-09-06T12:32:26.989Z"
   },
   {
    "duration": 0,
    "start_time": "2023-09-06T12:32:26.991Z"
   },
   {
    "duration": 0,
    "start_time": "2023-09-06T12:32:26.993Z"
   },
   {
    "duration": 0,
    "start_time": "2023-09-06T12:32:27.001Z"
   },
   {
    "duration": 0,
    "start_time": "2023-09-06T12:32:27.002Z"
   },
   {
    "duration": 9,
    "start_time": "2023-09-06T12:32:34.497Z"
   },
   {
    "duration": 2,
    "start_time": "2023-09-06T12:32:35.137Z"
   },
   {
    "duration": 4,
    "start_time": "2023-09-06T12:32:35.792Z"
   },
   {
    "duration": 9,
    "start_time": "2023-09-06T12:32:36.483Z"
   },
   {
    "duration": 8157,
    "start_time": "2023-09-06T12:32:37.169Z"
   },
   {
    "duration": 8275,
    "start_time": "2023-09-06T12:33:01.092Z"
   },
   {
    "duration": 8026,
    "start_time": "2023-09-06T12:35:01.776Z"
   },
   {
    "duration": 8424,
    "start_time": "2023-09-06T12:35:26.697Z"
   },
   {
    "duration": 10,
    "start_time": "2023-09-06T12:38:03.894Z"
   },
   {
    "duration": 5,
    "start_time": "2023-09-06T12:38:29.236Z"
   },
   {
    "duration": 3,
    "start_time": "2023-09-06T12:38:59.916Z"
   },
   {
    "duration": 13,
    "start_time": "2023-09-06T12:39:01.572Z"
   },
   {
    "duration": 47,
    "start_time": "2023-09-06T12:39:02.534Z"
   },
   {
    "duration": 7,
    "start_time": "2023-09-06T12:44:10.700Z"
   },
   {
    "duration": 6,
    "start_time": "2023-09-06T12:45:07.579Z"
   },
   {
    "duration": 138,
    "start_time": "2023-09-06T12:50:20.799Z"
   },
   {
    "duration": 22,
    "start_time": "2023-09-06T12:53:36.679Z"
   },
   {
    "duration": 8,
    "start_time": "2023-09-06T12:55:12.569Z"
   },
   {
    "duration": 12,
    "start_time": "2023-09-06T12:55:12.582Z"
   },
   {
    "duration": 5,
    "start_time": "2023-09-06T12:55:13.531Z"
   },
   {
    "duration": 56,
    "start_time": "2023-09-06T12:55:13.539Z"
   },
   {
    "duration": 6,
    "start_time": "2023-09-06T13:06:26.430Z"
   },
   {
    "duration": 3,
    "start_time": "2023-09-06T13:06:27.222Z"
   },
   {
    "duration": 4,
    "start_time": "2023-09-06T13:06:28.043Z"
   },
   {
    "duration": 20,
    "start_time": "2023-09-06T13:06:29.319Z"
   },
   {
    "duration": 30,
    "start_time": "2023-09-06T13:06:57.581Z"
   },
   {
    "duration": 33,
    "start_time": "2023-09-06T13:07:11.444Z"
   },
   {
    "duration": 20,
    "start_time": "2023-09-06T13:07:32.681Z"
   },
   {
    "duration": 30,
    "start_time": "2023-09-06T13:08:03.570Z"
   },
   {
    "duration": 27,
    "start_time": "2023-09-06T13:08:41.606Z"
   },
   {
    "duration": 1381,
    "start_time": "2023-09-06T13:16:22.846Z"
   },
   {
    "duration": 871,
    "start_time": "2023-09-06T13:16:24.229Z"
   },
   {
    "duration": 19,
    "start_time": "2023-09-06T13:16:25.102Z"
   },
   {
    "duration": 51,
    "start_time": "2023-09-06T13:16:25.122Z"
   },
   {
    "duration": 49,
    "start_time": "2023-09-06T13:16:25.175Z"
   },
   {
    "duration": 30,
    "start_time": "2023-09-06T13:16:25.225Z"
   },
   {
    "duration": 14,
    "start_time": "2023-09-06T13:16:25.257Z"
   },
   {
    "duration": 26,
    "start_time": "2023-09-06T13:16:25.272Z"
   },
   {
    "duration": 40,
    "start_time": "2023-09-06T13:16:25.300Z"
   },
   {
    "duration": 42,
    "start_time": "2023-09-06T13:16:25.342Z"
   },
   {
    "duration": 24,
    "start_time": "2023-09-06T13:16:25.386Z"
   },
   {
    "duration": 37,
    "start_time": "2023-09-06T13:16:25.412Z"
   },
   {
    "duration": 44,
    "start_time": "2023-09-06T13:16:25.450Z"
   },
   {
    "duration": 32,
    "start_time": "2023-09-06T13:16:25.496Z"
   },
   {
    "duration": 31,
    "start_time": "2023-09-06T13:16:25.529Z"
   },
   {
    "duration": 29,
    "start_time": "2023-09-06T13:16:25.561Z"
   },
   {
    "duration": 20,
    "start_time": "2023-09-06T13:16:25.592Z"
   },
   {
    "duration": 38,
    "start_time": "2023-09-06T13:16:25.614Z"
   },
   {
    "duration": 14,
    "start_time": "2023-09-06T13:16:25.653Z"
   },
   {
    "duration": 15,
    "start_time": "2023-09-06T13:16:25.668Z"
   },
   {
    "duration": 30,
    "start_time": "2023-09-06T13:16:25.685Z"
   },
   {
    "duration": 258,
    "start_time": "2023-09-06T13:16:25.716Z"
   },
   {
    "duration": 22,
    "start_time": "2023-09-06T13:16:25.976Z"
   },
   {
    "duration": 122,
    "start_time": "2023-09-06T13:16:26.000Z"
   },
   {
    "duration": 254,
    "start_time": "2023-09-06T13:16:26.124Z"
   },
   {
    "duration": 17,
    "start_time": "2023-09-06T13:16:26.380Z"
   },
   {
    "duration": 15,
    "start_time": "2023-09-06T13:16:26.398Z"
   },
   {
    "duration": 250,
    "start_time": "2023-09-06T13:16:26.414Z"
   },
   {
    "duration": 19,
    "start_time": "2023-09-06T13:16:26.666Z"
   },
   {
    "duration": 333,
    "start_time": "2023-09-06T13:16:26.686Z"
   },
   {
    "duration": 250,
    "start_time": "2023-09-06T13:16:27.021Z"
   },
   {
    "duration": 245,
    "start_time": "2023-09-06T13:16:27.272Z"
   },
   {
    "duration": 232,
    "start_time": "2023-09-06T13:16:27.518Z"
   },
   {
    "duration": 373,
    "start_time": "2023-09-06T13:16:27.751Z"
   },
   {
    "duration": 8,
    "start_time": "2023-09-06T13:16:28.125Z"
   },
   {
    "duration": 26,
    "start_time": "2023-09-06T13:16:28.134Z"
   },
   {
    "duration": 24,
    "start_time": "2023-09-06T13:16:28.162Z"
   },
   {
    "duration": 42,
    "start_time": "2023-09-06T13:16:28.188Z"
   },
   {
    "duration": 38,
    "start_time": "2023-09-06T13:16:28.232Z"
   },
   {
    "duration": 243,
    "start_time": "2023-09-06T13:16:28.272Z"
   },
   {
    "duration": 3,
    "start_time": "2023-09-06T13:16:28.519Z"
   },
   {
    "duration": 32,
    "start_time": "2023-09-06T13:16:28.524Z"
   },
   {
    "duration": 24,
    "start_time": "2023-09-06T13:16:28.557Z"
   },
   {
    "duration": 11,
    "start_time": "2023-09-06T13:16:28.583Z"
   },
   {
    "duration": 26,
    "start_time": "2023-09-06T13:16:28.595Z"
   },
   {
    "duration": 2642,
    "start_time": "2023-09-06T13:16:28.622Z"
   },
   {
    "duration": 128,
    "start_time": "2023-09-06T13:16:31.266Z"
   },
   {
    "duration": 0,
    "start_time": "2023-09-06T13:16:31.396Z"
   },
   {
    "duration": 0,
    "start_time": "2023-09-06T13:16:31.397Z"
   },
   {
    "duration": 0,
    "start_time": "2023-09-06T13:16:31.398Z"
   },
   {
    "duration": 1,
    "start_time": "2023-09-06T13:16:31.398Z"
   },
   {
    "duration": 0,
    "start_time": "2023-09-06T13:16:31.400Z"
   },
   {
    "duration": 0,
    "start_time": "2023-09-06T13:16:31.401Z"
   },
   {
    "duration": 0,
    "start_time": "2023-09-06T13:16:31.402Z"
   },
   {
    "duration": 0,
    "start_time": "2023-09-06T13:16:31.402Z"
   },
   {
    "duration": 0,
    "start_time": "2023-09-06T13:16:31.403Z"
   },
   {
    "duration": 0,
    "start_time": "2023-09-06T13:16:31.450Z"
   },
   {
    "duration": 0,
    "start_time": "2023-09-06T13:16:31.451Z"
   },
   {
    "duration": 0,
    "start_time": "2023-09-06T13:16:31.452Z"
   },
   {
    "duration": 0,
    "start_time": "2023-09-06T13:16:31.453Z"
   },
   {
    "duration": 0,
    "start_time": "2023-09-06T13:16:31.454Z"
   },
   {
    "duration": 0,
    "start_time": "2023-09-06T13:16:31.455Z"
   },
   {
    "duration": 0,
    "start_time": "2023-09-06T13:16:31.456Z"
   },
   {
    "duration": 0,
    "start_time": "2023-09-06T13:16:31.458Z"
   },
   {
    "duration": 0,
    "start_time": "2023-09-06T13:16:31.460Z"
   },
   {
    "duration": 0,
    "start_time": "2023-09-06T13:16:31.461Z"
   },
   {
    "duration": 0,
    "start_time": "2023-09-06T13:16:31.463Z"
   },
   {
    "duration": 3,
    "start_time": "2023-09-06T13:16:37.249Z"
   },
   {
    "duration": 3,
    "start_time": "2023-09-06T13:16:37.976Z"
   },
   {
    "duration": 4,
    "start_time": "2023-09-06T13:16:38.608Z"
   },
   {
    "duration": 3,
    "start_time": "2023-09-06T13:16:39.408Z"
   },
   {
    "duration": 4,
    "start_time": "2023-09-06T13:16:40.117Z"
   },
   {
    "duration": 822,
    "start_time": "2023-09-06T13:16:40.828Z"
   },
   {
    "duration": 1384,
    "start_time": "2023-09-06T13:18:01.266Z"
   },
   {
    "duration": 1087,
    "start_time": "2023-09-06T13:18:23.966Z"
   },
   {
    "duration": 1177,
    "start_time": "2023-09-06T13:20:56.777Z"
   },
   {
    "duration": 1031,
    "start_time": "2023-09-06T13:22:59.029Z"
   },
   {
    "duration": 973,
    "start_time": "2023-09-06T13:23:20.279Z"
   },
   {
    "duration": 1134,
    "start_time": "2023-09-06T13:23:29.020Z"
   },
   {
    "duration": 1035,
    "start_time": "2023-09-06T13:23:39.717Z"
   },
   {
    "duration": 1422,
    "start_time": "2023-09-06T13:25:57.435Z"
   },
   {
    "duration": 25,
    "start_time": "2023-09-06T13:25:59.874Z"
   },
   {
    "duration": 976,
    "start_time": "2023-09-06T13:26:29.481Z"
   },
   {
    "duration": 953,
    "start_time": "2023-09-06T13:28:41.299Z"
   },
   {
    "duration": 5,
    "start_time": "2023-09-06T13:36:33.331Z"
   },
   {
    "duration": 1135,
    "start_time": "2023-09-06T13:37:20.831Z"
   },
   {
    "duration": 944,
    "start_time": "2023-09-06T13:39:35.611Z"
   },
   {
    "duration": 984,
    "start_time": "2023-09-06T13:40:11.669Z"
   },
   {
    "duration": 24,
    "start_time": "2023-09-06T13:42:49.379Z"
   },
   {
    "duration": 3,
    "start_time": "2023-09-06T13:47:17.151Z"
   },
   {
    "duration": 3,
    "start_time": "2023-09-06T13:47:26.089Z"
   },
   {
    "duration": 20,
    "start_time": "2023-09-06T13:47:26.095Z"
   },
   {
    "duration": 24,
    "start_time": "2023-09-06T13:47:37.577Z"
   },
   {
    "duration": 25,
    "start_time": "2023-09-06T13:49:10.630Z"
   },
   {
    "duration": 5,
    "start_time": "2023-09-06T13:49:41.323Z"
   },
   {
    "duration": 3,
    "start_time": "2023-09-06T13:49:42.230Z"
   },
   {
    "duration": 4,
    "start_time": "2023-09-06T13:49:42.939Z"
   },
   {
    "duration": 22,
    "start_time": "2023-09-06T13:49:43.798Z"
   },
   {
    "duration": 0,
    "start_time": "2023-09-06T13:54:46.883Z"
   },
   {
    "duration": 10,
    "start_time": "2023-09-06T13:57:39.400Z"
   },
   {
    "duration": 5,
    "start_time": "2023-09-06T13:58:00.938Z"
   },
   {
    "duration": 56,
    "start_time": "2023-09-06T13:58:00.947Z"
   },
   {
    "duration": 5,
    "start_time": "2023-09-06T13:58:38.089Z"
   },
   {
    "duration": 4,
    "start_time": "2023-09-06T13:58:39.096Z"
   },
   {
    "duration": 12,
    "start_time": "2023-09-06T13:58:39.103Z"
   },
   {
    "duration": 4,
    "start_time": "2023-09-06T13:58:41.402Z"
   },
   {
    "duration": 0,
    "start_time": "2023-09-06T14:06:04.274Z"
   },
   {
    "duration": 41059,
    "start_time": "2023-09-06T14:06:11.895Z"
   },
   {
    "duration": 43032,
    "start_time": "2023-09-06T14:07:42.420Z"
   },
   {
    "duration": 42074,
    "start_time": "2023-09-06T14:08:51.779Z"
   },
   {
    "duration": 54,
    "start_time": "2023-09-06T16:15:29.911Z"
   },
   {
    "duration": 1813,
    "start_time": "2023-09-06T16:15:40.943Z"
   },
   {
    "duration": 3451,
    "start_time": "2023-09-06T16:15:42.759Z"
   },
   {
    "duration": 23,
    "start_time": "2023-09-06T16:15:46.212Z"
   },
   {
    "duration": 14,
    "start_time": "2023-09-06T16:15:46.237Z"
   },
   {
    "duration": 21,
    "start_time": "2023-09-06T16:15:46.254Z"
   },
   {
    "duration": 14,
    "start_time": "2023-09-06T16:15:46.278Z"
   },
   {
    "duration": 3,
    "start_time": "2023-09-06T16:15:46.294Z"
   },
   {
    "duration": 6,
    "start_time": "2023-09-06T16:15:46.298Z"
   },
   {
    "duration": 6,
    "start_time": "2023-09-06T16:15:46.306Z"
   },
   {
    "duration": 42,
    "start_time": "2023-09-06T16:15:46.314Z"
   },
   {
    "duration": 7,
    "start_time": "2023-09-06T16:15:46.358Z"
   },
   {
    "duration": 21,
    "start_time": "2023-09-06T16:15:46.367Z"
   },
   {
    "duration": 8,
    "start_time": "2023-09-06T16:15:46.390Z"
   },
   {
    "duration": 6,
    "start_time": "2023-09-06T16:15:46.402Z"
   },
   {
    "duration": 9,
    "start_time": "2023-09-06T16:15:46.409Z"
   },
   {
    "duration": 14,
    "start_time": "2023-09-06T16:15:46.419Z"
   },
   {
    "duration": 13,
    "start_time": "2023-09-06T16:15:46.444Z"
   },
   {
    "duration": 21,
    "start_time": "2023-09-06T16:15:46.458Z"
   },
   {
    "duration": 10,
    "start_time": "2023-09-06T16:15:46.481Z"
   },
   {
    "duration": 11,
    "start_time": "2023-09-06T16:15:46.493Z"
   },
   {
    "duration": 43,
    "start_time": "2023-09-06T16:15:46.506Z"
   },
   {
    "duration": 279,
    "start_time": "2023-09-06T16:15:46.550Z"
   },
   {
    "duration": 28,
    "start_time": "2023-09-06T16:15:46.831Z"
   },
   {
    "duration": 8,
    "start_time": "2023-09-06T16:15:46.861Z"
   },
   {
    "duration": 265,
    "start_time": "2023-09-06T16:15:46.870Z"
   },
   {
    "duration": 20,
    "start_time": "2023-09-06T16:15:47.143Z"
   },
   {
    "duration": 8,
    "start_time": "2023-09-06T16:15:47.165Z"
   },
   {
    "duration": 251,
    "start_time": "2023-09-06T16:15:47.174Z"
   },
   {
    "duration": 27,
    "start_time": "2023-09-06T16:15:47.427Z"
   },
   {
    "duration": 356,
    "start_time": "2023-09-06T16:15:47.456Z"
   },
   {
    "duration": 279,
    "start_time": "2023-09-06T16:15:47.813Z"
   },
   {
    "duration": 304,
    "start_time": "2023-09-06T16:15:48.094Z"
   },
   {
    "duration": 266,
    "start_time": "2023-09-06T16:15:48.400Z"
   },
   {
    "duration": 500,
    "start_time": "2023-09-06T16:15:48.668Z"
   },
   {
    "duration": 10,
    "start_time": "2023-09-06T16:15:49.170Z"
   },
   {
    "duration": 14,
    "start_time": "2023-09-06T16:15:49.182Z"
   },
   {
    "duration": 5,
    "start_time": "2023-09-06T16:15:49.197Z"
   },
   {
    "duration": 9,
    "start_time": "2023-09-06T16:15:49.203Z"
   },
   {
    "duration": 5,
    "start_time": "2023-09-06T16:15:49.213Z"
   },
   {
    "duration": 276,
    "start_time": "2023-09-06T16:15:49.220Z"
   },
   {
    "duration": 3,
    "start_time": "2023-09-06T16:15:49.501Z"
   },
   {
    "duration": 12,
    "start_time": "2023-09-06T16:15:49.506Z"
   },
   {
    "duration": 24,
    "start_time": "2023-09-06T16:15:49.520Z"
   },
   {
    "duration": 8,
    "start_time": "2023-09-06T16:15:49.546Z"
   },
   {
    "duration": 13,
    "start_time": "2023-09-06T16:15:49.556Z"
   },
   {
    "duration": 3078,
    "start_time": "2023-09-06T16:15:49.571Z"
   },
   {
    "duration": 263,
    "start_time": "2023-09-06T16:15:52.650Z"
   },
   {
    "duration": 0,
    "start_time": "2023-09-06T16:15:52.915Z"
   },
   {
    "duration": 0,
    "start_time": "2023-09-06T16:15:52.917Z"
   },
   {
    "duration": 0,
    "start_time": "2023-09-06T16:15:52.918Z"
   },
   {
    "duration": 0,
    "start_time": "2023-09-06T16:15:52.921Z"
   },
   {
    "duration": 0,
    "start_time": "2023-09-06T16:15:52.922Z"
   },
   {
    "duration": 0,
    "start_time": "2023-09-06T16:15:52.923Z"
   },
   {
    "duration": 0,
    "start_time": "2023-09-06T16:15:52.924Z"
   },
   {
    "duration": 0,
    "start_time": "2023-09-06T16:15:52.926Z"
   },
   {
    "duration": 0,
    "start_time": "2023-09-06T16:15:52.927Z"
   },
   {
    "duration": 0,
    "start_time": "2023-09-06T16:15:52.944Z"
   },
   {
    "duration": 0,
    "start_time": "2023-09-06T16:15:52.946Z"
   },
   {
    "duration": 0,
    "start_time": "2023-09-06T16:15:52.948Z"
   },
   {
    "duration": 0,
    "start_time": "2023-09-06T16:15:52.949Z"
   },
   {
    "duration": 0,
    "start_time": "2023-09-06T16:15:52.951Z"
   },
   {
    "duration": 0,
    "start_time": "2023-09-06T16:15:52.952Z"
   },
   {
    "duration": 1,
    "start_time": "2023-09-06T16:15:52.953Z"
   },
   {
    "duration": 0,
    "start_time": "2023-09-06T16:15:52.955Z"
   },
   {
    "duration": 0,
    "start_time": "2023-09-06T16:15:52.956Z"
   },
   {
    "duration": 0,
    "start_time": "2023-09-06T16:15:52.957Z"
   },
   {
    "duration": 0,
    "start_time": "2023-09-06T16:15:52.958Z"
   },
   {
    "duration": 0,
    "start_time": "2023-09-06T16:15:52.960Z"
   },
   {
    "duration": 4,
    "start_time": "2023-09-06T16:16:11.118Z"
   },
   {
    "duration": 3,
    "start_time": "2023-09-06T16:16:11.762Z"
   },
   {
    "duration": 3,
    "start_time": "2023-09-06T16:16:12.493Z"
   },
   {
    "duration": 4,
    "start_time": "2023-09-06T16:16:13.203Z"
   },
   {
    "duration": 5,
    "start_time": "2023-09-06T16:16:13.903Z"
   },
   {
    "duration": 4,
    "start_time": "2023-09-06T16:16:14.596Z"
   },
   {
    "duration": 46528,
    "start_time": "2023-09-06T16:16:15.728Z"
   },
   {
    "duration": 76,
    "start_time": "2023-09-06T16:22:30.424Z"
   },
   {
    "duration": 49062,
    "start_time": "2023-09-06T16:22:41.493Z"
   },
   {
    "duration": 49589,
    "start_time": "2023-09-06T16:25:35.271Z"
   },
   {
    "duration": 41583,
    "start_time": "2023-09-06T16:30:19.763Z"
   },
   {
    "duration": 4,
    "start_time": "2023-09-06T16:44:20.773Z"
   },
   {
    "duration": 4,
    "start_time": "2023-09-06T17:05:21.091Z"
   },
   {
    "duration": 2,
    "start_time": "2023-09-06T17:05:22.986Z"
   },
   {
    "duration": 5,
    "start_time": "2023-09-06T17:05:24.105Z"
   },
   {
    "duration": 3,
    "start_time": "2023-09-06T17:07:01.171Z"
   },
   {
    "duration": 3,
    "start_time": "2023-09-06T17:07:02.517Z"
   },
   {
    "duration": 3,
    "start_time": "2023-09-06T17:07:03.497Z"
   },
   {
    "duration": 4,
    "start_time": "2023-09-06T17:07:04.330Z"
   },
   {
    "duration": 3,
    "start_time": "2023-09-06T17:07:13.873Z"
   },
   {
    "duration": 4,
    "start_time": "2023-09-06T17:07:24.789Z"
   },
   {
    "duration": 20,
    "start_time": "2023-09-06T17:07:28.463Z"
   },
   {
    "duration": 0,
    "start_time": "2023-09-06T17:12:44.346Z"
   },
   {
    "duration": 43728,
    "start_time": "2023-09-06T17:12:49.924Z"
   },
   {
    "duration": 44090,
    "start_time": "2023-09-06T17:18:03.255Z"
   },
   {
    "duration": 0,
    "start_time": "2023-09-06T17:18:47.346Z"
   },
   {
    "duration": 40971,
    "start_time": "2023-09-06T17:19:31.882Z"
   },
   {
    "duration": 0,
    "start_time": "2023-09-06T17:20:12.855Z"
   },
   {
    "duration": 4,
    "start_time": "2023-09-06T17:33:03.056Z"
   },
   {
    "duration": 3,
    "start_time": "2023-09-06T17:33:05.630Z"
   },
   {
    "duration": 3,
    "start_time": "2023-09-06T17:33:06.269Z"
   },
   {
    "duration": 3,
    "start_time": "2023-09-06T17:33:06.941Z"
   },
   {
    "duration": 3,
    "start_time": "2023-09-06T17:33:07.469Z"
   },
   {
    "duration": 4,
    "start_time": "2023-09-06T17:33:08.117Z"
   },
   {
    "duration": 47657,
    "start_time": "2023-09-06T17:33:09.298Z"
   },
   {
    "duration": 0,
    "start_time": "2023-09-06T17:33:56.957Z"
   },
   {
    "duration": 45737,
    "start_time": "2023-09-06T17:34:48.219Z"
   },
   {
    "duration": 0,
    "start_time": "2023-09-06T17:35:33.959Z"
   },
   {
    "duration": 4,
    "start_time": "2023-09-06T17:36:52.518Z"
   },
   {
    "duration": 3,
    "start_time": "2023-09-06T17:36:53.309Z"
   },
   {
    "duration": 4,
    "start_time": "2023-09-06T17:36:53.869Z"
   },
   {
    "duration": 4,
    "start_time": "2023-09-06T17:36:54.329Z"
   },
   {
    "duration": 3,
    "start_time": "2023-09-06T17:36:54.890Z"
   },
   {
    "duration": 4,
    "start_time": "2023-09-06T17:36:55.390Z"
   },
   {
    "duration": 43233,
    "start_time": "2023-09-06T17:36:55.917Z"
   },
   {
    "duration": 3,
    "start_time": "2023-09-06T17:43:40.544Z"
   },
   {
    "duration": 3,
    "start_time": "2023-09-06T17:43:41.848Z"
   },
   {
    "duration": 3,
    "start_time": "2023-09-06T17:43:42.041Z"
   },
   {
    "duration": 3,
    "start_time": "2023-09-06T17:43:42.224Z"
   },
   {
    "duration": 3,
    "start_time": "2023-09-06T17:43:42.392Z"
   },
   {
    "duration": 4,
    "start_time": "2023-09-06T17:43:42.602Z"
   },
   {
    "duration": 43846,
    "start_time": "2023-09-06T17:43:43.006Z"
   },
   {
    "duration": 0,
    "start_time": "2023-09-06T17:44:26.854Z"
   },
   {
    "duration": 0,
    "start_time": "2023-09-06T17:44:26.855Z"
   },
   {
    "duration": 1,
    "start_time": "2023-09-06T17:44:26.856Z"
   },
   {
    "duration": 4,
    "start_time": "2023-09-06T17:45:29.408Z"
   },
   {
    "duration": 3,
    "start_time": "2023-09-06T17:47:15.250Z"
   },
   {
    "duration": 3,
    "start_time": "2023-09-06T17:47:17.727Z"
   },
   {
    "duration": 3,
    "start_time": "2023-09-06T17:47:18.169Z"
   },
   {
    "duration": 3,
    "start_time": "2023-09-06T17:47:18.392Z"
   },
   {
    "duration": 2,
    "start_time": "2023-09-06T17:47:18.609Z"
   },
   {
    "duration": 3,
    "start_time": "2023-09-06T17:47:18.795Z"
   },
   {
    "duration": 88508,
    "start_time": "2023-09-06T17:47:19.040Z"
   },
   {
    "duration": 0,
    "start_time": "2023-09-06T17:48:47.550Z"
   },
   {
    "duration": 4,
    "start_time": "2023-09-06T17:49:09.425Z"
   },
   {
    "duration": 4,
    "start_time": "2023-09-06T17:49:32.499Z"
   },
   {
    "duration": 3,
    "start_time": "2023-09-06T17:49:33.208Z"
   },
   {
    "duration": 3,
    "start_time": "2023-09-06T17:49:33.477Z"
   },
   {
    "duration": 3,
    "start_time": "2023-09-06T17:49:33.629Z"
   },
   {
    "duration": 4,
    "start_time": "2023-09-06T17:49:33.816Z"
   },
   {
    "duration": 4,
    "start_time": "2023-09-06T17:49:34.000Z"
   },
   {
    "duration": 262413,
    "start_time": "2023-09-06T17:49:34.248Z"
   },
   {
    "duration": 9,
    "start_time": "2023-09-06T17:53:56.663Z"
   },
   {
    "duration": 10,
    "start_time": "2023-09-06T18:00:13.364Z"
   },
   {
    "duration": 21,
    "start_time": "2023-09-06T18:01:28.125Z"
   },
   {
    "duration": 9,
    "start_time": "2023-09-06T18:01:42.826Z"
   },
   {
    "duration": 11,
    "start_time": "2023-09-06T18:02:15.693Z"
   },
   {
    "duration": 16,
    "start_time": "2023-09-06T18:04:35.224Z"
   },
   {
    "duration": 35,
    "start_time": "2023-09-06T18:06:47.732Z"
   },
   {
    "duration": 13,
    "start_time": "2023-09-06T18:13:33.104Z"
   },
   {
    "duration": 80,
    "start_time": "2023-09-06T18:28:24.913Z"
   },
   {
    "duration": 71,
    "start_time": "2023-09-06T18:28:35.549Z"
   },
   {
    "duration": 84,
    "start_time": "2023-09-06T18:30:36.671Z"
   },
   {
    "duration": 65,
    "start_time": "2023-09-06T18:31:23.327Z"
   },
   {
    "duration": 69,
    "start_time": "2023-09-06T18:31:34.407Z"
   },
   {
    "duration": 63,
    "start_time": "2023-09-06T18:31:42.752Z"
   },
   {
    "duration": 1438,
    "start_time": "2023-09-06T18:37:49.431Z"
   },
   {
    "duration": 891,
    "start_time": "2023-09-06T18:37:50.873Z"
   },
   {
    "duration": 19,
    "start_time": "2023-09-06T18:37:51.766Z"
   },
   {
    "duration": 12,
    "start_time": "2023-09-06T18:37:51.787Z"
   },
   {
    "duration": 19,
    "start_time": "2023-09-06T18:37:51.801Z"
   },
   {
    "duration": 31,
    "start_time": "2023-09-06T18:37:51.822Z"
   },
   {
    "duration": 2,
    "start_time": "2023-09-06T18:37:51.855Z"
   },
   {
    "duration": 7,
    "start_time": "2023-09-06T18:37:51.859Z"
   },
   {
    "duration": 7,
    "start_time": "2023-09-06T18:37:51.868Z"
   },
   {
    "duration": 7,
    "start_time": "2023-09-06T18:37:51.878Z"
   },
   {
    "duration": 15,
    "start_time": "2023-09-06T18:37:51.887Z"
   },
   {
    "duration": 18,
    "start_time": "2023-09-06T18:37:51.903Z"
   },
   {
    "duration": 6,
    "start_time": "2023-09-06T18:37:51.922Z"
   },
   {
    "duration": 15,
    "start_time": "2023-09-06T18:37:51.930Z"
   },
   {
    "duration": 6,
    "start_time": "2023-09-06T18:37:51.947Z"
   },
   {
    "duration": 32,
    "start_time": "2023-09-06T18:37:51.954Z"
   },
   {
    "duration": 22,
    "start_time": "2023-09-06T18:37:51.988Z"
   },
   {
    "duration": 22,
    "start_time": "2023-09-06T18:37:52.012Z"
   },
   {
    "duration": 13,
    "start_time": "2023-09-06T18:37:52.036Z"
   },
   {
    "duration": 8,
    "start_time": "2023-09-06T18:37:52.050Z"
   },
   {
    "duration": 8,
    "start_time": "2023-09-06T18:37:52.059Z"
   },
   {
    "duration": 279,
    "start_time": "2023-09-06T18:37:52.069Z"
   },
   {
    "duration": 22,
    "start_time": "2023-09-06T18:37:52.349Z"
   },
   {
    "duration": 7,
    "start_time": "2023-09-06T18:37:52.373Z"
   },
   {
    "duration": 247,
    "start_time": "2023-09-06T18:37:52.382Z"
   },
   {
    "duration": 26,
    "start_time": "2023-09-06T18:37:52.631Z"
   },
   {
    "duration": 8,
    "start_time": "2023-09-06T18:37:52.658Z"
   },
   {
    "duration": 246,
    "start_time": "2023-09-06T18:37:52.669Z"
   },
   {
    "duration": 29,
    "start_time": "2023-09-06T18:37:52.917Z"
   },
   {
    "duration": 370,
    "start_time": "2023-09-06T18:37:52.948Z"
   },
   {
    "duration": 324,
    "start_time": "2023-09-06T18:37:53.320Z"
   },
   {
    "duration": 265,
    "start_time": "2023-09-06T18:37:53.646Z"
   },
   {
    "duration": 303,
    "start_time": "2023-09-06T18:37:53.913Z"
   },
   {
    "duration": 477,
    "start_time": "2023-09-06T18:37:54.218Z"
   },
   {
    "duration": 8,
    "start_time": "2023-09-06T18:37:54.696Z"
   },
   {
    "duration": 17,
    "start_time": "2023-09-06T18:37:54.706Z"
   },
   {
    "duration": 7,
    "start_time": "2023-09-06T18:37:54.725Z"
   },
   {
    "duration": 5,
    "start_time": "2023-09-06T18:37:54.745Z"
   },
   {
    "duration": 16,
    "start_time": "2023-09-06T18:37:54.751Z"
   },
   {
    "duration": 237,
    "start_time": "2023-09-06T18:37:54.769Z"
   },
   {
    "duration": 4,
    "start_time": "2023-09-06T18:37:55.007Z"
   },
   {
    "duration": 3,
    "start_time": "2023-09-06T18:37:55.013Z"
   },
   {
    "duration": 30,
    "start_time": "2023-09-06T18:37:55.018Z"
   },
   {
    "duration": 10,
    "start_time": "2023-09-06T18:37:55.049Z"
   },
   {
    "duration": 9,
    "start_time": "2023-09-06T18:37:55.061Z"
   },
   {
    "duration": 2174,
    "start_time": "2023-09-06T18:37:55.071Z"
   },
   {
    "duration": 136,
    "start_time": "2023-09-06T18:37:57.247Z"
   },
   {
    "duration": 0,
    "start_time": "2023-09-06T18:37:57.384Z"
   },
   {
    "duration": 0,
    "start_time": "2023-09-06T18:37:57.385Z"
   },
   {
    "duration": 0,
    "start_time": "2023-09-06T18:37:57.386Z"
   },
   {
    "duration": 0,
    "start_time": "2023-09-06T18:37:57.388Z"
   },
   {
    "duration": 0,
    "start_time": "2023-09-06T18:37:57.389Z"
   },
   {
    "duration": 0,
    "start_time": "2023-09-06T18:37:57.390Z"
   },
   {
    "duration": 0,
    "start_time": "2023-09-06T18:37:57.392Z"
   },
   {
    "duration": 0,
    "start_time": "2023-09-06T18:37:57.393Z"
   },
   {
    "duration": 0,
    "start_time": "2023-09-06T18:37:57.394Z"
   },
   {
    "duration": 0,
    "start_time": "2023-09-06T18:37:57.395Z"
   },
   {
    "duration": 0,
    "start_time": "2023-09-06T18:37:57.397Z"
   },
   {
    "duration": 0,
    "start_time": "2023-09-06T18:37:57.398Z"
   },
   {
    "duration": 0,
    "start_time": "2023-09-06T18:37:57.400Z"
   },
   {
    "duration": 0,
    "start_time": "2023-09-06T18:37:57.401Z"
   },
   {
    "duration": 0,
    "start_time": "2023-09-06T18:37:57.403Z"
   },
   {
    "duration": 0,
    "start_time": "2023-09-06T18:37:57.404Z"
   },
   {
    "duration": 0,
    "start_time": "2023-09-06T18:37:57.405Z"
   },
   {
    "duration": 0,
    "start_time": "2023-09-06T18:37:57.406Z"
   },
   {
    "duration": 0,
    "start_time": "2023-09-06T18:37:57.445Z"
   },
   {
    "duration": 0,
    "start_time": "2023-09-06T18:37:57.446Z"
   },
   {
    "duration": 0,
    "start_time": "2023-09-06T18:37:57.447Z"
   },
   {
    "duration": 0,
    "start_time": "2023-09-06T18:37:57.449Z"
   },
   {
    "duration": 0,
    "start_time": "2023-09-06T18:37:57.450Z"
   },
   {
    "duration": 0,
    "start_time": "2023-09-06T18:37:57.451Z"
   },
   {
    "duration": 0,
    "start_time": "2023-09-06T18:37:57.452Z"
   },
   {
    "duration": 0,
    "start_time": "2023-09-06T18:37:57.453Z"
   },
   {
    "duration": 0,
    "start_time": "2023-09-06T18:37:57.454Z"
   },
   {
    "duration": 0,
    "start_time": "2023-09-06T18:37:57.455Z"
   },
   {
    "duration": 0,
    "start_time": "2023-09-06T18:37:57.456Z"
   },
   {
    "duration": 6,
    "start_time": "2023-09-06T18:38:11.745Z"
   },
   {
    "duration": 3,
    "start_time": "2023-09-06T18:38:12.369Z"
   },
   {
    "duration": 4,
    "start_time": "2023-09-06T18:38:12.912Z"
   },
   {
    "duration": 2,
    "start_time": "2023-09-06T18:38:13.379Z"
   },
   {
    "duration": 2,
    "start_time": "2023-09-06T18:38:13.950Z"
   },
   {
    "duration": 3,
    "start_time": "2023-09-06T18:38:14.230Z"
   },
   {
    "duration": 3,
    "start_time": "2023-09-06T18:38:14.508Z"
   },
   {
    "duration": 2,
    "start_time": "2023-09-06T18:38:14.771Z"
   },
   {
    "duration": 0,
    "start_time": "2023-09-06T18:42:36.468Z"
   },
   {
    "duration": 0,
    "start_time": "2023-09-06T18:42:36.469Z"
   },
   {
    "duration": 0,
    "start_time": "2023-09-06T18:42:36.470Z"
   },
   {
    "duration": 1588,
    "start_time": "2023-09-06T18:51:34.684Z"
   },
   {
    "duration": 979,
    "start_time": "2023-09-06T18:51:36.275Z"
   },
   {
    "duration": 19,
    "start_time": "2023-09-06T18:51:37.258Z"
   },
   {
    "duration": 21,
    "start_time": "2023-09-06T18:51:37.279Z"
   },
   {
    "duration": 17,
    "start_time": "2023-09-06T18:51:37.302Z"
   },
   {
    "duration": 30,
    "start_time": "2023-09-06T18:51:37.321Z"
   },
   {
    "duration": 2,
    "start_time": "2023-09-06T18:51:37.357Z"
   },
   {
    "duration": 5,
    "start_time": "2023-09-06T18:51:37.360Z"
   },
   {
    "duration": 11,
    "start_time": "2023-09-06T18:51:37.366Z"
   },
   {
    "duration": 6,
    "start_time": "2023-09-06T18:51:37.378Z"
   },
   {
    "duration": 5,
    "start_time": "2023-09-06T18:51:37.386Z"
   },
   {
    "duration": 13,
    "start_time": "2023-09-06T18:51:37.393Z"
   },
   {
    "duration": 4,
    "start_time": "2023-09-06T18:51:37.408Z"
   },
   {
    "duration": 7,
    "start_time": "2023-09-06T18:51:37.415Z"
   },
   {
    "duration": 22,
    "start_time": "2023-09-06T18:51:37.423Z"
   },
   {
    "duration": 19,
    "start_time": "2023-09-06T18:51:37.447Z"
   },
   {
    "duration": 12,
    "start_time": "2023-09-06T18:51:37.468Z"
   },
   {
    "duration": 20,
    "start_time": "2023-09-06T18:51:37.482Z"
   },
   {
    "duration": 9,
    "start_time": "2023-09-06T18:51:37.504Z"
   },
   {
    "duration": 41,
    "start_time": "2023-09-06T18:51:37.515Z"
   },
   {
    "duration": 10,
    "start_time": "2023-09-06T18:51:37.558Z"
   },
   {
    "duration": 288,
    "start_time": "2023-09-06T18:51:37.569Z"
   },
   {
    "duration": 20,
    "start_time": "2023-09-06T18:51:37.859Z"
   },
   {
    "duration": 7,
    "start_time": "2023-09-06T18:51:37.881Z"
   },
   {
    "duration": 259,
    "start_time": "2023-09-06T18:51:37.889Z"
   },
   {
    "duration": 21,
    "start_time": "2023-09-06T18:51:38.150Z"
   },
   {
    "duration": 8,
    "start_time": "2023-09-06T18:51:38.173Z"
   },
   {
    "duration": 272,
    "start_time": "2023-09-06T18:51:38.182Z"
   },
   {
    "duration": 22,
    "start_time": "2023-09-06T18:51:38.456Z"
   },
   {
    "duration": 369,
    "start_time": "2023-09-06T18:51:38.480Z"
   },
   {
    "duration": 286,
    "start_time": "2023-09-06T18:51:38.851Z"
   },
   {
    "duration": 276,
    "start_time": "2023-09-06T18:51:39.145Z"
   },
   {
    "duration": 275,
    "start_time": "2023-09-06T18:51:39.422Z"
   },
   {
    "duration": 472,
    "start_time": "2023-09-06T18:51:39.698Z"
   },
   {
    "duration": 7,
    "start_time": "2023-09-06T18:51:40.172Z"
   },
   {
    "duration": 7,
    "start_time": "2023-09-06T18:51:40.181Z"
   },
   {
    "duration": 4,
    "start_time": "2023-09-06T18:51:40.189Z"
   },
   {
    "duration": 13,
    "start_time": "2023-09-06T18:51:40.195Z"
   },
   {
    "duration": 13,
    "start_time": "2023-09-06T18:51:40.210Z"
   },
   {
    "duration": 293,
    "start_time": "2023-09-06T18:51:40.224Z"
   },
   {
    "duration": 3,
    "start_time": "2023-09-06T18:51:40.521Z"
   },
   {
    "duration": 13,
    "start_time": "2023-09-06T18:51:40.526Z"
   },
   {
    "duration": 23,
    "start_time": "2023-09-06T18:51:40.541Z"
   },
   {
    "duration": 9,
    "start_time": "2023-09-06T18:51:40.566Z"
   },
   {
    "duration": 15,
    "start_time": "2023-09-06T18:51:40.577Z"
   },
   {
    "duration": 2665,
    "start_time": "2023-09-06T18:51:40.594Z"
   },
   {
    "duration": 258,
    "start_time": "2023-09-06T18:51:43.263Z"
   },
   {
    "duration": 0,
    "start_time": "2023-09-06T18:51:43.522Z"
   },
   {
    "duration": 0,
    "start_time": "2023-09-06T18:51:43.523Z"
   },
   {
    "duration": 0,
    "start_time": "2023-09-06T18:51:43.524Z"
   },
   {
    "duration": 0,
    "start_time": "2023-09-06T18:51:43.525Z"
   },
   {
    "duration": 0,
    "start_time": "2023-09-06T18:51:43.526Z"
   },
   {
    "duration": 0,
    "start_time": "2023-09-06T18:51:43.526Z"
   },
   {
    "duration": 0,
    "start_time": "2023-09-06T18:51:43.527Z"
   },
   {
    "duration": 0,
    "start_time": "2023-09-06T18:51:43.528Z"
   },
   {
    "duration": 0,
    "start_time": "2023-09-06T18:51:43.529Z"
   },
   {
    "duration": 0,
    "start_time": "2023-09-06T18:51:43.530Z"
   },
   {
    "duration": 0,
    "start_time": "2023-09-06T18:51:43.531Z"
   },
   {
    "duration": 0,
    "start_time": "2023-09-06T18:51:43.544Z"
   },
   {
    "duration": 0,
    "start_time": "2023-09-06T18:51:43.546Z"
   },
   {
    "duration": 0,
    "start_time": "2023-09-06T18:51:43.547Z"
   },
   {
    "duration": 0,
    "start_time": "2023-09-06T18:51:43.549Z"
   },
   {
    "duration": 0,
    "start_time": "2023-09-06T18:51:43.550Z"
   },
   {
    "duration": 0,
    "start_time": "2023-09-06T18:51:43.552Z"
   },
   {
    "duration": 0,
    "start_time": "2023-09-06T18:51:43.554Z"
   },
   {
    "duration": 0,
    "start_time": "2023-09-06T18:51:43.556Z"
   },
   {
    "duration": 0,
    "start_time": "2023-09-06T18:51:43.557Z"
   },
   {
    "duration": 0,
    "start_time": "2023-09-06T18:51:43.559Z"
   },
   {
    "duration": 0,
    "start_time": "2023-09-06T18:51:43.561Z"
   },
   {
    "duration": 0,
    "start_time": "2023-09-06T18:51:43.562Z"
   },
   {
    "duration": 0,
    "start_time": "2023-09-06T18:51:43.563Z"
   },
   {
    "duration": 0,
    "start_time": "2023-09-06T18:51:43.564Z"
   },
   {
    "duration": 0,
    "start_time": "2023-09-06T18:51:43.565Z"
   },
   {
    "duration": 0,
    "start_time": "2023-09-06T18:51:43.566Z"
   },
   {
    "duration": 0,
    "start_time": "2023-09-06T18:51:43.567Z"
   },
   {
    "duration": 0,
    "start_time": "2023-09-06T18:51:43.568Z"
   },
   {
    "duration": 3,
    "start_time": "2023-09-06T18:51:50.362Z"
   },
   {
    "duration": 3,
    "start_time": "2023-09-06T18:51:50.901Z"
   },
   {
    "duration": 4,
    "start_time": "2023-09-06T18:51:51.356Z"
   },
   {
    "duration": 2,
    "start_time": "2023-09-06T18:51:51.635Z"
   },
   {
    "duration": 3,
    "start_time": "2023-09-06T18:51:51.882Z"
   },
   {
    "duration": 3,
    "start_time": "2023-09-06T18:51:52.124Z"
   },
   {
    "duration": 3,
    "start_time": "2023-09-06T18:51:52.341Z"
   },
   {
    "duration": 3,
    "start_time": "2023-09-06T18:51:52.605Z"
   },
   {
    "duration": 259477,
    "start_time": "2023-09-06T18:51:52.836Z"
   },
   {
    "duration": 123,
    "start_time": "2023-09-06T18:56:12.315Z"
   },
   {
    "duration": 0,
    "start_time": "2023-09-06T18:56:12.439Z"
   },
   {
    "duration": 0,
    "start_time": "2023-09-06T18:56:12.440Z"
   },
   {
    "duration": 3,
    "start_time": "2023-09-06T19:01:10.312Z"
   },
   {
    "duration": 13,
    "start_time": "2023-09-06T19:01:11.558Z"
   },
   {
    "duration": 4,
    "start_time": "2023-09-06T19:01:40.486Z"
   },
   {
    "duration": 1436,
    "start_time": "2023-09-06T19:05:11.037Z"
   },
   {
    "duration": 864,
    "start_time": "2023-09-06T19:05:12.475Z"
   },
   {
    "duration": 17,
    "start_time": "2023-09-06T19:05:13.341Z"
   },
   {
    "duration": 13,
    "start_time": "2023-09-06T19:05:13.359Z"
   },
   {
    "duration": 26,
    "start_time": "2023-09-06T19:05:13.376Z"
   },
   {
    "duration": 12,
    "start_time": "2023-09-06T19:05:13.405Z"
   },
   {
    "duration": 2,
    "start_time": "2023-09-06T19:05:13.444Z"
   },
   {
    "duration": 14,
    "start_time": "2023-09-06T19:05:13.448Z"
   },
   {
    "duration": 6,
    "start_time": "2023-09-06T19:05:13.463Z"
   },
   {
    "duration": 4,
    "start_time": "2023-09-06T19:05:13.471Z"
   },
   {
    "duration": 8,
    "start_time": "2023-09-06T19:05:13.477Z"
   },
   {
    "duration": 9,
    "start_time": "2023-09-06T19:05:13.486Z"
   },
   {
    "duration": 5,
    "start_time": "2023-09-06T19:05:13.496Z"
   },
   {
    "duration": 7,
    "start_time": "2023-09-06T19:05:13.503Z"
   },
   {
    "duration": 32,
    "start_time": "2023-09-06T19:05:13.512Z"
   },
   {
    "duration": 11,
    "start_time": "2023-09-06T19:05:13.546Z"
   },
   {
    "duration": 12,
    "start_time": "2023-09-06T19:05:13.558Z"
   },
   {
    "duration": 21,
    "start_time": "2023-09-06T19:05:13.571Z"
   },
   {
    "duration": 9,
    "start_time": "2023-09-06T19:05:13.593Z"
   },
   {
    "duration": 41,
    "start_time": "2023-09-06T19:05:13.604Z"
   },
   {
    "duration": 9,
    "start_time": "2023-09-06T19:05:13.647Z"
   },
   {
    "duration": 270,
    "start_time": "2023-09-06T19:05:13.658Z"
   },
   {
    "duration": 26,
    "start_time": "2023-09-06T19:05:13.930Z"
   },
   {
    "duration": 8,
    "start_time": "2023-09-06T19:05:13.958Z"
   },
   {
    "duration": 311,
    "start_time": "2023-09-06T19:05:13.968Z"
   },
   {
    "duration": 18,
    "start_time": "2023-09-06T19:05:14.281Z"
   },
   {
    "duration": 7,
    "start_time": "2023-09-06T19:05:14.301Z"
   },
   {
    "duration": 246,
    "start_time": "2023-09-06T19:05:14.310Z"
   },
   {
    "duration": 18,
    "start_time": "2023-09-06T19:05:14.557Z"
   },
   {
    "duration": 335,
    "start_time": "2023-09-06T19:05:14.577Z"
   },
   {
    "duration": 270,
    "start_time": "2023-09-06T19:05:14.914Z"
   },
   {
    "duration": 247,
    "start_time": "2023-09-06T19:05:15.185Z"
   },
   {
    "duration": 254,
    "start_time": "2023-09-06T19:05:15.443Z"
   },
   {
    "duration": 435,
    "start_time": "2023-09-06T19:05:15.699Z"
   },
   {
    "duration": 13,
    "start_time": "2023-09-06T19:05:16.136Z"
   },
   {
    "duration": 11,
    "start_time": "2023-09-06T19:05:16.150Z"
   },
   {
    "duration": 5,
    "start_time": "2023-09-06T19:05:16.162Z"
   },
   {
    "duration": 9,
    "start_time": "2023-09-06T19:05:16.168Z"
   },
   {
    "duration": 10,
    "start_time": "2023-09-06T19:05:16.179Z"
   },
   {
    "duration": 263,
    "start_time": "2023-09-06T19:05:16.190Z"
   },
   {
    "duration": 4,
    "start_time": "2023-09-06T19:05:16.457Z"
   },
   {
    "duration": 18,
    "start_time": "2023-09-06T19:05:16.462Z"
   },
   {
    "duration": 20,
    "start_time": "2023-09-06T19:05:16.482Z"
   },
   {
    "duration": 6,
    "start_time": "2023-09-06T19:05:16.504Z"
   },
   {
    "duration": 17,
    "start_time": "2023-09-06T19:05:16.512Z"
   },
   {
    "duration": 2919,
    "start_time": "2023-09-06T19:05:16.531Z"
   },
   {
    "duration": 226,
    "start_time": "2023-09-06T19:05:19.452Z"
   },
   {
    "duration": 0,
    "start_time": "2023-09-06T19:05:19.679Z"
   },
   {
    "duration": 0,
    "start_time": "2023-09-06T19:05:19.681Z"
   },
   {
    "duration": 0,
    "start_time": "2023-09-06T19:05:19.682Z"
   },
   {
    "duration": 0,
    "start_time": "2023-09-06T19:05:19.683Z"
   },
   {
    "duration": 0,
    "start_time": "2023-09-06T19:05:19.684Z"
   },
   {
    "duration": 0,
    "start_time": "2023-09-06T19:05:19.685Z"
   },
   {
    "duration": 0,
    "start_time": "2023-09-06T19:05:19.686Z"
   },
   {
    "duration": 0,
    "start_time": "2023-09-06T19:05:19.687Z"
   },
   {
    "duration": 0,
    "start_time": "2023-09-06T19:05:19.688Z"
   },
   {
    "duration": 0,
    "start_time": "2023-09-06T19:05:19.689Z"
   },
   {
    "duration": 0,
    "start_time": "2023-09-06T19:05:19.689Z"
   },
   {
    "duration": 0,
    "start_time": "2023-09-06T19:05:19.690Z"
   },
   {
    "duration": 0,
    "start_time": "2023-09-06T19:05:19.691Z"
   },
   {
    "duration": 0,
    "start_time": "2023-09-06T19:05:19.692Z"
   },
   {
    "duration": 0,
    "start_time": "2023-09-06T19:05:19.693Z"
   },
   {
    "duration": 0,
    "start_time": "2023-09-06T19:05:19.694Z"
   },
   {
    "duration": 0,
    "start_time": "2023-09-06T19:05:19.694Z"
   },
   {
    "duration": 0,
    "start_time": "2023-09-06T19:05:19.695Z"
   },
   {
    "duration": 0,
    "start_time": "2023-09-06T19:05:19.697Z"
   },
   {
    "duration": 0,
    "start_time": "2023-09-06T19:05:19.699Z"
   },
   {
    "duration": 0,
    "start_time": "2023-09-06T19:05:19.700Z"
   },
   {
    "duration": 0,
    "start_time": "2023-09-06T19:05:19.701Z"
   },
   {
    "duration": 0,
    "start_time": "2023-09-06T19:05:19.702Z"
   },
   {
    "duration": 0,
    "start_time": "2023-09-06T19:05:19.703Z"
   },
   {
    "duration": 0,
    "start_time": "2023-09-06T19:05:19.704Z"
   },
   {
    "duration": 0,
    "start_time": "2023-09-06T19:05:19.705Z"
   },
   {
    "duration": 0,
    "start_time": "2023-09-06T19:05:19.744Z"
   },
   {
    "duration": 0,
    "start_time": "2023-09-06T19:05:19.745Z"
   },
   {
    "duration": 0,
    "start_time": "2023-09-06T19:05:19.746Z"
   },
   {
    "duration": 1628,
    "start_time": "2023-09-06T19:06:03.816Z"
   },
   {
    "duration": 815,
    "start_time": "2023-09-06T19:06:05.448Z"
   },
   {
    "duration": 19,
    "start_time": "2023-09-06T19:06:06.265Z"
   },
   {
    "duration": 32,
    "start_time": "2023-09-06T19:06:06.286Z"
   },
   {
    "duration": 40,
    "start_time": "2023-09-06T19:06:06.321Z"
   },
   {
    "duration": 35,
    "start_time": "2023-09-06T19:06:06.363Z"
   },
   {
    "duration": 9,
    "start_time": "2023-09-06T19:06:06.399Z"
   },
   {
    "duration": 108,
    "start_time": "2023-09-06T19:06:06.409Z"
   },
   {
    "duration": 99,
    "start_time": "2023-09-06T19:06:06.519Z"
   },
   {
    "duration": 13,
    "start_time": "2023-09-06T19:06:06.620Z"
   },
   {
    "duration": 37,
    "start_time": "2023-09-06T19:06:06.634Z"
   },
   {
    "duration": 62,
    "start_time": "2023-09-06T19:06:06.672Z"
   },
   {
    "duration": 32,
    "start_time": "2023-09-06T19:06:06.736Z"
   },
   {
    "duration": 16,
    "start_time": "2023-09-06T19:06:06.771Z"
   },
   {
    "duration": 16,
    "start_time": "2023-09-06T19:06:06.788Z"
   },
   {
    "duration": 130,
    "start_time": "2023-09-06T19:06:06.805Z"
   },
   {
    "duration": 54,
    "start_time": "2023-09-06T19:06:06.936Z"
   },
   {
    "duration": 60,
    "start_time": "2023-09-06T19:06:06.992Z"
   },
   {
    "duration": 55,
    "start_time": "2023-09-06T19:06:07.054Z"
   },
   {
    "duration": 48,
    "start_time": "2023-09-06T19:06:07.110Z"
   },
   {
    "duration": 17,
    "start_time": "2023-09-06T19:06:07.160Z"
   },
   {
    "duration": 273,
    "start_time": "2023-09-06T19:06:07.178Z"
   },
   {
    "duration": 19,
    "start_time": "2023-09-06T19:06:07.452Z"
   },
   {
    "duration": 13,
    "start_time": "2023-09-06T19:06:07.473Z"
   },
   {
    "duration": 240,
    "start_time": "2023-09-06T19:06:07.487Z"
   },
   {
    "duration": 24,
    "start_time": "2023-09-06T19:06:07.729Z"
   },
   {
    "duration": 7,
    "start_time": "2023-09-06T19:06:07.755Z"
   },
   {
    "duration": 228,
    "start_time": "2023-09-06T19:06:07.763Z"
   },
   {
    "duration": 18,
    "start_time": "2023-09-06T19:06:07.992Z"
   },
   {
    "duration": 355,
    "start_time": "2023-09-06T19:06:08.011Z"
   },
   {
    "duration": 284,
    "start_time": "2023-09-06T19:06:08.368Z"
   },
   {
    "duration": 255,
    "start_time": "2023-09-06T19:06:08.654Z"
   },
   {
    "duration": 267,
    "start_time": "2023-09-06T19:06:08.911Z"
   },
   {
    "duration": 464,
    "start_time": "2023-09-06T19:06:09.180Z"
   },
   {
    "duration": 8,
    "start_time": "2023-09-06T19:06:09.646Z"
   },
   {
    "duration": 7,
    "start_time": "2023-09-06T19:06:09.655Z"
   },
   {
    "duration": 5,
    "start_time": "2023-09-06T19:06:09.664Z"
   },
   {
    "duration": 11,
    "start_time": "2023-09-06T19:06:09.671Z"
   },
   {
    "duration": 7,
    "start_time": "2023-09-06T19:06:09.683Z"
   },
   {
    "duration": 256,
    "start_time": "2023-09-06T19:06:09.692Z"
   },
   {
    "duration": 3,
    "start_time": "2023-09-06T19:06:09.952Z"
   },
   {
    "duration": 7,
    "start_time": "2023-09-06T19:06:09.956Z"
   },
   {
    "duration": 29,
    "start_time": "2023-09-06T19:06:09.964Z"
   },
   {
    "duration": 9,
    "start_time": "2023-09-06T19:06:09.995Z"
   },
   {
    "duration": 16,
    "start_time": "2023-09-06T19:06:10.005Z"
   },
   {
    "duration": 2926,
    "start_time": "2023-09-06T19:06:10.023Z"
   },
   {
    "duration": 5,
    "start_time": "2023-09-06T19:06:12.951Z"
   },
   {
    "duration": 86,
    "start_time": "2023-09-06T19:06:12.958Z"
   },
   {
    "duration": 5,
    "start_time": "2023-09-06T19:06:13.047Z"
   },
   {
    "duration": 5,
    "start_time": "2023-09-06T19:06:13.054Z"
   },
   {
    "duration": 9,
    "start_time": "2023-09-06T19:06:13.060Z"
   },
   {
    "duration": 5,
    "start_time": "2023-09-06T19:06:13.070Z"
   },
   {
    "duration": 6,
    "start_time": "2023-09-06T19:06:13.077Z"
   },
   {
    "duration": 8,
    "start_time": "2023-09-06T19:06:13.085Z"
   },
   {
    "duration": 257628,
    "start_time": "2023-09-06T19:06:13.095Z"
   },
   {
    "duration": 3,
    "start_time": "2023-09-06T19:10:30.725Z"
   },
   {
    "duration": 1543,
    "start_time": "2023-09-06T19:18:31.117Z"
   },
   {
    "duration": 875,
    "start_time": "2023-09-06T19:18:32.662Z"
   },
   {
    "duration": 19,
    "start_time": "2023-09-06T19:18:33.538Z"
   },
   {
    "duration": 11,
    "start_time": "2023-09-06T19:18:33.559Z"
   },
   {
    "duration": 25,
    "start_time": "2023-09-06T19:18:33.571Z"
   },
   {
    "duration": 11,
    "start_time": "2023-09-06T19:18:33.597Z"
   },
   {
    "duration": 2,
    "start_time": "2023-09-06T19:18:33.609Z"
   },
   {
    "duration": 5,
    "start_time": "2023-09-06T19:18:33.613Z"
   },
   {
    "duration": 3,
    "start_time": "2023-09-06T19:18:33.644Z"
   },
   {
    "duration": 5,
    "start_time": "2023-09-06T19:18:33.650Z"
   },
   {
    "duration": 11,
    "start_time": "2023-09-06T19:18:33.656Z"
   },
   {
    "duration": 16,
    "start_time": "2023-09-06T19:18:33.669Z"
   },
   {
    "duration": 4,
    "start_time": "2023-09-06T19:18:33.687Z"
   },
   {
    "duration": 7,
    "start_time": "2023-09-06T19:18:33.693Z"
   },
   {
    "duration": 11,
    "start_time": "2023-09-06T19:18:33.701Z"
   },
   {
    "duration": 32,
    "start_time": "2023-09-06T19:18:33.713Z"
   },
   {
    "duration": 11,
    "start_time": "2023-09-06T19:18:33.747Z"
   },
   {
    "duration": 21,
    "start_time": "2023-09-06T19:18:33.759Z"
   },
   {
    "duration": 9,
    "start_time": "2023-09-06T19:18:33.782Z"
   },
   {
    "duration": 8,
    "start_time": "2023-09-06T19:18:33.793Z"
   },
   {
    "duration": 13,
    "start_time": "2023-09-06T19:18:33.802Z"
   },
   {
    "duration": 278,
    "start_time": "2023-09-06T19:18:33.845Z"
   },
   {
    "duration": 27,
    "start_time": "2023-09-06T19:18:34.124Z"
   },
   {
    "duration": 7,
    "start_time": "2023-09-06T19:18:34.153Z"
   },
   {
    "duration": 284,
    "start_time": "2023-09-06T19:18:34.162Z"
   },
   {
    "duration": 17,
    "start_time": "2023-09-06T19:18:34.448Z"
   },
   {
    "duration": 51,
    "start_time": "2023-09-06T19:18:34.467Z"
   },
   {
    "duration": 236,
    "start_time": "2023-09-06T19:18:34.522Z"
   },
   {
    "duration": 18,
    "start_time": "2023-09-06T19:18:34.760Z"
   },
   {
    "duration": 355,
    "start_time": "2023-09-06T19:18:34.779Z"
   },
   {
    "duration": 267,
    "start_time": "2023-09-06T19:18:35.136Z"
   },
   {
    "duration": 247,
    "start_time": "2023-09-06T19:18:35.404Z"
   },
   {
    "duration": 263,
    "start_time": "2023-09-06T19:18:35.653Z"
   },
   {
    "duration": 466,
    "start_time": "2023-09-06T19:18:35.918Z"
   },
   {
    "duration": 10,
    "start_time": "2023-09-06T19:18:36.386Z"
   },
   {
    "duration": 13,
    "start_time": "2023-09-06T19:18:36.397Z"
   },
   {
    "duration": 5,
    "start_time": "2023-09-06T19:18:36.411Z"
   },
   {
    "duration": 26,
    "start_time": "2023-09-06T19:18:36.418Z"
   },
   {
    "duration": 4,
    "start_time": "2023-09-06T19:18:36.447Z"
   },
   {
    "duration": 248,
    "start_time": "2023-09-06T19:18:36.453Z"
   },
   {
    "duration": 3,
    "start_time": "2023-09-06T19:18:36.703Z"
   },
   {
    "duration": 13,
    "start_time": "2023-09-06T19:18:36.707Z"
   },
   {
    "duration": 15,
    "start_time": "2023-09-06T19:18:36.722Z"
   },
   {
    "duration": 7,
    "start_time": "2023-09-06T19:18:36.744Z"
   },
   {
    "duration": 5,
    "start_time": "2023-09-06T19:18:36.753Z"
   },
   {
    "duration": 2697,
    "start_time": "2023-09-06T19:18:36.759Z"
   },
   {
    "duration": 89,
    "start_time": "2023-09-06T19:18:39.457Z"
   },
   {
    "duration": 5,
    "start_time": "2023-09-06T19:18:39.548Z"
   },
   {
    "duration": 5,
    "start_time": "2023-09-06T19:18:39.555Z"
   },
   {
    "duration": 83,
    "start_time": "2023-09-06T19:18:39.562Z"
   },
   {
    "duration": 4,
    "start_time": "2023-09-06T19:18:39.647Z"
   },
   {
    "duration": 8,
    "start_time": "2023-09-06T19:18:39.653Z"
   },
   {
    "duration": 4,
    "start_time": "2023-09-06T19:18:39.662Z"
   },
   {
    "duration": 4,
    "start_time": "2023-09-06T19:18:39.668Z"
   },
   {
    "duration": 259355,
    "start_time": "2023-09-06T19:18:39.673Z"
   },
   {
    "duration": 4,
    "start_time": "2023-09-06T19:22:59.030Z"
   },
   {
    "duration": 1512,
    "start_time": "2023-09-06T19:30:26.630Z"
   },
   {
    "duration": 880,
    "start_time": "2023-09-06T19:30:28.145Z"
   },
   {
    "duration": 31,
    "start_time": "2023-09-06T19:30:29.027Z"
   },
   {
    "duration": 16,
    "start_time": "2023-09-06T19:30:29.061Z"
   },
   {
    "duration": 18,
    "start_time": "2023-09-06T19:30:29.078Z"
   },
   {
    "duration": 14,
    "start_time": "2023-09-06T19:30:29.097Z"
   },
   {
    "duration": 35,
    "start_time": "2023-09-06T19:30:29.113Z"
   },
   {
    "duration": 3,
    "start_time": "2023-09-06T19:30:29.150Z"
   },
   {
    "duration": 5,
    "start_time": "2023-09-06T19:30:29.155Z"
   },
   {
    "duration": 9,
    "start_time": "2023-09-06T19:30:29.162Z"
   },
   {
    "duration": 38,
    "start_time": "2023-09-06T19:30:29.173Z"
   },
   {
    "duration": 12,
    "start_time": "2023-09-06T19:30:29.214Z"
   },
   {
    "duration": 14,
    "start_time": "2023-09-06T19:30:29.228Z"
   },
   {
    "duration": 23,
    "start_time": "2023-09-06T19:30:29.244Z"
   },
   {
    "duration": 20,
    "start_time": "2023-09-06T19:30:29.269Z"
   },
   {
    "duration": 17,
    "start_time": "2023-09-06T19:30:29.291Z"
   },
   {
    "duration": 15,
    "start_time": "2023-09-06T19:30:29.310Z"
   },
   {
    "duration": 36,
    "start_time": "2023-09-06T19:30:29.327Z"
   },
   {
    "duration": 12,
    "start_time": "2023-09-06T19:30:29.365Z"
   },
   {
    "duration": 10,
    "start_time": "2023-09-06T19:30:29.379Z"
   },
   {
    "duration": 12,
    "start_time": "2023-09-06T19:30:29.391Z"
   },
   {
    "duration": 346,
    "start_time": "2023-09-06T19:30:29.405Z"
   },
   {
    "duration": 22,
    "start_time": "2023-09-06T19:30:29.752Z"
   },
   {
    "duration": 9,
    "start_time": "2023-09-06T19:30:29.776Z"
   },
   {
    "duration": 253,
    "start_time": "2023-09-06T19:30:29.787Z"
   },
   {
    "duration": 19,
    "start_time": "2023-09-06T19:30:30.044Z"
   },
   {
    "duration": 23,
    "start_time": "2023-09-06T19:30:30.066Z"
   },
   {
    "duration": 295,
    "start_time": "2023-09-06T19:30:30.094Z"
   },
   {
    "duration": 21,
    "start_time": "2023-09-06T19:30:30.391Z"
   },
   {
    "duration": 546,
    "start_time": "2023-09-06T19:30:30.414Z"
   },
   {
    "duration": 299,
    "start_time": "2023-09-06T19:30:30.962Z"
   },
   {
    "duration": 283,
    "start_time": "2023-09-06T19:30:31.263Z"
   },
   {
    "duration": 271,
    "start_time": "2023-09-06T19:30:31.549Z"
   },
   {
    "duration": 480,
    "start_time": "2023-09-06T19:30:31.822Z"
   },
   {
    "duration": 9,
    "start_time": "2023-09-06T19:30:32.303Z"
   },
   {
    "duration": 111,
    "start_time": "2023-09-06T19:30:32.313Z"
   },
   {
    "duration": 24,
    "start_time": "2023-09-06T19:30:32.425Z"
   },
   {
    "duration": 25,
    "start_time": "2023-09-06T19:30:32.451Z"
   },
   {
    "duration": 44,
    "start_time": "2023-09-06T19:30:32.477Z"
   },
   {
    "duration": 273,
    "start_time": "2023-09-06T19:30:32.523Z"
   },
   {
    "duration": 4,
    "start_time": "2023-09-06T19:30:32.798Z"
   },
   {
    "duration": 7,
    "start_time": "2023-09-06T19:30:32.804Z"
   },
   {
    "duration": 31,
    "start_time": "2023-09-06T19:30:32.813Z"
   },
   {
    "duration": 7,
    "start_time": "2023-09-06T19:30:32.846Z"
   },
   {
    "duration": 15,
    "start_time": "2023-09-06T19:30:32.855Z"
   },
   {
    "duration": 3076,
    "start_time": "2023-09-06T19:30:32.871Z"
   },
   {
    "duration": 3,
    "start_time": "2023-09-06T19:30:35.949Z"
   },
   {
    "duration": 22,
    "start_time": "2023-09-06T19:30:35.953Z"
   },
   {
    "duration": 9,
    "start_time": "2023-09-06T19:30:35.976Z"
   },
   {
    "duration": 6,
    "start_time": "2023-09-06T19:30:35.986Z"
   },
   {
    "duration": 22,
    "start_time": "2023-09-06T19:30:35.994Z"
   },
   {
    "duration": 23,
    "start_time": "2023-09-06T19:30:36.021Z"
   },
   {
    "duration": 16,
    "start_time": "2023-09-06T19:30:36.046Z"
   },
   {
    "duration": 7,
    "start_time": "2023-09-06T19:30:36.065Z"
   },
   {
    "duration": 273341,
    "start_time": "2023-09-06T19:30:36.074Z"
   },
   {
    "duration": 3,
    "start_time": "2023-09-06T19:35:09.416Z"
   },
   {
    "duration": 1471,
    "start_time": "2023-09-06T19:41:17.799Z"
   },
   {
    "duration": 931,
    "start_time": "2023-09-06T19:41:19.272Z"
   },
   {
    "duration": 16,
    "start_time": "2023-09-06T19:41:20.204Z"
   },
   {
    "duration": 22,
    "start_time": "2023-09-06T19:41:20.222Z"
   },
   {
    "duration": 23,
    "start_time": "2023-09-06T19:41:20.247Z"
   },
   {
    "duration": 11,
    "start_time": "2023-09-06T19:41:20.272Z"
   },
   {
    "duration": 2,
    "start_time": "2023-09-06T19:41:20.285Z"
   },
   {
    "duration": 4,
    "start_time": "2023-09-06T19:41:20.288Z"
   },
   {
    "duration": 4,
    "start_time": "2023-09-06T19:41:20.293Z"
   },
   {
    "duration": 4,
    "start_time": "2023-09-06T19:41:20.299Z"
   },
   {
    "duration": 5,
    "start_time": "2023-09-06T19:41:20.305Z"
   },
   {
    "duration": 40,
    "start_time": "2023-09-06T19:41:20.311Z"
   },
   {
    "duration": 16,
    "start_time": "2023-09-06T19:41:20.352Z"
   },
   {
    "duration": 13,
    "start_time": "2023-09-06T19:41:20.372Z"
   },
   {
    "duration": 7,
    "start_time": "2023-09-06T19:41:20.386Z"
   },
   {
    "duration": 13,
    "start_time": "2023-09-06T19:41:20.394Z"
   },
   {
    "duration": 11,
    "start_time": "2023-09-06T19:41:20.408Z"
   },
   {
    "duration": 44,
    "start_time": "2023-09-06T19:41:20.421Z"
   },
   {
    "duration": 10,
    "start_time": "2023-09-06T19:41:20.466Z"
   },
   {
    "duration": 8,
    "start_time": "2023-09-06T19:41:20.477Z"
   },
   {
    "duration": 8,
    "start_time": "2023-09-06T19:41:20.487Z"
   },
   {
    "duration": 303,
    "start_time": "2023-09-06T19:41:20.496Z"
   },
   {
    "duration": 19,
    "start_time": "2023-09-06T19:41:20.801Z"
   },
   {
    "duration": 7,
    "start_time": "2023-09-06T19:41:20.822Z"
   },
   {
    "duration": 262,
    "start_time": "2023-09-06T19:41:20.845Z"
   },
   {
    "duration": 20,
    "start_time": "2023-09-06T19:41:21.108Z"
   },
   {
    "duration": 24,
    "start_time": "2023-09-06T19:41:21.130Z"
   },
   {
    "duration": 251,
    "start_time": "2023-09-06T19:41:21.156Z"
   },
   {
    "duration": 18,
    "start_time": "2023-09-06T19:41:21.409Z"
   },
   {
    "duration": 363,
    "start_time": "2023-09-06T19:41:21.429Z"
   },
   {
    "duration": 289,
    "start_time": "2023-09-06T19:41:21.793Z"
   },
   {
    "duration": 267,
    "start_time": "2023-09-06T19:41:22.084Z"
   },
   {
    "duration": 266,
    "start_time": "2023-09-06T19:41:22.353Z"
   },
   {
    "duration": 452,
    "start_time": "2023-09-06T19:41:22.621Z"
   },
   {
    "duration": 8,
    "start_time": "2023-09-06T19:41:23.075Z"
   },
   {
    "duration": 8,
    "start_time": "2023-09-06T19:41:23.085Z"
   },
   {
    "duration": 5,
    "start_time": "2023-09-06T19:41:23.094Z"
   },
   {
    "duration": 15,
    "start_time": "2023-09-06T19:41:23.100Z"
   },
   {
    "duration": 4,
    "start_time": "2023-09-06T19:41:23.117Z"
   },
   {
    "duration": 259,
    "start_time": "2023-09-06T19:41:23.145Z"
   },
   {
    "duration": 3,
    "start_time": "2023-09-06T19:41:23.409Z"
   },
   {
    "duration": 49,
    "start_time": "2023-09-06T19:41:23.414Z"
   },
   {
    "duration": 27,
    "start_time": "2023-09-06T19:41:23.465Z"
   },
   {
    "duration": 16,
    "start_time": "2023-09-06T19:41:23.494Z"
   },
   {
    "duration": 30,
    "start_time": "2023-09-06T19:41:23.512Z"
   },
   {
    "duration": 2512,
    "start_time": "2023-09-06T19:41:23.543Z"
   },
   {
    "duration": 5,
    "start_time": "2023-09-06T19:41:26.057Z"
   },
   {
    "duration": 3,
    "start_time": "2023-09-06T19:41:26.064Z"
   },
   {
    "duration": 76,
    "start_time": "2023-09-06T19:41:26.069Z"
   },
   {
    "duration": 6,
    "start_time": "2023-09-06T19:41:26.147Z"
   },
   {
    "duration": 26,
    "start_time": "2023-09-06T19:41:26.155Z"
   },
   {
    "duration": 17,
    "start_time": "2023-09-06T19:41:26.182Z"
   },
   {
    "duration": 5,
    "start_time": "2023-09-06T19:41:26.201Z"
   },
   {
    "duration": 5,
    "start_time": "2023-09-06T19:41:26.207Z"
   },
   {
    "duration": 1832,
    "start_time": "2023-09-07T07:47:09.361Z"
   },
   {
    "duration": 2561,
    "start_time": "2023-09-07T07:47:11.196Z"
   },
   {
    "duration": 19,
    "start_time": "2023-09-07T07:47:13.759Z"
   },
   {
    "duration": 44,
    "start_time": "2023-09-07T07:47:13.780Z"
   },
   {
    "duration": 42,
    "start_time": "2023-09-07T07:47:13.827Z"
   },
   {
    "duration": 13,
    "start_time": "2023-09-07T07:47:13.871Z"
   },
   {
    "duration": 4,
    "start_time": "2023-09-07T07:47:13.885Z"
   },
   {
    "duration": 13,
    "start_time": "2023-09-07T07:47:13.890Z"
   },
   {
    "duration": 8,
    "start_time": "2023-09-07T07:47:13.913Z"
   },
   {
    "duration": 9,
    "start_time": "2023-09-07T07:47:13.924Z"
   },
   {
    "duration": 18,
    "start_time": "2023-09-07T07:47:13.935Z"
   },
   {
    "duration": 14,
    "start_time": "2023-09-07T07:47:13.956Z"
   },
   {
    "duration": 17,
    "start_time": "2023-09-07T07:47:13.972Z"
   },
   {
    "duration": 22,
    "start_time": "2023-09-07T07:47:13.991Z"
   },
   {
    "duration": 8,
    "start_time": "2023-09-07T07:47:14.015Z"
   },
   {
    "duration": 21,
    "start_time": "2023-09-07T07:47:14.025Z"
   },
   {
    "duration": 25,
    "start_time": "2023-09-07T07:47:14.048Z"
   },
   {
    "duration": 40,
    "start_time": "2023-09-07T07:47:14.075Z"
   },
   {
    "duration": 13,
    "start_time": "2023-09-07T07:47:14.117Z"
   },
   {
    "duration": 9,
    "start_time": "2023-09-07T07:47:14.131Z"
   },
   {
    "duration": 30,
    "start_time": "2023-09-07T07:47:14.142Z"
   },
   {
    "duration": 356,
    "start_time": "2023-09-07T07:47:14.174Z"
   },
   {
    "duration": 28,
    "start_time": "2023-09-07T07:47:14.532Z"
   },
   {
    "duration": 11,
    "start_time": "2023-09-07T07:47:14.563Z"
   },
   {
    "duration": 308,
    "start_time": "2023-09-07T07:47:14.577Z"
   },
   {
    "duration": 33,
    "start_time": "2023-09-07T07:47:14.886Z"
   },
   {
    "duration": 11,
    "start_time": "2023-09-07T07:47:14.921Z"
   },
   {
    "duration": 325,
    "start_time": "2023-09-07T07:47:14.938Z"
   },
   {
    "duration": 24,
    "start_time": "2023-09-07T07:47:15.265Z"
   },
   {
    "duration": 550,
    "start_time": "2023-09-07T07:47:15.291Z"
   },
   {
    "duration": 407,
    "start_time": "2023-09-07T07:47:15.843Z"
   },
   {
    "duration": 307,
    "start_time": "2023-09-07T07:47:16.252Z"
   },
   {
    "duration": 298,
    "start_time": "2023-09-07T07:47:16.561Z"
   },
   {
    "duration": 504,
    "start_time": "2023-09-07T07:47:16.861Z"
   },
   {
    "duration": 11,
    "start_time": "2023-09-07T07:47:17.368Z"
   },
   {
    "duration": 32,
    "start_time": "2023-09-07T07:47:17.380Z"
   },
   {
    "duration": 52,
    "start_time": "2023-09-07T07:47:17.415Z"
   },
   {
    "duration": 20,
    "start_time": "2023-09-07T07:47:17.469Z"
   },
   {
    "duration": 35,
    "start_time": "2023-09-07T07:47:17.491Z"
   },
   {
    "duration": 317,
    "start_time": "2023-09-07T07:47:17.528Z"
   },
   {
    "duration": 3,
    "start_time": "2023-09-07T07:47:17.847Z"
   },
   {
    "duration": 86,
    "start_time": "2023-09-07T07:47:17.852Z"
   },
   {
    "duration": 39,
    "start_time": "2023-09-07T07:47:17.940Z"
   },
   {
    "duration": 37,
    "start_time": "2023-09-07T07:47:17.981Z"
   },
   {
    "duration": 50,
    "start_time": "2023-09-07T07:47:18.020Z"
   },
   {
    "duration": 4336,
    "start_time": "2023-09-07T07:47:18.073Z"
   },
   {
    "duration": 8,
    "start_time": "2023-09-07T07:47:22.415Z"
   },
   {
    "duration": 53,
    "start_time": "2023-09-07T07:47:22.426Z"
   },
   {
    "duration": 90,
    "start_time": "2023-09-07T07:47:22.482Z"
   },
   {
    "duration": 56,
    "start_time": "2023-09-07T07:47:22.575Z"
   },
   {
    "duration": 46,
    "start_time": "2023-09-07T07:47:22.633Z"
   },
   {
    "duration": 36,
    "start_time": "2023-09-07T07:47:22.681Z"
   },
   {
    "duration": 42,
    "start_time": "2023-09-07T07:47:22.719Z"
   },
   {
    "duration": 25,
    "start_time": "2023-09-07T07:47:22.762Z"
   },
   {
    "duration": 1683,
    "start_time": "2023-09-07T08:03:21.882Z"
   },
   {
    "duration": 958,
    "start_time": "2023-09-07T08:03:23.568Z"
   },
   {
    "duration": 23,
    "start_time": "2023-09-07T08:03:24.528Z"
   },
   {
    "duration": 24,
    "start_time": "2023-09-07T08:03:24.554Z"
   },
   {
    "duration": 49,
    "start_time": "2023-09-07T08:03:24.580Z"
   },
   {
    "duration": 15,
    "start_time": "2023-09-07T08:03:24.631Z"
   },
   {
    "duration": 6,
    "start_time": "2023-09-07T08:03:24.648Z"
   },
   {
    "duration": 26,
    "start_time": "2023-09-07T08:03:24.656Z"
   },
   {
    "duration": 28,
    "start_time": "2023-09-07T08:03:24.685Z"
   },
   {
    "duration": 60,
    "start_time": "2023-09-07T08:03:24.716Z"
   },
   {
    "duration": 15,
    "start_time": "2023-09-07T08:03:24.778Z"
   },
   {
    "duration": 23,
    "start_time": "2023-09-07T08:03:24.796Z"
   },
   {
    "duration": 9,
    "start_time": "2023-09-07T08:03:24.823Z"
   },
   {
    "duration": 18,
    "start_time": "2023-09-07T08:03:24.834Z"
   },
   {
    "duration": 20,
    "start_time": "2023-09-07T08:03:24.854Z"
   },
   {
    "duration": 21,
    "start_time": "2023-09-07T08:03:24.877Z"
   },
   {
    "duration": 27,
    "start_time": "2023-09-07T08:03:24.900Z"
   },
   {
    "duration": 29,
    "start_time": "2023-09-07T08:03:24.929Z"
   },
   {
    "duration": 10,
    "start_time": "2023-09-07T08:03:24.960Z"
   },
   {
    "duration": 10,
    "start_time": "2023-09-07T08:03:24.972Z"
   },
   {
    "duration": 34,
    "start_time": "2023-09-07T08:03:24.983Z"
   },
   {
    "duration": 390,
    "start_time": "2023-09-07T08:03:25.019Z"
   },
   {
    "duration": 23,
    "start_time": "2023-09-07T08:03:25.411Z"
   },
   {
    "duration": 29,
    "start_time": "2023-09-07T08:03:25.435Z"
   },
   {
    "duration": 275,
    "start_time": "2023-09-07T08:03:25.466Z"
   },
   {
    "duration": 26,
    "start_time": "2023-09-07T08:03:25.743Z"
   },
   {
    "duration": 33,
    "start_time": "2023-09-07T08:03:25.772Z"
   },
   {
    "duration": 306,
    "start_time": "2023-09-07T08:03:25.812Z"
   },
   {
    "duration": 25,
    "start_time": "2023-09-07T08:03:26.120Z"
   },
   {
    "duration": 425,
    "start_time": "2023-09-07T08:03:26.147Z"
   },
   {
    "duration": 336,
    "start_time": "2023-09-07T08:03:26.574Z"
   },
   {
    "duration": 312,
    "start_time": "2023-09-07T08:03:26.915Z"
   },
   {
    "duration": 338,
    "start_time": "2023-09-07T08:03:27.230Z"
   },
   {
    "duration": 522,
    "start_time": "2023-09-07T08:03:27.571Z"
   },
   {
    "duration": 22,
    "start_time": "2023-09-07T08:03:28.095Z"
   },
   {
    "duration": 32,
    "start_time": "2023-09-07T08:03:28.120Z"
   },
   {
    "duration": 15,
    "start_time": "2023-09-07T08:03:28.154Z"
   },
   {
    "duration": 36,
    "start_time": "2023-09-07T08:03:28.172Z"
   },
   {
    "duration": 10,
    "start_time": "2023-09-07T08:03:28.209Z"
   },
   {
    "duration": 297,
    "start_time": "2023-09-07T08:03:28.221Z"
   },
   {
    "duration": 4,
    "start_time": "2023-09-07T08:03:28.520Z"
   },
   {
    "duration": 17,
    "start_time": "2023-09-07T08:03:28.527Z"
   },
   {
    "duration": 26,
    "start_time": "2023-09-07T08:03:28.546Z"
   },
   {
    "duration": 18,
    "start_time": "2023-09-07T08:03:28.574Z"
   },
   {
    "duration": 17,
    "start_time": "2023-09-07T08:03:28.594Z"
   },
   {
    "duration": 4513,
    "start_time": "2023-09-07T08:03:28.612Z"
   },
   {
    "duration": 7,
    "start_time": "2023-09-07T08:03:33.127Z"
   },
   {
    "duration": 86,
    "start_time": "2023-09-07T08:03:33.136Z"
   },
   {
    "duration": 19,
    "start_time": "2023-09-07T08:03:33.224Z"
   },
   {
    "duration": 34,
    "start_time": "2023-09-07T08:03:33.244Z"
   },
   {
    "duration": 28,
    "start_time": "2023-09-07T08:03:33.279Z"
   },
   {
    "duration": 7,
    "start_time": "2023-09-07T08:03:33.312Z"
   },
   {
    "duration": 12,
    "start_time": "2023-09-07T08:03:33.322Z"
   },
   {
    "duration": 18,
    "start_time": "2023-09-07T08:03:33.336Z"
   },
   {
    "duration": 280785,
    "start_time": "2023-09-07T08:03:33.356Z"
   },
   {
    "duration": 4,
    "start_time": "2023-09-07T08:08:14.143Z"
   },
   {
    "duration": 127,
    "start_time": "2023-09-07T08:27:28.246Z"
   },
   {
    "duration": 0,
    "start_time": "2023-09-07T08:27:28.374Z"
   },
   {
    "duration": 0,
    "start_time": "2023-09-07T08:27:28.376Z"
   },
   {
    "duration": 0,
    "start_time": "2023-09-07T08:27:28.377Z"
   },
   {
    "duration": 0,
    "start_time": "2023-09-07T08:27:28.378Z"
   },
   {
    "duration": 0,
    "start_time": "2023-09-07T08:27:28.380Z"
   },
   {
    "duration": 0,
    "start_time": "2023-09-07T08:27:28.381Z"
   },
   {
    "duration": 0,
    "start_time": "2023-09-07T08:27:28.403Z"
   },
   {
    "duration": 0,
    "start_time": "2023-09-07T08:27:28.406Z"
   },
   {
    "duration": 0,
    "start_time": "2023-09-07T08:27:28.409Z"
   },
   {
    "duration": 1,
    "start_time": "2023-09-07T08:27:28.414Z"
   },
   {
    "duration": 0,
    "start_time": "2023-09-07T08:27:28.417Z"
   },
   {
    "duration": 0,
    "start_time": "2023-09-07T08:27:28.419Z"
   },
   {
    "duration": 0,
    "start_time": "2023-09-07T08:27:28.421Z"
   },
   {
    "duration": 0,
    "start_time": "2023-09-07T08:27:28.422Z"
   },
   {
    "duration": 0,
    "start_time": "2023-09-07T08:27:28.423Z"
   },
   {
    "duration": 0,
    "start_time": "2023-09-07T08:27:28.424Z"
   },
   {
    "duration": 0,
    "start_time": "2023-09-07T08:27:28.426Z"
   },
   {
    "duration": 0,
    "start_time": "2023-09-07T08:27:28.427Z"
   },
   {
    "duration": 0,
    "start_time": "2023-09-07T08:27:28.430Z"
   },
   {
    "duration": 12,
    "start_time": "2023-09-07T08:31:22.423Z"
   },
   {
    "duration": 1162693,
    "start_time": "2023-09-07T08:31:36.974Z"
   },
   {
    "duration": 4,
    "start_time": "2023-09-07T09:07:55.353Z"
   },
   {
    "duration": 2475,
    "start_time": "2023-09-07T09:08:38.135Z"
   },
   {
    "duration": 290820,
    "start_time": "2023-09-07T09:09:28.351Z"
   },
   {
    "duration": 19,
    "start_time": "2023-09-07T09:26:15.030Z"
   },
   {
    "duration": 10,
    "start_time": "2023-09-07T09:27:22.675Z"
   },
   {
    "duration": 10,
    "start_time": "2023-09-07T09:28:13.285Z"
   },
   {
    "duration": 13,
    "start_time": "2023-09-07T09:30:07.409Z"
   },
   {
    "duration": 13,
    "start_time": "2023-09-07T09:30:33.675Z"
   },
   {
    "duration": 282457,
    "start_time": "2023-09-07T09:32:11.526Z"
   },
   {
    "duration": 1221,
    "start_time": "2023-09-07T09:43:46.288Z"
   },
   {
    "duration": 9,
    "start_time": "2023-09-07T09:44:41.930Z"
   },
   {
    "duration": 9,
    "start_time": "2023-09-07T09:44:58.226Z"
   },
   {
    "duration": 1226,
    "start_time": "2023-09-07T09:45:32.888Z"
   },
   {
    "duration": 6,
    "start_time": "2023-09-07T09:46:10.087Z"
   },
   {
    "duration": 1048,
    "start_time": "2023-09-07T09:47:12.568Z"
   },
   {
    "duration": 6,
    "start_time": "2023-09-07T09:49:59.477Z"
   },
   {
    "duration": 46271,
    "start_time": "2023-09-07T09:50:39.255Z"
   },
   {
    "duration": 46910,
    "start_time": "2023-09-07T09:52:25.727Z"
   },
   {
    "duration": 0,
    "start_time": "2023-09-07T10:03:10.428Z"
   },
   {
    "duration": 1671,
    "start_time": "2023-09-07T10:12:11.089Z"
   },
   {
    "duration": 921,
    "start_time": "2023-09-07T10:12:12.762Z"
   },
   {
    "duration": 31,
    "start_time": "2023-09-07T10:12:13.684Z"
   },
   {
    "duration": 14,
    "start_time": "2023-09-07T10:12:13.716Z"
   },
   {
    "duration": 41,
    "start_time": "2023-09-07T10:12:13.733Z"
   },
   {
    "duration": 13,
    "start_time": "2023-09-07T10:12:13.776Z"
   },
   {
    "duration": 13,
    "start_time": "2023-09-07T10:12:13.791Z"
   },
   {
    "duration": 18,
    "start_time": "2023-09-07T10:12:13.807Z"
   },
   {
    "duration": 16,
    "start_time": "2023-09-07T10:12:13.827Z"
   },
   {
    "duration": 29,
    "start_time": "2023-09-07T10:12:13.845Z"
   },
   {
    "duration": 13,
    "start_time": "2023-09-07T10:12:13.875Z"
   },
   {
    "duration": 23,
    "start_time": "2023-09-07T10:12:13.890Z"
   },
   {
    "duration": 14,
    "start_time": "2023-09-07T10:12:13.916Z"
   },
   {
    "duration": 13,
    "start_time": "2023-09-07T10:12:13.934Z"
   },
   {
    "duration": 25,
    "start_time": "2023-09-07T10:12:13.949Z"
   },
   {
    "duration": 41,
    "start_time": "2023-09-07T10:12:13.976Z"
   },
   {
    "duration": 51,
    "start_time": "2023-09-07T10:12:14.019Z"
   },
   {
    "duration": 34,
    "start_time": "2023-09-07T10:12:14.072Z"
   },
   {
    "duration": 16,
    "start_time": "2023-09-07T10:12:14.109Z"
   },
   {
    "duration": 35,
    "start_time": "2023-09-07T10:12:14.127Z"
   },
   {
    "duration": 12,
    "start_time": "2023-09-07T10:12:14.164Z"
   },
   {
    "duration": 315,
    "start_time": "2023-09-07T10:12:14.178Z"
   },
   {
    "duration": 29,
    "start_time": "2023-09-07T10:12:14.495Z"
   },
   {
    "duration": 20,
    "start_time": "2023-09-07T10:12:14.526Z"
   },
   {
    "duration": 328,
    "start_time": "2023-09-07T10:12:14.548Z"
   },
   {
    "duration": 41,
    "start_time": "2023-09-07T10:12:14.878Z"
   },
   {
    "duration": 11,
    "start_time": "2023-09-07T10:12:14.922Z"
   },
   {
    "duration": 300,
    "start_time": "2023-09-07T10:12:14.935Z"
   },
   {
    "duration": 20,
    "start_time": "2023-09-07T10:12:15.237Z"
   },
   {
    "duration": 455,
    "start_time": "2023-09-07T10:12:15.258Z"
   },
   {
    "duration": 293,
    "start_time": "2023-09-07T10:12:15.715Z"
   },
   {
    "duration": 265,
    "start_time": "2023-09-07T10:12:16.016Z"
   },
   {
    "duration": 297,
    "start_time": "2023-09-07T10:12:16.283Z"
   },
   {
    "duration": 468,
    "start_time": "2023-09-07T10:12:16.582Z"
   },
   {
    "duration": 8,
    "start_time": "2023-09-07T10:12:17.052Z"
   },
   {
    "duration": 124,
    "start_time": "2023-09-07T10:12:17.061Z"
   },
   {
    "duration": 37,
    "start_time": "2023-09-07T10:12:17.186Z"
   },
   {
    "duration": 34,
    "start_time": "2023-09-07T10:12:17.225Z"
   },
   {
    "duration": 21,
    "start_time": "2023-09-07T10:12:17.261Z"
   },
   {
    "duration": 339,
    "start_time": "2023-09-07T10:12:17.284Z"
   },
   {
    "duration": 3,
    "start_time": "2023-09-07T10:12:17.628Z"
   },
   {
    "duration": 32,
    "start_time": "2023-09-07T10:12:17.634Z"
   },
   {
    "duration": 62,
    "start_time": "2023-09-07T10:12:17.668Z"
   },
   {
    "duration": 31,
    "start_time": "2023-09-07T10:12:17.732Z"
   },
   {
    "duration": 19,
    "start_time": "2023-09-07T10:12:17.765Z"
   },
   {
    "duration": 3219,
    "start_time": "2023-09-07T10:12:17.786Z"
   },
   {
    "duration": 5,
    "start_time": "2023-09-07T10:12:21.007Z"
   },
   {
    "duration": 42,
    "start_time": "2023-09-07T10:12:21.015Z"
   },
   {
    "duration": 140,
    "start_time": "2023-09-07T10:12:21.059Z"
   },
   {
    "duration": 52,
    "start_time": "2023-09-07T10:12:21.200Z"
   },
   {
    "duration": 244,
    "start_time": "2023-09-07T10:12:21.254Z"
   },
   {
    "duration": 115,
    "start_time": "2023-09-07T10:12:21.500Z"
   },
   {
    "duration": 136,
    "start_time": "2023-09-07T10:12:21.617Z"
   },
   {
    "duration": 142,
    "start_time": "2023-09-07T10:12:21.755Z"
   },
   {
    "duration": 65,
    "start_time": "2023-09-07T10:12:21.899Z"
   },
   {
    "duration": 295,
    "start_time": "2023-09-07T10:16:58.939Z"
   },
   {
    "duration": 0,
    "start_time": "2023-09-07T10:16:59.236Z"
   },
   {
    "duration": 0,
    "start_time": "2023-09-07T10:16:59.237Z"
   },
   {
    "duration": 0,
    "start_time": "2023-09-07T10:16:59.239Z"
   },
   {
    "duration": 0,
    "start_time": "2023-09-07T10:16:59.240Z"
   },
   {
    "duration": 0,
    "start_time": "2023-09-07T10:16:59.241Z"
   },
   {
    "duration": 0,
    "start_time": "2023-09-07T10:16:59.242Z"
   },
   {
    "duration": 0,
    "start_time": "2023-09-07T10:16:59.243Z"
   },
   {
    "duration": 0,
    "start_time": "2023-09-07T10:16:59.244Z"
   },
   {
    "duration": 0,
    "start_time": "2023-09-07T10:16:59.245Z"
   },
   {
    "duration": 0,
    "start_time": "2023-09-07T10:16:59.246Z"
   },
   {
    "duration": 0,
    "start_time": "2023-09-07T10:16:59.247Z"
   },
   {
    "duration": 0,
    "start_time": "2023-09-07T10:16:59.248Z"
   },
   {
    "duration": 0,
    "start_time": "2023-09-07T10:16:59.250Z"
   },
   {
    "duration": 0,
    "start_time": "2023-09-07T10:16:59.251Z"
   },
   {
    "duration": 0,
    "start_time": "2023-09-07T10:16:59.252Z"
   },
   {
    "duration": 0,
    "start_time": "2023-09-07T10:16:59.253Z"
   },
   {
    "duration": 0,
    "start_time": "2023-09-07T10:16:59.254Z"
   },
   {
    "duration": 0,
    "start_time": "2023-09-07T10:16:59.255Z"
   },
   {
    "duration": 0,
    "start_time": "2023-09-07T10:16:59.256Z"
   },
   {
    "duration": 0,
    "start_time": "2023-09-07T10:16:59.258Z"
   },
   {
    "duration": 0,
    "start_time": "2023-09-07T10:16:59.259Z"
   },
   {
    "duration": 1614,
    "start_time": "2023-09-07T10:18:51.660Z"
   },
   {
    "duration": 907,
    "start_time": "2023-09-07T10:18:53.276Z"
   },
   {
    "duration": 32,
    "start_time": "2023-09-07T10:18:54.185Z"
   },
   {
    "duration": 14,
    "start_time": "2023-09-07T10:18:54.219Z"
   },
   {
    "duration": 17,
    "start_time": "2023-09-07T10:18:54.235Z"
   },
   {
    "duration": 13,
    "start_time": "2023-09-07T10:18:54.254Z"
   },
   {
    "duration": 33,
    "start_time": "2023-09-07T10:18:54.269Z"
   },
   {
    "duration": 13,
    "start_time": "2023-09-07T10:18:54.303Z"
   },
   {
    "duration": 6,
    "start_time": "2023-09-07T10:18:54.319Z"
   },
   {
    "duration": 8,
    "start_time": "2023-09-07T10:18:54.327Z"
   },
   {
    "duration": 19,
    "start_time": "2023-09-07T10:18:54.337Z"
   },
   {
    "duration": 13,
    "start_time": "2023-09-07T10:18:54.358Z"
   },
   {
    "duration": 6,
    "start_time": "2023-09-07T10:18:54.372Z"
   },
   {
    "duration": 16,
    "start_time": "2023-09-07T10:18:54.381Z"
   },
   {
    "duration": 19,
    "start_time": "2023-09-07T10:18:54.399Z"
   },
   {
    "duration": 38,
    "start_time": "2023-09-07T10:18:54.420Z"
   },
   {
    "duration": 12,
    "start_time": "2023-09-07T10:18:54.460Z"
   },
   {
    "duration": 22,
    "start_time": "2023-09-07T10:18:54.473Z"
   },
   {
    "duration": 15,
    "start_time": "2023-09-07T10:18:54.497Z"
   },
   {
    "duration": 9,
    "start_time": "2023-09-07T10:18:54.514Z"
   },
   {
    "duration": 10,
    "start_time": "2023-09-07T10:18:54.524Z"
   },
   {
    "duration": 378,
    "start_time": "2023-09-07T10:18:54.536Z"
   },
   {
    "duration": 25,
    "start_time": "2023-09-07T10:18:54.915Z"
   },
   {
    "duration": 14,
    "start_time": "2023-09-07T10:18:54.943Z"
   },
   {
    "duration": 273,
    "start_time": "2023-09-07T10:18:54.959Z"
   },
   {
    "duration": 20,
    "start_time": "2023-09-07T10:18:55.234Z"
   },
   {
    "duration": 8,
    "start_time": "2023-09-07T10:18:55.255Z"
   },
   {
    "duration": 287,
    "start_time": "2023-09-07T10:18:55.265Z"
   },
   {
    "duration": 20,
    "start_time": "2023-09-07T10:18:55.553Z"
   },
   {
    "duration": 392,
    "start_time": "2023-09-07T10:18:55.574Z"
   },
   {
    "duration": 293,
    "start_time": "2023-09-07T10:18:55.968Z"
   },
   {
    "duration": 286,
    "start_time": "2023-09-07T10:18:56.263Z"
   },
   {
    "duration": 289,
    "start_time": "2023-09-07T10:18:56.551Z"
   },
   {
    "duration": 481,
    "start_time": "2023-09-07T10:18:56.842Z"
   },
   {
    "duration": 7,
    "start_time": "2023-09-07T10:18:57.325Z"
   },
   {
    "duration": 15,
    "start_time": "2023-09-07T10:18:57.334Z"
   },
   {
    "duration": 10,
    "start_time": "2023-09-07T10:18:57.350Z"
   },
   {
    "duration": 8,
    "start_time": "2023-09-07T10:18:57.362Z"
   },
   {
    "duration": 8,
    "start_time": "2023-09-07T10:18:57.372Z"
   },
   {
    "duration": 278,
    "start_time": "2023-09-07T10:18:57.381Z"
   },
   {
    "duration": 3,
    "start_time": "2023-09-07T10:18:57.664Z"
   },
   {
    "duration": 22,
    "start_time": "2023-09-07T10:18:57.669Z"
   },
   {
    "duration": 36,
    "start_time": "2023-09-07T10:18:57.693Z"
   },
   {
    "duration": 10,
    "start_time": "2023-09-07T10:18:57.731Z"
   },
   {
    "duration": 8,
    "start_time": "2023-09-07T10:18:57.742Z"
   },
   {
    "duration": 3869,
    "start_time": "2023-09-07T10:18:57.752Z"
   },
   {
    "duration": 93,
    "start_time": "2023-09-07T10:19:01.623Z"
   },
   {
    "duration": 467,
    "start_time": "2023-09-07T10:19:01.718Z"
   },
   {
    "duration": 542,
    "start_time": "2023-09-07T10:19:02.187Z"
   },
   {
    "duration": 75,
    "start_time": "2023-09-07T10:19:02.730Z"
   },
   {
    "duration": 35,
    "start_time": "2023-09-07T10:19:02.810Z"
   },
   {
    "duration": 37,
    "start_time": "2023-09-07T10:19:02.846Z"
   },
   {
    "duration": 106,
    "start_time": "2023-09-07T10:19:02.885Z"
   },
   {
    "duration": 29,
    "start_time": "2023-09-07T10:19:02.993Z"
   },
   {
    "duration": 24,
    "start_time": "2023-09-07T10:19:03.024Z"
   },
   {
    "duration": 151,
    "start_time": "2023-09-07T10:23:38.837Z"
   },
   {
    "duration": 0,
    "start_time": "2023-09-07T10:23:38.990Z"
   },
   {
    "duration": 0,
    "start_time": "2023-09-07T10:23:38.992Z"
   },
   {
    "duration": 0,
    "start_time": "2023-09-07T10:23:38.994Z"
   },
   {
    "duration": 0,
    "start_time": "2023-09-07T10:23:38.995Z"
   },
   {
    "duration": 0,
    "start_time": "2023-09-07T10:23:39.001Z"
   },
   {
    "duration": 0,
    "start_time": "2023-09-07T10:23:39.002Z"
   },
   {
    "duration": 0,
    "start_time": "2023-09-07T10:23:39.003Z"
   },
   {
    "duration": 0,
    "start_time": "2023-09-07T10:23:39.004Z"
   },
   {
    "duration": 0,
    "start_time": "2023-09-07T10:23:39.004Z"
   },
   {
    "duration": 0,
    "start_time": "2023-09-07T10:23:39.005Z"
   },
   {
    "duration": 0,
    "start_time": "2023-09-07T10:23:39.006Z"
   },
   {
    "duration": 0,
    "start_time": "2023-09-07T10:23:39.013Z"
   },
   {
    "duration": 0,
    "start_time": "2023-09-07T10:23:39.014Z"
   },
   {
    "duration": 0,
    "start_time": "2023-09-07T10:23:39.017Z"
   },
   {
    "duration": 0,
    "start_time": "2023-09-07T10:23:39.018Z"
   },
   {
    "duration": 0,
    "start_time": "2023-09-07T10:23:39.019Z"
   },
   {
    "duration": 0,
    "start_time": "2023-09-07T10:23:39.021Z"
   },
   {
    "duration": 0,
    "start_time": "2023-09-07T10:23:39.022Z"
   },
   {
    "duration": 0,
    "start_time": "2023-09-07T10:23:39.024Z"
   },
   {
    "duration": 1780,
    "start_time": "2023-09-07T10:28:52.918Z"
   },
   {
    "duration": 1009,
    "start_time": "2023-09-07T10:28:54.709Z"
   },
   {
    "duration": 19,
    "start_time": "2023-09-07T10:28:55.721Z"
   },
   {
    "duration": 13,
    "start_time": "2023-09-07T10:28:55.742Z"
   },
   {
    "duration": 18,
    "start_time": "2023-09-07T10:28:55.757Z"
   },
   {
    "duration": 41,
    "start_time": "2023-09-07T10:28:55.777Z"
   },
   {
    "duration": 4,
    "start_time": "2023-09-07T10:28:55.819Z"
   },
   {
    "duration": 8,
    "start_time": "2023-09-07T10:28:55.825Z"
   },
   {
    "duration": 6,
    "start_time": "2023-09-07T10:28:55.836Z"
   },
   {
    "duration": 7,
    "start_time": "2023-09-07T10:28:55.844Z"
   },
   {
    "duration": 10,
    "start_time": "2023-09-07T10:28:55.853Z"
   },
   {
    "duration": 18,
    "start_time": "2023-09-07T10:28:55.865Z"
   },
   {
    "duration": 23,
    "start_time": "2023-09-07T10:28:55.885Z"
   },
   {
    "duration": 14,
    "start_time": "2023-09-07T10:28:55.910Z"
   },
   {
    "duration": 15,
    "start_time": "2023-09-07T10:28:55.926Z"
   },
   {
    "duration": 16,
    "start_time": "2023-09-07T10:28:55.942Z"
   },
   {
    "duration": 13,
    "start_time": "2023-09-07T10:28:55.959Z"
   },
   {
    "duration": 40,
    "start_time": "2023-09-07T10:28:55.973Z"
   },
   {
    "duration": 12,
    "start_time": "2023-09-07T10:28:56.014Z"
   },
   {
    "duration": 24,
    "start_time": "2023-09-07T10:28:56.028Z"
   },
   {
    "duration": 23,
    "start_time": "2023-09-07T10:28:56.054Z"
   },
   {
    "duration": 298,
    "start_time": "2023-09-07T10:28:56.079Z"
   },
   {
    "duration": 41,
    "start_time": "2023-09-07T10:28:56.378Z"
   },
   {
    "duration": 9,
    "start_time": "2023-09-07T10:28:56.421Z"
   },
   {
    "duration": 285,
    "start_time": "2023-09-07T10:28:56.432Z"
   },
   {
    "duration": 19,
    "start_time": "2023-09-07T10:28:56.719Z"
   },
   {
    "duration": 8,
    "start_time": "2023-09-07T10:28:56.742Z"
   },
   {
    "duration": 302,
    "start_time": "2023-09-07T10:28:56.752Z"
   },
   {
    "duration": 23,
    "start_time": "2023-09-07T10:28:57.056Z"
   },
   {
    "duration": 442,
    "start_time": "2023-09-07T10:28:57.081Z"
   },
   {
    "duration": 288,
    "start_time": "2023-09-07T10:28:57.525Z"
   },
   {
    "duration": 283,
    "start_time": "2023-09-07T10:28:57.816Z"
   },
   {
    "duration": 267,
    "start_time": "2023-09-07T10:28:58.109Z"
   },
   {
    "duration": 513,
    "start_time": "2023-09-07T10:28:58.378Z"
   },
   {
    "duration": 25,
    "start_time": "2023-09-07T10:28:58.893Z"
   },
   {
    "duration": 9,
    "start_time": "2023-09-07T10:28:58.920Z"
   },
   {
    "duration": 32,
    "start_time": "2023-09-07T10:28:58.931Z"
   },
   {
    "duration": 48,
    "start_time": "2023-09-07T10:28:58.965Z"
   },
   {
    "duration": 23,
    "start_time": "2023-09-07T10:28:59.015Z"
   },
   {
    "duration": 298,
    "start_time": "2023-09-07T10:28:59.040Z"
   },
   {
    "duration": 3,
    "start_time": "2023-09-07T10:28:59.340Z"
   },
   {
    "duration": 17,
    "start_time": "2023-09-07T10:28:59.345Z"
   },
   {
    "duration": 27,
    "start_time": "2023-09-07T10:28:59.364Z"
   },
   {
    "duration": 30,
    "start_time": "2023-09-07T10:28:59.393Z"
   },
   {
    "duration": 36,
    "start_time": "2023-09-07T10:28:59.424Z"
   },
   {
    "duration": 3256,
    "start_time": "2023-09-07T10:28:59.461Z"
   },
   {
    "duration": 82,
    "start_time": "2023-09-07T10:29:02.724Z"
   },
   {
    "duration": 49,
    "start_time": "2023-09-07T10:29:02.808Z"
   },
   {
    "duration": 34,
    "start_time": "2023-09-07T10:29:02.859Z"
   },
   {
    "duration": 64,
    "start_time": "2023-09-07T10:29:02.895Z"
   },
   {
    "duration": 58,
    "start_time": "2023-09-07T10:29:02.961Z"
   },
   {
    "duration": 46,
    "start_time": "2023-09-07T10:29:03.021Z"
   },
   {
    "duration": 20,
    "start_time": "2023-09-07T10:29:03.069Z"
   },
   {
    "duration": 31,
    "start_time": "2023-09-07T10:29:03.091Z"
   },
   {
    "duration": 25,
    "start_time": "2023-09-07T10:29:03.124Z"
   },
   {
    "duration": 47,
    "start_time": "2023-09-07T10:29:03.150Z"
   },
   {
    "duration": 0,
    "start_time": "2023-09-07T10:29:03.199Z"
   },
   {
    "duration": 0,
    "start_time": "2023-09-07T10:29:03.200Z"
   },
   {
    "duration": 0,
    "start_time": "2023-09-07T10:29:03.211Z"
   },
   {
    "duration": 0,
    "start_time": "2023-09-07T10:29:03.212Z"
   },
   {
    "duration": 0,
    "start_time": "2023-09-07T10:29:03.213Z"
   },
   {
    "duration": 0,
    "start_time": "2023-09-07T10:29:03.215Z"
   },
   {
    "duration": 0,
    "start_time": "2023-09-07T10:29:03.216Z"
   },
   {
    "duration": 0,
    "start_time": "2023-09-07T10:29:03.217Z"
   },
   {
    "duration": 0,
    "start_time": "2023-09-07T10:29:03.218Z"
   },
   {
    "duration": 0,
    "start_time": "2023-09-07T10:29:03.218Z"
   },
   {
    "duration": 0,
    "start_time": "2023-09-07T10:29:03.220Z"
   },
   {
    "duration": 0,
    "start_time": "2023-09-07T10:29:03.222Z"
   },
   {
    "duration": 0,
    "start_time": "2023-09-07T10:29:03.223Z"
   },
   {
    "duration": 0,
    "start_time": "2023-09-07T10:29:03.225Z"
   },
   {
    "duration": 0,
    "start_time": "2023-09-07T10:29:03.226Z"
   },
   {
    "duration": 0,
    "start_time": "2023-09-07T10:29:03.227Z"
   },
   {
    "duration": 0,
    "start_time": "2023-09-07T10:29:03.229Z"
   },
   {
    "duration": 0,
    "start_time": "2023-09-07T10:29:03.231Z"
   },
   {
    "duration": 0,
    "start_time": "2023-09-07T10:29:03.232Z"
   },
   {
    "duration": 0,
    "start_time": "2023-09-07T10:29:03.234Z"
   },
   {
    "duration": 0,
    "start_time": "2023-09-07T10:29:03.236Z"
   },
   {
    "duration": 44031,
    "start_time": "2023-09-07T10:29:28.796Z"
   },
   {
    "duration": 0,
    "start_time": "2023-09-07T10:30:12.829Z"
   },
   {
    "duration": 45937,
    "start_time": "2023-09-07T10:31:02.676Z"
   },
   {
    "duration": 44238,
    "start_time": "2023-09-07T10:34:13.065Z"
   },
   {
    "duration": 10,
    "start_time": "2023-09-07T10:35:16.170Z"
   },
   {
    "duration": 1761,
    "start_time": "2023-09-07T10:52:23.598Z"
   },
   {
    "duration": 1009,
    "start_time": "2023-09-07T10:52:25.362Z"
   },
   {
    "duration": 18,
    "start_time": "2023-09-07T10:52:26.373Z"
   },
   {
    "duration": 23,
    "start_time": "2023-09-07T10:52:26.401Z"
   },
   {
    "duration": 34,
    "start_time": "2023-09-07T10:52:26.426Z"
   },
   {
    "duration": 13,
    "start_time": "2023-09-07T10:52:26.462Z"
   },
   {
    "duration": 37,
    "start_time": "2023-09-07T10:52:26.477Z"
   },
   {
    "duration": 8,
    "start_time": "2023-09-07T10:52:26.516Z"
   },
   {
    "duration": 88,
    "start_time": "2023-09-07T10:52:26.526Z"
   },
   {
    "duration": 7,
    "start_time": "2023-09-07T10:52:26.619Z"
   },
   {
    "duration": 21,
    "start_time": "2023-09-07T10:52:26.627Z"
   },
   {
    "duration": 12,
    "start_time": "2023-09-07T10:52:26.650Z"
   },
   {
    "duration": 51,
    "start_time": "2023-09-07T10:52:26.664Z"
   },
   {
    "duration": 23,
    "start_time": "2023-09-07T10:52:26.717Z"
   },
   {
    "duration": 34,
    "start_time": "2023-09-07T10:52:26.742Z"
   },
   {
    "duration": 36,
    "start_time": "2023-09-07T10:52:26.778Z"
   },
   {
    "duration": 40,
    "start_time": "2023-09-07T10:52:26.815Z"
   },
   {
    "duration": 33,
    "start_time": "2023-09-07T10:52:26.857Z"
   },
   {
    "duration": 53,
    "start_time": "2023-09-07T10:52:26.892Z"
   },
   {
    "duration": 29,
    "start_time": "2023-09-07T10:52:26.947Z"
   },
   {
    "duration": 32,
    "start_time": "2023-09-07T10:52:26.978Z"
   },
   {
    "duration": 328,
    "start_time": "2023-09-07T10:52:27.011Z"
   },
   {
    "duration": 27,
    "start_time": "2023-09-07T10:52:27.341Z"
   },
   {
    "duration": 151,
    "start_time": "2023-09-07T10:52:27.370Z"
   },
   {
    "duration": 267,
    "start_time": "2023-09-07T10:52:27.523Z"
   },
   {
    "duration": 32,
    "start_time": "2023-09-07T10:52:27.793Z"
   },
   {
    "duration": 20,
    "start_time": "2023-09-07T10:52:27.827Z"
   },
   {
    "duration": 285,
    "start_time": "2023-09-07T10:52:27.851Z"
   },
   {
    "duration": 22,
    "start_time": "2023-09-07T10:52:28.138Z"
   },
   {
    "duration": 431,
    "start_time": "2023-09-07T10:52:28.163Z"
   },
   {
    "duration": 328,
    "start_time": "2023-09-07T10:52:28.596Z"
   },
   {
    "duration": 312,
    "start_time": "2023-09-07T10:52:28.925Z"
   },
   {
    "duration": 309,
    "start_time": "2023-09-07T10:52:29.238Z"
   },
   {
    "duration": 512,
    "start_time": "2023-09-07T10:52:29.549Z"
   },
   {
    "duration": 9,
    "start_time": "2023-09-07T10:52:30.063Z"
   },
   {
    "duration": 44,
    "start_time": "2023-09-07T10:52:30.074Z"
   },
   {
    "duration": 15,
    "start_time": "2023-09-07T10:52:30.120Z"
   },
   {
    "duration": 28,
    "start_time": "2023-09-07T10:52:30.137Z"
   },
   {
    "duration": 62,
    "start_time": "2023-09-07T10:52:30.167Z"
   },
   {
    "duration": 325,
    "start_time": "2023-09-07T10:52:30.231Z"
   },
   {
    "duration": 5,
    "start_time": "2023-09-07T10:52:30.558Z"
   },
   {
    "duration": 78,
    "start_time": "2023-09-07T10:52:30.565Z"
   },
   {
    "duration": 75,
    "start_time": "2023-09-07T10:52:30.645Z"
   },
   {
    "duration": 39,
    "start_time": "2023-09-07T10:52:30.722Z"
   },
   {
    "duration": 42,
    "start_time": "2023-09-07T10:52:30.763Z"
   },
   {
    "duration": 4394,
    "start_time": "2023-09-07T10:52:30.807Z"
   },
   {
    "duration": 5,
    "start_time": "2023-09-07T10:52:35.209Z"
   },
   {
    "duration": 94,
    "start_time": "2023-09-07T10:52:35.217Z"
   },
   {
    "duration": 5,
    "start_time": "2023-09-07T10:52:35.317Z"
   },
   {
    "duration": 10,
    "start_time": "2023-09-07T10:52:35.324Z"
   },
   {
    "duration": 7,
    "start_time": "2023-09-07T10:52:35.335Z"
   },
   {
    "duration": 9,
    "start_time": "2023-09-07T10:52:35.343Z"
   },
   {
    "duration": 13,
    "start_time": "2023-09-07T10:52:35.354Z"
   },
   {
    "duration": 4,
    "start_time": "2023-09-07T10:52:35.369Z"
   },
   {
    "duration": 7,
    "start_time": "2023-09-07T10:52:35.375Z"
   },
   {
    "duration": 292194,
    "start_time": "2023-09-07T10:52:35.384Z"
   },
   {
    "duration": 8,
    "start_time": "2023-09-07T10:57:27.579Z"
   },
   {
    "duration": 170,
    "start_time": "2023-09-07T10:57:27.588Z"
   },
   {
    "duration": 0,
    "start_time": "2023-09-07T10:57:27.759Z"
   },
   {
    "duration": 0,
    "start_time": "2023-09-07T10:57:27.761Z"
   },
   {
    "duration": 0,
    "start_time": "2023-09-07T10:57:27.762Z"
   },
   {
    "duration": 0,
    "start_time": "2023-09-07T10:57:27.763Z"
   },
   {
    "duration": 0,
    "start_time": "2023-09-07T10:57:27.764Z"
   },
   {
    "duration": 0,
    "start_time": "2023-09-07T10:57:27.766Z"
   },
   {
    "duration": 0,
    "start_time": "2023-09-07T10:57:27.767Z"
   },
   {
    "duration": 0,
    "start_time": "2023-09-07T10:57:27.768Z"
   },
   {
    "duration": 0,
    "start_time": "2023-09-07T10:57:27.770Z"
   },
   {
    "duration": 0,
    "start_time": "2023-09-07T10:57:27.771Z"
   },
   {
    "duration": 0,
    "start_time": "2023-09-07T10:57:27.772Z"
   },
   {
    "duration": 0,
    "start_time": "2023-09-07T10:57:27.773Z"
   },
   {
    "duration": 0,
    "start_time": "2023-09-07T10:57:27.801Z"
   },
   {
    "duration": 0,
    "start_time": "2023-09-07T10:57:27.802Z"
   },
   {
    "duration": 0,
    "start_time": "2023-09-07T10:57:27.803Z"
   },
   {
    "duration": 0,
    "start_time": "2023-09-07T10:57:27.803Z"
   },
   {
    "duration": 0,
    "start_time": "2023-09-07T10:57:27.804Z"
   },
   {
    "duration": 0,
    "start_time": "2023-09-07T10:57:27.805Z"
   },
   {
    "duration": 0,
    "start_time": "2023-09-07T10:57:27.805Z"
   },
   {
    "duration": 13,
    "start_time": "2023-09-07T11:00:16.938Z"
   },
   {
    "duration": 13,
    "start_time": "2023-09-07T11:00:46.625Z"
   },
   {
    "duration": 1756,
    "start_time": "2023-09-07T11:20:23.536Z"
   },
   {
    "duration": 1023,
    "start_time": "2023-09-07T11:20:25.294Z"
   },
   {
    "duration": 20,
    "start_time": "2023-09-07T11:20:26.319Z"
   },
   {
    "duration": 12,
    "start_time": "2023-09-07T11:20:26.341Z"
   },
   {
    "duration": 33,
    "start_time": "2023-09-07T11:20:26.355Z"
   },
   {
    "duration": 42,
    "start_time": "2023-09-07T11:20:26.390Z"
   },
   {
    "duration": 8,
    "start_time": "2023-09-07T11:20:26.434Z"
   },
   {
    "duration": 10,
    "start_time": "2023-09-07T11:20:26.444Z"
   },
   {
    "duration": 21,
    "start_time": "2023-09-07T11:20:26.456Z"
   },
   {
    "duration": 6,
    "start_time": "2023-09-07T11:20:26.480Z"
   },
   {
    "duration": 29,
    "start_time": "2023-09-07T11:20:26.488Z"
   },
   {
    "duration": 37,
    "start_time": "2023-09-07T11:20:26.520Z"
   },
   {
    "duration": 4,
    "start_time": "2023-09-07T11:20:26.559Z"
   },
   {
    "duration": 30,
    "start_time": "2023-09-07T11:20:26.564Z"
   },
   {
    "duration": 18,
    "start_time": "2023-09-07T11:20:26.596Z"
   },
   {
    "duration": 35,
    "start_time": "2023-09-07T11:20:26.616Z"
   },
   {
    "duration": 13,
    "start_time": "2023-09-07T11:20:26.653Z"
   },
   {
    "duration": 25,
    "start_time": "2023-09-07T11:20:26.667Z"
   },
   {
    "duration": 18,
    "start_time": "2023-09-07T11:20:26.693Z"
   },
   {
    "duration": 14,
    "start_time": "2023-09-07T11:20:26.712Z"
   },
   {
    "duration": 24,
    "start_time": "2023-09-07T11:20:26.729Z"
   },
   {
    "duration": 335,
    "start_time": "2023-09-07T11:20:26.754Z"
   },
   {
    "duration": 40,
    "start_time": "2023-09-07T11:20:27.091Z"
   },
   {
    "duration": 9,
    "start_time": "2023-09-07T11:20:27.133Z"
   },
   {
    "duration": 290,
    "start_time": "2023-09-07T11:20:27.143Z"
   },
   {
    "duration": 18,
    "start_time": "2023-09-07T11:20:27.435Z"
   },
   {
    "duration": 8,
    "start_time": "2023-09-07T11:20:27.454Z"
   },
   {
    "duration": 313,
    "start_time": "2023-09-07T11:20:27.466Z"
   },
   {
    "duration": 32,
    "start_time": "2023-09-07T11:20:27.781Z"
   },
   {
    "duration": 394,
    "start_time": "2023-09-07T11:20:27.814Z"
   },
   {
    "duration": 337,
    "start_time": "2023-09-07T11:20:28.209Z"
   },
   {
    "duration": 324,
    "start_time": "2023-09-07T11:20:28.549Z"
   },
   {
    "duration": 306,
    "start_time": "2023-09-07T11:20:28.875Z"
   },
   {
    "duration": 533,
    "start_time": "2023-09-07T11:20:29.183Z"
   },
   {
    "duration": 10,
    "start_time": "2023-09-07T11:20:29.724Z"
   },
   {
    "duration": 45,
    "start_time": "2023-09-07T11:20:29.736Z"
   },
   {
    "duration": 46,
    "start_time": "2023-09-07T11:20:29.782Z"
   },
   {
    "duration": 24,
    "start_time": "2023-09-07T11:20:29.830Z"
   },
   {
    "duration": 10,
    "start_time": "2023-09-07T11:20:29.855Z"
   },
   {
    "duration": 302,
    "start_time": "2023-09-07T11:20:29.867Z"
   },
   {
    "duration": 4,
    "start_time": "2023-09-07T11:20:30.170Z"
   },
   {
    "duration": 73,
    "start_time": "2023-09-07T11:20:30.175Z"
   },
   {
    "duration": 54,
    "start_time": "2023-09-07T11:20:30.249Z"
   },
   {
    "duration": 30,
    "start_time": "2023-09-07T11:20:30.305Z"
   },
   {
    "duration": 85,
    "start_time": "2023-09-07T11:20:30.337Z"
   },
   {
    "duration": 135059,
    "start_time": "2023-09-07T11:20:34.260Z"
   },
   {
    "duration": 0,
    "start_time": "2023-09-07T11:22:49.321Z"
   },
   {
    "duration": 0,
    "start_time": "2023-09-07T11:22:49.323Z"
   },
   {
    "duration": 0,
    "start_time": "2023-09-07T11:22:49.324Z"
   },
   {
    "duration": 0,
    "start_time": "2023-09-07T11:22:49.325Z"
   },
   {
    "duration": 0,
    "start_time": "2023-09-07T11:22:49.326Z"
   },
   {
    "duration": 0,
    "start_time": "2023-09-07T11:22:49.327Z"
   },
   {
    "duration": 0,
    "start_time": "2023-09-07T11:22:49.328Z"
   },
   {
    "duration": 0,
    "start_time": "2023-09-07T11:22:49.329Z"
   },
   {
    "duration": 0,
    "start_time": "2023-09-07T11:22:49.330Z"
   },
   {
    "duration": 0,
    "start_time": "2023-09-07T11:22:49.331Z"
   },
   {
    "duration": 0,
    "start_time": "2023-09-07T11:22:49.332Z"
   },
   {
    "duration": 0,
    "start_time": "2023-09-07T11:22:49.333Z"
   },
   {
    "duration": 0,
    "start_time": "2023-09-07T11:22:49.334Z"
   },
   {
    "duration": 0,
    "start_time": "2023-09-07T11:22:49.336Z"
   },
   {
    "duration": 0,
    "start_time": "2023-09-07T11:22:49.336Z"
   },
   {
    "duration": 0,
    "start_time": "2023-09-07T11:22:49.337Z"
   },
   {
    "duration": 0,
    "start_time": "2023-09-07T11:22:49.338Z"
   },
   {
    "duration": 0,
    "start_time": "2023-09-07T11:22:49.340Z"
   },
   {
    "duration": 0,
    "start_time": "2023-09-07T11:22:49.341Z"
   },
   {
    "duration": 0,
    "start_time": "2023-09-07T11:22:49.342Z"
   },
   {
    "duration": 0,
    "start_time": "2023-09-07T11:22:49.343Z"
   },
   {
    "duration": 10,
    "start_time": "2023-09-07T11:24:02.832Z"
   },
   {
    "duration": 1643,
    "start_time": "2023-09-07T11:24:41.172Z"
   },
   {
    "duration": 996,
    "start_time": "2023-09-07T11:24:42.818Z"
   },
   {
    "duration": 20,
    "start_time": "2023-09-07T11:24:43.818Z"
   },
   {
    "duration": 32,
    "start_time": "2023-09-07T11:24:43.840Z"
   },
   {
    "duration": 45,
    "start_time": "2023-09-07T11:24:43.875Z"
   },
   {
    "duration": 32,
    "start_time": "2023-09-07T11:24:43.922Z"
   },
   {
    "duration": 34,
    "start_time": "2023-09-07T11:24:43.955Z"
   },
   {
    "duration": 25,
    "start_time": "2023-09-07T11:24:43.992Z"
   },
   {
    "duration": 12,
    "start_time": "2023-09-07T11:24:44.019Z"
   },
   {
    "duration": 29,
    "start_time": "2023-09-07T11:24:44.034Z"
   },
   {
    "duration": 65,
    "start_time": "2023-09-07T11:24:44.065Z"
   },
   {
    "duration": 24,
    "start_time": "2023-09-07T11:24:44.132Z"
   },
   {
    "duration": 671,
    "start_time": "2023-09-07T11:24:44.157Z"
   },
   {
    "duration": 150,
    "start_time": "2023-09-07T11:24:44.832Z"
   },
   {
    "duration": 140,
    "start_time": "2023-09-07T11:24:44.983Z"
   },
   {
    "duration": 94,
    "start_time": "2023-09-07T11:24:45.125Z"
   },
   {
    "duration": 179,
    "start_time": "2023-09-07T11:24:45.220Z"
   },
   {
    "duration": 183,
    "start_time": "2023-09-07T11:24:45.403Z"
   },
   {
    "duration": 341,
    "start_time": "2023-09-07T11:24:45.587Z"
   },
   {
    "duration": 142,
    "start_time": "2023-09-07T11:24:45.930Z"
   },
   {
    "duration": 133,
    "start_time": "2023-09-07T11:24:46.074Z"
   },
   {
    "duration": 326,
    "start_time": "2023-09-07T11:24:46.209Z"
   },
   {
    "duration": 25,
    "start_time": "2023-09-07T11:24:46.537Z"
   },
   {
    "duration": 9,
    "start_time": "2023-09-07T11:24:46.564Z"
   },
   {
    "duration": 299,
    "start_time": "2023-09-07T11:24:46.575Z"
   },
   {
    "duration": 39,
    "start_time": "2023-09-07T11:24:46.876Z"
   },
   {
    "duration": 11,
    "start_time": "2023-09-07T11:24:46.917Z"
   },
   {
    "duration": 278,
    "start_time": "2023-09-07T11:24:46.930Z"
   },
   {
    "duration": 22,
    "start_time": "2023-09-07T11:24:47.210Z"
   },
   {
    "duration": 416,
    "start_time": "2023-09-07T11:24:47.234Z"
   },
   {
    "duration": 305,
    "start_time": "2023-09-07T11:24:47.652Z"
   },
   {
    "duration": 303,
    "start_time": "2023-09-07T11:24:47.958Z"
   },
   {
    "duration": 309,
    "start_time": "2023-09-07T11:24:48.263Z"
   },
   {
    "duration": 509,
    "start_time": "2023-09-07T11:24:48.574Z"
   },
   {
    "duration": 26,
    "start_time": "2023-09-07T11:24:49.084Z"
   },
   {
    "duration": 11,
    "start_time": "2023-09-07T11:24:49.115Z"
   },
   {
    "duration": 11,
    "start_time": "2023-09-07T11:24:49.128Z"
   },
   {
    "duration": 13,
    "start_time": "2023-09-07T11:24:49.141Z"
   },
   {
    "duration": 7,
    "start_time": "2023-09-07T11:24:49.156Z"
   },
   {
    "duration": 296,
    "start_time": "2023-09-07T11:24:49.165Z"
   },
   {
    "duration": 3,
    "start_time": "2023-09-07T11:24:49.466Z"
   },
   {
    "duration": 69,
    "start_time": "2023-09-07T11:24:49.471Z"
   },
   {
    "duration": 53,
    "start_time": "2023-09-07T11:24:49.543Z"
   },
   {
    "duration": 28,
    "start_time": "2023-09-07T11:24:49.599Z"
   },
   {
    "duration": 29,
    "start_time": "2023-09-07T11:24:49.629Z"
   },
   {
    "duration": 4351,
    "start_time": "2023-09-07T11:24:49.660Z"
   },
   {
    "duration": 8,
    "start_time": "2023-09-07T11:24:54.020Z"
   },
   {
    "duration": 8,
    "start_time": "2023-09-07T11:24:54.110Z"
   },
   {
    "duration": 29,
    "start_time": "2023-09-07T11:24:54.121Z"
   },
   {
    "duration": 24,
    "start_time": "2023-09-07T11:24:54.152Z"
   },
   {
    "duration": 5,
    "start_time": "2023-09-07T11:24:54.178Z"
   },
   {
    "duration": 5,
    "start_time": "2023-09-07T11:24:54.185Z"
   },
   {
    "duration": 18,
    "start_time": "2023-09-07T11:24:54.191Z"
   },
   {
    "duration": 10,
    "start_time": "2023-09-07T11:24:54.210Z"
   },
   {
    "duration": 14,
    "start_time": "2023-09-07T11:24:54.222Z"
   },
   {
    "duration": 1811,
    "start_time": "2023-09-07T11:26:40.533Z"
   },
   {
    "duration": 975,
    "start_time": "2023-09-07T11:26:42.346Z"
   },
   {
    "duration": 17,
    "start_time": "2023-09-07T11:26:43.322Z"
   },
   {
    "duration": 49,
    "start_time": "2023-09-07T11:26:43.342Z"
   },
   {
    "duration": 38,
    "start_time": "2023-09-07T11:26:43.392Z"
   },
   {
    "duration": 54,
    "start_time": "2023-09-07T11:26:43.431Z"
   },
   {
    "duration": 13,
    "start_time": "2023-09-07T11:26:43.487Z"
   },
   {
    "duration": 15,
    "start_time": "2023-09-07T11:26:43.512Z"
   },
   {
    "duration": 36,
    "start_time": "2023-09-07T11:26:43.529Z"
   },
   {
    "duration": 27,
    "start_time": "2023-09-07T11:26:43.569Z"
   },
   {
    "duration": 57,
    "start_time": "2023-09-07T11:26:43.599Z"
   },
   {
    "duration": 16,
    "start_time": "2023-09-07T11:26:43.658Z"
   },
   {
    "duration": 19,
    "start_time": "2023-09-07T11:26:43.675Z"
   },
   {
    "duration": 25,
    "start_time": "2023-09-07T11:26:43.696Z"
   },
   {
    "duration": 16,
    "start_time": "2023-09-07T11:26:43.722Z"
   },
   {
    "duration": 35,
    "start_time": "2023-09-07T11:26:43.740Z"
   },
   {
    "duration": 46,
    "start_time": "2023-09-07T11:26:43.777Z"
   },
   {
    "duration": 22,
    "start_time": "2023-09-07T11:26:43.824Z"
   },
   {
    "duration": 26,
    "start_time": "2023-09-07T11:26:43.847Z"
   },
   {
    "duration": 19,
    "start_time": "2023-09-07T11:26:43.875Z"
   },
   {
    "duration": 52,
    "start_time": "2023-09-07T11:26:43.896Z"
   },
   {
    "duration": 343,
    "start_time": "2023-09-07T11:26:43.950Z"
   },
   {
    "duration": 40,
    "start_time": "2023-09-07T11:26:44.295Z"
   },
   {
    "duration": 21,
    "start_time": "2023-09-07T11:26:44.336Z"
   },
   {
    "duration": 297,
    "start_time": "2023-09-07T11:26:44.358Z"
   },
   {
    "duration": 23,
    "start_time": "2023-09-07T11:26:44.658Z"
   },
   {
    "duration": 40,
    "start_time": "2023-09-07T11:26:44.683Z"
   },
   {
    "duration": 293,
    "start_time": "2023-09-07T11:26:44.729Z"
   },
   {
    "duration": 20,
    "start_time": "2023-09-07T11:26:45.023Z"
   },
   {
    "duration": 391,
    "start_time": "2023-09-07T11:26:45.044Z"
   },
   {
    "duration": 304,
    "start_time": "2023-09-07T11:26:45.437Z"
   },
   {
    "duration": 313,
    "start_time": "2023-09-07T11:26:45.743Z"
   },
   {
    "duration": 301,
    "start_time": "2023-09-07T11:26:46.058Z"
   },
   {
    "duration": 496,
    "start_time": "2023-09-07T11:26:46.360Z"
   },
   {
    "duration": 9,
    "start_time": "2023-09-07T11:26:46.857Z"
   },
   {
    "duration": 17,
    "start_time": "2023-09-07T11:26:46.868Z"
   },
   {
    "duration": 26,
    "start_time": "2023-09-07T11:26:46.887Z"
   },
   {
    "duration": 14,
    "start_time": "2023-09-07T11:26:46.915Z"
   },
   {
    "duration": 18,
    "start_time": "2023-09-07T11:26:46.931Z"
   },
   {
    "duration": 282,
    "start_time": "2023-09-07T11:26:46.951Z"
   },
   {
    "duration": 4,
    "start_time": "2023-09-07T11:26:47.234Z"
   },
   {
    "duration": 22,
    "start_time": "2023-09-07T11:26:47.240Z"
   },
   {
    "duration": 28,
    "start_time": "2023-09-07T11:26:47.263Z"
   },
   {
    "duration": 15,
    "start_time": "2023-09-07T11:26:47.293Z"
   },
   {
    "duration": 17,
    "start_time": "2023-09-07T11:26:47.314Z"
   },
   {
    "duration": 3880,
    "start_time": "2023-09-07T11:26:47.333Z"
   },
   {
    "duration": 87,
    "start_time": "2023-09-07T11:26:51.216Z"
   },
   {
    "duration": 48,
    "start_time": "2023-09-07T11:26:51.309Z"
   },
   {
    "duration": 163,
    "start_time": "2023-09-07T11:26:51.359Z"
   },
   {
    "duration": 46,
    "start_time": "2023-09-07T11:26:51.524Z"
   },
   {
    "duration": 26,
    "start_time": "2023-09-07T11:26:51.572Z"
   },
   {
    "duration": 34,
    "start_time": "2023-09-07T11:26:51.608Z"
   },
   {
    "duration": 54,
    "start_time": "2023-09-07T11:26:51.644Z"
   },
   {
    "duration": 79,
    "start_time": "2023-09-07T11:26:51.700Z"
   },
   {
    "duration": 72,
    "start_time": "2023-09-07T11:26:51.781Z"
   },
   {
    "duration": 278372,
    "start_time": "2023-09-07T11:26:51.855Z"
   },
   {
    "duration": 145,
    "start_time": "2023-09-07T11:31:30.229Z"
   },
   {
    "duration": 0,
    "start_time": "2023-09-07T11:31:30.376Z"
   },
   {
    "duration": 0,
    "start_time": "2023-09-07T11:31:30.377Z"
   },
   {
    "duration": 0,
    "start_time": "2023-09-07T11:31:30.379Z"
   },
   {
    "duration": 0,
    "start_time": "2023-09-07T11:31:30.380Z"
   },
   {
    "duration": 0,
    "start_time": "2023-09-07T11:31:30.381Z"
   },
   {
    "duration": 0,
    "start_time": "2023-09-07T11:31:30.382Z"
   },
   {
    "duration": 0,
    "start_time": "2023-09-07T11:31:30.383Z"
   },
   {
    "duration": 0,
    "start_time": "2023-09-07T11:31:30.384Z"
   },
   {
    "duration": 0,
    "start_time": "2023-09-07T11:31:30.401Z"
   },
   {
    "duration": 0,
    "start_time": "2023-09-07T11:31:30.402Z"
   },
   {
    "duration": 0,
    "start_time": "2023-09-07T11:31:30.403Z"
   },
   {
    "duration": 0,
    "start_time": "2023-09-07T11:31:30.404Z"
   },
   {
    "duration": 0,
    "start_time": "2023-09-07T11:31:30.405Z"
   },
   {
    "duration": 0,
    "start_time": "2023-09-07T11:31:30.406Z"
   },
   {
    "duration": 0,
    "start_time": "2023-09-07T11:31:30.407Z"
   },
   {
    "duration": 0,
    "start_time": "2023-09-07T11:31:30.407Z"
   },
   {
    "duration": 0,
    "start_time": "2023-09-07T11:31:30.408Z"
   },
   {
    "duration": 0,
    "start_time": "2023-09-07T11:31:30.411Z"
   },
   {
    "duration": 0,
    "start_time": "2023-09-07T11:31:30.412Z"
   },
   {
    "duration": 0,
    "start_time": "2023-09-07T11:31:30.413Z"
   },
   {
    "duration": 10,
    "start_time": "2023-09-07T11:33:13.868Z"
   },
   {
    "duration": 0,
    "start_time": "2023-09-07T11:39:10.331Z"
   },
   {
    "duration": 0,
    "start_time": "2023-09-07T11:39:10.333Z"
   },
   {
    "duration": 0,
    "start_time": "2023-09-07T11:39:10.334Z"
   },
   {
    "duration": 0,
    "start_time": "2023-09-07T11:39:10.336Z"
   },
   {
    "duration": 1895,
    "start_time": "2023-09-07T11:39:28.343Z"
   },
   {
    "duration": 979,
    "start_time": "2023-09-07T11:39:30.239Z"
   },
   {
    "duration": 18,
    "start_time": "2023-09-07T11:39:31.220Z"
   },
   {
    "duration": 22,
    "start_time": "2023-09-07T11:39:31.240Z"
   },
   {
    "duration": 105,
    "start_time": "2023-09-07T11:39:31.265Z"
   },
   {
    "duration": 117,
    "start_time": "2023-09-07T11:39:31.372Z"
   },
   {
    "duration": 48,
    "start_time": "2023-09-07T11:39:31.491Z"
   },
   {
    "duration": 44,
    "start_time": "2023-09-07T11:39:31.541Z"
   },
   {
    "duration": 68,
    "start_time": "2023-09-07T11:39:31.587Z"
   },
   {
    "duration": 174,
    "start_time": "2023-09-07T11:39:31.660Z"
   },
   {
    "duration": 176,
    "start_time": "2023-09-07T11:39:31.836Z"
   },
   {
    "duration": 37,
    "start_time": "2023-09-07T11:39:32.014Z"
   },
   {
    "duration": 69,
    "start_time": "2023-09-07T11:39:32.053Z"
   },
   {
    "duration": 68,
    "start_time": "2023-09-07T11:39:32.124Z"
   },
   {
    "duration": 44,
    "start_time": "2023-09-07T11:39:32.194Z"
   },
   {
    "duration": 58,
    "start_time": "2023-09-07T11:39:32.240Z"
   },
   {
    "duration": 29,
    "start_time": "2023-09-07T11:39:32.302Z"
   },
   {
    "duration": 56,
    "start_time": "2023-09-07T11:39:32.334Z"
   },
   {
    "duration": 15,
    "start_time": "2023-09-07T11:39:32.392Z"
   },
   {
    "duration": 64,
    "start_time": "2023-09-07T11:39:32.410Z"
   },
   {
    "duration": 45,
    "start_time": "2023-09-07T11:39:32.476Z"
   },
   {
    "duration": 316,
    "start_time": "2023-09-07T11:39:32.522Z"
   },
   {
    "duration": 23,
    "start_time": "2023-09-07T11:39:32.839Z"
   },
   {
    "duration": 12,
    "start_time": "2023-09-07T11:39:32.864Z"
   },
   {
    "duration": 280,
    "start_time": "2023-09-07T11:39:32.877Z"
   },
   {
    "duration": 19,
    "start_time": "2023-09-07T11:39:33.159Z"
   },
   {
    "duration": 27,
    "start_time": "2023-09-07T11:39:33.180Z"
   },
   {
    "duration": 251,
    "start_time": "2023-09-07T11:39:33.219Z"
   },
   {
    "duration": 43,
    "start_time": "2023-09-07T11:39:33.472Z"
   },
   {
    "duration": 369,
    "start_time": "2023-09-07T11:39:33.517Z"
   },
   {
    "duration": 289,
    "start_time": "2023-09-07T11:39:33.887Z"
   },
   {
    "duration": 307,
    "start_time": "2023-09-07T11:39:34.177Z"
   },
   {
    "duration": 346,
    "start_time": "2023-09-07T11:39:34.486Z"
   },
   {
    "duration": 486,
    "start_time": "2023-09-07T11:39:34.834Z"
   },
   {
    "duration": 9,
    "start_time": "2023-09-07T11:39:35.322Z"
   },
   {
    "duration": 32,
    "start_time": "2023-09-07T11:39:35.332Z"
   },
   {
    "duration": 47,
    "start_time": "2023-09-07T11:39:35.365Z"
   },
   {
    "duration": 48,
    "start_time": "2023-09-07T11:39:35.414Z"
   },
   {
    "duration": 27,
    "start_time": "2023-09-07T11:39:35.464Z"
   },
   {
    "duration": 293,
    "start_time": "2023-09-07T11:39:35.493Z"
   },
   {
    "duration": 25,
    "start_time": "2023-09-07T11:39:35.788Z"
   },
   {
    "duration": 6,
    "start_time": "2023-09-07T11:39:35.815Z"
   },
   {
    "duration": 59,
    "start_time": "2023-09-07T11:39:35.822Z"
   },
   {
    "duration": 41,
    "start_time": "2023-09-07T11:39:35.883Z"
   },
   {
    "duration": 47,
    "start_time": "2023-09-07T11:39:35.926Z"
   },
   {
    "duration": 4034,
    "start_time": "2023-09-07T11:39:35.974Z"
   },
   {
    "duration": 5,
    "start_time": "2023-09-07T11:39:40.011Z"
   },
   {
    "duration": 32,
    "start_time": "2023-09-07T11:39:40.019Z"
   },
   {
    "duration": 25,
    "start_time": "2023-09-07T11:39:40.102Z"
   },
   {
    "duration": 27,
    "start_time": "2023-09-07T11:39:40.128Z"
   },
   {
    "duration": 24,
    "start_time": "2023-09-07T11:39:40.156Z"
   },
   {
    "duration": 10,
    "start_time": "2023-09-07T11:39:40.181Z"
   },
   {
    "duration": 31,
    "start_time": "2023-09-07T11:39:40.193Z"
   },
   {
    "duration": 21,
    "start_time": "2023-09-07T11:39:40.226Z"
   },
   {
    "duration": 20,
    "start_time": "2023-09-07T11:39:40.249Z"
   },
   {
    "duration": 276044,
    "start_time": "2023-09-07T11:39:40.271Z"
   },
   {
    "duration": 11,
    "start_time": "2023-09-07T11:44:16.318Z"
   },
   {
    "duration": 46,
    "start_time": "2023-09-07T11:44:16.331Z"
   },
   {
    "duration": 137,
    "start_time": "2023-09-07T11:44:16.379Z"
   },
   {
    "duration": 0,
    "start_time": "2023-09-07T11:44:16.518Z"
   },
   {
    "duration": 0,
    "start_time": "2023-09-07T11:44:16.519Z"
   },
   {
    "duration": 0,
    "start_time": "2023-09-07T11:44:16.521Z"
   },
   {
    "duration": 0,
    "start_time": "2023-09-07T11:44:16.522Z"
   },
   {
    "duration": 0,
    "start_time": "2023-09-07T11:44:16.523Z"
   },
   {
    "duration": 0,
    "start_time": "2023-09-07T11:44:16.525Z"
   },
   {
    "duration": 0,
    "start_time": "2023-09-07T11:44:16.526Z"
   },
   {
    "duration": 0,
    "start_time": "2023-09-07T11:44:16.527Z"
   },
   {
    "duration": 0,
    "start_time": "2023-09-07T11:44:16.529Z"
   },
   {
    "duration": 0,
    "start_time": "2023-09-07T11:44:16.530Z"
   },
   {
    "duration": 0,
    "start_time": "2023-09-07T11:44:16.532Z"
   },
   {
    "duration": 0,
    "start_time": "2023-09-07T11:44:16.533Z"
   },
   {
    "duration": 0,
    "start_time": "2023-09-07T11:44:16.534Z"
   },
   {
    "duration": 0,
    "start_time": "2023-09-07T11:44:16.537Z"
   },
   {
    "duration": 0,
    "start_time": "2023-09-07T11:44:16.538Z"
   },
   {
    "duration": 0,
    "start_time": "2023-09-07T11:44:16.539Z"
   },
   {
    "duration": 0,
    "start_time": "2023-09-07T11:44:16.541Z"
   },
   {
    "duration": 0,
    "start_time": "2023-09-07T11:44:16.542Z"
   },
   {
    "duration": 0,
    "start_time": "2023-09-07T11:44:16.544Z"
   },
   {
    "duration": 0,
    "start_time": "2023-09-07T11:44:16.546Z"
   },
   {
    "duration": 0,
    "start_time": "2023-09-07T11:44:16.547Z"
   },
   {
    "duration": 9,
    "start_time": "2023-09-07T12:00:19.156Z"
   },
   {
    "duration": 315,
    "start_time": "2023-09-07T12:01:52.150Z"
   },
   {
    "duration": 10,
    "start_time": "2023-09-07T12:02:09.089Z"
   },
   {
    "duration": 12,
    "start_time": "2023-09-07T12:02:30.859Z"
   },
   {
    "duration": 13,
    "start_time": "2023-09-07T12:03:30.798Z"
   },
   {
    "duration": 0,
    "start_time": "2023-09-07T12:19:10.157Z"
   },
   {
    "duration": 0,
    "start_time": "2023-09-07T12:19:10.158Z"
   },
   {
    "duration": 1876,
    "start_time": "2023-09-07T14:22:13.310Z"
   },
   {
    "duration": 2470,
    "start_time": "2023-09-07T14:22:15.188Z"
   },
   {
    "duration": 19,
    "start_time": "2023-09-07T14:22:17.660Z"
   },
   {
    "duration": 14,
    "start_time": "2023-09-07T14:22:17.681Z"
   },
   {
    "duration": 19,
    "start_time": "2023-09-07T14:22:17.697Z"
   },
   {
    "duration": 13,
    "start_time": "2023-09-07T14:22:17.718Z"
   },
   {
    "duration": 3,
    "start_time": "2023-09-07T14:22:17.733Z"
   },
   {
    "duration": 6,
    "start_time": "2023-09-07T14:22:17.738Z"
   },
   {
    "duration": 6,
    "start_time": "2023-09-07T14:22:17.746Z"
   },
   {
    "duration": 4,
    "start_time": "2023-09-07T14:22:17.755Z"
   },
   {
    "duration": 14,
    "start_time": "2023-09-07T14:22:17.760Z"
   },
   {
    "duration": 40,
    "start_time": "2023-09-07T14:22:17.776Z"
   },
   {
    "duration": 6,
    "start_time": "2023-09-07T14:22:17.819Z"
   },
   {
    "duration": 6,
    "start_time": "2023-09-07T14:22:17.827Z"
   },
   {
    "duration": 13,
    "start_time": "2023-09-07T14:22:17.836Z"
   },
   {
    "duration": 30,
    "start_time": "2023-09-07T14:22:17.851Z"
   },
   {
    "duration": 37,
    "start_time": "2023-09-07T14:22:17.883Z"
   },
   {
    "duration": 25,
    "start_time": "2023-09-07T14:22:17.922Z"
   },
   {
    "duration": 10,
    "start_time": "2023-09-07T14:22:17.949Z"
   },
   {
    "duration": 10,
    "start_time": "2023-09-07T14:22:17.960Z"
   },
   {
    "duration": 44,
    "start_time": "2023-09-07T14:22:17.972Z"
   },
   {
    "duration": 313,
    "start_time": "2023-09-07T14:22:18.019Z"
   },
   {
    "duration": 23,
    "start_time": "2023-09-07T14:22:18.334Z"
   },
   {
    "duration": 24,
    "start_time": "2023-09-07T14:22:18.359Z"
   },
   {
    "duration": 272,
    "start_time": "2023-09-07T14:22:18.385Z"
   },
   {
    "duration": 22,
    "start_time": "2023-09-07T14:22:18.659Z"
   },
   {
    "duration": 26,
    "start_time": "2023-09-07T14:22:18.683Z"
   },
   {
    "duration": 344,
    "start_time": "2023-09-07T14:22:18.716Z"
   },
   {
    "duration": 18,
    "start_time": "2023-09-07T14:22:19.063Z"
   },
   {
    "duration": 318,
    "start_time": "2023-09-07T14:22:19.083Z"
   },
   {
    "duration": 296,
    "start_time": "2023-09-07T14:22:19.403Z"
   },
   {
    "duration": 280,
    "start_time": "2023-09-07T14:22:19.709Z"
   },
   {
    "duration": 298,
    "start_time": "2023-09-07T14:22:19.991Z"
   },
   {
    "duration": 489,
    "start_time": "2023-09-07T14:22:20.291Z"
   },
   {
    "duration": 9,
    "start_time": "2023-09-07T14:22:20.782Z"
   },
   {
    "duration": 38,
    "start_time": "2023-09-07T14:22:20.793Z"
   },
   {
    "duration": 6,
    "start_time": "2023-09-07T14:22:20.833Z"
   },
   {
    "duration": 28,
    "start_time": "2023-09-07T14:22:20.841Z"
   },
   {
    "duration": 39,
    "start_time": "2023-09-07T14:22:20.871Z"
   },
   {
    "duration": 300,
    "start_time": "2023-09-07T14:22:20.912Z"
   },
   {
    "duration": 3,
    "start_time": "2023-09-07T14:22:21.214Z"
   },
   {
    "duration": 26,
    "start_time": "2023-09-07T14:22:21.219Z"
   },
   {
    "duration": 16,
    "start_time": "2023-09-07T14:22:21.247Z"
   },
   {
    "duration": 8,
    "start_time": "2023-09-07T14:22:21.265Z"
   },
   {
    "duration": 32,
    "start_time": "2023-09-07T14:22:21.275Z"
   },
   {
    "duration": 2710,
    "start_time": "2023-09-07T14:22:21.309Z"
   },
   {
    "duration": 4,
    "start_time": "2023-09-07T14:22:24.110Z"
   },
   {
    "duration": 21,
    "start_time": "2023-09-07T14:22:24.116Z"
   },
   {
    "duration": 16,
    "start_time": "2023-09-07T14:22:24.139Z"
   },
   {
    "duration": 7,
    "start_time": "2023-09-07T14:22:24.156Z"
   },
   {
    "duration": 7,
    "start_time": "2023-09-07T14:22:24.164Z"
   },
   {
    "duration": 10,
    "start_time": "2023-09-07T14:22:24.173Z"
   },
   {
    "duration": 22,
    "start_time": "2023-09-07T14:22:24.185Z"
   },
   {
    "duration": 16,
    "start_time": "2023-09-07T14:22:24.209Z"
   },
   {
    "duration": 33,
    "start_time": "2023-09-07T14:22:24.227Z"
   },
   {
    "duration": 287509,
    "start_time": "2023-09-07T14:22:24.262Z"
   },
   {
    "duration": 143,
    "start_time": "2023-09-07T14:27:11.774Z"
   },
   {
    "duration": 0,
    "start_time": "2023-09-07T14:27:11.919Z"
   },
   {
    "duration": 0,
    "start_time": "2023-09-07T14:27:11.920Z"
   },
   {
    "duration": 0,
    "start_time": "2023-09-07T14:27:11.922Z"
   },
   {
    "duration": 0,
    "start_time": "2023-09-07T14:27:11.924Z"
   },
   {
    "duration": 0,
    "start_time": "2023-09-07T14:27:11.925Z"
   },
   {
    "duration": 0,
    "start_time": "2023-09-07T14:27:11.927Z"
   },
   {
    "duration": 0,
    "start_time": "2023-09-07T14:27:11.928Z"
   },
   {
    "duration": 0,
    "start_time": "2023-09-07T14:27:11.929Z"
   },
   {
    "duration": 0,
    "start_time": "2023-09-07T14:27:11.931Z"
   },
   {
    "duration": 0,
    "start_time": "2023-09-07T14:27:11.932Z"
   },
   {
    "duration": 0,
    "start_time": "2023-09-07T14:27:11.933Z"
   },
   {
    "duration": 0,
    "start_time": "2023-09-07T14:27:11.934Z"
   },
   {
    "duration": 0,
    "start_time": "2023-09-07T14:27:11.936Z"
   },
   {
    "duration": 0,
    "start_time": "2023-09-07T14:27:11.937Z"
   },
   {
    "duration": 0,
    "start_time": "2023-09-07T14:27:11.939Z"
   },
   {
    "duration": 0,
    "start_time": "2023-09-07T14:27:11.940Z"
   },
   {
    "duration": 0,
    "start_time": "2023-09-07T14:27:11.942Z"
   },
   {
    "duration": 0,
    "start_time": "2023-09-07T14:27:11.944Z"
   },
   {
    "duration": 0,
    "start_time": "2023-09-07T14:27:11.945Z"
   },
   {
    "duration": 0,
    "start_time": "2023-09-07T14:27:11.946Z"
   },
   {
    "duration": 0,
    "start_time": "2023-09-07T14:27:11.947Z"
   },
   {
    "duration": 0,
    "start_time": "2023-09-07T14:27:11.948Z"
   },
   {
    "duration": 0,
    "start_time": "2023-09-07T14:27:11.949Z"
   },
   {
    "duration": 11,
    "start_time": "2023-09-07T15:46:35.745Z"
   },
   {
    "duration": 273186,
    "start_time": "2023-09-07T15:47:07.771Z"
   },
   {
    "duration": 4,
    "start_time": "2023-09-07T15:51:40.960Z"
   },
   {
    "duration": 1894,
    "start_time": "2023-09-13T15:32:30.020Z"
   },
   {
    "duration": 2449,
    "start_time": "2023-09-13T15:32:31.917Z"
   },
   {
    "duration": 26,
    "start_time": "2023-09-13T15:32:34.368Z"
   },
   {
    "duration": 17,
    "start_time": "2023-09-13T15:32:34.396Z"
   },
   {
    "duration": 17,
    "start_time": "2023-09-13T15:32:34.416Z"
   },
   {
    "duration": 11,
    "start_time": "2023-09-13T15:32:34.435Z"
   },
   {
    "duration": 2,
    "start_time": "2023-09-13T15:32:34.448Z"
   },
   {
    "duration": 12,
    "start_time": "2023-09-13T15:32:34.452Z"
   },
   {
    "duration": 30,
    "start_time": "2023-09-13T15:32:34.466Z"
   },
   {
    "duration": 9,
    "start_time": "2023-09-13T15:32:34.498Z"
   },
   {
    "duration": 11,
    "start_time": "2023-09-13T15:32:34.509Z"
   },
   {
    "duration": 39,
    "start_time": "2023-09-13T15:32:34.521Z"
   },
   {
    "duration": 9,
    "start_time": "2023-09-13T15:32:34.562Z"
   },
   {
    "duration": 14,
    "start_time": "2023-09-13T15:32:34.574Z"
   },
   {
    "duration": 18,
    "start_time": "2023-09-13T15:32:34.590Z"
   },
   {
    "duration": 26,
    "start_time": "2023-09-13T15:32:34.610Z"
   },
   {
    "duration": 14,
    "start_time": "2023-09-13T15:32:34.639Z"
   },
   {
    "duration": 30,
    "start_time": "2023-09-13T15:32:34.655Z"
   },
   {
    "duration": 13,
    "start_time": "2023-09-13T15:32:34.686Z"
   },
   {
    "duration": 10,
    "start_time": "2023-09-13T15:32:34.701Z"
   },
   {
    "duration": 14,
    "start_time": "2023-09-13T15:32:34.713Z"
   },
   {
    "duration": 318,
    "start_time": "2023-09-13T15:32:34.729Z"
   },
   {
    "duration": 22,
    "start_time": "2023-09-13T15:32:35.049Z"
   },
   {
    "duration": 181,
    "start_time": "2023-09-13T15:32:35.082Z"
   },
   {
    "duration": 327,
    "start_time": "2023-09-13T15:32:35.265Z"
   },
   {
    "duration": 19,
    "start_time": "2023-09-13T15:32:35.596Z"
   },
   {
    "duration": 20,
    "start_time": "2023-09-13T15:32:35.617Z"
   },
   {
    "duration": 295,
    "start_time": "2023-09-13T15:32:35.639Z"
   },
   {
    "duration": 20,
    "start_time": "2023-09-13T15:32:35.936Z"
   },
   {
    "duration": 388,
    "start_time": "2023-09-13T15:32:35.957Z"
   },
   {
    "duration": 298,
    "start_time": "2023-09-13T15:32:36.347Z"
   },
   {
    "duration": 316,
    "start_time": "2023-09-13T15:32:36.646Z"
   },
   {
    "duration": 353,
    "start_time": "2023-09-13T15:32:36.966Z"
   },
   {
    "duration": 481,
    "start_time": "2023-09-13T15:32:37.321Z"
   },
   {
    "duration": 9,
    "start_time": "2023-09-13T15:32:37.804Z"
   },
   {
    "duration": 11,
    "start_time": "2023-09-13T15:32:37.815Z"
   },
   {
    "duration": 5,
    "start_time": "2023-09-13T15:32:37.828Z"
   },
   {
    "duration": 7,
    "start_time": "2023-09-13T15:32:37.834Z"
   },
   {
    "duration": 6,
    "start_time": "2023-09-13T15:32:37.843Z"
   },
   {
    "duration": 277,
    "start_time": "2023-09-13T15:32:37.886Z"
   },
   {
    "duration": 3,
    "start_time": "2023-09-13T15:32:38.168Z"
   },
   {
    "duration": 5,
    "start_time": "2023-09-13T15:32:38.183Z"
   },
   {
    "duration": 11,
    "start_time": "2023-09-13T15:32:38.198Z"
   },
   {
    "duration": 8,
    "start_time": "2023-09-13T15:32:38.211Z"
   },
   {
    "duration": 5,
    "start_time": "2023-09-13T15:32:38.220Z"
   },
   {
    "duration": 4257,
    "start_time": "2023-09-13T15:32:38.227Z"
   },
   {
    "duration": 14,
    "start_time": "2023-09-13T15:32:42.486Z"
   },
   {
    "duration": 15,
    "start_time": "2023-09-13T15:32:42.502Z"
   },
   {
    "duration": 17,
    "start_time": "2023-09-13T15:32:42.518Z"
   },
   {
    "duration": 26,
    "start_time": "2023-09-13T15:32:42.537Z"
   },
   {
    "duration": 25,
    "start_time": "2023-09-13T15:32:42.565Z"
   },
   {
    "duration": 15,
    "start_time": "2023-09-13T15:32:42.592Z"
   },
   {
    "duration": 9,
    "start_time": "2023-09-13T15:32:42.609Z"
   },
   {
    "duration": 7,
    "start_time": "2023-09-13T15:32:42.619Z"
   },
   {
    "duration": 10,
    "start_time": "2023-09-13T15:32:42.627Z"
   },
   {
    "duration": 30,
    "start_time": "2023-09-13T15:37:19.036Z"
   },
   {
    "duration": 11,
    "start_time": "2023-09-13T15:37:19.068Z"
   },
   {
    "duration": 16,
    "start_time": "2023-09-13T15:37:19.081Z"
   },
   {
    "duration": 137,
    "start_time": "2023-09-13T15:37:19.099Z"
   },
   {
    "duration": 0,
    "start_time": "2023-09-13T15:37:19.237Z"
   },
   {
    "duration": 0,
    "start_time": "2023-09-13T15:37:19.239Z"
   },
   {
    "duration": 0,
    "start_time": "2023-09-13T15:37:19.241Z"
   },
   {
    "duration": 0,
    "start_time": "2023-09-13T15:37:19.242Z"
   },
   {
    "duration": 0,
    "start_time": "2023-09-13T15:37:19.243Z"
   },
   {
    "duration": 0,
    "start_time": "2023-09-13T15:37:19.244Z"
   },
   {
    "duration": 0,
    "start_time": "2023-09-13T15:37:19.245Z"
   },
   {
    "duration": 0,
    "start_time": "2023-09-13T15:37:19.246Z"
   },
   {
    "duration": 0,
    "start_time": "2023-09-13T15:37:19.247Z"
   },
   {
    "duration": 0,
    "start_time": "2023-09-13T15:37:19.248Z"
   },
   {
    "duration": 0,
    "start_time": "2023-09-13T15:37:19.249Z"
   },
   {
    "duration": 0,
    "start_time": "2023-09-13T15:37:19.250Z"
   },
   {
    "duration": 0,
    "start_time": "2023-09-13T15:37:19.251Z"
   },
   {
    "duration": 0,
    "start_time": "2023-09-13T15:37:19.252Z"
   },
   {
    "duration": 0,
    "start_time": "2023-09-13T15:37:19.254Z"
   },
   {
    "duration": 0,
    "start_time": "2023-09-13T15:37:19.283Z"
   },
   {
    "duration": 0,
    "start_time": "2023-09-13T15:37:19.284Z"
   },
   {
    "duration": 0,
    "start_time": "2023-09-13T15:37:19.284Z"
   },
   {
    "duration": 0,
    "start_time": "2023-09-13T15:37:19.285Z"
   },
   {
    "duration": 0,
    "start_time": "2023-09-13T15:37:19.287Z"
   },
   {
    "duration": 0,
    "start_time": "2023-09-13T15:37:19.294Z"
   },
   {
    "duration": 1563,
    "start_time": "2023-09-13T16:20:34.551Z"
   },
   {
    "duration": 971,
    "start_time": "2023-09-13T16:20:36.116Z"
   },
   {
    "duration": 18,
    "start_time": "2023-09-13T16:20:37.091Z"
   },
   {
    "duration": 12,
    "start_time": "2023-09-13T16:20:37.111Z"
   },
   {
    "duration": 17,
    "start_time": "2023-09-13T16:20:37.126Z"
   },
   {
    "duration": 42,
    "start_time": "2023-09-13T16:20:37.145Z"
   },
   {
    "duration": 3,
    "start_time": "2023-09-13T16:20:37.194Z"
   },
   {
    "duration": 7,
    "start_time": "2023-09-13T16:20:37.201Z"
   },
   {
    "duration": 5,
    "start_time": "2023-09-13T16:20:37.212Z"
   },
   {
    "duration": 16,
    "start_time": "2023-09-13T16:20:37.219Z"
   },
   {
    "duration": 7,
    "start_time": "2023-09-13T16:20:37.238Z"
   },
   {
    "duration": 28,
    "start_time": "2023-09-13T16:20:37.246Z"
   },
   {
    "duration": 5,
    "start_time": "2023-09-13T16:20:37.276Z"
   },
   {
    "duration": 20,
    "start_time": "2023-09-13T16:20:37.287Z"
   },
   {
    "duration": 23,
    "start_time": "2023-09-13T16:20:37.309Z"
   },
   {
    "duration": 11,
    "start_time": "2023-09-13T16:20:37.334Z"
   },
   {
    "duration": 14,
    "start_time": "2023-09-13T16:20:37.347Z"
   },
   {
    "duration": 34,
    "start_time": "2023-09-13T16:20:37.362Z"
   },
   {
    "duration": 9,
    "start_time": "2023-09-13T16:20:37.398Z"
   },
   {
    "duration": 16,
    "start_time": "2023-09-13T16:20:37.409Z"
   },
   {
    "duration": 9,
    "start_time": "2023-09-13T16:20:37.426Z"
   },
   {
    "duration": 303,
    "start_time": "2023-09-13T16:20:37.436Z"
   },
   {
    "duration": 21,
    "start_time": "2023-09-13T16:20:37.741Z"
   },
   {
    "duration": 31,
    "start_time": "2023-09-13T16:20:37.764Z"
   },
   {
    "duration": 241,
    "start_time": "2023-09-13T16:20:37.798Z"
   },
   {
    "duration": 19,
    "start_time": "2023-09-13T16:20:38.040Z"
   },
   {
    "duration": 23,
    "start_time": "2023-09-13T16:20:38.061Z"
   },
   {
    "duration": 256,
    "start_time": "2023-09-13T16:20:38.085Z"
   },
   {
    "duration": 19,
    "start_time": "2023-09-13T16:20:38.343Z"
   },
   {
    "duration": 369,
    "start_time": "2023-09-13T16:20:38.363Z"
   },
   {
    "duration": 304,
    "start_time": "2023-09-13T16:20:38.734Z"
   },
   {
    "duration": 295,
    "start_time": "2023-09-13T16:20:39.040Z"
   },
   {
    "duration": 280,
    "start_time": "2023-09-13T16:20:39.337Z"
   },
   {
    "duration": 455,
    "start_time": "2023-09-13T16:20:39.619Z"
   },
   {
    "duration": 17,
    "start_time": "2023-09-13T16:20:40.081Z"
   },
   {
    "duration": 34,
    "start_time": "2023-09-13T16:20:40.100Z"
   },
   {
    "duration": 27,
    "start_time": "2023-09-13T16:20:40.136Z"
   },
   {
    "duration": 31,
    "start_time": "2023-09-13T16:20:40.164Z"
   },
   {
    "duration": 29,
    "start_time": "2023-09-13T16:20:40.197Z"
   },
   {
    "duration": 282,
    "start_time": "2023-09-13T16:20:40.228Z"
   },
   {
    "duration": 3,
    "start_time": "2023-09-13T16:20:40.514Z"
   },
   {
    "duration": 18,
    "start_time": "2023-09-13T16:20:40.519Z"
   },
   {
    "duration": 25,
    "start_time": "2023-09-13T16:20:40.538Z"
   },
   {
    "duration": 10,
    "start_time": "2023-09-13T16:20:40.565Z"
   },
   {
    "duration": 17,
    "start_time": "2023-09-13T16:20:40.577Z"
   },
   {
    "duration": 4109,
    "start_time": "2023-09-13T16:20:40.596Z"
   },
   {
    "duration": 4,
    "start_time": "2023-09-13T16:20:44.707Z"
   },
   {
    "duration": 3,
    "start_time": "2023-09-13T16:20:44.784Z"
   },
   {
    "duration": 10,
    "start_time": "2023-09-13T16:20:44.789Z"
   },
   {
    "duration": 5,
    "start_time": "2023-09-13T16:20:44.801Z"
   },
   {
    "duration": 76,
    "start_time": "2023-09-13T16:20:44.808Z"
   },
   {
    "duration": 8,
    "start_time": "2023-09-13T16:20:44.886Z"
   },
   {
    "duration": 4,
    "start_time": "2023-09-13T16:20:44.897Z"
   },
   {
    "duration": 5,
    "start_time": "2023-09-13T16:20:44.903Z"
   },
   {
    "duration": 4,
    "start_time": "2023-09-13T16:20:44.910Z"
   },
   {
    "duration": 273982,
    "start_time": "2023-09-13T16:20:44.916Z"
   },
   {
    "duration": 6,
    "start_time": "2023-09-13T16:25:18.899Z"
   },
   {
    "duration": 74,
    "start_time": "2023-09-13T16:25:18.906Z"
   },
   {
    "duration": 15,
    "start_time": "2023-09-13T16:25:18.984Z"
   },
   {
    "duration": 43,
    "start_time": "2023-09-13T16:25:19.001Z"
   },
   {
    "duration": 139,
    "start_time": "2023-09-13T16:25:19.046Z"
   },
   {
    "duration": 0,
    "start_time": "2023-09-13T16:25:19.194Z"
   },
   {
    "duration": 0,
    "start_time": "2023-09-13T16:25:19.194Z"
   },
   {
    "duration": 0,
    "start_time": "2023-09-13T16:25:19.195Z"
   },
   {
    "duration": 0,
    "start_time": "2023-09-13T16:25:19.196Z"
   },
   {
    "duration": 0,
    "start_time": "2023-09-13T16:25:19.196Z"
   },
   {
    "duration": 0,
    "start_time": "2023-09-13T16:25:19.197Z"
   },
   {
    "duration": 0,
    "start_time": "2023-09-13T16:25:19.198Z"
   },
   {
    "duration": 0,
    "start_time": "2023-09-13T16:25:19.199Z"
   },
   {
    "duration": 0,
    "start_time": "2023-09-13T16:25:19.200Z"
   },
   {
    "duration": 0,
    "start_time": "2023-09-13T16:25:19.200Z"
   },
   {
    "duration": 0,
    "start_time": "2023-09-13T16:25:19.201Z"
   },
   {
    "duration": 0,
    "start_time": "2023-09-13T16:25:19.202Z"
   },
   {
    "duration": 0,
    "start_time": "2023-09-13T16:25:19.203Z"
   },
   {
    "duration": 0,
    "start_time": "2023-09-13T16:25:19.205Z"
   },
   {
    "duration": 0,
    "start_time": "2023-09-13T16:25:19.206Z"
   },
   {
    "duration": 0,
    "start_time": "2023-09-13T16:25:19.207Z"
   },
   {
    "duration": 0,
    "start_time": "2023-09-13T16:25:19.208Z"
   },
   {
    "duration": 0,
    "start_time": "2023-09-13T16:25:19.208Z"
   },
   {
    "duration": 0,
    "start_time": "2023-09-13T16:25:19.210Z"
   },
   {
    "duration": 13,
    "start_time": "2023-09-13T16:38:32.868Z"
   },
   {
    "duration": 12,
    "start_time": "2023-09-13T16:39:43.156Z"
   },
   {
    "duration": 5,
    "start_time": "2023-09-13T16:40:14.058Z"
   },
   {
    "duration": 10,
    "start_time": "2023-09-13T16:40:32.016Z"
   },
   {
    "duration": 4,
    "start_time": "2023-09-13T16:43:30.157Z"
   },
   {
    "duration": 9,
    "start_time": "2023-09-13T16:43:48.570Z"
   },
   {
    "duration": 4,
    "start_time": "2023-09-13T16:44:17.378Z"
   },
   {
    "duration": 29,
    "start_time": "2023-09-13T16:44:31.472Z"
   },
   {
    "duration": 4,
    "start_time": "2023-09-13T16:51:10.595Z"
   },
   {
    "duration": 45809,
    "start_time": "2023-09-13T16:51:12.094Z"
   },
   {
    "duration": 3,
    "start_time": "2023-09-13T16:53:30.594Z"
   },
   {
    "duration": 3,
    "start_time": "2023-09-13T16:53:31.341Z"
   },
   {
    "duration": 42525,
    "start_time": "2023-09-13T16:53:32.255Z"
   },
   {
    "duration": 4,
    "start_time": "2023-09-13T16:54:17.843Z"
   },
   {
    "duration": 4,
    "start_time": "2023-09-13T16:57:44.373Z"
   },
   {
    "duration": 3,
    "start_time": "2023-09-13T16:57:49.020Z"
   },
   {
    "duration": 45824,
    "start_time": "2023-09-13T16:57:52.590Z"
   },
   {
    "duration": 46343,
    "start_time": "2023-09-13T16:59:29.981Z"
   },
   {
    "duration": 5,
    "start_time": "2023-09-13T17:09:29.536Z"
   },
   {
    "duration": 3,
    "start_time": "2023-09-13T17:09:30.633Z"
   },
   {
    "duration": 46557,
    "start_time": "2023-09-13T17:09:31.746Z"
   },
   {
    "duration": 1629,
    "start_time": "2023-09-13T17:41:53.077Z"
   },
   {
    "duration": 1056,
    "start_time": "2023-09-13T17:41:54.708Z"
   },
   {
    "duration": 39,
    "start_time": "2023-09-13T17:41:55.766Z"
   },
   {
    "duration": 24,
    "start_time": "2023-09-13T17:41:55.808Z"
   },
   {
    "duration": 45,
    "start_time": "2023-09-13T17:41:55.834Z"
   },
   {
    "duration": 38,
    "start_time": "2023-09-13T17:41:55.881Z"
   },
   {
    "duration": 33,
    "start_time": "2023-09-13T17:41:55.921Z"
   },
   {
    "duration": 36,
    "start_time": "2023-09-13T17:41:55.956Z"
   },
   {
    "duration": 15,
    "start_time": "2023-09-13T17:41:56.001Z"
   },
   {
    "duration": 44,
    "start_time": "2023-09-13T17:41:56.020Z"
   },
   {
    "duration": 43,
    "start_time": "2023-09-13T17:41:56.066Z"
   },
   {
    "duration": 32,
    "start_time": "2023-09-13T17:41:56.111Z"
   },
   {
    "duration": 18,
    "start_time": "2023-09-13T17:41:56.146Z"
   },
   {
    "duration": 55,
    "start_time": "2023-09-13T17:41:56.165Z"
   },
   {
    "duration": 14,
    "start_time": "2023-09-13T17:41:56.222Z"
   },
   {
    "duration": 50,
    "start_time": "2023-09-13T17:41:56.238Z"
   },
   {
    "duration": 25,
    "start_time": "2023-09-13T17:41:56.290Z"
   },
   {
    "duration": 38,
    "start_time": "2023-09-13T17:41:56.317Z"
   },
   {
    "duration": 11,
    "start_time": "2023-09-13T17:41:56.357Z"
   },
   {
    "duration": 75,
    "start_time": "2023-09-13T17:41:56.369Z"
   },
   {
    "duration": 25,
    "start_time": "2023-09-13T17:41:56.446Z"
   },
   {
    "duration": 401,
    "start_time": "2023-09-13T17:41:56.473Z"
   },
   {
    "duration": 27,
    "start_time": "2023-09-13T17:41:56.877Z"
   },
   {
    "duration": 26,
    "start_time": "2023-09-13T17:41:56.906Z"
   },
   {
    "duration": 391,
    "start_time": "2023-09-13T17:41:56.936Z"
   },
   {
    "duration": 31,
    "start_time": "2023-09-13T17:41:57.332Z"
   },
   {
    "duration": 20,
    "start_time": "2023-09-13T17:41:57.366Z"
   },
   {
    "duration": 308,
    "start_time": "2023-09-13T17:41:57.393Z"
   },
   {
    "duration": 19,
    "start_time": "2023-09-13T17:41:57.703Z"
   },
   {
    "duration": 408,
    "start_time": "2023-09-13T17:41:57.724Z"
   },
   {
    "duration": 305,
    "start_time": "2023-09-13T17:41:58.134Z"
   },
   {
    "duration": 284,
    "start_time": "2023-09-13T17:41:58.441Z"
   },
   {
    "duration": 281,
    "start_time": "2023-09-13T17:41:58.727Z"
   },
   {
    "duration": 534,
    "start_time": "2023-09-13T17:41:59.010Z"
   },
   {
    "duration": 8,
    "start_time": "2023-09-13T17:41:59.545Z"
   },
   {
    "duration": 54,
    "start_time": "2023-09-13T17:41:59.555Z"
   },
   {
    "duration": 32,
    "start_time": "2023-09-13T17:41:59.611Z"
   },
   {
    "duration": 65,
    "start_time": "2023-09-13T17:41:59.645Z"
   },
   {
    "duration": 33,
    "start_time": "2023-09-13T17:41:59.712Z"
   },
   {
    "duration": 299,
    "start_time": "2023-09-13T17:41:59.747Z"
   },
   {
    "duration": 3,
    "start_time": "2023-09-13T17:42:00.048Z"
   },
   {
    "duration": 61,
    "start_time": "2023-09-13T17:42:00.053Z"
   },
   {
    "duration": 60,
    "start_time": "2023-09-13T17:42:00.116Z"
   },
   {
    "duration": 35,
    "start_time": "2023-09-13T17:42:00.179Z"
   },
   {
    "duration": 47,
    "start_time": "2023-09-13T17:42:00.216Z"
   },
   {
    "duration": 5236,
    "start_time": "2023-09-13T17:42:00.266Z"
   },
   {
    "duration": 79,
    "start_time": "2023-09-13T17:42:05.504Z"
   },
   {
    "duration": 20,
    "start_time": "2023-09-13T17:42:05.591Z"
   },
   {
    "duration": 29,
    "start_time": "2023-09-13T17:42:05.613Z"
   },
   {
    "duration": 31,
    "start_time": "2023-09-13T17:42:05.644Z"
   },
   {
    "duration": 42,
    "start_time": "2023-09-13T17:42:05.676Z"
   },
   {
    "duration": 41,
    "start_time": "2023-09-13T17:42:05.719Z"
   },
   {
    "duration": 33,
    "start_time": "2023-09-13T17:42:05.762Z"
   },
   {
    "duration": 17,
    "start_time": "2023-09-13T17:42:05.797Z"
   },
   {
    "duration": 46,
    "start_time": "2023-09-13T17:42:05.816Z"
   },
   {
    "duration": 207,
    "start_time": "2023-09-13T17:42:05.864Z"
   },
   {
    "duration": 1,
    "start_time": "2023-09-13T17:42:06.072Z"
   },
   {
    "duration": 0,
    "start_time": "2023-09-13T17:42:06.074Z"
   },
   {
    "duration": 0,
    "start_time": "2023-09-13T17:42:06.075Z"
   },
   {
    "duration": 0,
    "start_time": "2023-09-13T17:42:06.076Z"
   },
   {
    "duration": 0,
    "start_time": "2023-09-13T17:42:06.077Z"
   },
   {
    "duration": 0,
    "start_time": "2023-09-13T17:42:06.078Z"
   },
   {
    "duration": 0,
    "start_time": "2023-09-13T17:42:06.079Z"
   },
   {
    "duration": 0,
    "start_time": "2023-09-13T17:42:06.080Z"
   },
   {
    "duration": 0,
    "start_time": "2023-09-13T17:42:06.083Z"
   },
   {
    "duration": 0,
    "start_time": "2023-09-13T17:42:06.084Z"
   },
   {
    "duration": 0,
    "start_time": "2023-09-13T17:42:06.086Z"
   },
   {
    "duration": 0,
    "start_time": "2023-09-13T17:42:06.086Z"
   },
   {
    "duration": 0,
    "start_time": "2023-09-13T17:42:06.088Z"
   },
   {
    "duration": 0,
    "start_time": "2023-09-13T17:42:06.088Z"
   },
   {
    "duration": 0,
    "start_time": "2023-09-13T17:42:06.089Z"
   },
   {
    "duration": 0,
    "start_time": "2023-09-13T17:42:06.090Z"
   },
   {
    "duration": 0,
    "start_time": "2023-09-13T17:42:06.091Z"
   },
   {
    "duration": 0,
    "start_time": "2023-09-13T17:42:06.093Z"
   },
   {
    "duration": 0,
    "start_time": "2023-09-13T17:42:06.095Z"
   },
   {
    "duration": 0,
    "start_time": "2023-09-13T17:42:06.097Z"
   },
   {
    "duration": 0,
    "start_time": "2023-09-13T17:42:06.098Z"
   },
   {
    "duration": 0,
    "start_time": "2023-09-13T17:42:06.098Z"
   },
   {
    "duration": 0,
    "start_time": "2023-09-13T17:42:06.100Z"
   },
   {
    "duration": 0,
    "start_time": "2023-09-13T17:42:06.101Z"
   },
   {
    "duration": 0,
    "start_time": "2023-09-13T17:42:06.102Z"
   },
   {
    "duration": 0,
    "start_time": "2023-09-13T17:42:06.103Z"
   },
   {
    "duration": 142,
    "start_time": "2023-09-13T17:43:19.423Z"
   },
   {
    "duration": 309,
    "start_time": "2023-09-13T17:47:08.942Z"
   },
   {
    "duration": 168,
    "start_time": "2023-09-13T17:47:26.244Z"
   },
   {
    "duration": 5,
    "start_time": "2023-09-13T17:48:24.393Z"
   },
   {
    "duration": 4,
    "start_time": "2023-09-13T17:48:27.215Z"
   },
   {
    "duration": 43728,
    "start_time": "2023-09-13T17:48:28.463Z"
   },
   {
    "duration": 51180,
    "start_time": "2023-09-13T17:52:39.547Z"
   },
   {
    "duration": 4,
    "start_time": "2023-09-13T17:54:11.513Z"
   },
   {
    "duration": 5,
    "start_time": "2023-09-13T17:54:12.163Z"
   },
   {
    "duration": 3,
    "start_time": "2023-09-13T17:54:44.855Z"
   },
   {
    "duration": 3,
    "start_time": "2023-09-13T17:54:45.815Z"
   },
   {
    "duration": 46913,
    "start_time": "2023-09-13T17:55:07.178Z"
   },
   {
    "duration": 3,
    "start_time": "2023-09-13T17:57:35.244Z"
   },
   {
    "duration": 4,
    "start_time": "2023-09-13T17:57:36.106Z"
   },
   {
    "duration": 49035,
    "start_time": "2023-09-13T17:58:04.960Z"
   },
   {
    "duration": 58000,
    "start_time": "2023-09-13T18:02:32.413Z"
   },
   {
    "duration": 114,
    "start_time": "2023-09-13T18:15:41.893Z"
   },
   {
    "duration": 14,
    "start_time": "2023-09-13T18:16:02.456Z"
   },
   {
    "duration": 12,
    "start_time": "2023-09-13T18:22:50.897Z"
   },
   {
    "duration": 16,
    "start_time": "2023-09-13T18:25:41.489Z"
   },
   {
    "duration": 14,
    "start_time": "2023-09-13T18:29:05.113Z"
   },
   {
    "duration": 6,
    "start_time": "2023-09-13T18:30:24.265Z"
   },
   {
    "duration": 48276,
    "start_time": "2023-09-13T18:30:25.620Z"
   },
   {
    "duration": 8,
    "start_time": "2023-09-13T18:32:15.890Z"
   },
   {
    "duration": 252859,
    "start_time": "2023-09-13T18:32:21.169Z"
   },
   {
    "duration": 3,
    "start_time": "2023-09-13T19:03:13.010Z"
   },
   {
    "duration": 9,
    "start_time": "2023-09-13T19:03:21.060Z"
   },
   {
    "duration": 9,
    "start_time": "2023-09-13T19:03:37.952Z"
   },
   {
    "duration": 9,
    "start_time": "2023-09-13T19:05:42.270Z"
   },
   {
    "duration": 9,
    "start_time": "2023-09-13T19:07:15.651Z"
   },
   {
    "duration": 7,
    "start_time": "2023-09-13T19:08:45.208Z"
   },
   {
    "duration": 13,
    "start_time": "2023-09-13T19:14:59.391Z"
   },
   {
    "duration": 1624,
    "start_time": "2023-09-13T19:15:20.428Z"
   },
   {
    "duration": 966,
    "start_time": "2023-09-13T19:15:22.054Z"
   },
   {
    "duration": 18,
    "start_time": "2023-09-13T19:15:23.021Z"
   },
   {
    "duration": 13,
    "start_time": "2023-09-13T19:15:23.041Z"
   },
   {
    "duration": 46,
    "start_time": "2023-09-13T19:15:23.055Z"
   },
   {
    "duration": 12,
    "start_time": "2023-09-13T19:15:23.103Z"
   },
   {
    "duration": 4,
    "start_time": "2023-09-13T19:15:23.116Z"
   },
   {
    "duration": 7,
    "start_time": "2023-09-13T19:15:23.121Z"
   },
   {
    "duration": 5,
    "start_time": "2023-09-13T19:15:23.129Z"
   },
   {
    "duration": 9,
    "start_time": "2023-09-13T19:15:23.137Z"
   },
   {
    "duration": 39,
    "start_time": "2023-09-13T19:15:23.148Z"
   },
   {
    "duration": 17,
    "start_time": "2023-09-13T19:15:23.189Z"
   },
   {
    "duration": 5,
    "start_time": "2023-09-13T19:15:23.208Z"
   },
   {
    "duration": 7,
    "start_time": "2023-09-13T19:15:23.215Z"
   },
   {
    "duration": 8,
    "start_time": "2023-09-13T19:15:23.224Z"
   },
   {
    "duration": 23,
    "start_time": "2023-09-13T19:15:23.233Z"
   },
   {
    "duration": 42,
    "start_time": "2023-09-13T19:15:23.257Z"
   },
   {
    "duration": 22,
    "start_time": "2023-09-13T19:15:23.301Z"
   },
   {
    "duration": 10,
    "start_time": "2023-09-13T19:15:23.325Z"
   },
   {
    "duration": 8,
    "start_time": "2023-09-13T19:15:23.336Z"
   },
   {
    "duration": 49,
    "start_time": "2023-09-13T19:15:23.346Z"
   },
   {
    "duration": 323,
    "start_time": "2023-09-13T19:15:23.397Z"
   },
   {
    "duration": 23,
    "start_time": "2023-09-13T19:15:23.721Z"
   },
   {
    "duration": 10,
    "start_time": "2023-09-13T19:15:23.746Z"
   },
   {
    "duration": 275,
    "start_time": "2023-09-13T19:15:23.757Z"
   },
   {
    "duration": 19,
    "start_time": "2023-09-13T19:15:24.034Z"
   },
   {
    "duration": 29,
    "start_time": "2023-09-13T19:15:24.055Z"
   },
   {
    "duration": 266,
    "start_time": "2023-09-13T19:15:24.090Z"
   },
   {
    "duration": 42,
    "start_time": "2023-09-13T19:15:24.357Z"
   },
   {
    "duration": 410,
    "start_time": "2023-09-13T19:15:24.401Z"
   },
   {
    "duration": 305,
    "start_time": "2023-09-13T19:15:24.813Z"
   },
   {
    "duration": 303,
    "start_time": "2023-09-13T19:15:25.120Z"
   },
   {
    "duration": 314,
    "start_time": "2023-09-13T19:15:25.425Z"
   },
   {
    "duration": 504,
    "start_time": "2023-09-13T19:15:25.741Z"
   },
   {
    "duration": 11,
    "start_time": "2023-09-13T19:15:26.247Z"
   },
   {
    "duration": 31,
    "start_time": "2023-09-13T19:15:26.261Z"
   },
   {
    "duration": 9,
    "start_time": "2023-09-13T19:15:26.297Z"
   },
   {
    "duration": 15,
    "start_time": "2023-09-13T19:15:26.308Z"
   },
   {
    "duration": 17,
    "start_time": "2023-09-13T19:15:26.325Z"
   },
   {
    "duration": 264,
    "start_time": "2023-09-13T19:15:26.344Z"
   },
   {
    "duration": 3,
    "start_time": "2023-09-13T19:15:26.610Z"
   },
   {
    "duration": 50,
    "start_time": "2023-09-13T19:15:26.615Z"
   },
   {
    "duration": 90,
    "start_time": "2023-09-13T19:15:26.666Z"
   },
   {
    "duration": 51,
    "start_time": "2023-09-13T19:15:26.757Z"
   },
   {
    "duration": 20,
    "start_time": "2023-09-13T19:15:26.814Z"
   },
   {
    "duration": 4171,
    "start_time": "2023-09-13T19:15:26.837Z"
   },
   {
    "duration": 5,
    "start_time": "2023-09-13T19:15:31.082Z"
   },
   {
    "duration": 30,
    "start_time": "2023-09-13T19:15:31.090Z"
   },
   {
    "duration": 34,
    "start_time": "2023-09-13T19:15:31.121Z"
   },
   {
    "duration": 37,
    "start_time": "2023-09-13T19:15:31.156Z"
   },
   {
    "duration": 50,
    "start_time": "2023-09-13T19:15:31.197Z"
   },
   {
    "duration": 45,
    "start_time": "2023-09-13T19:15:31.249Z"
   },
   {
    "duration": 42,
    "start_time": "2023-09-13T19:15:31.296Z"
   },
   {
    "duration": 37,
    "start_time": "2023-09-13T19:15:31.340Z"
   },
   {
    "duration": 19,
    "start_time": "2023-09-13T19:15:31.379Z"
   },
   {
    "duration": 15,
    "start_time": "2023-09-13T19:15:31.401Z"
   },
   {
    "duration": 49,
    "start_time": "2023-09-13T19:15:31.417Z"
   },
   {
    "duration": 246567,
    "start_time": "2023-09-13T19:15:31.469Z"
   },
   {
    "duration": 7,
    "start_time": "2023-09-13T19:19:38.038Z"
   },
   {
    "duration": 13,
    "start_time": "2023-09-13T19:19:38.047Z"
   },
   {
    "duration": 138,
    "start_time": "2023-09-13T19:19:38.063Z"
   },
   {
    "duration": 0,
    "start_time": "2023-09-13T19:19:38.203Z"
   },
   {
    "duration": 0,
    "start_time": "2023-09-13T19:19:38.204Z"
   },
   {
    "duration": 0,
    "start_time": "2023-09-13T19:19:38.205Z"
   },
   {
    "duration": 0,
    "start_time": "2023-09-13T19:19:38.207Z"
   },
   {
    "duration": 0,
    "start_time": "2023-09-13T19:19:38.208Z"
   },
   {
    "duration": 0,
    "start_time": "2023-09-13T19:19:38.210Z"
   },
   {
    "duration": 0,
    "start_time": "2023-09-13T19:19:38.211Z"
   },
   {
    "duration": 0,
    "start_time": "2023-09-13T19:19:38.212Z"
   },
   {
    "duration": 0,
    "start_time": "2023-09-13T19:19:38.214Z"
   },
   {
    "duration": 0,
    "start_time": "2023-09-13T19:19:38.216Z"
   },
   {
    "duration": 0,
    "start_time": "2023-09-13T19:19:38.217Z"
   },
   {
    "duration": 0,
    "start_time": "2023-09-13T19:19:38.219Z"
   },
   {
    "duration": 0,
    "start_time": "2023-09-13T19:19:38.221Z"
   },
   {
    "duration": 0,
    "start_time": "2023-09-13T19:19:38.223Z"
   },
   {
    "duration": 0,
    "start_time": "2023-09-13T19:19:38.224Z"
   },
   {
    "duration": 0,
    "start_time": "2023-09-13T19:19:38.226Z"
   },
   {
    "duration": 0,
    "start_time": "2023-09-13T19:19:38.228Z"
   },
   {
    "duration": 0,
    "start_time": "2023-09-13T19:19:38.230Z"
   },
   {
    "duration": 0,
    "start_time": "2023-09-13T19:19:38.231Z"
   },
   {
    "duration": 0,
    "start_time": "2023-09-13T19:19:38.282Z"
   },
   {
    "duration": 0,
    "start_time": "2023-09-13T19:19:38.284Z"
   },
   {
    "duration": 0,
    "start_time": "2023-09-13T19:19:38.286Z"
   },
   {
    "duration": 0,
    "start_time": "2023-09-13T19:19:38.286Z"
   },
   {
    "duration": 8,
    "start_time": "2023-09-13T19:30:45.321Z"
   },
   {
    "duration": 10,
    "start_time": "2023-09-13T19:31:44.263Z"
   },
   {
    "duration": 12,
    "start_time": "2023-09-13T19:43:40.278Z"
   },
   {
    "duration": 10,
    "start_time": "2023-09-13T19:44:22.757Z"
   },
   {
    "duration": 11,
    "start_time": "2023-09-13T20:06:32.151Z"
   },
   {
    "duration": 11,
    "start_time": "2023-09-13T20:07:47.858Z"
   },
   {
    "duration": 2915,
    "start_time": "2023-09-13T20:08:24.169Z"
   },
   {
    "duration": 10,
    "start_time": "2023-09-13T20:28:58.405Z"
   },
   {
    "duration": 27,
    "start_time": "2023-09-13T20:29:17.166Z"
   },
   {
    "duration": 1695,
    "start_time": "2023-09-14T09:24:56.842Z"
   },
   {
    "duration": 2108,
    "start_time": "2023-09-14T09:24:58.539Z"
   },
   {
    "duration": 16,
    "start_time": "2023-09-14T09:25:00.648Z"
   },
   {
    "duration": 24,
    "start_time": "2023-09-14T09:25:00.666Z"
   },
   {
    "duration": 65,
    "start_time": "2023-09-14T09:25:00.691Z"
   },
   {
    "duration": 19,
    "start_time": "2023-09-14T09:25:00.758Z"
   },
   {
    "duration": 30,
    "start_time": "2023-09-14T09:25:00.778Z"
   },
   {
    "duration": 31,
    "start_time": "2023-09-14T09:25:00.809Z"
   },
   {
    "duration": 39,
    "start_time": "2023-09-14T09:25:00.842Z"
   },
   {
    "duration": 24,
    "start_time": "2023-09-14T09:25:00.884Z"
   },
   {
    "duration": 43,
    "start_time": "2023-09-14T09:25:00.909Z"
   },
   {
    "duration": 108,
    "start_time": "2023-09-14T09:25:00.953Z"
   },
   {
    "duration": 34,
    "start_time": "2023-09-14T09:25:01.063Z"
   },
   {
    "duration": 32,
    "start_time": "2023-09-14T09:25:01.099Z"
   },
   {
    "duration": 33,
    "start_time": "2023-09-14T09:25:01.132Z"
   },
   {
    "duration": 29,
    "start_time": "2023-09-14T09:25:01.167Z"
   },
   {
    "duration": 60,
    "start_time": "2023-09-14T09:25:01.197Z"
   },
   {
    "duration": 72,
    "start_time": "2023-09-14T09:25:01.259Z"
   },
   {
    "duration": 45,
    "start_time": "2023-09-14T09:25:01.333Z"
   },
   {
    "duration": 48,
    "start_time": "2023-09-14T09:25:01.380Z"
   },
   {
    "duration": 68,
    "start_time": "2023-09-14T09:25:01.429Z"
   },
   {
    "duration": 287,
    "start_time": "2023-09-14T09:25:01.499Z"
   },
   {
    "duration": 19,
    "start_time": "2023-09-14T09:25:01.788Z"
   },
   {
    "duration": 52,
    "start_time": "2023-09-14T09:25:01.809Z"
   },
   {
    "duration": 243,
    "start_time": "2023-09-14T09:25:01.862Z"
   },
   {
    "duration": 19,
    "start_time": "2023-09-14T09:25:02.106Z"
   },
   {
    "duration": 139,
    "start_time": "2023-09-14T09:25:02.127Z"
   },
   {
    "duration": 322,
    "start_time": "2023-09-14T09:25:02.271Z"
   },
   {
    "duration": 18,
    "start_time": "2023-09-14T09:25:02.595Z"
   },
   {
    "duration": 335,
    "start_time": "2023-09-14T09:25:02.615Z"
   },
   {
    "duration": 257,
    "start_time": "2023-09-14T09:25:02.952Z"
   },
   {
    "duration": 241,
    "start_time": "2023-09-14T09:25:03.211Z"
   },
   {
    "duration": 250,
    "start_time": "2023-09-14T09:25:03.454Z"
   },
   {
    "duration": 440,
    "start_time": "2023-09-14T09:25:03.706Z"
   },
   {
    "duration": 7,
    "start_time": "2023-09-14T09:25:04.148Z"
   },
   {
    "duration": 31,
    "start_time": "2023-09-14T09:25:04.157Z"
   },
   {
    "duration": 21,
    "start_time": "2023-09-14T09:25:04.189Z"
   },
   {
    "duration": 20,
    "start_time": "2023-09-14T09:25:04.212Z"
   },
   {
    "duration": 17,
    "start_time": "2023-09-14T09:25:04.234Z"
   },
   {
    "duration": 242,
    "start_time": "2023-09-14T09:25:04.252Z"
   },
   {
    "duration": 6,
    "start_time": "2023-09-14T09:25:04.496Z"
   },
   {
    "duration": 34,
    "start_time": "2023-09-14T09:25:04.503Z"
   },
   {
    "duration": 26,
    "start_time": "2023-09-14T09:25:04.539Z"
   },
   {
    "duration": 20,
    "start_time": "2023-09-14T09:25:04.567Z"
   },
   {
    "duration": 34,
    "start_time": "2023-09-14T09:25:04.589Z"
   },
   {
    "duration": 2727,
    "start_time": "2023-09-14T09:25:04.625Z"
   },
   {
    "duration": 91,
    "start_time": "2023-09-14T09:25:07.355Z"
   },
   {
    "duration": 95,
    "start_time": "2023-09-14T09:25:07.449Z"
   },
   {
    "duration": 18,
    "start_time": "2023-09-14T09:25:07.545Z"
   },
   {
    "duration": 22,
    "start_time": "2023-09-14T09:25:07.565Z"
   },
   {
    "duration": 20,
    "start_time": "2023-09-14T09:25:07.589Z"
   },
   {
    "duration": 45,
    "start_time": "2023-09-14T09:25:07.610Z"
   },
   {
    "duration": 18,
    "start_time": "2023-09-14T09:25:07.657Z"
   },
   {
    "duration": 33,
    "start_time": "2023-09-14T09:25:07.677Z"
   },
   {
    "duration": 30,
    "start_time": "2023-09-14T09:25:07.711Z"
   },
   {
    "duration": 66,
    "start_time": "2023-09-14T09:25:07.743Z"
   },
   {
    "duration": 32,
    "start_time": "2023-09-14T09:25:07.810Z"
   },
   {
    "duration": 221733,
    "start_time": "2023-09-14T09:25:07.844Z"
   },
   {
    "duration": 8,
    "start_time": "2023-09-14T09:28:49.579Z"
   },
   {
    "duration": 21,
    "start_time": "2023-09-14T09:28:49.588Z"
   },
   {
    "duration": 16,
    "start_time": "2023-09-14T09:28:49.610Z"
   },
   {
    "duration": 15,
    "start_time": "2023-09-14T09:28:49.628Z"
   },
   {
    "duration": 19,
    "start_time": "2023-09-14T09:28:49.645Z"
   },
   {
    "duration": 27,
    "start_time": "2023-09-14T09:28:49.665Z"
   },
   {
    "duration": 626859,
    "start_time": "2023-09-14T09:28:49.694Z"
   },
   {
    "duration": 207,
    "start_time": "2023-09-14T09:39:16.556Z"
   },
   {
    "duration": 0,
    "start_time": "2023-09-14T09:39:16.765Z"
   },
   {
    "duration": 0,
    "start_time": "2023-09-14T09:39:16.766Z"
   },
   {
    "duration": 0,
    "start_time": "2023-09-14T09:39:16.767Z"
   },
   {
    "duration": 0,
    "start_time": "2023-09-14T09:39:16.769Z"
   },
   {
    "duration": 0,
    "start_time": "2023-09-14T09:39:16.770Z"
   },
   {
    "duration": 0,
    "start_time": "2023-09-14T09:39:16.771Z"
   },
   {
    "duration": 0,
    "start_time": "2023-09-14T09:39:16.773Z"
   },
   {
    "duration": 0,
    "start_time": "2023-09-14T09:39:16.774Z"
   },
   {
    "duration": 0,
    "start_time": "2023-09-14T09:39:16.776Z"
   },
   {
    "duration": 0,
    "start_time": "2023-09-14T09:39:16.777Z"
   },
   {
    "duration": 0,
    "start_time": "2023-09-14T09:39:16.779Z"
   },
   {
    "duration": 0,
    "start_time": "2023-09-14T09:39:16.780Z"
   },
   {
    "duration": 0,
    "start_time": "2023-09-14T09:39:16.781Z"
   },
   {
    "duration": 0,
    "start_time": "2023-09-14T09:39:16.782Z"
   },
   {
    "duration": 0,
    "start_time": "2023-09-14T09:39:16.784Z"
   },
   {
    "duration": 0,
    "start_time": "2023-09-14T09:39:16.785Z"
   },
   {
    "duration": 19,
    "start_time": "2023-09-14T09:48:10.677Z"
   },
   {
    "duration": 121,
    "start_time": "2023-09-14T09:48:39.835Z"
   },
   {
    "duration": 4,
    "start_time": "2023-09-14T09:49:31.905Z"
   },
   {
    "duration": 19,
    "start_time": "2023-09-14T09:50:56.985Z"
   },
   {
    "duration": 5,
    "start_time": "2023-09-14T09:56:03.572Z"
   },
   {
    "duration": 6,
    "start_time": "2023-09-14T09:57:13.834Z"
   },
   {
    "duration": 5,
    "start_time": "2023-09-14T10:06:14.566Z"
   },
   {
    "duration": 5,
    "start_time": "2023-09-14T10:07:26.072Z"
   },
   {
    "duration": 4,
    "start_time": "2023-09-14T10:07:35.863Z"
   },
   {
    "duration": 4,
    "start_time": "2023-09-14T10:08:53.560Z"
   },
   {
    "duration": 224743,
    "start_time": "2023-09-14T10:09:08.228Z"
   },
   {
    "duration": 4,
    "start_time": "2023-09-14T10:25:29.430Z"
   },
   {
    "duration": 5,
    "start_time": "2023-09-14T10:25:31.315Z"
   },
   {
    "duration": 3,
    "start_time": "2023-09-14T10:26:02.675Z"
   },
   {
    "duration": 1458,
    "start_time": "2023-09-14T10:29:24.424Z"
   },
   {
    "duration": 842,
    "start_time": "2023-09-14T10:29:25.883Z"
   },
   {
    "duration": 21,
    "start_time": "2023-09-14T10:29:26.727Z"
   },
   {
    "duration": 11,
    "start_time": "2023-09-14T10:29:26.749Z"
   },
   {
    "duration": 21,
    "start_time": "2023-09-14T10:29:26.762Z"
   },
   {
    "duration": 11,
    "start_time": "2023-09-14T10:29:26.785Z"
   },
   {
    "duration": 17,
    "start_time": "2023-09-14T10:29:26.797Z"
   },
   {
    "duration": 19,
    "start_time": "2023-09-14T10:29:26.815Z"
   },
   {
    "duration": 12,
    "start_time": "2023-09-14T10:29:26.835Z"
   },
   {
    "duration": 11,
    "start_time": "2023-09-14T10:29:26.848Z"
   },
   {
    "duration": 9,
    "start_time": "2023-09-14T10:29:26.860Z"
   },
   {
    "duration": 26,
    "start_time": "2023-09-14T10:29:26.870Z"
   },
   {
    "duration": 4,
    "start_time": "2023-09-14T10:29:26.898Z"
   },
   {
    "duration": 14,
    "start_time": "2023-09-14T10:29:26.905Z"
   },
   {
    "duration": 15,
    "start_time": "2023-09-14T10:29:26.921Z"
   },
   {
    "duration": 22,
    "start_time": "2023-09-14T10:29:26.938Z"
   },
   {
    "duration": 26,
    "start_time": "2023-09-14T10:29:26.962Z"
   },
   {
    "duration": 27,
    "start_time": "2023-09-14T10:29:26.990Z"
   },
   {
    "duration": 11,
    "start_time": "2023-09-14T10:29:27.018Z"
   },
   {
    "duration": 25,
    "start_time": "2023-09-14T10:29:27.030Z"
   },
   {
    "duration": 19,
    "start_time": "2023-09-14T10:29:27.056Z"
   },
   {
    "duration": 250,
    "start_time": "2023-09-14T10:29:27.076Z"
   },
   {
    "duration": 25,
    "start_time": "2023-09-14T10:29:27.328Z"
   },
   {
    "duration": 7,
    "start_time": "2023-09-14T10:29:27.355Z"
   },
   {
    "duration": 226,
    "start_time": "2023-09-14T10:29:27.364Z"
   },
   {
    "duration": 20,
    "start_time": "2023-09-14T10:29:27.592Z"
   },
   {
    "duration": 9,
    "start_time": "2023-09-14T10:29:27.613Z"
   },
   {
    "duration": 239,
    "start_time": "2023-09-14T10:29:28.243Z"
   },
   {
    "duration": 229,
    "start_time": "2023-09-14T10:29:28.483Z"
   },
   {
    "duration": 232,
    "start_time": "2023-09-14T10:29:28.713Z"
   },
   {
    "duration": 413,
    "start_time": "2023-09-14T10:29:28.946Z"
   },
   {
    "duration": 8,
    "start_time": "2023-09-14T10:29:29.360Z"
   },
   {
    "duration": 16,
    "start_time": "2023-09-14T10:29:29.369Z"
   },
   {
    "duration": 7,
    "start_time": "2023-09-14T10:29:29.386Z"
   },
   {
    "duration": 6,
    "start_time": "2023-09-14T10:29:29.394Z"
   },
   {
    "duration": 11,
    "start_time": "2023-09-14T10:29:29.401Z"
   },
   {
    "duration": 244,
    "start_time": "2023-09-14T10:29:29.413Z"
   },
   {
    "duration": 2,
    "start_time": "2023-09-14T10:29:29.662Z"
   },
   {
    "duration": 21,
    "start_time": "2023-09-14T10:29:29.666Z"
   },
   {
    "duration": 28,
    "start_time": "2023-09-14T10:29:29.688Z"
   },
   {
    "duration": 35,
    "start_time": "2023-09-14T10:29:29.718Z"
   },
   {
    "duration": 17,
    "start_time": "2023-09-14T10:29:29.754Z"
   },
   {
    "duration": 2673,
    "start_time": "2023-09-14T10:29:29.772Z"
   },
   {
    "duration": 5,
    "start_time": "2023-09-14T10:29:32.447Z"
   },
   {
    "duration": 91,
    "start_time": "2023-09-14T10:29:32.454Z"
   },
   {
    "duration": 11,
    "start_time": "2023-09-14T10:29:32.546Z"
   },
   {
    "duration": 19,
    "start_time": "2023-09-14T10:29:32.558Z"
   },
   {
    "duration": 13,
    "start_time": "2023-09-14T10:29:32.579Z"
   },
   {
    "duration": 8,
    "start_time": "2023-09-14T10:29:32.593Z"
   },
   {
    "duration": 9,
    "start_time": "2023-09-14T10:29:32.603Z"
   },
   {
    "duration": 10,
    "start_time": "2023-09-14T10:29:32.614Z"
   },
   {
    "duration": 6,
    "start_time": "2023-09-14T10:29:32.625Z"
   },
   {
    "duration": 26,
    "start_time": "2023-09-14T10:29:32.633Z"
   },
   {
    "duration": 17,
    "start_time": "2023-09-14T10:29:32.660Z"
   },
   {
    "duration": 223721,
    "start_time": "2023-09-14T10:29:32.679Z"
   },
   {
    "duration": 4,
    "start_time": "2023-09-14T10:33:16.401Z"
   },
   {
    "duration": 23,
    "start_time": "2023-09-14T10:33:16.407Z"
   },
   {
    "duration": 22,
    "start_time": "2023-09-14T10:33:16.432Z"
   },
   {
    "duration": 27,
    "start_time": "2023-09-14T10:33:16.456Z"
   },
   {
    "duration": 52,
    "start_time": "2023-09-14T10:33:16.485Z"
   },
   {
    "duration": 30,
    "start_time": "2023-09-14T10:33:16.538Z"
   },
   {
    "duration": 25,
    "start_time": "2023-09-14T10:33:16.569Z"
   },
   {
    "duration": 35,
    "start_time": "2023-09-14T10:33:16.596Z"
   },
   {
    "duration": 1383,
    "start_time": "2023-09-14T10:43:28.747Z"
   },
   {
    "duration": 841,
    "start_time": "2023-09-14T10:43:30.132Z"
   },
   {
    "duration": 15,
    "start_time": "2023-09-14T10:43:30.975Z"
   },
   {
    "duration": 39,
    "start_time": "2023-09-14T10:43:30.991Z"
   },
   {
    "duration": 42,
    "start_time": "2023-09-14T10:43:31.032Z"
   },
   {
    "duration": 30,
    "start_time": "2023-09-14T10:43:31.075Z"
   },
   {
    "duration": 33,
    "start_time": "2023-09-14T10:43:31.106Z"
   },
   {
    "duration": 26,
    "start_time": "2023-09-14T10:43:31.140Z"
   },
   {
    "duration": 33,
    "start_time": "2023-09-14T10:43:31.167Z"
   },
   {
    "duration": 35,
    "start_time": "2023-09-14T10:43:31.202Z"
   },
   {
    "duration": 54,
    "start_time": "2023-09-14T10:43:31.239Z"
   },
   {
    "duration": 63,
    "start_time": "2023-09-14T10:43:31.294Z"
   },
   {
    "duration": 20,
    "start_time": "2023-09-14T10:43:31.359Z"
   },
   {
    "duration": 34,
    "start_time": "2023-09-14T10:43:31.380Z"
   },
   {
    "duration": 29,
    "start_time": "2023-09-14T10:43:31.415Z"
   },
   {
    "duration": 41,
    "start_time": "2023-09-14T10:43:31.446Z"
   },
   {
    "duration": 35,
    "start_time": "2023-09-14T10:43:31.489Z"
   },
   {
    "duration": 42,
    "start_time": "2023-09-14T10:43:31.525Z"
   },
   {
    "duration": 18,
    "start_time": "2023-09-14T10:43:31.569Z"
   },
   {
    "duration": 28,
    "start_time": "2023-09-14T10:43:31.589Z"
   },
   {
    "duration": 25,
    "start_time": "2023-09-14T10:43:31.618Z"
   },
   {
    "duration": 255,
    "start_time": "2023-09-14T10:43:31.644Z"
   },
   {
    "duration": 19,
    "start_time": "2023-09-14T10:43:31.901Z"
   },
   {
    "duration": 28,
    "start_time": "2023-09-14T10:43:31.922Z"
   },
   {
    "duration": 248,
    "start_time": "2023-09-14T10:43:31.951Z"
   },
   {
    "duration": 27,
    "start_time": "2023-09-14T10:43:32.201Z"
   },
   {
    "duration": 23,
    "start_time": "2023-09-14T10:43:32.230Z"
   },
   {
    "duration": 291,
    "start_time": "2023-09-14T10:43:32.259Z"
   },
   {
    "duration": 17,
    "start_time": "2023-09-14T10:43:32.552Z"
   },
   {
    "duration": 317,
    "start_time": "2023-09-14T10:43:32.571Z"
   },
   {
    "duration": 246,
    "start_time": "2023-09-14T10:43:32.889Z"
   },
   {
    "duration": 240,
    "start_time": "2023-09-14T10:43:33.137Z"
   },
   {
    "duration": 239,
    "start_time": "2023-09-14T10:43:33.379Z"
   },
   {
    "duration": 497,
    "start_time": "2023-09-14T10:43:33.620Z"
   },
   {
    "duration": 8,
    "start_time": "2023-09-14T10:43:34.119Z"
   },
   {
    "duration": 23,
    "start_time": "2023-09-14T10:43:34.129Z"
   },
   {
    "duration": 33,
    "start_time": "2023-09-14T10:43:34.153Z"
   },
   {
    "duration": 15,
    "start_time": "2023-09-14T10:43:34.187Z"
   },
   {
    "duration": 21,
    "start_time": "2023-09-14T10:43:34.203Z"
   },
   {
    "duration": 274,
    "start_time": "2023-09-14T10:43:34.226Z"
   },
   {
    "duration": 4,
    "start_time": "2023-09-14T10:43:34.503Z"
   },
   {
    "duration": 9,
    "start_time": "2023-09-14T10:43:34.509Z"
   },
   {
    "duration": 49,
    "start_time": "2023-09-14T10:43:34.520Z"
   },
   {
    "duration": 19,
    "start_time": "2023-09-14T10:43:34.572Z"
   },
   {
    "duration": 31,
    "start_time": "2023-09-14T10:43:34.593Z"
   },
   {
    "duration": 2929,
    "start_time": "2023-09-14T10:43:34.626Z"
   },
   {
    "duration": 87,
    "start_time": "2023-09-14T10:43:37.557Z"
   },
   {
    "duration": 9,
    "start_time": "2023-09-14T10:43:37.647Z"
   },
   {
    "duration": 17,
    "start_time": "2023-09-14T10:43:37.658Z"
   },
   {
    "duration": 13,
    "start_time": "2023-09-14T10:43:37.677Z"
   },
   {
    "duration": 53,
    "start_time": "2023-09-14T10:43:37.692Z"
   },
   {
    "duration": 34,
    "start_time": "2023-09-14T10:43:37.747Z"
   },
   {
    "duration": 17,
    "start_time": "2023-09-14T10:43:37.783Z"
   },
   {
    "duration": 16,
    "start_time": "2023-09-14T10:43:37.801Z"
   },
   {
    "duration": 12,
    "start_time": "2023-09-14T10:43:37.819Z"
   },
   {
    "duration": 8,
    "start_time": "2023-09-14T10:43:37.833Z"
   },
   {
    "duration": 1524,
    "start_time": "2023-09-14T10:49:41.260Z"
   },
   {
    "duration": 805,
    "start_time": "2023-09-14T10:49:42.786Z"
   },
   {
    "duration": 18,
    "start_time": "2023-09-14T10:49:43.592Z"
   },
   {
    "duration": 13,
    "start_time": "2023-09-14T10:49:43.613Z"
   },
   {
    "duration": 26,
    "start_time": "2023-09-14T10:49:43.628Z"
   },
   {
    "duration": 14,
    "start_time": "2023-09-14T10:49:43.655Z"
   },
   {
    "duration": 3,
    "start_time": "2023-09-14T10:49:43.671Z"
   },
   {
    "duration": 17,
    "start_time": "2023-09-14T10:49:43.675Z"
   },
   {
    "duration": 16,
    "start_time": "2023-09-14T10:49:43.693Z"
   },
   {
    "duration": 13,
    "start_time": "2023-09-14T10:49:43.713Z"
   },
   {
    "duration": 32,
    "start_time": "2023-09-14T10:49:43.728Z"
   },
   {
    "duration": 17,
    "start_time": "2023-09-14T10:49:43.763Z"
   },
   {
    "duration": 11,
    "start_time": "2023-09-14T10:49:43.783Z"
   },
   {
    "duration": 20,
    "start_time": "2023-09-14T10:49:43.796Z"
   },
   {
    "duration": 6,
    "start_time": "2023-09-14T10:49:43.818Z"
   },
   {
    "duration": 18,
    "start_time": "2023-09-14T10:49:43.826Z"
   },
   {
    "duration": 13,
    "start_time": "2023-09-14T10:49:43.846Z"
   },
   {
    "duration": 21,
    "start_time": "2023-09-14T10:49:43.860Z"
   },
   {
    "duration": 9,
    "start_time": "2023-09-14T10:49:43.882Z"
   },
   {
    "duration": 10,
    "start_time": "2023-09-14T10:49:43.892Z"
   },
   {
    "duration": 41,
    "start_time": "2023-09-14T10:49:43.903Z"
   },
   {
    "duration": 252,
    "start_time": "2023-09-14T10:49:43.945Z"
   },
   {
    "duration": 18,
    "start_time": "2023-09-14T10:49:44.199Z"
   },
   {
    "duration": 7,
    "start_time": "2023-09-14T10:49:44.218Z"
   },
   {
    "duration": 236,
    "start_time": "2023-09-14T10:49:44.243Z"
   },
   {
    "duration": 20,
    "start_time": "2023-09-14T10:49:44.481Z"
   },
   {
    "duration": 9,
    "start_time": "2023-09-14T10:49:44.503Z"
   },
   {
    "duration": 285,
    "start_time": "2023-09-14T10:49:44.517Z"
   },
   {
    "duration": 18,
    "start_time": "2023-09-14T10:49:44.803Z"
   },
   {
    "duration": 368,
    "start_time": "2023-09-14T10:49:44.823Z"
   },
   {
    "duration": 244,
    "start_time": "2023-09-14T10:49:45.192Z"
   },
   {
    "duration": 240,
    "start_time": "2023-09-14T10:49:45.437Z"
   },
   {
    "duration": 243,
    "start_time": "2023-09-14T10:49:45.679Z"
   },
   {
    "duration": 421,
    "start_time": "2023-09-14T10:49:45.923Z"
   },
   {
    "duration": 8,
    "start_time": "2023-09-14T10:49:46.345Z"
   },
   {
    "duration": 13,
    "start_time": "2023-09-14T10:49:46.354Z"
   },
   {
    "duration": 13,
    "start_time": "2023-09-14T10:49:46.369Z"
   },
   {
    "duration": 29,
    "start_time": "2023-09-14T10:49:46.384Z"
   },
   {
    "duration": 26,
    "start_time": "2023-09-14T10:49:46.415Z"
   },
   {
    "duration": 256,
    "start_time": "2023-09-14T10:49:46.442Z"
   },
   {
    "duration": 4,
    "start_time": "2023-09-14T10:49:46.699Z"
   },
   {
    "duration": 24,
    "start_time": "2023-09-14T10:49:46.704Z"
   },
   {
    "duration": 42,
    "start_time": "2023-09-14T10:49:46.729Z"
   },
   {
    "duration": 37,
    "start_time": "2023-09-14T10:49:46.773Z"
   },
   {
    "duration": 41,
    "start_time": "2023-09-14T10:49:46.812Z"
   },
   {
    "duration": 2895,
    "start_time": "2023-09-14T10:49:46.855Z"
   },
   {
    "duration": 92,
    "start_time": "2023-09-14T10:49:49.752Z"
   },
   {
    "duration": 7,
    "start_time": "2023-09-14T10:49:49.846Z"
   },
   {
    "duration": 13,
    "start_time": "2023-09-14T10:49:49.854Z"
   },
   {
    "duration": 12,
    "start_time": "2023-09-14T10:49:49.868Z"
   },
   {
    "duration": 6,
    "start_time": "2023-09-14T10:49:49.881Z"
   },
   {
    "duration": 5,
    "start_time": "2023-09-14T10:49:49.888Z"
   },
   {
    "duration": 6,
    "start_time": "2023-09-14T10:49:49.894Z"
   },
   {
    "duration": 23,
    "start_time": "2023-09-14T10:49:49.901Z"
   },
   {
    "duration": 5,
    "start_time": "2023-09-14T10:49:49.926Z"
   },
   {
    "duration": 15,
    "start_time": "2023-09-14T10:49:49.933Z"
   },
   {
    "duration": 225889,
    "start_time": "2023-09-14T10:49:49.949Z"
   },
   {
    "duration": 5,
    "start_time": "2023-09-14T10:53:35.840Z"
   },
   {
    "duration": 139,
    "start_time": "2023-09-14T10:53:35.846Z"
   },
   {
    "duration": 0,
    "start_time": "2023-09-14T10:53:35.987Z"
   },
   {
    "duration": 0,
    "start_time": "2023-09-14T10:53:35.988Z"
   },
   {
    "duration": 0,
    "start_time": "2023-09-14T10:53:35.989Z"
   },
   {
    "duration": 0,
    "start_time": "2023-09-14T10:53:35.990Z"
   },
   {
    "duration": 0,
    "start_time": "2023-09-14T10:53:35.991Z"
   },
   {
    "duration": 0,
    "start_time": "2023-09-14T10:53:35.992Z"
   },
   {
    "duration": 0,
    "start_time": "2023-09-14T10:53:35.993Z"
   },
   {
    "duration": 0,
    "start_time": "2023-09-14T10:53:35.995Z"
   },
   {
    "duration": 0,
    "start_time": "2023-09-14T10:53:35.996Z"
   },
   {
    "duration": 0,
    "start_time": "2023-09-14T10:53:35.997Z"
   },
   {
    "duration": 0,
    "start_time": "2023-09-14T10:53:35.998Z"
   },
   {
    "duration": 0,
    "start_time": "2023-09-14T10:53:35.999Z"
   },
   {
    "duration": 0,
    "start_time": "2023-09-14T10:53:36.000Z"
   },
   {
    "duration": 0,
    "start_time": "2023-09-14T10:53:36.001Z"
   },
   {
    "duration": 0,
    "start_time": "2023-09-14T10:53:36.002Z"
   },
   {
    "duration": 0,
    "start_time": "2023-09-14T10:53:36.003Z"
   },
   {
    "duration": 0,
    "start_time": "2023-09-14T10:53:36.004Z"
   },
   {
    "duration": 0,
    "start_time": "2023-09-14T10:53:36.004Z"
   },
   {
    "duration": 0,
    "start_time": "2023-09-14T10:53:36.005Z"
   },
   {
    "duration": 0,
    "start_time": "2023-09-14T10:53:36.006Z"
   },
   {
    "duration": 0,
    "start_time": "2023-09-14T10:53:36.007Z"
   },
   {
    "duration": 0,
    "start_time": "2023-09-14T10:53:36.008Z"
   },
   {
    "duration": 1446,
    "start_time": "2023-09-14T11:00:15.362Z"
   },
   {
    "duration": 829,
    "start_time": "2023-09-14T11:00:16.809Z"
   },
   {
    "duration": 16,
    "start_time": "2023-09-14T11:00:17.640Z"
   },
   {
    "duration": 12,
    "start_time": "2023-09-14T11:00:17.658Z"
   },
   {
    "duration": 23,
    "start_time": "2023-09-14T11:00:17.672Z"
   },
   {
    "duration": 11,
    "start_time": "2023-09-14T11:00:17.696Z"
   },
   {
    "duration": 7,
    "start_time": "2023-09-14T11:00:17.708Z"
   },
   {
    "duration": 26,
    "start_time": "2023-09-14T11:00:17.716Z"
   },
   {
    "duration": 20,
    "start_time": "2023-09-14T11:00:17.743Z"
   },
   {
    "duration": 14,
    "start_time": "2023-09-14T11:00:17.765Z"
   },
   {
    "duration": 19,
    "start_time": "2023-09-14T11:00:17.781Z"
   },
   {
    "duration": 15,
    "start_time": "2023-09-14T11:00:17.802Z"
   },
   {
    "duration": 25,
    "start_time": "2023-09-14T11:00:17.819Z"
   },
   {
    "duration": 34,
    "start_time": "2023-09-14T11:00:17.847Z"
   },
   {
    "duration": 28,
    "start_time": "2023-09-14T11:00:17.883Z"
   },
   {
    "duration": 34,
    "start_time": "2023-09-14T11:00:17.912Z"
   },
   {
    "duration": 29,
    "start_time": "2023-09-14T11:00:17.948Z"
   },
   {
    "duration": 27,
    "start_time": "2023-09-14T11:00:17.979Z"
   },
   {
    "duration": 9,
    "start_time": "2023-09-14T11:00:18.008Z"
   },
   {
    "duration": 28,
    "start_time": "2023-09-14T11:00:18.019Z"
   },
   {
    "duration": 11,
    "start_time": "2023-09-14T11:00:18.049Z"
   },
   {
    "duration": 267,
    "start_time": "2023-09-14T11:00:18.061Z"
   },
   {
    "duration": 26,
    "start_time": "2023-09-14T11:00:18.330Z"
   },
   {
    "duration": 39,
    "start_time": "2023-09-14T11:00:18.358Z"
   },
   {
    "duration": 292,
    "start_time": "2023-09-14T11:00:18.400Z"
   },
   {
    "duration": 17,
    "start_time": "2023-09-14T11:00:18.694Z"
   },
   {
    "duration": 25,
    "start_time": "2023-09-14T11:00:18.713Z"
   },
   {
    "duration": 230,
    "start_time": "2023-09-14T11:00:18.739Z"
   },
   {
    "duration": 19,
    "start_time": "2023-09-14T11:00:18.972Z"
   },
   {
    "duration": 357,
    "start_time": "2023-09-14T11:00:18.993Z"
   },
   {
    "duration": 262,
    "start_time": "2023-09-14T11:00:19.352Z"
   },
   {
    "duration": 245,
    "start_time": "2023-09-14T11:00:19.616Z"
   },
   {
    "duration": 240,
    "start_time": "2023-09-14T11:00:19.863Z"
   },
   {
    "duration": 428,
    "start_time": "2023-09-14T11:00:20.105Z"
   },
   {
    "duration": 15,
    "start_time": "2023-09-14T11:00:20.535Z"
   },
   {
    "duration": 19,
    "start_time": "2023-09-14T11:00:20.552Z"
   },
   {
    "duration": 14,
    "start_time": "2023-09-14T11:00:20.573Z"
   },
   {
    "duration": 9,
    "start_time": "2023-09-14T11:00:20.589Z"
   },
   {
    "duration": 11,
    "start_time": "2023-09-14T11:00:20.599Z"
   },
   {
    "duration": 230,
    "start_time": "2023-09-14T11:00:20.611Z"
   },
   {
    "duration": 3,
    "start_time": "2023-09-14T11:00:20.846Z"
   },
   {
    "duration": 10,
    "start_time": "2023-09-14T11:00:20.850Z"
   },
   {
    "duration": 14,
    "start_time": "2023-09-14T11:00:20.862Z"
   },
   {
    "duration": 17,
    "start_time": "2023-09-14T11:00:20.878Z"
   },
   {
    "duration": 26,
    "start_time": "2023-09-14T11:00:20.897Z"
   },
   {
    "duration": 2722,
    "start_time": "2023-09-14T11:00:20.925Z"
   },
   {
    "duration": 4,
    "start_time": "2023-09-14T11:00:23.649Z"
   },
   {
    "duration": 20,
    "start_time": "2023-09-14T11:00:23.655Z"
   },
   {
    "duration": 22,
    "start_time": "2023-09-14T11:00:23.677Z"
   },
   {
    "duration": 18,
    "start_time": "2023-09-14T11:00:23.701Z"
   },
   {
    "duration": 53,
    "start_time": "2023-09-14T11:00:23.720Z"
   },
   {
    "duration": 48,
    "start_time": "2023-09-14T11:00:23.775Z"
   },
   {
    "duration": 49,
    "start_time": "2023-09-14T11:00:23.825Z"
   },
   {
    "duration": 26,
    "start_time": "2023-09-14T11:00:23.876Z"
   },
   {
    "duration": 21,
    "start_time": "2023-09-14T11:00:23.904Z"
   },
   {
    "duration": 58,
    "start_time": "2023-09-14T11:00:23.927Z"
   },
   {
    "duration": 1482,
    "start_time": "2023-09-14T11:04:12.520Z"
   },
   {
    "duration": 893,
    "start_time": "2023-09-14T11:04:14.004Z"
   },
   {
    "duration": 18,
    "start_time": "2023-09-14T11:04:14.899Z"
   },
   {
    "duration": 25,
    "start_time": "2023-09-14T11:04:14.919Z"
   },
   {
    "duration": 15,
    "start_time": "2023-09-14T11:04:14.946Z"
   },
   {
    "duration": 30,
    "start_time": "2023-09-14T11:04:14.963Z"
   },
   {
    "duration": 55,
    "start_time": "2023-09-14T11:04:14.994Z"
   },
   {
    "duration": 44,
    "start_time": "2023-09-14T11:04:15.050Z"
   },
   {
    "duration": 41,
    "start_time": "2023-09-14T11:04:15.095Z"
   },
   {
    "duration": 48,
    "start_time": "2023-09-14T11:04:15.137Z"
   },
   {
    "duration": 27,
    "start_time": "2023-09-14T11:04:15.186Z"
   },
   {
    "duration": 32,
    "start_time": "2023-09-14T11:04:15.215Z"
   },
   {
    "duration": 34,
    "start_time": "2023-09-14T11:04:15.248Z"
   },
   {
    "duration": 25,
    "start_time": "2023-09-14T11:04:15.284Z"
   },
   {
    "duration": 29,
    "start_time": "2023-09-14T11:04:15.311Z"
   },
   {
    "duration": 20,
    "start_time": "2023-09-14T11:04:15.342Z"
   },
   {
    "duration": 41,
    "start_time": "2023-09-14T11:04:15.364Z"
   },
   {
    "duration": 41,
    "start_time": "2023-09-14T11:04:15.407Z"
   },
   {
    "duration": 21,
    "start_time": "2023-09-14T11:04:15.451Z"
   },
   {
    "duration": 10,
    "start_time": "2023-09-14T11:04:15.474Z"
   },
   {
    "duration": 25,
    "start_time": "2023-09-14T11:04:15.486Z"
   },
   {
    "duration": 322,
    "start_time": "2023-09-14T11:04:15.513Z"
   },
   {
    "duration": 19,
    "start_time": "2023-09-14T11:04:15.837Z"
   },
   {
    "duration": 7,
    "start_time": "2023-09-14T11:04:15.858Z"
   },
   {
    "duration": 240,
    "start_time": "2023-09-14T11:04:15.867Z"
   },
   {
    "duration": 19,
    "start_time": "2023-09-14T11:04:16.109Z"
   },
   {
    "duration": 47,
    "start_time": "2023-09-14T11:04:16.129Z"
   },
   {
    "duration": 266,
    "start_time": "2023-09-14T11:04:16.177Z"
   },
   {
    "duration": 18,
    "start_time": "2023-09-14T11:04:16.445Z"
   },
   {
    "duration": 339,
    "start_time": "2023-09-14T11:04:16.464Z"
   },
   {
    "duration": 283,
    "start_time": "2023-09-14T11:04:16.804Z"
   },
   {
    "duration": 256,
    "start_time": "2023-09-14T11:04:17.088Z"
   },
   {
    "duration": 251,
    "start_time": "2023-09-14T11:04:17.345Z"
   },
   {
    "duration": 434,
    "start_time": "2023-09-14T11:04:17.598Z"
   },
   {
    "duration": 13,
    "start_time": "2023-09-14T11:04:18.033Z"
   },
   {
    "duration": 24,
    "start_time": "2023-09-14T11:04:18.048Z"
   },
   {
    "duration": 36,
    "start_time": "2023-09-14T11:04:18.074Z"
   },
   {
    "duration": 25,
    "start_time": "2023-09-14T11:04:18.111Z"
   },
   {
    "duration": 15,
    "start_time": "2023-09-14T11:04:18.138Z"
   },
   {
    "duration": 289,
    "start_time": "2023-09-14T11:04:18.155Z"
   },
   {
    "duration": 2,
    "start_time": "2023-09-14T11:04:18.449Z"
   },
   {
    "duration": 15,
    "start_time": "2023-09-14T11:04:18.453Z"
   },
   {
    "duration": 44,
    "start_time": "2023-09-14T11:04:18.470Z"
   },
   {
    "duration": 52,
    "start_time": "2023-09-14T11:04:18.515Z"
   },
   {
    "duration": 28,
    "start_time": "2023-09-14T11:04:18.569Z"
   },
   {
    "duration": 3049,
    "start_time": "2023-09-14T11:04:18.598Z"
   },
   {
    "duration": 6,
    "start_time": "2023-09-14T11:04:21.650Z"
   },
   {
    "duration": 40,
    "start_time": "2023-09-14T11:04:21.744Z"
   },
   {
    "duration": 35,
    "start_time": "2023-09-14T11:04:21.786Z"
   },
   {
    "duration": 58,
    "start_time": "2023-09-14T11:04:21.822Z"
   },
   {
    "duration": 16,
    "start_time": "2023-09-14T11:04:21.882Z"
   },
   {
    "duration": 12,
    "start_time": "2023-09-14T11:04:21.900Z"
   },
   {
    "duration": 8,
    "start_time": "2023-09-14T11:04:21.914Z"
   },
   {
    "duration": 30,
    "start_time": "2023-09-14T11:04:21.924Z"
   },
   {
    "duration": 30,
    "start_time": "2023-09-14T11:04:21.955Z"
   },
   {
    "duration": 47,
    "start_time": "2023-09-14T11:04:21.986Z"
   },
   {
    "duration": 1518,
    "start_time": "2023-09-14T11:08:12.639Z"
   },
   {
    "duration": 857,
    "start_time": "2023-09-14T11:08:14.159Z"
   },
   {
    "duration": 16,
    "start_time": "2023-09-14T11:08:15.018Z"
   },
   {
    "duration": 40,
    "start_time": "2023-09-14T11:08:15.043Z"
   },
   {
    "duration": 37,
    "start_time": "2023-09-14T11:08:15.084Z"
   },
   {
    "duration": 17,
    "start_time": "2023-09-14T11:08:15.122Z"
   },
   {
    "duration": 2,
    "start_time": "2023-09-14T11:08:15.141Z"
   },
   {
    "duration": 6,
    "start_time": "2023-09-14T11:08:15.145Z"
   },
   {
    "duration": 21,
    "start_time": "2023-09-14T11:08:15.152Z"
   },
   {
    "duration": 15,
    "start_time": "2023-09-14T11:08:15.175Z"
   },
   {
    "duration": 10,
    "start_time": "2023-09-14T11:08:15.192Z"
   },
   {
    "duration": 18,
    "start_time": "2023-09-14T11:08:15.203Z"
   },
   {
    "duration": 26,
    "start_time": "2023-09-14T11:08:15.223Z"
   },
   {
    "duration": 17,
    "start_time": "2023-09-14T11:08:15.251Z"
   },
   {
    "duration": 16,
    "start_time": "2023-09-14T11:08:15.270Z"
   },
   {
    "duration": 27,
    "start_time": "2023-09-14T11:08:15.287Z"
   },
   {
    "duration": 13,
    "start_time": "2023-09-14T11:08:15.316Z"
   },
   {
    "duration": 24,
    "start_time": "2023-09-14T11:08:15.330Z"
   },
   {
    "duration": 9,
    "start_time": "2023-09-14T11:08:15.356Z"
   },
   {
    "duration": 13,
    "start_time": "2023-09-14T11:08:15.366Z"
   },
   {
    "duration": 10,
    "start_time": "2023-09-14T11:08:15.381Z"
   },
   {
    "duration": 281,
    "start_time": "2023-09-14T11:08:15.393Z"
   },
   {
    "duration": 19,
    "start_time": "2023-09-14T11:08:15.675Z"
   },
   {
    "duration": 8,
    "start_time": "2023-09-14T11:08:15.695Z"
   },
   {
    "duration": 224,
    "start_time": "2023-09-14T11:08:15.704Z"
   },
   {
    "duration": 25,
    "start_time": "2023-09-14T11:08:15.930Z"
   },
   {
    "duration": 9,
    "start_time": "2023-09-14T11:08:15.956Z"
   },
   {
    "duration": 236,
    "start_time": "2023-09-14T11:08:15.970Z"
   },
   {
    "duration": 17,
    "start_time": "2023-09-14T11:08:16.208Z"
   },
   {
    "duration": 352,
    "start_time": "2023-09-14T11:08:16.227Z"
   },
   {
    "duration": 262,
    "start_time": "2023-09-14T11:08:16.581Z"
   },
   {
    "duration": 259,
    "start_time": "2023-09-14T11:08:16.846Z"
   },
   {
    "duration": 241,
    "start_time": "2023-09-14T11:08:17.107Z"
   },
   {
    "duration": 416,
    "start_time": "2023-09-14T11:08:17.350Z"
   },
   {
    "duration": 8,
    "start_time": "2023-09-14T11:08:17.767Z"
   },
   {
    "duration": 26,
    "start_time": "2023-09-14T11:08:17.776Z"
   },
   {
    "duration": 24,
    "start_time": "2023-09-14T11:08:17.803Z"
   },
   {
    "duration": 30,
    "start_time": "2023-09-14T11:08:17.829Z"
   },
   {
    "duration": 24,
    "start_time": "2023-09-14T11:08:17.861Z"
   },
   {
    "duration": 271,
    "start_time": "2023-09-14T11:08:17.887Z"
   },
   {
    "duration": 3,
    "start_time": "2023-09-14T11:08:18.159Z"
   },
   {
    "duration": 14,
    "start_time": "2023-09-14T11:08:18.164Z"
   },
   {
    "duration": 20,
    "start_time": "2023-09-14T11:08:18.179Z"
   },
   {
    "duration": 18,
    "start_time": "2023-09-14T11:08:18.201Z"
   },
   {
    "duration": 9,
    "start_time": "2023-09-14T11:08:18.221Z"
   },
   {
    "duration": 2420,
    "start_time": "2023-09-14T11:08:18.232Z"
   },
   {
    "duration": 89,
    "start_time": "2023-09-14T11:08:20.655Z"
   },
   {
    "duration": 47,
    "start_time": "2023-09-14T11:08:20.746Z"
   },
   {
    "duration": 33,
    "start_time": "2023-09-14T11:08:20.795Z"
   },
   {
    "duration": 25,
    "start_time": "2023-09-14T11:08:20.829Z"
   },
   {
    "duration": 47,
    "start_time": "2023-09-14T11:08:20.856Z"
   },
   {
    "duration": 35,
    "start_time": "2023-09-14T11:08:20.904Z"
   },
   {
    "duration": 42,
    "start_time": "2023-09-14T11:08:20.940Z"
   },
   {
    "duration": 21,
    "start_time": "2023-09-14T11:08:20.985Z"
   },
   {
    "duration": 80,
    "start_time": "2023-09-14T11:08:21.008Z"
   },
   {
    "duration": 38,
    "start_time": "2023-09-14T11:08:21.090Z"
   },
   {
    "duration": 1402,
    "start_time": "2023-09-14T11:17:38.758Z"
   },
   {
    "duration": 824,
    "start_time": "2023-09-14T11:17:40.162Z"
   },
   {
    "duration": 16,
    "start_time": "2023-09-14T11:17:40.988Z"
   },
   {
    "duration": 23,
    "start_time": "2023-09-14T11:17:41.006Z"
   },
   {
    "duration": 48,
    "start_time": "2023-09-14T11:17:41.031Z"
   },
   {
    "duration": 11,
    "start_time": "2023-09-14T11:17:41.081Z"
   },
   {
    "duration": 14,
    "start_time": "2023-09-14T11:17:41.094Z"
   },
   {
    "duration": 26,
    "start_time": "2023-09-14T11:17:41.109Z"
   },
   {
    "duration": 24,
    "start_time": "2023-09-14T11:17:41.137Z"
   },
   {
    "duration": 13,
    "start_time": "2023-09-14T11:17:41.163Z"
   },
   {
    "duration": 10,
    "start_time": "2023-09-14T11:17:41.177Z"
   },
   {
    "duration": 10,
    "start_time": "2023-09-14T11:17:41.189Z"
   },
   {
    "duration": 7,
    "start_time": "2023-09-14T11:17:41.200Z"
   },
   {
    "duration": 9,
    "start_time": "2023-09-14T11:17:41.209Z"
   },
   {
    "duration": 18,
    "start_time": "2023-09-14T11:17:41.219Z"
   },
   {
    "duration": 30,
    "start_time": "2023-09-14T11:17:41.239Z"
   },
   {
    "duration": 11,
    "start_time": "2023-09-14T11:17:41.271Z"
   },
   {
    "duration": 20,
    "start_time": "2023-09-14T11:17:41.283Z"
   },
   {
    "duration": 9,
    "start_time": "2023-09-14T11:17:41.304Z"
   },
   {
    "duration": 8,
    "start_time": "2023-09-14T11:17:41.315Z"
   },
   {
    "duration": 21,
    "start_time": "2023-09-14T11:17:41.324Z"
   },
   {
    "duration": 243,
    "start_time": "2023-09-14T11:17:41.346Z"
   },
   {
    "duration": 19,
    "start_time": "2023-09-14T11:17:41.590Z"
   },
   {
    "duration": 7,
    "start_time": "2023-09-14T11:17:41.610Z"
   },
   {
    "duration": 239,
    "start_time": "2023-09-14T11:17:41.618Z"
   },
   {
    "duration": 19,
    "start_time": "2023-09-14T11:17:41.859Z"
   },
   {
    "duration": 8,
    "start_time": "2023-09-14T11:17:41.880Z"
   },
   {
    "duration": 232,
    "start_time": "2023-09-14T11:17:41.891Z"
   },
   {
    "duration": 27,
    "start_time": "2023-09-14T11:17:42.124Z"
   },
   {
    "duration": 321,
    "start_time": "2023-09-14T11:17:42.153Z"
   },
   {
    "duration": 265,
    "start_time": "2023-09-14T11:17:42.476Z"
   },
   {
    "duration": 246,
    "start_time": "2023-09-14T11:17:42.744Z"
   },
   {
    "duration": 237,
    "start_time": "2023-09-14T11:17:42.991Z"
   },
   {
    "duration": 417,
    "start_time": "2023-09-14T11:17:43.230Z"
   },
   {
    "duration": 8,
    "start_time": "2023-09-14T11:17:43.648Z"
   },
   {
    "duration": 20,
    "start_time": "2023-09-14T11:17:43.658Z"
   },
   {
    "duration": 4,
    "start_time": "2023-09-14T11:17:43.679Z"
   },
   {
    "duration": 7,
    "start_time": "2023-09-14T11:17:43.685Z"
   },
   {
    "duration": 5,
    "start_time": "2023-09-14T11:17:43.694Z"
   },
   {
    "duration": 263,
    "start_time": "2023-09-14T11:17:43.701Z"
   },
   {
    "duration": 2,
    "start_time": "2023-09-14T11:17:43.966Z"
   },
   {
    "duration": 10,
    "start_time": "2023-09-14T11:17:43.970Z"
   },
   {
    "duration": 15,
    "start_time": "2023-09-14T11:17:43.981Z"
   },
   {
    "duration": 7,
    "start_time": "2023-09-14T11:17:43.998Z"
   },
   {
    "duration": 16,
    "start_time": "2023-09-14T11:17:44.007Z"
   },
   {
    "duration": 2425,
    "start_time": "2023-09-14T11:17:44.025Z"
   },
   {
    "duration": 4,
    "start_time": "2023-09-14T11:17:46.451Z"
   },
   {
    "duration": 7,
    "start_time": "2023-09-14T11:17:46.456Z"
   },
   {
    "duration": 8,
    "start_time": "2023-09-14T11:17:46.464Z"
   },
   {
    "duration": 6,
    "start_time": "2023-09-14T11:17:46.473Z"
   },
   {
    "duration": 6,
    "start_time": "2023-09-14T11:17:46.480Z"
   },
   {
    "duration": 8,
    "start_time": "2023-09-14T11:17:46.487Z"
   },
   {
    "duration": 6,
    "start_time": "2023-09-14T11:17:46.496Z"
   },
   {
    "duration": 6,
    "start_time": "2023-09-14T11:17:46.544Z"
   },
   {
    "duration": 9,
    "start_time": "2023-09-14T11:17:46.552Z"
   },
   {
    "duration": 10,
    "start_time": "2023-09-14T11:17:46.563Z"
   },
   {
    "duration": 247230,
    "start_time": "2023-09-14T11:17:46.574Z"
   },
   {
    "duration": 5,
    "start_time": "2023-09-14T11:21:53.806Z"
   },
   {
    "duration": 1131,
    "start_time": "2023-09-14T11:21:53.813Z"
   },
   {
    "duration": 111,
    "start_time": "2023-09-14T11:21:54.945Z"
   },
   {
    "duration": 0,
    "start_time": "2023-09-14T11:21:55.057Z"
   },
   {
    "duration": 1,
    "start_time": "2023-09-14T11:21:55.058Z"
   },
   {
    "duration": 0,
    "start_time": "2023-09-14T11:21:55.060Z"
   },
   {
    "duration": 0,
    "start_time": "2023-09-14T11:21:55.061Z"
   },
   {
    "duration": 0,
    "start_time": "2023-09-14T11:21:55.062Z"
   },
   {
    "duration": 0,
    "start_time": "2023-09-14T11:21:55.063Z"
   },
   {
    "duration": 0,
    "start_time": "2023-09-14T11:21:55.064Z"
   },
   {
    "duration": 0,
    "start_time": "2023-09-14T11:21:55.065Z"
   },
   {
    "duration": 0,
    "start_time": "2023-09-14T11:21:55.066Z"
   },
   {
    "duration": 0,
    "start_time": "2023-09-14T11:21:55.067Z"
   },
   {
    "duration": 0,
    "start_time": "2023-09-14T11:21:55.068Z"
   },
   {
    "duration": 0,
    "start_time": "2023-09-14T11:21:55.069Z"
   },
   {
    "duration": 0,
    "start_time": "2023-09-14T11:21:55.070Z"
   },
   {
    "duration": 0,
    "start_time": "2023-09-14T11:21:55.071Z"
   },
   {
    "duration": 0,
    "start_time": "2023-09-14T11:21:55.072Z"
   },
   {
    "duration": 0,
    "start_time": "2023-09-14T11:21:55.073Z"
   },
   {
    "duration": 0,
    "start_time": "2023-09-14T11:21:55.074Z"
   },
   {
    "duration": 0,
    "start_time": "2023-09-14T11:21:55.075Z"
   },
   {
    "duration": 0,
    "start_time": "2023-09-14T11:21:55.076Z"
   },
   {
    "duration": 0,
    "start_time": "2023-09-14T11:21:55.077Z"
   },
   {
    "duration": 0,
    "start_time": "2023-09-14T11:21:55.078Z"
   },
   {
    "duration": 0,
    "start_time": "2023-09-14T11:21:55.079Z"
   },
   {
    "duration": 5,
    "start_time": "2023-09-14T11:23:26.554Z"
   },
   {
    "duration": 4,
    "start_time": "2023-09-14T11:23:40.900Z"
   },
   {
    "duration": 993,
    "start_time": "2023-09-14T11:24:29.357Z"
   },
   {
    "duration": 3,
    "start_time": "2023-09-14T11:30:53.447Z"
   },
   {
    "duration": 3,
    "start_time": "2023-09-14T11:30:54.339Z"
   },
   {
    "duration": 1401,
    "start_time": "2023-09-14T11:37:35.955Z"
   },
   {
    "duration": 820,
    "start_time": "2023-09-14T11:37:37.358Z"
   },
   {
    "duration": 16,
    "start_time": "2023-09-14T11:37:38.179Z"
   },
   {
    "duration": 15,
    "start_time": "2023-09-14T11:37:38.196Z"
   },
   {
    "duration": 30,
    "start_time": "2023-09-14T11:37:38.213Z"
   },
   {
    "duration": 11,
    "start_time": "2023-09-14T11:37:38.245Z"
   },
   {
    "duration": 2,
    "start_time": "2023-09-14T11:37:38.257Z"
   },
   {
    "duration": 16,
    "start_time": "2023-09-14T11:37:38.260Z"
   },
   {
    "duration": 14,
    "start_time": "2023-09-14T11:37:38.277Z"
   },
   {
    "duration": 9,
    "start_time": "2023-09-14T11:37:38.293Z"
   },
   {
    "duration": 11,
    "start_time": "2023-09-14T11:37:38.304Z"
   },
   {
    "duration": 14,
    "start_time": "2023-09-14T11:37:38.316Z"
   },
   {
    "duration": 7,
    "start_time": "2023-09-14T11:37:38.332Z"
   },
   {
    "duration": 19,
    "start_time": "2023-09-14T11:37:38.342Z"
   },
   {
    "duration": 9,
    "start_time": "2023-09-14T11:37:38.362Z"
   },
   {
    "duration": 13,
    "start_time": "2023-09-14T11:37:38.372Z"
   },
   {
    "duration": 10,
    "start_time": "2023-09-14T11:37:38.387Z"
   },
   {
    "duration": 19,
    "start_time": "2023-09-14T11:37:38.399Z"
   },
   {
    "duration": 23,
    "start_time": "2023-09-14T11:37:38.420Z"
   },
   {
    "duration": 8,
    "start_time": "2023-09-14T11:37:38.445Z"
   },
   {
    "duration": 16,
    "start_time": "2023-09-14T11:37:38.454Z"
   },
   {
    "duration": 245,
    "start_time": "2023-09-14T11:37:38.471Z"
   },
   {
    "duration": 28,
    "start_time": "2023-09-14T11:37:38.718Z"
   },
   {
    "duration": 7,
    "start_time": "2023-09-14T11:37:38.747Z"
   },
   {
    "duration": 216,
    "start_time": "2023-09-14T11:37:38.755Z"
   },
   {
    "duration": 17,
    "start_time": "2023-09-14T11:37:38.972Z"
   },
   {
    "duration": 7,
    "start_time": "2023-09-14T11:37:38.991Z"
   },
   {
    "duration": 236,
    "start_time": "2023-09-14T11:37:38.999Z"
   },
   {
    "duration": 23,
    "start_time": "2023-09-14T11:37:39.236Z"
   },
   {
    "duration": 315,
    "start_time": "2023-09-14T11:37:39.261Z"
   },
   {
    "duration": 245,
    "start_time": "2023-09-14T11:37:39.578Z"
   },
   {
    "duration": 233,
    "start_time": "2023-09-14T11:37:39.824Z"
   },
   {
    "duration": 242,
    "start_time": "2023-09-14T11:37:40.059Z"
   },
   {
    "duration": 409,
    "start_time": "2023-09-14T11:37:40.303Z"
   },
   {
    "duration": 8,
    "start_time": "2023-09-14T11:37:40.713Z"
   },
   {
    "duration": 21,
    "start_time": "2023-09-14T11:37:40.723Z"
   },
   {
    "duration": 4,
    "start_time": "2023-09-14T11:37:40.746Z"
   },
   {
    "duration": 8,
    "start_time": "2023-09-14T11:37:40.751Z"
   },
   {
    "duration": 5,
    "start_time": "2023-09-14T11:37:40.761Z"
   },
   {
    "duration": 220,
    "start_time": "2023-09-14T11:37:40.767Z"
   },
   {
    "duration": 3,
    "start_time": "2023-09-14T11:37:40.992Z"
   },
   {
    "duration": 8,
    "start_time": "2023-09-14T11:37:40.997Z"
   },
   {
    "duration": 13,
    "start_time": "2023-09-14T11:37:41.006Z"
   },
   {
    "duration": 24,
    "start_time": "2023-09-14T11:37:41.021Z"
   },
   {
    "duration": 5,
    "start_time": "2023-09-14T11:37:41.048Z"
   },
   {
    "duration": 2790,
    "start_time": "2023-09-14T11:37:41.054Z"
   },
   {
    "duration": 4,
    "start_time": "2023-09-14T11:37:43.846Z"
   },
   {
    "duration": 21,
    "start_time": "2023-09-14T11:37:43.851Z"
   },
   {
    "duration": 7,
    "start_time": "2023-09-14T11:37:43.874Z"
   },
   {
    "duration": 6,
    "start_time": "2023-09-14T11:37:43.882Z"
   },
   {
    "duration": 11,
    "start_time": "2023-09-14T11:37:43.889Z"
   },
   {
    "duration": 5,
    "start_time": "2023-09-14T11:37:43.901Z"
   },
   {
    "duration": 5,
    "start_time": "2023-09-14T11:37:43.907Z"
   },
   {
    "duration": 8,
    "start_time": "2023-09-14T11:37:43.913Z"
   },
   {
    "duration": 18,
    "start_time": "2023-09-14T11:37:43.922Z"
   },
   {
    "duration": 13,
    "start_time": "2023-09-14T11:37:43.942Z"
   },
   {
    "duration": 1496,
    "start_time": "2023-09-14T11:48:05.261Z"
   },
   {
    "duration": 872,
    "start_time": "2023-09-14T11:48:06.759Z"
   },
   {
    "duration": 19,
    "start_time": "2023-09-14T11:48:07.634Z"
   },
   {
    "duration": 22,
    "start_time": "2023-09-14T11:48:07.656Z"
   },
   {
    "duration": 16,
    "start_time": "2023-09-14T11:48:07.680Z"
   },
   {
    "duration": 15,
    "start_time": "2023-09-14T11:48:07.697Z"
   },
   {
    "duration": 4,
    "start_time": "2023-09-14T11:48:07.713Z"
   },
   {
    "duration": 6,
    "start_time": "2023-09-14T11:48:07.718Z"
   },
   {
    "duration": 3,
    "start_time": "2023-09-14T11:48:07.743Z"
   },
   {
    "duration": 19,
    "start_time": "2023-09-14T11:48:07.749Z"
   },
   {
    "duration": 9,
    "start_time": "2023-09-14T11:48:07.770Z"
   },
   {
    "duration": 22,
    "start_time": "2023-09-14T11:48:07.781Z"
   },
   {
    "duration": 14,
    "start_time": "2023-09-14T11:48:07.805Z"
   },
   {
    "duration": 7,
    "start_time": "2023-09-14T11:48:07.821Z"
   },
   {
    "duration": 14,
    "start_time": "2023-09-14T11:48:07.830Z"
   },
   {
    "duration": 35,
    "start_time": "2023-09-14T11:48:07.846Z"
   },
   {
    "duration": 16,
    "start_time": "2023-09-14T11:48:07.883Z"
   },
   {
    "duration": 42,
    "start_time": "2023-09-14T11:48:07.901Z"
   },
   {
    "duration": 10,
    "start_time": "2023-09-14T11:48:07.945Z"
   },
   {
    "duration": 13,
    "start_time": "2023-09-14T11:48:07.957Z"
   },
   {
    "duration": 10,
    "start_time": "2023-09-14T11:48:07.972Z"
   },
   {
    "duration": 305,
    "start_time": "2023-09-14T11:48:07.983Z"
   },
   {
    "duration": 20,
    "start_time": "2023-09-14T11:48:08.290Z"
   },
   {
    "duration": 17,
    "start_time": "2023-09-14T11:48:08.312Z"
   },
   {
    "duration": 255,
    "start_time": "2023-09-14T11:48:08.330Z"
   },
   {
    "duration": 18,
    "start_time": "2023-09-14T11:48:08.587Z"
   },
   {
    "duration": 7,
    "start_time": "2023-09-14T11:48:08.607Z"
   },
   {
    "duration": 250,
    "start_time": "2023-09-14T11:48:08.618Z"
   },
   {
    "duration": 18,
    "start_time": "2023-09-14T11:48:08.869Z"
   },
   {
    "duration": 357,
    "start_time": "2023-09-14T11:48:08.889Z"
   },
   {
    "duration": 269,
    "start_time": "2023-09-14T11:48:09.247Z"
   },
   {
    "duration": 250,
    "start_time": "2023-09-14T11:48:09.517Z"
   },
   {
    "duration": 246,
    "start_time": "2023-09-14T11:48:09.768Z"
   },
   {
    "duration": 452,
    "start_time": "2023-09-14T11:48:10.016Z"
   },
   {
    "duration": 7,
    "start_time": "2023-09-14T11:48:10.470Z"
   },
   {
    "duration": 32,
    "start_time": "2023-09-14T11:48:10.479Z"
   },
   {
    "duration": 10,
    "start_time": "2023-09-14T11:48:10.512Z"
   },
   {
    "duration": 26,
    "start_time": "2023-09-14T11:48:10.523Z"
   },
   {
    "duration": 24,
    "start_time": "2023-09-14T11:48:10.551Z"
   },
   {
    "duration": 268,
    "start_time": "2023-09-14T11:48:10.577Z"
   },
   {
    "duration": 3,
    "start_time": "2023-09-14T11:48:10.846Z"
   },
   {
    "duration": 26,
    "start_time": "2023-09-14T11:48:10.851Z"
   },
   {
    "duration": 33,
    "start_time": "2023-09-14T11:48:10.879Z"
   },
   {
    "duration": 18,
    "start_time": "2023-09-14T11:48:10.914Z"
   },
   {
    "duration": 28,
    "start_time": "2023-09-14T11:48:10.934Z"
   },
   {
    "duration": 2090,
    "start_time": "2023-09-14T11:48:10.964Z"
   },
   {
    "duration": 4,
    "start_time": "2023-09-14T11:48:13.144Z"
   },
   {
    "duration": 18,
    "start_time": "2023-09-14T11:48:13.149Z"
   },
   {
    "duration": 7,
    "start_time": "2023-09-14T11:48:13.169Z"
   },
   {
    "duration": 7,
    "start_time": "2023-09-14T11:48:13.178Z"
   },
   {
    "duration": 8,
    "start_time": "2023-09-14T11:48:13.186Z"
   },
   {
    "duration": 24,
    "start_time": "2023-09-14T11:48:13.195Z"
   },
   {
    "duration": 8,
    "start_time": "2023-09-14T11:48:13.221Z"
   },
   {
    "duration": 10,
    "start_time": "2023-09-14T11:48:13.230Z"
   },
   {
    "duration": 18,
    "start_time": "2023-09-14T11:48:13.242Z"
   },
   {
    "duration": 20,
    "start_time": "2023-09-14T11:48:13.262Z"
   },
   {
    "duration": 252481,
    "start_time": "2023-09-14T11:48:13.284Z"
   },
   {
    "duration": 6,
    "start_time": "2023-09-14T11:52:25.766Z"
   },
   {
    "duration": 1275,
    "start_time": "2023-09-14T11:52:25.773Z"
   },
   {
    "duration": 93,
    "start_time": "2023-09-14T11:52:27.051Z"
   },
   {
    "duration": 16,
    "start_time": "2023-09-14T11:52:27.147Z"
   },
   {
    "duration": 93,
    "start_time": "2023-09-14T11:52:27.164Z"
   },
   {
    "duration": 13,
    "start_time": "2023-09-14T11:52:27.259Z"
   },
   {
    "duration": 15,
    "start_time": "2023-09-14T11:52:27.274Z"
   },
   {
    "duration": 49,
    "start_time": "2023-09-14T11:52:27.291Z"
   },
   {
    "duration": 118,
    "start_time": "2023-09-14T11:52:27.342Z"
   },
   {
    "duration": 0,
    "start_time": "2023-09-14T11:52:27.462Z"
   },
   {
    "duration": 0,
    "start_time": "2023-09-14T11:52:27.463Z"
   },
   {
    "duration": 0,
    "start_time": "2023-09-14T11:52:27.464Z"
   },
   {
    "duration": 0,
    "start_time": "2023-09-14T11:52:27.465Z"
   },
   {
    "duration": 0,
    "start_time": "2023-09-14T11:52:27.466Z"
   },
   {
    "duration": 0,
    "start_time": "2023-09-14T11:52:27.467Z"
   },
   {
    "duration": 0,
    "start_time": "2023-09-14T11:52:27.468Z"
   },
   {
    "duration": 0,
    "start_time": "2023-09-14T11:52:27.469Z"
   },
   {
    "duration": 1,
    "start_time": "2023-09-14T11:52:27.469Z"
   },
   {
    "duration": 0,
    "start_time": "2023-09-14T11:52:27.470Z"
   },
   {
    "duration": 0,
    "start_time": "2023-09-14T11:52:27.471Z"
   },
   {
    "duration": 0,
    "start_time": "2023-09-14T11:52:27.472Z"
   },
   {
    "duration": 0,
    "start_time": "2023-09-14T11:52:27.473Z"
   },
   {
    "duration": 0,
    "start_time": "2023-09-14T11:52:27.474Z"
   },
   {
    "duration": 0,
    "start_time": "2023-09-14T11:52:27.475Z"
   },
   {
    "duration": 4,
    "start_time": "2023-09-14T12:04:23.769Z"
   },
   {
    "duration": 4,
    "start_time": "2023-09-14T12:04:29.068Z"
   },
   {
    "duration": 278351,
    "start_time": "2023-09-14T12:04:29.927Z"
   },
   {
    "duration": 5,
    "start_time": "2023-09-14T12:09:08.280Z"
   },
   {
    "duration": 956,
    "start_time": "2023-09-14T12:09:08.287Z"
   },
   {
    "duration": 4,
    "start_time": "2023-09-14T12:09:10.414Z"
   },
   {
    "duration": 3,
    "start_time": "2023-09-14T12:09:11.436Z"
   },
   {
    "duration": 294904,
    "start_time": "2023-09-14T12:09:12.553Z"
   },
   {
    "duration": 4,
    "start_time": "2023-09-14T12:14:07.459Z"
   },
   {
    "duration": 987,
    "start_time": "2023-09-14T12:14:07.464Z"
   },
   {
    "duration": 102,
    "start_time": "2023-09-14T12:14:47.755Z"
   },
   {
    "duration": 4,
    "start_time": "2023-09-14T12:15:25.369Z"
   },
   {
    "duration": 4,
    "start_time": "2023-09-14T12:16:21.304Z"
   },
   {
    "duration": 4,
    "start_time": "2023-09-14T12:17:41.275Z"
   },
   {
    "duration": 4,
    "start_time": "2023-09-14T12:18:35.365Z"
   },
   {
    "duration": 4,
    "start_time": "2023-09-14T12:18:37.517Z"
   },
   {
    "duration": 4,
    "start_time": "2023-09-14T12:18:41.726Z"
   },
   {
    "duration": 4,
    "start_time": "2023-09-14T12:19:23.617Z"
   },
   {
    "duration": 4,
    "start_time": "2023-09-14T12:19:58.800Z"
   },
   {
    "duration": 4,
    "start_time": "2023-09-14T12:22:10.450Z"
   },
   {
    "duration": 3,
    "start_time": "2023-09-14T12:22:12.589Z"
   },
   {
    "duration": 5,
    "start_time": "2023-09-14T12:22:13.995Z"
   },
   {
    "duration": 306022,
    "start_time": "2023-09-14T12:22:15.876Z"
   },
   {
    "duration": 5,
    "start_time": "2023-09-14T12:27:21.900Z"
   },
   {
    "duration": 4,
    "start_time": "2023-09-14T12:28:00.255Z"
   },
   {
    "duration": 61490,
    "start_time": "2023-09-14T12:29:58.161Z"
   },
   {
    "duration": 59683,
    "start_time": "2023-09-14T12:34:55.372Z"
   },
   {
    "duration": 1810,
    "start_time": "2023-09-14T12:42:11.098Z"
   },
   {
    "duration": 998,
    "start_time": "2023-09-14T12:42:12.910Z"
   },
   {
    "duration": 18,
    "start_time": "2023-09-14T12:42:13.909Z"
   },
   {
    "duration": 22,
    "start_time": "2023-09-14T12:42:13.928Z"
   },
   {
    "duration": 16,
    "start_time": "2023-09-14T12:42:13.951Z"
   },
   {
    "duration": 16,
    "start_time": "2023-09-14T12:42:13.969Z"
   },
   {
    "duration": 2,
    "start_time": "2023-09-14T12:42:13.986Z"
   },
   {
    "duration": 28,
    "start_time": "2023-09-14T12:42:13.990Z"
   },
   {
    "duration": 18,
    "start_time": "2023-09-14T12:42:14.020Z"
   },
   {
    "duration": 25,
    "start_time": "2023-09-14T12:42:14.040Z"
   },
   {
    "duration": 23,
    "start_time": "2023-09-14T12:42:14.067Z"
   },
   {
    "duration": 28,
    "start_time": "2023-09-14T12:42:14.091Z"
   },
   {
    "duration": 5,
    "start_time": "2023-09-14T12:42:14.121Z"
   },
   {
    "duration": 36,
    "start_time": "2023-09-14T12:42:14.127Z"
   },
   {
    "duration": 19,
    "start_time": "2023-09-14T12:42:14.164Z"
   },
   {
    "duration": 16,
    "start_time": "2023-09-14T12:42:14.185Z"
   },
   {
    "duration": 16,
    "start_time": "2023-09-14T12:42:14.203Z"
   },
   {
    "duration": 27,
    "start_time": "2023-09-14T12:42:14.221Z"
   },
   {
    "duration": 17,
    "start_time": "2023-09-14T12:42:14.249Z"
   },
   {
    "duration": 17,
    "start_time": "2023-09-14T12:42:14.267Z"
   },
   {
    "duration": 17,
    "start_time": "2023-09-14T12:42:14.286Z"
   },
   {
    "duration": 432,
    "start_time": "2023-09-14T12:42:14.304Z"
   },
   {
    "duration": 19,
    "start_time": "2023-09-14T12:42:14.743Z"
   },
   {
    "duration": 31,
    "start_time": "2023-09-14T12:42:14.763Z"
   },
   {
    "duration": 250,
    "start_time": "2023-09-14T12:42:14.796Z"
   },
   {
    "duration": 24,
    "start_time": "2023-09-14T12:42:15.048Z"
   },
   {
    "duration": 39,
    "start_time": "2023-09-14T12:42:15.074Z"
   },
   {
    "duration": 281,
    "start_time": "2023-09-14T12:42:15.116Z"
   },
   {
    "duration": 18,
    "start_time": "2023-09-14T12:42:15.399Z"
   },
   {
    "duration": 370,
    "start_time": "2023-09-14T12:42:15.418Z"
   },
   {
    "duration": 255,
    "start_time": "2023-09-14T12:42:15.790Z"
   },
   {
    "duration": 277,
    "start_time": "2023-09-14T12:42:16.046Z"
   },
   {
    "duration": 266,
    "start_time": "2023-09-14T12:42:16.324Z"
   },
   {
    "duration": 446,
    "start_time": "2023-09-14T12:42:16.591Z"
   },
   {
    "duration": 11,
    "start_time": "2023-09-14T12:42:17.038Z"
   },
   {
    "duration": 20,
    "start_time": "2023-09-14T12:42:17.051Z"
   },
   {
    "duration": 12,
    "start_time": "2023-09-14T12:42:17.073Z"
   },
   {
    "duration": 46,
    "start_time": "2023-09-14T12:42:17.087Z"
   },
   {
    "duration": 32,
    "start_time": "2023-09-14T12:42:17.135Z"
   },
   {
    "duration": 260,
    "start_time": "2023-09-14T12:42:17.168Z"
   },
   {
    "duration": 3,
    "start_time": "2023-09-14T12:42:17.430Z"
   },
   {
    "duration": 11,
    "start_time": "2023-09-14T12:42:17.443Z"
   },
   {
    "duration": 19,
    "start_time": "2023-09-14T12:42:17.456Z"
   },
   {
    "duration": 18,
    "start_time": "2023-09-14T12:42:17.477Z"
   },
   {
    "duration": 10,
    "start_time": "2023-09-14T12:42:17.497Z"
   },
   {
    "duration": 2641,
    "start_time": "2023-09-14T12:42:17.509Z"
   },
   {
    "duration": 91,
    "start_time": "2023-09-14T12:42:20.153Z"
   },
   {
    "duration": 27,
    "start_time": "2023-09-14T12:42:20.246Z"
   },
   {
    "duration": 18,
    "start_time": "2023-09-14T12:42:20.276Z"
   },
   {
    "duration": 26,
    "start_time": "2023-09-14T12:42:20.295Z"
   },
   {
    "duration": 18,
    "start_time": "2023-09-14T12:42:20.323Z"
   },
   {
    "duration": 17,
    "start_time": "2023-09-14T12:42:20.343Z"
   },
   {
    "duration": 7,
    "start_time": "2023-09-14T12:42:20.362Z"
   },
   {
    "duration": 19,
    "start_time": "2023-09-14T12:42:20.370Z"
   },
   {
    "duration": 11,
    "start_time": "2023-09-14T12:42:20.391Z"
   },
   {
    "duration": 14,
    "start_time": "2023-09-14T12:42:20.405Z"
   },
   {
    "duration": 1542,
    "start_time": "2023-09-14T12:53:07.384Z"
   },
   {
    "duration": 845,
    "start_time": "2023-09-14T12:53:08.928Z"
   },
   {
    "duration": 16,
    "start_time": "2023-09-14T12:53:09.775Z"
   },
   {
    "duration": 12,
    "start_time": "2023-09-14T12:53:09.794Z"
   },
   {
    "duration": 39,
    "start_time": "2023-09-14T12:53:09.808Z"
   },
   {
    "duration": 12,
    "start_time": "2023-09-14T12:53:09.849Z"
   },
   {
    "duration": 3,
    "start_time": "2023-09-14T12:53:09.863Z"
   },
   {
    "duration": 26,
    "start_time": "2023-09-14T12:53:09.867Z"
   },
   {
    "duration": 17,
    "start_time": "2023-09-14T12:53:09.894Z"
   },
   {
    "duration": 29,
    "start_time": "2023-09-14T12:53:09.914Z"
   },
   {
    "duration": 18,
    "start_time": "2023-09-14T12:53:09.944Z"
   },
   {
    "duration": 12,
    "start_time": "2023-09-14T12:53:09.963Z"
   },
   {
    "duration": 7,
    "start_time": "2023-09-14T12:53:09.977Z"
   },
   {
    "duration": 12,
    "start_time": "2023-09-14T12:53:09.986Z"
   },
   {
    "duration": 17,
    "start_time": "2023-09-14T12:53:09.999Z"
   },
   {
    "duration": 27,
    "start_time": "2023-09-14T12:53:10.018Z"
   },
   {
    "duration": 13,
    "start_time": "2023-09-14T12:53:10.047Z"
   },
   {
    "duration": 26,
    "start_time": "2023-09-14T12:53:10.061Z"
   },
   {
    "duration": 11,
    "start_time": "2023-09-14T12:53:10.089Z"
   },
   {
    "duration": 21,
    "start_time": "2023-09-14T12:53:10.102Z"
   },
   {
    "duration": 22,
    "start_time": "2023-09-14T12:53:10.125Z"
   },
   {
    "duration": 261,
    "start_time": "2023-09-14T12:53:10.149Z"
   },
   {
    "duration": 20,
    "start_time": "2023-09-14T12:53:10.412Z"
   },
   {
    "duration": 8,
    "start_time": "2023-09-14T12:53:10.444Z"
   },
   {
    "duration": 232,
    "start_time": "2023-09-14T12:53:10.454Z"
   },
   {
    "duration": 19,
    "start_time": "2023-09-14T12:53:10.688Z"
   },
   {
    "duration": 7,
    "start_time": "2023-09-14T12:53:10.709Z"
   },
   {
    "duration": 233,
    "start_time": "2023-09-14T12:53:10.720Z"
   },
   {
    "duration": 18,
    "start_time": "2023-09-14T12:53:10.954Z"
   },
   {
    "duration": 358,
    "start_time": "2023-09-14T12:53:10.973Z"
   },
   {
    "duration": 246,
    "start_time": "2023-09-14T12:53:11.332Z"
   },
   {
    "duration": 244,
    "start_time": "2023-09-14T12:53:11.580Z"
   },
   {
    "duration": 249,
    "start_time": "2023-09-14T12:53:11.825Z"
   },
   {
    "duration": 434,
    "start_time": "2023-09-14T12:53:12.076Z"
   },
   {
    "duration": 9,
    "start_time": "2023-09-14T12:53:12.511Z"
   },
   {
    "duration": 10,
    "start_time": "2023-09-14T12:53:12.521Z"
   },
   {
    "duration": 5,
    "start_time": "2023-09-14T12:53:12.544Z"
   },
   {
    "duration": 23,
    "start_time": "2023-09-14T12:53:12.551Z"
   },
   {
    "duration": 18,
    "start_time": "2023-09-14T12:53:12.576Z"
   },
   {
    "duration": 238,
    "start_time": "2023-09-14T12:53:12.595Z"
   },
   {
    "duration": 9,
    "start_time": "2023-09-14T12:53:12.835Z"
   },
   {
    "duration": 22,
    "start_time": "2023-09-14T12:53:12.846Z"
   },
   {
    "duration": 21,
    "start_time": "2023-09-14T12:53:12.870Z"
   },
   {
    "duration": 19,
    "start_time": "2023-09-14T12:53:12.893Z"
   },
   {
    "duration": 18,
    "start_time": "2023-09-14T12:53:12.914Z"
   },
   {
    "duration": 2614,
    "start_time": "2023-09-14T12:53:12.933Z"
   },
   {
    "duration": 4,
    "start_time": "2023-09-14T12:53:15.549Z"
   },
   {
    "duration": 18,
    "start_time": "2023-09-14T12:53:15.555Z"
   },
   {
    "duration": 20,
    "start_time": "2023-09-14T12:53:15.575Z"
   },
   {
    "duration": 4,
    "start_time": "2023-09-14T12:53:15.597Z"
   },
   {
    "duration": 19,
    "start_time": "2023-09-14T12:53:15.602Z"
   },
   {
    "duration": 34,
    "start_time": "2023-09-14T12:53:15.623Z"
   },
   {
    "duration": 20,
    "start_time": "2023-09-14T12:53:15.659Z"
   },
   {
    "duration": 38,
    "start_time": "2023-09-14T12:53:15.680Z"
   },
   {
    "duration": 29,
    "start_time": "2023-09-14T12:53:15.720Z"
   },
   {
    "duration": 6,
    "start_time": "2023-09-14T12:53:15.751Z"
   },
   {
    "duration": 1503,
    "start_time": "2023-09-14T13:14:50.311Z"
   },
   {
    "duration": 843,
    "start_time": "2023-09-14T13:14:51.816Z"
   },
   {
    "duration": 16,
    "start_time": "2023-09-14T13:14:52.660Z"
   },
   {
    "duration": 32,
    "start_time": "2023-09-14T13:14:52.678Z"
   },
   {
    "duration": 47,
    "start_time": "2023-09-14T13:14:52.712Z"
   },
   {
    "duration": 22,
    "start_time": "2023-09-14T13:14:52.760Z"
   },
   {
    "duration": 36,
    "start_time": "2023-09-14T13:14:52.783Z"
   },
   {
    "duration": 29,
    "start_time": "2023-09-14T13:14:52.821Z"
   },
   {
    "duration": 19,
    "start_time": "2023-09-14T13:14:52.851Z"
   },
   {
    "duration": 26,
    "start_time": "2023-09-14T13:14:52.873Z"
   },
   {
    "duration": 28,
    "start_time": "2023-09-14T13:14:52.900Z"
   },
   {
    "duration": 23,
    "start_time": "2023-09-14T13:14:52.930Z"
   },
   {
    "duration": 20,
    "start_time": "2023-09-14T13:14:52.954Z"
   },
   {
    "duration": 39,
    "start_time": "2023-09-14T13:14:52.975Z"
   },
   {
    "duration": 33,
    "start_time": "2023-09-14T13:14:53.015Z"
   },
   {
    "duration": 40,
    "start_time": "2023-09-14T13:14:53.050Z"
   },
   {
    "duration": 43,
    "start_time": "2023-09-14T13:14:53.092Z"
   },
   {
    "duration": 42,
    "start_time": "2023-09-14T13:14:53.136Z"
   },
   {
    "duration": 27,
    "start_time": "2023-09-14T13:14:53.180Z"
   },
   {
    "duration": 29,
    "start_time": "2023-09-14T13:14:53.208Z"
   },
   {
    "duration": 17,
    "start_time": "2023-09-14T13:14:53.239Z"
   },
   {
    "duration": 306,
    "start_time": "2023-09-14T13:14:53.258Z"
   },
   {
    "duration": 19,
    "start_time": "2023-09-14T13:14:53.566Z"
   },
   {
    "duration": 29,
    "start_time": "2023-09-14T13:14:53.587Z"
   },
   {
    "duration": 266,
    "start_time": "2023-09-14T13:14:53.618Z"
   },
   {
    "duration": 18,
    "start_time": "2023-09-14T13:14:53.887Z"
   },
   {
    "duration": 33,
    "start_time": "2023-09-14T13:14:53.907Z"
   },
   {
    "duration": 221,
    "start_time": "2023-09-14T13:14:53.944Z"
   },
   {
    "duration": 16,
    "start_time": "2023-09-14T13:14:54.166Z"
   },
   {
    "duration": 370,
    "start_time": "2023-09-14T13:14:54.184Z"
   },
   {
    "duration": 258,
    "start_time": "2023-09-14T13:14:54.555Z"
   },
   {
    "duration": 224,
    "start_time": "2023-09-14T13:14:54.814Z"
   },
   {
    "duration": 248,
    "start_time": "2023-09-14T13:14:55.040Z"
   },
   {
    "duration": 397,
    "start_time": "2023-09-14T13:14:55.290Z"
   },
   {
    "duration": 8,
    "start_time": "2023-09-14T13:14:55.688Z"
   },
   {
    "duration": 29,
    "start_time": "2023-09-14T13:14:55.698Z"
   },
   {
    "duration": 7,
    "start_time": "2023-09-14T13:14:55.729Z"
   },
   {
    "duration": 17,
    "start_time": "2023-09-14T13:14:55.737Z"
   },
   {
    "duration": 18,
    "start_time": "2023-09-14T13:14:55.755Z"
   },
   {
    "duration": 242,
    "start_time": "2023-09-14T13:14:55.775Z"
   },
   {
    "duration": 3,
    "start_time": "2023-09-14T13:14:56.019Z"
   },
   {
    "duration": 29,
    "start_time": "2023-09-14T13:14:56.023Z"
   },
   {
    "duration": 29,
    "start_time": "2023-09-14T13:14:56.053Z"
   },
   {
    "duration": 8,
    "start_time": "2023-09-14T13:14:56.084Z"
   },
   {
    "duration": 17,
    "start_time": "2023-09-14T13:14:56.094Z"
   },
   {
    "duration": 2634,
    "start_time": "2023-09-14T13:14:56.113Z"
   },
   {
    "duration": 4,
    "start_time": "2023-09-14T13:14:58.748Z"
   },
   {
    "duration": 17,
    "start_time": "2023-09-14T13:14:58.753Z"
   },
   {
    "duration": 20,
    "start_time": "2023-09-14T13:14:58.772Z"
   },
   {
    "duration": 7,
    "start_time": "2023-09-14T13:14:58.793Z"
   },
   {
    "duration": 14,
    "start_time": "2023-09-14T13:14:58.801Z"
   },
   {
    "duration": 22,
    "start_time": "2023-09-14T13:14:58.816Z"
   },
   {
    "duration": 4,
    "start_time": "2023-09-14T13:14:58.843Z"
   },
   {
    "duration": 7,
    "start_time": "2023-09-14T13:14:58.848Z"
   },
   {
    "duration": 12,
    "start_time": "2023-09-14T13:14:58.856Z"
   },
   {
    "duration": 45,
    "start_time": "2023-09-14T13:14:58.869Z"
   },
   {
    "duration": 1427,
    "start_time": "2023-09-14T13:37:04.624Z"
   },
   {
    "duration": 842,
    "start_time": "2023-09-14T13:37:06.052Z"
   },
   {
    "duration": 14,
    "start_time": "2023-09-14T13:37:06.896Z"
   },
   {
    "duration": 15,
    "start_time": "2023-09-14T13:37:06.913Z"
   },
   {
    "duration": 30,
    "start_time": "2023-09-14T13:37:06.930Z"
   },
   {
    "duration": 11,
    "start_time": "2023-09-14T13:37:06.961Z"
   },
   {
    "duration": 15,
    "start_time": "2023-09-14T13:37:06.973Z"
   },
   {
    "duration": 25,
    "start_time": "2023-09-14T13:37:06.989Z"
   },
   {
    "duration": 25,
    "start_time": "2023-09-14T13:37:07.015Z"
   },
   {
    "duration": 17,
    "start_time": "2023-09-14T13:37:07.044Z"
   },
   {
    "duration": 15,
    "start_time": "2023-09-14T13:37:07.063Z"
   },
   {
    "duration": 38,
    "start_time": "2023-09-14T13:37:07.080Z"
   },
   {
    "duration": 17,
    "start_time": "2023-09-14T13:37:07.119Z"
   },
   {
    "duration": 14,
    "start_time": "2023-09-14T13:37:07.137Z"
   },
   {
    "duration": 24,
    "start_time": "2023-09-14T13:37:07.152Z"
   },
   {
    "duration": 17,
    "start_time": "2023-09-14T13:37:07.178Z"
   },
   {
    "duration": 10,
    "start_time": "2023-09-14T13:37:07.197Z"
   },
   {
    "duration": 23,
    "start_time": "2023-09-14T13:37:07.208Z"
   },
   {
    "duration": 9,
    "start_time": "2023-09-14T13:37:07.233Z"
   },
   {
    "duration": 9,
    "start_time": "2023-09-14T13:37:07.244Z"
   },
   {
    "duration": 9,
    "start_time": "2023-09-14T13:37:07.254Z"
   },
   {
    "duration": 245,
    "start_time": "2023-09-14T13:37:07.264Z"
   },
   {
    "duration": 20,
    "start_time": "2023-09-14T13:37:07.511Z"
   },
   {
    "duration": 9,
    "start_time": "2023-09-14T13:37:07.544Z"
   },
   {
    "duration": 222,
    "start_time": "2023-09-14T13:37:07.554Z"
   },
   {
    "duration": 19,
    "start_time": "2023-09-14T13:37:07.778Z"
   },
   {
    "duration": 9,
    "start_time": "2023-09-14T13:37:07.799Z"
   },
   {
    "duration": 233,
    "start_time": "2023-09-14T13:37:07.813Z"
   },
   {
    "duration": 18,
    "start_time": "2023-09-14T13:37:08.048Z"
   },
   {
    "duration": 334,
    "start_time": "2023-09-14T13:37:08.068Z"
   },
   {
    "duration": 242,
    "start_time": "2023-09-14T13:37:08.404Z"
   },
   {
    "duration": 233,
    "start_time": "2023-09-14T13:37:08.648Z"
   },
   {
    "duration": 251,
    "start_time": "2023-09-14T13:37:08.883Z"
   },
   {
    "duration": 418,
    "start_time": "2023-09-14T13:37:09.135Z"
   },
   {
    "duration": 11,
    "start_time": "2023-09-14T13:37:09.556Z"
   },
   {
    "duration": 13,
    "start_time": "2023-09-14T13:37:09.569Z"
   },
   {
    "duration": 7,
    "start_time": "2023-09-14T13:37:09.583Z"
   },
   {
    "duration": 6,
    "start_time": "2023-09-14T13:37:09.592Z"
   },
   {
    "duration": 11,
    "start_time": "2023-09-14T13:37:09.600Z"
   },
   {
    "duration": 229,
    "start_time": "2023-09-14T13:37:09.613Z"
   },
   {
    "duration": 3,
    "start_time": "2023-09-14T13:37:09.844Z"
   },
   {
    "duration": 25,
    "start_time": "2023-09-14T13:37:09.848Z"
   },
   {
    "duration": 32,
    "start_time": "2023-09-14T13:37:09.875Z"
   },
   {
    "duration": 24,
    "start_time": "2023-09-14T13:37:09.909Z"
   },
   {
    "duration": 34,
    "start_time": "2023-09-14T13:37:09.935Z"
   },
   {
    "duration": 2381,
    "start_time": "2023-09-14T13:37:09.970Z"
   },
   {
    "duration": 4,
    "start_time": "2023-09-14T13:37:12.352Z"
   },
   {
    "duration": 102,
    "start_time": "2023-09-14T13:37:12.357Z"
   },
   {
    "duration": 11,
    "start_time": "2023-09-14T13:37:12.461Z"
   },
   {
    "duration": 70,
    "start_time": "2023-09-14T13:37:12.474Z"
   },
   {
    "duration": 22,
    "start_time": "2023-09-14T13:37:12.546Z"
   },
   {
    "duration": 38,
    "start_time": "2023-09-14T13:37:12.569Z"
   },
   {
    "duration": 40,
    "start_time": "2023-09-14T13:37:12.608Z"
   },
   {
    "duration": 14,
    "start_time": "2023-09-14T13:37:12.650Z"
   },
   {
    "duration": 24,
    "start_time": "2023-09-14T13:37:12.665Z"
   },
   {
    "duration": 23,
    "start_time": "2023-09-14T13:37:12.690Z"
   },
   {
    "duration": 1430,
    "start_time": "2023-09-14T13:56:02.032Z"
   },
   {
    "duration": 865,
    "start_time": "2023-09-14T13:56:03.464Z"
   },
   {
    "duration": 17,
    "start_time": "2023-09-14T13:56:04.331Z"
   },
   {
    "duration": 17,
    "start_time": "2023-09-14T13:56:04.349Z"
   },
   {
    "duration": 39,
    "start_time": "2023-09-14T13:56:04.368Z"
   },
   {
    "duration": 27,
    "start_time": "2023-09-14T13:56:04.409Z"
   },
   {
    "duration": 24,
    "start_time": "2023-09-14T13:56:04.438Z"
   },
   {
    "duration": 19,
    "start_time": "2023-09-14T13:56:04.464Z"
   },
   {
    "duration": 20,
    "start_time": "2023-09-14T13:56:04.485Z"
   },
   {
    "duration": 19,
    "start_time": "2023-09-14T13:56:04.509Z"
   },
   {
    "duration": 23,
    "start_time": "2023-09-14T13:56:04.530Z"
   },
   {
    "duration": 22,
    "start_time": "2023-09-14T13:56:04.556Z"
   },
   {
    "duration": 14,
    "start_time": "2023-09-14T13:56:04.581Z"
   },
   {
    "duration": 28,
    "start_time": "2023-09-14T13:56:04.597Z"
   },
   {
    "duration": 34,
    "start_time": "2023-09-14T13:56:04.627Z"
   },
   {
    "duration": 38,
    "start_time": "2023-09-14T13:56:04.663Z"
   },
   {
    "duration": 11,
    "start_time": "2023-09-14T13:56:04.702Z"
   },
   {
    "duration": 29,
    "start_time": "2023-09-14T13:56:04.714Z"
   },
   {
    "duration": 9,
    "start_time": "2023-09-14T13:56:04.745Z"
   },
   {
    "duration": 8,
    "start_time": "2023-09-14T13:56:04.755Z"
   },
   {
    "duration": 15,
    "start_time": "2023-09-14T13:56:04.765Z"
   },
   {
    "duration": 263,
    "start_time": "2023-09-14T13:56:04.781Z"
   },
   {
    "duration": 21,
    "start_time": "2023-09-14T13:56:05.046Z"
   },
   {
    "duration": 19,
    "start_time": "2023-09-14T13:56:05.069Z"
   },
   {
    "duration": 237,
    "start_time": "2023-09-14T13:56:05.090Z"
   },
   {
    "duration": 19,
    "start_time": "2023-09-14T13:56:05.329Z"
   },
   {
    "duration": 11,
    "start_time": "2023-09-14T13:56:05.350Z"
   },
   {
    "duration": 237,
    "start_time": "2023-09-14T13:56:05.364Z"
   },
   {
    "duration": 19,
    "start_time": "2023-09-14T13:56:05.602Z"
   },
   {
    "duration": 329,
    "start_time": "2023-09-14T13:56:05.623Z"
   },
   {
    "duration": 239,
    "start_time": "2023-09-14T13:56:05.954Z"
   },
   {
    "duration": 251,
    "start_time": "2023-09-14T13:56:06.194Z"
   },
   {
    "duration": 233,
    "start_time": "2023-09-14T13:56:06.446Z"
   },
   {
    "duration": 427,
    "start_time": "2023-09-14T13:56:06.680Z"
   },
   {
    "duration": 8,
    "start_time": "2023-09-14T13:56:07.108Z"
   },
   {
    "duration": 28,
    "start_time": "2023-09-14T13:56:07.117Z"
   },
   {
    "duration": 34,
    "start_time": "2023-09-14T13:56:07.146Z"
   },
   {
    "duration": 26,
    "start_time": "2023-09-14T13:56:07.181Z"
   },
   {
    "duration": 35,
    "start_time": "2023-09-14T13:56:07.209Z"
   },
   {
    "duration": 253,
    "start_time": "2023-09-14T13:56:07.246Z"
   },
   {
    "duration": 4,
    "start_time": "2023-09-14T13:56:07.500Z"
   },
   {
    "duration": 25,
    "start_time": "2023-09-14T13:56:07.505Z"
   },
   {
    "duration": 45,
    "start_time": "2023-09-14T13:56:07.532Z"
   },
   {
    "duration": 14,
    "start_time": "2023-09-14T13:56:07.579Z"
   },
   {
    "duration": 55,
    "start_time": "2023-09-14T13:56:07.595Z"
   },
   {
    "duration": 2395,
    "start_time": "2023-09-14T13:56:07.652Z"
   },
   {
    "duration": 5,
    "start_time": "2023-09-14T13:56:10.049Z"
   },
   {
    "duration": 88,
    "start_time": "2023-09-14T13:56:10.056Z"
   },
   {
    "duration": 20,
    "start_time": "2023-09-14T13:56:10.146Z"
   },
   {
    "duration": 22,
    "start_time": "2023-09-14T13:56:10.168Z"
   },
   {
    "duration": 11,
    "start_time": "2023-09-14T13:56:10.192Z"
   },
   {
    "duration": 10,
    "start_time": "2023-09-14T13:56:10.204Z"
   },
   {
    "duration": 24,
    "start_time": "2023-09-14T13:56:10.216Z"
   },
   {
    "duration": 13,
    "start_time": "2023-09-14T13:56:10.242Z"
   },
   {
    "duration": 17,
    "start_time": "2023-09-14T13:56:10.256Z"
   },
   {
    "duration": 24,
    "start_time": "2023-09-14T13:56:10.274Z"
   },
   {
    "duration": 1755842,
    "start_time": "2023-09-14T13:56:10.299Z"
   },
   {
    "duration": 114,
    "start_time": "2023-09-14T14:59:44.131Z"
   },
   {
    "duration": 0,
    "start_time": "2023-09-14T14:59:44.247Z"
   },
   {
    "duration": 0,
    "start_time": "2023-09-14T14:59:44.250Z"
   },
   {
    "duration": 0,
    "start_time": "2023-09-14T14:59:44.252Z"
   },
   {
    "duration": 0,
    "start_time": "2023-09-14T14:59:44.254Z"
   },
   {
    "duration": 0,
    "start_time": "2023-09-14T14:59:44.256Z"
   },
   {
    "duration": 0,
    "start_time": "2023-09-14T14:59:44.257Z"
   },
   {
    "duration": 0,
    "start_time": "2023-09-14T14:59:44.259Z"
   },
   {
    "duration": 0,
    "start_time": "2023-09-14T14:59:44.260Z"
   },
   {
    "duration": 0,
    "start_time": "2023-09-14T14:59:44.262Z"
   },
   {
    "duration": 0,
    "start_time": "2023-09-14T14:59:44.263Z"
   },
   {
    "duration": 0,
    "start_time": "2023-09-14T14:59:44.264Z"
   },
   {
    "duration": 0,
    "start_time": "2023-09-14T14:59:44.265Z"
   },
   {
    "duration": 0,
    "start_time": "2023-09-14T14:59:44.265Z"
   },
   {
    "duration": 2017,
    "start_time": "2023-09-14T15:41:41.800Z"
   },
   {
    "duration": 918,
    "start_time": "2023-09-14T15:41:43.819Z"
   },
   {
    "duration": 20,
    "start_time": "2023-09-14T15:41:44.740Z"
   },
   {
    "duration": 13,
    "start_time": "2023-09-14T15:41:44.763Z"
   },
   {
    "duration": 37,
    "start_time": "2023-09-14T15:41:44.777Z"
   },
   {
    "duration": 24,
    "start_time": "2023-09-14T15:41:44.815Z"
   },
   {
    "duration": 11,
    "start_time": "2023-09-14T15:41:44.843Z"
   },
   {
    "duration": 10,
    "start_time": "2023-09-14T15:41:44.856Z"
   },
   {
    "duration": 24,
    "start_time": "2023-09-14T15:41:44.868Z"
   },
   {
    "duration": 9,
    "start_time": "2023-09-14T15:41:44.896Z"
   },
   {
    "duration": 17,
    "start_time": "2023-09-14T15:41:44.907Z"
   },
   {
    "duration": 25,
    "start_time": "2023-09-14T15:41:44.926Z"
   },
   {
    "duration": 27,
    "start_time": "2023-09-14T15:41:44.953Z"
   },
   {
    "duration": 14,
    "start_time": "2023-09-14T15:41:44.982Z"
   },
   {
    "duration": 7,
    "start_time": "2023-09-14T15:41:44.997Z"
   },
   {
    "duration": 57,
    "start_time": "2023-09-14T15:41:45.005Z"
   },
   {
    "duration": 49,
    "start_time": "2023-09-14T15:41:45.063Z"
   },
   {
    "duration": 50,
    "start_time": "2023-09-14T15:41:45.114Z"
   },
   {
    "duration": 16,
    "start_time": "2023-09-14T15:41:45.165Z"
   },
   {
    "duration": 23,
    "start_time": "2023-09-14T15:41:45.183Z"
   },
   {
    "duration": 28,
    "start_time": "2023-09-14T15:41:45.207Z"
   },
   {
    "duration": 293,
    "start_time": "2023-09-14T15:41:45.238Z"
   },
   {
    "duration": 25,
    "start_time": "2023-09-14T15:41:45.533Z"
   },
   {
    "duration": 8,
    "start_time": "2023-09-14T15:41:45.560Z"
   },
   {
    "duration": 239,
    "start_time": "2023-09-14T15:41:45.570Z"
   },
   {
    "duration": 19,
    "start_time": "2023-09-14T15:41:45.811Z"
   },
   {
    "duration": 31,
    "start_time": "2023-09-14T15:41:45.832Z"
   },
   {
    "duration": 265,
    "start_time": "2023-09-14T15:41:45.867Z"
   },
   {
    "duration": 20,
    "start_time": "2023-09-14T15:41:46.134Z"
   },
   {
    "duration": 348,
    "start_time": "2023-09-14T15:41:46.155Z"
   },
   {
    "duration": 272,
    "start_time": "2023-09-14T15:41:46.505Z"
   },
   {
    "duration": 272,
    "start_time": "2023-09-14T15:41:46.779Z"
   },
   {
    "duration": 256,
    "start_time": "2023-09-14T15:41:47.053Z"
   },
   {
    "duration": 432,
    "start_time": "2023-09-14T15:41:47.311Z"
   },
   {
    "duration": 9,
    "start_time": "2023-09-14T15:41:47.746Z"
   },
   {
    "duration": 9,
    "start_time": "2023-09-14T15:41:47.757Z"
   },
   {
    "duration": 14,
    "start_time": "2023-09-14T15:41:47.768Z"
   },
   {
    "duration": 13,
    "start_time": "2023-09-14T15:41:47.783Z"
   },
   {
    "duration": 12,
    "start_time": "2023-09-14T15:41:47.798Z"
   },
   {
    "duration": 244,
    "start_time": "2023-09-14T15:41:47.812Z"
   },
   {
    "duration": 3,
    "start_time": "2023-09-14T15:41:48.058Z"
   },
   {
    "duration": 8,
    "start_time": "2023-09-14T15:41:48.063Z"
   },
   {
    "duration": 18,
    "start_time": "2023-09-14T15:41:48.073Z"
   },
   {
    "duration": 10,
    "start_time": "2023-09-14T15:41:48.093Z"
   },
   {
    "duration": 16,
    "start_time": "2023-09-14T15:41:48.105Z"
   },
   {
    "duration": 4128,
    "start_time": "2023-09-14T15:41:48.123Z"
   },
   {
    "duration": 89,
    "start_time": "2023-09-14T15:41:52.257Z"
   },
   {
    "duration": 210,
    "start_time": "2023-09-14T15:41:52.348Z"
   },
   {
    "duration": 909,
    "start_time": "2023-09-14T15:41:52.560Z"
   },
   {
    "duration": 154,
    "start_time": "2023-09-14T15:41:53.471Z"
   },
   {
    "duration": 157,
    "start_time": "2023-09-14T15:41:53.627Z"
   },
   {
    "duration": 150,
    "start_time": "2023-09-14T15:41:53.787Z"
   },
   {
    "duration": 244,
    "start_time": "2023-09-14T15:41:53.939Z"
   },
   {
    "duration": 1151,
    "start_time": "2023-09-14T15:41:54.185Z"
   },
   {
    "duration": 168,
    "start_time": "2023-09-14T15:41:55.338Z"
   },
   {
    "duration": 214,
    "start_time": "2023-09-14T15:41:55.508Z"
   },
   {
    "duration": 1535,
    "start_time": "2023-09-14T17:02:43.900Z"
   },
   {
    "duration": 862,
    "start_time": "2023-09-14T17:02:45.437Z"
   },
   {
    "duration": 18,
    "start_time": "2023-09-14T17:02:46.300Z"
   },
   {
    "duration": 27,
    "start_time": "2023-09-14T17:02:46.321Z"
   },
   {
    "duration": 36,
    "start_time": "2023-09-14T17:02:46.350Z"
   },
   {
    "duration": 29,
    "start_time": "2023-09-14T17:02:46.388Z"
   },
   {
    "duration": 5,
    "start_time": "2023-09-14T17:02:46.419Z"
   },
   {
    "duration": 33,
    "start_time": "2023-09-14T17:02:46.426Z"
   },
   {
    "duration": 26,
    "start_time": "2023-09-14T17:02:46.460Z"
   },
   {
    "duration": 25,
    "start_time": "2023-09-14T17:02:46.489Z"
   },
   {
    "duration": 34,
    "start_time": "2023-09-14T17:02:46.516Z"
   },
   {
    "duration": 33,
    "start_time": "2023-09-14T17:02:46.552Z"
   },
   {
    "duration": 33,
    "start_time": "2023-09-14T17:02:46.587Z"
   },
   {
    "duration": 15,
    "start_time": "2023-09-14T17:02:46.622Z"
   },
   {
    "duration": 27,
    "start_time": "2023-09-14T17:02:46.639Z"
   },
   {
    "duration": 26,
    "start_time": "2023-09-14T17:02:46.668Z"
   },
   {
    "duration": 33,
    "start_time": "2023-09-14T17:02:46.695Z"
   },
   {
    "duration": 43,
    "start_time": "2023-09-14T17:02:46.730Z"
   },
   {
    "duration": 15,
    "start_time": "2023-09-14T17:02:46.775Z"
   },
   {
    "duration": 20,
    "start_time": "2023-09-14T17:02:46.791Z"
   },
   {
    "duration": 28,
    "start_time": "2023-09-14T17:02:46.813Z"
   },
   {
    "duration": 293,
    "start_time": "2023-09-14T17:02:46.842Z"
   },
   {
    "duration": 23,
    "start_time": "2023-09-14T17:02:47.137Z"
   },
   {
    "duration": 15,
    "start_time": "2023-09-14T17:02:47.162Z"
   },
   {
    "duration": 230,
    "start_time": "2023-09-14T17:02:47.179Z"
   },
   {
    "duration": 20,
    "start_time": "2023-09-14T17:02:47.411Z"
   },
   {
    "duration": 31,
    "start_time": "2023-09-14T17:02:47.433Z"
   },
   {
    "duration": 241,
    "start_time": "2023-09-14T17:02:47.468Z"
   },
   {
    "duration": 18,
    "start_time": "2023-09-14T17:02:47.710Z"
   },
   {
    "duration": 330,
    "start_time": "2023-09-14T17:02:47.730Z"
   },
   {
    "duration": 255,
    "start_time": "2023-09-14T17:02:48.062Z"
   },
   {
    "duration": 240,
    "start_time": "2023-09-14T17:02:48.319Z"
   },
   {
    "duration": 243,
    "start_time": "2023-09-14T17:02:48.561Z"
   },
   {
    "duration": 437,
    "start_time": "2023-09-14T17:02:48.806Z"
   },
   {
    "duration": 10,
    "start_time": "2023-09-14T17:02:49.245Z"
   },
   {
    "duration": 21,
    "start_time": "2023-09-14T17:02:49.256Z"
   },
   {
    "duration": 38,
    "start_time": "2023-09-14T17:02:49.279Z"
   },
   {
    "duration": 36,
    "start_time": "2023-09-14T17:02:49.319Z"
   },
   {
    "duration": 33,
    "start_time": "2023-09-14T17:02:49.357Z"
   },
   {
    "duration": 262,
    "start_time": "2023-09-14T17:02:49.391Z"
   },
   {
    "duration": 3,
    "start_time": "2023-09-14T17:02:49.654Z"
   },
   {
    "duration": 19,
    "start_time": "2023-09-14T17:02:49.658Z"
   },
   {
    "duration": 31,
    "start_time": "2023-09-14T17:02:49.679Z"
   },
   {
    "duration": 17,
    "start_time": "2023-09-14T17:02:49.711Z"
   },
   {
    "duration": 33,
    "start_time": "2023-09-14T17:02:49.729Z"
   },
   {
    "duration": 3088,
    "start_time": "2023-09-14T17:02:49.764Z"
   },
   {
    "duration": 4,
    "start_time": "2023-09-14T17:02:52.855Z"
   },
   {
    "duration": 17,
    "start_time": "2023-09-14T17:02:52.944Z"
   },
   {
    "duration": 21,
    "start_time": "2023-09-14T17:02:52.963Z"
   },
   {
    "duration": 31,
    "start_time": "2023-09-14T17:02:52.986Z"
   },
   {
    "duration": 35,
    "start_time": "2023-09-14T17:02:53.019Z"
   },
   {
    "duration": 22,
    "start_time": "2023-09-14T17:02:53.056Z"
   },
   {
    "duration": 36,
    "start_time": "2023-09-14T17:02:53.080Z"
   },
   {
    "duration": 31,
    "start_time": "2023-09-14T17:02:53.118Z"
   },
   {
    "duration": 63,
    "start_time": "2023-09-14T17:02:53.151Z"
   },
   {
    "duration": 79,
    "start_time": "2023-09-14T17:02:53.217Z"
   },
   {
    "duration": 1416,
    "start_time": "2023-09-14T17:34:15.391Z"
   },
   {
    "duration": 857,
    "start_time": "2023-09-14T17:34:16.809Z"
   },
   {
    "duration": 19,
    "start_time": "2023-09-14T17:34:17.668Z"
   },
   {
    "duration": 11,
    "start_time": "2023-09-14T17:34:17.688Z"
   },
   {
    "duration": 15,
    "start_time": "2023-09-14T17:34:17.700Z"
   },
   {
    "duration": 35,
    "start_time": "2023-09-14T17:34:17.717Z"
   },
   {
    "duration": 2,
    "start_time": "2023-09-14T17:34:17.754Z"
   },
   {
    "duration": 6,
    "start_time": "2023-09-14T17:34:17.757Z"
   },
   {
    "duration": 11,
    "start_time": "2023-09-14T17:34:17.765Z"
   },
   {
    "duration": 18,
    "start_time": "2023-09-14T17:34:17.777Z"
   },
   {
    "duration": 15,
    "start_time": "2023-09-14T17:34:17.797Z"
   },
   {
    "duration": 28,
    "start_time": "2023-09-14T17:34:17.813Z"
   },
   {
    "duration": 18,
    "start_time": "2023-09-14T17:34:17.843Z"
   },
   {
    "duration": 27,
    "start_time": "2023-09-14T17:34:17.863Z"
   },
   {
    "duration": 30,
    "start_time": "2023-09-14T17:34:17.891Z"
   },
   {
    "duration": 25,
    "start_time": "2023-09-14T17:34:17.923Z"
   },
   {
    "duration": 43,
    "start_time": "2023-09-14T17:34:17.950Z"
   },
   {
    "duration": 47,
    "start_time": "2023-09-14T17:34:17.995Z"
   },
   {
    "duration": 9,
    "start_time": "2023-09-14T17:34:18.044Z"
   },
   {
    "duration": 9,
    "start_time": "2023-09-14T17:34:18.055Z"
   },
   {
    "duration": 17,
    "start_time": "2023-09-14T17:34:18.066Z"
   },
   {
    "duration": 255,
    "start_time": "2023-09-14T17:34:18.085Z"
   },
   {
    "duration": 20,
    "start_time": "2023-09-14T17:34:18.344Z"
   },
   {
    "duration": 9,
    "start_time": "2023-09-14T17:34:18.366Z"
   },
   {
    "duration": 235,
    "start_time": "2023-09-14T17:34:18.376Z"
   },
   {
    "duration": 20,
    "start_time": "2023-09-14T17:34:18.613Z"
   },
   {
    "duration": 7,
    "start_time": "2023-09-14T17:34:18.644Z"
   },
   {
    "duration": 229,
    "start_time": "2023-09-14T17:34:18.652Z"
   },
   {
    "duration": 18,
    "start_time": "2023-09-14T17:34:18.883Z"
   },
   {
    "duration": 322,
    "start_time": "2023-09-14T17:34:18.903Z"
   },
   {
    "duration": 262,
    "start_time": "2023-09-14T17:34:19.226Z"
   },
   {
    "duration": 245,
    "start_time": "2023-09-14T17:34:19.489Z"
   },
   {
    "duration": 241,
    "start_time": "2023-09-14T17:34:19.736Z"
   },
   {
    "duration": 415,
    "start_time": "2023-09-14T17:34:19.979Z"
   },
   {
    "duration": 8,
    "start_time": "2023-09-14T17:34:20.395Z"
   },
   {
    "duration": 21,
    "start_time": "2023-09-14T17:34:20.404Z"
   },
   {
    "duration": 10,
    "start_time": "2023-09-14T17:34:20.427Z"
   },
   {
    "duration": 18,
    "start_time": "2023-09-14T17:34:20.438Z"
   },
   {
    "duration": 20,
    "start_time": "2023-09-14T17:34:20.458Z"
   },
   {
    "duration": 244,
    "start_time": "2023-09-14T17:34:20.480Z"
   },
   {
    "duration": 4,
    "start_time": "2023-09-14T17:34:20.727Z"
   },
   {
    "duration": 31,
    "start_time": "2023-09-14T17:34:20.732Z"
   },
   {
    "duration": 53,
    "start_time": "2023-09-14T17:34:20.765Z"
   },
   {
    "duration": 12,
    "start_time": "2023-09-14T17:34:20.820Z"
   },
   {
    "duration": 8,
    "start_time": "2023-09-14T17:34:20.834Z"
   },
   {
    "duration": 2707,
    "start_time": "2023-09-14T17:34:20.843Z"
   },
   {
    "duration": 92,
    "start_time": "2023-09-14T17:34:23.552Z"
   },
   {
    "duration": 5,
    "start_time": "2023-09-14T17:34:23.646Z"
   },
   {
    "duration": 8,
    "start_time": "2023-09-14T17:34:23.653Z"
   },
   {
    "duration": 12,
    "start_time": "2023-09-14T17:34:23.663Z"
   },
   {
    "duration": 18,
    "start_time": "2023-09-14T17:34:23.677Z"
   },
   {
    "duration": 14,
    "start_time": "2023-09-14T17:34:23.696Z"
   },
   {
    "duration": 8,
    "start_time": "2023-09-14T17:34:23.712Z"
   },
   {
    "duration": 41,
    "start_time": "2023-09-14T17:34:23.721Z"
   },
   {
    "duration": 7,
    "start_time": "2023-09-14T17:34:23.763Z"
   },
   {
    "duration": 26,
    "start_time": "2023-09-14T17:34:23.772Z"
   },
   {
    "duration": 1378,
    "start_time": "2023-09-14T17:37:25.542Z"
   },
   {
    "duration": 843,
    "start_time": "2023-09-14T17:37:26.923Z"
   },
   {
    "duration": 17,
    "start_time": "2023-09-14T17:37:27.768Z"
   },
   {
    "duration": 33,
    "start_time": "2023-09-14T17:37:27.788Z"
   },
   {
    "duration": 40,
    "start_time": "2023-09-14T17:37:27.823Z"
   },
   {
    "duration": 11,
    "start_time": "2023-09-14T17:37:27.865Z"
   },
   {
    "duration": 6,
    "start_time": "2023-09-14T17:37:27.877Z"
   },
   {
    "duration": 12,
    "start_time": "2023-09-14T17:37:27.884Z"
   },
   {
    "duration": 10,
    "start_time": "2023-09-14T17:37:27.897Z"
   },
   {
    "duration": 9,
    "start_time": "2023-09-14T17:37:27.910Z"
   },
   {
    "duration": 22,
    "start_time": "2023-09-14T17:37:27.920Z"
   },
   {
    "duration": 24,
    "start_time": "2023-09-14T17:37:27.944Z"
   },
   {
    "duration": 7,
    "start_time": "2023-09-14T17:37:27.970Z"
   },
   {
    "duration": 14,
    "start_time": "2023-09-14T17:37:27.978Z"
   },
   {
    "duration": 12,
    "start_time": "2023-09-14T17:37:27.994Z"
   },
   {
    "duration": 49,
    "start_time": "2023-09-14T17:37:28.007Z"
   },
   {
    "duration": 17,
    "start_time": "2023-09-14T17:37:28.057Z"
   },
   {
    "duration": 28,
    "start_time": "2023-09-14T17:37:28.075Z"
   },
   {
    "duration": 18,
    "start_time": "2023-09-14T17:37:28.104Z"
   },
   {
    "duration": 9,
    "start_time": "2023-09-14T17:37:28.124Z"
   },
   {
    "duration": 14,
    "start_time": "2023-09-14T17:37:28.134Z"
   },
   {
    "duration": 247,
    "start_time": "2023-09-14T17:37:28.149Z"
   },
   {
    "duration": 20,
    "start_time": "2023-09-14T17:37:28.397Z"
   },
   {
    "duration": 31,
    "start_time": "2023-09-14T17:37:28.418Z"
   },
   {
    "duration": 212,
    "start_time": "2023-09-14T17:37:28.451Z"
   },
   {
    "duration": 18,
    "start_time": "2023-09-14T17:37:28.665Z"
   },
   {
    "duration": 6,
    "start_time": "2023-09-14T17:37:28.685Z"
   },
   {
    "duration": 243,
    "start_time": "2023-09-14T17:37:28.694Z"
   },
   {
    "duration": 18,
    "start_time": "2023-09-14T17:37:28.939Z"
   },
   {
    "duration": 332,
    "start_time": "2023-09-14T17:37:28.959Z"
   },
   {
    "duration": 259,
    "start_time": "2023-09-14T17:37:29.293Z"
   },
   {
    "duration": 239,
    "start_time": "2023-09-14T17:37:29.554Z"
   },
   {
    "duration": 248,
    "start_time": "2023-09-14T17:37:29.795Z"
   },
   {
    "duration": 409,
    "start_time": "2023-09-14T17:37:30.045Z"
   },
   {
    "duration": 8,
    "start_time": "2023-09-14T17:37:30.455Z"
   },
   {
    "duration": 45,
    "start_time": "2023-09-14T17:37:30.464Z"
   },
   {
    "duration": 30,
    "start_time": "2023-09-14T17:37:30.511Z"
   },
   {
    "duration": 30,
    "start_time": "2023-09-14T17:37:30.543Z"
   },
   {
    "duration": 49,
    "start_time": "2023-09-14T17:37:30.574Z"
   },
   {
    "duration": 266,
    "start_time": "2023-09-14T17:37:30.624Z"
   },
   {
    "duration": 3,
    "start_time": "2023-09-14T17:37:30.891Z"
   },
   {
    "duration": 17,
    "start_time": "2023-09-14T17:37:30.895Z"
   },
   {
    "duration": 26,
    "start_time": "2023-09-14T17:37:30.913Z"
   },
   {
    "duration": 16,
    "start_time": "2023-09-14T17:37:30.940Z"
   },
   {
    "duration": 14,
    "start_time": "2023-09-14T17:37:30.958Z"
   },
   {
    "duration": 2578,
    "start_time": "2023-09-14T17:37:30.974Z"
   },
   {
    "duration": 4,
    "start_time": "2023-09-14T17:37:33.555Z"
   },
   {
    "duration": 14,
    "start_time": "2023-09-14T17:37:33.561Z"
   },
   {
    "duration": 4,
    "start_time": "2023-09-14T17:37:33.643Z"
   },
   {
    "duration": 26,
    "start_time": "2023-09-14T17:37:33.649Z"
   },
   {
    "duration": 36,
    "start_time": "2023-09-14T17:37:33.677Z"
   },
   {
    "duration": 8,
    "start_time": "2023-09-14T17:37:33.716Z"
   },
   {
    "duration": 41,
    "start_time": "2023-09-14T17:37:33.725Z"
   },
   {
    "duration": 45,
    "start_time": "2023-09-14T17:37:33.768Z"
   },
   {
    "duration": 18,
    "start_time": "2023-09-14T17:37:33.815Z"
   },
   {
    "duration": 75,
    "start_time": "2023-09-14T17:37:33.835Z"
   },
   {
    "duration": 1467,
    "start_time": "2023-09-14T17:38:25.211Z"
   },
   {
    "duration": 852,
    "start_time": "2023-09-14T17:38:26.680Z"
   },
   {
    "duration": 22,
    "start_time": "2023-09-14T17:38:27.533Z"
   },
   {
    "duration": 13,
    "start_time": "2023-09-14T17:38:27.557Z"
   },
   {
    "duration": 18,
    "start_time": "2023-09-14T17:38:27.572Z"
   },
   {
    "duration": 11,
    "start_time": "2023-09-14T17:38:27.592Z"
   },
   {
    "duration": 3,
    "start_time": "2023-09-14T17:38:27.604Z"
   },
   {
    "duration": 7,
    "start_time": "2023-09-14T17:38:27.608Z"
   },
   {
    "duration": 28,
    "start_time": "2023-09-14T17:38:27.616Z"
   },
   {
    "duration": 27,
    "start_time": "2023-09-14T17:38:27.646Z"
   },
   {
    "duration": 10,
    "start_time": "2023-09-14T17:38:27.674Z"
   },
   {
    "duration": 10,
    "start_time": "2023-09-14T17:38:27.685Z"
   },
   {
    "duration": 9,
    "start_time": "2023-09-14T17:38:27.696Z"
   },
   {
    "duration": 18,
    "start_time": "2023-09-14T17:38:27.707Z"
   },
   {
    "duration": 19,
    "start_time": "2023-09-14T17:38:27.727Z"
   },
   {
    "duration": 20,
    "start_time": "2023-09-14T17:38:27.747Z"
   },
   {
    "duration": 11,
    "start_time": "2023-09-14T17:38:27.769Z"
   },
   {
    "duration": 19,
    "start_time": "2023-09-14T17:38:27.782Z"
   },
   {
    "duration": 8,
    "start_time": "2023-09-14T17:38:27.803Z"
   },
   {
    "duration": 14,
    "start_time": "2023-09-14T17:38:27.812Z"
   },
   {
    "duration": 22,
    "start_time": "2023-09-14T17:38:27.827Z"
   },
   {
    "duration": 246,
    "start_time": "2023-09-14T17:38:27.851Z"
   },
   {
    "duration": 19,
    "start_time": "2023-09-14T17:38:28.099Z"
   },
   {
    "duration": 7,
    "start_time": "2023-09-14T17:38:28.119Z"
   },
   {
    "duration": 216,
    "start_time": "2023-09-14T17:38:28.143Z"
   },
   {
    "duration": 19,
    "start_time": "2023-09-14T17:38:28.361Z"
   },
   {
    "duration": 7,
    "start_time": "2023-09-14T17:38:28.382Z"
   },
   {
    "duration": 226,
    "start_time": "2023-09-14T17:38:28.393Z"
   },
   {
    "duration": 24,
    "start_time": "2023-09-14T17:38:28.620Z"
   },
   {
    "duration": 322,
    "start_time": "2023-09-14T17:38:28.646Z"
   },
   {
    "duration": 256,
    "start_time": "2023-09-14T17:38:28.969Z"
   },
   {
    "duration": 230,
    "start_time": "2023-09-14T17:38:29.227Z"
   },
   {
    "duration": 234,
    "start_time": "2023-09-14T17:38:29.459Z"
   },
   {
    "duration": 410,
    "start_time": "2023-09-14T17:38:29.695Z"
   },
   {
    "duration": 8,
    "start_time": "2023-09-14T17:38:30.107Z"
   },
   {
    "duration": 55,
    "start_time": "2023-09-14T17:38:30.116Z"
   },
   {
    "duration": 33,
    "start_time": "2023-09-14T17:38:30.173Z"
   },
   {
    "duration": 58,
    "start_time": "2023-09-14T17:38:30.208Z"
   },
   {
    "duration": 58,
    "start_time": "2023-09-14T17:38:30.268Z"
   },
   {
    "duration": 276,
    "start_time": "2023-09-14T17:38:30.328Z"
   },
   {
    "duration": 2,
    "start_time": "2023-09-14T17:38:30.606Z"
   },
   {
    "duration": 38,
    "start_time": "2023-09-14T17:38:30.610Z"
   },
   {
    "duration": 56,
    "start_time": "2023-09-14T17:38:30.649Z"
   },
   {
    "duration": 31,
    "start_time": "2023-09-14T17:38:30.707Z"
   },
   {
    "duration": 31,
    "start_time": "2023-09-14T17:38:30.740Z"
   },
   {
    "duration": 2672,
    "start_time": "2023-09-14T17:38:30.772Z"
   },
   {
    "duration": 3,
    "start_time": "2023-09-14T17:38:33.446Z"
   },
   {
    "duration": 58,
    "start_time": "2023-09-14T17:38:33.451Z"
   },
   {
    "duration": 42,
    "start_time": "2023-09-14T17:38:33.511Z"
   },
   {
    "duration": 17,
    "start_time": "2023-09-14T17:38:33.554Z"
   },
   {
    "duration": 7,
    "start_time": "2023-09-14T17:38:33.573Z"
   },
   {
    "duration": 20,
    "start_time": "2023-09-14T17:38:33.581Z"
   },
   {
    "duration": 8,
    "start_time": "2023-09-14T17:38:33.602Z"
   },
   {
    "duration": 20,
    "start_time": "2023-09-14T17:38:33.612Z"
   },
   {
    "duration": 11,
    "start_time": "2023-09-14T17:38:33.634Z"
   },
   {
    "duration": 15,
    "start_time": "2023-09-14T17:38:33.647Z"
   },
   {
    "duration": 117980,
    "start_time": "2023-09-14T17:38:33.663Z"
   },
   {
    "duration": 26299,
    "start_time": "2023-09-14T17:40:31.646Z"
   },
   {
    "duration": 123004,
    "start_time": "2023-09-14T17:40:57.946Z"
   },
   {
    "duration": 6,
    "start_time": "2023-09-14T18:40:35.859Z"
   },
   {
    "duration": 28,
    "start_time": "2023-09-14T18:40:35.867Z"
   },
   {
    "duration": 115,
    "start_time": "2023-09-14T18:40:35.897Z"
   },
   {
    "duration": 0,
    "start_time": "2023-09-14T18:40:36.014Z"
   },
   {
    "duration": 0,
    "start_time": "2023-09-14T18:40:36.015Z"
   },
   {
    "duration": 0,
    "start_time": "2023-09-14T18:40:36.016Z"
   },
   {
    "duration": 0,
    "start_time": "2023-09-14T18:40:36.017Z"
   },
   {
    "duration": 0,
    "start_time": "2023-09-14T18:40:36.018Z"
   },
   {
    "duration": 0,
    "start_time": "2023-09-14T18:40:36.019Z"
   },
   {
    "duration": 0,
    "start_time": "2023-09-14T18:40:36.019Z"
   },
   {
    "duration": 0,
    "start_time": "2023-09-14T18:40:36.021Z"
   },
   {
    "duration": 0,
    "start_time": "2023-09-14T18:40:36.021Z"
   },
   {
    "duration": 0,
    "start_time": "2023-09-14T18:40:36.022Z"
   },
   {
    "duration": 0,
    "start_time": "2023-09-14T18:40:36.044Z"
   },
   {
    "duration": 0,
    "start_time": "2023-09-14T18:40:36.046Z"
   },
   {
    "duration": 6,
    "start_time": "2023-09-14T18:42:37.895Z"
   },
   {
    "duration": 6,
    "start_time": "2023-09-14T18:43:56.692Z"
   },
   {
    "duration": 3,
    "start_time": "2023-09-14T18:52:25.085Z"
   },
   {
    "duration": 1428,
    "start_time": "2023-09-14T19:12:12.638Z"
   },
   {
    "duration": 863,
    "start_time": "2023-09-14T19:12:14.068Z"
   },
   {
    "duration": 21,
    "start_time": "2023-09-14T19:12:14.933Z"
   },
   {
    "duration": 20,
    "start_time": "2023-09-14T19:12:14.956Z"
   },
   {
    "duration": 23,
    "start_time": "2023-09-14T19:12:14.978Z"
   },
   {
    "duration": 15,
    "start_time": "2023-09-14T19:12:15.002Z"
   },
   {
    "duration": 51,
    "start_time": "2023-09-14T19:12:15.018Z"
   },
   {
    "duration": 44,
    "start_time": "2023-09-14T19:12:15.070Z"
   },
   {
    "duration": 32,
    "start_time": "2023-09-14T19:12:15.115Z"
   },
   {
    "duration": 44,
    "start_time": "2023-09-14T19:12:15.150Z"
   },
   {
    "duration": 38,
    "start_time": "2023-09-14T19:12:15.196Z"
   },
   {
    "duration": 36,
    "start_time": "2023-09-14T19:12:15.235Z"
   },
   {
    "duration": 17,
    "start_time": "2023-09-14T19:12:15.273Z"
   },
   {
    "duration": 22,
    "start_time": "2023-09-14T19:12:15.292Z"
   },
   {
    "duration": 28,
    "start_time": "2023-09-14T19:12:15.317Z"
   },
   {
    "duration": 32,
    "start_time": "2023-09-14T19:12:15.347Z"
   },
   {
    "duration": 22,
    "start_time": "2023-09-14T19:12:15.381Z"
   },
   {
    "duration": 47,
    "start_time": "2023-09-14T19:12:15.405Z"
   },
   {
    "duration": 10,
    "start_time": "2023-09-14T19:12:15.454Z"
   },
   {
    "duration": 18,
    "start_time": "2023-09-14T19:12:15.466Z"
   },
   {
    "duration": 25,
    "start_time": "2023-09-14T19:12:15.485Z"
   },
   {
    "duration": 287,
    "start_time": "2023-09-14T19:12:15.511Z"
   },
   {
    "duration": 20,
    "start_time": "2023-09-14T19:12:15.799Z"
   },
   {
    "duration": 20,
    "start_time": "2023-09-14T19:12:15.821Z"
   },
   {
    "duration": 239,
    "start_time": "2023-09-14T19:12:15.844Z"
   },
   {
    "duration": 19,
    "start_time": "2023-09-14T19:12:16.084Z"
   },
   {
    "duration": 157,
    "start_time": "2023-09-14T19:12:16.104Z"
   },
   {
    "duration": 223,
    "start_time": "2023-09-14T19:12:16.264Z"
   },
   {
    "duration": 18,
    "start_time": "2023-09-14T19:12:16.488Z"
   },
   {
    "duration": 322,
    "start_time": "2023-09-14T19:12:16.507Z"
   },
   {
    "duration": 257,
    "start_time": "2023-09-14T19:12:16.831Z"
   },
   {
    "duration": 238,
    "start_time": "2023-09-14T19:12:17.090Z"
   },
   {
    "duration": 236,
    "start_time": "2023-09-14T19:12:17.329Z"
   },
   {
    "duration": 424,
    "start_time": "2023-09-14T19:12:17.566Z"
   },
   {
    "duration": 7,
    "start_time": "2023-09-14T19:12:17.992Z"
   },
   {
    "duration": 27,
    "start_time": "2023-09-14T19:12:18.001Z"
   },
   {
    "duration": 5,
    "start_time": "2023-09-14T19:12:18.030Z"
   },
   {
    "duration": 25,
    "start_time": "2023-09-14T19:12:18.037Z"
   },
   {
    "duration": 11,
    "start_time": "2023-09-14T19:12:18.063Z"
   },
   {
    "duration": 222,
    "start_time": "2023-09-14T19:12:18.075Z"
   },
   {
    "duration": 3,
    "start_time": "2023-09-14T19:12:18.298Z"
   },
   {
    "duration": 6,
    "start_time": "2023-09-14T19:12:18.302Z"
   },
   {
    "duration": 22,
    "start_time": "2023-09-14T19:12:18.309Z"
   },
   {
    "duration": 14,
    "start_time": "2023-09-14T19:12:18.332Z"
   },
   {
    "duration": 8,
    "start_time": "2023-09-14T19:12:18.347Z"
   },
   {
    "duration": 2089,
    "start_time": "2023-09-14T19:12:18.356Z"
   },
   {
    "duration": 3,
    "start_time": "2023-09-14T19:12:20.448Z"
   },
   {
    "duration": 143,
    "start_time": "2023-09-14T19:12:20.453Z"
   },
   {
    "duration": 22,
    "start_time": "2023-09-14T19:12:20.598Z"
   },
   {
    "duration": 58,
    "start_time": "2023-09-14T19:12:20.622Z"
   },
   {
    "duration": 14,
    "start_time": "2023-09-14T19:12:20.682Z"
   },
   {
    "duration": 32,
    "start_time": "2023-09-14T19:12:20.697Z"
   },
   {
    "duration": 27,
    "start_time": "2023-09-14T19:12:20.731Z"
   },
   {
    "duration": 35,
    "start_time": "2023-09-14T19:12:20.760Z"
   },
   {
    "duration": 119153,
    "start_time": "2023-09-14T19:12:20.797Z"
   },
   {
    "duration": 25905,
    "start_time": "2023-09-14T19:14:19.954Z"
   },
   {
    "duration": 120192,
    "start_time": "2023-09-14T19:14:45.861Z"
   },
   {
    "duration": 1428,
    "start_time": "2023-09-14T19:36:32.546Z"
   },
   {
    "duration": 905,
    "start_time": "2023-09-14T19:36:33.976Z"
   },
   {
    "duration": 16,
    "start_time": "2023-09-14T19:36:34.882Z"
   },
   {
    "duration": 25,
    "start_time": "2023-09-14T19:36:34.900Z"
   },
   {
    "duration": 16,
    "start_time": "2023-09-14T19:36:34.927Z"
   },
   {
    "duration": 11,
    "start_time": "2023-09-14T19:36:34.945Z"
   },
   {
    "duration": 2,
    "start_time": "2023-09-14T19:36:34.957Z"
   },
   {
    "duration": 18,
    "start_time": "2023-09-14T19:36:34.960Z"
   },
   {
    "duration": 17,
    "start_time": "2023-09-14T19:36:34.979Z"
   },
   {
    "duration": 27,
    "start_time": "2023-09-14T19:36:34.999Z"
   },
   {
    "duration": 22,
    "start_time": "2023-09-14T19:36:35.028Z"
   },
   {
    "duration": 34,
    "start_time": "2023-09-14T19:36:35.052Z"
   },
   {
    "duration": 33,
    "start_time": "2023-09-14T19:36:35.087Z"
   },
   {
    "duration": 65,
    "start_time": "2023-09-14T19:36:35.122Z"
   },
   {
    "duration": 41,
    "start_time": "2023-09-14T19:36:35.188Z"
   },
   {
    "duration": 32,
    "start_time": "2023-09-14T19:36:35.230Z"
   },
   {
    "duration": 35,
    "start_time": "2023-09-14T19:36:35.263Z"
   },
   {
    "duration": 38,
    "start_time": "2023-09-14T19:36:35.299Z"
   },
   {
    "duration": 9,
    "start_time": "2023-09-14T19:36:35.339Z"
   },
   {
    "duration": 38,
    "start_time": "2023-09-14T19:36:35.349Z"
   },
   {
    "duration": 109,
    "start_time": "2023-09-14T19:36:35.389Z"
   },
   {
    "duration": 0,
    "start_time": "2023-09-14T19:36:35.500Z"
   },
   {
    "duration": 0,
    "start_time": "2023-09-14T19:36:35.501Z"
   },
   {
    "duration": 0,
    "start_time": "2023-09-14T19:36:35.503Z"
   },
   {
    "duration": 0,
    "start_time": "2023-09-14T19:36:35.503Z"
   },
   {
    "duration": 0,
    "start_time": "2023-09-14T19:36:35.504Z"
   },
   {
    "duration": 0,
    "start_time": "2023-09-14T19:36:35.505Z"
   },
   {
    "duration": 0,
    "start_time": "2023-09-14T19:36:35.506Z"
   },
   {
    "duration": 0,
    "start_time": "2023-09-14T19:36:35.507Z"
   },
   {
    "duration": 0,
    "start_time": "2023-09-14T19:36:35.509Z"
   },
   {
    "duration": 0,
    "start_time": "2023-09-14T19:36:35.509Z"
   },
   {
    "duration": 0,
    "start_time": "2023-09-14T19:36:35.510Z"
   },
   {
    "duration": 1,
    "start_time": "2023-09-14T19:36:35.511Z"
   },
   {
    "duration": 0,
    "start_time": "2023-09-14T19:36:35.512Z"
   },
   {
    "duration": 0,
    "start_time": "2023-09-14T19:36:35.514Z"
   },
   {
    "duration": 0,
    "start_time": "2023-09-14T19:36:35.514Z"
   },
   {
    "duration": 0,
    "start_time": "2023-09-14T19:36:35.545Z"
   },
   {
    "duration": 0,
    "start_time": "2023-09-14T19:36:35.545Z"
   },
   {
    "duration": 0,
    "start_time": "2023-09-14T19:36:35.547Z"
   },
   {
    "duration": 0,
    "start_time": "2023-09-14T19:36:35.547Z"
   },
   {
    "duration": 0,
    "start_time": "2023-09-14T19:36:35.549Z"
   },
   {
    "duration": 0,
    "start_time": "2023-09-14T19:36:35.550Z"
   },
   {
    "duration": 0,
    "start_time": "2023-09-14T19:36:35.551Z"
   },
   {
    "duration": 0,
    "start_time": "2023-09-14T19:36:35.552Z"
   },
   {
    "duration": 0,
    "start_time": "2023-09-14T19:36:35.553Z"
   },
   {
    "duration": 0,
    "start_time": "2023-09-14T19:36:35.554Z"
   },
   {
    "duration": 0,
    "start_time": "2023-09-14T19:36:35.555Z"
   },
   {
    "duration": 0,
    "start_time": "2023-09-14T19:36:35.556Z"
   },
   {
    "duration": 0,
    "start_time": "2023-09-14T19:36:35.557Z"
   },
   {
    "duration": 0,
    "start_time": "2023-09-14T19:36:35.558Z"
   },
   {
    "duration": 0,
    "start_time": "2023-09-14T19:36:35.559Z"
   },
   {
    "duration": 0,
    "start_time": "2023-09-14T19:36:35.560Z"
   },
   {
    "duration": 0,
    "start_time": "2023-09-14T19:36:35.561Z"
   },
   {
    "duration": 0,
    "start_time": "2023-09-14T19:36:35.562Z"
   },
   {
    "duration": 0,
    "start_time": "2023-09-14T19:36:35.563Z"
   },
   {
    "duration": 0,
    "start_time": "2023-09-14T19:36:35.563Z"
   },
   {
    "duration": 0,
    "start_time": "2023-09-14T19:36:35.564Z"
   },
   {
    "duration": 0,
    "start_time": "2023-09-14T19:36:35.565Z"
   },
   {
    "duration": 0,
    "start_time": "2023-09-14T19:36:35.566Z"
   },
   {
    "duration": 0,
    "start_time": "2023-09-14T19:36:35.567Z"
   },
   {
    "duration": 0,
    "start_time": "2023-09-14T19:36:35.568Z"
   },
   {
    "duration": 0,
    "start_time": "2023-09-14T19:36:35.569Z"
   },
   {
    "duration": 0,
    "start_time": "2023-09-14T19:36:35.570Z"
   },
   {
    "duration": 0,
    "start_time": "2023-09-14T19:36:35.571Z"
   },
   {
    "duration": 0,
    "start_time": "2023-09-14T19:36:35.572Z"
   },
   {
    "duration": 0,
    "start_time": "2023-09-14T19:36:35.573Z"
   },
   {
    "duration": 0,
    "start_time": "2023-09-14T19:36:35.575Z"
   },
   {
    "duration": 0,
    "start_time": "2023-09-14T19:36:35.576Z"
   },
   {
    "duration": 0,
    "start_time": "2023-09-14T19:36:35.576Z"
   },
   {
    "duration": 8,
    "start_time": "2023-09-14T19:37:01.381Z"
   },
   {
    "duration": 224,
    "start_time": "2023-09-14T19:37:02.389Z"
   },
   {
    "duration": 230,
    "start_time": "2023-09-14T19:37:39.222Z"
   },
   {
    "duration": 11,
    "start_time": "2023-09-14T19:37:39.454Z"
   },
   {
    "duration": 240,
    "start_time": "2023-09-14T19:37:39.467Z"
   },
   {
    "duration": 34,
    "start_time": "2023-09-14T19:37:39.710Z"
   },
   {
    "duration": 8,
    "start_time": "2023-09-14T19:37:39.746Z"
   },
   {
    "duration": 290,
    "start_time": "2023-09-14T19:37:39.755Z"
   },
   {
    "duration": 16,
    "start_time": "2023-09-14T19:37:40.047Z"
   },
   {
    "duration": 12,
    "start_time": "2023-09-14T19:37:40.065Z"
   },
   {
    "duration": 222,
    "start_time": "2023-09-14T19:37:40.078Z"
   },
   {
    "duration": 15,
    "start_time": "2023-09-14T19:37:40.303Z"
   },
   {
    "duration": 249,
    "start_time": "2023-09-14T19:37:40.320Z"
   },
   {
    "duration": 247,
    "start_time": "2023-09-14T19:37:40.571Z"
   },
   {
    "duration": 238,
    "start_time": "2023-09-14T19:37:40.820Z"
   },
   {
    "duration": 241,
    "start_time": "2023-09-14T19:37:41.060Z"
   },
   {
    "duration": 407,
    "start_time": "2023-09-14T19:37:41.303Z"
   },
   {
    "duration": 9,
    "start_time": "2023-09-14T19:37:41.712Z"
   },
   {
    "duration": 22,
    "start_time": "2023-09-14T19:37:41.722Z"
   },
   {
    "duration": 4,
    "start_time": "2023-09-14T19:37:41.746Z"
   },
   {
    "duration": 14,
    "start_time": "2023-09-14T19:37:41.752Z"
   },
   {
    "duration": 10,
    "start_time": "2023-09-14T19:37:41.767Z"
   },
   {
    "duration": 233,
    "start_time": "2023-09-14T19:37:41.779Z"
   },
   {
    "duration": 3,
    "start_time": "2023-09-14T19:37:42.013Z"
   },
   {
    "duration": 4,
    "start_time": "2023-09-14T19:37:42.019Z"
   },
   {
    "duration": 27,
    "start_time": "2023-09-14T19:37:42.025Z"
   },
   {
    "duration": 8,
    "start_time": "2023-09-14T19:37:42.054Z"
   },
   {
    "duration": 5,
    "start_time": "2023-09-14T19:37:42.063Z"
   },
   {
    "duration": 2379,
    "start_time": "2023-09-14T19:37:42.069Z"
   },
   {
    "duration": 95,
    "start_time": "2023-09-14T19:37:44.453Z"
   },
   {
    "duration": 4,
    "start_time": "2023-09-14T19:37:44.550Z"
   },
   {
    "duration": 5,
    "start_time": "2023-09-14T19:37:44.556Z"
   },
   {
    "duration": 4,
    "start_time": "2023-09-14T19:37:44.563Z"
   },
   {
    "duration": 5,
    "start_time": "2023-09-14T19:37:44.569Z"
   },
   {
    "duration": 5,
    "start_time": "2023-09-14T19:37:44.575Z"
   },
   {
    "duration": 6,
    "start_time": "2023-09-14T19:37:44.582Z"
   },
   {
    "duration": 5,
    "start_time": "2023-09-14T19:37:44.590Z"
   },
   {
    "duration": 120855,
    "start_time": "2023-09-14T19:37:44.596Z"
   },
   {
    "duration": 25490,
    "start_time": "2023-09-14T19:39:45.544Z"
   },
   {
    "duration": 124114,
    "start_time": "2023-09-14T19:40:11.036Z"
   },
   {
    "duration": 1341,
    "start_time": "2023-09-14T19:42:52.694Z"
   },
   {
    "duration": 877,
    "start_time": "2023-09-14T19:42:54.038Z"
   },
   {
    "duration": 17,
    "start_time": "2023-09-14T19:42:54.916Z"
   },
   {
    "duration": 11,
    "start_time": "2023-09-14T19:42:54.944Z"
   },
   {
    "duration": 15,
    "start_time": "2023-09-14T19:42:54.956Z"
   },
   {
    "duration": 10,
    "start_time": "2023-09-14T19:42:54.973Z"
   },
   {
    "duration": 7,
    "start_time": "2023-09-14T19:42:54.984Z"
   },
   {
    "duration": 6,
    "start_time": "2023-09-14T19:42:54.992Z"
   },
   {
    "duration": 11,
    "start_time": "2023-09-14T19:42:54.999Z"
   },
   {
    "duration": 15,
    "start_time": "2023-09-14T19:42:55.013Z"
   },
   {
    "duration": 25,
    "start_time": "2023-09-14T19:42:55.029Z"
   },
   {
    "duration": 17,
    "start_time": "2023-09-14T19:42:55.056Z"
   },
   {
    "duration": 12,
    "start_time": "2023-09-14T19:42:55.074Z"
   },
   {
    "duration": 21,
    "start_time": "2023-09-14T19:42:55.087Z"
   },
   {
    "duration": 17,
    "start_time": "2023-09-14T19:42:55.109Z"
   },
   {
    "duration": 15,
    "start_time": "2023-09-14T19:42:55.128Z"
   },
   {
    "duration": 14,
    "start_time": "2023-09-14T19:42:55.145Z"
   },
   {
    "duration": 23,
    "start_time": "2023-09-14T19:42:55.161Z"
   },
   {
    "duration": 10,
    "start_time": "2023-09-14T19:42:55.185Z"
   },
   {
    "duration": 10,
    "start_time": "2023-09-14T19:42:55.196Z"
   },
   {
    "duration": 37,
    "start_time": "2023-09-14T19:42:55.207Z"
   },
   {
    "duration": 234,
    "start_time": "2023-09-14T19:42:55.246Z"
   },
   {
    "duration": 19,
    "start_time": "2023-09-14T19:42:55.481Z"
   },
   {
    "duration": 9,
    "start_time": "2023-09-14T19:42:55.502Z"
   },
   {
    "duration": 259,
    "start_time": "2023-09-14T19:42:55.512Z"
   },
   {
    "duration": 20,
    "start_time": "2023-09-14T19:42:55.773Z"
   },
   {
    "duration": 7,
    "start_time": "2023-09-14T19:42:55.795Z"
   },
   {
    "duration": 233,
    "start_time": "2023-09-14T19:42:55.805Z"
   },
   {
    "duration": 19,
    "start_time": "2023-09-14T19:42:56.039Z"
   },
   {
    "duration": 8,
    "start_time": "2023-09-14T19:42:56.059Z"
   },
   {
    "duration": 320,
    "start_time": "2023-09-14T19:42:56.068Z"
   },
   {
    "duration": 17,
    "start_time": "2023-09-14T19:42:56.390Z"
   },
   {
    "duration": 328,
    "start_time": "2023-09-14T19:42:56.409Z"
   },
   {
    "duration": 258,
    "start_time": "2023-09-14T19:42:56.739Z"
   },
   {
    "duration": 248,
    "start_time": "2023-09-14T19:42:56.998Z"
   },
   {
    "duration": 242,
    "start_time": "2023-09-14T19:42:57.248Z"
   },
   {
    "duration": 440,
    "start_time": "2023-09-14T19:42:57.492Z"
   },
   {
    "duration": 10,
    "start_time": "2023-09-14T19:42:57.934Z"
   },
   {
    "duration": 10,
    "start_time": "2023-09-14T19:42:57.946Z"
   },
   {
    "duration": 14,
    "start_time": "2023-09-14T19:42:57.957Z"
   },
   {
    "duration": 17,
    "start_time": "2023-09-14T19:42:57.972Z"
   },
   {
    "duration": 15,
    "start_time": "2023-09-14T19:42:57.991Z"
   },
   {
    "duration": 257,
    "start_time": "2023-09-14T19:42:58.008Z"
   },
   {
    "duration": 4,
    "start_time": "2023-09-14T19:42:58.267Z"
   },
   {
    "duration": 18,
    "start_time": "2023-09-14T19:42:58.273Z"
   },
   {
    "duration": 23,
    "start_time": "2023-09-14T19:42:58.293Z"
   },
   {
    "duration": 24,
    "start_time": "2023-09-14T19:42:58.318Z"
   },
   {
    "duration": 29,
    "start_time": "2023-09-14T19:42:58.344Z"
   },
   {
    "duration": 2780,
    "start_time": "2023-09-14T19:42:58.375Z"
   },
   {
    "duration": 3,
    "start_time": "2023-09-14T19:43:01.244Z"
   },
   {
    "duration": 96,
    "start_time": "2023-09-14T19:43:01.248Z"
   },
   {
    "duration": 19,
    "start_time": "2023-09-14T19:43:01.346Z"
   },
   {
    "duration": 33,
    "start_time": "2023-09-14T19:43:01.367Z"
   },
   {
    "duration": 48,
    "start_time": "2023-09-14T19:43:01.401Z"
   },
   {
    "duration": 93,
    "start_time": "2023-09-14T19:43:01.451Z"
   },
   {
    "duration": 97,
    "start_time": "2023-09-14T19:43:01.545Z"
   },
   {
    "duration": 27,
    "start_time": "2023-09-14T19:43:01.644Z"
   },
   {
    "duration": 119771,
    "start_time": "2023-09-14T19:43:01.673Z"
   },
   {
    "duration": 23336,
    "start_time": "2023-09-14T19:45:01.446Z"
   },
   {
    "duration": 118174,
    "start_time": "2023-09-14T19:45:24.784Z"
   },
   {
    "duration": 1409,
    "start_time": "2023-09-14T19:48:46.221Z"
   },
   {
    "duration": 838,
    "start_time": "2023-09-14T19:48:47.632Z"
   },
   {
    "duration": 16,
    "start_time": "2023-09-14T19:48:48.472Z"
   },
   {
    "duration": 10,
    "start_time": "2023-09-14T19:48:48.490Z"
   },
   {
    "duration": 15,
    "start_time": "2023-09-14T19:48:48.502Z"
   },
   {
    "duration": 32,
    "start_time": "2023-09-14T19:48:48.519Z"
   },
   {
    "duration": 2,
    "start_time": "2023-09-14T19:48:48.553Z"
   },
   {
    "duration": 10,
    "start_time": "2023-09-14T19:48:48.557Z"
   },
   {
    "duration": 29,
    "start_time": "2023-09-14T19:48:48.568Z"
   },
   {
    "duration": 9,
    "start_time": "2023-09-14T19:48:48.598Z"
   },
   {
    "duration": 9,
    "start_time": "2023-09-14T19:48:48.608Z"
   },
   {
    "duration": 21,
    "start_time": "2023-09-14T19:48:48.618Z"
   },
   {
    "duration": 5,
    "start_time": "2023-09-14T19:48:48.640Z"
   },
   {
    "duration": 4,
    "start_time": "2023-09-14T19:48:48.647Z"
   },
   {
    "duration": 11,
    "start_time": "2023-09-14T19:48:48.653Z"
   },
   {
    "duration": 12,
    "start_time": "2023-09-14T19:48:48.666Z"
   },
   {
    "duration": 12,
    "start_time": "2023-09-14T19:48:48.680Z"
   },
   {
    "duration": 18,
    "start_time": "2023-09-14T19:48:48.693Z"
   },
   {
    "duration": 34,
    "start_time": "2023-09-14T19:48:48.713Z"
   },
   {
    "duration": 8,
    "start_time": "2023-09-14T19:48:48.748Z"
   },
   {
    "duration": 7,
    "start_time": "2023-09-14T19:48:48.757Z"
   },
   {
    "duration": 245,
    "start_time": "2023-09-14T19:48:48.765Z"
   },
   {
    "duration": 21,
    "start_time": "2023-09-14T19:48:49.012Z"
   },
   {
    "duration": 18,
    "start_time": "2023-09-14T19:48:49.035Z"
   },
   {
    "duration": 248,
    "start_time": "2023-09-14T19:48:49.054Z"
   },
   {
    "duration": 19,
    "start_time": "2023-09-14T19:48:49.304Z"
   },
   {
    "duration": 21,
    "start_time": "2023-09-14T19:48:49.325Z"
   },
   {
    "duration": 223,
    "start_time": "2023-09-14T19:48:49.347Z"
   },
   {
    "duration": 18,
    "start_time": "2023-09-14T19:48:49.572Z"
   },
   {
    "duration": 7,
    "start_time": "2023-09-14T19:48:49.592Z"
   },
   {
    "duration": 304,
    "start_time": "2023-09-14T19:48:49.600Z"
   },
   {
    "duration": 16,
    "start_time": "2023-09-14T19:48:49.906Z"
   },
   {
    "duration": 261,
    "start_time": "2023-09-14T19:48:49.924Z"
   },
   {
    "duration": 258,
    "start_time": "2023-09-14T19:48:50.187Z"
   },
   {
    "duration": 257,
    "start_time": "2023-09-14T19:48:50.447Z"
   },
   {
    "duration": 240,
    "start_time": "2023-09-14T19:48:50.706Z"
   },
   {
    "duration": 233,
    "start_time": "2023-09-14T19:48:50.948Z"
   },
   {
    "duration": 403,
    "start_time": "2023-09-14T19:48:51.183Z"
   },
   {
    "duration": 9,
    "start_time": "2023-09-14T19:48:51.587Z"
   },
   {
    "duration": 42,
    "start_time": "2023-09-14T19:48:51.598Z"
   },
   {
    "duration": 36,
    "start_time": "2023-09-14T19:48:51.644Z"
   },
   {
    "duration": 32,
    "start_time": "2023-09-14T19:48:51.681Z"
   },
   {
    "duration": 16,
    "start_time": "2023-09-14T19:48:51.714Z"
   },
   {
    "duration": 228,
    "start_time": "2023-09-14T19:48:51.731Z"
   },
   {
    "duration": 3,
    "start_time": "2023-09-14T19:48:51.961Z"
   },
   {
    "duration": 39,
    "start_time": "2023-09-14T19:48:51.965Z"
   },
   {
    "duration": 37,
    "start_time": "2023-09-14T19:48:52.005Z"
   },
   {
    "duration": 47,
    "start_time": "2023-09-14T19:48:52.044Z"
   },
   {
    "duration": 25,
    "start_time": "2023-09-14T19:48:52.092Z"
   },
   {
    "duration": 2227,
    "start_time": "2023-09-14T19:48:52.119Z"
   },
   {
    "duration": 3,
    "start_time": "2023-09-14T19:48:54.348Z"
   },
   {
    "duration": 29,
    "start_time": "2023-09-14T19:48:54.352Z"
   },
   {
    "duration": 36,
    "start_time": "2023-09-14T19:48:54.382Z"
   },
   {
    "duration": 57,
    "start_time": "2023-09-14T19:48:54.419Z"
   },
   {
    "duration": 47,
    "start_time": "2023-09-14T19:48:54.478Z"
   },
   {
    "duration": 19,
    "start_time": "2023-09-14T19:48:54.527Z"
   },
   {
    "duration": 39,
    "start_time": "2023-09-14T19:48:54.548Z"
   },
   {
    "duration": 51,
    "start_time": "2023-09-14T19:48:54.589Z"
   },
   {
    "duration": 118005,
    "start_time": "2023-09-14T19:48:54.643Z"
   },
   {
    "duration": 22832,
    "start_time": "2023-09-14T19:50:52.651Z"
   },
   {
    "duration": 117269,
    "start_time": "2023-09-14T19:51:15.484Z"
   },
   {
    "duration": 1313,
    "start_time": "2023-09-14T19:58:50.394Z"
   },
   {
    "duration": 847,
    "start_time": "2023-09-14T19:58:51.710Z"
   },
   {
    "duration": 17,
    "start_time": "2023-09-14T19:58:52.559Z"
   },
   {
    "duration": 12,
    "start_time": "2023-09-14T19:58:52.577Z"
   },
   {
    "duration": 16,
    "start_time": "2023-09-14T19:58:52.592Z"
   },
   {
    "duration": 43,
    "start_time": "2023-09-14T19:58:52.609Z"
   },
   {
    "duration": 2,
    "start_time": "2023-09-14T19:58:52.653Z"
   },
   {
    "duration": 8,
    "start_time": "2023-09-14T19:58:52.657Z"
   },
   {
    "duration": 10,
    "start_time": "2023-09-14T19:58:52.666Z"
   },
   {
    "duration": 10,
    "start_time": "2023-09-14T19:58:52.677Z"
   },
   {
    "duration": 10,
    "start_time": "2023-09-14T19:58:52.689Z"
   },
   {
    "duration": 15,
    "start_time": "2023-09-14T19:58:52.700Z"
   },
   {
    "duration": 4,
    "start_time": "2023-09-14T19:58:52.716Z"
   },
   {
    "duration": 9,
    "start_time": "2023-09-14T19:58:52.723Z"
   },
   {
    "duration": 10,
    "start_time": "2023-09-14T19:58:52.733Z"
   },
   {
    "duration": 23,
    "start_time": "2023-09-14T19:58:52.745Z"
   },
   {
    "duration": 10,
    "start_time": "2023-09-14T19:58:52.770Z"
   },
   {
    "duration": 20,
    "start_time": "2023-09-14T19:58:52.782Z"
   },
   {
    "duration": 9,
    "start_time": "2023-09-14T19:58:52.804Z"
   },
   {
    "duration": 7,
    "start_time": "2023-09-14T19:58:52.814Z"
   },
   {
    "duration": 7,
    "start_time": "2023-09-14T19:58:52.843Z"
   },
   {
    "duration": 240,
    "start_time": "2023-09-14T19:58:52.852Z"
   },
   {
    "duration": 17,
    "start_time": "2023-09-14T19:58:53.094Z"
   },
   {
    "duration": 8,
    "start_time": "2023-09-14T19:58:53.113Z"
   },
   {
    "duration": 259,
    "start_time": "2023-09-14T19:58:53.122Z"
   },
   {
    "duration": 18,
    "start_time": "2023-09-14T19:58:53.382Z"
   },
   {
    "duration": 16,
    "start_time": "2023-09-14T19:58:53.402Z"
   },
   {
    "duration": 229,
    "start_time": "2023-09-14T19:58:53.419Z"
   },
   {
    "duration": 20,
    "start_time": "2023-09-14T19:58:53.649Z"
   },
   {
    "duration": 7,
    "start_time": "2023-09-14T19:58:53.671Z"
   },
   {
    "duration": 313,
    "start_time": "2023-09-14T19:58:53.680Z"
   },
   {
    "duration": 15,
    "start_time": "2023-09-14T19:58:53.995Z"
   },
   {
    "duration": 241,
    "start_time": "2023-09-14T19:58:54.011Z"
   },
   {
    "duration": 290,
    "start_time": "2023-09-14T19:58:54.254Z"
   },
   {
    "duration": 253,
    "start_time": "2023-09-14T19:58:54.546Z"
   },
   {
    "duration": 232,
    "start_time": "2023-09-14T19:58:54.800Z"
   },
   {
    "duration": 404,
    "start_time": "2023-09-14T19:58:55.043Z"
   },
   {
    "duration": 8,
    "start_time": "2023-09-14T19:58:55.448Z"
   },
   {
    "duration": 7,
    "start_time": "2023-09-14T19:58:55.457Z"
   },
   {
    "duration": 5,
    "start_time": "2023-09-14T19:58:55.465Z"
   },
   {
    "duration": 9,
    "start_time": "2023-09-14T19:58:55.473Z"
   },
   {
    "duration": 22,
    "start_time": "2023-09-14T19:58:55.484Z"
   },
   {
    "duration": 33,
    "start_time": "2023-09-14T19:58:55.508Z"
   },
   {
    "duration": 239,
    "start_time": "2023-09-14T19:58:55.543Z"
   },
   {
    "duration": 2,
    "start_time": "2023-09-14T19:58:55.784Z"
   },
   {
    "duration": 6,
    "start_time": "2023-09-14T19:58:55.788Z"
   },
   {
    "duration": 26,
    "start_time": "2023-09-14T19:58:55.796Z"
   },
   {
    "duration": 19,
    "start_time": "2023-09-14T19:58:55.823Z"
   },
   {
    "duration": 34,
    "start_time": "2023-09-14T19:58:55.843Z"
   },
   {
    "duration": 2469,
    "start_time": "2023-09-14T19:58:55.879Z"
   },
   {
    "duration": 93,
    "start_time": "2023-09-14T19:58:58.350Z"
   },
   {
    "duration": 20,
    "start_time": "2023-09-14T19:58:58.445Z"
   },
   {
    "duration": 10,
    "start_time": "2023-09-14T19:58:58.466Z"
   },
   {
    "duration": 5,
    "start_time": "2023-09-14T19:58:58.477Z"
   },
   {
    "duration": 5,
    "start_time": "2023-09-14T19:58:58.483Z"
   },
   {
    "duration": 10,
    "start_time": "2023-09-14T19:58:58.490Z"
   },
   {
    "duration": 6,
    "start_time": "2023-09-14T19:58:58.501Z"
   },
   {
    "duration": 13,
    "start_time": "2023-09-14T19:58:58.508Z"
   },
   {
    "duration": 121525,
    "start_time": "2023-09-14T19:58:58.523Z"
   },
   {
    "duration": 23207,
    "start_time": "2023-09-14T20:01:00.051Z"
   },
   {
    "duration": 129391,
    "start_time": "2023-09-14T20:01:23.260Z"
   },
   {
    "duration": 1370,
    "start_time": "2023-09-14T20:52:54.752Z"
   },
   {
    "duration": 854,
    "start_time": "2023-09-14T20:52:56.124Z"
   },
   {
    "duration": 17,
    "start_time": "2023-09-14T20:52:56.980Z"
   },
   {
    "duration": 11,
    "start_time": "2023-09-14T20:52:56.999Z"
   },
   {
    "duration": 34,
    "start_time": "2023-09-14T20:52:57.011Z"
   },
   {
    "duration": 12,
    "start_time": "2023-09-14T20:52:57.047Z"
   },
   {
    "duration": 2,
    "start_time": "2023-09-14T20:52:57.061Z"
   },
   {
    "duration": 4,
    "start_time": "2023-09-14T20:52:57.065Z"
   },
   {
    "duration": 5,
    "start_time": "2023-09-14T20:52:57.070Z"
   },
   {
    "duration": 5,
    "start_time": "2023-09-14T20:52:57.078Z"
   },
   {
    "duration": 12,
    "start_time": "2023-09-14T20:52:57.084Z"
   },
   {
    "duration": 16,
    "start_time": "2023-09-14T20:52:57.097Z"
   },
   {
    "duration": 4,
    "start_time": "2023-09-14T20:52:57.115Z"
   },
   {
    "duration": 31,
    "start_time": "2023-09-14T20:52:57.120Z"
   },
   {
    "duration": 8,
    "start_time": "2023-09-14T20:52:57.152Z"
   },
   {
    "duration": 16,
    "start_time": "2023-09-14T20:52:57.163Z"
   },
   {
    "duration": 11,
    "start_time": "2023-09-14T20:52:57.180Z"
   },
   {
    "duration": 20,
    "start_time": "2023-09-14T20:52:57.193Z"
   },
   {
    "duration": 37,
    "start_time": "2023-09-14T20:52:57.215Z"
   },
   {
    "duration": 8,
    "start_time": "2023-09-14T20:52:57.254Z"
   },
   {
    "duration": 8,
    "start_time": "2023-09-14T20:52:57.263Z"
   },
   {
    "duration": 237,
    "start_time": "2023-09-14T20:52:57.273Z"
   },
   {
    "duration": 19,
    "start_time": "2023-09-14T20:52:57.512Z"
   },
   {
    "duration": 9,
    "start_time": "2023-09-14T20:52:57.543Z"
   },
   {
    "duration": 246,
    "start_time": "2023-09-14T20:52:57.555Z"
   },
   {
    "duration": 20,
    "start_time": "2023-09-14T20:52:57.803Z"
   },
   {
    "duration": 24,
    "start_time": "2023-09-14T20:52:57.825Z"
   },
   {
    "duration": 225,
    "start_time": "2023-09-14T20:52:57.853Z"
   },
   {
    "duration": 20,
    "start_time": "2023-09-14T20:52:58.079Z"
   },
   {
    "duration": 7,
    "start_time": "2023-09-14T20:52:58.100Z"
   },
   {
    "duration": 300,
    "start_time": "2023-09-14T20:52:58.109Z"
   },
   {
    "duration": 15,
    "start_time": "2023-09-14T20:52:58.411Z"
   },
   {
    "duration": 242,
    "start_time": "2023-09-14T20:52:58.428Z"
   },
   {
    "duration": 252,
    "start_time": "2023-09-14T20:52:58.672Z"
   },
   {
    "duration": 254,
    "start_time": "2023-09-14T20:52:58.925Z"
   },
   {
    "duration": 245,
    "start_time": "2023-09-14T20:52:59.181Z"
   },
   {
    "duration": 428,
    "start_time": "2023-09-14T20:52:59.428Z"
   },
   {
    "duration": 7,
    "start_time": "2023-09-14T20:52:59.858Z"
   },
   {
    "duration": 13,
    "start_time": "2023-09-14T20:52:59.866Z"
   },
   {
    "duration": 7,
    "start_time": "2023-09-14T20:52:59.881Z"
   },
   {
    "duration": 7,
    "start_time": "2023-09-14T20:52:59.889Z"
   },
   {
    "duration": 11,
    "start_time": "2023-09-14T20:52:59.897Z"
   },
   {
    "duration": 15,
    "start_time": "2023-09-14T20:52:59.910Z"
   },
   {
    "duration": 254,
    "start_time": "2023-09-14T20:52:59.926Z"
   },
   {
    "duration": 3,
    "start_time": "2023-09-14T20:53:00.182Z"
   },
   {
    "duration": 37,
    "start_time": "2023-09-14T20:53:00.186Z"
   },
   {
    "duration": 80,
    "start_time": "2023-09-14T20:53:00.225Z"
   },
   {
    "duration": 43,
    "start_time": "2023-09-14T20:53:00.307Z"
   },
   {
    "duration": 47,
    "start_time": "2023-09-14T20:53:00.352Z"
   },
   {
    "duration": 2744,
    "start_time": "2023-09-14T20:53:00.401Z"
   },
   {
    "duration": 3,
    "start_time": "2023-09-14T20:53:03.146Z"
   },
   {
    "duration": 16,
    "start_time": "2023-09-14T20:53:03.151Z"
   },
   {
    "duration": 5,
    "start_time": "2023-09-14T20:53:03.169Z"
   },
   {
    "duration": 71,
    "start_time": "2023-09-14T20:53:03.175Z"
   },
   {
    "duration": 14,
    "start_time": "2023-09-14T20:53:03.248Z"
   },
   {
    "duration": 13,
    "start_time": "2023-09-14T20:53:03.263Z"
   },
   {
    "duration": 16,
    "start_time": "2023-09-14T20:53:03.278Z"
   },
   {
    "duration": 21,
    "start_time": "2023-09-14T20:53:03.296Z"
   },
   {
    "duration": 135331,
    "start_time": "2023-09-14T20:53:03.318Z"
   },
   {
    "duration": 23416,
    "start_time": "2023-09-14T20:55:18.652Z"
   },
   {
    "duration": 131480,
    "start_time": "2023-09-14T20:55:42.070Z"
   },
   {
    "duration": 1449,
    "start_time": "2023-09-14T21:03:23.269Z"
   },
   {
    "duration": 847,
    "start_time": "2023-09-14T21:03:24.720Z"
   },
   {
    "duration": 16,
    "start_time": "2023-09-14T21:03:25.569Z"
   },
   {
    "duration": 12,
    "start_time": "2023-09-14T21:03:25.586Z"
   },
   {
    "duration": 24,
    "start_time": "2023-09-14T21:03:25.599Z"
   },
   {
    "duration": 24,
    "start_time": "2023-09-14T21:03:25.624Z"
   },
   {
    "duration": 2,
    "start_time": "2023-09-14T21:03:25.650Z"
   },
   {
    "duration": 13,
    "start_time": "2023-09-14T21:03:25.654Z"
   },
   {
    "duration": 12,
    "start_time": "2023-09-14T21:03:25.668Z"
   },
   {
    "duration": 7,
    "start_time": "2023-09-14T21:03:25.682Z"
   },
   {
    "duration": 19,
    "start_time": "2023-09-14T21:03:25.690Z"
   },
   {
    "duration": 24,
    "start_time": "2023-09-14T21:03:25.710Z"
   },
   {
    "duration": 13,
    "start_time": "2023-09-14T21:03:25.736Z"
   },
   {
    "duration": 6,
    "start_time": "2023-09-14T21:03:25.751Z"
   },
   {
    "duration": 21,
    "start_time": "2023-09-14T21:03:25.759Z"
   },
   {
    "duration": 30,
    "start_time": "2023-09-14T21:03:25.781Z"
   },
   {
    "duration": 31,
    "start_time": "2023-09-14T21:03:25.813Z"
   },
   {
    "duration": 29,
    "start_time": "2023-09-14T21:03:25.846Z"
   },
   {
    "duration": 10,
    "start_time": "2023-09-14T21:03:25.877Z"
   },
   {
    "duration": 21,
    "start_time": "2023-09-14T21:03:25.889Z"
   },
   {
    "duration": 26,
    "start_time": "2023-09-14T21:03:25.912Z"
   },
   {
    "duration": 227,
    "start_time": "2023-09-14T21:03:25.940Z"
   },
   {
    "duration": 21,
    "start_time": "2023-09-14T21:03:26.168Z"
   },
   {
    "duration": 10,
    "start_time": "2023-09-14T21:03:26.191Z"
   },
   {
    "duration": 260,
    "start_time": "2023-09-14T21:03:26.202Z"
   },
   {
    "duration": 22,
    "start_time": "2023-09-14T21:03:26.464Z"
   },
   {
    "duration": 9,
    "start_time": "2023-09-14T21:03:26.488Z"
   },
   {
    "duration": 243,
    "start_time": "2023-09-14T21:03:26.501Z"
   },
   {
    "duration": 18,
    "start_time": "2023-09-14T21:03:26.746Z"
   },
   {
    "duration": 8,
    "start_time": "2023-09-14T21:03:26.766Z"
   },
   {
    "duration": 348,
    "start_time": "2023-09-14T21:03:26.775Z"
   },
   {
    "duration": 27,
    "start_time": "2023-09-14T21:03:27.124Z"
   },
   {
    "duration": 270,
    "start_time": "2023-09-14T21:03:27.153Z"
   },
   {
    "duration": 264,
    "start_time": "2023-09-14T21:03:27.425Z"
   },
   {
    "duration": 246,
    "start_time": "2023-09-14T21:03:27.691Z"
   },
   {
    "duration": 242,
    "start_time": "2023-09-14T21:03:27.939Z"
   },
   {
    "duration": 428,
    "start_time": "2023-09-14T21:03:28.183Z"
   },
   {
    "duration": 8,
    "start_time": "2023-09-14T21:03:28.613Z"
   },
   {
    "duration": 21,
    "start_time": "2023-09-14T21:03:28.623Z"
   },
   {
    "duration": 5,
    "start_time": "2023-09-14T21:03:28.645Z"
   },
   {
    "duration": 9,
    "start_time": "2023-09-14T21:03:28.652Z"
   },
   {
    "duration": 4,
    "start_time": "2023-09-14T21:03:28.663Z"
   },
   {
    "duration": 9,
    "start_time": "2023-09-14T21:03:28.669Z"
   },
   {
    "duration": 261,
    "start_time": "2023-09-14T21:03:28.680Z"
   },
   {
    "duration": 3,
    "start_time": "2023-09-14T21:03:28.944Z"
   },
   {
    "duration": 10,
    "start_time": "2023-09-14T21:03:28.948Z"
   },
   {
    "duration": 21,
    "start_time": "2023-09-14T21:03:28.959Z"
   },
   {
    "duration": 9,
    "start_time": "2023-09-14T21:03:28.982Z"
   },
   {
    "duration": 14,
    "start_time": "2023-09-14T21:03:28.993Z"
   },
   {
    "duration": 2642,
    "start_time": "2023-09-14T21:03:29.009Z"
   },
   {
    "duration": 3,
    "start_time": "2023-09-14T21:03:31.653Z"
   },
   {
    "duration": 229,
    "start_time": "2023-09-14T21:03:31.658Z"
   },
   {
    "duration": 0,
    "start_time": "2023-09-14T21:03:31.888Z"
   },
   {
    "duration": 0,
    "start_time": "2023-09-14T21:03:31.890Z"
   },
   {
    "duration": 0,
    "start_time": "2023-09-14T21:03:31.891Z"
   },
   {
    "duration": 0,
    "start_time": "2023-09-14T21:03:31.892Z"
   },
   {
    "duration": 0,
    "start_time": "2023-09-14T21:03:31.893Z"
   },
   {
    "duration": 1,
    "start_time": "2023-09-14T21:03:31.893Z"
   },
   {
    "duration": 0,
    "start_time": "2023-09-14T21:03:31.895Z"
   },
   {
    "duration": 0,
    "start_time": "2023-09-14T21:03:31.896Z"
   },
   {
    "duration": 0,
    "start_time": "2023-09-14T21:03:31.897Z"
   },
   {
    "duration": 0,
    "start_time": "2023-09-14T21:03:31.898Z"
   },
   {
    "duration": 0,
    "start_time": "2023-09-14T21:03:31.898Z"
   },
   {
    "duration": 0,
    "start_time": "2023-09-14T21:03:31.899Z"
   },
   {
    "duration": 0,
    "start_time": "2023-09-14T21:03:31.900Z"
   },
   {
    "duration": 0,
    "start_time": "2023-09-14T21:03:31.901Z"
   },
   {
    "duration": 0,
    "start_time": "2023-09-14T21:03:31.902Z"
   },
   {
    "duration": 0,
    "start_time": "2023-09-14T21:03:31.903Z"
   },
   {
    "duration": 0,
    "start_time": "2023-09-14T21:03:31.904Z"
   },
   {
    "duration": 0,
    "start_time": "2023-09-14T21:03:31.905Z"
   },
   {
    "duration": 0,
    "start_time": "2023-09-14T21:03:31.906Z"
   },
   {
    "duration": 0,
    "start_time": "2023-09-14T21:03:31.907Z"
   },
   {
    "duration": 3,
    "start_time": "2023-09-14T21:03:49.476Z"
   },
   {
    "duration": 3,
    "start_time": "2023-09-14T21:03:51.484Z"
   },
   {
    "duration": 4,
    "start_time": "2023-09-14T21:03:53.415Z"
   },
   {
    "duration": 4,
    "start_time": "2023-09-14T21:03:54.064Z"
   },
   {
    "duration": 4,
    "start_time": "2023-09-14T21:03:54.720Z"
   },
   {
    "duration": 3,
    "start_time": "2023-09-14T21:03:56.147Z"
   },
   {
    "duration": 3,
    "start_time": "2023-09-14T21:03:56.840Z"
   },
   {
    "duration": 120287,
    "start_time": "2023-09-14T21:03:57.666Z"
   },
   {
    "duration": 241157,
    "start_time": "2023-09-14T21:09:54.638Z"
   },
   {
    "duration": 117051,
    "start_time": "2023-09-14T21:13:55.797Z"
   },
   {
    "duration": 1438,
    "start_time": "2023-09-14T21:27:05.803Z"
   },
   {
    "duration": 841,
    "start_time": "2023-09-14T21:27:07.243Z"
   },
   {
    "duration": 16,
    "start_time": "2023-09-14T21:27:08.085Z"
   },
   {
    "duration": 12,
    "start_time": "2023-09-14T21:27:08.104Z"
   },
   {
    "duration": 37,
    "start_time": "2023-09-14T21:27:08.118Z"
   },
   {
    "duration": 12,
    "start_time": "2023-09-14T21:27:08.156Z"
   },
   {
    "duration": 12,
    "start_time": "2023-09-14T21:27:08.169Z"
   },
   {
    "duration": 5,
    "start_time": "2023-09-14T21:27:08.182Z"
   },
   {
    "duration": 7,
    "start_time": "2023-09-14T21:27:08.188Z"
   },
   {
    "duration": 4,
    "start_time": "2023-09-14T21:27:08.197Z"
   },
   {
    "duration": 14,
    "start_time": "2023-09-14T21:27:08.203Z"
   },
   {
    "duration": 12,
    "start_time": "2023-09-14T21:27:08.218Z"
   },
   {
    "duration": 5,
    "start_time": "2023-09-14T21:27:08.231Z"
   },
   {
    "duration": 4,
    "start_time": "2023-09-14T21:27:08.244Z"
   },
   {
    "duration": 7,
    "start_time": "2023-09-14T21:27:08.250Z"
   },
   {
    "duration": 14,
    "start_time": "2023-09-14T21:27:08.258Z"
   },
   {
    "duration": 12,
    "start_time": "2023-09-14T21:27:08.273Z"
   },
   {
    "duration": 21,
    "start_time": "2023-09-14T21:27:08.287Z"
   },
   {
    "duration": 41,
    "start_time": "2023-09-14T21:27:08.309Z"
   },
   {
    "duration": 7,
    "start_time": "2023-09-14T21:27:08.352Z"
   },
   {
    "duration": 14,
    "start_time": "2023-09-14T21:27:08.360Z"
   },
   {
    "duration": 239,
    "start_time": "2023-09-14T21:27:08.376Z"
   },
   {
    "duration": 28,
    "start_time": "2023-09-14T21:27:08.616Z"
   },
   {
    "duration": 11,
    "start_time": "2023-09-14T21:27:08.645Z"
   },
   {
    "duration": 248,
    "start_time": "2023-09-14T21:27:08.657Z"
   },
   {
    "duration": 19,
    "start_time": "2023-09-14T21:27:08.907Z"
   },
   {
    "duration": 36,
    "start_time": "2023-09-14T21:27:08.927Z"
   },
   {
    "duration": 260,
    "start_time": "2023-09-14T21:27:08.969Z"
   },
   {
    "duration": 24,
    "start_time": "2023-09-14T21:27:09.231Z"
   },
   {
    "duration": 9,
    "start_time": "2023-09-14T21:27:09.256Z"
   },
   {
    "duration": 314,
    "start_time": "2023-09-14T21:27:09.266Z"
   },
   {
    "duration": 17,
    "start_time": "2023-09-14T21:27:09.582Z"
   },
   {
    "duration": 263,
    "start_time": "2023-09-14T21:27:09.601Z"
   },
   {
    "duration": 253,
    "start_time": "2023-09-14T21:27:09.865Z"
   },
   {
    "duration": 249,
    "start_time": "2023-09-14T21:27:10.119Z"
   },
   {
    "duration": 250,
    "start_time": "2023-09-14T21:27:10.370Z"
   },
   {
    "duration": 434,
    "start_time": "2023-09-14T21:27:10.621Z"
   },
   {
    "duration": 7,
    "start_time": "2023-09-14T21:27:11.057Z"
   },
   {
    "duration": 19,
    "start_time": "2023-09-14T21:27:11.066Z"
   },
   {
    "duration": 17,
    "start_time": "2023-09-14T21:27:11.087Z"
   },
   {
    "duration": 36,
    "start_time": "2023-09-14T21:27:11.106Z"
   },
   {
    "duration": 24,
    "start_time": "2023-09-14T21:27:11.144Z"
   },
   {
    "duration": 18,
    "start_time": "2023-09-14T21:27:11.170Z"
   },
   {
    "duration": 246,
    "start_time": "2023-09-14T21:27:11.190Z"
   },
   {
    "duration": 6,
    "start_time": "2023-09-14T21:27:11.438Z"
   },
   {
    "duration": 5,
    "start_time": "2023-09-14T21:27:11.445Z"
   },
   {
    "duration": 29,
    "start_time": "2023-09-14T21:27:11.451Z"
   },
   {
    "duration": 25,
    "start_time": "2023-09-14T21:27:11.481Z"
   },
   {
    "duration": 15,
    "start_time": "2023-09-14T21:27:11.508Z"
   },
   {
    "duration": 2521,
    "start_time": "2023-09-14T21:27:11.525Z"
   },
   {
    "duration": 2,
    "start_time": "2023-09-14T21:27:14.047Z"
   },
   {
    "duration": 7,
    "start_time": "2023-09-14T21:27:14.051Z"
   },
   {
    "duration": 10,
    "start_time": "2023-09-14T21:27:14.059Z"
   },
   {
    "duration": 13,
    "start_time": "2023-09-14T21:27:14.070Z"
   },
   {
    "duration": 15,
    "start_time": "2023-09-14T21:27:14.084Z"
   },
   {
    "duration": 12,
    "start_time": "2023-09-14T21:27:14.100Z"
   },
   {
    "duration": 6,
    "start_time": "2023-09-14T21:27:14.114Z"
   },
   {
    "duration": 13,
    "start_time": "2023-09-14T21:27:14.122Z"
   },
   {
    "duration": 118908,
    "start_time": "2023-09-14T21:27:14.136Z"
   },
   {
    "duration": 113212,
    "start_time": "2023-09-14T21:29:13.046Z"
   },
   {
    "duration": 120293,
    "start_time": "2023-09-14T21:31:06.260Z"
   },
   {
    "duration": 1416,
    "start_time": "2023-09-14T21:50:27.313Z"
   },
   {
    "duration": 850,
    "start_time": "2023-09-14T21:50:28.731Z"
   },
   {
    "duration": 16,
    "start_time": "2023-09-14T21:50:29.583Z"
   },
   {
    "duration": 11,
    "start_time": "2023-09-14T21:50:29.601Z"
   },
   {
    "duration": 34,
    "start_time": "2023-09-14T21:50:29.614Z"
   },
   {
    "duration": 37,
    "start_time": "2023-09-14T21:50:29.649Z"
   },
   {
    "duration": 22,
    "start_time": "2023-09-14T21:50:29.688Z"
   },
   {
    "duration": 27,
    "start_time": "2023-09-14T21:50:29.711Z"
   },
   {
    "duration": 16,
    "start_time": "2023-09-14T21:50:29.740Z"
   },
   {
    "duration": 13,
    "start_time": "2023-09-14T21:50:29.758Z"
   },
   {
    "duration": 12,
    "start_time": "2023-09-14T21:50:29.773Z"
   },
   {
    "duration": 13,
    "start_time": "2023-09-14T21:50:29.786Z"
   },
   {
    "duration": 4,
    "start_time": "2023-09-14T21:50:29.801Z"
   },
   {
    "duration": 18,
    "start_time": "2023-09-14T21:50:29.806Z"
   },
   {
    "duration": 7,
    "start_time": "2023-09-14T21:50:29.826Z"
   },
   {
    "duration": 22,
    "start_time": "2023-09-14T21:50:29.835Z"
   },
   {
    "duration": 29,
    "start_time": "2023-09-14T21:50:29.859Z"
   },
   {
    "duration": 26,
    "start_time": "2023-09-14T21:50:29.891Z"
   },
   {
    "duration": 10,
    "start_time": "2023-09-14T21:50:29.918Z"
   },
   {
    "duration": 12,
    "start_time": "2023-09-14T21:50:29.930Z"
   },
   {
    "duration": 15,
    "start_time": "2023-09-14T21:50:29.944Z"
   },
   {
    "duration": 241,
    "start_time": "2023-09-14T21:50:29.961Z"
   },
   {
    "duration": 19,
    "start_time": "2023-09-14T21:50:30.203Z"
   },
   {
    "duration": 40,
    "start_time": "2023-09-14T21:50:30.224Z"
   },
   {
    "duration": 292,
    "start_time": "2023-09-14T21:50:30.266Z"
   },
   {
    "duration": 21,
    "start_time": "2023-09-14T21:50:30.560Z"
   },
   {
    "duration": 23,
    "start_time": "2023-09-14T21:50:30.583Z"
   },
   {
    "duration": 238,
    "start_time": "2023-09-14T21:50:30.611Z"
   },
   {
    "duration": 19,
    "start_time": "2023-09-14T21:50:30.851Z"
   },
   {
    "duration": 28,
    "start_time": "2023-09-14T21:50:30.871Z"
   },
   {
    "duration": 354,
    "start_time": "2023-09-14T21:50:30.901Z"
   },
   {
    "duration": 16,
    "start_time": "2023-09-14T21:50:31.257Z"
   },
   {
    "duration": 255,
    "start_time": "2023-09-14T21:50:31.274Z"
   },
   {
    "duration": 272,
    "start_time": "2023-09-14T21:50:31.531Z"
   },
   {
    "duration": 243,
    "start_time": "2023-09-14T21:50:31.804Z"
   },
   {
    "duration": 276,
    "start_time": "2023-09-14T21:50:32.049Z"
   },
   {
    "duration": 424,
    "start_time": "2023-09-14T21:50:32.327Z"
   },
   {
    "duration": 9,
    "start_time": "2023-09-14T21:50:32.752Z"
   },
   {
    "duration": 19,
    "start_time": "2023-09-14T21:50:32.762Z"
   },
   {
    "duration": 11,
    "start_time": "2023-09-14T21:50:32.782Z"
   },
   {
    "duration": 17,
    "start_time": "2023-09-14T21:50:32.794Z"
   },
   {
    "duration": 13,
    "start_time": "2023-09-14T21:50:32.813Z"
   },
   {
    "duration": 13,
    "start_time": "2023-09-14T21:50:32.827Z"
   },
   {
    "duration": 252,
    "start_time": "2023-09-14T21:50:32.841Z"
   },
   {
    "duration": 3,
    "start_time": "2023-09-14T21:50:33.095Z"
   },
   {
    "duration": 12,
    "start_time": "2023-09-14T21:50:33.100Z"
   },
   {
    "duration": 16,
    "start_time": "2023-09-14T21:50:33.114Z"
   },
   {
    "duration": 13,
    "start_time": "2023-09-14T21:50:33.132Z"
   },
   {
    "duration": 11,
    "start_time": "2023-09-14T21:50:33.146Z"
   },
   {
    "duration": 2695,
    "start_time": "2023-09-14T21:50:33.158Z"
   },
   {
    "duration": 3,
    "start_time": "2023-09-14T21:50:35.855Z"
   },
   {
    "duration": 6,
    "start_time": "2023-09-14T21:50:35.945Z"
   },
   {
    "duration": 10,
    "start_time": "2023-09-14T21:50:35.952Z"
   },
   {
    "duration": 10,
    "start_time": "2023-09-14T21:50:35.964Z"
   },
   {
    "duration": 17,
    "start_time": "2023-09-14T21:50:35.975Z"
   },
   {
    "duration": 15,
    "start_time": "2023-09-14T21:50:35.994Z"
   },
   {
    "duration": 11,
    "start_time": "2023-09-14T21:50:36.011Z"
   },
   {
    "duration": 31,
    "start_time": "2023-09-14T21:50:36.024Z"
   },
   {
    "duration": 125993,
    "start_time": "2023-09-14T21:50:36.057Z"
   },
   {
    "duration": 16966,
    "start_time": "2023-09-14T21:52:42.053Z"
   },
   {
    "duration": 135042,
    "start_time": "2023-09-14T21:52:59.020Z"
   },
   {
    "duration": 50770,
    "start_time": "2023-09-14T21:55:14.143Z"
   },
   {
    "duration": 52449,
    "start_time": "2023-09-14T21:56:04.915Z"
   },
   {
    "duration": 6,
    "start_time": "2023-09-14T21:56:57.366Z"
   },
   {
    "duration": 35,
    "start_time": "2023-09-14T21:56:57.374Z"
   },
   {
    "duration": 13,
    "start_time": "2023-09-14T21:56:57.411Z"
   },
   {
    "duration": 19,
    "start_time": "2023-09-14T21:56:57.426Z"
   },
   {
    "duration": 106,
    "start_time": "2023-09-14T21:56:57.446Z"
   },
   {
    "duration": 189,
    "start_time": "2023-09-14T21:56:57.555Z"
   },
   {
    "duration": 12,
    "start_time": "2023-09-14T21:56:57.746Z"
   },
   {
    "duration": 7,
    "start_time": "2023-09-14T21:56:57.760Z"
   },
   {
    "duration": 4,
    "start_time": "2023-09-14T21:56:57.768Z"
   },
   {
    "duration": 76,
    "start_time": "2023-09-14T22:06:23.822Z"
   },
   {
    "duration": 107,
    "start_time": "2023-09-14T22:06:54.101Z"
   },
   {
    "duration": 13,
    "start_time": "2023-09-14T22:07:17.836Z"
   },
   {
    "duration": 5,
    "start_time": "2023-09-14T22:08:22.094Z"
   },
   {
    "duration": 83,
    "start_time": "2023-09-14T22:09:47.094Z"
   },
   {
    "duration": 6,
    "start_time": "2023-09-14T22:09:55.582Z"
   },
   {
    "duration": 10,
    "start_time": "2023-09-14T22:13:08.523Z"
   },
   {
    "duration": 7,
    "start_time": "2023-09-14T22:13:09.464Z"
   },
   {
    "duration": 5,
    "start_time": "2023-09-14T22:18:13.751Z"
   },
   {
    "duration": 6,
    "start_time": "2023-09-14T22:18:29.795Z"
   },
   {
    "duration": 63,
    "start_time": "2023-09-15T22:01:02.527Z"
   },
   {
    "duration": 1833,
    "start_time": "2023-09-15T22:01:10.947Z"
   },
   {
    "duration": 3039,
    "start_time": "2023-09-15T22:01:12.782Z"
   },
   {
    "duration": 17,
    "start_time": "2023-09-15T22:01:15.823Z"
   },
   {
    "duration": 33,
    "start_time": "2023-09-15T22:01:15.842Z"
   },
   {
    "duration": 17,
    "start_time": "2023-09-15T22:01:15.879Z"
   },
   {
    "duration": 11,
    "start_time": "2023-09-15T22:01:15.897Z"
   },
   {
    "duration": 2,
    "start_time": "2023-09-15T22:01:15.910Z"
   },
   {
    "duration": 9,
    "start_time": "2023-09-15T22:01:15.913Z"
   },
   {
    "duration": 11,
    "start_time": "2023-09-15T22:01:15.923Z"
   },
   {
    "duration": 8,
    "start_time": "2023-09-15T22:01:15.935Z"
   },
   {
    "duration": 7,
    "start_time": "2023-09-15T22:01:15.952Z"
   },
   {
    "duration": 12,
    "start_time": "2023-09-15T22:01:15.961Z"
   },
   {
    "duration": 5,
    "start_time": "2023-09-15T22:01:15.976Z"
   },
   {
    "duration": 5,
    "start_time": "2023-09-15T22:01:15.983Z"
   },
   {
    "duration": 12,
    "start_time": "2023-09-15T22:01:15.990Z"
   },
   {
    "duration": 44,
    "start_time": "2023-09-15T22:01:16.004Z"
   },
   {
    "duration": 25,
    "start_time": "2023-09-15T22:01:16.051Z"
   },
   {
    "duration": 27,
    "start_time": "2023-09-15T22:01:16.078Z"
   },
   {
    "duration": 10,
    "start_time": "2023-09-15T22:01:16.107Z"
   },
   {
    "duration": 13,
    "start_time": "2023-09-15T22:01:16.119Z"
   },
   {
    "duration": 27,
    "start_time": "2023-09-15T22:01:16.133Z"
   },
   {
    "duration": 270,
    "start_time": "2023-09-15T22:01:16.163Z"
   },
   {
    "duration": 39,
    "start_time": "2023-09-15T22:01:16.434Z"
   },
   {
    "duration": 9,
    "start_time": "2023-09-15T22:01:16.476Z"
   },
   {
    "duration": 261,
    "start_time": "2023-09-15T22:01:16.487Z"
   },
   {
    "duration": 30,
    "start_time": "2023-09-15T22:01:16.750Z"
   },
   {
    "duration": 22,
    "start_time": "2023-09-15T22:01:16.782Z"
   },
   {
    "duration": 281,
    "start_time": "2023-09-15T22:01:16.805Z"
   },
   {
    "duration": 22,
    "start_time": "2023-09-15T22:01:17.090Z"
   },
   {
    "duration": 9,
    "start_time": "2023-09-15T22:01:17.114Z"
   },
   {
    "duration": 332,
    "start_time": "2023-09-15T22:01:17.125Z"
   },
   {
    "duration": 20,
    "start_time": "2023-09-15T22:01:17.465Z"
   },
   {
    "duration": 284,
    "start_time": "2023-09-15T22:01:17.487Z"
   },
   {
    "duration": 266,
    "start_time": "2023-09-15T22:01:17.776Z"
   },
   {
    "duration": 274,
    "start_time": "2023-09-15T22:01:18.044Z"
   },
   {
    "duration": 270,
    "start_time": "2023-09-15T22:01:18.320Z"
   },
   {
    "duration": 487,
    "start_time": "2023-09-15T22:01:18.592Z"
   },
   {
    "duration": 9,
    "start_time": "2023-09-15T22:01:19.081Z"
   },
   {
    "duration": 22,
    "start_time": "2023-09-15T22:01:19.091Z"
   },
   {
    "duration": 23,
    "start_time": "2023-09-15T22:01:19.115Z"
   },
   {
    "duration": 28,
    "start_time": "2023-09-15T22:01:19.143Z"
   },
   {
    "duration": 11,
    "start_time": "2023-09-15T22:01:19.174Z"
   },
   {
    "duration": 49,
    "start_time": "2023-09-15T22:01:19.186Z"
   },
   {
    "duration": 326,
    "start_time": "2023-09-15T22:01:19.238Z"
   },
   {
    "duration": 5,
    "start_time": "2023-09-15T22:01:19.569Z"
   },
   {
    "duration": 32,
    "start_time": "2023-09-15T22:01:19.579Z"
   },
   {
    "duration": 56,
    "start_time": "2023-09-15T22:01:19.614Z"
   },
   {
    "duration": 30,
    "start_time": "2023-09-15T22:01:19.672Z"
   },
   {
    "duration": 27,
    "start_time": "2023-09-15T22:01:19.704Z"
   },
   {
    "duration": 5442,
    "start_time": "2023-09-15T22:01:19.734Z"
   },
   {
    "duration": 3,
    "start_time": "2023-09-15T22:01:25.178Z"
   },
   {
    "duration": 17,
    "start_time": "2023-09-15T22:01:25.183Z"
   },
   {
    "duration": 6,
    "start_time": "2023-09-15T22:01:25.244Z"
   },
   {
    "duration": 22,
    "start_time": "2023-09-15T22:01:25.253Z"
   },
   {
    "duration": 9,
    "start_time": "2023-09-15T22:01:25.280Z"
   },
   {
    "duration": 19,
    "start_time": "2023-09-15T22:01:25.291Z"
   },
   {
    "duration": 11,
    "start_time": "2023-09-15T22:01:25.311Z"
   },
   {
    "duration": 30,
    "start_time": "2023-09-15T22:01:25.324Z"
   },
   {
    "duration": 136600,
    "start_time": "2023-09-15T22:01:25.356Z"
   },
   {
    "duration": 18065,
    "start_time": "2023-09-15T22:03:41.966Z"
   },
   {
    "duration": 135327,
    "start_time": "2023-09-15T22:04:00.033Z"
   },
   {
    "duration": 55058,
    "start_time": "2023-09-15T22:06:15.362Z"
   },
   {
    "duration": 57288,
    "start_time": "2023-09-15T22:07:10.422Z"
   },
   {
    "duration": 5,
    "start_time": "2023-09-15T22:08:07.712Z"
   },
   {
    "duration": 60,
    "start_time": "2023-09-15T22:08:07.719Z"
   },
   {
    "duration": 7,
    "start_time": "2023-09-15T22:08:07.781Z"
   },
   {
    "duration": 19,
    "start_time": "2023-09-15T22:08:07.790Z"
   },
   {
    "duration": 17,
    "start_time": "2023-09-15T22:08:07.811Z"
   },
   {
    "duration": 26,
    "start_time": "2023-09-15T22:08:07.830Z"
   },
   {
    "duration": 95,
    "start_time": "2023-09-15T22:08:07.857Z"
   },
   {
    "duration": 103,
    "start_time": "2023-09-15T22:08:07.955Z"
   },
   {
    "duration": 16,
    "start_time": "2023-09-15T22:08:08.064Z"
   },
   {
    "duration": 18,
    "start_time": "2023-09-15T22:08:08.082Z"
   },
   {
    "duration": 8,
    "start_time": "2023-09-15T22:08:08.150Z"
   },
   {
    "duration": 13,
    "start_time": "2023-09-15T22:15:47.756Z"
   },
   {
    "duration": 10,
    "start_time": "2023-09-15T22:22:40.936Z"
   },
   {
    "duration": 10,
    "start_time": "2023-09-15T22:23:55.906Z"
   },
   {
    "duration": 9,
    "start_time": "2023-09-15T22:25:34.193Z"
   },
   {
    "duration": 38,
    "start_time": "2023-09-15T22:26:50.438Z"
   },
   {
    "duration": 162,
    "start_time": "2023-09-15T22:29:39.197Z"
   },
   {
    "duration": 12,
    "start_time": "2023-09-15T22:30:00.997Z"
   },
   {
    "duration": 13,
    "start_time": "2023-09-15T22:30:19.508Z"
   },
   {
    "duration": 20,
    "start_time": "2023-09-15T22:30:24.582Z"
   },
   {
    "duration": 17,
    "start_time": "2023-09-15T22:30:36.178Z"
   },
   {
    "duration": 1671,
    "start_time": "2023-09-15T22:31:33.216Z"
   },
   {
    "duration": 987,
    "start_time": "2023-09-15T22:31:34.890Z"
   },
   {
    "duration": 20,
    "start_time": "2023-09-15T22:31:35.880Z"
   },
   {
    "duration": 13,
    "start_time": "2023-09-15T22:31:35.902Z"
   },
   {
    "duration": 29,
    "start_time": "2023-09-15T22:31:35.917Z"
   },
   {
    "duration": 13,
    "start_time": "2023-09-15T22:31:35.947Z"
   },
   {
    "duration": 20,
    "start_time": "2023-09-15T22:31:35.962Z"
   },
   {
    "duration": 19,
    "start_time": "2023-09-15T22:31:35.983Z"
   },
   {
    "duration": 10,
    "start_time": "2023-09-15T22:31:36.004Z"
   },
   {
    "duration": 31,
    "start_time": "2023-09-15T22:31:36.017Z"
   },
   {
    "duration": 19,
    "start_time": "2023-09-15T22:31:36.049Z"
   },
   {
    "duration": 10,
    "start_time": "2023-09-15T22:31:36.070Z"
   },
   {
    "duration": 12,
    "start_time": "2023-09-15T22:31:36.082Z"
   },
   {
    "duration": 23,
    "start_time": "2023-09-15T22:31:36.096Z"
   },
   {
    "duration": 8,
    "start_time": "2023-09-15T22:31:36.120Z"
   },
   {
    "duration": 32,
    "start_time": "2023-09-15T22:31:36.129Z"
   },
   {
    "duration": 21,
    "start_time": "2023-09-15T22:31:36.166Z"
   },
   {
    "duration": 22,
    "start_time": "2023-09-15T22:31:36.189Z"
   },
   {
    "duration": 10,
    "start_time": "2023-09-15T22:31:36.213Z"
   },
   {
    "duration": 9,
    "start_time": "2023-09-15T22:31:36.225Z"
   },
   {
    "duration": 25,
    "start_time": "2023-09-15T22:31:36.250Z"
   },
   {
    "duration": 307,
    "start_time": "2023-09-15T22:31:36.276Z"
   },
   {
    "duration": 22,
    "start_time": "2023-09-15T22:31:36.585Z"
   },
   {
    "duration": 10,
    "start_time": "2023-09-15T22:31:36.608Z"
   },
   {
    "duration": 282,
    "start_time": "2023-09-15T22:31:36.620Z"
   },
   {
    "duration": 19,
    "start_time": "2023-09-15T22:31:36.904Z"
   },
   {
    "duration": 37,
    "start_time": "2023-09-15T22:31:36.925Z"
   },
   {
    "duration": 316,
    "start_time": "2023-09-15T22:31:36.968Z"
   },
   {
    "duration": 21,
    "start_time": "2023-09-15T22:31:37.286Z"
   },
   {
    "duration": 15,
    "start_time": "2023-09-15T22:31:37.310Z"
   },
   {
    "duration": 378,
    "start_time": "2023-09-15T22:31:37.351Z"
   },
   {
    "duration": 43,
    "start_time": "2023-09-15T22:31:37.730Z"
   },
   {
    "duration": 280,
    "start_time": "2023-09-15T22:31:37.779Z"
   },
   {
    "duration": 280,
    "start_time": "2023-09-15T22:31:38.066Z"
   },
   {
    "duration": 349,
    "start_time": "2023-09-15T22:31:38.354Z"
   },
   {
    "duration": 299,
    "start_time": "2023-09-15T22:31:38.705Z"
   },
   {
    "duration": 686,
    "start_time": "2023-09-15T22:31:39.008Z"
   },
   {
    "duration": 8,
    "start_time": "2023-09-15T22:31:39.696Z"
   },
   {
    "duration": 12,
    "start_time": "2023-09-15T22:31:39.706Z"
   },
   {
    "duration": 7,
    "start_time": "2023-09-15T22:31:39.720Z"
   },
   {
    "duration": 27,
    "start_time": "2023-09-15T22:31:39.729Z"
   },
   {
    "duration": 15,
    "start_time": "2023-09-15T22:31:39.762Z"
   },
   {
    "duration": 18,
    "start_time": "2023-09-15T22:31:39.779Z"
   },
   {
    "duration": 281,
    "start_time": "2023-09-15T22:31:39.799Z"
   },
   {
    "duration": 4,
    "start_time": "2023-09-15T22:31:40.081Z"
   },
   {
    "duration": 25,
    "start_time": "2023-09-15T22:31:40.086Z"
   },
   {
    "duration": 20,
    "start_time": "2023-09-15T22:31:40.112Z"
   },
   {
    "duration": 11,
    "start_time": "2023-09-15T22:31:40.134Z"
   },
   {
    "duration": 22,
    "start_time": "2023-09-15T22:31:40.148Z"
   },
   {
    "duration": 5200,
    "start_time": "2023-09-15T22:31:40.173Z"
   },
   {
    "duration": 5,
    "start_time": "2023-09-15T22:31:45.381Z"
   },
   {
    "duration": 9,
    "start_time": "2023-09-15T22:31:45.447Z"
   },
   {
    "duration": 14,
    "start_time": "2023-09-15T22:31:45.465Z"
   },
   {
    "duration": 18,
    "start_time": "2023-09-15T22:31:45.481Z"
   },
   {
    "duration": 5,
    "start_time": "2023-09-15T22:31:45.502Z"
   },
   {
    "duration": 8,
    "start_time": "2023-09-15T22:31:45.509Z"
   },
   {
    "duration": 39,
    "start_time": "2023-09-15T22:31:45.520Z"
   },
   {
    "duration": 18,
    "start_time": "2023-09-15T22:31:45.562Z"
   },
   {
    "duration": 1515,
    "start_time": "2023-09-15T22:37:20.439Z"
   },
   {
    "duration": 975,
    "start_time": "2023-09-15T22:37:21.959Z"
   },
   {
    "duration": 21,
    "start_time": "2023-09-15T22:37:22.936Z"
   },
   {
    "duration": 48,
    "start_time": "2023-09-15T22:37:22.960Z"
   },
   {
    "duration": 66,
    "start_time": "2023-09-15T22:37:23.011Z"
   },
   {
    "duration": 25,
    "start_time": "2023-09-15T22:37:23.081Z"
   },
   {
    "duration": 24,
    "start_time": "2023-09-15T22:37:23.108Z"
   },
   {
    "duration": 39,
    "start_time": "2023-09-15T22:37:23.134Z"
   },
   {
    "duration": 38,
    "start_time": "2023-09-15T22:37:23.175Z"
   },
   {
    "duration": 37,
    "start_time": "2023-09-15T22:37:23.215Z"
   },
   {
    "duration": 20,
    "start_time": "2023-09-15T22:37:23.254Z"
   },
   {
    "duration": 23,
    "start_time": "2023-09-15T22:37:23.276Z"
   },
   {
    "duration": 35,
    "start_time": "2023-09-15T22:37:23.301Z"
   },
   {
    "duration": 45,
    "start_time": "2023-09-15T22:37:23.342Z"
   },
   {
    "duration": 35,
    "start_time": "2023-09-15T22:37:23.390Z"
   },
   {
    "duration": 61,
    "start_time": "2023-09-15T22:37:23.428Z"
   },
   {
    "duration": 22,
    "start_time": "2023-09-15T22:37:23.492Z"
   },
   {
    "duration": 71,
    "start_time": "2023-09-15T22:37:23.516Z"
   },
   {
    "duration": 9,
    "start_time": "2023-09-15T22:37:23.589Z"
   },
   {
    "duration": 25,
    "start_time": "2023-09-15T22:37:23.599Z"
   },
   {
    "duration": 19,
    "start_time": "2023-09-15T22:37:23.626Z"
   },
   {
    "duration": 295,
    "start_time": "2023-09-15T22:37:23.647Z"
   },
   {
    "duration": 31,
    "start_time": "2023-09-15T22:37:23.944Z"
   },
   {
    "duration": 18,
    "start_time": "2023-09-15T22:37:23.977Z"
   },
   {
    "duration": 302,
    "start_time": "2023-09-15T22:37:23.997Z"
   },
   {
    "duration": 19,
    "start_time": "2023-09-15T22:37:24.300Z"
   },
   {
    "duration": 7,
    "start_time": "2023-09-15T22:37:24.321Z"
   },
   {
    "duration": 280,
    "start_time": "2023-09-15T22:37:24.344Z"
   },
   {
    "duration": 33,
    "start_time": "2023-09-15T22:37:24.630Z"
   },
   {
    "duration": 11,
    "start_time": "2023-09-15T22:37:24.664Z"
   },
   {
    "duration": 340,
    "start_time": "2023-09-15T22:37:24.678Z"
   },
   {
    "duration": 38,
    "start_time": "2023-09-15T22:37:25.019Z"
   },
   {
    "duration": 258,
    "start_time": "2023-09-15T22:37:25.060Z"
   },
   {
    "duration": 278,
    "start_time": "2023-09-15T22:37:25.319Z"
   },
   {
    "duration": 282,
    "start_time": "2023-09-15T22:37:25.599Z"
   },
   {
    "duration": 257,
    "start_time": "2023-09-15T22:37:25.883Z"
   },
   {
    "duration": 476,
    "start_time": "2023-09-15T22:37:26.151Z"
   },
   {
    "duration": 17,
    "start_time": "2023-09-15T22:37:26.628Z"
   },
   {
    "duration": 56,
    "start_time": "2023-09-15T22:37:26.646Z"
   },
   {
    "duration": 53,
    "start_time": "2023-09-15T22:37:26.703Z"
   },
   {
    "duration": 13,
    "start_time": "2023-09-15T22:37:26.765Z"
   },
   {
    "duration": 7,
    "start_time": "2023-09-15T22:37:26.780Z"
   },
   {
    "duration": 21,
    "start_time": "2023-09-15T22:37:26.788Z"
   },
   {
    "duration": 271,
    "start_time": "2023-09-15T22:37:26.811Z"
   },
   {
    "duration": 4,
    "start_time": "2023-09-15T22:37:27.084Z"
   },
   {
    "duration": 18,
    "start_time": "2023-09-15T22:37:27.089Z"
   },
   {
    "duration": 24,
    "start_time": "2023-09-15T22:37:27.108Z"
   },
   {
    "duration": 30,
    "start_time": "2023-09-15T22:37:27.133Z"
   },
   {
    "duration": 17,
    "start_time": "2023-09-15T22:37:27.167Z"
   },
   {
    "duration": 4770,
    "start_time": "2023-09-15T22:37:27.186Z"
   },
   {
    "duration": 7,
    "start_time": "2023-09-15T22:37:31.973Z"
   },
   {
    "duration": 25,
    "start_time": "2023-09-15T22:37:32.044Z"
   },
   {
    "duration": 15,
    "start_time": "2023-09-15T22:37:32.072Z"
   },
   {
    "duration": 45,
    "start_time": "2023-09-15T22:37:32.089Z"
   },
   {
    "duration": 45,
    "start_time": "2023-09-15T22:37:32.136Z"
   },
   {
    "duration": 18,
    "start_time": "2023-09-15T22:37:32.183Z"
   },
   {
    "duration": 47,
    "start_time": "2023-09-15T22:37:32.202Z"
   },
   {
    "duration": 23,
    "start_time": "2023-09-15T22:37:32.251Z"
   },
   {
    "duration": 1461,
    "start_time": "2023-09-15T22:40:24.731Z"
   },
   {
    "duration": 900,
    "start_time": "2023-09-15T22:40:26.194Z"
   },
   {
    "duration": 16,
    "start_time": "2023-09-15T22:40:27.096Z"
   },
   {
    "duration": 17,
    "start_time": "2023-09-15T22:40:27.114Z"
   },
   {
    "duration": 33,
    "start_time": "2023-09-15T22:40:27.133Z"
   },
   {
    "duration": 12,
    "start_time": "2023-09-15T22:40:27.168Z"
   },
   {
    "duration": 9,
    "start_time": "2023-09-15T22:40:27.182Z"
   },
   {
    "duration": 10,
    "start_time": "2023-09-15T22:40:27.193Z"
   },
   {
    "duration": 22,
    "start_time": "2023-09-15T22:40:27.205Z"
   },
   {
    "duration": 22,
    "start_time": "2023-09-15T22:40:27.232Z"
   },
   {
    "duration": 20,
    "start_time": "2023-09-15T22:40:27.256Z"
   },
   {
    "duration": 31,
    "start_time": "2023-09-15T22:40:27.277Z"
   },
   {
    "duration": 25,
    "start_time": "2023-09-15T22:40:27.310Z"
   },
   {
    "duration": 28,
    "start_time": "2023-09-15T22:40:27.336Z"
   },
   {
    "duration": 34,
    "start_time": "2023-09-15T22:40:27.365Z"
   },
   {
    "duration": 49,
    "start_time": "2023-09-15T22:40:27.400Z"
   },
   {
    "duration": 25,
    "start_time": "2023-09-15T22:40:27.450Z"
   },
   {
    "duration": 43,
    "start_time": "2023-09-15T22:40:27.477Z"
   },
   {
    "duration": 17,
    "start_time": "2023-09-15T22:40:27.522Z"
   },
   {
    "duration": 22,
    "start_time": "2023-09-15T22:40:27.541Z"
   },
   {
    "duration": 24,
    "start_time": "2023-09-15T22:40:27.565Z"
   },
   {
    "duration": 264,
    "start_time": "2023-09-15T22:40:27.591Z"
   },
   {
    "duration": 22,
    "start_time": "2023-09-15T22:40:27.857Z"
   },
   {
    "duration": 42,
    "start_time": "2023-09-15T22:40:27.881Z"
   },
   {
    "duration": 288,
    "start_time": "2023-09-15T22:40:27.926Z"
   },
   {
    "duration": 35,
    "start_time": "2023-09-15T22:40:28.216Z"
   },
   {
    "duration": 17,
    "start_time": "2023-09-15T22:40:28.254Z"
   },
   {
    "duration": 254,
    "start_time": "2023-09-15T22:40:28.275Z"
   },
   {
    "duration": 27,
    "start_time": "2023-09-15T22:40:28.530Z"
   },
   {
    "duration": 13,
    "start_time": "2023-09-15T22:40:28.559Z"
   },
   {
    "duration": 327,
    "start_time": "2023-09-15T22:40:28.573Z"
   },
   {
    "duration": 17,
    "start_time": "2023-09-15T22:40:28.902Z"
   },
   {
    "duration": 287,
    "start_time": "2023-09-15T22:40:28.921Z"
   },
   {
    "duration": 263,
    "start_time": "2023-09-15T22:40:29.210Z"
   },
   {
    "duration": 288,
    "start_time": "2023-09-15T22:40:29.475Z"
   },
   {
    "duration": 303,
    "start_time": "2023-09-15T22:40:29.765Z"
   },
   {
    "duration": 454,
    "start_time": "2023-09-15T22:40:30.069Z"
   },
   {
    "duration": 9,
    "start_time": "2023-09-15T22:40:30.525Z"
   },
   {
    "duration": 34,
    "start_time": "2023-09-15T22:40:30.545Z"
   },
   {
    "duration": 54,
    "start_time": "2023-09-15T22:40:30.581Z"
   },
   {
    "duration": 64,
    "start_time": "2023-09-15T22:40:30.637Z"
   },
   {
    "duration": 35,
    "start_time": "2023-09-15T22:40:30.703Z"
   },
   {
    "duration": 75,
    "start_time": "2023-09-15T22:40:30.739Z"
   },
   {
    "duration": 284,
    "start_time": "2023-09-15T22:40:30.816Z"
   },
   {
    "duration": 4,
    "start_time": "2023-09-15T22:40:31.101Z"
   },
   {
    "duration": 33,
    "start_time": "2023-09-15T22:40:31.106Z"
   },
   {
    "duration": 47,
    "start_time": "2023-09-15T22:40:31.141Z"
   },
   {
    "duration": 24,
    "start_time": "2023-09-15T22:40:31.191Z"
   },
   {
    "duration": 23,
    "start_time": "2023-09-15T22:40:31.217Z"
   },
   {
    "duration": 3217,
    "start_time": "2023-09-15T22:40:31.242Z"
   },
   {
    "duration": 3,
    "start_time": "2023-09-15T22:40:34.461Z"
   },
   {
    "duration": 11,
    "start_time": "2023-09-15T22:40:34.465Z"
   },
   {
    "duration": 31,
    "start_time": "2023-09-15T22:40:34.478Z"
   },
   {
    "duration": 14,
    "start_time": "2023-09-15T22:40:34.511Z"
   },
   {
    "duration": 5,
    "start_time": "2023-09-15T22:40:34.527Z"
   },
   {
    "duration": 18,
    "start_time": "2023-09-15T22:40:34.534Z"
   },
   {
    "duration": 12,
    "start_time": "2023-09-15T22:40:34.554Z"
   },
   {
    "duration": 21,
    "start_time": "2023-09-15T22:40:34.567Z"
   },
   {
    "duration": 127361,
    "start_time": "2023-09-15T22:40:34.590Z"
   },
   {
    "duration": 17032,
    "start_time": "2023-09-15T22:42:41.954Z"
   },
   {
    "duration": 130382,
    "start_time": "2023-09-15T22:42:58.988Z"
   },
   {
    "duration": 52367,
    "start_time": "2023-09-15T22:45:09.460Z"
   },
   {
    "duration": 53780,
    "start_time": "2023-09-15T22:46:01.830Z"
   },
   {
    "duration": 17,
    "start_time": "2023-09-15T22:46:55.612Z"
   },
   {
    "duration": 21,
    "start_time": "2023-09-15T22:46:55.631Z"
   },
   {
    "duration": 38,
    "start_time": "2023-09-15T22:46:55.655Z"
   },
   {
    "duration": 11,
    "start_time": "2023-09-15T22:46:55.696Z"
   },
   {
    "duration": 46,
    "start_time": "2023-09-15T22:46:55.709Z"
   },
   {
    "duration": 87,
    "start_time": "2023-09-15T22:46:55.757Z"
   },
   {
    "duration": 19,
    "start_time": "2023-09-15T22:46:55.847Z"
   },
   {
    "duration": 92,
    "start_time": "2023-09-15T22:46:55.869Z"
   },
   {
    "duration": 4,
    "start_time": "2023-09-15T22:46:55.963Z"
   },
   {
    "duration": 14,
    "start_time": "2023-09-15T22:47:46.758Z"
   },
   {
    "duration": 8,
    "start_time": "2023-09-15T22:48:12.517Z"
   },
   {
    "duration": 18,
    "start_time": "2023-09-15T22:48:52.210Z"
   },
   {
    "duration": 15,
    "start_time": "2023-09-15T22:49:06.085Z"
   },
   {
    "duration": 110,
    "start_time": "2023-09-15T22:51:40.496Z"
   },
   {
    "duration": 147,
    "start_time": "2023-09-15T22:51:57.292Z"
   },
   {
    "duration": 14,
    "start_time": "2023-09-15T22:53:16.566Z"
   },
   {
    "duration": 12,
    "start_time": "2023-09-15T22:54:55.630Z"
   }
  ],
  "kernelspec": {
   "display_name": "Python 3 (ipykernel)",
   "language": "python",
   "name": "python3"
  },
  "language_info": {
   "codemirror_mode": {
    "name": "ipython",
    "version": 3
   },
   "file_extension": ".py",
   "mimetype": "text/x-python",
   "name": "python",
   "nbconvert_exporter": "python",
   "pygments_lexer": "ipython3",
   "version": "3.9.5"
  },
  "toc": {
   "base_numbering": 1,
   "nav_menu": {},
   "number_sections": true,
   "sideBar": true,
   "skip_h1_title": true,
   "title_cell": "Содержание",
   "title_sidebar": "Contents",
   "toc_cell": true,
   "toc_position": {
    "height": "calc(100% - 180px)",
    "left": "10px",
    "top": "150px",
    "width": "375px"
   },
   "toc_section_display": true,
   "toc_window_display": true
  }
 },
 "nbformat": 4,
 "nbformat_minor": 2
}
